{
 "cells": [
  {
   "cell_type": "markdown",
   "id": "436dd4c1-5855-49fd-ae2c-cf5f4a7507d8",
   "metadata": {},
   "source": [
    "# 1. Homomorphic Encryption Basics\n",
    "\n",
    "**Note:** This notebook adapts [original material](https://github.com/OpenMined/TenSEAL) by the TenSEAL developers. \n",
    "\n",
    "Homomorphic Encryption (HE) enables **arithmetic computations to be performed on encrypted data**. Ideally, computations over encrypted data should correspond exactly to their unencrypted counterparts. The following diagram illustrates this concept over the addition of two numbers. \n",
    "\n",
    "<img id=\"he_diagram\" src=\"attachment:9f5302f0-1cfd-4880-bc57-e0592609ce44.png\" alt=\"Diagram\" style=\"width: 600px;\"/>\n",
    "\n",
    "In practice, **encrypted arithmetic operations may result in precision loss**, especially for floating point arithmetic. Privacy, precision, and computational tradeoffs are explored in this notebook.\n",
    "\n",
    "## 1.1 Data Types and Arithmetic Operations\n",
    "\n",
    "In general, **HE does not support all arithmetic computations**. Popular HE packages like [Microsoft's SEAL](https://github.com/microsoft/SEAL) implement limited arithmetic operations, namely **addition and multiplication** over integer and floating point values, from an algebraic point of view. \n",
    "\n",
    "In this series of notebooks, we will explore [OpenMined's TenSEAL](https://github.com/OpenMined/TenSEAL), a Python package for vector and tensor computations that extends SEAL.\n",
    "\n",
    "### 1.1.1 TenSEAL Data Types\n",
    "\n",
    "The following data types are used for arithmetic computations in TenSEAL:\n",
    "\n",
    "- **BFVVector** - for 1D integer arrays.\n",
    "- **CKKSVector** - for 1D float arrays.\n",
    "- **CKKSTensor** - for N-dimensional float arrays with support for reshaping and broadcasting.\n",
    "\n",
    "<img id=\"tenseal_datatypes\" src=\"attachment:ee2bd2b2-510c-441e-bf11-24e083cb0d3d.png\" alt=\"Diagram\" style=\"width: 600px;\"/>\n",
    "\n",
    "\n",
    "### 1.1.2 Encrypted Tensor Operations\n",
    "\n",
    "The following table enumerates standard arithmetic operations supported by TenSEAL's CKKSTensor objects.\n",
    "\n",
    "| Operation                    | Description                                                   |\n",
    "| --- | --- |\n",
    "| negate                       | Negate an encrypted tensor                                    |\n",
    "| square                       | Compute the square of an encrypted tensor                     |\n",
    "| power                        | Compute the power of an encrypted tensor                      |\n",
    "| add                          | Addition between two encrypted tensors                        |\n",
    "| add\\_plain                   | Addition between an encrypted tensor and a plain tensor       |\n",
    "| sub                          | Subtraction between two encrypted tensors                     |\n",
    "| sub\\_plain                   | Subtraction between an encrypted tensor and a plain tensor    |\n",
    "| **mul**                          | **Multiplication between two encrypted tensors**                  |\n",
    "| **mul\\_plain**                   | **Multiplication between an encrypted tensor and a plain tensor** |\n",
    "| dot                 | Dot product between two encrypted tensors                     |\n",
    "| dot\\_plain          | Dot product between an encrypted tensor and a plain tensor    |\n",
    "| **polyval**                      | **Polynomial evaluation with an encrypted tensor as variable**    |\n",
    "| **matmul**                | **Multiplication between an encrypted vector and a plain matrix** |\n",
    "| matmul\\_plain           | Encrypted matrix multiplication with plain vector             |\n",
    "\n",
    "\n",
    "As we can see, TenSEAL supports **mixed arithmetic operations** between unencrypted and encrypted tensors. This is very useful for applications in machine learning (ML). \n",
    "\n",
    "## 1.2 HE in Machine Learning\n",
    "\n",
    "In ML, there are serveral use cases for which encryption could improve security or privacy. These include:\n",
    "\n",
    "- **Encrypted Inference**\n",
    "- Encrypted Model Training\n",
    "- Secure Computation as Part of Other PETs\n",
    "\n",
    "Since our focus is on PETs for neural networks, we need support for precise floating point arithmetic. Before exploring encrypted ML using a multi-layer perceptron (MLP) model for breast cancer risk prediction (see [HE_Private_MLP.ipynb](HE_Private_MLP.ipynb)), let's first explore the use of TenSEAL for basic encrypted arithmetic."
   ]
  },
  {
   "cell_type": "markdown",
   "id": "df240344-70f8-4c18-bc88-b793a3e01fa3",
   "metadata": {},
   "source": [
    "# 2 Floating Point Arithmetic in TenSEAL\n",
    "\n",
    "In order to use TenSEAL properly, it is important to understand its core encryption object and parameters.\n",
    "\n",
    "## 2.1 Theory: CKKS scheme\n",
    "\n",
    "**Cheon-Kim-Kim-Song (CKKS)** is a scheme for Leveled Homomorphic Encryption that supports approximate arithmetics over complex numbers (hence, real numbers).\n",
    " \n",
    "A high-level overview of the CKKS scheme is presented in the following diagram:\n",
    "\n",
    "<img src=\"https://blog.openmined.org/content/images/2020/08/Cryptotree_diagrams-2.svg\" alt=\"ckks-high-level\" width=\"600\"/>\n",
    "\n",
    "\n",
    "## 2.2 CKKS Encryption Parameters\n",
    "\n",
    "#### Parameter 1: The scaling factor (global_scale)\n",
    "The first step of the CKKS encryption scheme is to encode a vector of real numbers into a plaintext polynomial.\n",
    "\n",
    "The **scaling factor** defines the encoding precision for the binary representation of numbers. Intuitively, we are talking about binary precision as pictured below:\n",
    "\n",
    "<img src=\"attachment:61553f50-9aa4-456a-a921-38e14aa99c4f.png\" alt=\"ckks-high-level\" width=\"400\"/>\n",
    "\n",
    "#### Parameter 2: The polynomial modulus degree (poly_modulus_degree)\n",
    "\n",
    "The polynomial modulus($N$ in the diagram) directly affects:\n",
    " - The number of coefficients in plaintext polynomials\n",
    " - The size of ciphertext elements\n",
    " - The computational performance of the scheme (bigger is worse)\n",
    " - The security level (bigger is better).\n",
    "\n",
    "In TenSEAL, as in Microsoft SEAL, **the degree of the polynomial modulus must be a power of 2**.\n",
    "\n",
    "#### Parameter 3: The coefficient modulus sizes (coeff_mod_bit_sizes)\n",
    "\n",
    "The last parameter required for the scheme is a list of binary sizes.\n",
    "Using this list, SEAL will generate a list of primes of those binary sizes, called the coefficient modulus($q$ in the diagram).\n",
    "\n",
    "The coefficient modulus directly affects:\n",
    " - The size of ciphertext elements\n",
    " - **The length of the list indicates the level of the scheme (or the number of encrypted multiplications supported)**.\n",
    " - The security level (bigger is worse).\n",
    " \n",
    "In TenSEAL, as in Microsoft SEAL, each of the prime numbers in the **coefficient modulus must be at most 60 bits and must be congruent to 1 modulo 2*poly_modulus_degree**.\n",
    "\n",
    "## 2.3 Specifying the Encryption Context"
   ]
  },
  {
   "cell_type": "code",
   "execution_count": 1,
   "id": "sought-thanksgiving",
   "metadata": {},
   "outputs": [],
   "source": [
    "# !pip install tenseal numpy pandas"
   ]
  },
  {
   "cell_type": "code",
   "execution_count": 1,
   "id": "8e8223cb-e99f-4a3a-b89c-47d40002be2b",
   "metadata": {},
   "outputs": [],
   "source": [
    "import tenseal as ts\n",
    "\n",
    "def create_context(\n",
    "    scheme=ts.SCHEME_TYPE.CKKS,\n",
    "    poly_modulus_degree = 2**13,\n",
    "    coeff_mod_bit_sizes=(60, 40, 40, 60),\n",
    "    global_scale=2**40\n",
    "):\n",
    "    \n",
    "    \"\"\"\n",
    "    Instantiate a TenSEAL context object. This object holds encryption parameters and keys\n",
    "    needed to support floating point computations. The parameter values here are taken from \n",
    "    the TenSEAL tutorials. \n",
    "    \"\"\"\n",
    "    \n",
    "    context = ts.context(\n",
    "        scheme=scheme,\n",
    "        poly_modulus_degree=poly_modulus_degree,\n",
    "        coeff_mod_bit_sizes=list(coeff_mod_bit_sizes)\n",
    "    )\n",
    "    \n",
    "    context.global_scale = global_scale\n",
    "    context.generate_galois_keys()\n",
    "    return context\n",
    "\n",
    "context = create_context()"
   ]
  },
  {
   "cell_type": "markdown",
   "id": "f0490bd5-03da-495b-8abc-4ddab35fd502",
   "metadata": {},
   "source": [
    "## 2.4 Arithmetic Operations and Precision Loss"
   ]
  },
  {
   "cell_type": "code",
   "execution_count": 3,
   "id": "b886ad47-ff50-4fc2-946c-4e48ff1d2402",
   "metadata": {},
   "outputs": [],
   "source": [
    "import numpy as np\n",
    "\n",
    "v1 = np.array([1.1, 2.2, 3.3, 4.4])\n",
    "v2 = np.array([1, 1, 1, 1])\n",
    "\n",
    "v1_enc = ts.ckks_vector(context, v1)\n",
    "v2_enc = ts.ckks_vector(context, v2)"
   ]
  },
  {
   "cell_type": "markdown",
   "id": "308c7630-7bd0-49f8-90df-afa0a314ee73",
   "metadata": {},
   "source": [
    "#### Number of bytes used to encode vector"
   ]
  },
  {
   "cell_type": "code",
   "execution_count": 4,
   "id": "f6ea3266-3a42-4360-8a07-100bbedd7ea8",
   "metadata": {},
   "outputs": [
    {
     "data": {
      "text/plain": [
       "333977"
      ]
     },
     "execution_count": 4,
     "metadata": {},
     "output_type": "execute_result"
    }
   ],
   "source": [
    "v1_enc_bytes = v1_enc.serialize()\n",
    "len(v1_enc_bytes)"
   ]
  },
  {
   "cell_type": "markdown",
   "id": "a515e526-a260-4d81-9c20-db5047d314da",
   "metadata": {},
   "source": [
    "#### Decrypting an encrypted vector"
   ]
  },
  {
   "cell_type": "code",
   "execution_count": 5,
   "id": "c297f944-e87b-47b1-b684-87e1ad21a62b",
   "metadata": {},
   "outputs": [
    {
     "data": {
      "text/plain": [
       "[1.099999998931843, 2.20000000001645, 3.3000000000693777, 4.399999999157599]"
      ]
     },
     "execution_count": 5,
     "metadata": {},
     "output_type": "execute_result"
    }
   ],
   "source": [
    "v1_enc.decrypt()"
   ]
  },
  {
   "cell_type": "markdown",
   "id": "10a33ca8-8d40-4e33-ad88-e6735250ff52",
   "metadata": {},
   "source": [
    "#### Encrypted addition"
   ]
  },
  {
   "cell_type": "code",
   "execution_count": 6,
   "id": "826f0e97-1c69-44bf-89c0-6347dfb1c00c",
   "metadata": {},
   "outputs": [
    {
     "data": {
      "text/plain": [
       "[2.099999998793782, 3.1999999999552164, 4.2999999991103355, 5.399999999999387]"
      ]
     },
     "execution_count": 6,
     "metadata": {},
     "output_type": "execute_result"
    }
   ],
   "source": [
    "(v1_enc + v2_enc).decrypt()"
   ]
  },
  {
   "cell_type": "markdown",
   "id": "d7376316-793e-4d7e-a3e3-66c349c01116",
   "metadata": {},
   "source": [
    "#### Encrypted subtraction"
   ]
  },
  {
   "cell_type": "code",
   "execution_count": 7,
   "id": "73f2c54d-f93d-4a4e-9157-55b93d03bf33",
   "metadata": {},
   "outputs": [
    {
     "data": {
      "text/plain": [
       "[0.09999999906990398,\n",
       " 1.2000000000776805,\n",
       " 2.300000001028421,\n",
       " 3.3999999983158102]"
      ]
     },
     "execution_count": 7,
     "metadata": {},
     "output_type": "execute_result"
    }
   ],
   "source": [
    "(v1_enc - v2_enc).decrypt()"
   ]
  },
  {
   "cell_type": "markdown",
   "id": "48f801e9-d93f-4bfc-9c88-900634765631",
   "metadata": {},
   "source": [
    "#### Encrypted Multiplication"
   ]
  },
  {
   "cell_type": "code",
   "execution_count": 8,
   "id": "e1aca5cb-4067-4b2a-aa22-a62b58db7ec2",
   "metadata": {},
   "outputs": [
    {
     "data": {
      "text/plain": [
       "[1.0000001337953732, 1.0000001339639197, 1.000000132689093, 1.000000134822734]"
      ]
     },
     "execution_count": 8,
     "metadata": {},
     "output_type": "execute_result"
    }
   ],
   "source": [
    "(v2_enc * v2_enc).decrypt()"
   ]
  },
  {
   "cell_type": "markdown",
   "id": "5b0b8d40-cec6-4cbe-a260-f42845b7f82b",
   "metadata": {},
   "source": [
    "#### Multiplications require larger encryption parameters"
   ]
  },
  {
   "cell_type": "code",
   "execution_count": 9,
   "id": "75248e95-044f-44ea-a4c6-fe2e4cce1666",
   "metadata": {},
   "outputs": [
    {
     "name": "stdout",
     "output_type": "stream",
     "text": [
      "[1.0000014295309152, 1.0000014311199772, 1.0000014253938443, 1.0000014354292563]\n",
      "[1.0000046177867277, 1.0000046195246841, 1.0000046098427324, 1.0000046191822405]\n",
      "[1.0000114080268743, 1.000011411336221, 1.0000114026988691, 1.0000114246883476]\n",
      "[1.0000211521224103, 1.0000211582574114, 1.0000211463770825, 1.0000211639858825]\n"
     ]
    }
   ],
   "source": [
    "context = create_context(poly_modulus_degree=2**14, coeff_mod_bit_sizes=(60, 40, 40, 40, 40, 40, 40, 40, 60))\n",
    "\n",
    "v2_enc = ts.ckks_vector(context, v2)\n",
    "\n",
    "print((v2_enc * v2_enc).decrypt())\n",
    "print((v2_enc * v2_enc * v2_enc).decrypt())\n",
    "print((v2_enc * v2_enc * v2_enc * v2_enc).decrypt())\n",
    "print((v2_enc * v2_enc * v2_enc * v2_enc * v2_enc).decrypt())"
   ]
  },
  {
   "cell_type": "code",
   "execution_count": null,
   "id": "89c94108-e5f3-44f0-bb65-96af14e61e15",
   "metadata": {},
   "outputs": [],
   "source": []
  }
 ],
 "metadata": {
  "kernelspec": {
   "display_name": "Python (pets)",
   "language": "python",
   "name": "pets"
  },
  "language_info": {
   "codemirror_mode": {
    "name": "ipython",
    "version": 3
   },
   "file_extension": ".py",
   "mimetype": "text/x-python",
   "name": "python",
   "nbconvert_exporter": "python",
   "pygments_lexer": "ipython3",
   "version": "3.8.12"
  }
 },
 "nbformat": 4,
 "nbformat_minor": 5
}
