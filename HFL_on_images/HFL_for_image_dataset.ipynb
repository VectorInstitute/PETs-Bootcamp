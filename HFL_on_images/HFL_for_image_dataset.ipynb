{
 "cells": [
  {
   "cell_type": "markdown",
   "metadata": {
    "id": "8nE0tDBgUdU0"
   },
   "source": [
    "# Outline:\n",
    "\n",
    "\n",
    "This notebook discusses applying Horizontal Federated Learning (HFL) using TensorFlow Federated on image datasets which include the following steps: \n",
    "\n",
    "*   Tensorflow Federated dataset\n",
    "*   Tensorflow Federated model\n",
    "*   Tensorflow Federated computations for initialization train and validation\n"
   ]
  },
  {
   "cell_type": "markdown",
   "metadata": {
    "id": "23kgcnC82Ya9"
   },
   "source": [
    "## Usage:\n",
    "\n",
    "To use this notebook, you need to create your dataset as a dictionary where the keys are client IDs and values are the associated image/ label datasets. More precisely, each key is a client ID, and each value is a tuple of NumPy arrays for images and their associated one-hot encoded labels. Note that we assume the images in NumPy arrays are already preprocessed.\n",
    "\n",
    "After having your data ready in the mentioned format, all you need is to specify the \"**path**\" variable to be the path to the dictionary file (images/labels from different clients).\n"
   ]
  },
  {
   "cell_type": "markdown",
   "metadata": {
    "id": "OJnPZ4eR_GNl"
   },
   "source": [
    "### Installation of packages"
   ]
  },
  {
   "cell_type": "code",
   "execution_count": 1,
   "metadata": {
    "colab": {
     "base_uri": "https://localhost:8080/"
    },
    "id": "UzCd7INb1JeI",
    "outputId": "db10eb8f-61f7-47b8-a61c-a72edf533ff0"
   },
   "outputs": [],
   "source": [
    "# !pip install tensorflow-federated==0.18\n",
    "# !pip install nest_asyncio\n"
   ]
  },
  {
   "cell_type": "markdown",
   "metadata": {
    "id": "NxQ0kI1k_cS2"
   },
   "source": [
    "### Importing Required Packages:"
   ]
  },
  {
   "cell_type": "code",
   "execution_count": 1,
   "metadata": {
    "id": "c5RzkuLS9mWe"
   },
   "outputs": [
    {
     "name": "stderr",
     "output_type": "stream",
     "text": [
      "2021-11-01 09:22:41.258295: W tensorflow/stream_executor/platform/default/dso_loader.cc:64] Could not load dynamic library 'libcudart.so.11.0'; dlerror: libcudart.so.11.0: cannot open shared object file: No such file or directory\n",
      "2021-11-01 09:22:41.258328: I tensorflow/stream_executor/cuda/cudart_stub.cc:29] Ignore above cudart dlerror if you do not have a GPU set up on your machine.\n"
     ]
    }
   ],
   "source": [
    "import nest_asyncio\n",
    "nest_asyncio.apply()\n",
    "import glob\n",
    "import pandas as pd\n",
    "import os\n",
    "import numpy as np\n",
    "import matplotlib.pyplot as plt\n",
    "\n",
    "import collections\n",
    "import tensorflow as tf\n",
    "import tensorflow_federated as tff\n",
    "\n",
    "\n",
    "from tensorflow import keras\n",
    "from tensorflow.keras import layers\n",
    "from tensorflow.keras.models import Sequential\n",
    "from tensorflow.keras.layers import Dense, GlobalAveragePooling2D\n",
    "from tensorflow.keras.models import Model\n",
    "from tensorflow.keras.optimizers import SGD"
   ]
  },
  {
   "cell_type": "code",
   "execution_count": 2,
   "metadata": {
    "id": "W0HdJosL87Ol"
   },
   "outputs": [
    {
     "ename": "FileNotFoundError",
     "evalue": "[Errno 2] No such file or directory: ''",
     "output_type": "error",
     "traceback": [
      "\u001b[0;31m---------------------------------------------------------------------------\u001b[0m",
      "\u001b[0;31mFileNotFoundError\u001b[0m                         Traceback (most recent call last)",
      "\u001b[0;32m/tmp/ipykernel_16005/2361712637.py\u001b[0m in \u001b[0;36m<module>\u001b[0;34m\u001b[0m\n\u001b[1;32m      2\u001b[0m \u001b[0mpath\u001b[0m\u001b[0;34m=\u001b[0m\u001b[0;34m''\u001b[0m\u001b[0;34m\u001b[0m\u001b[0;34m\u001b[0m\u001b[0m\n\u001b[1;32m      3\u001b[0m \u001b[0;34m\u001b[0m\u001b[0m\n\u001b[0;32m----> 4\u001b[0;31m \u001b[0mdata\u001b[0m\u001b[0;34m=\u001b[0m\u001b[0mnp\u001b[0m\u001b[0;34m.\u001b[0m\u001b[0mload\u001b[0m\u001b[0;34m(\u001b[0m\u001b[0mpath\u001b[0m\u001b[0;34m,\u001b[0m\u001b[0mallow_pickle\u001b[0m\u001b[0;34m=\u001b[0m\u001b[0;34m'TRUE'\u001b[0m\u001b[0;34m)\u001b[0m\u001b[0;34m.\u001b[0m\u001b[0mitem\u001b[0m\u001b[0;34m(\u001b[0m\u001b[0;34m)\u001b[0m \u001b[0;31m# data[0] return the image-lable tuple for hospital number 0\u001b[0m\u001b[0;34m\u001b[0m\u001b[0;34m\u001b[0m\u001b[0m\n\u001b[0m",
      "\u001b[0;32m~/.conda/envs/tff_test_4/lib/python3.8/site-packages/numpy/lib/npyio.py\u001b[0m in \u001b[0;36mload\u001b[0;34m(file, mmap_mode, allow_pickle, fix_imports, encoding)\u001b[0m\n\u001b[1;32m    414\u001b[0m             \u001b[0mown_fid\u001b[0m \u001b[0;34m=\u001b[0m \u001b[0;32mFalse\u001b[0m\u001b[0;34m\u001b[0m\u001b[0;34m\u001b[0m\u001b[0m\n\u001b[1;32m    415\u001b[0m         \u001b[0;32melse\u001b[0m\u001b[0;34m:\u001b[0m\u001b[0;34m\u001b[0m\u001b[0;34m\u001b[0m\u001b[0m\n\u001b[0;32m--> 416\u001b[0;31m             \u001b[0mfid\u001b[0m \u001b[0;34m=\u001b[0m \u001b[0mstack\u001b[0m\u001b[0;34m.\u001b[0m\u001b[0menter_context\u001b[0m\u001b[0;34m(\u001b[0m\u001b[0mopen\u001b[0m\u001b[0;34m(\u001b[0m\u001b[0mos_fspath\u001b[0m\u001b[0;34m(\u001b[0m\u001b[0mfile\u001b[0m\u001b[0;34m)\u001b[0m\u001b[0;34m,\u001b[0m \u001b[0;34m\"rb\"\u001b[0m\u001b[0;34m)\u001b[0m\u001b[0;34m)\u001b[0m\u001b[0;34m\u001b[0m\u001b[0;34m\u001b[0m\u001b[0m\n\u001b[0m\u001b[1;32m    417\u001b[0m             \u001b[0mown_fid\u001b[0m \u001b[0;34m=\u001b[0m \u001b[0;32mTrue\u001b[0m\u001b[0;34m\u001b[0m\u001b[0;34m\u001b[0m\u001b[0m\n\u001b[1;32m    418\u001b[0m \u001b[0;34m\u001b[0m\u001b[0m\n",
      "\u001b[0;31mFileNotFoundError\u001b[0m: [Errno 2] No such file or directory: ''"
     ]
    }
   ],
   "source": [
    "# Base path to the data dictionary\n",
    "path=''\n",
    "\n",
    "data=np.load(path,allow_pickle='TRUE').item() # data[0] return the image-lable tuple for hospital number 0\n"
   ]
  },
  {
   "cell_type": "markdown",
   "metadata": {
    "id": "BJNZpgarAmNX"
   },
   "source": [
    "## Creating Federated Data:\n",
    "The function `tff.simulation.ClientData.from_clients_and_fn`, requires that we write a function that accepts a `client_id` as input and returns a `tf.data.Dataset`. Let's do that in the helper function below: "
   ]
  },
  {
   "cell_type": "code",
   "execution_count": null,
   "metadata": {
    "id": "HnfZB3Sr-iaA"
   },
   "outputs": [],
   "source": [
    "\n",
    "batch_size=64\n",
    "SHUFFLE_BUFFER=128\n",
    "def create_tf_dataset_for_client_fn(client_id):\n",
    "    client_data = data[client_id]\n",
    "    dataset=tf.data.Dataset.from_tensor_slices((client_data[0], client_data[1])).prefetch(buffer_size=128)  #client_data[0] is images,   client_data[1] is labels\n",
    "    dataset=dataset.shuffle(2000, reshuffle_each_iteration=True).batch(batch_size)\n",
    "    \n",
    "    return dataset\n"
   ]
  },
  {
   "cell_type": "markdown",
   "metadata": {
    "id": "nN5tCuoIFH8u"
   },
   "source": [
    "Now, let's create the training and testing federated data. To this end, we specify the `train_client_ids` and `test_client_ids` which contain the IDs of train and test clients:"
   ]
  },
  {
   "cell_type": "code",
   "execution_count": null,
   "metadata": {
    "id": "4FymhW7t-uKi"
   },
   "outputs": [],
   "source": [
    "# IDs for train and test clients. For example:\n",
    "#train_client_ids=[0,2,3]\n",
    "#test_client_ids=[1]\n",
    "\n",
    "\n",
    "# specify the train and test clients based on their IDs:\n",
    "train_client_ids=[]  \n",
    "test_client_ids=[]\n",
    "\n",
    "\n",
    "train_data = tff.simulation.ClientData.from_clients_and_fn(client_ids=train_client_ids,   create_tf_dataset_for_client_fn=create_tf_dataset_for_client_fn)\n",
    "test_data = tff.simulation.ClientData.from_clients_and_fn(\n",
    "        client_ids=test_client_ids,\n",
    "        create_tf_dataset_for_client_fn=create_tf_dataset_for_client_fn)\n",
    "\n",
    "\n"
   ]
  },
  {
   "cell_type": "markdown",
   "metadata": {
    "id": "xTbwCJ7uHF92"
   },
   "source": [
    "Let's see number of the clients for training federated data and also the sructure of data:"
   ]
  },
  {
   "cell_type": "code",
   "execution_count": null,
   "metadata": {
    "colab": {
     "base_uri": "https://localhost:8080/"
    },
    "id": "GQ1Qf20rQGg2",
    "outputId": "4177f0b4-57bb-45eb-b21b-b471998430d1"
   },
   "outputs": [
    {
     "data": {
      "text/plain": [
       "3"
      ]
     },
     "execution_count": 9,
     "metadata": {},
     "output_type": "execute_result"
    }
   ],
   "source": [
    "len(train_data.client_ids)"
   ]
  },
  {
   "cell_type": "code",
   "execution_count": null,
   "metadata": {
    "colab": {
     "base_uri": "https://localhost:8080/"
    },
    "id": "a_Oi4uxgQMJ_",
    "outputId": "0a2fadd3-7ed0-48a5-cb62-9a522efedb65"
   },
   "outputs": [
    {
     "data": {
      "text/plain": [
       "(TensorSpec(shape=(None, 224, 224, 3), dtype=tf.float16, name=None),\n",
       " TensorSpec(shape=(None, 3), dtype=tf.float64, name=None))"
      ]
     },
     "execution_count": 10,
     "metadata": {},
     "output_type": "execute_result"
    }
   ],
   "source": [
    "train_data.element_type_structure"
   ]
  },
  {
   "cell_type": "markdown",
   "metadata": {
    "id": "Z1nbpGYuGsKX"
   },
   "source": [
    "To see exactly how one batch od data look like we create the following example dataset from one the client ids of train federated data:"
   ]
  },
  {
   "cell_type": "code",
   "execution_count": null,
   "metadata": {
    "colab": {
     "base_uri": "https://localhost:8080/"
    },
    "id": "zgW8MDejGRQ3",
    "outputId": "ebf3de5d-a626-4a68-f6dc-51f1a30186fa"
   },
   "outputs": [
    {
     "name": "stdout",
     "output_type": "stream",
     "text": [
      "(<tf.Tensor: shape=(64, 224, 224, 3), dtype=float16, numpy=\n",
      "array([[[[0.5566 , 0.3882 , 0.706  ],\n",
      "         [0.502  , 0.3333 , 0.651  ],\n",
      "         [0.4707 , 0.298  , 0.6235 ],\n",
      "         ...,\n",
      "         [0.5215 , 0.2864 , 0.682  ],\n",
      "         [0.541  , 0.2825 , 0.6943 ],\n",
      "         [0.5884 , 0.3215 , 0.741  ]],\n",
      "\n",
      "        [[0.6665 , 0.4941 , 0.82   ],\n",
      "         [0.5923 , 0.4197 , 0.745  ],\n",
      "         [0.5176 , 0.3452 , 0.6704 ],\n",
      "         ...,\n",
      "         [0.537  , 0.3098 , 0.682  ],\n",
      "         [0.5527 , 0.302  , 0.6904 ],\n",
      "         [0.5884 , 0.3293 , 0.7256 ]],\n",
      "\n",
      "        [[0.6904 , 0.5254 , 0.859  ],\n",
      "         [0.6313 , 0.4666 , 0.8    ],\n",
      "         [0.545  , 0.3804 , 0.714  ],\n",
      "         ...,\n",
      "         [0.5254 , 0.3137 , 0.639  ],\n",
      "         [0.5254 , 0.302  , 0.6353 ],\n",
      "         [0.545  , 0.3098 , 0.655  ]],\n",
      "\n",
      "        ...,\n",
      "\n",
      "        [[0.655  , 0.4824 , 0.8394 ],\n",
      "         [0.6157 , 0.443  , 0.792  ],\n",
      "         [0.5923 , 0.4197 , 0.7686 ],\n",
      "         ...,\n",
      "         [0.4236 , 0.2354 , 0.5566 ],\n",
      "         [0.4548 , 0.2744 , 0.6    ],\n",
      "         [0.4626 , 0.2864 , 0.6235 ]],\n",
      "\n",
      "        [[0.682  , 0.506  , 0.8706 ],\n",
      "         [0.6743 , 0.502  , 0.859  ],\n",
      "         [0.651  , 0.4785 , 0.8276 ],\n",
      "         ...,\n",
      "         [0.4314 , 0.2432 , 0.565  ],\n",
      "         [0.4785 , 0.298  , 0.6235 ],\n",
      "         [0.506  , 0.3254 , 0.651  ]],\n",
      "\n",
      "        [[0.549  , 0.3726 , 0.7373 ],\n",
      "         [0.6196 , 0.447  , 0.8037 ],\n",
      "         [0.651  , 0.4785 , 0.8354 ],\n",
      "         ...,\n",
      "         [0.4666 , 0.2825 , 0.5923 ],\n",
      "         [0.541  , 0.349  , 0.678  ],\n",
      "         [0.5728 , 0.392  , 0.718  ]]],\n",
      "\n",
      "\n",
      "       [[[0.757  , 0.6313 , 0.9414 ],\n",
      "         [0.7725 , 0.647  , 0.957  ],\n",
      "         [0.686  , 0.5605 , 0.8706 ],\n",
      "         ...,\n",
      "         [0.8706 , 0.8823 , 0.898  ],\n",
      "         [0.851  , 0.863  , 0.8784 ],\n",
      "         [0.8394 , 0.851  , 0.8667 ]],\n",
      "\n",
      "        [[0.678  , 0.5527 , 0.863  ],\n",
      "         [0.7217 , 0.596  , 0.906  ],\n",
      "         [0.686  , 0.5605 , 0.8706 ],\n",
      "         ...,\n",
      "         [0.8784 , 0.89   , 0.906  ],\n",
      "         [0.863  , 0.8745 , 0.89   ],\n",
      "         [0.851  , 0.863  , 0.8784 ]],\n",
      "\n",
      "        [[0.714  , 0.5884 , 0.898  ],\n",
      "         [0.7334 , 0.608  , 0.9175 ],\n",
      "         [0.706  , 0.5806 , 0.89   ],\n",
      "         ...,\n",
      "         [0.898  , 0.902  , 0.9175 ],\n",
      "         [0.886  , 0.89   , 0.906  ],\n",
      "         [0.8784 , 0.8823 , 0.898  ]],\n",
      "\n",
      "        ...,\n",
      "\n",
      "        [[0.643  , 0.4863 , 0.886  ],\n",
      "         [0.639  , 0.4824 , 0.8823 ],\n",
      "         [0.6313 , 0.4746 , 0.8706 ],\n",
      "         ...,\n",
      "         [0.698  , 0.5605 , 0.898  ],\n",
      "         [0.682  , 0.545  , 0.886  ],\n",
      "         [0.686  , 0.549  , 0.89   ]],\n",
      "\n",
      "        [[0.6353 , 0.4785 , 0.8784 ],\n",
      "         [0.647  , 0.4902 , 0.89   ],\n",
      "         [0.647  , 0.4902 , 0.886  ],\n",
      "         ...,\n",
      "         [0.686  , 0.549  , 0.886  ],\n",
      "         [0.682  , 0.545  , 0.886  ],\n",
      "         [0.702  , 0.5605 , 0.9136 ]],\n",
      "\n",
      "        [[0.6196 , 0.4626 , 0.863  ],\n",
      "         [0.643  , 0.4863 , 0.886  ],\n",
      "         [0.655  , 0.498  , 0.894  ],\n",
      "         ...,\n",
      "         [0.643  , 0.506  , 0.8433 ],\n",
      "         [0.647  , 0.506  , 0.859  ],\n",
      "         [0.682  , 0.541  , 0.894  ]]],\n",
      "\n",
      "\n",
      "       [[[0.408  , 0.2313 , 0.4    ],\n",
      "         [0.4236 , 0.2432 , 0.4236 ],\n",
      "         [0.4666 , 0.2627 , 0.4746 ],\n",
      "         ...,\n",
      "         [0.251  , 0.1569 , 0.3843 ],\n",
      "         [0.396  , 0.2825 , 0.5923 ],\n",
      "         [0.3137 , 0.1882 , 0.5293 ]],\n",
      "\n",
      "        [[0.4392 , 0.2666 , 0.451  ],\n",
      "         [0.4392 , 0.255  , 0.447  ],\n",
      "         [0.4353 , 0.2354 , 0.4587 ],\n",
      "         ...,\n",
      "         [0.2903 , 0.204  , 0.4353 ],\n",
      "         [0.3452 , 0.2432 , 0.549  ],\n",
      "         [0.3176 , 0.204  , 0.541  ]],\n",
      "\n",
      "        [[0.506  , 0.3333 , 0.541  ],\n",
      "         [0.4785 , 0.302  , 0.5254 ],\n",
      "         [0.447  , 0.255  , 0.498  ],\n",
      "         ...,\n",
      "         [0.2744 , 0.2    , 0.447  ],\n",
      "         [0.255  , 0.1686 , 0.4785 ],\n",
      "         [0.3137 , 0.2157 , 0.5605 ]],\n",
      "\n",
      "        ...,\n",
      "\n",
      "        [[0.498  , 0.3254 , 0.6904 ],\n",
      "         [0.5176 , 0.349  , 0.706  ],\n",
      "         [0.4863 , 0.3137 , 0.6704 ],\n",
      "         ...,\n",
      "         [0.353  , 0.1882 , 0.443  ],\n",
      "         [0.3333 , 0.1608 , 0.4    ],\n",
      "         [0.3293 , 0.153  , 0.3765 ]],\n",
      "\n",
      "        [[0.4666 , 0.306  , 0.6665 ],\n",
      "         [0.4824 , 0.3215 , 0.678  ],\n",
      "         [0.451  , 0.2825 , 0.639  ],\n",
      "         ...,\n",
      "         [0.2783 , 0.1216 , 0.3098 ],\n",
      "         [0.306  , 0.1372 , 0.306  ],\n",
      "         [0.3372 , 0.1765 , 0.3254 ]],\n",
      "\n",
      "        [[0.443  , 0.2825 , 0.643  ],\n",
      "         [0.4587 , 0.298  , 0.655  ],\n",
      "         [0.4392 , 0.2705 , 0.6274 ],\n",
      "         ...,\n",
      "         [0.2196 , 0.06274, 0.2235 ],\n",
      "         [0.302  , 0.1451 , 0.2825 ],\n",
      "         [0.392  , 0.2313 , 0.353  ]]],\n",
      "\n",
      "\n",
      "       ...,\n",
      "\n",
      "\n",
      "       [[[0.702  , 0.3882 , 0.5728 ],\n",
      "         [0.5566 , 0.2864 , 0.4548 ],\n",
      "         [0.596  , 0.4119 , 0.541  ],\n",
      "         ...,\n",
      "         [0.8667 , 0.784  , 0.9097 ],\n",
      "         [0.863  , 0.7607 , 0.902  ],\n",
      "         [0.8276 , 0.718  , 0.859  ]],\n",
      "\n",
      "        [[0.6587 , 0.3726 , 0.5527 ],\n",
      "         [0.533  , 0.2744 , 0.4392 ],\n",
      "         [0.565  , 0.3804 , 0.51   ],\n",
      "         ...,\n",
      "         [0.7646 , 0.682  , 0.8076 ],\n",
      "         [0.745  , 0.643  , 0.784  ],\n",
      "         [0.757  , 0.647  , 0.788  ]],\n",
      "\n",
      "        [[0.5845 , 0.3372 , 0.51   ],\n",
      "         [0.4666 , 0.2393 , 0.4    ],\n",
      "         [0.4785 , 0.2825 , 0.4158 ],\n",
      "         ...,\n",
      "         [0.651  , 0.5605 , 0.686  ],\n",
      "         [0.682  , 0.5806 , 0.7217 ],\n",
      "         [0.7725 , 0.6626 , 0.8037 ]],\n",
      "\n",
      "        ...,\n",
      "\n",
      "        [[0.51   , 0.306  , 0.4941 ],\n",
      "         [0.545  , 0.341  , 0.5293 ],\n",
      "         [0.5176 , 0.3176 , 0.5137 ],\n",
      "         ...,\n",
      "         [0.5806 , 0.408  , 0.569  ],\n",
      "         [0.6196 , 0.447  , 0.608  ],\n",
      "         [0.682  , 0.51   , 0.6626 ]],\n",
      "\n",
      "        [[0.5845 , 0.3804 , 0.569  ],\n",
      "         [0.596  , 0.392  , 0.5806 ],\n",
      "         [0.5254 , 0.3293 , 0.5176 ],\n",
      "         ...,\n",
      "         [0.655  , 0.4824 , 0.6353 ],\n",
      "         [0.757  , 0.5806 , 0.7334 ],\n",
      "         [0.851  , 0.678  , 0.8237 ]],\n",
      "\n",
      "        [[0.682  , 0.4785 , 0.6665 ],\n",
      "         [0.6626 , 0.4587 , 0.647  ],\n",
      "         [0.5527 , 0.357  , 0.545  ],\n",
      "         ...,\n",
      "         [0.639  , 0.4666 , 0.6196 ],\n",
      "         [0.8115 , 0.639  , 0.784  ],\n",
      "         [0.886  , 0.714  , 0.859  ]]],\n",
      "\n",
      "\n",
      "       [[[0.306  , 0.2274 , 0.51   ],\n",
      "         [0.3137 , 0.2    , 0.4863 ],\n",
      "         [0.3765 , 0.196  , 0.4941 ],\n",
      "         ...,\n",
      "         [0.682  , 0.533  , 0.7295 ],\n",
      "         [0.6743 , 0.51   , 0.698  ],\n",
      "         [0.5527 , 0.3882 , 0.5767 ]],\n",
      "\n",
      "        [[0.3804 , 0.2705 , 0.545  ],\n",
      "         [0.3608 , 0.2274 , 0.502  ],\n",
      "         [0.3765 , 0.196  , 0.4824 ],\n",
      "         ...,\n",
      "         [0.4666 , 0.3215 , 0.5176 ],\n",
      "         [0.3647 , 0.2196 , 0.4158 ],\n",
      "         [0.2783 , 0.1294 , 0.3254 ]],\n",
      "\n",
      "        [[0.3843 , 0.2235 , 0.4863 ],\n",
      "         [0.396  , 0.2274 , 0.4824 ],\n",
      "         [0.4158 , 0.2157 , 0.4824 ],\n",
      "         ...,\n",
      "         [0.396  , 0.2783 , 0.4863 ],\n",
      "         [0.2744 , 0.1569 , 0.3647 ],\n",
      "         [0.2393 , 0.1255 , 0.3215 ]],\n",
      "\n",
      "        ...,\n",
      "\n",
      "        [[0.5176 , 0.3254 , 0.545  ],\n",
      "         [0.6    , 0.4119 , 0.6157 ],\n",
      "         [0.443  , 0.251  , 0.4236 ],\n",
      "         ...,\n",
      "         [0.5254 , 0.3254 , 0.4746 ],\n",
      "         [0.4941 , 0.2942 , 0.443  ],\n",
      "         [0.4902 , 0.2903 , 0.4353 ]],\n",
      "\n",
      "        [[0.396  , 0.2079 , 0.4353 ],\n",
      "         [0.506  , 0.3254 , 0.533  ],\n",
      "         [0.4236 , 0.2393 , 0.4197 ],\n",
      "         ...,\n",
      "         [0.5728 , 0.396  , 0.549  ],\n",
      "         [0.4941 , 0.3176 , 0.4707 ],\n",
      "         [0.408  , 0.2354 , 0.3804 ]],\n",
      "\n",
      "        [[0.2666 , 0.0902 , 0.3137 ],\n",
      "         [0.4158 , 0.2354 , 0.443  ],\n",
      "         [0.4    , 0.2196 , 0.4    ],\n",
      "         ...,\n",
      "         [0.6274 , 0.4548 , 0.608  ],\n",
      "         [0.545  , 0.3726 , 0.5254 ],\n",
      "         [0.4353 , 0.2627 , 0.4158 ]]],\n",
      "\n",
      "\n",
      "       [[[0.8394 , 0.8076 , 0.8745 ],\n",
      "         [0.859  , 0.8276 , 0.894  ],\n",
      "         [0.89   , 0.863  , 0.9214 ],\n",
      "         ...,\n",
      "         [0.6704 , 0.4902 , 0.604  ],\n",
      "         [0.612  , 0.4119 , 0.5215 ],\n",
      "         [0.5527 , 0.3372 , 0.443  ]],\n",
      "\n",
      "        [[0.8784 , 0.847  , 0.9136 ],\n",
      "         [0.894  , 0.863  , 0.929  ],\n",
      "         [0.902  , 0.8745 , 0.933  ],\n",
      "         ...,\n",
      "         [0.6157 , 0.4353 , 0.5767 ],\n",
      "         [0.5605 , 0.353  , 0.4824 ],\n",
      "         [0.549  , 0.3372 , 0.4548 ]],\n",
      "\n",
      "        [[0.792  , 0.7646 , 0.8237 ],\n",
      "         [0.8276 , 0.8    , 0.859  ],\n",
      "         [0.847  , 0.82   , 0.8784 ],\n",
      "         ...,\n",
      "         [0.655  , 0.4746 , 0.643  ],\n",
      "         [0.6    , 0.392  , 0.5605 ],\n",
      "         [0.6    , 0.3804 , 0.541  ]],\n",
      "\n",
      "        ...,\n",
      "\n",
      "        [[0.6157 , 0.3608 , 0.447  ],\n",
      "         [0.5137 , 0.2666 , 0.3452 ],\n",
      "         [0.443  , 0.2    , 0.2864 ],\n",
      "         ...,\n",
      "         [0.4119 , 0.1843 , 0.396  ],\n",
      "         [0.4197 , 0.1882 , 0.3882 ],\n",
      "         [0.4275 , 0.196  , 0.396  ]],\n",
      "\n",
      "        [[0.718  , 0.5137 , 0.604  ],\n",
      "         [0.6704 , 0.4626 , 0.541  ],\n",
      "         [0.6353 , 0.392  , 0.4863 ],\n",
      "         ...,\n",
      "         [0.4158 , 0.1843 , 0.3843 ],\n",
      "         [0.4197 , 0.1765 , 0.3804 ],\n",
      "         [0.4    , 0.1569 , 0.3608 ]],\n",
      "\n",
      "        [[0.7295 , 0.5605 , 0.643  ],\n",
      "         [0.7725 , 0.5806 , 0.6665 ],\n",
      "         [0.8    , 0.5566 , 0.651  ],\n",
      "         ...,\n",
      "         [0.4275 , 0.1843 , 0.3882 ],\n",
      "         [0.4353 , 0.1843 , 0.3882 ],\n",
      "         [0.408  , 0.1569 , 0.3608 ]]]], dtype=float16)>, <tf.Tensor: shape=(64, 3), dtype=float64, numpy=\n",
      "array([[1., 0., 0.],\n",
      "       [0., 1., 0.],\n",
      "       [0., 0., 1.],\n",
      "       [1., 0., 0.],\n",
      "       [0., 1., 0.],\n",
      "       [0., 1., 0.],\n",
      "       [1., 0., 0.],\n",
      "       [1., 0., 0.],\n",
      "       [1., 0., 0.],\n",
      "       [1., 0., 0.],\n",
      "       [1., 0., 0.],\n",
      "       [0., 1., 0.],\n",
      "       [0., 0., 1.],\n",
      "       [0., 0., 1.],\n",
      "       [0., 0., 1.],\n",
      "       [0., 0., 1.],\n",
      "       [0., 0., 1.],\n",
      "       [0., 0., 1.],\n",
      "       [0., 1., 0.],\n",
      "       [0., 1., 0.],\n",
      "       [0., 1., 0.],\n",
      "       [0., 1., 0.],\n",
      "       [0., 1., 0.],\n",
      "       [0., 0., 1.],\n",
      "       [0., 0., 1.],\n",
      "       [0., 0., 1.],\n",
      "       [0., 0., 1.],\n",
      "       [0., 1., 0.],\n",
      "       [0., 1., 0.],\n",
      "       [1., 0., 0.],\n",
      "       [0., 0., 1.],\n",
      "       [0., 0., 1.],\n",
      "       [0., 0., 1.],\n",
      "       [0., 0., 1.],\n",
      "       [1., 0., 0.],\n",
      "       [0., 0., 1.],\n",
      "       [0., 0., 1.],\n",
      "       [1., 0., 0.],\n",
      "       [0., 1., 0.],\n",
      "       [1., 0., 0.],\n",
      "       [1., 0., 0.],\n",
      "       [0., 0., 1.],\n",
      "       [0., 0., 1.],\n",
      "       [0., 0., 1.],\n",
      "       [1., 0., 0.],\n",
      "       [0., 1., 0.],\n",
      "       [1., 0., 0.],\n",
      "       [1., 0., 0.],\n",
      "       [0., 0., 1.],\n",
      "       [1., 0., 0.],\n",
      "       [0., 1., 0.],\n",
      "       [1., 0., 0.],\n",
      "       [0., 0., 1.],\n",
      "       [0., 0., 1.],\n",
      "       [0., 0., 1.],\n",
      "       [0., 0., 1.],\n",
      "       [0., 1., 0.],\n",
      "       [0., 1., 0.],\n",
      "       [0., 1., 0.],\n",
      "       [0., 1., 0.],\n",
      "       [0., 0., 1.],\n",
      "       [0., 0., 1.],\n",
      "       [0., 1., 0.],\n",
      "       [0., 1., 0.]])>)\n"
     ]
    }
   ],
   "source": [
    "example_dataset = train_data.create_tf_dataset_for_client(\n",
    "        train_data.client_ids[0]\n",
    "    )\n",
    "#print(example_dataset)\n",
    "example_element = iter(example_dataset).next()\n",
    "print(example_element)"
   ]
  },
  {
   "cell_type": "markdown",
   "metadata": {
    "id": "G0RetA4YfIQL"
   },
   "source": [
    "We now have almost all the building blocks in place to construct federated datasets.\n",
    "\n",
    "One of the ways to feed federated data to TFF in a simulation is simply as a Python list, with each element of the list holding the data of an individual user, as a `tf.data.Dataset`. Since we already have an interface for that, let's use it.\n",
    "\n",
    "The helper function `make_federated_data` below will construct a list of datasets from the\n",
    "given set of users as an input to a round of training or evaluation."
   ]
  },
  {
   "cell_type": "code",
   "execution_count": null,
   "metadata": {
    "id": "uq8HOnoyQ-ss"
   },
   "outputs": [],
   "source": [
    "def make_federated_data(client_data, client_ids):\n",
    "    return [client_data.create_tf_dataset_for_client(x) for x in client_ids]"
   ]
  },
  {
   "cell_type": "code",
   "execution_count": null,
   "metadata": {
    "colab": {
     "base_uri": "https://localhost:8080/"
    },
    "id": "JrUw1guMj52E",
    "outputId": "13aa3dc2-549c-49ef-a4e6-76596698ad56"
   },
   "outputs": [
    {
     "name": "stdout",
     "output_type": "stream",
     "text": [
      "Number of client datasets: 3\n",
      "First dataset: <BatchDataset shapes: ((None, 224, 224, 3), (None, 3)), types: (tf.float16, tf.float64)>\n"
     ]
    }
   ],
   "source": [
    "federated_train_data = make_federated_data(train_data, train_client_ids)\n",
    "print('Number of client datasets: {l}'.format(l=len(federated_train_data)))\n",
    "print('First dataset: {d}'.format(d=federated_train_data[0]))"
   ]
  },
  {
   "cell_type": "markdown",
   "metadata": {
    "id": "ExQL-K9kfgxF"
   },
   "source": [
    "## Tensorflow Federated model\n",
    "First we create a simple CNN model with Keras:\n"
   ]
  },
  {
   "cell_type": "code",
   "execution_count": null,
   "metadata": {
    "id": "FFCPMExUfSlW"
   },
   "outputs": [],
   "source": [
    "num_classes = data[0][1].shape[1]\n",
    "img_height=data[0][0].shape[1]\n",
    "img_width=data[0][0].shape[2]\n",
    "\n",
    "\n",
    "def create_keras_model():\n",
    "    model = Sequential([\n",
    "      layers.Conv2D(16, 3, padding='same', activation='relu',input_shape=(img_height, img_width, 3)),\n",
    "      layers.MaxPooling2D(),\n",
    "      layers.Conv2D(32, 3, padding='same', activation='relu'),\n",
    "      layers.MaxPooling2D(),\n",
    "      layers.Conv2D(64, 3, padding='same', activation='relu'),\n",
    "      layers.MaxPooling2D(),\n",
    "      layers.Flatten(),\n",
    "      layers.Dense(128, activation='relu'),\n",
    "      layers.Dense(num_classes,activation='softmax')\n",
    "    ])\n",
    "    \n",
    "    return model"
   ]
  },
  {
   "cell_type": "markdown",
   "metadata": {
    "id": "oYLnYUoqgNlV"
   },
   "source": [
    "Note that we do not compile the model yet. The loss, metrics, and optimizers are introduced later.\n",
    "\n",
    "If you have a Keras model like the one we've just defined above, you can have TFF wrap it for you by invoking\n",
    "`tff.learning.from_keras_model`, passing the model and a sample data batch as\n",
    "arguments (`input_spec=example_dataset.element_spec`), as shown below.\n"
   ]
  },
  {
   "cell_type": "code",
   "execution_count": null,
   "metadata": {
    "id": "1PUqDNN5f0ap"
   },
   "outputs": [],
   "source": [
    "# We _must_ create a new model here, and _not_ capture it from an external\n",
    "# scope. TFF will call this within different graph contexts.\n",
    "def model_fn():\n",
    "    keras_model = create_keras_model()\n",
    "\n",
    "    return tff.learning.from_keras_model(\n",
    "            keras_model,\n",
    "            input_spec=example_dataset.element_spec,\n",
    "            loss=tf.keras.losses.CategoricalCrossentropy(),\n",
    "            metrics=[tf.keras.metrics.CategoricalAccuracy(),tf.keras.metrics.AUC(name='AUC')])\n",
    "\n",
    "\n"
   ]
  },
  {
   "cell_type": "markdown",
   "metadata": {
    "id": "JDelj8XulaUF"
   },
   "source": [
    "The model_fn is a no-arg function that returns a `tff.learning.Model`. "
   ]
  },
  {
   "cell_type": "markdown",
   "metadata": {
    "id": "NBAe9eMvhIcf"
   },
   "source": [
    "### Training the model on federated data \n",
    "\n",
    "Now that we have a model wrapped as `tff.learning.Model` for use with TFF, we\n",
    "can let TFF construct a **Federated Averaging** algorithm by invoking the helper\n",
    "function `tff.learning.build_federated_averaging_process`, as follows.\n",
    "\n",
    "One critical note on the Federated Averaging algorithm below, there are **2**\n",
    "optimizers: a _client_optimizer_ and a _server_optimizer_. The\n",
    "_client_optimizer_ is only used to compute local model updates on each client.\n",
    "The _server_optimizer_ applies the averaged update to the global model at the\n",
    "server. In particular, this means that the choice of optimizer and learning rate\n",
    "used may need to be different than the ones you have used to train the model on\n",
    "a standard i.i.d. dataset.\n",
    "\n"
   ]
  },
  {
   "cell_type": "code",
   "execution_count": null,
   "metadata": {
    "id": "IjB_sD5egibj"
   },
   "outputs": [],
   "source": [
    "iterative_process = tff.learning.build_federated_averaging_process(\n",
    "    model_fn,\n",
    "    client_optimizer_fn=lambda: tf.keras.optimizers.SGD(learning_rate=0.01),\n",
    "    server_optimizer_fn=lambda: tf.keras.optimizers.SGD(learning_rate=0.05))"
   ]
  },
  {
   "cell_type": "markdown",
   "metadata": {
    "id": "i-YmVZuGhnI4"
   },
   "source": [
    "In this case, the two computations generated and packed into iterative_process implement Federated Averaging.\n",
    "\n",
    "Let's start with the `initialize` computation. As is the case for all federated\n",
    "computations, you can think of it as a function. The computation takes no\n",
    "arguments, and returns one result - the representation of the state of the\n",
    "Federated Averaging process on the server. While we don't want to dive into the\n",
    "details of TFF, it may be instructive to see what this state looks like. You can\n",
    "visualize it as follows."
   ]
  },
  {
   "cell_type": "code",
   "execution_count": null,
   "metadata": {
    "colab": {
     "base_uri": "https://localhost:8080/",
     "height": 52
    },
    "id": "Eb5OLh1ohRkm",
    "outputId": "49b5b578-bf4b-459d-cd21-8ec37ba6822b"
   },
   "outputs": [
    {
     "data": {
      "application/vnd.google.colaboratory.intrinsic+json": {
       "type": "string"
      },
      "text/plain": [
       "'( -> <model=<trainable=<float32[3,3,3,16],float32[16],float32[3,3,16,32],float32[32],float32[3,3,32,64],float32[64],float32[50176,128],float32[128],float32[128,3],float32[3]>,non_trainable=<>>,optimizer_state=<int64>,delta_aggregate_state=<value_sum_process=<>,weight_sum_process=<>>,model_broadcast_state=<>>@SERVER)'"
      ]
     },
     "execution_count": 17,
     "metadata": {},
     "output_type": "execute_result"
    }
   ],
   "source": [
    "str(iterative_process.initialize.type_signature)"
   ]
  },
  {
   "cell_type": "markdown",
   "metadata": {
    "id": "xo_D135PhzCm"
   },
   "source": [
    "While the above type signature may at first seem a bit cryptic, you can recognize that the server state consists of a model (the initial model parameters that will be distributed to all devices), and optimizer_state (additional information maintained by the server, such as the number of rounds to use for hyperparameter schedules, etc.).\n",
    "\n",
    "Let's invoke the initialize computation to construct the server state."
   ]
  },
  {
   "cell_type": "code",
   "execution_count": null,
   "metadata": {
    "id": "T7vNqokkhsYi"
   },
   "outputs": [],
   "source": [
    "state = iterative_process.initialize()"
   ]
  },
  {
   "cell_type": "code",
   "execution_count": null,
   "metadata": {
    "colab": {
     "base_uri": "https://localhost:8080/"
    },
    "id": "6B8IOPfih2e0",
    "outputId": "dfc2a430-fde3-4416-db00-85ceef651de5"
   },
   "outputs": [
    {
     "data": {
      "text/plain": [
       "ServerState(model=ModelWeights(trainable=[array([[[[ 0.04500341,  0.07506523,  0.13334626,  0.02123837,\n",
       "          -0.15200004, -0.0527821 ,  0.16835535, -0.03819233,\n",
       "          -0.00059795, -0.06880844, -0.06946006, -0.1415799 ,\n",
       "          -0.04111256, -0.00379904,  0.09466806,  0.00757378],\n",
       "         [ 0.06174199, -0.0798183 , -0.04008025,  0.16750336,\n",
       "          -0.01329011,  0.01764365, -0.15192157,  0.13478664,\n",
       "           0.08884886,  0.07034698,  0.02075073, -0.02016206,\n",
       "          -0.11975331, -0.04103395,  0.13985214,  0.17341033],\n",
       "         [-0.10627598,  0.07886904,  0.15986231,  0.1613945 ,\n",
       "          -0.0751308 ,  0.01347902,  0.06773752, -0.05200399,\n",
       "          -0.00820206,  0.11969686, -0.03520213,  0.06296366,\n",
       "          -0.02007082, -0.0860141 , -0.10902989, -0.10729892]],\n",
       "\n",
       "        [[ 0.11151829,  0.0926097 , -0.1490289 ,  0.02408271,\n",
       "           0.04292114, -0.13799317,  0.17074338, -0.17743888,\n",
       "           0.02143997, -0.13180053,  0.13209558,  0.1731816 ,\n",
       "          -0.1467872 ,  0.04005854,  0.17639667, -0.03071927],\n",
       "         [ 0.04505174,  0.11780244,  0.17704132,  0.06542554,\n",
       "           0.15205029, -0.11008655, -0.08653479,  0.17110321,\n",
       "           0.03632368,  0.14565212, -0.17104605, -0.10584577,\n",
       "           0.08217099,  0.1460082 ,  0.09840658,  0.06295657],\n",
       "         [-0.12640885,  0.03285982,  0.16661936, -0.01512125,\n",
       "           0.11206636, -0.14553873,  0.1476169 , -0.05622944,\n",
       "          -0.05444831,  0.04187195,  0.09757346, -0.16027845,\n",
       "           0.00683349,  0.02295715,  0.12166989,  0.01036851]],\n",
       "\n",
       "        [[-0.16604249, -0.04005787,  0.05995037,  0.01249325,\n",
       "          -0.07639432, -0.15857053, -0.16079941, -0.04604985,\n",
       "          -0.1554405 ,  0.06918037, -0.0780788 ,  0.06698579,\n",
       "          -0.03978741, -0.07780723,  0.09905609, -0.14672163],\n",
       "         [-0.05429561,  0.04107089, -0.01124804,  0.04346327,\n",
       "           0.06429702, -0.09693233, -0.11483443, -0.18404555,\n",
       "           0.17139122, -0.13510828, -0.13653314, -0.07453441,\n",
       "           0.05617933,  0.06515056,  0.17585239, -0.12745085],\n",
       "         [-0.17355053, -0.06451742,  0.06913203, -0.13253756,\n",
       "          -0.03754847, -0.09427439,  0.08763111, -0.10062449,\n",
       "           0.06204554,  0.10128689, -0.14969826, -0.15836108,\n",
       "          -0.05817518,  0.03945014,  0.08718866, -0.02470179]]],\n",
       "\n",
       "\n",
       "       [[[-0.12394817,  0.10772389,  0.05572063,  0.06849259,\n",
       "           0.14222589,  0.08594978,  0.07308081,  0.11412665,\n",
       "          -0.1676134 ,  0.14146417, -0.06595159,  0.04490788,\n",
       "           0.05521333,  0.02308305,  0.05088821, -0.14772692],\n",
       "         [-0.02756248, -0.15969065, -0.03642577,  0.07279858,\n",
       "           0.08414999,  0.10212767, -0.06227635,  0.14189541,\n",
       "          -0.03804053,  0.08523908, -0.0635437 , -0.14739099,\n",
       "          -0.06597856, -0.02599961,  0.18134099, -0.06280708],\n",
       "         [ 0.13737491,  0.15986523,  0.14008936, -0.00446425,\n",
       "           0.04851538,  0.15603817,  0.08724195, -0.08844744,\n",
       "          -0.1703159 ,  0.18288735,  0.17092243, -0.18209365,\n",
       "           0.01361425,  0.11121818,  0.02897172,  0.01362765]],\n",
       "\n",
       "        [[-0.11874293, -0.09045977,  0.02449666, -0.13327834,\n",
       "          -0.14366761, -0.00406343,  0.00062323,  0.16785273,\n",
       "           0.16472787, -0.05276598,  0.05951177, -0.13376004,\n",
       "          -0.00673212, -0.05136049, -0.04741067, -0.14485592],\n",
       "         [ 0.04564366,  0.07762063,  0.03869842, -0.02293174,\n",
       "          -0.14000055, -0.01901935,  0.04906385, -0.00183463,\n",
       "          -0.02727598,  0.1521289 ,  0.04107808,  0.05063739,\n",
       "           0.09789282,  0.05720548, -0.16046858,  0.10059449],\n",
       "         [ 0.01350984, -0.03778714, -0.0966089 ,  0.1832585 ,\n",
       "           0.10074076,  0.12115911, -0.10937034,  0.12896973,\n",
       "          -0.0499846 , -0.184011  ,  0.06174079,  0.04963697,\n",
       "           0.18374628, -0.07166984, -0.16042133,  0.03581245]],\n",
       "\n",
       "        [[-0.11525298, -0.10062816,  0.04686135, -0.17140551,\n",
       "          -0.05524553, -0.03554034, -0.04579796,  0.14864743,\n",
       "           0.08334506,  0.15209082,  0.18472752,  0.15027374,\n",
       "          -0.07249779,  0.03729767, -0.08128314, -0.12701984],\n",
       "         [ 0.09999043, -0.03493498,  0.05493769, -0.02014112,\n",
       "          -0.00718243, -0.01262861, -0.03711733, -0.12863885,\n",
       "          -0.03227946,  0.16614565, -0.04353321,  0.07967275,\n",
       "          -0.15431601, -0.02038853, -0.16863891, -0.05625378],\n",
       "         [ 0.08450586,  0.08058551,  0.17079467,  0.0612815 ,\n",
       "          -0.17438307, -0.15224114,  0.06206453, -0.17203347,\n",
       "          -0.05927016, -0.14618768, -0.09876963, -0.00678223,\n",
       "           0.17290866, -0.18535441,  0.15493625, -0.13773437]]],\n",
       "\n",
       "\n",
       "       [[[ 0.15170139, -0.07783946,  0.09164134, -0.1824551 ,\n",
       "          -0.17292315, -0.15165392,  0.1473304 ,  0.1811145 ,\n",
       "          -0.07895775, -0.03151631, -0.13252711,  0.18238774,\n",
       "          -0.02962416, -0.05541913, -0.13865525,  0.01655619],\n",
       "         [-0.12322021, -0.14304733,  0.00319596, -0.11588009,\n",
       "          -0.04742572, -0.05362719,  0.08439639, -0.04439627,\n",
       "          -0.00154269, -0.13339722,  0.03017637, -0.00670987,\n",
       "           0.01629876,  0.1287334 ,  0.01005808, -0.13932693],\n",
       "         [ 0.133706  ,  0.02823782, -0.11575058,  0.15336251,\n",
       "           0.10648593,  0.17025408, -0.09290021,  0.07010201,\n",
       "          -0.11832478, -0.01298049,  0.11997089, -0.17164704,\n",
       "          -0.07563175, -0.01741785, -0.08605769, -0.15522939]],\n",
       "\n",
       "        [[-0.18620853,  0.14733347,  0.10770822,  0.11892769,\n",
       "          -0.16074096,  0.03144261, -0.05373934, -0.18638574,\n",
       "          -0.0424403 ,  0.08685818,  0.15919718, -0.0685833 ,\n",
       "          -0.00098136,  0.01049401,  0.09067231, -0.06135103],\n",
       "         [-0.02002437, -0.15780644,  0.01415285, -0.18190193,\n",
       "           0.10782462,  0.05718292, -0.03624879,  0.05417512,\n",
       "          -0.16327809, -0.14186893,  0.01125996, -0.00482461,\n",
       "           0.02380399, -0.11875615, -0.07698807, -0.08152239],\n",
       "         [-0.02806111,  0.10758519, -0.0243931 ,  0.13772151,\n",
       "           0.00868684,  0.07095188, -0.17468289, -0.1510716 ,\n",
       "          -0.00371788,  0.10361868, -0.15288715, -0.17153534,\n",
       "           0.00950885,  0.14460367, -0.183877  , -0.06798705]],\n",
       "\n",
       "        [[-0.16922423, -0.08247306, -0.10559229, -0.11922038,\n",
       "          -0.18014751,  0.14725024, -0.18185732, -0.14390856,\n",
       "          -0.08342347, -0.11316924,  0.14581856,  0.13323876,\n",
       "          -0.0951634 ,  0.06974673, -0.12840219, -0.01811597],\n",
       "         [-0.17268908, -0.10559126, -0.17631038,  0.14472532,\n",
       "          -0.07429271,  0.11114413, -0.05613101, -0.12846056,\n",
       "          -0.13658924,  0.13303202,  0.06152579,  0.12544623,\n",
       "          -0.10655953, -0.07830643,  0.17191821,  0.00978458],\n",
       "         [ 0.00195986, -0.10112879, -0.17954603, -0.14923309,\n",
       "          -0.14394897, -0.07074283, -0.0292964 , -0.05740878,\n",
       "           0.07861945,  0.08880389, -0.12582617,  0.05967928,\n",
       "          -0.11739103, -0.05539042, -0.06805212, -0.10159317]]]],\n",
       "      dtype=float32), array([0., 0., 0., 0., 0., 0., 0., 0., 0., 0., 0., 0., 0., 0., 0., 0.],\n",
       "      dtype=float32), array([[[[ 0.11762699, -0.01402934, -0.0981629 , ..., -0.10077418,\n",
       "           0.04636108, -0.05773986],\n",
       "         [-0.08193808, -0.10424945, -0.05847923, ...,  0.03970491,\n",
       "           0.03375446,  0.05163478],\n",
       "         [ 0.0341126 , -0.10424279,  0.07157206, ...,  0.09418758,\n",
       "          -0.10482851,  0.03965402],\n",
       "         ...,\n",
       "         [-0.07043025,  0.10034493,  0.09601641, ..., -0.04947585,\n",
       "           0.0186488 ,  0.09984676],\n",
       "         [ 0.00807109,  0.0263199 ,  0.04565161, ..., -0.08259557,\n",
       "          -0.11683545,  0.04478765],\n",
       "         [-0.08140223, -0.05152837, -0.0300906 , ..., -0.11367446,\n",
       "          -0.05477387, -0.10417934]],\n",
       "\n",
       "        [[ 0.03072736,  0.02339729,  0.08246357, ...,  0.00492087,\n",
       "           0.09913947,  0.07615439],\n",
       "         [ 0.03699715, -0.03868435,  0.05805611, ...,  0.06126747,\n",
       "          -0.0479215 ,  0.06178402],\n",
       "         [-0.03510838, -0.09599372,  0.09817076, ...,  0.0531038 ,\n",
       "           0.0412909 , -0.05044135],\n",
       "         ...,\n",
       "         [-0.09234481,  0.0793184 , -0.00607654, ...,  0.02330718,\n",
       "           0.09916099, -0.10585291],\n",
       "         [ 0.10778467, -0.05828642, -0.05380703, ...,  0.04354795,\n",
       "          -0.08854236, -0.04683338],\n",
       "         [ 0.02786171, -0.07496132,  0.00456274, ...,  0.09815309,\n",
       "          -0.03667279, -0.07062784]],\n",
       "\n",
       "        [[-0.08710523,  0.06515872,  0.08857132, ..., -0.10647067,\n",
       "           0.01130401, -0.05556848],\n",
       "         [ 0.00691371,  0.00848026, -0.08466594, ...,  0.04109787,\n",
       "          -0.07841202, -0.04467075],\n",
       "         [-0.01635522, -0.05112244, -0.0083571 , ..., -0.01271548,\n",
       "           0.08831464, -0.09314928],\n",
       "         ...,\n",
       "         [-0.06695693,  0.07503694, -0.03172258, ...,  0.110874  ,\n",
       "          -0.01387972,  0.08625189],\n",
       "         [ 0.03952675,  0.00726893,  0.03518861, ...,  0.01894934,\n",
       "           0.08481974,  0.00423441],\n",
       "         [-0.01490583,  0.05839305,  0.02771953, ...,  0.04633551,\n",
       "           0.02766145,  0.0104736 ]]],\n",
       "\n",
       "\n",
       "       [[[-0.01932222,  0.11528995, -0.0274388 , ...,  0.10157006,\n",
       "           0.07300154,  0.08538317],\n",
       "         [-0.07367693, -0.11439579,  0.10544596, ...,  0.02517133,\n",
       "          -0.07178061,  0.03011348],\n",
       "         [ 0.03079841,  0.08390302,  0.06686755, ...,  0.0264168 ,\n",
       "          -0.05331992, -0.02675586],\n",
       "         ...,\n",
       "         [-0.06304683,  0.08344556, -0.043474  , ...,  0.09956075,\n",
       "           0.08833355, -0.00889885],\n",
       "         [-0.11256381,  0.09291289,  0.01890273, ..., -0.02466835,\n",
       "          -0.07954361,  0.03045391],\n",
       "         [-0.00699649,  0.10129227,  0.11599881, ..., -0.11531923,\n",
       "          -0.10028123, -0.07332523]],\n",
       "\n",
       "        [[-0.09338744,  0.03032971,  0.07987193, ...,  0.09527045,\n",
       "          -0.09300075, -0.07372779],\n",
       "         [ 0.07309704, -0.05599537, -0.08976267, ..., -0.07690974,\n",
       "           0.09437112,  0.07129575],\n",
       "         [ 0.09517031,  0.00178483, -0.1122214 , ..., -0.0455853 ,\n",
       "          -0.01914141,  0.0472172 ],\n",
       "         ...,\n",
       "         [ 0.10587356,  0.03049748,  0.10205305, ...,  0.00840073,\n",
       "          -0.05061584,  0.07896591],\n",
       "         [-0.06620596,  0.02148742, -0.08997571, ...,  0.10480825,\n",
       "           0.07152169, -0.00258014],\n",
       "         [-0.03659704, -0.09522521, -0.05062969, ...,  0.08004872,\n",
       "           0.02116109, -0.00799205]],\n",
       "\n",
       "        [[ 0.0022861 , -0.04414894, -0.06119978, ..., -0.00744423,\n",
       "           0.08435243,  0.01591853],\n",
       "         [ 0.06074982, -0.02034023,  0.08774474, ...,  0.05325774,\n",
       "          -0.08962218, -0.07311177],\n",
       "         [ 0.06170141, -0.04894286,  0.07158839, ...,  0.02680678,\n",
       "          -0.06956623, -0.07845239],\n",
       "         ...,\n",
       "         [-0.01180806,  0.10598538,  0.02529285, ...,  0.10362073,\n",
       "          -0.06454745,  0.03330065],\n",
       "         [-0.0807172 , -0.07480428,  0.0294609 , ..., -0.01693205,\n",
       "           0.0163352 ,  0.05570439],\n",
       "         [-0.04027902,  0.07274909,  0.01013789, ...,  0.03746357,\n",
       "           0.05734854,  0.07909604]]],\n",
       "\n",
       "\n",
       "       [[[-0.00342932, -0.00077314,  0.05201671, ..., -0.05292565,\n",
       "          -0.05894304,  0.10118621],\n",
       "         [-0.04833712, -0.10985461, -0.04539949, ..., -0.11559321,\n",
       "          -0.04155149,  0.10467162],\n",
       "         [ 0.04039913,  0.07309643,  0.07378893, ...,  0.08728602,\n",
       "          -0.0797649 , -0.01676604],\n",
       "         ...,\n",
       "         [-0.11057895,  0.04185284,  0.10951766, ..., -0.07862306,\n",
       "          -0.02299875, -0.04577754],\n",
       "         [ 0.00848655,  0.03019478, -0.03432628, ...,  0.04179574,\n",
       "          -0.00861521, -0.05377713],\n",
       "         [ 0.08263246,  0.09204664, -0.07582943, ...,  0.01903573,\n",
       "          -0.01356187, -0.06657567]],\n",
       "\n",
       "        [[-0.10321971, -0.08666937, -0.05052972, ..., -0.06617913,\n",
       "           0.00248346,  0.06069944],\n",
       "         [-0.06176036,  0.01331464,  0.10941673, ..., -0.07401335,\n",
       "           0.03949278,  0.06344419],\n",
       "         [-0.07362749, -0.04697334, -0.05531535, ...,  0.09937451,\n",
       "           0.09069654,  0.05417249],\n",
       "         ...,\n",
       "         [-0.0264175 , -0.03870811,  0.04829083, ..., -0.07714031,\n",
       "           0.01451872,  0.11304263],\n",
       "         [-0.03433232,  0.02189083,  0.07854413, ..., -0.0165242 ,\n",
       "           0.05186448,  0.04332817],\n",
       "         [ 0.07724874,  0.04161074,  0.00372104, ..., -0.10263924,\n",
       "           0.06724783,  0.11066192]],\n",
       "\n",
       "        [[-0.11423173,  0.05188996, -0.03886597, ..., -0.06726342,\n",
       "           0.08803894, -0.10047294],\n",
       "         [ 0.11297191,  0.09161665, -0.07725649, ..., -0.07959011,\n",
       "          -0.09189884,  0.10597198],\n",
       "         [ 0.1069565 , -0.03425179,  0.01438702, ..., -0.05699195,\n",
       "           0.05098749,  0.05848262],\n",
       "         ...,\n",
       "         [-0.07586303,  0.05563109,  0.07943163, ...,  0.01319525,\n",
       "          -0.0548537 ,  0.08150833],\n",
       "         [ 0.061015  , -0.00488364,  0.07305982, ...,  0.01929624,\n",
       "           0.03868488, -0.00818278],\n",
       "         [ 0.03220055,  0.00285286,  0.00733926, ...,  0.08801583,\n",
       "          -0.0157605 , -0.05502599]]]], dtype=float32), array([0., 0., 0., 0., 0., 0., 0., 0., 0., 0., 0., 0., 0., 0., 0., 0., 0.,\n",
       "       0., 0., 0., 0., 0., 0., 0., 0., 0., 0., 0., 0., 0., 0., 0.],\n",
       "      dtype=float32), array([[[[ 8.25614408e-02,  5.75418249e-02, -2.14835256e-03, ...,\n",
       "           7.52875879e-02,  3.32525745e-02,  5.69726899e-02],\n",
       "         [ 8.02501217e-02,  9.31084156e-03,  1.97653770e-02, ...,\n",
       "          -2.18105130e-02, -4.91012558e-02, -1.41695142e-02],\n",
       "         [-3.67501378e-02,  9.78652388e-03, -7.26243109e-02, ...,\n",
       "          -2.25520134e-03,  7.88614526e-02,  3.82737741e-02],\n",
       "         ...,\n",
       "         [ 5.70913777e-02, -8.17013010e-02,  1.39555559e-02, ...,\n",
       "           7.25662336e-02, -4.34026942e-02, -1.35736465e-02],\n",
       "         [-1.91653594e-02, -3.56581435e-02, -3.75994854e-02, ...,\n",
       "          -1.22543201e-02,  6.61646202e-02,  3.82608399e-02],\n",
       "         [-1.30329281e-03,  4.45866212e-02,  1.30552873e-02, ...,\n",
       "          -6.81731105e-02, -1.80424675e-02,  3.24638709e-02]],\n",
       "\n",
       "        [[ 4.19459417e-02,  2.60420069e-02, -3.85218859e-02, ...,\n",
       "          -7.31580481e-02, -4.16261181e-02, -3.63556370e-02],\n",
       "         [ 7.45676234e-02, -3.83570045e-03,  5.01154438e-02, ...,\n",
       "          -5.35518341e-02, -2.73906812e-02,  3.68384719e-02],\n",
       "         [-2.08121315e-02, -4.25813012e-02,  4.84507456e-02, ...,\n",
       "          -5.55189848e-02,  1.71955600e-02,  7.14413002e-02],\n",
       "         ...,\n",
       "         [-6.34482354e-02, -3.63749862e-02,  1.83373317e-02, ...,\n",
       "          -1.16279945e-02, -8.31790790e-02,  1.97508186e-03],\n",
       "         [ 6.65260330e-02, -2.38834433e-02,  1.90908313e-02, ...,\n",
       "          -7.04308599e-03,  1.57979503e-02,  7.91506842e-02],\n",
       "         [-5.53133115e-02,  6.46190122e-02,  6.12052530e-03, ...,\n",
       "           5.47153726e-02,  7.37412050e-02,  1.23606920e-02]],\n",
       "\n",
       "        [[ 7.40615278e-03, -7.43160397e-03,  6.05831295e-03, ...,\n",
       "           8.32307115e-02,  2.45698467e-02,  1.22919679e-02],\n",
       "         [-3.87737900e-03, -6.12954125e-02,  2.23314762e-02, ...,\n",
       "           8.11934099e-02, -3.51006612e-02,  7.84020647e-02],\n",
       "         [ 4.13950458e-02, -7.30967373e-02, -8.27813596e-02, ...,\n",
       "           4.49506864e-02,  6.53548464e-02,  3.73542085e-02],\n",
       "         ...,\n",
       "         [ 8.47073644e-03,  3.30225378e-03,  7.25754574e-02, ...,\n",
       "           2.02639699e-02,  7.33120218e-02, -7.54261017e-03],\n",
       "         [ 8.26385394e-02, -6.56117648e-02, -8.28646049e-02, ...,\n",
       "           2.78807059e-02, -3.48061323e-02, -4.43247966e-02],\n",
       "         [-8.41303915e-03, -5.83898425e-02, -1.96457505e-02, ...,\n",
       "           7.49067292e-02,  7.52574876e-02,  3.79509702e-02]]],\n",
       "\n",
       "\n",
       "       [[[-6.78521022e-02,  6.08707443e-02,  3.22067738e-02, ...,\n",
       "           5.05352095e-02, -2.75357179e-02, -8.10616612e-02],\n",
       "         [ 2.22052336e-02,  7.00869411e-03,  7.41739497e-02, ...,\n",
       "           4.83567193e-02, -4.28654365e-02,  4.65157256e-02],\n",
       "         [ 1.43364891e-02,  7.60107711e-02,  6.43432364e-02, ...,\n",
       "          -6.46196306e-04, -3.32174115e-02,  2.04916820e-02],\n",
       "         ...,\n",
       "         [-3.76737118e-03,  7.88865164e-02,  1.19368210e-02, ...,\n",
       "          -4.37879786e-02,  2.15724483e-02,  1.90598965e-02],\n",
       "         [-4.76251245e-02,  7.15853646e-02, -3.05765495e-02, ...,\n",
       "          -2.49258876e-02,  1.19791850e-02, -3.07179987e-04],\n",
       "         [ 6.47133663e-02,  3.78639922e-02,  6.55398741e-02, ...,\n",
       "          -6.18507713e-03,  6.28891066e-02, -4.96749878e-02]],\n",
       "\n",
       "        [[-2.40553431e-02, -3.75826359e-02, -3.89699154e-02, ...,\n",
       "           6.89635947e-02, -2.24110112e-02, -2.75566801e-02],\n",
       "         [ 5.25335446e-02, -5.60123324e-02,  3.37897167e-02, ...,\n",
       "           7.88156614e-02, -6.55216426e-02,  2.49942392e-03],\n",
       "         [-3.14621925e-02,  5.01494482e-02,  6.89838007e-02, ...,\n",
       "          -2.46114954e-02, -2.75293998e-02, -2.17461586e-02],\n",
       "         ...,\n",
       "         [-4.08321619e-02,  7.41098076e-03, -5.93525171e-03, ...,\n",
       "          -1.71233639e-02,  6.73041493e-03,  5.79984412e-02],\n",
       "         [-1.91262141e-02,  7.23525137e-03, -7.84585699e-02, ...,\n",
       "          -3.01297307e-02,  8.31082538e-02, -1.46077648e-02],\n",
       "         [ 7.78681263e-02,  1.64344534e-02, -5.00535369e-02, ...,\n",
       "           3.16277891e-03,  1.92743540e-02,  2.77945772e-02]],\n",
       "\n",
       "        [[ 2.65518799e-02,  6.96364120e-02, -7.62470365e-02, ...,\n",
       "           4.83410731e-02,  1.58299580e-02, -7.40574598e-02],\n",
       "         [ 3.23899761e-02,  3.84414792e-02, -2.10987329e-02, ...,\n",
       "           7.81044364e-05, -2.64957175e-02, -1.61863789e-02],\n",
       "         [-6.88575134e-02, -2.91597843e-02,  1.18161812e-02, ...,\n",
       "           6.34444728e-02, -3.36172804e-02,  3.62671912e-04],\n",
       "         ...,\n",
       "         [-8.31041783e-02, -7.03269243e-02, -6.38804287e-02, ...,\n",
       "           6.02436289e-02,  5.82690015e-02,  3.20705995e-02],\n",
       "         [-7.21788630e-02,  8.12336430e-02,  5.87344840e-02, ...,\n",
       "           6.21064529e-02, -4.72627692e-02, -3.68948579e-02],\n",
       "         [-5.97520694e-02, -3.71480808e-02, -2.67945752e-02, ...,\n",
       "           5.97392693e-02,  7.00875297e-02,  7.78592452e-02]]],\n",
       "\n",
       "\n",
       "       [[[ 7.89329484e-02,  7.85887912e-02,  1.21410266e-02, ...,\n",
       "          -5.58771305e-02, -7.65905976e-02,  8.27253833e-02],\n",
       "         [-6.25209808e-02, -8.25050473e-02,  5.13526276e-02, ...,\n",
       "          -5.70298061e-02, -5.42480759e-02, -5.46813011e-02],\n",
       "         [-6.69775829e-02, -7.32629895e-02, -5.63821420e-02, ...,\n",
       "           7.39239082e-02,  4.19564024e-02,  7.46693388e-02],\n",
       "         ...,\n",
       "         [ 5.04387394e-02, -4.14249115e-02,  7.51328245e-02, ...,\n",
       "          -5.69774956e-03,  6.16794899e-02,  5.97173348e-02],\n",
       "         [-6.52750358e-02,  3.24475542e-02, -7.21997023e-02, ...,\n",
       "          -4.93073463e-03,  1.06939301e-02,  7.04867467e-02],\n",
       "         [-5.31074814e-02,  5.90417460e-02, -6.09994940e-02, ...,\n",
       "          -8.02515149e-02, -1.38951316e-02, -1.41319260e-02]],\n",
       "\n",
       "        [[ 3.94577608e-02,  4.07013521e-02,  1.26249194e-02, ...,\n",
       "          -1.56763196e-02,  3.11842933e-02, -1.76602229e-02],\n",
       "         [-4.42671776e-03,  3.08705568e-02, -2.58918218e-02, ...,\n",
       "          -1.38447285e-02, -3.98690328e-02, -7.83930272e-02],\n",
       "         [ 1.94573998e-02, -7.12054223e-02,  1.70216337e-02, ...,\n",
       "           8.52018595e-03,  5.33779711e-03,  8.03293213e-02],\n",
       "         ...,\n",
       "         [ 7.15487972e-02,  7.48472288e-02, -6.27068728e-02, ...,\n",
       "           5.27685061e-02, -1.66324005e-02,  3.08755785e-03],\n",
       "         [ 1.88189149e-02,  1.00705028e-02, -1.58432499e-02, ...,\n",
       "           7.15214834e-02, -6.67233318e-02,  5.46206608e-02],\n",
       "         [ 2.08951011e-02, -5.56589775e-02, -8.04557800e-02, ...,\n",
       "           4.54958752e-02, -4.72777709e-02,  4.65161428e-02]],\n",
       "\n",
       "        [[-5.48196845e-02, -9.14134830e-03,  5.68281487e-02, ...,\n",
       "          -1.33769512e-02,  6.61531314e-02, -2.66244225e-02],\n",
       "         [-1.45663396e-02,  6.47984445e-04,  5.36360517e-02, ...,\n",
       "          -5.19138202e-02,  2.71227360e-02, -3.00716758e-02],\n",
       "         [ 5.75058833e-02, -7.86963701e-02,  1.53077245e-02, ...,\n",
       "          -2.32902989e-02, -3.58666405e-02,  1.01206675e-02],\n",
       "         ...,\n",
       "         [-1.14637986e-02,  5.54103926e-02, -6.72083944e-02, ...,\n",
       "           6.20667711e-02,  4.92897853e-02,  3.78639325e-02],\n",
       "         [ 1.70735717e-02,  9.78261232e-03, -7.81244040e-03, ...,\n",
       "           9.69328731e-03,  6.15744665e-02,  6.10311702e-02],\n",
       "         [ 3.00295129e-02,  3.52503434e-02,  7.88802281e-02, ...,\n",
       "          -7.44024664e-03, -7.59721398e-02,  1.88105106e-02]]]],\n",
       "      dtype=float32), array([0., 0., 0., 0., 0., 0., 0., 0., 0., 0., 0., 0., 0., 0., 0., 0., 0.,\n",
       "       0., 0., 0., 0., 0., 0., 0., 0., 0., 0., 0., 0., 0., 0., 0., 0., 0.,\n",
       "       0., 0., 0., 0., 0., 0., 0., 0., 0., 0., 0., 0., 0., 0., 0., 0., 0.,\n",
       "       0., 0., 0., 0., 0., 0., 0., 0., 0., 0., 0., 0., 0.], dtype=float32), array([[ 0.01023521,  0.00154496, -0.00132064, ..., -0.00485065,\n",
       "        -0.00110617,  0.0083126 ],\n",
       "       [ 0.0015334 ,  0.00567052,  0.00503636, ...,  0.00519386,\n",
       "        -0.00763147, -0.00608463],\n",
       "       [-0.00046165,  0.00165025,  0.01075303, ..., -0.00450821,\n",
       "         0.00081029,  0.00667947],\n",
       "       ...,\n",
       "       [ 0.00336948, -0.00881969, -0.00338621, ..., -0.00727082,\n",
       "        -0.01045222, -0.00612026],\n",
       "       [-0.00867802, -0.00767285, -0.00327259, ...,  0.00021702,\n",
       "         0.00247696, -0.00645729],\n",
       "       [ 0.00771138,  0.00859227, -0.00402869, ...,  0.00560589,\n",
       "         0.00518745, -0.00962193]], dtype=float32), array([0., 0., 0., 0., 0., 0., 0., 0., 0., 0., 0., 0., 0., 0., 0., 0., 0.,\n",
       "       0., 0., 0., 0., 0., 0., 0., 0., 0., 0., 0., 0., 0., 0., 0., 0., 0.,\n",
       "       0., 0., 0., 0., 0., 0., 0., 0., 0., 0., 0., 0., 0., 0., 0., 0., 0.,\n",
       "       0., 0., 0., 0., 0., 0., 0., 0., 0., 0., 0., 0., 0., 0., 0., 0., 0.,\n",
       "       0., 0., 0., 0., 0., 0., 0., 0., 0., 0., 0., 0., 0., 0., 0., 0., 0.,\n",
       "       0., 0., 0., 0., 0., 0., 0., 0., 0., 0., 0., 0., 0., 0., 0., 0., 0.,\n",
       "       0., 0., 0., 0., 0., 0., 0., 0., 0., 0., 0., 0., 0., 0., 0., 0., 0.,\n",
       "       0., 0., 0., 0., 0., 0., 0., 0., 0.], dtype=float32), array([[ 1.49790064e-01,  1.01018354e-01, -6.03216439e-02],\n",
       "       [-9.90718156e-02,  1.62837222e-01, -5.24320155e-02],\n",
       "       [-2.16104090e-03, -1.81523219e-01,  2.34357715e-02],\n",
       "       [ 8.03663880e-02,  1.40566602e-01, -1.23402871e-01],\n",
       "       [ 1.94946870e-01, -4.93679792e-02,  1.60038158e-01],\n",
       "       [-3.71433944e-02,  1.76026031e-01,  1.16590425e-01],\n",
       "       [ 1.73487917e-01,  1.51764765e-01, -9.10621658e-02],\n",
       "       [ 4.15746421e-02, -1.09340630e-01,  1.36079803e-01],\n",
       "       [ 1.08279124e-01, -9.44698006e-02,  1.64287850e-01],\n",
       "       [-1.96776524e-01, -1.41675055e-01,  1.64075390e-01],\n",
       "       [ 1.71771988e-01,  1.69121370e-01, -1.79938689e-01],\n",
       "       [-1.14892565e-01,  9.02629048e-02,  2.06971362e-01],\n",
       "       [-1.43935978e-02,  1.10989228e-01,  1.08745024e-01],\n",
       "       [-3.12220305e-02, -5.42276800e-02,  2.08836034e-01],\n",
       "       [ 1.60511568e-01,  1.90730199e-01, -1.22475035e-01],\n",
       "       [ 1.65984586e-01, -1.15624964e-02,  9.01386142e-03],\n",
       "       [ 1.57449439e-01,  7.64525980e-02, -1.92107856e-02],\n",
       "       [ 8.79308432e-02,  2.06323549e-01,  1.70295075e-01],\n",
       "       [ 6.35054857e-02,  1.05369523e-01, -1.98236704e-01],\n",
       "       [-3.19994539e-02,  9.36838239e-02, -1.82365939e-01],\n",
       "       [-1.69413120e-01,  3.73759717e-02,  6.63225502e-02],\n",
       "       [ 6.25496954e-02,  4.31417078e-02, -1.76580355e-01],\n",
       "       [ 2.02492878e-01,  9.78540033e-02,  1.99076831e-02],\n",
       "       [-8.43751878e-02, -1.99521184e-01,  1.80778012e-01],\n",
       "       [-1.70789719e-01,  1.15289703e-01,  1.24705419e-01],\n",
       "       [ 1.79226086e-01,  4.51383442e-02, -1.48368925e-02],\n",
       "       [ 1.02541074e-01, -7.69138932e-02, -1.12333685e-01],\n",
       "       [-1.53398678e-01,  6.45015985e-02,  6.51630312e-02],\n",
       "       [-2.13217691e-01,  1.44582644e-01, -1.21388003e-01],\n",
       "       [ 2.81014740e-02,  5.74635118e-02,  1.63034216e-01],\n",
       "       [ 1.67339996e-01, -4.04412150e-02, -2.10122377e-01],\n",
       "       [-1.85515121e-01, -1.94314331e-01, -1.61640495e-02],\n",
       "       [ 1.83931842e-01, -1.49894297e-01, -1.77129582e-01],\n",
       "       [ 1.66131109e-02, -5.11328280e-02, -1.67273402e-01],\n",
       "       [-6.98269755e-02, -1.28639787e-02, -2.10490018e-01],\n",
       "       [-1.19816445e-01,  4.40768749e-02, -2.07432210e-01],\n",
       "       [-1.23585336e-01, -6.72502816e-02, -1.11144401e-01],\n",
       "       [ 1.13071099e-01,  1.77699819e-01, -2.92865932e-03],\n",
       "       [-1.14590250e-01, -3.81584316e-02,  3.16461027e-02],\n",
       "       [ 1.46241769e-01, -3.83735448e-02, -5.57470322e-03],\n",
       "       [-2.89795101e-02, -8.41042995e-02,  1.28499016e-01],\n",
       "       [-1.22986153e-01, -2.20550448e-02, -1.93040073e-02],\n",
       "       [ 1.53238773e-02, -1.24552660e-01, -1.07729934e-01],\n",
       "       [ 1.02029368e-01, -2.55615711e-02,  5.18025309e-02],\n",
       "       [-2.73323804e-02, -7.77197331e-02,  4.98631150e-02],\n",
       "       [-7.70579427e-02, -4.29384708e-02, -1.42227650e-01],\n",
       "       [-3.08780372e-03, -2.13180646e-01,  4.11060601e-02],\n",
       "       [ 1.72976688e-01, -1.82071730e-01, -1.80802032e-01],\n",
       "       [ 4.12535816e-02,  6.46251589e-02, -1.16058327e-01],\n",
       "       [ 4.27843779e-02,  1.59122929e-01, -1.32862076e-01],\n",
       "       [ 1.67225495e-01,  1.31032690e-01, -5.34018874e-02],\n",
       "       [-2.30342150e-02, -4.44680303e-02, -1.77875161e-04],\n",
       "       [-1.20475024e-01,  4.28129882e-02,  9.45889503e-02],\n",
       "       [-2.32332647e-02,  2.10016966e-04, -7.45348185e-02],\n",
       "       [-5.15239835e-02,  1.15268931e-01,  1.17272869e-01],\n",
       "       [ 1.50748774e-01, -2.13104874e-01, -5.22521585e-02],\n",
       "       [ 3.29839736e-02,  1.53421655e-01, -4.35118824e-02],\n",
       "       [-7.70877898e-02, -2.80882567e-02, -7.36272037e-02],\n",
       "       [ 5.19811660e-02, -1.99244276e-01,  3.16142589e-02],\n",
       "       [-2.08590969e-01,  1.46386400e-01, -9.01417360e-02],\n",
       "       [ 1.32067874e-01,  1.12365261e-01,  6.74207062e-02],\n",
       "       [ 9.90910381e-02,  1.53467521e-01,  2.10406497e-01],\n",
       "       [ 2.95103192e-02, -1.22258998e-01, -1.79992527e-01],\n",
       "       [-5.01035601e-02,  4.27261442e-02, -2.10741609e-01],\n",
       "       [ 5.90960532e-02,  2.10329846e-01, -1.16526432e-01],\n",
       "       [ 1.83017209e-01,  1.31730959e-01,  7.04139322e-02],\n",
       "       [-2.31853426e-02, -1.87371656e-01,  5.82824498e-02],\n",
       "       [ 1.98007450e-01, -1.20963633e-01, -8.98017585e-02],\n",
       "       [ 9.10888463e-02,  6.93195313e-02,  2.26051956e-02],\n",
       "       [-1.05862021e-01, -3.42852026e-02, -1.88612625e-01],\n",
       "       [ 7.32253343e-02, -2.03448817e-01, -5.22684753e-02],\n",
       "       [ 1.50989592e-02, -4.39892262e-02, -1.89460099e-01],\n",
       "       [ 1.44743875e-01,  8.59601647e-02,  1.08227327e-01],\n",
       "       [-1.67810693e-01,  7.04455525e-02, -9.27131698e-02],\n",
       "       [-1.10733807e-01,  1.65731654e-01,  9.78674144e-02],\n",
       "       [-1.36478335e-01,  1.97793797e-01,  1.45442858e-01],\n",
       "       [-2.01863796e-02,  8.04765970e-02,  7.68600255e-02],\n",
       "       [ 6.98201358e-03,  6.71401173e-02, -1.92793608e-02],\n",
       "       [ 2.02313527e-01, -9.39158201e-02, -4.70745862e-02],\n",
       "       [-9.93922502e-02,  3.87393385e-02,  1.10414490e-01],\n",
       "       [ 3.12528014e-02, -1.15725905e-01,  5.29758632e-03],\n",
       "       [ 8.93383473e-02, -4.78622019e-02,  1.82138667e-01],\n",
       "       [-8.87099355e-02,  1.67276710e-02, -2.05723137e-01],\n",
       "       [-8.72569084e-02, -3.29165161e-02,  1.72180340e-01],\n",
       "       [-5.83851188e-02,  1.78426996e-01,  1.05314210e-01],\n",
       "       [-1.88125655e-01, -9.39801112e-02, -2.41400152e-02],\n",
       "       [-1.78068429e-02,  1.08754441e-01,  8.30965191e-02],\n",
       "       [ 6.33733422e-02,  5.12816757e-02,  8.52373093e-02],\n",
       "       [ 1.71048298e-01, -1.69620544e-01, -1.76395893e-01],\n",
       "       [ 8.76812786e-02,  1.99919388e-01,  2.01220766e-01],\n",
       "       [ 1.15479723e-01,  9.76404101e-02,  1.97130695e-01],\n",
       "       [ 3.27091515e-02, -1.24975704e-01, -1.77783415e-01],\n",
       "       [ 1.07624099e-01, -1.03987224e-01, -3.58610898e-02],\n",
       "       [-1.95446670e-01,  8.72186273e-02, -7.58674890e-02],\n",
       "       [-2.56334543e-02,  1.67162165e-01,  1.58879533e-01],\n",
       "       [-3.17732096e-02, -2.87365764e-02,  3.08603197e-02],\n",
       "       [-1.46882772e-01, -1.24526225e-01,  7.43842125e-03],\n",
       "       [-1.21168144e-01, -1.15714572e-01, -1.11824051e-01],\n",
       "       [-1.46127403e-01,  9.96964425e-02,  2.67022848e-03],\n",
       "       [-1.57710880e-01,  1.99063078e-01, -9.47129801e-02],\n",
       "       [-5.30806929e-02, -1.39610499e-01, -8.99332464e-02],\n",
       "       [-1.27462953e-01,  6.06104583e-02, -1.65048733e-01],\n",
       "       [-2.11279973e-01, -8.94785151e-02, -1.98696792e-01],\n",
       "       [-6.40422702e-02, -1.68611377e-01,  5.02270311e-02],\n",
       "       [ 1.75185069e-01, -7.53589720e-02,  1.92894682e-01],\n",
       "       [-1.04640871e-02, -1.34838358e-01,  1.72482729e-02],\n",
       "       [ 5.34952134e-02,  1.14411011e-01,  1.42563656e-01],\n",
       "       [ 1.56124935e-01, -3.53862643e-02,  2.07776204e-01],\n",
       "       [ 1.81646809e-01,  8.99277478e-02,  1.41685054e-01],\n",
       "       [-5.99473864e-02, -1.59777835e-01, -1.95458964e-01],\n",
       "       [-5.95714897e-02, -2.46219486e-02, -1.91413417e-01],\n",
       "       [-2.07775384e-02, -1.16632611e-01,  9.49614197e-02],\n",
       "       [ 1.05521083e-02,  1.26358941e-01, -1.12524465e-01],\n",
       "       [ 1.39574513e-01, -2.04607785e-01, -8.35423619e-02],\n",
       "       [-1.61456347e-01,  2.44645327e-02,  1.88161924e-01],\n",
       "       [ 3.69244367e-02, -2.01071218e-01, -4.19640988e-02],\n",
       "       [ 2.07837656e-01, -6.74664229e-02,  5.06395251e-02],\n",
       "       [ 1.16311476e-01, -1.55984864e-01,  1.52187601e-01],\n",
       "       [ 1.85966939e-02, -1.01751983e-01,  8.16019922e-02],\n",
       "       [-1.51064515e-01,  1.23174116e-01, -8.15269351e-02],\n",
       "       [-1.60997778e-01,  1.38928890e-02,  6.15327805e-02],\n",
       "       [-8.75475407e-02, -1.97020322e-01, -1.35191754e-01],\n",
       "       [-2.31131911e-02,  9.24949497e-02,  1.53586403e-01],\n",
       "       [-1.68548971e-01, -8.00574720e-02, -1.49395436e-01],\n",
       "       [ 5.31744212e-02,  2.59622037e-02,  5.75299412e-02],\n",
       "       [ 5.27887791e-02, -5.49068600e-02,  1.18631050e-01],\n",
       "       [ 9.07651931e-02, -1.20790303e-01,  9.58694071e-02],\n",
       "       [-1.60136744e-01,  1.44653916e-02, -7.27691203e-02]], dtype=float32), array([0., 0., 0.], dtype=float32)], non_trainable=[]), optimizer_state=[0], delta_aggregate_state=OrderedDict([('value_sum_process', ()), ('weight_sum_process', ())]), model_broadcast_state=())"
      ]
     },
     "execution_count": 23,
     "metadata": {},
     "output_type": "execute_result"
    }
   ],
   "source": [
    "state"
   ]
  },
  {
   "cell_type": "markdown",
   "metadata": {
    "id": "TLrk-NDxiDBO"
   },
   "source": [
    "The second of the pair of federated computations, `next`, represents a single\n",
    "round of Federated Averaging, which consists of pushing the server state\n",
    "(including the model parameters) to the clients, on-device training on their\n",
    "local data, collecting and averaging model updates, and producing a new updated\n",
    "model at the server.\n",
    "\n",
    "Conceptually, you can think of `next` as having a functional type signature that\n",
    "looks as follows.\n",
    "\n",
    "```\n",
    "SERVER_STATE, FEDERATED_DATA -> SERVER_STATE, TRAINING_METRICS\n",
    "```\n",
    "\n",
    "In particular, one should think about `next()` not as being a function that runs on a server, but rather being a declarative functional representation of the entire decentralized computation - some of the inputs are provided by the server (`SERVER_STATE`), but each participating device contributes its own local dataset.\n",
    "\n",
    "To run a single round of training and visualizing the results We can use the following line of code and federated data we've already generated above:\n",
    "\n",
    "\n",
    "\n",
    "\n"
   ]
  },
  {
   "cell_type": "code",
   "execution_count": null,
   "metadata": {
    "colab": {
     "base_uri": "https://localhost:8080/"
    },
    "id": "7HoXm0fWjpnv",
    "outputId": "33e1aba5-9fa4-46ed-e497-9bdc73060e23"
   },
   "outputs": [
    {
     "name": "stderr",
     "output_type": "stream",
     "text": [
      "/usr/lib/python3.7/asyncio/tasks.py:840: RuntimeWarning: coroutine 'wrap_coroutine_in_current_trace_context.<locals>._wrapped' was never awaited\n",
      "  futures._chain_future(ensure_future(coro, loop=loop), future)\n",
      "RuntimeWarning: Enable tracemalloc to get the object allocation traceback\n",
      "/usr/lib/python3.7/asyncio/tasks.py:840: RuntimeWarning: coroutine '_invoke' was never awaited\n",
      "  futures._chain_future(ensure_future(coro, loop=loop), future)\n",
      "RuntimeWarning: Enable tracemalloc to get the object allocation traceback\n"
     ]
    },
    {
     "name": "stdout",
     "output_type": "stream",
     "text": [
      "round  1, metrics=OrderedDict([('broadcast', ()), ('aggregation', OrderedDict([('mean_value', ()), ('mean_weight', ())])), ('train', OrderedDict([('categorical_accuracy', 0.67475504), ('AUC', 0.82607585), ('loss', 0.7946014)])), ('stat', OrderedDict([('num_examples', 6429)]))])\n"
     ]
    }
   ],
   "source": [
    "state, metrics = iterative_process.next(state, federated_train_data)\n",
    "print('round  1, metrics={}'.format(metrics))"
   ]
  },
  {
   "cell_type": "markdown",
   "metadata": {
    "id": "puoZpi5CltTJ"
   },
   "source": [
    "## Evaluation\n",
    "To perform evaluation on federated data, you can construct another *federated\n",
    "computation* designed for just this purpose, using the\n",
    "`tff.learning.build_federated_evaluation` function, and passing in your model\n",
    "constructor as an argument. Note that as the evaluation doesn't perform gradient descent, and there's no need to construct\n",
    "optimizers.\n",
    "\n",
    "For experimentation and research, when a centralized test dataset is available,\n",
    "[Federated Learning for Text Generation](federated_learning_for_text_generation.ipynb)\n",
    "demonstrates another evaluation option: taking the trained weights from\n",
    "federated learning, applying them to a standard Keras model, and then simply\n",
    "calling `tf.keras.models.Model.evaluate()` on a centralized dataset."
   ]
  },
  {
   "cell_type": "code",
   "execution_count": null,
   "metadata": {
    "colab": {
     "base_uri": "https://localhost:8080/"
    },
    "id": "cnHToV-sl193",
    "outputId": "5df7d3c5-2058-4f48-e236-6bba59415405"
   },
   "outputs": [
    {
     "data": {
      "text/plain": [
       "OrderedDict([('categorical_accuracy', 0.70076585),\n",
       "             ('AUC', 0.7917838),\n",
       "             ('loss', 1.0567521)])"
      ]
     },
     "execution_count": 25,
     "metadata": {},
     "output_type": "execute_result"
    }
   ],
   "source": [
    "evaluation = tff.learning.build_federated_evaluation(model_fn)   # iterative_process = tff.learning.build_federated_averaging_process(model_fn,client_optimizer_fn=lambda: tf.keras.optimizers.SGD(learning_rate=0.01), server_optimizer_fn=lambda: tf.keras.optimizers.SGD(learning_rate=0.05))\n",
    "\n",
    "\n",
    "federated_test_data = make_federated_data(test_data, test_client_ids)\n",
    "\n",
    "val_metrics = evaluation(state.model, federated_test_data)\n",
    "\n",
    "val_metrics"
   ]
  },
  {
   "cell_type": "code",
   "execution_count": null,
   "metadata": {
    "colab": {
     "base_uri": "https://localhost:8080/"
    },
    "id": "7MRMGwyLmSwJ",
    "outputId": "0f223e85-9baf-4310-d65a-f519ae769072"
   },
   "outputs": [
    {
     "name": "stdout",
     "output_type": "stream",
     "text": [
      "(64, 224, 224, 3)\n"
     ]
    }
   ],
   "source": [
    "a=iter(federated_test_data[0]).next()\n",
    "print(a[0].shape)\n"
   ]
  },
  {
   "cell_type": "markdown",
   "metadata": {
    "id": "Mh_ceyGdjC3G"
   },
   "source": [
    "## Training and evaluation multiple rounds:\n",
    "\n",
    "Here we run the federated learning algorithm multiple rounds on training clients and evaluate the performance on test client.\n",
    "\n",
    "First we initialize the model:"
   ]
  },
  {
   "cell_type": "code",
   "execution_count": null,
   "metadata": {
    "colab": {
     "base_uri": "https://localhost:8080/"
    },
    "id": "FIdaipQXh88D",
    "outputId": "4ab43c1a-0ed4-4d85-d70d-050d3bffb67d"
   },
   "outputs": [
    {
     "name": "stdout",
     "output_type": "stream",
     "text": [
      "WARNING:tensorflow:From /usr/local/lib/python3.7/dist-packages/tensorflow_federated/python/core/impl/compiler/tensorflow_computation_transformations.py:60: extract_sub_graph (from tensorflow.python.framework.graph_util_impl) is deprecated and will be removed in a future version.\n",
      "Instructions for updating:\n",
      "Use `tf.compat.v1.graph_util.extract_sub_graph`\n"
     ]
    },
    {
     "name": "stderr",
     "output_type": "stream",
     "text": [
      "WARNING:tensorflow:From /usr/local/lib/python3.7/dist-packages/tensorflow_federated/python/core/impl/compiler/tensorflow_computation_transformations.py:60: extract_sub_graph (from tensorflow.python.framework.graph_util_impl) is deprecated and will be removed in a future version.\n",
      "Instructions for updating:\n",
      "Use `tf.compat.v1.graph_util.extract_sub_graph`\n"
     ]
    }
   ],
   "source": [
    "state = iterative_process.initialize()"
   ]
  },
  {
   "cell_type": "markdown",
   "metadata": {
    "id": "GsfxH0uckV6O"
   },
   "source": [
    "Now let's train and evaluate for multiple rounds. Note that number of rounds is soecified using the variable `NUM_ROUNDS` in the following."
   ]
  },
  {
   "cell_type": "code",
   "execution_count": null,
   "metadata": {
    "id": "qe5p5EwokI6O"
   },
   "outputs": [],
   "source": [
    "NUM_ROUNDS = 5\n",
    "\n",
    "loss = list()\n",
    "accuracy = list()\n",
    "AUC=list()\n",
    "\n",
    "\n",
    "\n",
    "val_loss = list()\n",
    "val_accuracy = list()\n",
    "val_AUC=list()\n",
    "\n",
    "\n",
    "\n",
    "evaluation = tff.learning.build_federated_evaluation(model_fn)\n",
    "federated_test_data = make_federated_data(test_data, test_client_ids)\n",
    "\n",
    "for round_num in range(1, NUM_ROUNDS+1):\n",
    "    state, metrics = iterative_process.next(state, federated_train_data)\n",
    "    val_metrics = evaluation(state.model, federated_test_data)\n",
    "    \n",
    "    \n",
    "    my_loss = metrics['train']['loss']\n",
    "    loss.append(metrics['train']['loss'])\n",
    "\n",
    "    \n",
    "    my_acc = metrics['train']['categorical_accuracy']\n",
    "    accuracy.append(metrics['train']['categorical_accuracy'])\n",
    "\n",
    "    my_AUC = metrics['train']['AUC']\n",
    "    AUC.append(my_AUC)\n",
    "    \n",
    "    \n",
    "    my_val_loss=val_metrics['loss']\n",
    "    val_loss.append(val_metrics['loss'])\n",
    "\n",
    "    \n",
    "    \n",
    "    my_val_accuracy=val_metrics['categorical_accuracy']\n",
    "    val_accuracy.append(val_metrics['categorical_accuracy'])\n",
    "    \n",
    "\n",
    "    my_val_AUC = val_metrics['AUC']\n",
    "    val_AUC.append(my_val_AUC)\n",
    "\n",
    "    print(f\"round: {round_num:2d}, training_loss: {my_loss}, training_accuracy: {my_acc}, train_auc: {my_AUC}, test_loss: {my_val_loss}, test_accuracy: {my_val_accuracy},  test_auc: {my_val_AUC}\")\n",
    "\n",
    "\n",
    "history_fed={'loss':loss, 'categorical_accuracy':accuracy, 'AUC':AUC, 'val_loss':val_loss, 'val_categorical_accuracy':val_accuracy, 'val_AUC':val_AUC}\n",
    "\n",
    "\n",
    "#np.save('/content/gdrive/Shareddrives/AI Engineering/PETs/Privacy-Sobhan Hemati/Kidney/history_fed_train_id_0_2_3_test_id_1.npy',history_fed)"
   ]
  },
  {
   "cell_type": "code",
   "execution_count": null,
   "metadata": {
    "id": "OzpUcy1cLVU7"
   },
   "outputs": [],
   "source": [
    "fig1 = plt.figure(figsize=(30, 8))\n",
    "fig1.subplots_adjust(top = 0.99, bottom=0.01, hspace=.3, wspace=0.3)\n",
    "ax1 = fig1.add_subplot(1, 3, 1)\n",
    "ax1.plot(history_fed['AUC'],label='Train AUC on Hispital 1 with Federated Model trained on Hospitals 0-2-3')\n",
    "ax1.plot(history_fed['val_AUC'],label='Test AUC on Hispital 1 with Federated Model trained on Hospitals 0-2-3')\n",
    "ax1.legend(loc='lower right')\n",
    "ax1.set_ylabel('Auc')\n",
    "ax1.set_ylim([0, 1])\n",
    "ax1.set_title('Auc for test and train clients')\n",
    "ax1.set_xlabel('Epoch/Round')\n",
    "\n",
    "\n",
    "ax2 = fig1.add_subplot(1, 3, 2)\n",
    "ax2.plot(history_fed['categorical_accuracy'],label='Train Accuracy on Hispital 1 with Federated Model trained on Hospitals 0-2-3')\n",
    "ax2.plot(history_fed['val_categorical_accuracy'],linewidth=3,label='Test Accuracy on Hispital 1 with Federated Model trained on Hospitals 0-2-3')\n",
    "ax2.legend(loc='lower right')\n",
    "ax2.set_ylabel('Accuracy')\n",
    "ax2.set_ylim([0, 1])\n",
    "ax2.set_title('Accuracy for test and train clients')\n",
    "ax2.set_xlabel('Epoch/Round')\n",
    "\n",
    "ax3 = fig1.add_subplot(1, 3, 3)\n",
    "ax3.plot(history_fed['loss'],label='Train Loss on Hispital 1 with Federated Model trained on Hospitals 0-2-3')\n",
    "ax3.plot(history_fed['val_loss'],label='Test Loss on Hispital 1 with Federated Model trained on Hospitals 0-2-3')\n",
    "ax3.legend(loc='lower right')\n",
    "ax3.set_ylabel('Cross Entropy')\n",
    "ax3.set_ylim([0,max(ax2.get_ylim())+.5])\n",
    "ax3.set_title('Loss for test and train clients')\n",
    "ax3.set_xlabel('Epoch/Round')\n",
    "\n",
    "\n",
    "\n",
    "#plt.savefig('/content/gdrive/Shareddrives/AI Engineering/PETs/Privacy-Sobhan Hemati/Kidney/history_fed_train_id_0_2_3_result.jpg',bbox_inches='tight')"
   ]
  },
  {
   "cell_type": "code",
   "execution_count": null,
   "metadata": {
    "colab": {
     "base_uri": "https://localhost:8080/"
    },
    "id": "06LH-vTiEnV5",
    "outputId": "411737e6-c8e7-4d19-f021-6b9fcc15bc5b"
   },
   "outputs": [
    {
     "name": "stdout",
     "output_type": "stream",
     "text": [
      "tensorflow-federated          0.19.0              /usr/local/lib/python3.7/dist-packages pip\n",
      "tensorflow                    2.5.1               /usr/local/lib/python3.7/dist-packages pip\n",
      "tensorflow-datasets           4.0.1               /usr/local/lib/python3.7/dist-packages pip\n",
      "tensorflow-estimator          2.5.0               /usr/local/lib/python3.7/dist-packages pip\n",
      "tensorflow-federated          0.19.0              /usr/local/lib/python3.7/dist-packages pip\n",
      "tensorflow-gcs-config         2.6.0               /usr/local/lib/python3.7/dist-packages pip\n",
      "tensorflow-hub                0.12.0              /usr/local/lib/python3.7/dist-packages pip\n",
      "tensorflow-metadata           1.2.0               /usr/local/lib/python3.7/dist-packages pip\n",
      "tensorflow-model-optimization 0.5.0               /usr/local/lib/python3.7/dist-packages pip\n",
      "tensorflow-privacy            0.5.2               /usr/local/lib/python3.7/dist-packages pip\n",
      "tensorflow-probability        0.14.1              /usr/local/lib/python3.7/dist-packages pip\n"
     ]
    }
   ],
   "source": [
    "!pip list -v | grep tensorflow-federated\n",
    "!pip list -v | grep tensorflow"
   ]
  },
  {
   "cell_type": "code",
   "execution_count": null,
   "metadata": {
    "id": "sBYqUaXSyJ8W"
   },
   "outputs": [],
   "source": []
  }
 ],
 "metadata": {
  "accelerator": "GPU",
  "colab": {
   "collapsed_sections": [],
   "name": "HFL_for_image_dataset.ipynb",
   "provenance": []
  },
  "kernelspec": {
   "display_name": "tff_test_4",
   "language": "python",
   "name": "tff_test_4"
  },
  "language_info": {
   "codemirror_mode": {
    "name": "ipython",
    "version": 3
   },
   "file_extension": ".py",
   "mimetype": "text/x-python",
   "name": "python",
   "nbconvert_exporter": "python",
   "pygments_lexer": "ipython3",
   "version": "3.8.12"
  }
 },
 "nbformat": 4,
 "nbformat_minor": 1
}
