{
 "cells": [
  {
   "cell_type": "markdown",
   "metadata": {},
   "source": [
    "# Federated learning for tabular data - Breast Cancer Dataset\n",
    "\n",
    "References:\n",
    "- https://www.tensorflow.org/federated/tutorials/federated_learning_for_image_classification\n",
    "- https://stackoverflow.com/questions/58965488/how-to-create-federated-dataset-from-a-csv-file\n",
    "- https://www.youtube.com/watch?v=JBNas6Yd30A&ab_channel=GoogleTechTalks \n"
   ]
  },
  {
   "cell_type": "markdown",
   "metadata": {},
   "source": [
    "To make sure that your environment is correctly setup, run the following. \n",
    "If you don't see a greeting, refer to the [Installation](https://www.tensorflow.org/federated/install) guide for instructions."
   ]
  },
  {
   "cell_type": "code",
   "execution_count": 1,
   "metadata": {},
   "outputs": [],
   "source": [
    "import nest_asyncio\n",
    "nest_asyncio.apply()"
   ]
  },
  {
   "cell_type": "code",
   "execution_count": 2,
   "metadata": {},
   "outputs": [
    {
     "name": "stdout",
     "output_type": "stream",
     "text": [
      "WARNING:tensorflow:From /ssd003/projects/aieng/public/pets_unified/lib/python3.8/site-packages/tensorflow_federated/python/core/impl/compiler/tensorflow_computation_transformations.py:61: extract_sub_graph (from tensorflow.python.framework.graph_util_impl) is deprecated and will be removed in a future version.\n",
      "Instructions for updating:\n",
      "Use `tf.compat.v1.graph_util.extract_sub_graph`\n"
     ]
    },
    {
     "name": "stderr",
     "output_type": "stream",
     "text": [
      "WARNING:tensorflow:From /ssd003/projects/aieng/public/pets_unified/lib/python3.8/site-packages/tensorflow_federated/python/core/impl/compiler/tensorflow_computation_transformations.py:61: extract_sub_graph (from tensorflow.python.framework.graph_util_impl) is deprecated and will be removed in a future version.\n",
      "Instructions for updating:\n",
      "Use `tf.compat.v1.graph_util.extract_sub_graph`\n"
     ]
    },
    {
     "data": {
      "text/plain": [
       "b'Hello, World!'"
      ]
     },
     "execution_count": 2,
     "metadata": {},
     "output_type": "execute_result"
    }
   ],
   "source": [
    "# !pip install nest_asyncio\n",
    "import nest_asyncio\n",
    "nest_asyncio.apply()\n",
    "import collections\n",
    "import numpy as np\n",
    "import tensorflow as tf\n",
    "import tensorflow_federated as tff\n",
    "from tensorflow import reshape, nest, config\n",
    "from tensorflow.keras.datasets import mnist\n",
    "import pandas as pd\n",
    "from random import sample\n",
    "from matplotlib import pyplot as plt\n",
    "from sklearn import preprocessing\n",
    "np.random.seed(0)\n",
    "\n",
    "tff.federated_computation(lambda: 'Hello, World!')()"
   ]
  },
  {
   "cell_type": "markdown",
   "metadata": {},
   "source": [
    "### Loading and preparing the tabular input data"
   ]
  },
  {
   "cell_type": "markdown",
   "metadata": {},
   "source": [
    "Federated learning requires a federated data set, i.e., a collection of data from multiple users. \n",
    "The TFF has a few federated datasets, but in this notebook, we will be converting a tabular dataset to a federated one. "
   ]
  },
  {
   "cell_type": "code",
   "execution_count": 3,
   "metadata": {
    "tags": []
   },
   "outputs": [
    {
     "data": {
      "text/html": [
       "<div>\n",
       "<style scoped>\n",
       "    .dataframe tbody tr th:only-of-type {\n",
       "        vertical-align: middle;\n",
       "    }\n",
       "\n",
       "    .dataframe tbody tr th {\n",
       "        vertical-align: top;\n",
       "    }\n",
       "\n",
       "    .dataframe thead th {\n",
       "        text-align: right;\n",
       "    }\n",
       "</style>\n",
       "<table border=\"1\" class=\"dataframe\">\n",
       "  <thead>\n",
       "    <tr style=\"text-align: right;\">\n",
       "      <th></th>\n",
       "      <th>id</th>\n",
       "      <th>diagnosis</th>\n",
       "      <th>radius_mean</th>\n",
       "      <th>texture_mean</th>\n",
       "      <th>perimeter_mean</th>\n",
       "      <th>area_mean</th>\n",
       "      <th>smoothness_mean</th>\n",
       "      <th>compactness_mean</th>\n",
       "      <th>concavity_mean</th>\n",
       "      <th>concave points_mean</th>\n",
       "      <th>...</th>\n",
       "      <th>texture_worst</th>\n",
       "      <th>perimeter_worst</th>\n",
       "      <th>area_worst</th>\n",
       "      <th>smoothness_worst</th>\n",
       "      <th>compactness_worst</th>\n",
       "      <th>concavity_worst</th>\n",
       "      <th>concave points_worst</th>\n",
       "      <th>symmetry_worst</th>\n",
       "      <th>fractal_dimension_worst</th>\n",
       "      <th>Unnamed: 32</th>\n",
       "    </tr>\n",
       "  </thead>\n",
       "  <tbody>\n",
       "    <tr>\n",
       "      <th>0</th>\n",
       "      <td>842302</td>\n",
       "      <td>M</td>\n",
       "      <td>17.99</td>\n",
       "      <td>10.38</td>\n",
       "      <td>122.80</td>\n",
       "      <td>1001.0</td>\n",
       "      <td>0.11840</td>\n",
       "      <td>0.27760</td>\n",
       "      <td>0.30010</td>\n",
       "      <td>0.14710</td>\n",
       "      <td>...</td>\n",
       "      <td>17.33</td>\n",
       "      <td>184.60</td>\n",
       "      <td>2019.0</td>\n",
       "      <td>0.16220</td>\n",
       "      <td>0.66560</td>\n",
       "      <td>0.7119</td>\n",
       "      <td>0.2654</td>\n",
       "      <td>0.4601</td>\n",
       "      <td>0.11890</td>\n",
       "      <td>NaN</td>\n",
       "    </tr>\n",
       "    <tr>\n",
       "      <th>1</th>\n",
       "      <td>842517</td>\n",
       "      <td>M</td>\n",
       "      <td>20.57</td>\n",
       "      <td>17.77</td>\n",
       "      <td>132.90</td>\n",
       "      <td>1326.0</td>\n",
       "      <td>0.08474</td>\n",
       "      <td>0.07864</td>\n",
       "      <td>0.08690</td>\n",
       "      <td>0.07017</td>\n",
       "      <td>...</td>\n",
       "      <td>23.41</td>\n",
       "      <td>158.80</td>\n",
       "      <td>1956.0</td>\n",
       "      <td>0.12380</td>\n",
       "      <td>0.18660</td>\n",
       "      <td>0.2416</td>\n",
       "      <td>0.1860</td>\n",
       "      <td>0.2750</td>\n",
       "      <td>0.08902</td>\n",
       "      <td>NaN</td>\n",
       "    </tr>\n",
       "    <tr>\n",
       "      <th>2</th>\n",
       "      <td>84300903</td>\n",
       "      <td>M</td>\n",
       "      <td>19.69</td>\n",
       "      <td>21.25</td>\n",
       "      <td>130.00</td>\n",
       "      <td>1203.0</td>\n",
       "      <td>0.10960</td>\n",
       "      <td>0.15990</td>\n",
       "      <td>0.19740</td>\n",
       "      <td>0.12790</td>\n",
       "      <td>...</td>\n",
       "      <td>25.53</td>\n",
       "      <td>152.50</td>\n",
       "      <td>1709.0</td>\n",
       "      <td>0.14440</td>\n",
       "      <td>0.42450</td>\n",
       "      <td>0.4504</td>\n",
       "      <td>0.2430</td>\n",
       "      <td>0.3613</td>\n",
       "      <td>0.08758</td>\n",
       "      <td>NaN</td>\n",
       "    </tr>\n",
       "    <tr>\n",
       "      <th>3</th>\n",
       "      <td>84348301</td>\n",
       "      <td>M</td>\n",
       "      <td>11.42</td>\n",
       "      <td>20.38</td>\n",
       "      <td>77.58</td>\n",
       "      <td>386.1</td>\n",
       "      <td>0.14250</td>\n",
       "      <td>0.28390</td>\n",
       "      <td>0.24140</td>\n",
       "      <td>0.10520</td>\n",
       "      <td>...</td>\n",
       "      <td>26.50</td>\n",
       "      <td>98.87</td>\n",
       "      <td>567.7</td>\n",
       "      <td>0.20980</td>\n",
       "      <td>0.86630</td>\n",
       "      <td>0.6869</td>\n",
       "      <td>0.2575</td>\n",
       "      <td>0.6638</td>\n",
       "      <td>0.17300</td>\n",
       "      <td>NaN</td>\n",
       "    </tr>\n",
       "    <tr>\n",
       "      <th>4</th>\n",
       "      <td>84358402</td>\n",
       "      <td>M</td>\n",
       "      <td>20.29</td>\n",
       "      <td>14.34</td>\n",
       "      <td>135.10</td>\n",
       "      <td>1297.0</td>\n",
       "      <td>0.10030</td>\n",
       "      <td>0.13280</td>\n",
       "      <td>0.19800</td>\n",
       "      <td>0.10430</td>\n",
       "      <td>...</td>\n",
       "      <td>16.67</td>\n",
       "      <td>152.20</td>\n",
       "      <td>1575.0</td>\n",
       "      <td>0.13740</td>\n",
       "      <td>0.20500</td>\n",
       "      <td>0.4000</td>\n",
       "      <td>0.1625</td>\n",
       "      <td>0.2364</td>\n",
       "      <td>0.07678</td>\n",
       "      <td>NaN</td>\n",
       "    </tr>\n",
       "    <tr>\n",
       "      <th>...</th>\n",
       "      <td>...</td>\n",
       "      <td>...</td>\n",
       "      <td>...</td>\n",
       "      <td>...</td>\n",
       "      <td>...</td>\n",
       "      <td>...</td>\n",
       "      <td>...</td>\n",
       "      <td>...</td>\n",
       "      <td>...</td>\n",
       "      <td>...</td>\n",
       "      <td>...</td>\n",
       "      <td>...</td>\n",
       "      <td>...</td>\n",
       "      <td>...</td>\n",
       "      <td>...</td>\n",
       "      <td>...</td>\n",
       "      <td>...</td>\n",
       "      <td>...</td>\n",
       "      <td>...</td>\n",
       "      <td>...</td>\n",
       "      <td>...</td>\n",
       "    </tr>\n",
       "    <tr>\n",
       "      <th>564</th>\n",
       "      <td>926424</td>\n",
       "      <td>M</td>\n",
       "      <td>21.56</td>\n",
       "      <td>22.39</td>\n",
       "      <td>142.00</td>\n",
       "      <td>1479.0</td>\n",
       "      <td>0.11100</td>\n",
       "      <td>0.11590</td>\n",
       "      <td>0.24390</td>\n",
       "      <td>0.13890</td>\n",
       "      <td>...</td>\n",
       "      <td>26.40</td>\n",
       "      <td>166.10</td>\n",
       "      <td>2027.0</td>\n",
       "      <td>0.14100</td>\n",
       "      <td>0.21130</td>\n",
       "      <td>0.4107</td>\n",
       "      <td>0.2216</td>\n",
       "      <td>0.2060</td>\n",
       "      <td>0.07115</td>\n",
       "      <td>NaN</td>\n",
       "    </tr>\n",
       "    <tr>\n",
       "      <th>565</th>\n",
       "      <td>926682</td>\n",
       "      <td>M</td>\n",
       "      <td>20.13</td>\n",
       "      <td>28.25</td>\n",
       "      <td>131.20</td>\n",
       "      <td>1261.0</td>\n",
       "      <td>0.09780</td>\n",
       "      <td>0.10340</td>\n",
       "      <td>0.14400</td>\n",
       "      <td>0.09791</td>\n",
       "      <td>...</td>\n",
       "      <td>38.25</td>\n",
       "      <td>155.00</td>\n",
       "      <td>1731.0</td>\n",
       "      <td>0.11660</td>\n",
       "      <td>0.19220</td>\n",
       "      <td>0.3215</td>\n",
       "      <td>0.1628</td>\n",
       "      <td>0.2572</td>\n",
       "      <td>0.06637</td>\n",
       "      <td>NaN</td>\n",
       "    </tr>\n",
       "    <tr>\n",
       "      <th>566</th>\n",
       "      <td>926954</td>\n",
       "      <td>M</td>\n",
       "      <td>16.60</td>\n",
       "      <td>28.08</td>\n",
       "      <td>108.30</td>\n",
       "      <td>858.1</td>\n",
       "      <td>0.08455</td>\n",
       "      <td>0.10230</td>\n",
       "      <td>0.09251</td>\n",
       "      <td>0.05302</td>\n",
       "      <td>...</td>\n",
       "      <td>34.12</td>\n",
       "      <td>126.70</td>\n",
       "      <td>1124.0</td>\n",
       "      <td>0.11390</td>\n",
       "      <td>0.30940</td>\n",
       "      <td>0.3403</td>\n",
       "      <td>0.1418</td>\n",
       "      <td>0.2218</td>\n",
       "      <td>0.07820</td>\n",
       "      <td>NaN</td>\n",
       "    </tr>\n",
       "    <tr>\n",
       "      <th>567</th>\n",
       "      <td>927241</td>\n",
       "      <td>M</td>\n",
       "      <td>20.60</td>\n",
       "      <td>29.33</td>\n",
       "      <td>140.10</td>\n",
       "      <td>1265.0</td>\n",
       "      <td>0.11780</td>\n",
       "      <td>0.27700</td>\n",
       "      <td>0.35140</td>\n",
       "      <td>0.15200</td>\n",
       "      <td>...</td>\n",
       "      <td>39.42</td>\n",
       "      <td>184.60</td>\n",
       "      <td>1821.0</td>\n",
       "      <td>0.16500</td>\n",
       "      <td>0.86810</td>\n",
       "      <td>0.9387</td>\n",
       "      <td>0.2650</td>\n",
       "      <td>0.4087</td>\n",
       "      <td>0.12400</td>\n",
       "      <td>NaN</td>\n",
       "    </tr>\n",
       "    <tr>\n",
       "      <th>568</th>\n",
       "      <td>92751</td>\n",
       "      <td>B</td>\n",
       "      <td>7.76</td>\n",
       "      <td>24.54</td>\n",
       "      <td>47.92</td>\n",
       "      <td>181.0</td>\n",
       "      <td>0.05263</td>\n",
       "      <td>0.04362</td>\n",
       "      <td>0.00000</td>\n",
       "      <td>0.00000</td>\n",
       "      <td>...</td>\n",
       "      <td>30.37</td>\n",
       "      <td>59.16</td>\n",
       "      <td>268.6</td>\n",
       "      <td>0.08996</td>\n",
       "      <td>0.06444</td>\n",
       "      <td>0.0000</td>\n",
       "      <td>0.0000</td>\n",
       "      <td>0.2871</td>\n",
       "      <td>0.07039</td>\n",
       "      <td>NaN</td>\n",
       "    </tr>\n",
       "  </tbody>\n",
       "</table>\n",
       "<p>569 rows × 33 columns</p>\n",
       "</div>"
      ],
      "text/plain": [
       "           id diagnosis  radius_mean  texture_mean  perimeter_mean  area_mean  \\\n",
       "0      842302         M        17.99         10.38          122.80     1001.0   \n",
       "1      842517         M        20.57         17.77          132.90     1326.0   \n",
       "2    84300903         M        19.69         21.25          130.00     1203.0   \n",
       "3    84348301         M        11.42         20.38           77.58      386.1   \n",
       "4    84358402         M        20.29         14.34          135.10     1297.0   \n",
       "..        ...       ...          ...           ...             ...        ...   \n",
       "564    926424         M        21.56         22.39          142.00     1479.0   \n",
       "565    926682         M        20.13         28.25          131.20     1261.0   \n",
       "566    926954         M        16.60         28.08          108.30      858.1   \n",
       "567    927241         M        20.60         29.33          140.10     1265.0   \n",
       "568     92751         B         7.76         24.54           47.92      181.0   \n",
       "\n",
       "     smoothness_mean  compactness_mean  concavity_mean  concave points_mean  \\\n",
       "0            0.11840           0.27760         0.30010              0.14710   \n",
       "1            0.08474           0.07864         0.08690              0.07017   \n",
       "2            0.10960           0.15990         0.19740              0.12790   \n",
       "3            0.14250           0.28390         0.24140              0.10520   \n",
       "4            0.10030           0.13280         0.19800              0.10430   \n",
       "..               ...               ...             ...                  ...   \n",
       "564          0.11100           0.11590         0.24390              0.13890   \n",
       "565          0.09780           0.10340         0.14400              0.09791   \n",
       "566          0.08455           0.10230         0.09251              0.05302   \n",
       "567          0.11780           0.27700         0.35140              0.15200   \n",
       "568          0.05263           0.04362         0.00000              0.00000   \n",
       "\n",
       "     ...  texture_worst  perimeter_worst  area_worst  smoothness_worst  \\\n",
       "0    ...          17.33           184.60      2019.0           0.16220   \n",
       "1    ...          23.41           158.80      1956.0           0.12380   \n",
       "2    ...          25.53           152.50      1709.0           0.14440   \n",
       "3    ...          26.50            98.87       567.7           0.20980   \n",
       "4    ...          16.67           152.20      1575.0           0.13740   \n",
       "..   ...            ...              ...         ...               ...   \n",
       "564  ...          26.40           166.10      2027.0           0.14100   \n",
       "565  ...          38.25           155.00      1731.0           0.11660   \n",
       "566  ...          34.12           126.70      1124.0           0.11390   \n",
       "567  ...          39.42           184.60      1821.0           0.16500   \n",
       "568  ...          30.37            59.16       268.6           0.08996   \n",
       "\n",
       "     compactness_worst  concavity_worst  concave points_worst  symmetry_worst  \\\n",
       "0              0.66560           0.7119                0.2654          0.4601   \n",
       "1              0.18660           0.2416                0.1860          0.2750   \n",
       "2              0.42450           0.4504                0.2430          0.3613   \n",
       "3              0.86630           0.6869                0.2575          0.6638   \n",
       "4              0.20500           0.4000                0.1625          0.2364   \n",
       "..                 ...              ...                   ...             ...   \n",
       "564            0.21130           0.4107                0.2216          0.2060   \n",
       "565            0.19220           0.3215                0.1628          0.2572   \n",
       "566            0.30940           0.3403                0.1418          0.2218   \n",
       "567            0.86810           0.9387                0.2650          0.4087   \n",
       "568            0.06444           0.0000                0.0000          0.2871   \n",
       "\n",
       "     fractal_dimension_worst  Unnamed: 32  \n",
       "0                    0.11890          NaN  \n",
       "1                    0.08902          NaN  \n",
       "2                    0.08758          NaN  \n",
       "3                    0.17300          NaN  \n",
       "4                    0.07678          NaN  \n",
       "..                       ...          ...  \n",
       "564                  0.07115          NaN  \n",
       "565                  0.06637          NaN  \n",
       "566                  0.07820          NaN  \n",
       "567                  0.12400          NaN  \n",
       "568                  0.07039          NaN  \n",
       "\n",
       "[569 rows x 33 columns]"
      ]
     },
     "execution_count": 3,
     "metadata": {},
     "output_type": "execute_result"
    }
   ],
   "source": [
    "data = pd.read_csv('./breast_cancer_data.csv')\n",
    "data\n"
   ]
  },
  {
   "cell_type": "code",
   "execution_count": 4,
   "metadata": {},
   "outputs": [
    {
     "name": "stdout",
     "output_type": "stream",
     "text": [
      "(569, 31)\n"
     ]
    },
    {
     "data": {
      "text/plain": [
       "RangeIndex(start=0, stop=30, step=1)"
      ]
     },
     "execution_count": 4,
     "metadata": {},
     "output_type": "execute_result"
    }
   ],
   "source": [
    "del data['Unnamed: 32']\n",
    "del data['id']\n",
    "print(data.shape)\n",
    "data['diagnosis'] = data['diagnosis'].str.replace('M','1')\n",
    "data['diagnosis'] = data['diagnosis'].str.replace('B','0')\n",
    "data[\"diagnosis\"] = pd.to_numeric(data[\"diagnosis\"])\n",
    "\n",
    "new = data.copy()\n",
    "del new['diagnosis']\n",
    "x = new.values #returns a numpy array\n",
    "min_max_scaler = preprocessing.MinMaxScaler()\n",
    "x_scaled = min_max_scaler.fit_transform(x)\n",
    "df = pd.DataFrame(x_scaled)\n",
    "df.columns"
   ]
  },
  {
   "cell_type": "code",
   "execution_count": 5,
   "metadata": {
    "scrolled": true
   },
   "outputs": [
    {
     "name": "stdout",
     "output_type": "stream",
     "text": [
      "     diagnosis  radius_mean  texture_mean  perimeter_mean  area_mean  \\\n",
      "0            1        17.99         10.38          122.80     1001.0   \n",
      "1            1        20.57         17.77          132.90     1326.0   \n",
      "2            1        19.69         21.25          130.00     1203.0   \n",
      "3            1        11.42         20.38           77.58      386.1   \n",
      "4            1        20.29         14.34          135.10     1297.0   \n",
      "..         ...          ...           ...             ...        ...   \n",
      "564          1        21.56         22.39          142.00     1479.0   \n",
      "565          1        20.13         28.25          131.20     1261.0   \n",
      "566          1        16.60         28.08          108.30      858.1   \n",
      "567          1        20.60         29.33          140.10     1265.0   \n",
      "568          0         7.76         24.54           47.92      181.0   \n",
      "\n",
      "     smoothness_mean  compactness_mean  concavity_mean  concave points_mean  \\\n",
      "0            0.11840           0.27760         0.30010              0.14710   \n",
      "1            0.08474           0.07864         0.08690              0.07017   \n",
      "2            0.10960           0.15990         0.19740              0.12790   \n",
      "3            0.14250           0.28390         0.24140              0.10520   \n",
      "4            0.10030           0.13280         0.19800              0.10430   \n",
      "..               ...               ...             ...                  ...   \n",
      "564          0.11100           0.11590         0.24390              0.13890   \n",
      "565          0.09780           0.10340         0.14400              0.09791   \n",
      "566          0.08455           0.10230         0.09251              0.05302   \n",
      "567          0.11780           0.27700         0.35140              0.15200   \n",
      "568          0.05263           0.04362         0.00000              0.00000   \n",
      "\n",
      "     symmetry_mean  ...  texture_worst  perimeter_worst  area_worst  \\\n",
      "0           0.2419  ...          17.33           184.60      2019.0   \n",
      "1           0.1812  ...          23.41           158.80      1956.0   \n",
      "2           0.2069  ...          25.53           152.50      1709.0   \n",
      "3           0.2597  ...          26.50            98.87       567.7   \n",
      "4           0.1809  ...          16.67           152.20      1575.0   \n",
      "..             ...  ...            ...              ...         ...   \n",
      "564         0.1726  ...          26.40           166.10      2027.0   \n",
      "565         0.1752  ...          38.25           155.00      1731.0   \n",
      "566         0.1590  ...          34.12           126.70      1124.0   \n",
      "567         0.2397  ...          39.42           184.60      1821.0   \n",
      "568         0.1587  ...          30.37            59.16       268.6   \n",
      "\n",
      "     smoothness_worst  compactness_worst  concavity_worst  \\\n",
      "0             0.16220            0.66560           0.7119   \n",
      "1             0.12380            0.18660           0.2416   \n",
      "2             0.14440            0.42450           0.4504   \n",
      "3             0.20980            0.86630           0.6869   \n",
      "4             0.13740            0.20500           0.4000   \n",
      "..                ...                ...              ...   \n",
      "564           0.14100            0.21130           0.4107   \n",
      "565           0.11660            0.19220           0.3215   \n",
      "566           0.11390            0.30940           0.3403   \n",
      "567           0.16500            0.86810           0.9387   \n",
      "568           0.08996            0.06444           0.0000   \n",
      "\n",
      "     concave points_worst  symmetry_worst  fractal_dimension_worst  \\\n",
      "0                  0.2654          0.4601                  0.11890   \n",
      "1                  0.1860          0.2750                  0.08902   \n",
      "2                  0.2430          0.3613                  0.08758   \n",
      "3                  0.2575          0.6638                  0.17300   \n",
      "4                  0.1625          0.2364                  0.07678   \n",
      "..                    ...             ...                      ...   \n",
      "564                0.2216          0.2060                  0.07115   \n",
      "565                0.1628          0.2572                  0.06637   \n",
      "566                0.1418          0.2218                  0.07820   \n",
      "567                0.2650          0.4087                  0.12400   \n",
      "568                0.0000          0.2871                  0.07039   \n",
      "\n",
      "                                              features  \n",
      "0    [0.5210374366983765, 0.022658099425092948, 0.5...  \n",
      "1    [0.6431444933503716, 0.27257355427798435, 0.61...  \n",
      "2    [0.6014955748024045, 0.3902603990530943, 0.595...  \n",
      "3    [0.21009039708457572, 0.3608386878593167, 0.23...  \n",
      "4    [0.6298925647214728, 0.1565776124450456, 0.630...  \n",
      "..                                                 ...  \n",
      "564  [0.6899995267168346, 0.42881298613459584, 0.67...  \n",
      "565  [0.6223200340763879, 0.626986810957051, 0.6040...  \n",
      "566  [0.45525107671920123, 0.6212377409536691, 0.44...  \n",
      "567  [0.644564342846325, 0.6635103145079471, 0.6655...  \n",
      "568  [0.03686875857825733, 0.5015218126479539, 0.02...  \n",
      "\n",
      "[569 rows x 32 columns]\n"
     ]
    }
   ],
   "source": [
    "new = df.copy()\n",
    "data['features']= new.values.tolist()\n",
    "print(data)"
   ]
  },
  {
   "cell_type": "markdown",
   "metadata": {},
   "source": [
    "### To simulate FL, we'll make a new column for \"hospital_id\" --> id: 1, 2, 3, 4"
   ]
  },
  {
   "cell_type": "code",
   "execution_count": 6,
   "metadata": {},
   "outputs": [],
   "source": [
    "data['hospital_id'] = np.random.randint(1,5, size=len(data))"
   ]
  },
  {
   "cell_type": "code",
   "execution_count": 7,
   "metadata": {},
   "outputs": [],
   "source": [
    "data = data[['diagnosis', 'hospital_id', 'features']]"
   ]
  },
  {
   "cell_type": "code",
   "execution_count": 8,
   "metadata": {},
   "outputs": [
    {
     "data": {
      "text/html": [
       "<div>\n",
       "<style scoped>\n",
       "    .dataframe tbody tr th:only-of-type {\n",
       "        vertical-align: middle;\n",
       "    }\n",
       "\n",
       "    .dataframe tbody tr th {\n",
       "        vertical-align: top;\n",
       "    }\n",
       "\n",
       "    .dataframe thead th {\n",
       "        text-align: right;\n",
       "    }\n",
       "</style>\n",
       "<table border=\"1\" class=\"dataframe\">\n",
       "  <thead>\n",
       "    <tr style=\"text-align: right;\">\n",
       "      <th></th>\n",
       "      <th>diagnosis</th>\n",
       "      <th>hospital_id</th>\n",
       "      <th>features</th>\n",
       "    </tr>\n",
       "  </thead>\n",
       "  <tbody>\n",
       "    <tr>\n",
       "      <th>0</th>\n",
       "      <td>1</td>\n",
       "      <td>1</td>\n",
       "      <td>[0.5210374366983765, 0.022658099425092948, 0.5...</td>\n",
       "    </tr>\n",
       "    <tr>\n",
       "      <th>1</th>\n",
       "      <td>1</td>\n",
       "      <td>4</td>\n",
       "      <td>[0.6431444933503716, 0.27257355427798435, 0.61...</td>\n",
       "    </tr>\n",
       "    <tr>\n",
       "      <th>2</th>\n",
       "      <td>1</td>\n",
       "      <td>2</td>\n",
       "      <td>[0.6014955748024045, 0.3902603990530943, 0.595...</td>\n",
       "    </tr>\n",
       "    <tr>\n",
       "      <th>3</th>\n",
       "      <td>1</td>\n",
       "      <td>1</td>\n",
       "      <td>[0.21009039708457572, 0.3608386878593167, 0.23...</td>\n",
       "    </tr>\n",
       "    <tr>\n",
       "      <th>4</th>\n",
       "      <td>1</td>\n",
       "      <td>4</td>\n",
       "      <td>[0.6298925647214728, 0.1565776124450456, 0.630...</td>\n",
       "    </tr>\n",
       "    <tr>\n",
       "      <th>...</th>\n",
       "      <td>...</td>\n",
       "      <td>...</td>\n",
       "      <td>...</td>\n",
       "    </tr>\n",
       "    <tr>\n",
       "      <th>564</th>\n",
       "      <td>1</td>\n",
       "      <td>2</td>\n",
       "      <td>[0.6899995267168346, 0.42881298613459584, 0.67...</td>\n",
       "    </tr>\n",
       "    <tr>\n",
       "      <th>565</th>\n",
       "      <td>1</td>\n",
       "      <td>4</td>\n",
       "      <td>[0.6223200340763879, 0.626986810957051, 0.6040...</td>\n",
       "    </tr>\n",
       "    <tr>\n",
       "      <th>566</th>\n",
       "      <td>1</td>\n",
       "      <td>4</td>\n",
       "      <td>[0.45525107671920123, 0.6212377409536691, 0.44...</td>\n",
       "    </tr>\n",
       "    <tr>\n",
       "      <th>567</th>\n",
       "      <td>1</td>\n",
       "      <td>2</td>\n",
       "      <td>[0.644564342846325, 0.6635103145079471, 0.6655...</td>\n",
       "    </tr>\n",
       "    <tr>\n",
       "      <th>568</th>\n",
       "      <td>0</td>\n",
       "      <td>2</td>\n",
       "      <td>[0.03686875857825733, 0.5015218126479539, 0.02...</td>\n",
       "    </tr>\n",
       "  </tbody>\n",
       "</table>\n",
       "<p>569 rows × 3 columns</p>\n",
       "</div>"
      ],
      "text/plain": [
       "     diagnosis  hospital_id                                           features\n",
       "0            1            1  [0.5210374366983765, 0.022658099425092948, 0.5...\n",
       "1            1            4  [0.6431444933503716, 0.27257355427798435, 0.61...\n",
       "2            1            2  [0.6014955748024045, 0.3902603990530943, 0.595...\n",
       "3            1            1  [0.21009039708457572, 0.3608386878593167, 0.23...\n",
       "4            1            4  [0.6298925647214728, 0.1565776124450456, 0.630...\n",
       "..         ...          ...                                                ...\n",
       "564          1            2  [0.6899995267168346, 0.42881298613459584, 0.67...\n",
       "565          1            4  [0.6223200340763879, 0.626986810957051, 0.6040...\n",
       "566          1            4  [0.45525107671920123, 0.6212377409536691, 0.44...\n",
       "567          1            2  [0.644564342846325, 0.6635103145079471, 0.6655...\n",
       "568          0            2  [0.03686875857825733, 0.5015218126479539, 0.02...\n",
       "\n",
       "[569 rows x 3 columns]"
      ]
     },
     "execution_count": 8,
     "metadata": {},
     "output_type": "execute_result"
    }
   ],
   "source": [
    "data"
   ]
  },
  {
   "cell_type": "markdown",
   "metadata": {},
   "source": [
    "For this tutorial, we have 4 hospitals. We will train on 3 clients."
   ]
  },
  {
   "cell_type": "code",
   "execution_count": 9,
   "metadata": {},
   "outputs": [],
   "source": [
    "client_id_colname = 'hospital_id' #column that represents client ID \n",
    "number_of_training_clients = 3\n",
    "\n",
    "# split client_id into train and test clients\n",
    "client_ids = data[client_id_colname].unique()\n",
    "train_client_ids = sample(client_ids.tolist(), number_of_training_clients)\n",
    "test_client_ids = [x for x in client_ids if x not in train_client_ids]"
   ]
  },
  {
   "cell_type": "code",
   "execution_count": 10,
   "metadata": {},
   "outputs": [
    {
     "data": {
      "text/plain": [
       "[4, 3, 2]"
      ]
     },
     "execution_count": 10,
     "metadata": {},
     "output_type": "execute_result"
    }
   ],
   "source": [
    "train_client_ids"
   ]
  },
  {
   "cell_type": "markdown",
   "metadata": {},
   "source": [
    "The function `tff.simulation.ClientData.from_clients_and_fn`, requires that we write a function that accepts a `client_id` as input and returns a `tf.data.Dataset`. Let's do that in the helper function below: "
   ]
  },
  {
   "cell_type": "code",
   "execution_count": 11,
   "metadata": {},
   "outputs": [],
   "source": [
    "SHUFFLE_BUFFER = 1000\n",
    "NUM_EPOCHS = 10\n",
    "def create_tf_dataset_for_client_fn(client_id):\n",
    "    client_data = data[data[client_id_colname] == client_id]\n",
    "    dataset = tf.data.Dataset.from_tensor_slices(client_data.to_dict('list'))\n",
    "    dataset = dataset.shuffle(SHUFFLE_BUFFER).batch(1).repeat(NUM_EPOCHS)\n",
    "    return dataset\n"
   ]
  },
  {
   "cell_type": "code",
   "execution_count": 12,
   "metadata": {},
   "outputs": [],
   "source": [
    "if tff.__version__ < \"0.19.0\":\n",
    "\n",
    "    train_data = tff.simulation.ClientData.from_clients_and_fn(\n",
    "        client_ids=train_client_ids,   \n",
    "        create_tf_dataset_for_client_fn=create_tf_dataset_for_client_fn)\n",
    "    \n",
    "    test_data = tff.simulation.ClientData.from_clients_and_fn(\n",
    "        client_ids=test_client_ids,\n",
    "        create_tf_dataset_for_client_fn=create_tf_dataset_for_client_fn)\n",
    "else:\n",
    "    train_data = tff.simulation.datasets.ClientData.from_clients_and_tf_fn(\n",
    "        client_ids=train_client_ids, \n",
    "        serializable_dataset_fn=create_tf_dataset_for_client_fn)\n",
    "    \n",
    "    test_data = tff.simulation.datasets.ClientData.from_clients_and_tf_fn(\n",
    "        client_ids=test_client_ids,\n",
    "        serializable_dataset_fn=create_tf_dataset_for_client_fn)"
   ]
  },
  {
   "cell_type": "markdown",
   "metadata": {},
   "source": [
    "### Example dataset \n",
    "\n",
    "Each element of example_dataset is a Python dictionary where the keys are strings representing feature names, and the values are tensors with one batch of those features. Now, you have a federated dataset that can be preprocessed and used for modeling."
   ]
  },
  {
   "cell_type": "code",
   "execution_count": 14,
   "metadata": {},
   "outputs": [
    {
     "name": "stdout",
     "output_type": "stream",
     "text": [
      "<RepeatDataset element_spec={'diagnosis': TensorSpec(shape=(None,), dtype=tf.int32, name=None), 'hospital_id': TensorSpec(shape=(None,), dtype=tf.int32, name=None), 'features': TensorSpec(shape=(None, 30), dtype=tf.float32, name=None)}>\n",
      "{'diagnosis': <tf.Tensor: shape=(1,), dtype=int32, numpy=array([0], dtype=int32)>, 'hospital_id': <tf.Tensor: shape=(1,), dtype=int32, numpy=array([2], dtype=int32)>, 'features': <tf.Tensor: shape=(1, 30), dtype=float32, numpy=\n",
      "array([[0.20583084, 0.15049036, 0.19349043, 0.10735949, 0.37158075,\n",
      "        0.05932152, 0.00348407, 0.01656561, 0.45151514, 0.17375737,\n",
      "        0.04562738, 0.2032797 , 0.0380719 , 0.01921561, 0.22820137,\n",
      "        0.05066542, 0.00375505, 0.06313696, 0.22088704, 0.02529608,\n",
      "        0.15190324, 0.18576759, 0.13426964, 0.0670468 , 0.3614211 ,\n",
      "        0.04481377, 0.00395767, 0.03817869, 0.23516656, 0.05785124]],\n",
      "      dtype=float32)>}\n"
     ]
    }
   ],
   "source": [
    "example_dataset = train_data.create_tf_dataset_for_client(\n",
    "        train_data.client_ids[2]\n",
    "    )\n",
    "print(example_dataset)\n",
    "example_element = iter(example_dataset).next()\n",
    "print(example_element)"
   ]
  },
  {
   "cell_type": "markdown",
   "metadata": {},
   "source": [
    "### Exploring heterogeneity in federated data\n"
   ]
  },
  {
   "cell_type": "code",
   "execution_count": 15,
   "metadata": {},
   "outputs": [
    {
     "data": {
      "image/png": "[encoded data removed]",
      "text/plain": [
       "<Figure size 864x504 with 3 Axes>"
      ]
     },
     "metadata": {
      "needs_background": "light"
     },
     "output_type": "display_data"
    }
   ],
   "source": [
    "# Number of examples per layer for a sample of clients\n",
    "f = plt.figure(figsize=(12, 7))\n",
    "f.suptitle('Label Counts for a Sample of Clients')\n",
    "for i in [0,1,2]:\n",
    "    client_dataset = train_data.create_tf_dataset_for_client(\n",
    "        train_data.client_ids[i])\n",
    "    plot_data = collections.defaultdict(list)\n",
    "    for example in client_dataset:\n",
    "        label = example['diagnosis'].numpy()[0]\n",
    "        plot_data[label].append(label)\n",
    "    plt.subplot(2, 3, i+1)\n",
    "    plt.title('Client {}'.format(i))\n",
    "    for j in range(10):\n",
    "        plt.hist(\n",
    "        plot_data[j],\n",
    "        bins=[0, 1, 2])"
   ]
  },
  {
   "cell_type": "markdown",
   "metadata": {},
   "source": [
    "From the above steps, we now have a federated dataset that can be preprocessed and used for modeling. "
   ]
  },
  {
   "cell_type": "markdown",
   "metadata": {},
   "source": [
    "\n",
    "\n",
    "### Preprocessing the input data\n",
    "We will now shuffle the individual examples, organize them into batches, and rename the features\n",
    "from `features` and `diagnosis` to `x` and `y` for use with Keras. We also throw in a\n",
    "`repeat` over the data set to run several epochs."
   ]
  },
  {
   "cell_type": "code",
   "execution_count": 16,
   "metadata": {},
   "outputs": [],
   "source": [
    "NUM_ROUNDS = 5\n",
    "NUM_EPOCHS = 5\n",
    "BATCH_SIZE = 20\n",
    "PREFETCH_BUFFER = 10\n",
    "def preprocess(dataset):\n",
    "    def batch_format_fn(element):\n",
    "                \n",
    "        return collections.OrderedDict(x= tf.reshape(element['features'], [-1,30]),\n",
    "                                       y=tf.reshape(element['diagnosis'], [-1,1]))\n",
    "\n",
    "    return dataset.repeat(NUM_EPOCHS).shuffle(SHUFFLE_BUFFER).batch(\n",
    "      BATCH_SIZE).map(batch_format_fn).prefetch(PREFETCH_BUFFER)\n"
   ]
  },
  {
   "cell_type": "markdown",
   "metadata": {},
   "source": [
    "Let's verify this worked."
   ]
  },
  {
   "cell_type": "code",
   "execution_count": 17,
   "metadata": {},
   "outputs": [
    {
     "data": {
      "text/plain": [
       "OrderedDict([('x',\n",
       "              array([[0.21340337, 0.16503213, 0.20869325, 0.11088017, 0.46917036,\n",
       "                      0.19293295, 0.12436739, 0.09786282, 0.3631313 , 0.33235046,\n",
       "                      0.03327902, 0.17808522, 0.03816614, 0.01407925, 0.11027637,\n",
       "                      0.14185718, 0.1049495 , 0.15226369, 0.14842123, 0.09394304,\n",
       "                      0.15901814, 0.26332623, 0.15752776, 0.06940621, 0.42283565,\n",
       "                      0.16853431, 0.20734824, 0.2553608 , 0.2712399 , 0.24111243],\n",
       "                     [0.3340906 , 0.21203923, 0.31780803, 0.19838813, 0.2884355 ,\n",
       "                      0.12137292, 0.08280225, 0.14632207, 0.33030304, 0.18997473,\n",
       "                      0.10056129, 0.15156472, 0.08891297, 0.0484462 , 0.2129041 ,\n",
       "                      0.08034668, 0.04060606, 0.17135821, 0.1712163 , 0.06685738,\n",
       "                      0.2749911 , 0.25479743, 0.25295085, 0.13881242, 0.31915736,\n",
       "                      0.09499277, 0.08921725, 0.25611684, 0.22866154, 0.11347239],\n",
       "                     [0.2943348 , 0.2610754 , 0.27876443, 0.16886532, 0.176221  ,\n",
       "                      0.07932029, 0.10159325, 0.05492048, 0.21565656, 0.13458298,\n",
       "                      0.01864929, 0.27422208, 0.00546577, 0.01262239, 0.15460448,\n",
       "                      0.10092529, 0.07775252, 0.10197007, 0.16516575, 0.04681951,\n",
       "                      0.21380292, 0.42110875, 0.18860501, 0.10243806, 0.2570825 ,\n",
       "                      0.11983002, 0.18354632, 0.17079037, 0.23694067, 0.11111111],\n",
       "                     [0.29764777, 0.24721001, 0.2816668 , 0.17090137, 0.2872619 ,\n",
       "                      0.09373658, 0.08327086, 0.12206759, 0.22020201, 0.14279696,\n",
       "                      0.06561651, 0.11724275, 0.06064176, 0.03339198, 0.14681986,\n",
       "                      0.06600174, 0.05704546, 0.17156659, 0.09762481, 0.05531833,\n",
       "                      0.25649235, 0.30863538, 0.24119727, 0.12868659, 0.37264743,\n",
       "                      0.10071698, 0.14265175, 0.33257732, 0.18549182, 0.13898727],\n",
       "                     [0.11619101, 0.2911735 , 0.11077327, 0.05730647, 0.4357678 ,\n",
       "                      0.12324397, 0.06349578, 0.06988072, 0.22525252, 0.41343725,\n",
       "                      0.14354518, 0.19598657, 0.11826792, 0.04422504, 0.174151  ,\n",
       "                      0.05054526, 0.05929293, 0.12436067, 0.16235155, 0.06281525,\n",
       "                      0.14549983, 0.3464819 , 0.12640072, 0.06252458, 0.41028857,\n",
       "                      0.07529761, 0.0913738 , 0.17360824, 0.17524147, 0.17263545],\n",
       "                     [0.16702163, 0.45248562, 0.15935318, 0.08089077, 0.44118443,\n",
       "                      0.14903994, 0.05845829, 0.09319086, 0.32070708, 0.3285594 ,\n",
       "                      0.06347999, 0.17300212, 0.07218584, 0.02569677, 0.28748682,\n",
       "                      0.09146214, 0.04699495, 0.23678727, 0.37651265, 0.0371806 ,\n",
       "                      0.10672358, 0.3251599 , 0.09806265, 0.04362465, 0.28481805,\n",
       "                      0.05709656, 0.03321086, 0.10738832, 0.13049477, 0.08349731],\n",
       "                     [0.20393771, 0.11261413, 0.196531  , 0.10371156, 0.41265684,\n",
       "                      0.17391571, 0.07649953, 0.13692842, 0.3580808 , 0.2683235 ,\n",
       "                      0.02857143, 0.03737182, 0.01917731, 0.01189396, 0.1617772 ,\n",
       "                      0.06735362, 0.03237374, 0.16762644, 0.12717398, 0.06640825,\n",
       "                      0.15617219, 0.1108742 , 0.13875192, 0.06692391, 0.42679787,\n",
       "                      0.119733  , 0.10183706, 0.30068728, 0.23023851, 0.16515808],\n",
       "                     [0.18358654, 0.39803857, 0.17082441, 0.09204666, 0.19572087,\n",
       "                      0.07021042, 0.        , 0.        , 0.30353534, 0.20050548,\n",
       "                      0.07416259, 0.2085838 , 0.06398718, 0.02590223, 0.2673964 ,\n",
       "                      0.06600174, 0.        , 0.        , 0.3117859 , 0.04605945,\n",
       "                      0.132693  , 0.33981878, 0.11788436, 0.05581498, 0.19104537,\n",
       "                      0.04481377, 0.        , 0.        , 0.17602997, 0.07136298],\n",
       "                     [0.76809126, 0.5836997 , 0.758137  , 0.64750797, 0.38331679,\n",
       "                      0.45647505, 0.45688847, 0.6148111 , 0.4287879 , 0.27653748,\n",
       "                      0.3427485 , 0.13333187, 0.30580032, 0.2782939 , 0.16028146,\n",
       "                      0.19811037, 0.11356061, 0.32506156, 0.11282152, 0.07456159,\n",
       "                      0.8210601 , 0.59941363, 0.7748892 , 0.67803776, 0.5080235 ,\n",
       "                      0.3738297 , 0.46485624, 0.8910653 , 0.30317366, 0.20812017],\n",
       "                     [0.5513276 , 0.5207981 , 0.55980927, 0.40063626, 0.48542023,\n",
       "                      0.51935464, 0.5433458 , 0.61829025, 0.5671717 , 0.2529486 ,\n",
       "                      0.26043817, 0.2443865 , 0.22697073, 0.18341123, 0.15416256,\n",
       "                      0.23648871, 0.13121212, 0.21935973, 0.17149772, 0.12662548,\n",
       "                      0.5414443 , 0.5860874 , 0.5482843 , 0.36492333, 0.5146272 ,\n",
       "                      0.38653937, 0.48985624, 0.63505155, 0.37039226, 0.2805982 ],\n",
       "                     [0.2072507 , 0.26580995, 0.19832769, 0.10871686, 0.32454637,\n",
       "                      0.10352126, 0.06520618, 0.10437376, 0.2732323 , 0.19313395,\n",
       "                      0.02900597, 0.26405588, 0.02836545, 0.01280916, 0.12502974,\n",
       "                      0.05779283, 0.02936869, 0.11123319, 0.07778466, 0.02640161,\n",
       "                      0.18214159, 0.6476546 , 0.17261817, 0.08260421, 0.48953313,\n",
       "                      0.13089035, 0.14464857, 0.29890034, 0.2775478 , 0.14698938],\n",
       "                     [0.16702163, 0.45248562, 0.15935318, 0.08089077, 0.44118443,\n",
       "                      0.14903994, 0.05845829, 0.09319086, 0.32070708, 0.3285594 ,\n",
       "                      0.06347999, 0.17300212, 0.07218584, 0.02569677, 0.28748682,\n",
       "                      0.09146214, 0.04699495, 0.23678727, 0.37651265, 0.0371806 ,\n",
       "                      0.10672358, 0.3251599 , 0.09806265, 0.04362465, 0.28481805,\n",
       "                      0.05709656, 0.03321086, 0.10738832, 0.13049477, 0.08349731],\n",
       "                     [0.35302192, 0.18498479, 0.34676248, 0.21064687, 0.42493454,\n",
       "                      0.25372675, 0.19885193, 0.2749503 , 0.33535352, 0.22851726,\n",
       "                      0.04674995, 0.08380481, 0.06422278, 0.02689214, 0.13573784,\n",
       "                      0.1556013 , 0.07863636, 0.2828187 , 0.09368492, 0.05642386,\n",
       "                      0.28175026, 0.2086887 , 0.28980526, 0.14296599, 0.39906228,\n",
       "                      0.23887417, 0.24784344, 0.54948455, 0.2219594 , 0.14292273],\n",
       "                     [0.37715936, 0.30639163, 0.37350562, 0.23160127, 0.25954682,\n",
       "                      0.2985093 , 0.2120431 , 0.17703778, 0.34545454, 0.31529066,\n",
       "                      0.11243889, 0.34229138, 0.11845639, 0.06094158, 0.13859333,\n",
       "                      0.34937063, 0.13391414, 0.2892593 , 0.36131594, 0.29273248,\n",
       "                      0.29598007, 0.35847548, 0.28233477, 0.15348506, 0.18840389,\n",
       "                      0.21811178, 0.1996805 , 0.28883162, 0.25369602, 0.24360488],\n",
       "                     [0.83529747, 0.40209672, 0.8410614 , 0.7200424 , 0.454726  ,\n",
       "                      0.5865284 , 0.5412371 , 0.7311133 , 0.47020203, 0.36710194,\n",
       "                      0.31866738, 0.11938649, 0.29651794, 0.24859637, 0.11136418,\n",
       "                      0.22432181, 0.09017677, 0.3025194 , 0.1534868 , 0.13353509,\n",
       "                      0.7822839 , 0.39738807, 0.77339506, 0.60381436, 0.41623193,\n",
       "                      0.37984496, 0.37204474, 0.8505155 , 0.31381825, 0.2733176 ],\n",
       "                     [0.2408538 , 0.12614135, 0.23522907, 0.12797455, 0.51792   ,\n",
       "                      0.21688853, 0.0885895 , 0.13906561, 0.30151516, 0.33951136,\n",
       "                      0.05062466, 0.03178041, 0.04509259, 0.02192388, 0.19084203,\n",
       "                      0.06968186, 0.04540404, 0.15127864, 0.16516575, 0.04626674,\n",
       "                      0.19637139, 0.09994669, 0.18183176, 0.08963331, 0.5344384 ,\n",
       "                      0.13186057, 0.12955272, 0.254055  , 0.23970038, 0.1671258 ],\n",
       "                     [0.35964787, 0.39972946, 0.37053418, 0.21264051, 0.47639254,\n",
       "                      0.5135268 , 0.33388004, 0.43653083, 0.6020202 , 0.4060657 ,\n",
       "                      0.05178345, 0.13768564, 0.06375159, 0.02661198, 0.09310943,\n",
       "                      0.21253042, 0.06770202, 0.25610912, 0.09368492, 0.0972942 ,\n",
       "                      0.34471717, 0.56476545, 0.3585338 , 0.17491643, 0.5370798 ,\n",
       "                      0.6180303 , 0.44241214, 0.92817867, 0.5320323 , 0.4752722 ],\n",
       "                     [0.6033887 , 0.3419006 , 0.60058045, 0.4506893 , 0.48361468,\n",
       "                      0.5076989 , 0.5663074 , 0.48409542, 0.339899  , 0.3582561 ,\n",
       "                      0.23704508, 0.09277758, 0.15822457, 0.16064312, 0.23010504,\n",
       "                      0.3628894 , 0.17171717, 0.37336618, 0.09551416, 0.21987066,\n",
       "                      0.6172181 , 0.36167377, 0.5447981 , 0.42956156, 0.6592485 ,\n",
       "                      0.5512802 , 0.67803514, 0.861512  , 0.23339248, 0.48970222],\n",
       "                     [0.42780066, 0.45755833, 0.40709004, 0.27753976, 0.26568565,\n",
       "                      0.1451138 , 0.07729616, 0.16515905, 0.23636363, 0.1476411 ,\n",
       "                      0.09704871, 0.18272631, 0.08052585, 0.06295877, 0.07872999,\n",
       "                      0.05270075, 0.02780303, 0.14379618, 0.09452918, 0.07418156,\n",
       "                      0.4005692 , 0.5826226 , 0.36550626, 0.23712151, 0.30991217,\n",
       "                      0.12400191, 0.11653355, 0.3427835 , 0.27261975, 0.19336219],\n",
       "                     [0.5697856 , 0.5032127 , 0.5404602 , 0.39554614, 0.33998376,\n",
       "                      0.31047174, 0.343955  , 0.4110835 , 0.4510101 , 0.13331929,\n",
       "                      0.15860945, 0.06705268, 0.10827875, 0.09497233, 0.07339294,\n",
       "                      0.12142879, 0.09368687, 0.22731578, 0.16544718, 0.08437323,\n",
       "                      0.5916044 , 0.4901386 , 0.5104338 , 0.353372  , 0.35481742,\n",
       "                      0.28457084, 0.45966452, 0.672165  , 0.47131875, 0.24819624]],\n",
       "                    dtype=float32)),\n",
       "             ('y',\n",
       "              array([[0],\n",
       "                     [0],\n",
       "                     [0],\n",
       "                     [0],\n",
       "                     [0],\n",
       "                     [0],\n",
       "                     [0],\n",
       "                     [0],\n",
       "                     [1],\n",
       "                     [1],\n",
       "                     [0],\n",
       "                     [0],\n",
       "                     [0],\n",
       "                     [0],\n",
       "                     [1],\n",
       "                     [0],\n",
       "                     [1],\n",
       "                     [1],\n",
       "                     [1],\n",
       "                     [1]], dtype=int32))])"
      ]
     },
     "execution_count": 17,
     "metadata": {},
     "output_type": "execute_result"
    }
   ],
   "source": [
    "preprocessed_example_dataset = preprocess(example_dataset)\n",
    "sample_batch = tf.nest.map_structure(lambda x: x.numpy(),\n",
    "                                     next(iter(preprocessed_example_dataset)))\n",
    "\n",
    "sample_batch"
   ]
  },
  {
   "cell_type": "markdown",
   "metadata": {},
   "source": [
    "We now have almost all the building blocks in place to construct federated datasets.\n",
    "\n",
    "One of the ways to feed federated data to TFF in a simulation is simply as a Python list, with each element of the list holding the data of an individual user, as a `tf.data.Dataset`. Since we already have an interface for that, let's use it.\n",
    "\n",
    "The helper function `make_federated_data` below will construct a list of datasets from the\n",
    "given set of users as an input to a round of training or evaluation."
   ]
  },
  {
   "cell_type": "code",
   "execution_count": 18,
   "metadata": {},
   "outputs": [],
   "source": [
    "def make_federated_data(client_data, client_ids):\n",
    "    return [\n",
    "      preprocess(client_data.create_tf_dataset_for_client(x))\n",
    "      for x in client_ids\n",
    "    ]"
   ]
  },
  {
   "cell_type": "markdown",
   "metadata": {},
   "source": [
    "So now, how do we choose the clients? \n",
    "\n",
    "In a typical federated training scenario, we might have only a fraction of the devices available for training at a given point in time. But, since we are in a simulation environment, all the data is locally available. Typically then, when running simulations, we would simply sample a random subset of the clients to be involved in each round of training, generally different in each round.\n",
    "\n",
    "That said, as you can find out by studying the paper on the [Federated Averaging](https://arxiv.org/abs/1602.05629) algorithm, achieving convergence in a system with randomly sampled subsets of clients in each round can take a while, and it would be impractical to have to run hundreds of rounds in this interactive tutorial.\n",
    "\n",
    "For simplicity here, we will sample the set of clients once, and reuse the same set across rounds to speed up convergence (intentionally over-fitting to these few user's data). "
   ]
  },
  {
   "cell_type": "code",
   "execution_count": 19,
   "metadata": {},
   "outputs": [
    {
     "name": "stdout",
     "output_type": "stream",
     "text": [
      "Number of client datasets: 3\n",
      "First dataset: <PrefetchDataset element_spec=OrderedDict([('x', TensorSpec(shape=(None, 30), dtype=tf.float32, name=None)), ('y', TensorSpec(shape=(None, 1), dtype=tf.int32, name=None))])>\n"
     ]
    }
   ],
   "source": [
    "train_client_ids = sample(client_ids.tolist(), number_of_training_clients)\n",
    "federated_train_data = make_federated_data(train_data, train_data.client_ids)\n",
    "print('Number of client datasets: {l}'.format(l=len(federated_train_data)))\n",
    "print('First dataset: {d}'.format(d=federated_train_data[0]))"
   ]
  },
  {
   "cell_type": "markdown",
   "metadata": {},
   "source": [
    "### Creating a model with Keras \n",
    "Here's an example of a simple model:"
   ]
  },
  {
   "cell_type": "code",
   "execution_count": 20,
   "metadata": {},
   "outputs": [],
   "source": [
    "def create_keras_model():\n",
    "    return tf.keras.models.Sequential([\n",
    "      tf.keras.layers.InputLayer(input_shape=(30,)),\n",
    "      tf.keras.layers.Dense(150, activation = 'swish'),\n",
    "        tf.keras.layers.Dense(50, activation = 'swish'),\n",
    "        tf.keras.layers.Dense(1, activation = 'sigmoid'),\n",
    "      ])"
   ]
  },
  {
   "cell_type": "markdown",
   "metadata": {},
   "source": [
    "Note that we do not compile the model yet. The loss, metrics, and optimizers are introduced later.\n",
    "\n",
    "If you have a Keras model like the one we've just defined above, you can have TFF wrap it for you by invoking\n",
    "`tff.learning.from_keras_model`, passing the model and a sample data batch as\n",
    "arguments, as shown below.\n"
   ]
  },
  {
   "cell_type": "code",
   "execution_count": 21,
   "metadata": {},
   "outputs": [
    {
     "name": "stderr",
     "output_type": "stream",
     "text": [
      "/ssd003/projects/aieng/public/pets_unified/lib/python3.8/site-packages/tensorflow_addons/utils/ensure_tf_install.py:38: UserWarning: You are currently using a nightly version of TensorFlow (2.8.0-dev20211102). \n",
      "TensorFlow Addons offers no support for the nightly versions of TensorFlow. Some things might work, some other might not. \n",
      "If you encounter a bug, do not file an issue on GitHub.\n",
      "  warnings.warn(\n"
     ]
    }
   ],
   "source": [
    "import tensorflow_addons as tfa\n",
    "\n",
    "def model_fn():\n",
    "  # We _must_ create a new model here, and _not_ capture it from an external\n",
    "  # scope. TFF will call this within different graph contexts.\n",
    "    keras_model = create_keras_model()\n",
    "    return tff.learning.from_keras_model(\n",
    "      keras_model,\n",
    "      input_spec=preprocessed_example_dataset.element_spec,\n",
    "      loss=tf.keras.losses.BinaryCrossentropy(),\n",
    "      metrics=[tf.keras.metrics.BinaryAccuracy(), tf.keras.metrics.Precision(name='Precision'),\n",
    "               tf.keras.metrics.Recall(name='Recall'), tf.keras.metrics.AUC(name='AUC')])"
   ]
  },
  {
   "cell_type": "markdown",
   "metadata": {
    "tags": []
   },
   "source": [
    "### Training the model on federated data \n",
    "\n",
    "Now that we have a model wrapped as `tff.learning.Model` for use with TFF, we\n",
    "can let TFF construct a **Federated Averaging** algorithm by invoking the helper\n",
    "function `tff.learning.build_federated_averaging_process`, as follows.\n",
    "\n",
    "One critical note on the Federated Averaging algorithm below, there are **2**\n",
    "optimizers: a _client_optimizer_ and a _server_optimizer_. The\n",
    "_client_optimizer_ is only used to compute local model updates on each client.\n",
    "The _server_optimizer_ applies the averaged update to the global model at the\n",
    "server. In particular, this means that the choice of optimizer and learning rate\n",
    "used may need to be different than the ones you have used to train the model on\n",
    "a standard i.i.d. dataset.\n",
    "\n",
    "We will start with regular SGD and a smaller learning rate than usual. \n"
   ]
  },
  {
   "cell_type": "code",
   "execution_count": 22,
   "metadata": {},
   "outputs": [],
   "source": [
    "iterative_process = tff.learning.build_federated_averaging_process(\n",
    "    model_fn,\n",
    "    client_optimizer_fn=lambda: tf.keras.optimizers.SGD(learning_rate=0.01),\n",
    "    server_optimizer_fn=lambda: tf.keras.optimizers.SGD(learning_rate=0.01)) "
   ]
  },
  {
   "cell_type": "markdown",
   "metadata": {},
   "source": [
    "In this case, the two computations generated and packed into iterative_process implement Federated Averaging.\n",
    "\n",
    "Let's start with the `initialize` computation. As is the case for all federated\n",
    "computations, you can think of it as a function. The computation takes no\n",
    "arguments, and returns one result - the representation of the state of the\n",
    "Federated Averaging process on the server. While we don't want to dive into the\n",
    "details of TFF, it may be instructive to see what this state looks like. You can\n",
    "visualize it as follows."
   ]
  },
  {
   "cell_type": "code",
   "execution_count": 23,
   "metadata": {},
   "outputs": [
    {
     "data": {
      "text/plain": [
       "'( -> <model=<trainable=<float32[30,150],float32[150],float32[150,50],float32[50],float32[50,1],float32[1]>,non_trainable=<>>,optimizer_state=<int64>,delta_aggregate_state=<value_sum_process=<>,weight_sum_process=<>>,model_broadcast_state=<>>@SERVER)'"
      ]
     },
     "execution_count": 23,
     "metadata": {},
     "output_type": "execute_result"
    }
   ],
   "source": [
    "str(iterative_process.initialize.type_signature)"
   ]
  },
  {
   "cell_type": "markdown",
   "metadata": {},
   "source": [
    "While the above type signature may at first seem a bit cryptic, you can recognize that the server state consists of a model (the initial model parameters for MNIST that will be distributed to all devices), and optimizer_state (additional information maintained by the server, such as the number of rounds to use for hyperparameter schedules, etc.).\n",
    "\n",
    "Let's invoke the initialize computation to construct the server state."
   ]
  },
  {
   "cell_type": "code",
   "execution_count": 24,
   "metadata": {},
   "outputs": [],
   "source": [
    "state = iterative_process.initialize()"
   ]
  },
  {
   "cell_type": "code",
   "execution_count": 25,
   "metadata": {
    "tags": []
   },
   "outputs": [
    {
     "data": {
      "text/plain": [
       "ServerState(model=ModelWeights(trainable=[array([[ 0.08080417, -0.15967889, -0.1689959 , ...,  0.08827093,\n",
       "         0.09164742, -0.08885343],\n",
       "       [ 0.129493  , -0.16316321, -0.01287012, ...,  0.01944244,\n",
       "        -0.16443183,  0.11634481],\n",
       "       [-0.13814357,  0.02455515, -0.16963887, ...,  0.02615745,\n",
       "         0.04608123,  0.07446876],\n",
       "       ...,\n",
       "       [-0.03691   , -0.03720117,  0.14404291, ..., -0.0222757 ,\n",
       "        -0.12109824,  0.18155229],\n",
       "       [ 0.04053284, -0.15286563,  0.00797035, ..., -0.08128524,\n",
       "         0.02995624, -0.15676849],\n",
       "       [ 0.03328168,  0.07519791, -0.17849733, ...,  0.03109543,\n",
       "        -0.08388088,  0.1245707 ]], dtype=float32), array([0., 0., 0., 0., 0., 0., 0., 0., 0., 0., 0., 0., 0., 0., 0., 0., 0.,\n",
       "       0., 0., 0., 0., 0., 0., 0., 0., 0., 0., 0., 0., 0., 0., 0., 0., 0.,\n",
       "       0., 0., 0., 0., 0., 0., 0., 0., 0., 0., 0., 0., 0., 0., 0., 0., 0.,\n",
       "       0., 0., 0., 0., 0., 0., 0., 0., 0., 0., 0., 0., 0., 0., 0., 0., 0.,\n",
       "       0., 0., 0., 0., 0., 0., 0., 0., 0., 0., 0., 0., 0., 0., 0., 0., 0.,\n",
       "       0., 0., 0., 0., 0., 0., 0., 0., 0., 0., 0., 0., 0., 0., 0., 0., 0.,\n",
       "       0., 0., 0., 0., 0., 0., 0., 0., 0., 0., 0., 0., 0., 0., 0., 0., 0.,\n",
       "       0., 0., 0., 0., 0., 0., 0., 0., 0., 0., 0., 0., 0., 0., 0., 0., 0.,\n",
       "       0., 0., 0., 0., 0., 0., 0., 0., 0., 0., 0., 0., 0., 0.],\n",
       "      dtype=float32), array([[ 0.12207767,  0.07953465,  0.02809344, ...,  0.03030559,\n",
       "        -0.05445484,  0.06305121],\n",
       "       [ 0.0445125 ,  0.1327407 ,  0.03492758, ...,  0.00273289,\n",
       "        -0.05572302,  0.16498911],\n",
       "       [ 0.09608361, -0.02677719, -0.01424982, ..., -0.01547645,\n",
       "         0.16751346, -0.0160661 ],\n",
       "       ...,\n",
       "       [-0.13697349, -0.1726919 ,  0.13477731, ..., -0.15195811,\n",
       "        -0.06723896, -0.00993145],\n",
       "       [ 0.09830073,  0.10973787,  0.144463  , ...,  0.07181585,\n",
       "        -0.02920491,  0.00256696],\n",
       "       [-0.15170942,  0.10204574, -0.16612805, ..., -0.09204283,\n",
       "         0.00730932, -0.17243157]], dtype=float32), array([0., 0., 0., 0., 0., 0., 0., 0., 0., 0., 0., 0., 0., 0., 0., 0., 0.,\n",
       "       0., 0., 0., 0., 0., 0., 0., 0., 0., 0., 0., 0., 0., 0., 0., 0., 0.,\n",
       "       0., 0., 0., 0., 0., 0., 0., 0., 0., 0., 0., 0., 0., 0., 0., 0.],\n",
       "      dtype=float32), array([[ 0.07000658],\n",
       "       [-0.14912434],\n",
       "       [ 0.19546786],\n",
       "       [ 0.32004556],\n",
       "       [-0.1533783 ],\n",
       "       [-0.2805332 ],\n",
       "       [ 0.13109025],\n",
       "       [-0.08395576],\n",
       "       [-0.21470623],\n",
       "       [ 0.17386153],\n",
       "       [ 0.12349701],\n",
       "       [ 0.2933068 ],\n",
       "       [ 0.19578627],\n",
       "       [-0.15313141],\n",
       "       [ 0.2859294 ],\n",
       "       [-0.33816087],\n",
       "       [ 0.32725975],\n",
       "       [ 0.13428217],\n",
       "       [-0.32288104],\n",
       "       [-0.0638971 ],\n",
       "       [ 0.18895778],\n",
       "       [ 0.12390247],\n",
       "       [ 0.30769065],\n",
       "       [ 0.1726956 ],\n",
       "       [ 0.0059765 ],\n",
       "       [-0.17282663],\n",
       "       [-0.07661793],\n",
       "       [ 0.17276832],\n",
       "       [-0.12164828],\n",
       "       [ 0.15620318],\n",
       "       [-0.04197797],\n",
       "       [-0.19876635],\n",
       "       [-0.1435071 ],\n",
       "       [ 0.14039785],\n",
       "       [-0.21421532],\n",
       "       [ 0.00405401],\n",
       "       [ 0.0944587 ],\n",
       "       [-0.2754563 ],\n",
       "       [-0.17946324],\n",
       "       [ 0.10335308],\n",
       "       [-0.12226292],\n",
       "       [-0.1574961 ],\n",
       "       [ 0.01013297],\n",
       "       [-0.02159974],\n",
       "       [-0.30054522],\n",
       "       [ 0.08676863],\n",
       "       [-0.10280819],\n",
       "       [ 0.21256962],\n",
       "       [ 0.2198517 ],\n",
       "       [-0.0625577 ]], dtype=float32), array([0.], dtype=float32)], non_trainable=[]), optimizer_state=[0], delta_aggregate_state=OrderedDict([('value_sum_process', ()), ('weight_sum_process', ())]), model_broadcast_state=())"
      ]
     },
     "execution_count": 25,
     "metadata": {},
     "output_type": "execute_result"
    }
   ],
   "source": [
    "state"
   ]
  },
  {
   "cell_type": "markdown",
   "metadata": {},
   "source": [
    "The second of the pair of federated computations, `next`, represents a single\n",
    "round of Federated Averaging, which consists of pushing the server state\n",
    "(including the model parameters) to the clients, on-device training on their\n",
    "local data, collecting and averaging model updates, and producing a new updated\n",
    "model at the server.\n",
    "\n",
    "Conceptually, you can think of `next` as having a functional type signature that\n",
    "looks as follows.\n",
    "\n",
    "```\n",
    "SERVER_STATE, FEDERATED_DATA -> SERVER_STATE, TRAINING_METRICS\n",
    "```\n",
    "\n",
    "In particular, one should think about `next()` not as being a function that runs on a server, but rather being a declarative functional representation of the entire decentralized computation - some of the inputs are provided by the server (`SERVER_STATE`), but each participating device contributes its own local dataset.\n",
    "\n",
    "Let's run a single round of training and visualize the results. We can use the\n",
    "federated data we've already generated above for a sample of users."
   ]
  },
  {
   "cell_type": "code",
   "execution_count": 26,
   "metadata": {},
   "outputs": [
    {
     "name": "stdout",
     "output_type": "stream",
     "text": [
      "round  1, metrics=OrderedDict([('broadcast', ()), ('aggregation', OrderedDict([('mean_value', ()), ('mean_weight', ())])), ('train', OrderedDict([('binary_accuracy', 0.6394299), ('Precision', 0.5927602), ('Recall', 0.16375), ('AUC', 0.582306), ('loss', 0.6758262)])), ('stat', OrderedDict([('num_examples', 10525)]))])\n"
     ]
    }
   ],
   "source": [
    "state, metrics = iterative_process.next(state, federated_train_data)\n",
    "print('round  1, metrics={}'.format(metrics))"
   ]
  },
  {
   "cell_type": "markdown",
   "metadata": {},
   "source": [
    "Let's run a few more rounds. As noted earlier, typically at this point you would\n",
    "pick a subset of your simulation data from a new randomly selected sample of\n",
    "users for each round in order to simulate a realistic deployment in which users\n",
    "continuously come and go, but in this interactive notebook, for the sake of\n",
    "demonstration we'll just reuse the same users, so that the system converges\n",
    "quickly."
   ]
  },
  {
   "cell_type": "code",
   "execution_count": 27,
   "metadata": {},
   "outputs": [
    {
     "name": "stdout",
     "output_type": "stream",
     "text": [
      "round  2, metrics=OrderedDict([('broadcast', ()), ('aggregation', OrderedDict([('mean_value', ()), ('mean_weight', ())])), ('train', OrderedDict([('binary_accuracy', 0.64608073), ('Precision', 0.6418989), ('Recall', 0.1555), ('AUC', 0.589383), ('loss', 0.67538023)])), ('stat', OrderedDict([('num_examples', 10525)]))])\n",
      "--\n"
     ]
    }
   ],
   "source": [
    "NUM_ROUNDS = 3\n",
    "for round_num in range(2, NUM_ROUNDS):\n",
    "    state, metrics = iterative_process.next(state, federated_train_data)\n",
    "    print('round {:2d}, metrics={}'.format(round_num, metrics))\n",
    "    print(\"--\")"
   ]
  },
  {
   "cell_type": "markdown",
   "metadata": {},
   "source": [
    "Training loss is decreasing after each round of federated training, indicating\n",
    "the model is converging"
   ]
  },
  {
   "cell_type": "markdown",
   "metadata": {},
   "source": [
    "Next, let's visualize the metrics from these federated computations using Tensorboard.\n",
    "\n",
    "Let's start by creating the directory and the corresponding summary writer to write the metrics to."
   ]
  },
  {
   "cell_type": "code",
   "execution_count": 28,
   "metadata": {},
   "outputs": [],
   "source": [
    "logdir = \"/tmp/logs/scalars/training/\"\n",
    "summary_writer = tf.summary.create_file_writer(logdir)\n",
    "state = iterative_process.initialize()"
   ]
  },
  {
   "cell_type": "code",
   "execution_count": 29,
   "metadata": {},
   "outputs": [],
   "source": [
    "evaluation = tff.learning.build_federated_evaluation(model_fn)\n",
    "federated_test_data = make_federated_data(test_data, test_client_ids)\n"
   ]
  },
  {
   "cell_type": "code",
   "execution_count": 31,
   "metadata": {
    "scrolled": true
   },
   "outputs": [
    {
     "name": "stdout",
     "output_type": "stream",
     "text": [
      "round:  1, loss: 0.653647780418396, test_accuracy: [0.5540541], training_recall : 0.6292499899864197, training_precision = 0.7690192461013794, training_f1 = 0.6921490559043617, val_precision = 0.4396551847457886, val_recall = 0.9807692170143127, val_f1 = 0.6071428331642522\n",
      "round:  2, loss: 0.6532941460609436, test_accuracy: [0.5540541, 0.5743243], training_recall : 0.6299999952316284, training_precision = 0.7682926654815674, training_f1 = 0.6923076824707545, val_precision = 0.45132744312286377, val_recall = 0.9807692170143127, val_f1 = 0.6181817848853829\n",
      "round:  3, loss: 0.6529706716537476, test_accuracy: [0.5540541, 0.5743243, 0.5810811], training_recall : 0.6197500228881836, training_precision = 0.7722741365432739, training_f1 = 0.6876560580518611, val_precision = 0.4545454680919647, val_recall = 0.9615384340286255, val_f1 = 0.6172839604905239\n",
      "round:  4, loss: 0.6524243950843811, test_accuracy: [0.5540541, 0.5743243, 0.5810811, 0.6351351], training_recall : 0.6202499866485596, training_precision = 0.7868696451187134, training_f1 = 0.6936949408134262, val_precision = 0.4901960790157318, val_recall = 0.9615384340286255, val_f1 = 0.6493506504170788\n",
      "round:  5, loss: 0.6521117687225342, test_accuracy: [0.5540541, 0.5743243, 0.5810811, 0.6351351, 0.6418919], training_recall : 0.6395000219345093, training_precision = 0.7968847155570984, training_f1 = 0.7095700751282152, val_precision = 0.49504950642585754, val_recall = 0.9615384340286255, val_f1 = 0.6535947840797071\n",
      "round:  6, loss: 0.6516507267951965, test_accuracy: [0.5540541, 0.5743243, 0.5810811, 0.6351351, 0.6418919, 0.6689189], training_recall : 0.6110000014305115, training_precision = 0.8127701878547668, training_f1 = 0.6975881340818608, val_precision = 0.5154638886451721, val_recall = 0.9615384340286255, val_f1 = 0.6711408819084174\n",
      "round:  7, loss: 0.6511630415916443, test_accuracy: [0.5540541, 0.5743243, 0.5810811, 0.6351351, 0.6418919, 0.6689189, 0.6891892], training_recall : 0.5947499871253967, training_precision = 0.8102861046791077, training_f1 = 0.6859861498484214, val_precision = 0.5319148898124695, val_recall = 0.9615384340286255, val_f1 = 0.6849315221574979\n",
      "round:  8, loss: 0.6507846713066101, test_accuracy: [0.5540541, 0.5743243, 0.5810811, 0.6351351, 0.6418919, 0.6689189, 0.6891892, 0.7297297], training_recall : 0.624750018119812, training_precision = 0.8485568761825562, training_f1 = 0.7196544476030978, val_precision = 0.5681818127632141, val_recall = 0.9615384340286255, val_f1 = 0.7142856920203388\n",
      "round:  9, loss: 0.6501650214195251, test_accuracy: [0.5540541, 0.5743243, 0.5810811, 0.6351351, 0.6418919, 0.6689189, 0.6891892, 0.7297297, 0.7702703], training_recall : 0.6019999980926514, training_precision = 0.859386146068573, training_f1 = 0.7080269868755973, val_precision = 0.6153846383094788, val_recall = 0.9230769276618958, val_f1 = 0.7384615348852598\n",
      "round: 10, loss: 0.6499332189559937, test_accuracy: [0.5540541, 0.5743243, 0.5810811, 0.6351351, 0.6418919, 0.6689189, 0.6891892, 0.7297297, 0.7702703, 0.7972973], training_recall : 0.5992500185966492, training_precision = 0.8274076581001282, training_f1 = 0.695084850253249, val_precision = 0.6486486196517944, val_recall = 0.9230769276618958, val_f1 = 0.7619046932820815\n"
     ]
    }
   ],
   "source": [
    "NUM_ROUNDS = 10\n",
    "MAX_STD = 0.001\n",
    "loss = list()\n",
    "accuracy = list()\n",
    "val_loss = list()\n",
    "val_accuracy = list()\n",
    "precision = list()\n",
    "recall = list()\n",
    "f1 = list()\n",
    "val_precision = list()\n",
    "val_recall = list()\n",
    "val_f1 = list() \n",
    "train_AUC = list()\n",
    "val_AUC = list() \n",
    "\n",
    "with summary_writer.as_default():\n",
    "    for round_num in range(1, NUM_ROUNDS+1):\n",
    "        state, metrics = iterative_process.next(state, federated_train_data)\n",
    "        val_metrics = evaluation(state.model, federated_test_data)\n",
    "        \n",
    "        my_precision = metrics['train']['Precision']\n",
    "        precision.append(my_precision)\n",
    "        \n",
    "        my_recall = metrics['train']['Recall']\n",
    "        recall.append(my_recall)\n",
    "        \n",
    "        my_f1 = 2 * (my_precision * my_recall) / (my_precision + my_recall)\n",
    "        f1.append(my_f1)\n",
    "        \n",
    "        val_precision.append(val_metrics['eval']['Precision'])\n",
    "        val_recall.append(val_metrics['eval']['Recall'])\n",
    "        my_val_f1 = 2 * (val_metrics['eval']['Precision'] * val_metrics['eval']['Recall']) / (val_metrics['eval']['Precision'] + val_metrics['eval']['Recall'])\n",
    "        val_f1.append(my_val_f1)\n",
    "        \n",
    "        my_loss = metrics['train']['loss']\n",
    "        \n",
    "        train_AUC.append(metrics['train']['AUC'])\n",
    "        val_AUC.append(val_metrics['eval']['AUC'])\n",
    "        \n",
    "        loss.append(metrics['train']['loss'])\n",
    "        accuracy.append(metrics['train']['binary_accuracy'])\n",
    "        my_acc = val_metrics['eval']['binary_accuracy']\n",
    "        val_loss.append(val_metrics['eval']['loss'])\n",
    "        val_accuracy.append(val_metrics['eval']['binary_accuracy'])\n",
    "        print(f\"round: {round_num:2d}, loss: {my_loss}, test_accuracy: {val_accuracy}, training_recall : {my_recall}, training_precision = {my_precision}, training_f1 = {my_f1}, val_precision = {val_metrics['eval']['Precision']}, val_recall = {val_metrics['eval']['Recall']}, val_f1 = {my_val_f1}\")\n",
    "        for name, value in metrics['train'].items():\n",
    "            tf.summary.scalar(name, value, step=round_num)\n",
    "\n"
   ]
  },
  {
   "cell_type": "code",
   "execution_count": 32,
   "metadata": {},
   "outputs": [
    {
     "name": "stdout",
     "output_type": "stream",
     "text": [
      "[<PrefetchDataset element_spec=OrderedDict([('x', TensorSpec(shape=(None, 30), dtype=tf.float32, name=None)), ('y', TensorSpec(shape=(None, 1), dtype=tf.int32, name=None))])>]\n"
     ]
    }
   ],
   "source": [
    "federated_test_data = make_federated_data(test_data, test_client_ids)\n",
    "print(federated_test_data)"
   ]
  },
  {
   "cell_type": "code",
   "execution_count": 33,
   "metadata": {},
   "outputs": [],
   "source": [
    "%load_ext tensorboard"
   ]
  },
  {
   "cell_type": "code",
   "execution_count": 34,
   "metadata": {
    "tags": []
   },
   "outputs": [
    {
     "name": "stdout",
     "output_type": "stream",
     "text": [
      "events.out.tfevents.1635907376.gpu061.cluster.local.32442.0.v2\r\n"
     ]
    },
    {
     "data": {
      "text/plain": [
       "ERROR: Could not find `tensorboard`. Please ensure that your PATH\n",
       "contains an executable `tensorboard` program, or explicitly specify\n",
       "the path to a TensorBoard binary by setting the `TENSORBOARD_BINARY`\n",
       "environment variable."
      ]
     },
     "metadata": {},
     "output_type": "display_data"
    }
   ],
   "source": [
    "!ls {logdir}\n",
    "%tensorboard --host 0.0.0.0 --logdir {logdir} --port=6004"
   ]
  },
  {
   "cell_type": "code",
   "execution_count": 35,
   "metadata": {},
   "outputs": [
    {
     "data": {
      "text/plain": [
       "Text(0.5, 0, 'Round')"
      ]
     },
     "execution_count": 35,
     "metadata": {},
     "output_type": "execute_result"
    },
    {
     "data": {
      "image/png": "[encoded data removed]",
      "text/plain": [
       "<Figure size 576x576 with 2 Axes>"
      ]
     },
     "metadata": {
      "needs_background": "light"
     },
     "output_type": "display_data"
    }
   ],
   "source": [
    "fig1 = plt.figure(figsize=(8, 8))\n",
    "ax1 = fig1.add_subplot(2, 1, 1)\n",
    "ax1.plot(accuracy, label='Training Accuracy')\n",
    "ax1.plot(val_accuracy, label='Validation Accuracy')\n",
    "ax1.legend(loc='lower right')\n",
    "ax1.set_ylabel('Accuracy')\n",
    "ax1.set_ylim([0, 1])\n",
    "ax1.set_title('Training and Validation AUC')\n",
    "\n",
    "ax2 = fig1.add_subplot(2, 1, 2)\n",
    "ax2.plot(loss, label='Training Loss')\n",
    "ax2.plot(val_loss, label='Validation Loss')\n",
    "ax2.legend(loc='upper right')\n",
    "ax2.set_ylabel('Cross Entropy')\n",
    "ax2.set_ylim([0,max(ax2.get_ylim())])\n",
    "ax2.set_title('Training and Validation Loss')\n",
    "ax2.set_xlabel('Round')\n",
    "\n",
    "# plt.savefig('./figures/DELIRIUM_normalized_TFF_accuracy_loss_10_rounds.png')\n"
   ]
  },
  {
   "cell_type": "code",
   "execution_count": 36,
   "metadata": {},
   "outputs": [
    {
     "data": {
      "text/plain": [
       "Text(0.5, 0, 'Round')"
      ]
     },
     "execution_count": 36,
     "metadata": {},
     "output_type": "execute_result"
    },
    {
     "data": {
      "image/png": "[encoded data removed]",
      "text/plain": [
       "<Figure size 576x576 with 2 Axes>"
      ]
     },
     "metadata": {
      "needs_background": "light"
     },
     "output_type": "display_data"
    }
   ],
   "source": [
    "fig1 = plt.figure(figsize=(8, 8))\n",
    "ax1 = fig1.add_subplot(2, 1, 1)\n",
    "ax1.plot(precision, label='Training precision')\n",
    "ax1.plot(val_precision, label='Validation precision')\n",
    "ax1.legend(loc='lower right')\n",
    "ax1.set_ylabel('Accuracy')\n",
    "ax1.set_ylim([0, 1])\n",
    "ax1.set_title('Training and Validation precision')\n",
    "\n",
    "ax2 = fig1.add_subplot(2, 1, 2)\n",
    "ax2.plot(recall, label='Training recall')\n",
    "ax2.plot(val_recall, label='Validation recall')\n",
    "ax2.legend(loc='upper right')\n",
    "ax2.set_ylabel('Cross Entropy')\n",
    "ax2.set_ylim([0,max(ax2.get_ylim())])\n",
    "ax2.set_title('Training and Validation recall')\n",
    "ax2.set_xlabel('Round')\n"
   ]
  },
  {
   "cell_type": "code",
   "execution_count": 37,
   "metadata": {},
   "outputs": [],
   "source": [
    "train_metrics = evaluation(state.model, federated_train_data)"
   ]
  },
  {
   "cell_type": "code",
   "execution_count": 38,
   "metadata": {},
   "outputs": [
    {
     "data": {
      "text/plain": [
       "\"OrderedDict([('eval', OrderedDict([('binary_accuracy', 0.80285037), ('Precision', 0.67264575), ('Recall', 0.9375), ('AUC', 0.93620694), ('loss', 0.6794335)])), ('stat', OrderedDict([('num_examples', 10525)]))])\""
      ]
     },
     "execution_count": 38,
     "metadata": {},
     "output_type": "execute_result"
    }
   ],
   "source": [
    "str(train_metrics)"
   ]
  },
  {
   "cell_type": "code",
   "execution_count": 39,
   "metadata": {},
   "outputs": [],
   "source": [
    "test_metrics = evaluation(state.model, federated_test_data)"
   ]
  },
  {
   "cell_type": "code",
   "execution_count": 40,
   "metadata": {},
   "outputs": [
    {
     "data": {
      "text/plain": [
       "\"OrderedDict([('eval', OrderedDict([('binary_accuracy', 0.7972973), ('Precision', 0.6486486), ('Recall', 0.9230769), ('AUC', 0.9454127), ('loss', 0.6804818)])), ('stat', OrderedDict([('num_examples', 3700)]))])\""
      ]
     },
     "execution_count": 40,
     "metadata": {},
     "output_type": "execute_result"
    }
   ],
   "source": [
    "str(test_metrics)"
   ]
  }
 ],
 "metadata": {
  "kernelspec": {
   "display_name": "Python 3 (ipykernel)",
   "language": "python",
   "name": "python3"
  },
  "language_info": {
   "codemirror_mode": {
    "name": "ipython",
    "version": 3
   },
   "file_extension": ".py",
   "mimetype": "text/x-python",
   "name": "python",
   "nbconvert_exporter": "python",
   "pygments_lexer": "ipython3",
   "version": "3.8.0"
  }
 },
 "nbformat": 4,
 "nbformat_minor": 4
}
