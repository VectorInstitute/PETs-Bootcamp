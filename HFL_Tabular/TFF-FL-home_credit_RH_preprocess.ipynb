{
 "cells": [
  {
   "cell_type": "code",
   "execution_count": 1,
   "id": "d8cfcba0",
   "metadata": {},
   "outputs": [],
   "source": [
    "import nest_asyncio\n",
    "nest_asyncio.apply()"
   ]
  },
  {
   "cell_type": "code",
   "execution_count": 6,
   "id": "41789f5f",
   "metadata": {},
   "outputs": [],
   "source": [
    "import nest_asyncio\n",
    "nest_asyncio.apply()\n",
    "import collections\n",
    "import numpy as np\n",
    "import tensorflow as tf\n",
    "import tensorflow_federated as tff\n",
    "from tensorflow import reshape, nest, config\n",
    "from tensorflow.keras.datasets import mnist\n",
    "import pandas as pd\n",
    "from random import sample\n",
    "from matplotlib import pyplot as plt\n",
    "from sklearn import preprocessing\n",
    "from uuid import uuid4\n",
    "np.random.seed(0)"
   ]
  },
  {
   "cell_type": "markdown",
   "id": "493831b7",
   "metadata": {},
   "source": [
    "# Set up data"
   ]
  },
  {
   "cell_type": "code",
   "execution_count": 21,
   "id": "7728c099",
   "metadata": {},
   "outputs": [
    {
     "data": {
      "text/html": [
       "<div>\n",
       "<style scoped>\n",
       "    .dataframe tbody tr th:only-of-type {\n",
       "        vertical-align: middle;\n",
       "    }\n",
       "\n",
       "    .dataframe tbody tr th {\n",
       "        vertical-align: top;\n",
       "    }\n",
       "\n",
       "    .dataframe thead th {\n",
       "        text-align: right;\n",
       "    }\n",
       "</style>\n",
       "<table border=\"1\" class=\"dataframe\">\n",
       "  <thead>\n",
       "    <tr style=\"text-align: right;\">\n",
       "      <th></th>\n",
       "      <th>SK_ID_CURR</th>\n",
       "      <th>TARGET</th>\n",
       "      <th>NAME_CONTRACT_TYPE</th>\n",
       "      <th>CODE_GENDER</th>\n",
       "      <th>FLAG_OWN_CAR</th>\n",
       "      <th>FLAG_OWN_REALTY</th>\n",
       "      <th>CNT_CHILDREN</th>\n",
       "      <th>AMT_INCOME_TOTAL</th>\n",
       "      <th>AMT_CREDIT</th>\n",
       "      <th>AMT_ANNUITY</th>\n",
       "      <th>...</th>\n",
       "      <th>FLAG_DOCUMENT_18</th>\n",
       "      <th>FLAG_DOCUMENT_19</th>\n",
       "      <th>FLAG_DOCUMENT_20</th>\n",
       "      <th>FLAG_DOCUMENT_21</th>\n",
       "      <th>AMT_REQ_CREDIT_BUREAU_HOUR</th>\n",
       "      <th>AMT_REQ_CREDIT_BUREAU_DAY</th>\n",
       "      <th>AMT_REQ_CREDIT_BUREAU_WEEK</th>\n",
       "      <th>AMT_REQ_CREDIT_BUREAU_MON</th>\n",
       "      <th>AMT_REQ_CREDIT_BUREAU_QRT</th>\n",
       "      <th>AMT_REQ_CREDIT_BUREAU_YEAR</th>\n",
       "    </tr>\n",
       "  </thead>\n",
       "  <tbody>\n",
       "    <tr>\n",
       "      <th>0</th>\n",
       "      <td>100002</td>\n",
       "      <td>1</td>\n",
       "      <td>Cash loans</td>\n",
       "      <td>M</td>\n",
       "      <td>N</td>\n",
       "      <td>Y</td>\n",
       "      <td>0</td>\n",
       "      <td>202500.0</td>\n",
       "      <td>406597.5</td>\n",
       "      <td>24700.5</td>\n",
       "      <td>...</td>\n",
       "      <td>0</td>\n",
       "      <td>0</td>\n",
       "      <td>0</td>\n",
       "      <td>0</td>\n",
       "      <td>0.0</td>\n",
       "      <td>0.0</td>\n",
       "      <td>0.0</td>\n",
       "      <td>0.0</td>\n",
       "      <td>0.0</td>\n",
       "      <td>1.0</td>\n",
       "    </tr>\n",
       "    <tr>\n",
       "      <th>1</th>\n",
       "      <td>100003</td>\n",
       "      <td>0</td>\n",
       "      <td>Cash loans</td>\n",
       "      <td>F</td>\n",
       "      <td>N</td>\n",
       "      <td>N</td>\n",
       "      <td>0</td>\n",
       "      <td>270000.0</td>\n",
       "      <td>1293502.5</td>\n",
       "      <td>35698.5</td>\n",
       "      <td>...</td>\n",
       "      <td>0</td>\n",
       "      <td>0</td>\n",
       "      <td>0</td>\n",
       "      <td>0</td>\n",
       "      <td>0.0</td>\n",
       "      <td>0.0</td>\n",
       "      <td>0.0</td>\n",
       "      <td>0.0</td>\n",
       "      <td>0.0</td>\n",
       "      <td>0.0</td>\n",
       "    </tr>\n",
       "    <tr>\n",
       "      <th>2</th>\n",
       "      <td>100004</td>\n",
       "      <td>0</td>\n",
       "      <td>Revolving loans</td>\n",
       "      <td>M</td>\n",
       "      <td>Y</td>\n",
       "      <td>Y</td>\n",
       "      <td>0</td>\n",
       "      <td>67500.0</td>\n",
       "      <td>135000.0</td>\n",
       "      <td>6750.0</td>\n",
       "      <td>...</td>\n",
       "      <td>0</td>\n",
       "      <td>0</td>\n",
       "      <td>0</td>\n",
       "      <td>0</td>\n",
       "      <td>0.0</td>\n",
       "      <td>0.0</td>\n",
       "      <td>0.0</td>\n",
       "      <td>0.0</td>\n",
       "      <td>0.0</td>\n",
       "      <td>0.0</td>\n",
       "    </tr>\n",
       "    <tr>\n",
       "      <th>3</th>\n",
       "      <td>100006</td>\n",
       "      <td>0</td>\n",
       "      <td>Cash loans</td>\n",
       "      <td>F</td>\n",
       "      <td>N</td>\n",
       "      <td>Y</td>\n",
       "      <td>0</td>\n",
       "      <td>135000.0</td>\n",
       "      <td>312682.5</td>\n",
       "      <td>29686.5</td>\n",
       "      <td>...</td>\n",
       "      <td>0</td>\n",
       "      <td>0</td>\n",
       "      <td>0</td>\n",
       "      <td>0</td>\n",
       "      <td>NaN</td>\n",
       "      <td>NaN</td>\n",
       "      <td>NaN</td>\n",
       "      <td>NaN</td>\n",
       "      <td>NaN</td>\n",
       "      <td>NaN</td>\n",
       "    </tr>\n",
       "    <tr>\n",
       "      <th>4</th>\n",
       "      <td>100007</td>\n",
       "      <td>0</td>\n",
       "      <td>Cash loans</td>\n",
       "      <td>M</td>\n",
       "      <td>N</td>\n",
       "      <td>Y</td>\n",
       "      <td>0</td>\n",
       "      <td>121500.0</td>\n",
       "      <td>513000.0</td>\n",
       "      <td>21865.5</td>\n",
       "      <td>...</td>\n",
       "      <td>0</td>\n",
       "      <td>0</td>\n",
       "      <td>0</td>\n",
       "      <td>0</td>\n",
       "      <td>0.0</td>\n",
       "      <td>0.0</td>\n",
       "      <td>0.0</td>\n",
       "      <td>0.0</td>\n",
       "      <td>0.0</td>\n",
       "      <td>0.0</td>\n",
       "    </tr>\n",
       "    <tr>\n",
       "      <th>...</th>\n",
       "      <td>...</td>\n",
       "      <td>...</td>\n",
       "      <td>...</td>\n",
       "      <td>...</td>\n",
       "      <td>...</td>\n",
       "      <td>...</td>\n",
       "      <td>...</td>\n",
       "      <td>...</td>\n",
       "      <td>...</td>\n",
       "      <td>...</td>\n",
       "      <td>...</td>\n",
       "      <td>...</td>\n",
       "      <td>...</td>\n",
       "      <td>...</td>\n",
       "      <td>...</td>\n",
       "      <td>...</td>\n",
       "      <td>...</td>\n",
       "      <td>...</td>\n",
       "      <td>...</td>\n",
       "      <td>...</td>\n",
       "      <td>...</td>\n",
       "    </tr>\n",
       "    <tr>\n",
       "      <th>307506</th>\n",
       "      <td>456251</td>\n",
       "      <td>0</td>\n",
       "      <td>Cash loans</td>\n",
       "      <td>M</td>\n",
       "      <td>N</td>\n",
       "      <td>N</td>\n",
       "      <td>0</td>\n",
       "      <td>157500.0</td>\n",
       "      <td>254700.0</td>\n",
       "      <td>27558.0</td>\n",
       "      <td>...</td>\n",
       "      <td>0</td>\n",
       "      <td>0</td>\n",
       "      <td>0</td>\n",
       "      <td>0</td>\n",
       "      <td>NaN</td>\n",
       "      <td>NaN</td>\n",
       "      <td>NaN</td>\n",
       "      <td>NaN</td>\n",
       "      <td>NaN</td>\n",
       "      <td>NaN</td>\n",
       "    </tr>\n",
       "    <tr>\n",
       "      <th>307507</th>\n",
       "      <td>456252</td>\n",
       "      <td>0</td>\n",
       "      <td>Cash loans</td>\n",
       "      <td>F</td>\n",
       "      <td>N</td>\n",
       "      <td>Y</td>\n",
       "      <td>0</td>\n",
       "      <td>72000.0</td>\n",
       "      <td>269550.0</td>\n",
       "      <td>12001.5</td>\n",
       "      <td>...</td>\n",
       "      <td>0</td>\n",
       "      <td>0</td>\n",
       "      <td>0</td>\n",
       "      <td>0</td>\n",
       "      <td>NaN</td>\n",
       "      <td>NaN</td>\n",
       "      <td>NaN</td>\n",
       "      <td>NaN</td>\n",
       "      <td>NaN</td>\n",
       "      <td>NaN</td>\n",
       "    </tr>\n",
       "    <tr>\n",
       "      <th>307508</th>\n",
       "      <td>456253</td>\n",
       "      <td>0</td>\n",
       "      <td>Cash loans</td>\n",
       "      <td>F</td>\n",
       "      <td>N</td>\n",
       "      <td>Y</td>\n",
       "      <td>0</td>\n",
       "      <td>153000.0</td>\n",
       "      <td>677664.0</td>\n",
       "      <td>29979.0</td>\n",
       "      <td>...</td>\n",
       "      <td>0</td>\n",
       "      <td>0</td>\n",
       "      <td>0</td>\n",
       "      <td>0</td>\n",
       "      <td>1.0</td>\n",
       "      <td>0.0</td>\n",
       "      <td>0.0</td>\n",
       "      <td>1.0</td>\n",
       "      <td>0.0</td>\n",
       "      <td>1.0</td>\n",
       "    </tr>\n",
       "    <tr>\n",
       "      <th>307509</th>\n",
       "      <td>456254</td>\n",
       "      <td>1</td>\n",
       "      <td>Cash loans</td>\n",
       "      <td>F</td>\n",
       "      <td>N</td>\n",
       "      <td>Y</td>\n",
       "      <td>0</td>\n",
       "      <td>171000.0</td>\n",
       "      <td>370107.0</td>\n",
       "      <td>20205.0</td>\n",
       "      <td>...</td>\n",
       "      <td>0</td>\n",
       "      <td>0</td>\n",
       "      <td>0</td>\n",
       "      <td>0</td>\n",
       "      <td>0.0</td>\n",
       "      <td>0.0</td>\n",
       "      <td>0.0</td>\n",
       "      <td>0.0</td>\n",
       "      <td>0.0</td>\n",
       "      <td>0.0</td>\n",
       "    </tr>\n",
       "    <tr>\n",
       "      <th>307510</th>\n",
       "      <td>456255</td>\n",
       "      <td>0</td>\n",
       "      <td>Cash loans</td>\n",
       "      <td>F</td>\n",
       "      <td>N</td>\n",
       "      <td>N</td>\n",
       "      <td>0</td>\n",
       "      <td>157500.0</td>\n",
       "      <td>675000.0</td>\n",
       "      <td>49117.5</td>\n",
       "      <td>...</td>\n",
       "      <td>0</td>\n",
       "      <td>0</td>\n",
       "      <td>0</td>\n",
       "      <td>0</td>\n",
       "      <td>0.0</td>\n",
       "      <td>0.0</td>\n",
       "      <td>0.0</td>\n",
       "      <td>2.0</td>\n",
       "      <td>0.0</td>\n",
       "      <td>1.0</td>\n",
       "    </tr>\n",
       "  </tbody>\n",
       "</table>\n",
       "<p>307511 rows × 122 columns</p>\n",
       "</div>"
      ],
      "text/plain": [
       "        SK_ID_CURR  TARGET NAME_CONTRACT_TYPE CODE_GENDER FLAG_OWN_CAR  \\\n",
       "0           100002       1         Cash loans           M            N   \n",
       "1           100003       0         Cash loans           F            N   \n",
       "2           100004       0    Revolving loans           M            Y   \n",
       "3           100006       0         Cash loans           F            N   \n",
       "4           100007       0         Cash loans           M            N   \n",
       "...            ...     ...                ...         ...          ...   \n",
       "307506      456251       0         Cash loans           M            N   \n",
       "307507      456252       0         Cash loans           F            N   \n",
       "307508      456253       0         Cash loans           F            N   \n",
       "307509      456254       1         Cash loans           F            N   \n",
       "307510      456255       0         Cash loans           F            N   \n",
       "\n",
       "       FLAG_OWN_REALTY  CNT_CHILDREN  AMT_INCOME_TOTAL  AMT_CREDIT  \\\n",
       "0                    Y             0          202500.0    406597.5   \n",
       "1                    N             0          270000.0   1293502.5   \n",
       "2                    Y             0           67500.0    135000.0   \n",
       "3                    Y             0          135000.0    312682.5   \n",
       "4                    Y             0          121500.0    513000.0   \n",
       "...                ...           ...               ...         ...   \n",
       "307506               N             0          157500.0    254700.0   \n",
       "307507               Y             0           72000.0    269550.0   \n",
       "307508               Y             0          153000.0    677664.0   \n",
       "307509               Y             0          171000.0    370107.0   \n",
       "307510               N             0          157500.0    675000.0   \n",
       "\n",
       "        AMT_ANNUITY  ...  FLAG_DOCUMENT_18 FLAG_DOCUMENT_19 FLAG_DOCUMENT_20  \\\n",
       "0           24700.5  ...                 0                0                0   \n",
       "1           35698.5  ...                 0                0                0   \n",
       "2            6750.0  ...                 0                0                0   \n",
       "3           29686.5  ...                 0                0                0   \n",
       "4           21865.5  ...                 0                0                0   \n",
       "...             ...  ...               ...              ...              ...   \n",
       "307506      27558.0  ...                 0                0                0   \n",
       "307507      12001.5  ...                 0                0                0   \n",
       "307508      29979.0  ...                 0                0                0   \n",
       "307509      20205.0  ...                 0                0                0   \n",
       "307510      49117.5  ...                 0                0                0   \n",
       "\n",
       "       FLAG_DOCUMENT_21 AMT_REQ_CREDIT_BUREAU_HOUR AMT_REQ_CREDIT_BUREAU_DAY  \\\n",
       "0                     0                        0.0                       0.0   \n",
       "1                     0                        0.0                       0.0   \n",
       "2                     0                        0.0                       0.0   \n",
       "3                     0                        NaN                       NaN   \n",
       "4                     0                        0.0                       0.0   \n",
       "...                 ...                        ...                       ...   \n",
       "307506                0                        NaN                       NaN   \n",
       "307507                0                        NaN                       NaN   \n",
       "307508                0                        1.0                       0.0   \n",
       "307509                0                        0.0                       0.0   \n",
       "307510                0                        0.0                       0.0   \n",
       "\n",
       "        AMT_REQ_CREDIT_BUREAU_WEEK  AMT_REQ_CREDIT_BUREAU_MON  \\\n",
       "0                              0.0                        0.0   \n",
       "1                              0.0                        0.0   \n",
       "2                              0.0                        0.0   \n",
       "3                              NaN                        NaN   \n",
       "4                              0.0                        0.0   \n",
       "...                            ...                        ...   \n",
       "307506                         NaN                        NaN   \n",
       "307507                         NaN                        NaN   \n",
       "307508                         0.0                        1.0   \n",
       "307509                         0.0                        0.0   \n",
       "307510                         0.0                        2.0   \n",
       "\n",
       "        AMT_REQ_CREDIT_BUREAU_QRT  AMT_REQ_CREDIT_BUREAU_YEAR  \n",
       "0                             0.0                         1.0  \n",
       "1                             0.0                         0.0  \n",
       "2                             0.0                         0.0  \n",
       "3                             NaN                         NaN  \n",
       "4                             0.0                         0.0  \n",
       "...                           ...                         ...  \n",
       "307506                        NaN                         NaN  \n",
       "307507                        NaN                         NaN  \n",
       "307508                        0.0                         1.0  \n",
       "307509                        0.0                         0.0  \n",
       "307510                        0.0                         1.0  \n",
       "\n",
       "[307511 rows x 122 columns]"
      ]
     },
     "execution_count": 21,
     "metadata": {},
     "output_type": "execute_result"
    }
   ],
   "source": [
    "datapath = '/ssd003/projects/pets/application_train.csv'\n",
    "raw_train = pd.read_csv(datapath)\n",
    "raw_train"
   ]
  },
  {
   "cell_type": "markdown",
   "id": "b032b5e9",
   "metadata": {},
   "source": [
    "# Preprocessing Function"
   ]
  },
  {
   "cell_type": "code",
   "execution_count": 24,
   "id": "9a2e22f1",
   "metadata": {},
   "outputs": [],
   "source": [
    "def data_preprocessing(df):\n",
    "    target = 'TARGET'\n",
    "    id_col = 'SK_ID_CURR'\n",
    "\n",
    "    #Delete target column as it is not useful for prediction\n",
    "    del df[id_col]\n",
    "\n",
    "    #Distribution of target variable\n",
    "    df[target].value_counts()\n",
    "\n",
    "    #Store target variable to be used later\n",
    "    target_val = df[target]\n",
    "\n",
    "    #Delete target column from features\n",
    "    target_col = df.pop(target)\n",
    "\n",
    "    # Write UID\n",
    "    uid_col = pd.Series([uuid4() for _ in range(len(df))])\n",
    "\n",
    "    # Get all continuous variabels \n",
    "    cont_vars = []\n",
    "    for col in df.columns:\n",
    "        if df[col].dtype == 'int64' or df[col].dtype == 'float64':\n",
    "            cont_vars.append(col)\n",
    "\n",
    "    #Store number of continous variable. This will be equivalent to number of neurons in input layer\n",
    "    cont_train = df.loc[:, cont_vars]\n",
    "    curr_dim = cont_train.shape[1]\n",
    "    \n",
    "    #Fill NAs with mean value of column. Lot of scope of improvement here :)\n",
    "    cont_train = cont_train.fillna(cont_train.mean())\n",
    "\n",
    "    #Normalize features using standard scaler. We will use same standard scaler object to normalize test data\n",
    "    std_scale = preprocessing.StandardScaler().fit(cont_train[cont_vars])\n",
    "    cont_train[cont_vars] = std_scale.transform(cont_train[cont_vars])\n",
    "    \n",
    "    # Extract home credit subdataset\n",
    "    home_credit_cols = [col for col in cont_train.columns if \"credit_bureau\" not in str.lower(col)]\n",
    "    home_credit_df = cont_train[home_credit_cols].copy()\n",
    "    home_credit_df[\"target\"] = target_col\n",
    "    return home_credit_df"
   ]
  },
  {
   "cell_type": "markdown",
   "id": "c1bc33f0",
   "metadata": {},
   "source": [
    "# Set up partitions"
   ]
  },
  {
   "cell_type": "code",
   "execution_count": 112,
   "id": "7a649fa8",
   "metadata": {},
   "outputs": [],
   "source": [
    "data1 = data_preprocessing(raw_train.sample(5000).copy())\n",
    "data1['hospital_id'] = 1\n",
    "\n",
    "data2 = data_preprocessing(raw_train.sample(1000).copy())\n",
    "data2['hospital_id'] = 2\n",
    "\n",
    "data3 = data_preprocessing(raw_train.sample(5000).copy())\n",
    "data3['hospital_id'] = 3\n",
    "\n",
    "data4 = data_preprocessing(raw_train.sample(1000).copy())\n",
    "data4['hospital_id'] = 4"
   ]
  },
  {
   "cell_type": "markdown",
   "id": "d9617b3d",
   "metadata": {},
   "source": [
    "# Combine and format DataFrame"
   ]
  },
  {
   "cell_type": "code",
   "execution_count": 123,
   "id": "4694ee14",
   "metadata": {},
   "outputs": [],
   "source": [
    "data = pd.concat([data1, data2, data3, data4])"
   ]
  },
  {
   "cell_type": "code",
   "execution_count": 124,
   "id": "c941e865",
   "metadata": {},
   "outputs": [],
   "source": [
    "df = data\n",
    "new = df.copy()\n",
    "del new['target']\n",
    "data['features']= new.values.tolist()\n",
    "\n",
    "#data['hospital_id'] = np.random.randint(1,5, size=len(data))\n",
    "data = data[['target', 'hospital_id', 'features']]\n",
    "data.index = range(len(data))"
   ]
  },
  {
   "cell_type": "code",
   "execution_count": 125,
   "id": "2cd90607",
   "metadata": {},
   "outputs": [
    {
     "data": {
      "text/html": [
       "<div>\n",
       "<style scoped>\n",
       "    .dataframe tbody tr th:only-of-type {\n",
       "        vertical-align: middle;\n",
       "    }\n",
       "\n",
       "    .dataframe tbody tr th {\n",
       "        vertical-align: top;\n",
       "    }\n",
       "\n",
       "    .dataframe thead th {\n",
       "        text-align: right;\n",
       "    }\n",
       "</style>\n",
       "<table border=\"1\" class=\"dataframe\">\n",
       "  <thead>\n",
       "    <tr style=\"text-align: right;\">\n",
       "      <th></th>\n",
       "      <th>target</th>\n",
       "      <th>hospital_id</th>\n",
       "      <th>features</th>\n",
       "    </tr>\n",
       "  </thead>\n",
       "  <tbody>\n",
       "    <tr>\n",
       "      <th>0</th>\n",
       "      <td>0</td>\n",
       "      <td>1</td>\n",
       "      <td>[-0.5673807932693179, -0.6206772045730605, -0....</td>\n",
       "    </tr>\n",
       "    <tr>\n",
       "      <th>1</th>\n",
       "      <td>0</td>\n",
       "      <td>1</td>\n",
       "      <td>[-0.5673807932693179, -1.2171305484901822, -0....</td>\n",
       "    </tr>\n",
       "    <tr>\n",
       "      <th>2</th>\n",
       "      <td>1</td>\n",
       "      <td>1</td>\n",
       "      <td>[0.8117655199764718, 1.2879734959617288, -1.00...</td>\n",
       "    </tr>\n",
       "    <tr>\n",
       "      <th>3</th>\n",
       "      <td>0</td>\n",
       "      <td>1</td>\n",
       "      <td>[-0.5673807932693179, -0.5928427151902615, 0.2...</td>\n",
       "    </tr>\n",
       "    <tr>\n",
       "      <th>4</th>\n",
       "      <td>0</td>\n",
       "      <td>1</td>\n",
       "      <td>[-0.5673807932693179, -0.10375097317822174, -0...</td>\n",
       "    </tr>\n",
       "  </tbody>\n",
       "</table>\n",
       "</div>"
      ],
      "text/plain": [
       "   target  hospital_id                                           features\n",
       "0       0            1  [-0.5673807932693179, -0.6206772045730605, -0....\n",
       "1       0            1  [-0.5673807932693179, -1.2171305484901822, -0....\n",
       "2       1            1  [0.8117655199764718, 1.2879734959617288, -1.00...\n",
       "3       0            1  [-0.5673807932693179, -0.5928427151902615, 0.2...\n",
       "4       0            1  [-0.5673807932693179, -0.10375097317822174, -0..."
      ]
     },
     "execution_count": 125,
     "metadata": {},
     "output_type": "execute_result"
    }
   ],
   "source": [
    "data.head()"
   ]
  },
  {
   "cell_type": "code",
   "execution_count": 126,
   "id": "ad4ba058",
   "metadata": {},
   "outputs": [
    {
     "data": {
      "text/plain": [
       "(12000, 3)"
      ]
     },
     "execution_count": 126,
     "metadata": {},
     "output_type": "execute_result"
    }
   ],
   "source": [
    "data.shape"
   ]
  },
  {
   "cell_type": "markdown",
   "id": "5306d14b",
   "metadata": {},
   "source": [
    "# Number of features"
   ]
  },
  {
   "cell_type": "code",
   "execution_count": 127,
   "id": "d515f118",
   "metadata": {},
   "outputs": [
    {
     "data": {
      "text/plain": [
       "99"
      ]
     },
     "execution_count": 127,
     "metadata": {},
     "output_type": "execute_result"
    }
   ],
   "source": [
    "n_features = len(data['features'][0])\n",
    "n_features"
   ]
  },
  {
   "cell_type": "markdown",
   "id": "7d200ecc",
   "metadata": {},
   "source": [
    "# Set up the sets of ids"
   ]
  },
  {
   "cell_type": "code",
   "execution_count": 128,
   "id": "c7c30351",
   "metadata": {},
   "outputs": [],
   "source": [
    "client_id_colname = 'hospital_id' #column that represents client ID \n",
    "number_of_training_clients = 3\n",
    "\n",
    "# split client_id into train and test clients\n",
    "client_ids = data[client_id_colname].unique()\n",
    "train_client_ids = sample(client_ids.tolist(), number_of_training_clients)\n",
    "test_client_ids = [x for x in client_ids if x not in train_client_ids]"
   ]
  },
  {
   "cell_type": "markdown",
   "id": "385f3260",
   "metadata": {},
   "source": [
    "# Create some TF datasets"
   ]
  },
  {
   "cell_type": "code",
   "execution_count": 129,
   "id": "caac0f91",
   "metadata": {},
   "outputs": [],
   "source": [
    "SHUFFLE_BUFFER = 1000\n",
    "NUM_EPOCHS = 10\n",
    "def create_tf_dataset_for_client_fn(client_id):\n",
    "    client_data = data[data[client_id_colname] == client_id]\n",
    "    dataset = tf.data.Dataset.from_tensor_slices(client_data.to_dict('list'))\n",
    "    dataset = dataset.shuffle(SHUFFLE_BUFFER).batch(1).repeat(NUM_EPOCHS)\n",
    "    return dataset"
   ]
  },
  {
   "cell_type": "code",
   "execution_count": 130,
   "id": "359e7869",
   "metadata": {},
   "outputs": [],
   "source": [
    "if tff.__version__ < \"0.19.0\":\n",
    "\n",
    "    train_data = tff.simulation.ClientData.from_clients_and_fn(\n",
    "        client_ids=train_client_ids,   \n",
    "        create_tf_dataset_for_client_fn=create_tf_dataset_for_client_fn)\n",
    "    \n",
    "    test_data = tff.simulation.ClientData.from_clients_and_fn(\n",
    "        client_ids=test_client_ids,\n",
    "        create_tf_dataset_for_client_fn=create_tf_dataset_for_client_fn)\n",
    "else:\n",
    "    train_data = tff.simulation.datasets.ClientData.from_clients_and_tf_fn(\n",
    "        client_ids=train_client_ids, \n",
    "        serializable_dataset_fn=create_tf_dataset_for_client_fn)\n",
    "    \n",
    "    test_data = tff.simulation.datasets.ClientData.from_clients_and_tf_fn(\n",
    "        client_ids=test_client_ids,\n",
    "        serializable_dataset_fn=create_tf_dataset_for_client_fn)"
   ]
  },
  {
   "cell_type": "markdown",
   "id": "e5f7105c",
   "metadata": {},
   "source": [
    "# Batch preprocessing function"
   ]
  },
  {
   "cell_type": "code",
   "execution_count": 131,
   "id": "dd416ebb",
   "metadata": {},
   "outputs": [],
   "source": [
    "NUM_ROUNDS = 5\n",
    "NUM_EPOCHS = 5\n",
    "BATCH_SIZE = 5000\n",
    "PREFETCH_BUFFER = 2500\n",
    "def preprocess(dataset):\n",
    "    def batch_format_fn(element):    \n",
    "        return collections.OrderedDict(x= tf.reshape(element['features'], [-1,n_features]),\n",
    "                                       y=tf.reshape(element['target'], [-1,1]))\n",
    "\n",
    "    return dataset.repeat(NUM_EPOCHS).shuffle(SHUFFLE_BUFFER).batch(\n",
    "      BATCH_SIZE).map(batch_format_fn).prefetch(PREFETCH_BUFFER)"
   ]
  },
  {
   "cell_type": "code",
   "execution_count": 132,
   "id": "6d5109cb",
   "metadata": {},
   "outputs": [
    {
     "name": "stdout",
     "output_type": "stream",
     "text": [
      "<RepeatDataset element_spec={'target': TensorSpec(shape=(None,), dtype=tf.int32, name=None), 'hospital_id': TensorSpec(shape=(None,), dtype=tf.int32, name=None), 'features': TensorSpec(shape=(None, 99), dtype=tf.float32, name=None)}>\n",
      "{'target': <tf.Tensor: shape=(1,), dtype=int32, numpy=array([0], dtype=int32)>, 'hospital_id': <tf.Tensor: shape=(1,), dtype=int32, numpy=array([1], dtype=int32)>, 'features': <tf.Tensor: shape=(1, 99), dtype=float32, numpy=\n",
      "array([[ 0.8117655 , -0.5013865 ,  1.2679763 ,  0.56078666,  1.5342697 ,\n",
      "         0.76468897,  0.9375883 , -0.47637773,  1.1417315 , -0.42809865,\n",
      "         0.        ,  0.        ,  0.4767547 ,  2.0125866 ,  0.04003204,\n",
      "         1.5639372 , -0.251299  ,  0.93828285, -0.11035925, -0.06551497,\n",
      "        -0.95965266, -0.12506346, -0.23704275, -0.21197188, -0.29847503,\n",
      "        -0.55363023, -0.4694733 ,  1.9714992 , -1.8520032 ,  0.        ,\n",
      "        -1.4537071 , -1.6100805 , -0.19127472, -2.6300435 , -0.8941869 ,\n",
      "        -0.827783  , -1.587974  , -1.7852937 , -2.0630147 , -0.9034545 ,\n",
      "        -1.7192413 , -1.2606865 , -0.32897466, -0.5926827 , -1.4224552 ,\n",
      "        -1.5704868 , -0.15604943, -2.5772386 , -0.87165636, -0.79468256,\n",
      "        -1.4950176 , -1.7604921 , -2.029055  , -0.88733625, -1.7099138 ,\n",
      "        -1.2325284 , -0.34543213, -0.5623038 , -1.4434818 , -1.6325421 ,\n",
      "        -0.18790321, -2.6361787 , -0.8922024 , -0.8174878 , -1.5704147 ,\n",
      "        -1.7718588 , -2.0510824 , -0.9089653 , -1.7132765 , -1.2569549 ,\n",
      "        -0.32416242, -0.5798819 , -1.2593784 ,  0.22908647,  1.8475574 ,\n",
      "         0.23849122,  2.4868839 , -0.884096  ,  0.        ,  0.6415854 ,\n",
      "         0.        , -0.1291257 , -0.3137169 ,  0.        , -0.28801787,\n",
      "        -0.0617616 ,  0.        , -0.06337243,  0.        , -0.0617616 ,\n",
      "        -0.0548546 , -0.0316386 , -0.09529814,  0.        , -0.09203889,\n",
      "        -0.01414355, -0.020004  , -0.020004  ,  1.        ]],\n",
      "      dtype=float32)>}\n"
     ]
    }
   ],
   "source": [
    "example_dataset = train_data.create_tf_dataset_for_client(\n",
    "        train_data.client_ids[2]\n",
    "    )\n",
    "print(example_dataset)\n",
    "example_element = iter(example_dataset).next()\n",
    "print(example_element)"
   ]
  },
  {
   "cell_type": "code",
   "execution_count": 133,
   "id": "f8e3a5af",
   "metadata": {},
   "outputs": [
    {
     "data": {
      "text/plain": [
       "OrderedDict([('x',\n",
       "              array([[ 0.8117655 ,  0.29388458, -0.22344032, ..., -0.020004  ,\n",
       "                      -0.020004  ,  1.        ],\n",
       "                     [-0.5673808 ,  1.6856091 ,  0.5666602 , ..., -0.020004  ,\n",
       "                      -0.020004  ,  1.        ],\n",
       "                     [-0.5673808 , -0.10375097, -0.29226294, ..., -0.020004  ,\n",
       "                      -0.020004  ,  1.        ],\n",
       "                     ...,\n",
       "                     [-0.5673808 , -0.5013865 ,  0.5417767 , ..., -0.020004  ,\n",
       "                      -0.020004  ,  1.        ],\n",
       "                     [ 0.8117655 , -0.10375097,  0.20104802, ..., -0.020004  ,\n",
       "                      -0.020004  ,  1.        ],\n",
       "                     [-0.5673808 , -0.8990221 , -0.10418527, ..., -0.020004  ,\n",
       "                      -0.020004  ,  1.        ]], dtype=float32)),\n",
       "             ('y',\n",
       "              array([[0],\n",
       "                     [0],\n",
       "                     [0],\n",
       "                     ...,\n",
       "                     [0],\n",
       "                     [0],\n",
       "                     [0]], dtype=int32))])"
      ]
     },
     "execution_count": 133,
     "metadata": {},
     "output_type": "execute_result"
    }
   ],
   "source": [
    "preprocessed_example_dataset = preprocess(example_dataset)\n",
    "sample_batch = tf.nest.map_structure(lambda x: x.numpy(),\n",
    "                                     next(iter(preprocessed_example_dataset)))\n",
    "\n",
    "sample_batch"
   ]
  },
  {
   "cell_type": "markdown",
   "id": "2e59949f",
   "metadata": {},
   "source": [
    "# Federated data preprocessing"
   ]
  },
  {
   "cell_type": "code",
   "execution_count": 134,
   "id": "3ed15612",
   "metadata": {},
   "outputs": [],
   "source": [
    "def make_federated_data(client_data, client_ids):\n",
    "    return [\n",
    "      preprocess(client_data.create_tf_dataset_for_client(x))\n",
    "      for x in client_ids\n",
    "    ]"
   ]
  },
  {
   "cell_type": "markdown",
   "id": "c5ba8bfe",
   "metadata": {},
   "source": [
    "# Client datasets"
   ]
  },
  {
   "cell_type": "code",
   "execution_count": 135,
   "id": "3c50a4e6",
   "metadata": {},
   "outputs": [
    {
     "name": "stdout",
     "output_type": "stream",
     "text": [
      "Number of client datasets: 3\n",
      "First dataset: <PrefetchDataset element_spec=OrderedDict([('x', TensorSpec(shape=(None, 99), dtype=tf.float32, name=None)), ('y', TensorSpec(shape=(None, 1), dtype=tf.int32, name=None))])>\n",
      "CPU times: user 1.92 s, sys: 14.6 ms, total: 1.93 s\n",
      "Wall time: 1.93 s\n"
     ]
    }
   ],
   "source": [
    "%%time\n",
    "train_client_ids = sample(client_ids.tolist(), number_of_training_clients)\n",
    "federated_train_data = make_federated_data(train_data, train_data.client_ids)\n",
    "print('Number of client datasets: {l}'.format(l=len(federated_train_data)))\n",
    "print('First dataset: {d}'.format(d=federated_train_data[0]))"
   ]
  },
  {
   "cell_type": "markdown",
   "id": "46e4e4d6",
   "metadata": {},
   "source": [
    "# Keras model"
   ]
  },
  {
   "cell_type": "code",
   "execution_count": 137,
   "id": "92615eac",
   "metadata": {},
   "outputs": [],
   "source": [
    "def create_keras_model():\n",
    "    return tf.keras.models.Sequential([\n",
    "      tf.keras.layers.InputLayer(input_shape=(n_features,)), # n_features\n",
    "      tf.keras.layers.Dense(150, activation = 'swish'),\n",
    "        tf.keras.layers.Dense(50, activation = 'swish'),\n",
    "        tf.keras.layers.Dense(1, activation = 'sigmoid'),\n",
    "      ])"
   ]
  },
  {
   "cell_type": "code",
   "execution_count": 138,
   "id": "d3f1d1bd",
   "metadata": {},
   "outputs": [],
   "source": [
    "import tensorflow_addons as tfa\n",
    "\n",
    "def model_fn():\n",
    "  # We _must_ create a new model here, and _not_ capture it from an external\n",
    "  # scope. TFF will call this within different graph contexts.\n",
    "    keras_model = create_keras_model()\n",
    "    return tff.learning.from_keras_model(\n",
    "      keras_model,\n",
    "      input_spec=preprocessed_example_dataset.element_spec,\n",
    "      loss=tf.keras.losses.BinaryCrossentropy(),\n",
    "      metrics=[tf.keras.metrics.BinaryAccuracy(), tf.keras.metrics.Precision(name='Precision'),\n",
    "               tf.keras.metrics.Recall(name='Recall'), tf.keras.metrics.AUC(name='AUC')])"
   ]
  },
  {
   "cell_type": "markdown",
   "id": "64ea9bd1",
   "metadata": {},
   "source": [
    "# TensorFlow Federated simulation process"
   ]
  },
  {
   "cell_type": "code",
   "execution_count": 140,
   "id": "6fb2fcb7",
   "metadata": {},
   "outputs": [],
   "source": [
    "iterative_process = tff.learning.build_federated_averaging_process(\n",
    "    model_fn,\n",
    "    client_optimizer_fn=lambda: tf.keras.optimizers.SGD(learning_rate=0.01),\n",
    "    server_optimizer_fn=lambda: tf.keras.optimizers.SGD(learning_rate=0.01)) "
   ]
  },
  {
   "cell_type": "markdown",
   "id": "fbc7bf0d",
   "metadata": {},
   "source": [
    "# Training Loop"
   ]
  },
  {
   "cell_type": "code",
   "execution_count": 141,
   "id": "2f25c439",
   "metadata": {},
   "outputs": [],
   "source": [
    "logdir = \"/tmp/logs/scalars/training/\"\n",
    "summary_writer = tf.summary.create_file_writer(logdir)\n",
    "state = iterative_process.initialize()"
   ]
  },
  {
   "cell_type": "code",
   "execution_count": 142,
   "id": "b623f1f5",
   "metadata": {},
   "outputs": [],
   "source": [
    "evaluation = tff.learning.build_federated_evaluation(model_fn)\n",
    "federated_test_data = make_federated_data(test_data, test_client_ids)"
   ]
  },
  {
   "cell_type": "code",
   "execution_count": 149,
   "id": "8f7e41b9",
   "metadata": {
    "scrolled": false
   },
   "outputs": [
    {
     "name": "stdout",
     "output_type": "stream",
     "text": [
      "round:  1, loss: 0.6829556226730347, test_accuracy: [0.3908], training_recall : 0.4399999976158142, training_precision = 0.08205049484968185, training_f1 = 0.13830928883923077, val_precision = 0.09170034527778625, val_recall = 0.7040572762489319, val_f1 = 0.16226623331778847\n",
      "round:  2, loss: 0.6817358136177063, test_accuracy: [0.3908, 0.3972], training_recall : 0.4363226890563965, training_precision = 0.08228600770235062, training_f1 = 0.13845989626253188, val_precision = 0.09262166172266006, val_recall = 0.7040572762489319, val_f1 = 0.1637069801074438\n",
      "round:  3, loss: 0.6805188655853271, test_accuracy: [0.3908, 0.3972, 0.401], training_recall : 0.42716696858406067, training_precision = 0.08159169554710388, training_f1 = 0.13701300173368947, val_precision = 0.09188846498727798, val_recall = 0.6921241283416748, val_f1 = 0.16223775423651823\n",
      "round:  4, loss: 0.6793031096458435, test_accuracy: [0.3908, 0.3972, 0.401, 0.408], training_recall : 0.42363977432250977, training_precision = 0.0816861018538475, training_f1 = 0.13696303273865024, val_precision = 0.09239653497934341, val_recall = 0.6873508095741272, val_f1 = 0.16289591644696258\n",
      "round:  5, loss: 0.6780965328216553, test_accuracy: [0.3908, 0.3972, 0.401, 0.408, 0.4132], training_recall : 0.4198123812675476, training_precision = 0.08193335682153702, training_f1 = 0.13710783405879165, val_precision = 0.09238249808549881, val_recall = 0.680190920829773, val_f1 = 0.16267123327303484\n",
      "round:  6, loss: 0.6768918633460999, test_accuracy: [0.3908, 0.3972, 0.401, 0.408, 0.4132, 0.418], training_recall : 0.41545966267585754, training_precision = 0.08193106204271317, training_f1 = 0.13687046886447019, val_precision = 0.09284079819917679, val_recall = 0.6778042912483215, val_f1 = 0.16331225817000314\n",
      "round:  7, loss: 0.6756902933120728, test_accuracy: [0.3908, 0.3972, 0.401, 0.408, 0.4132, 0.418, 0.4234], training_recall : 0.40855535864830017, training_precision = 0.08162897825241089, training_f1 = 0.13607108512677366, val_precision = 0.09286186099052429, val_recall = 0.6706444025039673, val_f1 = 0.1631349676919726\n",
      "round:  8, loss: 0.6744973063468933, test_accuracy: [0.3908, 0.3972, 0.401, 0.408, 0.4132, 0.418, 0.4234, 0.427], training_recall : 0.4057786166667938, training_precision = 0.08202988654375076, training_f1 = 0.1364714872560023, val_precision = 0.09287616610527039, val_recall = 0.6658711433410645, val_f1 = 0.16301489559664872\n",
      "round:  9, loss: 0.6733103394508362, test_accuracy: [0.3908, 0.3972, 0.401, 0.408, 0.4132, 0.418, 0.4234, 0.427, 0.4338], training_recall : 0.4000750482082367, training_precision = 0.08175377547740936, training_f1 = 0.13576459478068706, val_precision = 0.0933917760848999, val_recall = 0.6610978245735168, val_f1 = 0.1636632200302807\n",
      "round: 10, loss: 0.6721251606941223, test_accuracy: [0.3908, 0.3972, 0.401, 0.408, 0.4132, 0.418, 0.4234, 0.427, 0.4338, 0.4384], training_recall : 0.39534708857536316, training_precision = 0.0818152204155922, training_f1 = 0.13557403982659325, val_precision = 0.09356924146413803, val_recall = 0.656324565410614, val_f1 = 0.16378797055590397\n",
      "CPU times: user 55.7 s, sys: 1.71 s, total: 57.5 s\n",
      "Wall time: 36.1 s\n"
     ]
    }
   ],
   "source": [
    "%%time\n",
    "NUM_ROUNDS = 10\n",
    "MAX_STD = 0.001\n",
    "loss = list()\n",
    "accuracy = list()\n",
    "val_loss = list()\n",
    "val_accuracy = list()\n",
    "precision = list()\n",
    "recall = list()\n",
    "f1 = list()\n",
    "val_precision = list()\n",
    "val_recall = list()\n",
    "val_f1 = list() \n",
    "train_AUC = list()\n",
    "val_AUC = list() \n",
    "\n",
    "with summary_writer.as_default():\n",
    "    for round_num in range(1, NUM_ROUNDS+1):\n",
    "        state, metrics = iterative_process.next(state, federated_train_data)\n",
    "        val_metrics = evaluation(state.model, federated_test_data)\n",
    "        \n",
    "        my_precision = metrics['train']['Precision']\n",
    "        precision.append(my_precision)\n",
    "        \n",
    "        my_recall = metrics['train']['Recall']\n",
    "        recall.append(my_recall)\n",
    "        \n",
    "        my_f1 = 2 * (my_precision * my_recall) / (my_precision + my_recall)\n",
    "        f1.append(my_f1)\n",
    "        \n",
    "        val_precision.append(val_metrics['eval']['Precision'])\n",
    "        val_recall.append(val_metrics['eval']['Recall'])\n",
    "        my_val_f1 = 2 * (val_metrics['eval']['Precision'] * val_metrics['eval']['Recall']) / (val_metrics['eval']['Precision'] + val_metrics['eval']['Recall'])\n",
    "        val_f1.append(my_val_f1)\n",
    "        \n",
    "        my_loss = metrics['train']['loss']\n",
    "        \n",
    "        train_AUC.append(metrics['train']['AUC'])\n",
    "        val_AUC.append(val_metrics['eval']['AUC'])\n",
    "        \n",
    "        loss.append(metrics['train']['loss'])\n",
    "        accuracy.append(metrics['train']['binary_accuracy'])\n",
    "        my_acc = val_metrics['eval']['binary_accuracy']\n",
    "        val_loss.append(val_metrics['eval']['loss'])\n",
    "        val_accuracy.append(val_metrics['eval']['binary_accuracy'])\n",
    "        print(f\"round: {round_num:2d}, loss: {my_loss}, test_accuracy: {val_accuracy}, training_recall : {my_recall}, training_precision = {my_precision}, training_f1 = {my_f1}, val_precision = {val_metrics['eval']['Precision']}, val_recall = {val_metrics['eval']['Recall']}, val_f1 = {my_val_f1}\")\n",
    "        for name, value in metrics['train'].items():\n",
    "            tf.summary.scalar(name, value, step=round_num)"
   ]
  },
  {
   "cell_type": "code",
   "execution_count": 155,
   "id": "27622dd9",
   "metadata": {},
   "outputs": [
    {
     "data": {
      "text/plain": [
       "(array([1, 2, 3, 4]), [1, 3, 2], [3])"
      ]
     },
     "execution_count": 155,
     "metadata": {},
     "output_type": "execute_result"
    }
   ],
   "source": [
    "client_ids, train_client_ids, test_client_ids"
   ]
  },
  {
   "cell_type": "code",
   "execution_count": 156,
   "id": "1c7f693d",
   "metadata": {},
   "outputs": [
    {
     "data": {
      "text/plain": [
       "Text(0.5, 0, 'Round')"
      ]
     },
     "execution_count": 156,
     "metadata": {},
     "output_type": "execute_result"
    },
    {
     "data": {
      "image/png": "[encoded data removed]",
      "text/plain": [
       "<Figure size 576x576 with 2 Axes>"
      ]
     },
     "metadata": {
      "needs_background": "light"
     },
     "output_type": "display_data"
    }
   ],
   "source": [
    "fig1 = plt.figure(figsize=(8, 8))\n",
    "ax1 = fig1.add_subplot(2, 1, 1)\n",
    "ax1.plot(accuracy, label='Training Accuracy')\n",
    "ax1.plot(val_accuracy, label='Validation Accuracy')\n",
    "ax1.legend(loc='lower right')\n",
    "ax1.set_ylabel('Accuracy')\n",
    "ax1.set_ylim([0, 1])\n",
    "ax1.set_title('Training and Validation AUC')\n",
    "\n",
    "ax2 = fig1.add_subplot(2, 1, 2)\n",
    "ax2.plot(loss, label='Training Loss')\n",
    "ax2.plot(val_loss, label='Validation Loss')\n",
    "ax2.legend(loc='upper right')\n",
    "ax2.set_ylabel('Cross Entropy')\n",
    "ax2.set_ylim([0,max(ax2.get_ylim())])\n",
    "ax2.set_title('Training and Validation Loss')\n",
    "ax2.set_xlabel('Round')\n",
    "\n",
    "# plt.savefig('./figures/DELIRIUM_normalized_TFF_accuracy_loss_10_rounds.png')"
   ]
  },
  {
   "cell_type": "code",
   "execution_count": 157,
   "id": "14f5c8e9",
   "metadata": {},
   "outputs": [
    {
     "data": {
      "text/plain": [
       "Text(0.5, 0, 'Round')"
      ]
     },
     "execution_count": 157,
     "metadata": {},
     "output_type": "execute_result"
    },
    {
     "data": {
      "image/png": "[encoded data removed]",
      "text/plain": [
       "<Figure size 576x576 with 2 Axes>"
      ]
     },
     "metadata": {
      "needs_background": "light"
     },
     "output_type": "display_data"
    }
   ],
   "source": [
    "fig1 = plt.figure(figsize=(8, 8))\n",
    "ax1 = fig1.add_subplot(2, 1, 1)\n",
    "ax1.plot(precision, label='Training precision')\n",
    "ax1.plot(val_precision, label='Validation precision')\n",
    "ax1.legend(loc='lower right')\n",
    "ax1.set_ylabel('Precision')\n",
    "ax1.set_ylim([0, 1])\n",
    "ax1.set_title('Training and Validation precision')\n",
    "\n",
    "ax2 = fig1.add_subplot(2, 1, 2)\n",
    "ax2.plot(recall, label='Training recall')\n",
    "ax2.plot(val_recall, label='Validation recall')\n",
    "ax2.legend(loc='upper right')\n",
    "ax2.set_ylabel('Recall')\n",
    "ax2.set_ylim([0,max(ax2.get_ylim())])\n",
    "ax2.set_title('Training and Validation recall')\n",
    "ax2.set_xlabel('Round')"
   ]
  },
  {
   "cell_type": "code",
   "execution_count": null,
   "id": "85788f15",
   "metadata": {},
   "outputs": [],
   "source": []
  },
  {
   "cell_type": "code",
   "execution_count": 158,
   "id": "5cff18bd",
   "metadata": {},
   "outputs": [
    {
     "data": {
      "text/plain": [
       "OrderedDict([('eval',\n",
       "              OrderedDict([('binary_accuracy', 0.4067143),\n",
       "                           ('Precision', 0.08082446),\n",
       "                           ('Recall', 0.65478426),\n",
       "                           ('AUC', 0.52527356),\n",
       "                           ('loss', 0.7368988)])),\n",
       "             ('stat', OrderedDict([('num_examples', 175000)]))])"
      ]
     },
     "execution_count": 158,
     "metadata": {},
     "output_type": "execute_result"
    }
   ],
   "source": [
    "train_metrics = evaluation(state.model, federated_train_data)\n",
    "train_metrics"
   ]
  },
  {
   "cell_type": "code",
   "execution_count": 159,
   "id": "c8d8ad72",
   "metadata": {},
   "outputs": [
    {
     "data": {
      "text/plain": [
       "OrderedDict([('eval',\n",
       "              OrderedDict([('binary_accuracy', 0.4384),\n",
       "                           ('Precision', 0.09356924),\n",
       "                           ('Recall', 0.65632457),\n",
       "                           ('AUC', 0.5330922),\n",
       "                           ('loss', 0.7297503)])),\n",
       "             ('stat', OrderedDict([('num_examples', 125000)]))])"
      ]
     },
     "execution_count": 159,
     "metadata": {},
     "output_type": "execute_result"
    }
   ],
   "source": [
    "test_metrics = evaluation(state.model, federated_test_data)\n",
    "test_metrics"
   ]
  },
  {
   "cell_type": "code",
   "execution_count": null,
   "id": "8b7d1dac",
   "metadata": {},
   "outputs": [],
   "source": []
  }
 ],
 "metadata": {
  "kernelspec": {
   "display_name": "Python 3 (ipykernel)",
   "language": "python",
   "name": "python3"
  },
  "language_info": {
   "codemirror_mode": {
    "name": "ipython",
    "version": 3
   },
   "file_extension": ".py",
   "mimetype": "text/x-python",
   "name": "python",
   "nbconvert_exporter": "python",
   "pygments_lexer": "ipython3",
   "version": "3.8.0"
  }
 },
 "nbformat": 4,
 "nbformat_minor": 5
}
