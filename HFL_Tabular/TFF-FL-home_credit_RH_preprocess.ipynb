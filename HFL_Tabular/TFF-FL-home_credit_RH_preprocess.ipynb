{
 "cells": [
  {
   "cell_type": "code",
   "execution_count": 1,
   "id": "f3c28521",
   "metadata": {},
   "outputs": [],
   "source": [
    "import nest_asyncio\n",
    "nest_asyncio.apply()"
   ]
  },
  {
   "cell_type": "code",
   "execution_count": 2,
   "id": "50317002",
   "metadata": {},
   "outputs": [],
   "source": [
    "import nest_asyncio\n",
    "nest_asyncio.apply()\n",
    "import collections\n",
    "import numpy as np\n",
    "import tensorflow as tf\n",
    "import tensorflow_federated as tff\n",
    "from tensorflow import reshape, nest, config\n",
    "from tensorflow.keras.datasets import mnist\n",
    "import pandas as pd\n",
    "from random import sample\n",
    "from matplotlib import pyplot as plt\n",
    "from sklearn import preprocessing\n",
    "from uuid import uuid4\n",
    "import pickle\n",
    "np.random.seed(0)"
   ]
  },
  {
   "cell_type": "markdown",
   "id": "3afc7741",
   "metadata": {},
   "source": [
    "# Set up data"
   ]
  },
  {
   "cell_type": "code",
   "execution_count": 3,
   "id": "d8114f5b",
   "metadata": {},
   "outputs": [
    {
     "data": {
      "text/html": [
       "<div>\n",
       "<style scoped>\n",
       "    .dataframe tbody tr th:only-of-type {\n",
       "        vertical-align: middle;\n",
       "    }\n",
       "\n",
       "    .dataframe tbody tr th {\n",
       "        vertical-align: top;\n",
       "    }\n",
       "\n",
       "    .dataframe thead th {\n",
       "        text-align: right;\n",
       "    }\n",
       "</style>\n",
       "<table border=\"1\" class=\"dataframe\">\n",
       "  <thead>\n",
       "    <tr style=\"text-align: right;\">\n",
       "      <th></th>\n",
       "      <th>SK_ID_CURR</th>\n",
       "      <th>TARGET</th>\n",
       "      <th>NAME_CONTRACT_TYPE</th>\n",
       "      <th>CODE_GENDER</th>\n",
       "      <th>FLAG_OWN_CAR</th>\n",
       "      <th>FLAG_OWN_REALTY</th>\n",
       "      <th>CNT_CHILDREN</th>\n",
       "      <th>AMT_INCOME_TOTAL</th>\n",
       "      <th>AMT_CREDIT</th>\n",
       "      <th>AMT_ANNUITY</th>\n",
       "      <th>...</th>\n",
       "      <th>FLAG_DOCUMENT_18</th>\n",
       "      <th>FLAG_DOCUMENT_19</th>\n",
       "      <th>FLAG_DOCUMENT_20</th>\n",
       "      <th>FLAG_DOCUMENT_21</th>\n",
       "      <th>AMT_REQ_CREDIT_BUREAU_HOUR</th>\n",
       "      <th>AMT_REQ_CREDIT_BUREAU_DAY</th>\n",
       "      <th>AMT_REQ_CREDIT_BUREAU_WEEK</th>\n",
       "      <th>AMT_REQ_CREDIT_BUREAU_MON</th>\n",
       "      <th>AMT_REQ_CREDIT_BUREAU_QRT</th>\n",
       "      <th>AMT_REQ_CREDIT_BUREAU_YEAR</th>\n",
       "    </tr>\n",
       "  </thead>\n",
       "  <tbody>\n",
       "    <tr>\n",
       "      <th>0</th>\n",
       "      <td>100002</td>\n",
       "      <td>1</td>\n",
       "      <td>Cash loans</td>\n",
       "      <td>M</td>\n",
       "      <td>N</td>\n",
       "      <td>Y</td>\n",
       "      <td>0</td>\n",
       "      <td>202500.0</td>\n",
       "      <td>406597.5</td>\n",
       "      <td>24700.5</td>\n",
       "      <td>...</td>\n",
       "      <td>0</td>\n",
       "      <td>0</td>\n",
       "      <td>0</td>\n",
       "      <td>0</td>\n",
       "      <td>0.0</td>\n",
       "      <td>0.0</td>\n",
       "      <td>0.0</td>\n",
       "      <td>0.0</td>\n",
       "      <td>0.0</td>\n",
       "      <td>1.0</td>\n",
       "    </tr>\n",
       "    <tr>\n",
       "      <th>1</th>\n",
       "      <td>100003</td>\n",
       "      <td>0</td>\n",
       "      <td>Cash loans</td>\n",
       "      <td>F</td>\n",
       "      <td>N</td>\n",
       "      <td>N</td>\n",
       "      <td>0</td>\n",
       "      <td>270000.0</td>\n",
       "      <td>1293502.5</td>\n",
       "      <td>35698.5</td>\n",
       "      <td>...</td>\n",
       "      <td>0</td>\n",
       "      <td>0</td>\n",
       "      <td>0</td>\n",
       "      <td>0</td>\n",
       "      <td>0.0</td>\n",
       "      <td>0.0</td>\n",
       "      <td>0.0</td>\n",
       "      <td>0.0</td>\n",
       "      <td>0.0</td>\n",
       "      <td>0.0</td>\n",
       "    </tr>\n",
       "    <tr>\n",
       "      <th>2</th>\n",
       "      <td>100004</td>\n",
       "      <td>0</td>\n",
       "      <td>Revolving loans</td>\n",
       "      <td>M</td>\n",
       "      <td>Y</td>\n",
       "      <td>Y</td>\n",
       "      <td>0</td>\n",
       "      <td>67500.0</td>\n",
       "      <td>135000.0</td>\n",
       "      <td>6750.0</td>\n",
       "      <td>...</td>\n",
       "      <td>0</td>\n",
       "      <td>0</td>\n",
       "      <td>0</td>\n",
       "      <td>0</td>\n",
       "      <td>0.0</td>\n",
       "      <td>0.0</td>\n",
       "      <td>0.0</td>\n",
       "      <td>0.0</td>\n",
       "      <td>0.0</td>\n",
       "      <td>0.0</td>\n",
       "    </tr>\n",
       "    <tr>\n",
       "      <th>3</th>\n",
       "      <td>100006</td>\n",
       "      <td>0</td>\n",
       "      <td>Cash loans</td>\n",
       "      <td>F</td>\n",
       "      <td>N</td>\n",
       "      <td>Y</td>\n",
       "      <td>0</td>\n",
       "      <td>135000.0</td>\n",
       "      <td>312682.5</td>\n",
       "      <td>29686.5</td>\n",
       "      <td>...</td>\n",
       "      <td>0</td>\n",
       "      <td>0</td>\n",
       "      <td>0</td>\n",
       "      <td>0</td>\n",
       "      <td>NaN</td>\n",
       "      <td>NaN</td>\n",
       "      <td>NaN</td>\n",
       "      <td>NaN</td>\n",
       "      <td>NaN</td>\n",
       "      <td>NaN</td>\n",
       "    </tr>\n",
       "    <tr>\n",
       "      <th>4</th>\n",
       "      <td>100007</td>\n",
       "      <td>0</td>\n",
       "      <td>Cash loans</td>\n",
       "      <td>M</td>\n",
       "      <td>N</td>\n",
       "      <td>Y</td>\n",
       "      <td>0</td>\n",
       "      <td>121500.0</td>\n",
       "      <td>513000.0</td>\n",
       "      <td>21865.5</td>\n",
       "      <td>...</td>\n",
       "      <td>0</td>\n",
       "      <td>0</td>\n",
       "      <td>0</td>\n",
       "      <td>0</td>\n",
       "      <td>0.0</td>\n",
       "      <td>0.0</td>\n",
       "      <td>0.0</td>\n",
       "      <td>0.0</td>\n",
       "      <td>0.0</td>\n",
       "      <td>0.0</td>\n",
       "    </tr>\n",
       "    <tr>\n",
       "      <th>...</th>\n",
       "      <td>...</td>\n",
       "      <td>...</td>\n",
       "      <td>...</td>\n",
       "      <td>...</td>\n",
       "      <td>...</td>\n",
       "      <td>...</td>\n",
       "      <td>...</td>\n",
       "      <td>...</td>\n",
       "      <td>...</td>\n",
       "      <td>...</td>\n",
       "      <td>...</td>\n",
       "      <td>...</td>\n",
       "      <td>...</td>\n",
       "      <td>...</td>\n",
       "      <td>...</td>\n",
       "      <td>...</td>\n",
       "      <td>...</td>\n",
       "      <td>...</td>\n",
       "      <td>...</td>\n",
       "      <td>...</td>\n",
       "      <td>...</td>\n",
       "    </tr>\n",
       "    <tr>\n",
       "      <th>307506</th>\n",
       "      <td>456251</td>\n",
       "      <td>0</td>\n",
       "      <td>Cash loans</td>\n",
       "      <td>M</td>\n",
       "      <td>N</td>\n",
       "      <td>N</td>\n",
       "      <td>0</td>\n",
       "      <td>157500.0</td>\n",
       "      <td>254700.0</td>\n",
       "      <td>27558.0</td>\n",
       "      <td>...</td>\n",
       "      <td>0</td>\n",
       "      <td>0</td>\n",
       "      <td>0</td>\n",
       "      <td>0</td>\n",
       "      <td>NaN</td>\n",
       "      <td>NaN</td>\n",
       "      <td>NaN</td>\n",
       "      <td>NaN</td>\n",
       "      <td>NaN</td>\n",
       "      <td>NaN</td>\n",
       "    </tr>\n",
       "    <tr>\n",
       "      <th>307507</th>\n",
       "      <td>456252</td>\n",
       "      <td>0</td>\n",
       "      <td>Cash loans</td>\n",
       "      <td>F</td>\n",
       "      <td>N</td>\n",
       "      <td>Y</td>\n",
       "      <td>0</td>\n",
       "      <td>72000.0</td>\n",
       "      <td>269550.0</td>\n",
       "      <td>12001.5</td>\n",
       "      <td>...</td>\n",
       "      <td>0</td>\n",
       "      <td>0</td>\n",
       "      <td>0</td>\n",
       "      <td>0</td>\n",
       "      <td>NaN</td>\n",
       "      <td>NaN</td>\n",
       "      <td>NaN</td>\n",
       "      <td>NaN</td>\n",
       "      <td>NaN</td>\n",
       "      <td>NaN</td>\n",
       "    </tr>\n",
       "    <tr>\n",
       "      <th>307508</th>\n",
       "      <td>456253</td>\n",
       "      <td>0</td>\n",
       "      <td>Cash loans</td>\n",
       "      <td>F</td>\n",
       "      <td>N</td>\n",
       "      <td>Y</td>\n",
       "      <td>0</td>\n",
       "      <td>153000.0</td>\n",
       "      <td>677664.0</td>\n",
       "      <td>29979.0</td>\n",
       "      <td>...</td>\n",
       "      <td>0</td>\n",
       "      <td>0</td>\n",
       "      <td>0</td>\n",
       "      <td>0</td>\n",
       "      <td>1.0</td>\n",
       "      <td>0.0</td>\n",
       "      <td>0.0</td>\n",
       "      <td>1.0</td>\n",
       "      <td>0.0</td>\n",
       "      <td>1.0</td>\n",
       "    </tr>\n",
       "    <tr>\n",
       "      <th>307509</th>\n",
       "      <td>456254</td>\n",
       "      <td>1</td>\n",
       "      <td>Cash loans</td>\n",
       "      <td>F</td>\n",
       "      <td>N</td>\n",
       "      <td>Y</td>\n",
       "      <td>0</td>\n",
       "      <td>171000.0</td>\n",
       "      <td>370107.0</td>\n",
       "      <td>20205.0</td>\n",
       "      <td>...</td>\n",
       "      <td>0</td>\n",
       "      <td>0</td>\n",
       "      <td>0</td>\n",
       "      <td>0</td>\n",
       "      <td>0.0</td>\n",
       "      <td>0.0</td>\n",
       "      <td>0.0</td>\n",
       "      <td>0.0</td>\n",
       "      <td>0.0</td>\n",
       "      <td>0.0</td>\n",
       "    </tr>\n",
       "    <tr>\n",
       "      <th>307510</th>\n",
       "      <td>456255</td>\n",
       "      <td>0</td>\n",
       "      <td>Cash loans</td>\n",
       "      <td>F</td>\n",
       "      <td>N</td>\n",
       "      <td>N</td>\n",
       "      <td>0</td>\n",
       "      <td>157500.0</td>\n",
       "      <td>675000.0</td>\n",
       "      <td>49117.5</td>\n",
       "      <td>...</td>\n",
       "      <td>0</td>\n",
       "      <td>0</td>\n",
       "      <td>0</td>\n",
       "      <td>0</td>\n",
       "      <td>0.0</td>\n",
       "      <td>0.0</td>\n",
       "      <td>0.0</td>\n",
       "      <td>2.0</td>\n",
       "      <td>0.0</td>\n",
       "      <td>1.0</td>\n",
       "    </tr>\n",
       "  </tbody>\n",
       "</table>\n",
       "<p>307511 rows × 122 columns</p>\n",
       "</div>"
      ],
      "text/plain": [
       "        SK_ID_CURR  TARGET NAME_CONTRACT_TYPE CODE_GENDER FLAG_OWN_CAR  \\\n",
       "0           100002       1         Cash loans           M            N   \n",
       "1           100003       0         Cash loans           F            N   \n",
       "2           100004       0    Revolving loans           M            Y   \n",
       "3           100006       0         Cash loans           F            N   \n",
       "4           100007       0         Cash loans           M            N   \n",
       "...            ...     ...                ...         ...          ...   \n",
       "307506      456251       0         Cash loans           M            N   \n",
       "307507      456252       0         Cash loans           F            N   \n",
       "307508      456253       0         Cash loans           F            N   \n",
       "307509      456254       1         Cash loans           F            N   \n",
       "307510      456255       0         Cash loans           F            N   \n",
       "\n",
       "       FLAG_OWN_REALTY  CNT_CHILDREN  AMT_INCOME_TOTAL  AMT_CREDIT  \\\n",
       "0                    Y             0          202500.0    406597.5   \n",
       "1                    N             0          270000.0   1293502.5   \n",
       "2                    Y             0           67500.0    135000.0   \n",
       "3                    Y             0          135000.0    312682.5   \n",
       "4                    Y             0          121500.0    513000.0   \n",
       "...                ...           ...               ...         ...   \n",
       "307506               N             0          157500.0    254700.0   \n",
       "307507               Y             0           72000.0    269550.0   \n",
       "307508               Y             0          153000.0    677664.0   \n",
       "307509               Y             0          171000.0    370107.0   \n",
       "307510               N             0          157500.0    675000.0   \n",
       "\n",
       "        AMT_ANNUITY  ...  FLAG_DOCUMENT_18 FLAG_DOCUMENT_19 FLAG_DOCUMENT_20  \\\n",
       "0           24700.5  ...                 0                0                0   \n",
       "1           35698.5  ...                 0                0                0   \n",
       "2            6750.0  ...                 0                0                0   \n",
       "3           29686.5  ...                 0                0                0   \n",
       "4           21865.5  ...                 0                0                0   \n",
       "...             ...  ...               ...              ...              ...   \n",
       "307506      27558.0  ...                 0                0                0   \n",
       "307507      12001.5  ...                 0                0                0   \n",
       "307508      29979.0  ...                 0                0                0   \n",
       "307509      20205.0  ...                 0                0                0   \n",
       "307510      49117.5  ...                 0                0                0   \n",
       "\n",
       "       FLAG_DOCUMENT_21 AMT_REQ_CREDIT_BUREAU_HOUR AMT_REQ_CREDIT_BUREAU_DAY  \\\n",
       "0                     0                        0.0                       0.0   \n",
       "1                     0                        0.0                       0.0   \n",
       "2                     0                        0.0                       0.0   \n",
       "3                     0                        NaN                       NaN   \n",
       "4                     0                        0.0                       0.0   \n",
       "...                 ...                        ...                       ...   \n",
       "307506                0                        NaN                       NaN   \n",
       "307507                0                        NaN                       NaN   \n",
       "307508                0                        1.0                       0.0   \n",
       "307509                0                        0.0                       0.0   \n",
       "307510                0                        0.0                       0.0   \n",
       "\n",
       "        AMT_REQ_CREDIT_BUREAU_WEEK  AMT_REQ_CREDIT_BUREAU_MON  \\\n",
       "0                              0.0                        0.0   \n",
       "1                              0.0                        0.0   \n",
       "2                              0.0                        0.0   \n",
       "3                              NaN                        NaN   \n",
       "4                              0.0                        0.0   \n",
       "...                            ...                        ...   \n",
       "307506                         NaN                        NaN   \n",
       "307507                         NaN                        NaN   \n",
       "307508                         0.0                        1.0   \n",
       "307509                         0.0                        0.0   \n",
       "307510                         0.0                        2.0   \n",
       "\n",
       "        AMT_REQ_CREDIT_BUREAU_QRT  AMT_REQ_CREDIT_BUREAU_YEAR  \n",
       "0                             0.0                         1.0  \n",
       "1                             0.0                         0.0  \n",
       "2                             0.0                         0.0  \n",
       "3                             NaN                         NaN  \n",
       "4                             0.0                         0.0  \n",
       "...                           ...                         ...  \n",
       "307506                        NaN                         NaN  \n",
       "307507                        NaN                         NaN  \n",
       "307508                        0.0                         1.0  \n",
       "307509                        0.0                         0.0  \n",
       "307510                        0.0                         1.0  \n",
       "\n",
       "[307511 rows x 122 columns]"
      ]
     },
     "execution_count": 3,
     "metadata": {},
     "output_type": "execute_result"
    }
   ],
   "source": [
    "datapath = '/ssd003/projects/pets/application_train.csv'\n",
    "raw_train = pd.read_csv(datapath)\n",
    "raw_train"
   ]
  },
  {
   "cell_type": "markdown",
   "id": "7a3a6d7c",
   "metadata": {},
   "source": [
    "# Preprocessing Function"
   ]
  },
  {
   "cell_type": "code",
   "execution_count": 4,
   "id": "af0c945e",
   "metadata": {},
   "outputs": [],
   "source": [
    "def data_preprocessing(df):\n",
    "    target = 'TARGET'\n",
    "    id_col = 'SK_ID_CURR'\n",
    "\n",
    "    #Delete target column as it is not useful for prediction\n",
    "    del df[id_col]\n",
    "\n",
    "    #Distribution of target variable\n",
    "    df[target].value_counts()\n",
    "\n",
    "    #Store target variable to be used later\n",
    "    target_val = df[target]\n",
    "\n",
    "    #Delete target column from features\n",
    "    target_col = df.pop(target)\n",
    "\n",
    "    # Write UID\n",
    "    uid_col = pd.Series([uuid4() for _ in range(len(df))])\n",
    "\n",
    "    # Get all continuous variabels \n",
    "    cont_vars = []\n",
    "    for col in df.columns:\n",
    "        if df[col].dtype == 'int64' or df[col].dtype == 'float64':\n",
    "            cont_vars.append(col)\n",
    "\n",
    "    #Store number of continous variable. This will be equivalent to number of neurons in input layer\n",
    "    cont_train = df.loc[:, cont_vars]\n",
    "    curr_dim = cont_train.shape[1]\n",
    "    \n",
    "    #Fill NAs with mean value of column. Lot of scope of improvement here :)\n",
    "    cont_train = cont_train.fillna(cont_train.mean())\n",
    "\n",
    "    #Normalize features using standard scaler. We will use same standard scaler object to normalize test data\n",
    "    std_scale = preprocessing.StandardScaler().fit(cont_train[cont_vars])\n",
    "    cont_train[cont_vars] = std_scale.transform(cont_train[cont_vars])\n",
    "    \n",
    "    # Extract home credit subdataset\n",
    "    home_credit_cols = [col for col in cont_train.columns if \"credit_bureau\" not in str.lower(col)]\n",
    "    home_credit_df = cont_train[home_credit_cols].copy()\n",
    "    home_credit_df[\"target\"] = target_col\n",
    "    return home_credit_df"
   ]
  },
  {
   "cell_type": "markdown",
   "id": "b2c12f57",
   "metadata": {},
   "source": [
    "# Set up partitions"
   ]
  },
  {
   "cell_type": "code",
   "execution_count": 5,
   "id": "0c6e270e",
   "metadata": {},
   "outputs": [
    {
     "name": "stdout",
     "output_type": "stream",
     "text": [
      "[10000, 10000, 10000, 10000, 267511]\n"
     ]
    }
   ],
   "source": [
    "sizes = np.cumsum([10000, 10000, 10000, 10000])\n",
    "dfs = np.array_split(raw_train.sample(frac=1), sizes)\n",
    "print([len(d) for d in dfs])"
   ]
  },
  {
   "cell_type": "code",
   "execution_count": 6,
   "id": "bc15201a",
   "metadata": {},
   "outputs": [],
   "source": [
    "data1 = data_preprocessing(dfs[0])\n",
    "data1['hospital_id'] = 1\n",
    "\n",
    "data2 = data_preprocessing(dfs[1])\n",
    "data2['hospital_id'] = 2\n",
    "\n",
    "data3 = data_preprocessing(dfs[2])\n",
    "data3['hospital_id'] = 3\n",
    "\n",
    "data4 = data_preprocessing(dfs[3])\n",
    "data4['hospital_id'] = 4"
   ]
  },
  {
   "cell_type": "markdown",
   "id": "c2026669",
   "metadata": {},
   "source": [
    "# Combine and format DataFrame"
   ]
  },
  {
   "cell_type": "code",
   "execution_count": 7,
   "id": "9d1e77e0",
   "metadata": {},
   "outputs": [],
   "source": [
    "data = pd.concat([data1, data2, data3, data4])"
   ]
  },
  {
   "cell_type": "code",
   "execution_count": 8,
   "id": "28bb6d80",
   "metadata": {},
   "outputs": [],
   "source": [
    "df = data\n",
    "new = df.copy()\n",
    "del new['target']\n",
    "data['features']= new.values.tolist()\n",
    "\n",
    "#data['hospital_id'] = np.random.randint(1,5, size=len(data))\n",
    "data = data[['target', 'hospital_id', 'features']]\n",
    "data.index = range(len(data))"
   ]
  },
  {
   "cell_type": "code",
   "execution_count": 9,
   "id": "c16f2a2b",
   "metadata": {},
   "outputs": [
    {
     "data": {
      "text/html": [
       "<div>\n",
       "<style scoped>\n",
       "    .dataframe tbody tr th:only-of-type {\n",
       "        vertical-align: middle;\n",
       "    }\n",
       "\n",
       "    .dataframe tbody tr th {\n",
       "        vertical-align: top;\n",
       "    }\n",
       "\n",
       "    .dataframe thead th {\n",
       "        text-align: right;\n",
       "    }\n",
       "</style>\n",
       "<table border=\"1\" class=\"dataframe\">\n",
       "  <thead>\n",
       "    <tr style=\"text-align: right;\">\n",
       "      <th></th>\n",
       "      <th>target</th>\n",
       "      <th>hospital_id</th>\n",
       "      <th>features</th>\n",
       "    </tr>\n",
       "  </thead>\n",
       "  <tbody>\n",
       "    <tr>\n",
       "      <th>0</th>\n",
       "      <td>1</td>\n",
       "      <td>1</td>\n",
       "      <td>[-0.584111265595419, -0.534641392940022, -0.44...</td>\n",
       "    </tr>\n",
       "    <tr>\n",
       "      <th>1</th>\n",
       "      <td>0</td>\n",
       "      <td>1</td>\n",
       "      <td>[-0.584111265595419, 2.886398100181307, 0.1068...</td>\n",
       "    </tr>\n",
       "    <tr>\n",
       "      <th>2</th>\n",
       "      <td>0</td>\n",
       "      <td>1</td>\n",
       "      <td>[-0.584111265595419, 2.886398100181307, 0.7541...</td>\n",
       "    </tr>\n",
       "    <tr>\n",
       "      <th>3</th>\n",
       "      <td>0</td>\n",
       "      <td>1</td>\n",
       "      <td>[0.7886531658861768, 1.9617928317701372, 1.314...</td>\n",
       "    </tr>\n",
       "    <tr>\n",
       "      <th>4</th>\n",
       "      <td>0</td>\n",
       "      <td>1</td>\n",
       "      <td>[-0.584111265595419, 5.197911271209232, 0.5932...</td>\n",
       "    </tr>\n",
       "  </tbody>\n",
       "</table>\n",
       "</div>"
      ],
      "text/plain": [
       "   target  hospital_id                                           features\n",
       "0       1            1  [-0.584111265595419, -0.534641392940022, -0.44...\n",
       "1       0            1  [-0.584111265595419, 2.886398100181307, 0.1068...\n",
       "2       0            1  [-0.584111265595419, 2.886398100181307, 0.7541...\n",
       "3       0            1  [0.7886531658861768, 1.9617928317701372, 1.314...\n",
       "4       0            1  [-0.584111265595419, 5.197911271209232, 0.5932..."
      ]
     },
     "execution_count": 9,
     "metadata": {},
     "output_type": "execute_result"
    }
   ],
   "source": [
    "data.head()"
   ]
  },
  {
   "cell_type": "code",
   "execution_count": 10,
   "id": "c9b25221",
   "metadata": {},
   "outputs": [
    {
     "data": {
      "text/plain": [
       "(40000, 3)"
      ]
     },
     "execution_count": 10,
     "metadata": {},
     "output_type": "execute_result"
    }
   ],
   "source": [
    "data.shape"
   ]
  },
  {
   "cell_type": "code",
   "execution_count": 11,
   "id": "5697f253",
   "metadata": {},
   "outputs": [
    {
     "data": {
      "text/plain": [
       "4    10000\n",
       "3    10000\n",
       "2    10000\n",
       "1    10000\n",
       "Name: hospital_id, dtype: int64"
      ]
     },
     "execution_count": 11,
     "metadata": {},
     "output_type": "execute_result"
    }
   ],
   "source": [
    "data.hospital_id.value_counts()"
   ]
  },
  {
   "cell_type": "markdown",
   "id": "57c017b8",
   "metadata": {},
   "source": [
    "# Number of features"
   ]
  },
  {
   "cell_type": "code",
   "execution_count": 12,
   "id": "9f847d72",
   "metadata": {},
   "outputs": [
    {
     "data": {
      "text/plain": [
       "99"
      ]
     },
     "execution_count": 12,
     "metadata": {},
     "output_type": "execute_result"
    }
   ],
   "source": [
    "n_features = len(data['features'][0])\n",
    "n_features"
   ]
  },
  {
   "cell_type": "markdown",
   "id": "2a3f68a6",
   "metadata": {},
   "source": [
    "# Set up the sets of ids"
   ]
  },
  {
   "cell_type": "code",
   "execution_count": 13,
   "id": "55a31030",
   "metadata": {},
   "outputs": [],
   "source": [
    "client_id_colname = 'hospital_id' #column that represents client ID \n",
    "number_of_training_clients = 3\n",
    "\n",
    "# split client_id into train and test clients\n",
    "#client_ids = data[client_id_colname].unique()\n",
    "#train_client_ids = sample(client_ids.tolist(), number_of_training_clients)\n",
    "#test_client_ids = [x for x in client_ids if x not in train_client_ids]\n",
    "\n",
    "train_client_ids = [1,2,3]\n",
    "test_client_ids = [4]"
   ]
  },
  {
   "cell_type": "markdown",
   "id": "f8d863cb",
   "metadata": {},
   "source": [
    "# Create some TF datasets"
   ]
  },
  {
   "cell_type": "code",
   "execution_count": 52,
   "id": "ca048138",
   "metadata": {},
   "outputs": [],
   "source": [
    "SHUFFLE_BUFFER = 1000\n",
    "NUM_EPOCHS = 10\n",
    "\n",
    "def create_tf_dataset_for_client_fn(client_id):\n",
    "    client_data = data[data[client_id_colname] == client_id]\n",
    "    dataset = tf.data.Dataset.from_tensor_slices(client_data.to_dict('list'))\n",
    "    dataset = dataset.shuffle(SHUFFLE_BUFFER).batch(1).repeat(NUM_EPOCHS)\n",
    "    return dataset"
   ]
  },
  {
   "cell_type": "code",
   "execution_count": 53,
   "id": "70e694f3",
   "metadata": {},
   "outputs": [],
   "source": [
    "if tff.__version__ < \"0.19.0\":\n",
    "\n",
    "    train_data = tff.simulation.ClientData.from_clients_and_fn(\n",
    "        client_ids=train_client_ids,   \n",
    "        create_tf_dataset_for_client_fn=create_tf_dataset_for_client_fn)\n",
    "    \n",
    "    test_data = tff.simulation.ClientData.from_clients_and_fn(\n",
    "        client_ids=test_client_ids,\n",
    "        create_tf_dataset_for_client_fn=create_tf_dataset_for_client_fn)\n",
    "else:\n",
    "    train_data = tff.simulation.datasets.ClientData.from_clients_and_tf_fn(\n",
    "        client_ids=train_client_ids, \n",
    "        serializable_dataset_fn=create_tf_dataset_for_client_fn)\n",
    "    \n",
    "    test_data = tff.simulation.datasets.ClientData.from_clients_and_tf_fn(\n",
    "        client_ids=test_client_ids,\n",
    "        serializable_dataset_fn=create_tf_dataset_for_client_fn)"
   ]
  },
  {
   "cell_type": "markdown",
   "id": "a88b2100",
   "metadata": {},
   "source": [
    "# Batch preprocessing function"
   ]
  },
  {
   "cell_type": "code",
   "execution_count": 66,
   "id": "47ac2e62",
   "metadata": {},
   "outputs": [],
   "source": [
    "NUM_EPOCHS = 10\n",
    "BATCH_SIZE = 5000\n",
    "PREFETCH_BUFFER = 2500\n",
    "def preprocess(dataset):\n",
    "    def batch_format_fn(element):    \n",
    "        return collections.OrderedDict(x=tf.reshape(element['features'], [-1,n_features]),\n",
    "                                       y=tf.reshape(element['target'], [-1,1]))\n",
    "\n",
    "    return dataset.repeat(NUM_EPOCHS).shuffle(SHUFFLE_BUFFER).batch(\n",
    "      BATCH_SIZE).map(batch_format_fn).prefetch(PREFETCH_BUFFER)"
   ]
  },
  {
   "cell_type": "code",
   "execution_count": 17,
   "id": "d08c778c",
   "metadata": {},
   "outputs": [
    {
     "name": "stdout",
     "output_type": "stream",
     "text": [
      "<RepeatDataset element_spec={'target': TensorSpec(shape=(None,), dtype=tf.int32, name=None), 'hospital_id': TensorSpec(shape=(None,), dtype=tf.int32, name=None), 'features': TensorSpec(shape=(None, 99), dtype=tf.float32, name=None)}>\n",
      "{'target': <tf.Tensor: shape=(1,), dtype=int32, numpy=array([0], dtype=int32)>, 'hospital_id': <tf.Tensor: shape=(1,), dtype=int32, numpy=array([3], dtype=int32)>, 'features': <tf.Tensor: shape=(1, 99), dtype=float32, numpy=\n",
      "array([[ 7.8559160e-01, -3.3936617e-01, -8.1249046e-01, -9.4385183e-01,\n",
      "        -7.2301924e-01, -1.8810077e-01,  8.4947109e-01, -4.5928642e-01,\n",
      "         9.8134279e-01,  1.6657898e-01,  0.0000000e+00,  0.0000000e+00,\n",
      "         4.6327537e-01, -5.2101421e-01,  4.8013564e-02,  1.6051598e+00,\n",
      "        -2.4078444e-01,  9.1497576e-01,  1.8880671e+00,  1.9576063e+00,\n",
      "         6.0451549e-01, -1.3346049e-01, -2.3821698e-01, -2.1042186e-01,\n",
      "        -3.0635363e-01, -5.4992956e-01, -4.6375299e-01,  3.3379120e-01,\n",
      "         4.5627856e-01,  1.0018573e+00, -4.4642031e-01, -2.0488939e-01,\n",
      "        -2.1294476e-02, -1.0850954e+00, -8.4777194e-01, -8.2679945e-01,\n",
      "        -1.7372662e-01, -5.7114929e-01, -2.0662451e+00,  3.0456135e-01,\n",
      "        -6.3612723e-01, -4.6855161e-01, -3.3545646e-01, -6.0721236e-01,\n",
      "        -3.8502303e-01, -1.3044633e-01, -4.6255015e-04, -1.0281326e+00,\n",
      "        -8.1205970e-01, -7.9766726e-01, -1.0484656e-01, -5.3576624e-01,\n",
      "        -2.0340035e+00,  3.5097060e-01, -5.8131653e-01, -4.0857512e-01,\n",
      "        -3.1939128e-01, -5.6750309e-01, -4.3767473e-01, -1.9612998e-01,\n",
      "        -2.4373526e-02, -1.0838493e+00, -8.4226042e-01, -8.1827968e-01,\n",
      "        -1.6473295e-01, -5.6739533e-01, -2.0592959e+00,  3.0705610e-01,\n",
      "        -6.2800491e-01, -4.5993081e-01, -3.3157310e-01, -5.9420413e-01,\n",
      "        -5.3951532e-01,  2.6011649e-01, -3.2385993e-01,  2.6970276e-01,\n",
      "        -2.7515554e-01,  4.5355183e-01, -1.0000500e-02, -1.5639372e+00,\n",
      "         0.0000000e+00, -1.1829246e-01, -3.0946782e-01, -1.0000500e-02,\n",
      "        -2.9767954e-01, -6.5715827e-02, -1.4143550e-02, -6.5715827e-02,\n",
      "         0.0000000e+00, -6.3372426e-02, -5.6659270e-02, -4.3630458e-02,\n",
      "        -9.8969750e-02, -1.4143550e-02, -1.0151410e-01, -3.1638600e-02,\n",
      "        -2.4502249e-02, -3.0013509e-02,  3.0000000e+00]], dtype=float32)>}\n"
     ]
    }
   ],
   "source": [
    "example_dataset = train_data.create_tf_dataset_for_client(\n",
    "        train_data.client_ids[2]\n",
    "    )\n",
    "print(example_dataset)\n",
    "example_element = iter(example_dataset).next()\n",
    "print(example_element)"
   ]
  },
  {
   "cell_type": "code",
   "execution_count": 18,
   "id": "efb7fef1",
   "metadata": {},
   "outputs": [
    {
     "data": {
      "text/plain": [
       "OrderedDict([('x',\n",
       "              array([[-0.5747402 ,  2.2362227 , -0.9248106 , ..., -0.02450225,\n",
       "                      -0.03001351,  3.        ],\n",
       "                     [-0.5747402 ,  0.12892272,  0.1283029 , ..., -0.02450225,\n",
       "                      -0.03001351,  3.        ],\n",
       "                     [ 0.7855916 , -0.24570838, -0.81249046, ..., -0.02450225,\n",
       "                      -0.03001351,  3.        ],\n",
       "                     ...,\n",
       "                     [-0.5747402 ,  2.470367  ,  1.204779  , ..., -0.02450225,\n",
       "                      -0.03001351,  3.        ],\n",
       "                     [-0.5747402 , -0.10522173, -0.5582426 , ..., -0.02450225,\n",
       "                      -0.03001351,  3.        ],\n",
       "                     [ 0.7855916 , -0.10522173, -1.2321185 , ..., -0.02450225,\n",
       "                      -0.03001351,  3.        ]], dtype=float32)),\n",
       "             ('y',\n",
       "              array([[0],\n",
       "                     [0],\n",
       "                     [0],\n",
       "                     ...,\n",
       "                     [0],\n",
       "                     [0],\n",
       "                     [0]], dtype=int32))])"
      ]
     },
     "execution_count": 18,
     "metadata": {},
     "output_type": "execute_result"
    }
   ],
   "source": [
    "preprocessed_example_dataset = preprocess(example_dataset)\n",
    "sample_batch = tf.nest.map_structure(lambda x: x.numpy(),\n",
    "                                     next(iter(preprocessed_example_dataset)))\n",
    "\n",
    "sample_batch"
   ]
  },
  {
   "cell_type": "code",
   "execution_count": 19,
   "id": "4a9aaf77",
   "metadata": {},
   "outputs": [
    {
     "data": {
      "text/plain": [
       "(5000, 99)"
      ]
     },
     "execution_count": 19,
     "metadata": {},
     "output_type": "execute_result"
    }
   ],
   "source": [
    "sample_batch['x'].shape"
   ]
  },
  {
   "cell_type": "markdown",
   "id": "51ae949e",
   "metadata": {},
   "source": [
    "# Federated data preprocessing"
   ]
  },
  {
   "cell_type": "code",
   "execution_count": 20,
   "id": "78bb501c",
   "metadata": {},
   "outputs": [],
   "source": [
    "def make_federated_data(client_data, client_ids):\n",
    "    return [\n",
    "      preprocess(client_data.create_tf_dataset_for_client(x))\n",
    "      for x in client_ids\n",
    "    ]"
   ]
  },
  {
   "cell_type": "markdown",
   "id": "2002c1dc",
   "metadata": {},
   "source": [
    "# Client datasets"
   ]
  },
  {
   "cell_type": "code",
   "execution_count": 21,
   "id": "a18d279b",
   "metadata": {},
   "outputs": [
    {
     "name": "stdout",
     "output_type": "stream",
     "text": [
      "Number of client datasets: 3\n",
      "First dataset: <PrefetchDataset element_spec=OrderedDict([('x', TensorSpec(shape=(None, 99), dtype=tf.float32, name=None)), ('y', TensorSpec(shape=(None, 1), dtype=tf.int32, name=None))])>\n",
      "CPU times: user 8.26 s, sys: 50.8 ms, total: 8.31 s\n",
      "Wall time: 8.31 s\n"
     ]
    }
   ],
   "source": [
    "%%time\n",
    "#train_client_ids = sample(client_ids.tolist(), number_of_training_clients)\n",
    "federated_train_data = make_federated_data(train_data, train_data.client_ids)\n",
    "print('Number of client datasets: {l}'.format(l=len(federated_train_data)))\n",
    "print('First dataset: {d}'.format(d=federated_train_data[0]))"
   ]
  },
  {
   "cell_type": "markdown",
   "id": "37429da0",
   "metadata": {},
   "source": [
    "# Keras model"
   ]
  },
  {
   "cell_type": "code",
   "execution_count": 22,
   "id": "27fc4aef",
   "metadata": {},
   "outputs": [],
   "source": [
    "def create_keras_model():\n",
    "    return tf.keras.models.Sequential([\n",
    "      tf.keras.layers.InputLayer(input_shape=(n_features,)), # n_features\n",
    "      tf.keras.layers.Dense(150, activation = 'swish'),\n",
    "        tf.keras.layers.Dense(50, activation = 'swish'),\n",
    "        tf.keras.layers.Dense(1, activation = 'sigmoid'),\n",
    "      ])"
   ]
  },
  {
   "cell_type": "code",
   "execution_count": 23,
   "id": "c0fe847c",
   "metadata": {},
   "outputs": [
    {
     "name": "stderr",
     "output_type": "stream",
     "text": [
      "/ssd003/projects/aieng/public/pets_unified/lib/python3.8/site-packages/tensorflow_addons/utils/ensure_tf_install.py:38: UserWarning: You are currently using a nightly version of TensorFlow (2.8.0-dev20211102). \n",
      "TensorFlow Addons offers no support for the nightly versions of TensorFlow. Some things might work, some other might not. \n",
      "If you encounter a bug, do not file an issue on GitHub.\n",
      "  warnings.warn(\n"
     ]
    }
   ],
   "source": [
    "import tensorflow_addons as tfa\n",
    "\n",
    "def model_fn():\n",
    "  # We _must_ create a new model here, and _not_ capture it from an external\n",
    "  # scope. TFF will call this within different graph contexts.\n",
    "    keras_model = create_keras_model()\n",
    "    return tff.learning.from_keras_model(\n",
    "      keras_model,\n",
    "      input_spec=preprocessed_example_dataset.element_spec,\n",
    "      loss=tf.keras.losses.BinaryCrossentropy(),\n",
    "      metrics=[tf.keras.metrics.BinaryAccuracy(), tf.keras.metrics.Precision(name='Precision'),\n",
    "               tf.keras.metrics.Recall(name='Recall'), tf.keras.metrics.AUC(name='AUC')])"
   ]
  },
  {
   "cell_type": "markdown",
   "id": "0c789bcd",
   "metadata": {},
   "source": [
    "# TensorFlow Federated simulation process"
   ]
  },
  {
   "cell_type": "code",
   "execution_count": 24,
   "id": "6c5eef98",
   "metadata": {},
   "outputs": [],
   "source": [
    "iterative_process = tff.learning.build_federated_averaging_process(\n",
    "    model_fn,\n",
    "    client_optimizer_fn=lambda: tf.keras.optimizers.SGD(learning_rate=0.01),\n",
    "    server_optimizer_fn=lambda: tf.keras.optimizers.SGD(learning_rate=0.01)) "
   ]
  },
  {
   "cell_type": "code",
   "execution_count": 25,
   "id": "5fb55244",
   "metadata": {},
   "outputs": [
    {
     "data": {
      "text/plain": [
       "FunctionType(None, FederatedType(StructType([('model', StructType([('trainable', StructType([TensorType(tf.float32, [99, 150]), TensorType(tf.float32, [150]), TensorType(tf.float32, [150, 50]), TensorType(tf.float32, [50]), TensorType(tf.float32, [50, 1]), TensorType(tf.float32, [1])]) as list), ('non_trainable', StructType([]) as list)]) as ModelWeights), ('optimizer_state', StructType([TensorType(tf.int64)]) as list), ('delta_aggregate_state', StructType([('value_sum_process', StructType([]) as tuple), ('weight_sum_process', StructType([]) as tuple)]) as OrderedDict), ('model_broadcast_state', StructType([]) as tuple)]) as ServerState, PlacementLiteral('server'), True))"
      ]
     },
     "execution_count": 25,
     "metadata": {},
     "output_type": "execute_result"
    }
   ],
   "source": [
    "iterative_process.initialize.type_signature"
   ]
  },
  {
   "cell_type": "code",
   "execution_count": 26,
   "id": "5b26c389",
   "metadata": {},
   "outputs": [
    {
     "data": {
      "text/plain": [
       "'(<server_state=<model=<trainable=<float32[99,150],float32[150],float32[150,50],float32[50],float32[50,1],float32[1]>,non_trainable=<>>,optimizer_state=<int64>,delta_aggregate_state=<value_sum_process=<>,weight_sum_process=<>>,model_broadcast_state=<>>@SERVER,federated_dataset={<x=float32[?,99],y=int32[?,1]>*}@CLIENTS> -> <<model=<trainable=<float32[99,150],float32[150],float32[150,50],float32[50],float32[50,1],float32[1]>,non_trainable=<>>,optimizer_state=<int64>,delta_aggregate_state=<value_sum_process=<>,weight_sum_process=<>>,model_broadcast_state=<>>@SERVER,<broadcast=<>,aggregation=<mean_value=<>,mean_weight=<>>,train=<binary_accuracy=float32,Precision=float32,Recall=float32,AUC=float32,loss=float32>,stat=<num_examples=int64>>@SERVER>)'"
      ]
     },
     "execution_count": 26,
     "metadata": {},
     "output_type": "execute_result"
    }
   ],
   "source": [
    "str(iterative_process.next.type_signature)"
   ]
  },
  {
   "cell_type": "markdown",
   "id": "584ccb65",
   "metadata": {},
   "source": [
    "# Training Loop"
   ]
  },
  {
   "cell_type": "code",
   "execution_count": 67,
   "id": "a9547475",
   "metadata": {},
   "outputs": [],
   "source": [
    "evaluation = tff.learning.build_federated_evaluation(model_fn)\n",
    "federated_test_data = make_federated_data(test_data, test_client_ids)"
   ]
  },
  {
   "cell_type": "code",
   "execution_count": 68,
   "id": "3fe19947",
   "metadata": {},
   "outputs": [],
   "source": [
    "def training_loop(federated_train_data, federated_test_data, iterative_process, NUM_ROUNDS):\n",
    "    loss = list()\n",
    "    accuracy = list()\n",
    "    val_loss = list()\n",
    "    val_accuracy = list()\n",
    "    precision = list()\n",
    "    recall = list()\n",
    "    f1 = list()\n",
    "    val_precision = list()\n",
    "    val_recall = list()\n",
    "    val_f1 = list() \n",
    "    train_AUC = list()\n",
    "    val_AUC = list() \n",
    "\n",
    "    state = iterative_process.initialize()\n",
    "\n",
    "    for round_num in range(1, NUM_ROUNDS+1):\n",
    "        state, metrics = iterative_process.next(state, federated_train_data)\n",
    "        val_metrics = evaluation(state.model, federated_test_data)\n",
    "\n",
    "        my_precision = metrics['train']['Precision']\n",
    "        precision.append(my_precision)\n",
    "\n",
    "        my_recall = metrics['train']['Recall']\n",
    "        recall.append(my_recall)\n",
    "\n",
    "        my_f1 = 2 * (my_precision * my_recall) / (my_precision + my_recall)\n",
    "        f1.append(my_f1)\n",
    "\n",
    "        val_precision.append(val_metrics['eval']['Precision'])\n",
    "        val_recall.append(val_metrics['eval']['Recall'])\n",
    "        my_val_f1 = 2 * (val_metrics['eval']['Precision'] * val_metrics['eval']['Recall']) / (val_metrics['eval']['Precision'] + val_metrics['eval']['Recall'])\n",
    "        val_f1.append(my_val_f1)\n",
    "\n",
    "        my_loss = metrics['train']['loss']\n",
    "\n",
    "        train_AUC.append(metrics['train']['AUC'])\n",
    "        val_AUC.append(val_metrics['eval']['AUC'])\n",
    "\n",
    "        loss.append(metrics['train']['loss'])\n",
    "        accuracy.append(metrics['train']['binary_accuracy'])\n",
    "        my_acc = val_metrics['eval']['binary_accuracy']\n",
    "        val_loss.append(val_metrics['eval']['loss'])\n",
    "        val_accuracy.append(val_metrics['eval']['binary_accuracy'])\n",
    "        print(f\"round: {round_num:2d}, loss: {my_loss}, test_accuracy: {val_accuracy}, training_recall : {my_recall}, training_precision = {my_precision}, training_f1 = {my_f1}, val_precision = {val_metrics['eval']['Precision']}, val_recall = {val_metrics['eval']['Recall']}, val_f1 = {my_val_f1}\")\n",
    "\n",
    "    return {\n",
    "        'state':state,\n",
    "        'accuracy': accuracy,\n",
    "        'val_accuracy': val_accuracy,\n",
    "        'loss': loss,\n",
    "        'val_loss': val_loss,\n",
    "        'precision': precision,\n",
    "        'val_precision': precision,\n",
    "        'recall': recall,\n",
    "        'val_recall': val_recall,\n",
    "    }"
   ]
  },
  {
   "cell_type": "markdown",
   "id": "c32ce496",
   "metadata": {},
   "source": [
    "### Three clients"
   ]
  },
  {
   "cell_type": "code",
   "execution_count": 75,
   "id": "0d8b3620",
   "metadata": {
    "scrolled": false
   },
   "outputs": [
    {
     "name": "stdout",
     "output_type": "stream",
     "text": [
      "round:  1, loss: 0.4130234718322754, test_accuracy: [0.2339], training_recall : 0.04485318809747696, training_precision = 0.07481598854064941, training_f1 = 0.05608354255224766, val_precision = 0.07956356555223465, val_recall = 0.809226930141449, val_f1 = 0.14488224804730332\n",
      "round:  2, loss: 0.4110648036003113, test_accuracy: [0.2339, 0.2499], training_recall : 0.04255872592329979, training_precision = 0.07493021339178085, training_f1 = 0.05428484638119441, val_precision = 0.0792613998055458, val_recall = 0.7867830395698547, val_f1 = 0.14401460032354163\n",
      "round:  3, loss: 0.4091384708881378, test_accuracy: [0.2339, 0.2499, 0.2687], training_recall : 0.04026006534695625, training_precision = 0.07488725334405899, training_f1 = 0.05236710013036716, val_precision = 0.07933841645717621, val_recall = 0.7655860185623169, val_f1 = 0.14377707139370235\n",
      "round:  4, loss: 0.4072470963001251, test_accuracy: [0.2339, 0.2499, 0.2687, 0.2891], training_recall : 0.0381082221865654, training_precision = 0.07490559667348862, training_f1 = 0.05051628352730383, val_precision = 0.07914052903652191, val_recall = 0.7394015192985535, val_f1 = 0.14297769575551542\n",
      "round:  5, loss: 0.40538325905799866, test_accuracy: [0.2339, 0.2499, 0.2687, 0.2891, 0.3086], training_recall : 0.035868287086486816, training_precision = 0.07473213225603104, training_f1 = 0.04847203216914074, val_precision = 0.07836644351482391, val_recall = 0.7082294225692749, val_f1 = 0.14111800326576968\n",
      "round:  6, loss: 0.40355175733566284, test_accuracy: [0.2339, 0.2499, 0.2687, 0.2891, 0.3086, 0.3305], training_recall : 0.033892616629600525, training_precision = 0.0748550146818161, training_f1 = 0.04665908260972632, val_precision = 0.07768382132053375, val_recall = 0.6758104562759399, val_f1 = 0.13934954185947024\n",
      "round:  7, loss: 0.4017493724822998, test_accuracy: [0.2339, 0.2499, 0.2687, 0.2891, 0.3086, 0.3305, 0.3566], training_recall : 0.03190436214208603, training_precision = 0.07480845600366592, training_f1 = 0.044731570266663835, val_precision = 0.07831685990095139, val_recall = 0.6521196961402893, val_f1 = 0.1398395712434062\n",
      "round:  8, loss: 0.39997729659080505, test_accuracy: [0.2339, 0.2499, 0.2687, 0.2891, 0.3086, 0.3305, 0.3566, 0.3804], training_recall : 0.03003775142133236, training_precision = 0.07496859133243561, training_f1 = 0.0428905117125629, val_precision = 0.07687480747699738, val_recall = 0.6109725832939148, val_f1 = 0.13656634342458218\n",
      "round:  9, loss: 0.39823228120803833, test_accuracy: [0.2339, 0.2499, 0.2687, 0.2891, 0.3086, 0.3305, 0.3566, 0.3804, 0.4062], training_recall : 0.02821728214621544, training_precision = 0.07500529289245605, training_f1 = 0.04100741286098901, val_precision = 0.07721435278654099, val_recall = 0.5847880244255066, val_f1 = 0.13641651053517306\n",
      "round: 10, loss: 0.39651817083358765, test_accuracy: [0.2339, 0.2499, 0.2687, 0.2891, 0.3086, 0.3305, 0.3566, 0.3804, 0.4062, 0.4356], training_recall : 0.026501677930355072, training_precision = 0.07516417652368546, training_f1 = 0.03918674095077008, val_precision = 0.07895652204751968, val_recall = 0.5660848021507263, val_f1 = 0.13858364000806506\n",
      "round: 11, loss: 0.39482882618904114, test_accuracy: [0.2339, 0.2499, 0.2687, 0.2891, 0.3086, 0.3305, 0.3566, 0.3804, 0.4062, 0.4356, 0.4605], training_recall : 0.024823825806379318, training_precision = 0.07519121468067169, training_f1 = 0.03732505781525816, val_precision = 0.07839177548885345, val_recall = 0.532418966293335, val_f1 = 0.13666186835607275\n",
      "round: 12, loss: 0.39316698908805847, test_accuracy: [0.2339, 0.2499, 0.2687, 0.2891, 0.3086, 0.3305, 0.3566, 0.3804, 0.4062, 0.4356, 0.4605, 0.4838], training_recall : 0.0231543630361557, training_precision = 0.07509488612413406, training_f1 = 0.03539516598465844, val_precision = 0.07882534712553024, val_recall = 0.5087282061576843, val_f1 = 0.13650050474191613\n",
      "round: 13, loss: 0.3915342390537262, test_accuracy: [0.2339, 0.2499, 0.2687, 0.2891, 0.3086, 0.3305, 0.3566, 0.3804, 0.4062, 0.4356, 0.4605, 0.4838, 0.5102], training_recall : 0.02171560376882553, training_precision = 0.07531058043241501, training_f1 = 0.033710792494053045, val_precision = 0.07912042737007141, val_recall = 0.48004987835884094, val_f1 = 0.13585039089910686\n",
      "round: 14, loss: 0.3899252116680145, test_accuracy: [0.2339, 0.2499, 0.2687, 0.2891, 0.3086, 0.3305, 0.3566, 0.3804, 0.4062, 0.4356, 0.4605, 0.4838, 0.5102, 0.5347], training_recall : 0.02034395933151245, training_precision = 0.07570081949234009, training_f1 = 0.03206950902697963, val_precision = 0.07894161343574524, val_recall = 0.45012468099594116, val_f1 = 0.13432557743914667\n",
      "round: 15, loss: 0.38834065198898315, test_accuracy: [0.2339, 0.2499, 0.2687, 0.2891, 0.3086, 0.3305, 0.3566, 0.3804, 0.4062, 0.4356, 0.4605, 0.4838, 0.5102, 0.5347, 0.5579], training_recall : 0.018968120217323303, training_precision = 0.07578474283218384, training_f1 = 0.03034196581187172, val_precision = 0.07830342650413513, val_recall = 0.418952614068985, val_f1 = 0.13194580460318472\n",
      "round: 16, loss: 0.38678446412086487, test_accuracy: [0.2339, 0.2499, 0.2687, 0.2891, 0.3086, 0.3305, 0.3566, 0.3804, 0.4062, 0.4356, 0.4605, 0.4838, 0.5102, 0.5347, 0.5579, 0.5825], training_recall : 0.01765100657939911, training_precision = 0.0758252814412117, training_f1 = 0.02863597869470177, val_precision = 0.07848037779331207, val_recall = 0.3915211856365204, val_f1 = 0.1307516069738722\n",
      "round: 17, loss: 0.3852512538433075, test_accuracy: [0.2339, 0.2499, 0.2687, 0.2891, 0.3086, 0.3305, 0.3566, 0.3804, 0.4062, 0.4356, 0.4605, 0.4838, 0.5102, 0.5347, 0.5579, 0.5825, 0.6031], training_recall : 0.016493288800120354, training_precision = 0.07614252716302872, training_f1 = 0.027113500471995965, val_precision = 0.07558295130729675, val_recall = 0.35162094235420227, val_f1 = 0.12442091099399885\n",
      "round: 18, loss: 0.383742094039917, test_accuracy: [0.2339, 0.2499, 0.2687, 0.2891, 0.3086, 0.3305, 0.3566, 0.3804, 0.4062, 0.4356, 0.4605, 0.4838, 0.5102, 0.5347, 0.5579, 0.5825, 0.6031, 0.6289], training_recall : 0.015272650867700577, training_precision = 0.07599189877510071, training_f1 = 0.025433705197513003, val_precision = 0.07656477391719818, val_recall = 0.32793018221855164, val_f1 = 0.12414444345879838\n",
      "round: 19, loss: 0.38225609064102173, test_accuracy: [0.2339, 0.2499, 0.2687, 0.2891, 0.3086, 0.3305, 0.3566, 0.3804, 0.4062, 0.4356, 0.4605, 0.4838, 0.5102, 0.5347, 0.5579, 0.5825, 0.6031, 0.6289, 0.6523], training_recall : 0.01423238217830658, training_precision = 0.07644302397966385, training_f1 = 0.0239969451729287, val_precision = 0.07740916311740875, val_recall = 0.3054862916469574, val_f1 = 0.12351903121458549\n",
      "round: 20, loss: 0.38079461455345154, test_accuracy: [0.2339, 0.2499, 0.2687, 0.2891, 0.3086, 0.3305, 0.3566, 0.3804, 0.4062, 0.4356, 0.4605, 0.4838, 0.5102, 0.5347, 0.5579, 0.5825, 0.6031, 0.6289, 0.6523, 0.6723], training_recall : 0.013104027137160301, training_precision = 0.07604673504829407, training_f1 = 0.02235580460858963, val_precision = 0.07692307978868484, val_recall = 0.280548632144928, val_f1 = 0.120740546288546\n",
      "round: 21, loss: 0.37935516238212585, test_accuracy: [0.2339, 0.2499, 0.2687, 0.2891, 0.3086, 0.3305, 0.3566, 0.3804, 0.4062, 0.4356, 0.4605, 0.4838, 0.5102, 0.5347, 0.5579, 0.5825, 0.6031, 0.6289, 0.6523, 0.6723, 0.6933], training_recall : 0.012281878851354122, training_precision = 0.07696755975484848, training_f1 = 0.021183466732260015, val_precision = 0.07852623611688614, val_recall = 0.2630922794342041, val_f1 = 0.12095156163647411\n",
      "round: 22, loss: 0.377938449382782, test_accuracy: [0.2339, 0.2499, 0.2687, 0.2891, 0.3086, 0.3305, 0.3566, 0.3804, 0.4062, 0.4356, 0.4605, 0.4838, 0.5102, 0.5347, 0.5579, 0.5825, 0.6031, 0.6289, 0.6523, 0.6723, 0.6933, 0.7139], training_recall : 0.011359060183167458, training_precision = 0.07706756144762039, training_f1 = 0.019799808019938626, val_precision = 0.07859189808368683, val_recall = 0.23940148949623108, val_f1 = 0.11833590313406975\n",
      "round: 23, loss: 0.37654396891593933, test_accuracy: [0.2339, 0.2499, 0.2687, 0.2891, 0.3086, 0.3305, 0.3566, 0.3804, 0.4062, 0.4356, 0.4605, 0.4838, 0.5102, 0.5347, 0.5579, 0.5825, 0.6031, 0.6289, 0.6523, 0.6723, 0.6933, 0.7139, 0.7328], training_recall : 0.010461409576237202, training_precision = 0.07693731784820557, training_f1 = 0.018418408915201016, val_precision = 0.078828826546669, val_recall = 0.21820448338985443, val_f1 = 0.11581733636446821\n"
     ]
    },
    {
     "name": "stdout",
     "output_type": "stream",
     "text": [
      "round: 24, loss: 0.3751710057258606, test_accuracy: [0.2339, 0.2499, 0.2687, 0.2891, 0.3086, 0.3305, 0.3566, 0.3804, 0.4062, 0.4356, 0.4605, 0.4838, 0.5102, 0.5347, 0.5579, 0.5825, 0.6031, 0.6289, 0.6523, 0.6723, 0.6933, 0.7139, 0.7328, 0.75], training_recall : 0.009639261290431023, training_precision = 0.07671251147985458, training_f1 = 0.017126502995399716, val_precision = 0.07676968723535538, val_recall = 0.19201995432376862, val_f1 = 0.10968660315171697\n",
      "round: 25, loss: 0.373817503452301, test_accuracy: [0.2339, 0.2499, 0.2687, 0.2891, 0.3086, 0.3305, 0.3566, 0.3804, 0.4062, 0.4356, 0.4605, 0.4838, 0.5102, 0.5347, 0.5579, 0.5825, 0.6031, 0.6289, 0.6523, 0.6723, 0.6933, 0.7139, 0.7328, 0.75, 0.7654], training_recall : 0.008926174603402615, training_precision = 0.07707631587982178, training_f1 = 0.015999459339591005, val_precision = 0.07488986849784851, val_recall = 0.16957606375217438, val_f1 = 0.10389610864576138\n",
      "round: 26, loss: 0.37248846888542175, test_accuracy: [0.2339, 0.2499, 0.2687, 0.2891, 0.3086, 0.3305, 0.3566, 0.3804, 0.4062, 0.4356, 0.4605, 0.4838, 0.5102, 0.5347, 0.5579, 0.5825, 0.6031, 0.6289, 0.6523, 0.6723, 0.6933, 0.7139, 0.7328, 0.75, 0.7654, 0.7794], training_recall : 0.008250839076936245, training_precision = 0.07725844532251358, training_f1 = 0.014909421669442396, val_precision = 0.07454545795917511, val_recall = 0.1533665806055069, val_f1 = 0.10032626523398164\n",
      "round: 27, loss: 0.3711780309677124, test_accuracy: [0.2339, 0.2499, 0.2687, 0.2891, 0.3086, 0.3305, 0.3566, 0.3804, 0.4062, 0.4356, 0.4605, 0.4838, 0.5102, 0.5347, 0.5579, 0.5825, 0.6031, 0.6289, 0.6523, 0.6723, 0.6933, 0.7139, 0.7328, 0.75, 0.7654, 0.7794, 0.7939], training_recall : 0.007583892438560724, training_precision = 0.07721546292304993, training_f1 = 0.013811278085629083, val_precision = 0.07666442543268204, val_recall = 0.14214463531970978, val_f1 = 0.09960681428828656\n",
      "round: 28, loss: 0.3698878288269043, test_accuracy: [0.2339, 0.2499, 0.2687, 0.2891, 0.3086, 0.3305, 0.3566, 0.3804, 0.4062, 0.4356, 0.4605, 0.4838, 0.5102, 0.5347, 0.5579, 0.5825, 0.6031, 0.6289, 0.6523, 0.6723, 0.6933, 0.7139, 0.7328, 0.75, 0.7654, 0.7794, 0.7939, 0.8074], training_recall : 0.007017617579549551, training_precision = 0.07741428166627884, training_f1 = 0.012868685625141962, val_precision = 0.07616893202066422, val_recall = 0.1259351670742035, val_f1 = 0.0949248159106084\n",
      "round: 29, loss: 0.36861762404441833, test_accuracy: [0.2339, 0.2499, 0.2687, 0.2891, 0.3086, 0.3305, 0.3566, 0.3804, 0.4062, 0.4356, 0.4605, 0.4838, 0.5102, 0.5347, 0.5579, 0.5825, 0.6031, 0.6289, 0.6523, 0.6723, 0.6933, 0.7139, 0.7328, 0.75, 0.7654, 0.7794, 0.7939, 0.8074, 0.8193], training_recall : 0.006522650830447674, training_precision = 0.07825867831707001, training_f1 = 0.012041662554616304, val_precision = 0.07306712120771408, val_recall = 0.10723192244768143, val_f1 = 0.08691257872945893\n",
      "round: 30, loss: 0.3673664927482605, test_accuracy: [0.2339, 0.2499, 0.2687, 0.2891, 0.3086, 0.3305, 0.3566, 0.3804, 0.4062, 0.4356, 0.4605, 0.4838, 0.5102, 0.5347, 0.5579, 0.5825, 0.6031, 0.6289, 0.6523, 0.6723, 0.6933, 0.7139, 0.7328, 0.75, 0.7654, 0.7794, 0.7939, 0.8074, 0.8193, 0.8292], training_recall : 0.006010905839502811, training_precision = 0.07842600345611572, training_f1 = 0.01116600169814867, val_precision = 0.07264150679111481, val_recall = 0.09600997716188431, val_f1 = 0.08270676006647812\n",
      "round: 31, loss: 0.3661353290081024, test_accuracy: [0.2339, 0.2499, 0.2687, 0.2891, 0.3086, 0.3305, 0.3566, 0.3804, 0.4062, 0.4356, 0.4605, 0.4838, 0.5102, 0.5347, 0.5579, 0.5825, 0.6031, 0.6289, 0.6523, 0.6723, 0.6933, 0.7139, 0.7328, 0.75, 0.7654, 0.7794, 0.7939, 0.8074, 0.8193, 0.8292, 0.8373], training_recall : 0.00546979857608676, training_precision = 0.07724203169345856, training_f1 = 0.010216152950025916, val_precision = 0.07165109366178513, val_recall = 0.08603491634130478, val_f1 = 0.0781869721111886\n",
      "round: 32, loss: 0.3649217486381531, test_accuracy: [0.2339, 0.2499, 0.2687, 0.2891, 0.3086, 0.3305, 0.3566, 0.3804, 0.4062, 0.4356, 0.4605, 0.4838, 0.5102, 0.5347, 0.5579, 0.5825, 0.6031, 0.6289, 0.6523, 0.6723, 0.6933, 0.7139, 0.7328, 0.75, 0.7654, 0.7794, 0.7939, 0.8074, 0.8193, 0.8292, 0.8373, 0.8465], training_recall : 0.005109060555696487, training_precision = 0.07829776406288147, training_f1 = 0.009592213504832744, val_precision = 0.07334109395742416, val_recall = 0.07855361700057983, val_f1 = 0.07585791096702775\n",
      "round: 33, loss: 0.3637281656265259, test_accuracy: [0.2339, 0.2499, 0.2687, 0.2891, 0.3086, 0.3305, 0.3566, 0.3804, 0.4062, 0.4356, 0.4605, 0.4838, 0.5102, 0.5347, 0.5579, 0.5825, 0.6031, 0.6289, 0.6523, 0.6723, 0.6933, 0.7139, 0.7328, 0.75, 0.7654, 0.7794, 0.7939, 0.8074, 0.8193, 0.8292, 0.8373, 0.8465, 0.8551], training_recall : 0.00469379173591733, training_precision = 0.07818067818880081, training_f1 = 0.008855895594514288, val_precision = 0.07378128916025162, val_recall = 0.0698254331946373, val_f1 = 0.07174887784774217\n",
      "round: 34, loss: 0.36255207657814026, test_accuracy: [0.2339, 0.2499, 0.2687, 0.2891, 0.3086, 0.3305, 0.3566, 0.3804, 0.4062, 0.4356, 0.4605, 0.4838, 0.5102, 0.5347, 0.5579, 0.5825, 0.6031, 0.6289, 0.6523, 0.6723, 0.6933, 0.7139, 0.7328, 0.75, 0.7654, 0.7794, 0.7939, 0.8074, 0.8193, 0.8292, 0.8373, 0.8465, 0.8551, 0.8629], training_recall : 0.004312080331146717, training_precision = 0.07794374227523804, training_f1 = 0.008172057755573047, val_precision = 0.07726597040891647, val_recall = 0.06483790278434753, val_f1 = 0.070508467267101\n",
      "round: 35, loss: 0.3613925278186798, test_accuracy: [0.2339, 0.2499, 0.2687, 0.2891, 0.3086, 0.3305, 0.3566, 0.3804, 0.4062, 0.4356, 0.4605, 0.4838, 0.5102, 0.5347, 0.5579, 0.5825, 0.6031, 0.6289, 0.6523, 0.6723, 0.6933, 0.7139, 0.7328, 0.75, 0.7654, 0.7794, 0.7939, 0.8074, 0.8193, 0.8292, 0.8373, 0.8465, 0.8551, 0.8629, 0.8686], training_recall : 0.003968121018260717, training_precision = 0.07772573828697205, training_f1 = 0.007550754597864578, val_precision = 0.08032786846160889, val_recall = 0.06109725683927536, val_f1 = 0.06940509599742069\n",
      "round: 36, loss: 0.360251784324646, test_accuracy: [0.2339, 0.2499, 0.2687, 0.2891, 0.3086, 0.3305, 0.3566, 0.3804, 0.4062, 0.4356, 0.4605, 0.4838, 0.5102, 0.5347, 0.5579, 0.5825, 0.6031, 0.6289, 0.6523, 0.6723, 0.6933, 0.7139, 0.7328, 0.75, 0.7654, 0.7794, 0.7939, 0.8074, 0.8193, 0.8292, 0.8373, 0.8465, 0.8551, 0.8629, 0.8686, 0.8741], training_recall : 0.0036703019868582487, training_precision = 0.07742677628993988, training_f1 = 0.007008381389470288, val_precision = 0.0822669118642807, val_recall = 0.056109726428985596, val_f1 = 0.06671609028526865\n",
      "round: 37, loss: 0.3591279983520508, test_accuracy: [0.2339, 0.2499, 0.2687, 0.2891, 0.3086, 0.3305, 0.3566, 0.3804, 0.4062, 0.4356, 0.4605, 0.4838, 0.5102, 0.5347, 0.5579, 0.5825, 0.6031, 0.6289, 0.6523, 0.6723, 0.6933, 0.7139, 0.7328, 0.75, 0.7654, 0.7794, 0.7939, 0.8074, 0.8193, 0.8292, 0.8373, 0.8465, 0.8551, 0.8629, 0.8686, 0.8741, 0.8794], training_recall : 0.003364094067364931, training_precision = 0.07683464139699936, training_f1 = 0.0064459607055105065, val_precision = 0.08436214178800583, val_recall = 0.05112219601869583, val_f1 = 0.06366459712720794\n",
      "round: 38, loss: 0.3580206632614136, test_accuracy: [0.2339, 0.2499, 0.2687, 0.2891, 0.3086, 0.3305, 0.3566, 0.3804, 0.4062, 0.4356, 0.4605, 0.4838, 0.5102, 0.5347, 0.5579, 0.5825, 0.6031, 0.6289, 0.6523, 0.6723, 0.6933, 0.7139, 0.7328, 0.75, 0.7654, 0.7794, 0.7939, 0.8074, 0.8193, 0.8292, 0.8373, 0.8465, 0.8551, 0.8629, 0.8686, 0.8741, 0.8794, 0.8836], training_recall : 0.0031417785212397575, training_precision = 0.07733608782291412, training_f1 = 0.006038253308134495, val_precision = 0.08294931054115295, val_recall = 0.04488778114318848, val_f1 = 0.05825242697227486\n",
      "round: 39, loss: 0.3569296598434448, test_accuracy: [0.2339, 0.2499, 0.2687, 0.2891, 0.3086, 0.3305, 0.3566, 0.3804, 0.4062, 0.4356, 0.4605, 0.4838, 0.5102, 0.5347, 0.5579, 0.5825, 0.6031, 0.6289, 0.6523, 0.6723, 0.6933, 0.7139, 0.7328, 0.75, 0.7654, 0.7794, 0.7939, 0.8074, 0.8193, 0.8292, 0.8373, 0.8465, 0.8551, 0.8629, 0.8686, 0.8741, 0.8794, 0.8836, 0.8871], training_recall : 0.002919462975114584, training_precision = 0.07743658125400543, training_f1 = 0.005626788242384985, val_precision = 0.08396946638822556, val_recall = 0.041147131472826004, val_f1 = 0.05523012346433301\n"
     ]
    },
    {
     "name": "stdout",
     "output_type": "stream",
     "text": [
      "round: 40, loss: 0.35585591197013855, test_accuracy: [0.2339, 0.2499, 0.2687, 0.2891, 0.3086, 0.3305, 0.3566, 0.3804, 0.4062, 0.4356, 0.4605, 0.4838, 0.5102, 0.5347, 0.5579, 0.5825, 0.6031, 0.6289, 0.6523, 0.6723, 0.6933, 0.7139, 0.7328, 0.75, 0.7654, 0.7794, 0.7939, 0.8074, 0.8193, 0.8292, 0.8373, 0.8465, 0.8551, 0.8629, 0.8686, 0.8741, 0.8794, 0.8836, 0.8871, 0.8899], training_recall : 0.002671979833394289, training_precision = 0.07675623893737793, training_f1 = 0.005164188052703042, val_precision = 0.07648725062608719, val_recall = 0.03366583585739136, val_f1 = 0.046753247675588826\n",
      "round: 41, loss: 0.35479626059532166, test_accuracy: [0.2339, 0.2499, 0.2687, 0.2891, 0.3086, 0.3305, 0.3566, 0.3804, 0.4062, 0.4356, 0.4605, 0.4838, 0.5102, 0.5347, 0.5579, 0.5825, 0.6031, 0.6289, 0.6523, 0.6723, 0.6933, 0.7139, 0.7328, 0.75, 0.7654, 0.7794, 0.7939, 0.8074, 0.8193, 0.8292, 0.8373, 0.8465, 0.8551, 0.8629, 0.8686, 0.8741, 0.8794, 0.8836, 0.8871, 0.8899, 0.8917], training_recall : 0.0024580536410212517, training_precision = 0.07610389590263367, training_f1 = 0.004762291878983036, val_precision = 0.06769230961799622, val_recall = 0.027431420981884003, val_f1 = 0.03904170283656885\n",
      "round: 42, loss: 0.3537544310092926, test_accuracy: [0.2339, 0.2499, 0.2687, 0.2891, 0.3086, 0.3305, 0.3566, 0.3804, 0.4062, 0.4356, 0.4605, 0.4838, 0.5102, 0.5347, 0.5579, 0.5825, 0.6031, 0.6289, 0.6523, 0.6723, 0.6933, 0.7139, 0.7328, 0.75, 0.7654, 0.7794, 0.7939, 0.8074, 0.8193, 0.8292, 0.8373, 0.8465, 0.8551, 0.8629, 0.8686, 0.8741, 0.8794, 0.8836, 0.8871, 0.8899, 0.8917, 0.8944], training_recall : 0.0022818793077021837, training_precision = 0.07615847885608673, training_f1 = 0.004430995883321443, val_precision = 0.06506849080324173, val_recall = 0.02369077317416668, val_f1 = 0.03473491807357417\n",
      "round: 43, loss: 0.35272687673568726, test_accuracy: [0.2339, 0.2499, 0.2687, 0.2891, 0.3086, 0.3305, 0.3566, 0.3804, 0.4062, 0.4356, 0.4605, 0.4838, 0.5102, 0.5347, 0.5579, 0.5825, 0.6031, 0.6289, 0.6523, 0.6723, 0.6933, 0.7139, 0.7328, 0.75, 0.7654, 0.7794, 0.7939, 0.8074, 0.8193, 0.8292, 0.8373, 0.8465, 0.8551, 0.8629, 0.8686, 0.8741, 0.8794, 0.8836, 0.8871, 0.8899, 0.8917, 0.8944, 0.8968], training_recall : 0.002147651044651866, training_precision = 0.07703881710767746, training_f1 = 0.004178807267425012, val_precision = 0.06766917556524277, val_recall = 0.02244389057159424, val_f1 = 0.033707864849198056\n",
      "round: 44, loss: 0.35171449184417725, test_accuracy: [0.2339, 0.2499, 0.2687, 0.2891, 0.3086, 0.3305, 0.3566, 0.3804, 0.4062, 0.4356, 0.4605, 0.4838, 0.5102, 0.5347, 0.5579, 0.5825, 0.6031, 0.6289, 0.6523, 0.6723, 0.6933, 0.7139, 0.7328, 0.75, 0.7654, 0.7794, 0.7939, 0.8074, 0.8193, 0.8292, 0.8373, 0.8465, 0.8551, 0.8629, 0.8686, 0.8741, 0.8794, 0.8836, 0.8871, 0.8899, 0.8917, 0.8944, 0.8968, 0.8982], training_recall : 0.0019672818016260862, training_precision = 0.07565736770629883, training_f1 = 0.003834847904647302, val_precision = 0.060975611209869385, val_recall = 0.018703242763876915, val_f1 = 0.02862595395310499\n",
      "round: 45, loss: 0.3507169187068939, test_accuracy: [0.2339, 0.2499, 0.2687, 0.2891, 0.3086, 0.3305, 0.3566, 0.3804, 0.4062, 0.4356, 0.4605, 0.4838, 0.5102, 0.5347, 0.5579, 0.5825, 0.6031, 0.6289, 0.6523, 0.6723, 0.6933, 0.7139, 0.7328, 0.75, 0.7654, 0.7794, 0.7939, 0.8074, 0.8193, 0.8292, 0.8373, 0.8465, 0.8551, 0.8629, 0.8686, 0.8741, 0.8794, 0.8836, 0.8871, 0.8899, 0.8917, 0.8944, 0.8968, 0.8982, 0.9005], training_recall : 0.0018162751803174615, training_precision = 0.07506934553384781, training_f1 = 0.0035467383476657055, val_precision = 0.06334841996431351, val_recall = 0.017456358298659325, val_f1 = 0.02737047855807338\n",
      "round: 46, loss: 0.3497350811958313, test_accuracy: [0.2339, 0.2499, 0.2687, 0.2891, 0.3086, 0.3305, 0.3566, 0.3804, 0.4062, 0.4356, 0.4605, 0.4838, 0.5102, 0.5347, 0.5579, 0.5825, 0.6031, 0.6289, 0.6523, 0.6723, 0.6933, 0.7139, 0.7328, 0.75, 0.7654, 0.7794, 0.7939, 0.8074, 0.8193, 0.8292, 0.8373, 0.8465, 0.8551, 0.8629, 0.8686, 0.8741, 0.8794, 0.8836, 0.8871, 0.8899, 0.8917, 0.8944, 0.8968, 0.8982, 0.9005, 0.9018], training_recall : 0.0017072147456929088, training_precision = 0.07610321789979935, training_f1 = 0.003339514657100433, val_precision = 0.06310679763555527, val_recall = 0.016209475696086884, val_f1 = 0.025793648696885583\n",
      "round: 47, loss: 0.348766028881073, test_accuracy: [0.2339, 0.2499, 0.2687, 0.2891, 0.3086, 0.3305, 0.3566, 0.3804, 0.4062, 0.4356, 0.4605, 0.4838, 0.5102, 0.5347, 0.5579, 0.5825, 0.6031, 0.6289, 0.6523, 0.6723, 0.6933, 0.7139, 0.7328, 0.75, 0.7654, 0.7794, 0.7939, 0.8074, 0.8193, 0.8292, 0.8373, 0.8465, 0.8551, 0.8629, 0.8686, 0.8741, 0.8794, 0.8836, 0.8871, 0.8899, 0.8917, 0.8944, 0.8968, 0.8982, 0.9005, 0.9018, 0.903], training_recall : 0.0015645973617210984, training_precision = 0.07492969185113907, training_f1 = 0.0030651907795349906, val_precision = 0.0670103058218956, val_recall = 0.016209475696086884, val_f1 = 0.02610441527740101\n",
      "round: 48, loss: 0.34781235456466675, test_accuracy: [0.2339, 0.2499, 0.2687, 0.2891, 0.3086, 0.3305, 0.3566, 0.3804, 0.4062, 0.4356, 0.4605, 0.4838, 0.5102, 0.5347, 0.5579, 0.5825, 0.6031, 0.6289, 0.6523, 0.6723, 0.6933, 0.7139, 0.7328, 0.75, 0.7654, 0.7794, 0.7939, 0.8074, 0.8193, 0.8292, 0.8373, 0.8465, 0.8551, 0.8629, 0.8686, 0.8741, 0.8794, 0.8836, 0.8871, 0.8899, 0.8917, 0.8944, 0.8968, 0.8982, 0.9005, 0.9018, 0.903, 0.9036], training_recall : 0.0014513422502204776, training_precision = 0.07412167638540268, training_f1 = 0.0028469398587817954, val_precision = 0.06914893537759781, val_recall = 0.016209475696086884, val_f1 = 0.026262626224052975\n",
      "round: 49, loss: 0.3468721807003021, test_accuracy: [0.2339, 0.2499, 0.2687, 0.2891, 0.3086, 0.3305, 0.3566, 0.3804, 0.4062, 0.4356, 0.4605, 0.4838, 0.5102, 0.5347, 0.5579, 0.5825, 0.6031, 0.6289, 0.6523, 0.6723, 0.6933, 0.7139, 0.7328, 0.75, 0.7654, 0.7794, 0.7939, 0.8074, 0.8193, 0.8292, 0.8373, 0.8465, 0.8551, 0.8629, 0.8686, 0.8741, 0.8794, 0.8836, 0.8871, 0.8899, 0.8917, 0.8944, 0.8968, 0.8982, 0.9005, 0.9018, 0.903, 0.9036, 0.9054], training_recall : 0.0013590604066848755, training_precision = 0.07470601797103882, training_f1 = 0.0026695559981593222, val_precision = 0.0714285746216774, val_recall = 0.014962593093514442, val_f1 = 0.02474226785230404\n",
      "round: 50, loss: 0.345944881439209, test_accuracy: [0.2339, 0.2499, 0.2687, 0.2891, 0.3086, 0.3305, 0.3566, 0.3804, 0.4062, 0.4356, 0.4605, 0.4838, 0.5102, 0.5347, 0.5579, 0.5825, 0.6031, 0.6289, 0.6523, 0.6723, 0.6933, 0.7139, 0.7328, 0.75, 0.7654, 0.7794, 0.7939, 0.8074, 0.8193, 0.8292, 0.8373, 0.8465, 0.8551, 0.8629, 0.8686, 0.8741, 0.8794, 0.8836, 0.8871, 0.8899, 0.8917, 0.8944, 0.8968, 0.8982, 0.9005, 0.9018, 0.903, 0.9036, 0.9054, 0.9064], training_recall : 0.0012290268205106258, training_precision = 0.07257864624261856, training_f1 = 0.0024171227517332913, val_precision = 0.05921052768826485, val_recall = 0.01122194528579712, val_f1 = 0.01886792658658587\n"
     ]
    }
   ],
   "source": [
    "%%time\n",
    "train_data = tff.simulation.datasets.ClientData.from_clients_and_tf_fn(\n",
    "        client_ids=[1,2,3], \n",
    "        serializable_dataset_fn=create_tf_dataset_for_client_fn)\n",
    "\n",
    "federated_train_data = make_federated_data(train_data, [1,2,3])\n",
    "\n",
    "iterative_process = tff.learning.build_federated_averaging_process(\n",
    "    model_fn,\n",
    "    client_optimizer_fn=lambda: tf.keras.optimizers.SGD(learning_rate=0.01),\n",
    "    server_optimizer_fn=lambda: tf.keras.optimizers.SGD(learning_rate=0.01))\n",
    "\n",
    "results = training_loop(federated_train_data, federated_test_data, iterative_process, 50)"
   ]
  },
  {
   "cell_type": "code",
   "execution_count": 76,
   "id": "c534034e",
   "metadata": {},
   "outputs": [
    {
     "data": {
      "text/plain": [
       "OrderedDict([('eval',\n",
       "              OrderedDict([('binary_accuracy', 0.8996),\n",
       "                           ('Precision', 0.082446806),\n",
       "                           ('Recall', 0.026006712),\n",
       "                           ('AUC', 0.5118891),\n",
       "                           ('loss', 0.5016577)])),\n",
       "             ('stat', OrderedDict([('num_examples', 3000000)]))])"
      ]
     },
     "execution_count": 76,
     "metadata": {},
     "output_type": "execute_result"
    }
   ],
   "source": [
    "train_metrics = evaluation(results['state'].model, federated_train_data)\n",
    "train_metrics"
   ]
  },
  {
   "cell_type": "code",
   "execution_count": 77,
   "id": "12648c96",
   "metadata": {},
   "outputs": [
    {
     "data": {
      "text/plain": [
       "OrderedDict([('eval',\n",
       "              OrderedDict([('binary_accuracy', 0.9064),\n",
       "                           ('Precision', 0.059210528),\n",
       "                           ('Recall', 0.011221945),\n",
       "                           ('AUC', 0.51601064),\n",
       "                           ('loss', 0.46452308)])),\n",
       "             ('stat', OrderedDict([('num_examples', 1000000)]))])"
      ]
     },
     "execution_count": 77,
     "metadata": {},
     "output_type": "execute_result"
    }
   ],
   "source": [
    "test_metrics = evaluation(results['state'].model, federated_test_data)\n",
    "test_metrics"
   ]
  },
  {
   "cell_type": "code",
   "execution_count": 78,
   "id": "d927ed5d",
   "metadata": {},
   "outputs": [
    {
     "data": {
      "text/plain": [
       "Text(0.5, 0, 'Round')"
      ]
     },
     "execution_count": 78,
     "metadata": {},
     "output_type": "execute_result"
    },
    {
     "data": {
      "image/png": "[encoded data removed]",
      "text/plain": [
       "<Figure size 576x576 with 2 Axes>"
      ]
     },
     "metadata": {
      "needs_background": "light"
     },
     "output_type": "display_data"
    }
   ],
   "source": [
    "fig1 = plt.figure(figsize=(8, 8))\n",
    "ax1 = fig1.add_subplot(2, 1, 1)\n",
    "ax1.plot(results['accuracy'], label='Training Accuracy')\n",
    "ax1.plot(results['val_accuracy'], label='Validation Accuracy')\n",
    "ax1.legend(loc='lower right')\n",
    "ax1.set_ylabel('Accuracy')\n",
    "ax1.set_ylim([0, 1])\n",
    "ax1.set_title('Training and Validation AUC')\n",
    "\n",
    "ax2 = fig1.add_subplot(2, 1, 2)\n",
    "ax2.plot(results['loss'], label='Training Loss')\n",
    "ax2.plot(results['val_loss'], label='Validation Loss')\n",
    "ax2.legend(loc='upper right')\n",
    "ax2.set_ylabel('Cross Entropy')\n",
    "ax2.set_ylim([0,max(ax2.get_ylim())])\n",
    "ax2.set_title('Training and Validation Loss')\n",
    "ax2.set_xlabel('Round')\n",
    "\n",
    "# plt.savefig('./figures/DELIRIUM_normalized_TFF_accuracy_loss_10_rounds.png')"
   ]
  },
  {
   "cell_type": "code",
   "execution_count": 79,
   "id": "61429d6d",
   "metadata": {},
   "outputs": [
    {
     "data": {
      "text/plain": [
       "Text(0.5, 0, 'Round')"
      ]
     },
     "execution_count": 79,
     "metadata": {},
     "output_type": "execute_result"
    },
    {
     "data": {
      "image/png": "[encoded data removed]",
      "text/plain": [
       "<Figure size 576x576 with 2 Axes>"
      ]
     },
     "metadata": {
      "needs_background": "light"
     },
     "output_type": "display_data"
    }
   ],
   "source": [
    "fig1 = plt.figure(figsize=(8, 8))\n",
    "ax1 = fig1.add_subplot(2, 1, 1)\n",
    "ax1.plot(results['precision'], label='Training precision')\n",
    "ax1.plot(results['val_precision'], label='Validation precision')\n",
    "ax1.legend(loc='lower right')\n",
    "ax1.set_ylabel('Precision')\n",
    "ax1.set_ylim([0, 1])\n",
    "ax1.set_title('Training and Validation precision')\n",
    "\n",
    "ax2 = fig1.add_subplot(2, 1, 2)\n",
    "ax2.plot(results['recall'], label='Training recall')\n",
    "ax2.plot(results['val_recall'], label='Validation recall')\n",
    "ax2.legend(loc='upper right')\n",
    "ax2.set_ylabel('Recall')\n",
    "ax2.set_ylim([0,max(ax2.get_ylim())])\n",
    "ax2.set_title('Training and Validation recall')\n",
    "ax2.set_xlabel('Round')"
   ]
  },
  {
   "cell_type": "code",
   "execution_count": 81,
   "id": "a10258fb",
   "metadata": {},
   "outputs": [
    {
     "data": {
      "text/plain": [
       "[0.80922693,\n",
       " 0.78678304,\n",
       " 0.765586,\n",
       " 0.7394015,\n",
       " 0.7082294,\n",
       " 0.67581046,\n",
       " 0.6521197,\n",
       " 0.6109726,\n",
       " 0.584788,\n",
       " 0.5660848,\n",
       " 0.53241897,\n",
       " 0.5087282,\n",
       " 0.48004988,\n",
       " 0.45012468,\n",
       " 0.4189526,\n",
       " 0.3915212,\n",
       " 0.35162094,\n",
       " 0.32793018,\n",
       " 0.3054863,\n",
       " 0.28054863,\n",
       " 0.26309228,\n",
       " 0.23940149,\n",
       " 0.21820448,\n",
       " 0.19201995,\n",
       " 0.16957606,\n",
       " 0.15336658,\n",
       " 0.14214464,\n",
       " 0.12593517,\n",
       " 0.10723192,\n",
       " 0.09600998,\n",
       " 0.08603492,\n",
       " 0.07855362,\n",
       " 0.06982543,\n",
       " 0.0648379,\n",
       " 0.061097257,\n",
       " 0.056109726,\n",
       " 0.051122196,\n",
       " 0.04488778,\n",
       " 0.04114713,\n",
       " 0.033665836,\n",
       " 0.027431421,\n",
       " 0.023690773,\n",
       " 0.02244389,\n",
       " 0.018703243,\n",
       " 0.017456358,\n",
       " 0.016209476,\n",
       " 0.016209476,\n",
       " 0.016209476,\n",
       " 0.014962593,\n",
       " 0.011221945]"
      ]
     },
     "execution_count": 81,
     "metadata": {},
     "output_type": "execute_result"
    }
   ],
   "source": [
    "results['val_recall']"
   ]
  },
  {
   "cell_type": "code",
   "execution_count": 80,
   "id": "1182c9a1",
   "metadata": {},
   "outputs": [
    {
     "data": {
      "text/plain": [
       "[0.07481599,\n",
       " 0.07493021,\n",
       " 0.07488725,\n",
       " 0.0749056,\n",
       " 0.07473213,\n",
       " 0.074855015,\n",
       " 0.074808456,\n",
       " 0.07496859,\n",
       " 0.07500529,\n",
       " 0.07516418,\n",
       " 0.075191215,\n",
       " 0.075094886,\n",
       " 0.07531058,\n",
       " 0.07570082,\n",
       " 0.07578474,\n",
       " 0.07582528,\n",
       " 0.07614253,\n",
       " 0.0759919,\n",
       " 0.076443024,\n",
       " 0.076046735,\n",
       " 0.07696756,\n",
       " 0.07706756,\n",
       " 0.07693732,\n",
       " 0.07671251,\n",
       " 0.077076316,\n",
       " 0.077258445,\n",
       " 0.07721546,\n",
       " 0.07741428,\n",
       " 0.07825868,\n",
       " 0.078426,\n",
       " 0.07724203,\n",
       " 0.078297764,\n",
       " 0.07818068,\n",
       " 0.07794374,\n",
       " 0.07772574,\n",
       " 0.07742678,\n",
       " 0.07683464,\n",
       " 0.07733609,\n",
       " 0.07743658,\n",
       " 0.07675624,\n",
       " 0.076103896,\n",
       " 0.07615848,\n",
       " 0.07703882,\n",
       " 0.07565737,\n",
       " 0.075069346,\n",
       " 0.07610322,\n",
       " 0.07492969,\n",
       " 0.07412168,\n",
       " 0.07470602,\n",
       " 0.072578646]"
      ]
     },
     "execution_count": 80,
     "metadata": {},
     "output_type": "execute_result"
    }
   ],
   "source": [
    "results['val_precision']"
   ]
  },
  {
   "cell_type": "markdown",
   "id": "52d792be",
   "metadata": {},
   "source": [
    "# Individual model(s)"
   ]
  },
  {
   "cell_type": "code",
   "execution_count": 82,
   "id": "5462d120",
   "metadata": {
    "scrolled": false
   },
   "outputs": [
    {
     "name": "stdout",
     "output_type": "stream",
     "text": [
      "round:  1, loss: 0.4406229555606842, test_accuracy: [0.5972], training_recall : 0.04606727138161659, training_precision = 0.07560349255800247, training_f1 = 0.05725034221506501, val_precision = 0.08125648647546768, val_recall = 0.390274316072464, val_f1 = 0.13450794744111155\n",
      "round:  2, loss: 0.43840131163597107, test_accuracy: [0.5972, 0.6163], training_recall : 0.044036220759153366, training_precision = 0.0763622522354126, training_f1 = 0.055859593764948534, val_precision = 0.07975629717111588, val_recall = 0.3591022491455078, val_f1 = 0.13052344925510584\n",
      "round:  3, loss: 0.43621402978897095, test_accuracy: [0.5972, 0.6163, 0.6328], training_recall : 0.04137128219008446, training_precision = 0.0758700892329216, training_f1 = 0.05354497002707826, val_precision = 0.07917888462543488, val_recall = 0.3366583585739136, val_f1 = 0.1282051291239518\n",
      "round:  4, loss: 0.43406394124031067, test_accuracy: [0.5972, 0.6163, 0.6328, 0.6522], training_recall : 0.039404917508363724, training_precision = 0.07621096819639206, training_f1 = 0.05194938013373372, val_precision = 0.08030112832784653, val_recall = 0.3192020058631897, val_f1 = 0.12832079743375302\n",
      "round:  5, loss: 0.43194663524627686, test_accuracy: [0.5972, 0.6163, 0.6328, 0.6522, 0.6685], training_recall : 0.037076324224472046, training_precision = 0.07601315528154373, training_f1 = 0.04984174113932544, val_precision = 0.07593654841184616, val_recall = 0.280548632144928, val_f1 = 0.11952190281648246\n",
      "round:  6, loss: 0.4298676550388336, test_accuracy: [0.5972, 0.6163, 0.6328, 0.6522, 0.6685, 0.6873], training_recall : 0.03504527732729912, training_precision = 0.07579106092453003, training_f1 = 0.04792866065545493, val_precision = 0.07803992927074432, val_recall = 0.2680797874927521, val_f1 = 0.12088840048734915\n",
      "round:  7, loss: 0.4278113543987274, test_accuracy: [0.5972, 0.6163, 0.6328, 0.6522, 0.6685, 0.6873, 0.7047], training_recall : 0.033169470727443695, training_precision = 0.07609211653470993, training_f1 = 0.046199862739741755, val_precision = 0.07773851603269577, val_recall = 0.24688279628753662, val_f1 = 0.11824425218343217\n",
      "round:  8, loss: 0.42579540610313416, test_accuracy: [0.5972, 0.6163, 0.6328, 0.6522, 0.6685, 0.6873, 0.7047, 0.7198], training_recall : 0.0312548503279686, training_precision = 0.07591277360916138, training_f1 = 0.04427908716023831, val_precision = 0.07805906981229782, val_recall = 0.23067331314086914, val_f1 = 0.11664564296567156\n",
      "round:  9, loss: 0.4238072633743286, test_accuracy: [0.5972, 0.6163, 0.6328, 0.6522, 0.6685, 0.6873, 0.7047, 0.7198, 0.7308], training_recall : 0.02952134609222412, training_precision = 0.07589463889598846, training_f1 = 0.04250800904309613, val_precision = 0.07432432472705841, val_recall = 0.20573565363883972, val_f1 = 0.10919920063882492\n",
      "round: 10, loss: 0.42185211181640625, test_accuracy: [0.5972, 0.6163, 0.6328, 0.6522, 0.6685, 0.6873, 0.7047, 0.7198, 0.7308, 0.7425], training_recall : 0.02783958613872528, training_precision = 0.07590293139219284, training_f1 = 0.040737515247860095, val_precision = 0.0727710872888565, val_recall = 0.18827930092811584, val_f1 = 0.10497045573223182\n",
      "round: 11, loss: 0.4199243485927582, test_accuracy: [0.5972, 0.6163, 0.6328, 0.6522, 0.6685, 0.6873, 0.7047, 0.7198, 0.7308, 0.7425, 0.7556], training_recall : 0.02626132033765316, training_precision = 0.07590487599372864, training_f1 = 0.03902195366787201, val_precision = 0.07417012751102448, val_recall = 0.17830424010753632, val_f1 = 0.10476191045316642\n",
      "round: 12, loss: 0.41802978515625, test_accuracy: [0.5972, 0.6163, 0.6328, 0.6522, 0.6685, 0.6873, 0.7047, 0.7198, 0.7308, 0.7425, 0.7556, 0.7669], training_recall : 0.024721862748265266, training_precision = 0.07551568746566772, training_f1 = 0.037249284692577246, val_precision = 0.07361963391304016, val_recall = 0.16458852589130402, val_f1 = 0.10173410702032713\n",
      "round: 13, loss: 0.41616135835647583, test_accuracy: [0.5972, 0.6163, 0.6328, 0.6522, 0.6685, 0.6873, 0.7047, 0.7198, 0.7308, 0.7425, 0.7556, 0.7669, 0.7776], training_recall : 0.023454075679183006, training_precision = 0.0759626254439354, training_f1 = 0.03584172619384862, val_precision = 0.07374100387096405, val_recall = 0.1533665806055069, val_f1 = 0.09959513958857634\n",
      "round: 14, loss: 0.4143231511116028, test_accuracy: [0.5972, 0.6163, 0.6328, 0.6522, 0.6685, 0.6873, 0.7047, 0.7198, 0.7308, 0.7425, 0.7556, 0.7669, 0.7776, 0.788], training_recall : 0.022069858387112617, training_precision = 0.07573807239532471, training_f1 = 0.03417981708783919, val_precision = 0.07647814601659775, val_recall = 0.14837905764579773, val_f1 = 0.10093298589150156\n",
      "round: 15, loss: 0.4125121831893921, test_accuracy: [0.5972, 0.6163, 0.6328, 0.6522, 0.6685, 0.6873, 0.7047, 0.7198, 0.7308, 0.7425, 0.7556, 0.7669, 0.7776, 0.788, 0.7953], training_recall : 0.020827943459153175, training_precision = 0.07572194188833237, training_f1 = 0.03266979357352501, val_precision = 0.07508532702922821, val_recall = 0.1371571123600006, val_f1 = 0.09704455742817227\n",
      "round: 16, loss: 0.410727322101593, test_accuracy: [0.5972, 0.6163, 0.6328, 0.6522, 0.6685, 0.6873, 0.7047, 0.7198, 0.7308, 0.7425, 0.7556, 0.7669, 0.7776, 0.788, 0.7953, 0.8041], training_recall : 0.0196119025349617, training_precision = 0.07539662718772888, training_f1 = 0.031127127920237953, val_precision = 0.07431935518980026, val_recall = 0.1259351670742035, val_f1 = 0.09347524163890761\n",
      "round: 17, loss: 0.4089691638946533, test_accuracy: [0.5972, 0.6163, 0.6328, 0.6522, 0.6685, 0.6873, 0.7047, 0.7198, 0.7308, 0.7425, 0.7556, 0.7669, 0.7776, 0.788, 0.7953, 0.8041, 0.8121], training_recall : 0.018525226041674614, training_precision = 0.0753287747502327, training_f1 = 0.029737305399094742, val_precision = 0.07565011829137802, val_recall = 0.11970074474811554, val_f1 = 0.09270883502644668\n",
      "round: 18, loss: 0.4072396159172058, test_accuracy: [0.5972, 0.6163, 0.6328, 0.6522, 0.6685, 0.6873, 0.7047, 0.7198, 0.7308, 0.7425, 0.7556, 0.7669, 0.7776, 0.788, 0.7953, 0.8041, 0.8121, 0.8181], training_recall : 0.017425615340471268, training_precision = 0.07506687194108963, training_f1 = 0.02828524630235928, val_precision = 0.07518796622753143, val_recall = 0.11221945285797119, val_f1 = 0.09004502095502166\n",
      "round: 19, loss: 0.40553462505340576, test_accuracy: [0.5972, 0.6163, 0.6328, 0.6522, 0.6685, 0.6873, 0.7047, 0.7198, 0.7308, 0.7425, 0.7556, 0.7669, 0.7776, 0.788, 0.7953, 0.8041, 0.8121, 0.8181, 0.8227], training_recall : 0.016507115215063095, training_precision = 0.07514280825853348, training_f1 = 0.027068022641005104, val_precision = 0.07224669307470322, val_recall = 0.10224439203739166, val_f1 = 0.08466701097652601\n",
      "round: 20, loss: 0.40385493636131287, test_accuracy: [0.5972, 0.6163, 0.6328, 0.6522, 0.6685, 0.6873, 0.7047, 0.7198, 0.7308, 0.7425, 0.7556, 0.7669, 0.7776, 0.788, 0.7953, 0.8041, 0.8121, 0.8181, 0.8227, 0.8271], training_recall : 0.015575679019093513, training_precision = 0.0751044824719429, training_f1 = 0.025800645351591114, val_precision = 0.06641720980405807, val_recall = 0.08852867782115936, val_f1 = 0.07589524508085117\n",
      "round: 21, loss: 0.4021990895271301, test_accuracy: [0.5972, 0.6163, 0.6328, 0.6522, 0.6685, 0.6873, 0.7047, 0.7198, 0.7308, 0.7425, 0.7556, 0.7669, 0.7776, 0.788, 0.7953, 0.8041, 0.8121, 0.8181, 0.8227, 0.8271, 0.8335], training_recall : 0.014644242823123932, training_precision = 0.07453252375125885, training_f1 = 0.024478849835280054, val_precision = 0.06545820832252502, val_recall = 0.08104737848043442, val_f1 = 0.07242339391958195\n",
      "round: 22, loss: 0.4005677402019501, test_accuracy: [0.5972, 0.6163, 0.6328, 0.6522, 0.6685, 0.6873, 0.7047, 0.7198, 0.7308, 0.7425, 0.7556, 0.7669, 0.7776, 0.788, 0.7953, 0.8041, 0.8121, 0.8181, 0.8227, 0.8271, 0.8335, 0.8392], training_recall : 0.01391979306936264, training_precision = 0.07499825954437256, training_f1 = 0.023481400875571323, val_precision = 0.06573276221752167, val_recall = 0.07605984807014465, val_f1 = 0.07052023500292837\n",
      "round: 23, loss: 0.3989599943161011, test_accuracy: [0.5972, 0.6163, 0.6328, 0.6522, 0.6685, 0.6873, 0.7047, 0.7198, 0.7308, 0.7425, 0.7556, 0.7669, 0.7776, 0.788, 0.7953, 0.8041, 0.8121, 0.8181, 0.8227, 0.8271, 0.8335, 0.8392, 0.8443], training_recall : 0.013065977022051811, training_precision = 0.07431935518980026, training_f1 = 0.02222466773913919, val_precision = 0.06857142597436905, val_recall = 0.07481297105550766, val_f1 = 0.07155635039372861\n"
     ]
    },
    {
     "name": "stdout",
     "output_type": "stream",
     "text": [
      "round: 24, loss: 0.3973742723464966, test_accuracy: [0.5972, 0.6163, 0.6328, 0.6522, 0.6685, 0.6873, 0.7047, 0.7198, 0.7308, 0.7425, 0.7556, 0.7669, 0.7776, 0.788, 0.7953, 0.8041, 0.8121, 0.8181, 0.8227, 0.8271, 0.8335, 0.8392, 0.8443, 0.8486], training_recall : 0.012341526336967945, training_precision = 0.07427014410495758, training_f1 = 0.02116589801332012, val_precision = 0.0690072625875473, val_recall = 0.07107231765985489, val_f1 = 0.07002456736189312\n",
      "round: 25, loss: 0.3958137333393097, test_accuracy: [0.5972, 0.6163, 0.6328, 0.6522, 0.6685, 0.6873, 0.7047, 0.7198, 0.7308, 0.7425, 0.7556, 0.7669, 0.7776, 0.788, 0.7953, 0.8041, 0.8121, 0.8181, 0.8227, 0.8271, 0.8335, 0.8392, 0.8443, 0.8486, 0.8522], training_recall : 0.011720568872988224, training_precision = 0.07422579079866409, training_f1 = 0.02024445273405415, val_precision = 0.0677749365568161, val_recall = 0.06608478724956512, val_f1 = 0.06691919248141025\n",
      "round: 26, loss: 0.3942762017250061, test_accuracy: [0.5972, 0.6163, 0.6328, 0.6522, 0.6685, 0.6873, 0.7047, 0.7198, 0.7308, 0.7425, 0.7556, 0.7669, 0.7776, 0.788, 0.7953, 0.8041, 0.8121, 0.8181, 0.8227, 0.8271, 0.8335, 0.8392, 0.8443, 0.8486, 0.8522, 0.8567], training_recall : 0.011047865264117718, training_precision = 0.07401629537343979, training_f1 = 0.019226007276967796, val_precision = 0.06602475792169571, val_recall = 0.05985037237405777, val_f1 = 0.06278613307365387\n",
      "round: 27, loss: 0.3927590847015381, test_accuracy: [0.5972, 0.6163, 0.6328, 0.6522, 0.6685, 0.6873, 0.7047, 0.7198, 0.7308, 0.7425, 0.7556, 0.7669, 0.7776, 0.788, 0.7953, 0.8041, 0.8121, 0.8181, 0.8227, 0.8271, 0.8335, 0.8392, 0.8443, 0.8486, 0.8522, 0.8567, 0.8594], training_recall : 0.010452781803905964, training_precision = 0.07388442009687424, training_f1 = 0.018314520487037116, val_precision = 0.06484150141477585, val_recall = 0.056109726428985596, val_f1 = 0.060160429022190064\n",
      "round: 28, loss: 0.3912636637687683, test_accuracy: [0.5972, 0.6163, 0.6328, 0.6522, 0.6685, 0.6873, 0.7047, 0.7198, 0.7308, 0.7425, 0.7556, 0.7669, 0.7776, 0.788, 0.7953, 0.8041, 0.8121, 0.8181, 0.8227, 0.8271, 0.8335, 0.8392, 0.8443, 0.8486, 0.8522, 0.8567, 0.8594, 0.8622], training_recall : 0.009857697412371635, training_precision = 0.07345994561910629, training_f1 = 0.017382774337693786, val_precision = 0.062310028821229935, val_recall = 0.05112219601869583, val_f1 = 0.056164380434948244\n",
      "round: 29, loss: 0.389788955450058, test_accuracy: [0.5972, 0.6163, 0.6328, 0.6522, 0.6685, 0.6873, 0.7047, 0.7198, 0.7308, 0.7425, 0.7556, 0.7669, 0.7776, 0.788, 0.7953, 0.8041, 0.8121, 0.8181, 0.8227, 0.8271, 0.8335, 0.8392, 0.8443, 0.8486, 0.8522, 0.8567, 0.8594, 0.8622, 0.866], training_recall : 0.00944372545927763, training_precision = 0.0741267278790474, training_f1 = 0.01675310951073031, val_precision = 0.061889249831438065, val_recall = 0.04738154634833336, val_f1 = 0.05367231614341612\n",
      "round: 30, loss: 0.38833728432655334, test_accuracy: [0.5972, 0.6163, 0.6328, 0.6522, 0.6685, 0.6873, 0.7047, 0.7198, 0.7308, 0.7425, 0.7556, 0.7669, 0.7776, 0.788, 0.7953, 0.8041, 0.8121, 0.8181, 0.8227, 0.8271, 0.8335, 0.8392, 0.8443, 0.8486, 0.8522, 0.8567, 0.8594, 0.8622, 0.866, 0.8689], training_recall : 0.008978007361292839, training_precision = 0.07443157583475113, training_f1 = 0.016023271902882035, val_precision = 0.06044904887676239, val_recall = 0.043640896677970886, val_f1 = 0.05068790407735724\n",
      "round: 31, loss: 0.38690611720085144, test_accuracy: [0.5972, 0.6163, 0.6328, 0.6522, 0.6685, 0.6873, 0.7047, 0.7198, 0.7308, 0.7425, 0.7556, 0.7669, 0.7776, 0.788, 0.7953, 0.8041, 0.8121, 0.8181, 0.8227, 0.8271, 0.8335, 0.8392, 0.8443, 0.8486, 0.8522, 0.8567, 0.8594, 0.8622, 0.866, 0.8689, 0.872], training_recall : 0.00843467004597187, training_precision = 0.07394805550575256, training_f1 = 0.015142190552021113, val_precision = 0.060661762952804565, val_recall = 0.041147131472826004, val_f1 = 0.049034173845945106\n",
      "round: 32, loss: 0.38549256324768066, test_accuracy: [0.5972, 0.6163, 0.6328, 0.6522, 0.6685, 0.6873, 0.7047, 0.7198, 0.7308, 0.7425, 0.7556, 0.7669, 0.7776, 0.788, 0.7953, 0.8041, 0.8121, 0.8181, 0.8227, 0.8271, 0.8335, 0.8392, 0.8443, 0.8486, 0.8522, 0.8567, 0.8594, 0.8622, 0.866, 0.8689, 0.872, 0.8746], training_recall : 0.008098318241536617, training_precision = 0.07470167428255081, training_f1 = 0.014612511401953725, val_precision = 0.06031128391623497, val_recall = 0.03865336626768112, val_f1 = 0.04711246151981396\n",
      "round: 33, loss: 0.38409924507141113, test_accuracy: [0.5972, 0.6163, 0.6328, 0.6522, 0.6685, 0.6873, 0.7047, 0.7198, 0.7308, 0.7425, 0.7556, 0.7669, 0.7776, 0.788, 0.7953, 0.8041, 0.8121, 0.8181, 0.8227, 0.8271, 0.8335, 0.8392, 0.8443, 0.8486, 0.8522, 0.8567, 0.8594, 0.8622, 0.866, 0.8689, 0.872, 0.8746, 0.8773], training_recall : 0.007697283290326595, training_precision = 0.07470182329416275, training_f1 = 0.013956488997027963, val_precision = 0.06185567006468773, val_recall = 0.03740648552775383, val_f1 = 0.04662004706839231\n",
      "round: 34, loss: 0.38272809982299805, test_accuracy: [0.5972, 0.6163, 0.6328, 0.6522, 0.6685, 0.6873, 0.7047, 0.7198, 0.7308, 0.7425, 0.7556, 0.7669, 0.7776, 0.788, 0.7953, 0.8041, 0.8121, 0.8181, 0.8227, 0.8271, 0.8335, 0.8392, 0.8443, 0.8486, 0.8522, 0.8567, 0.8594, 0.8622, 0.866, 0.8689, 0.872, 0.8746, 0.8773, 0.8795], training_recall : 0.007322121411561966, training_precision = 0.07478858530521393, training_f1 = 0.013338360931217512, val_precision = 0.06290672719478607, val_recall = 0.03615960106253624, val_f1 = 0.045922403733385235\n",
      "round: 35, loss: 0.3813741207122803, test_accuracy: [0.5972, 0.6163, 0.6328, 0.6522, 0.6685, 0.6873, 0.7047, 0.7198, 0.7308, 0.7425, 0.7556, 0.7669, 0.7776, 0.788, 0.7953, 0.8041, 0.8121, 0.8181, 0.8227, 0.8271, 0.8335, 0.8392, 0.8443, 0.8486, 0.8522, 0.8567, 0.8594, 0.8622, 0.866, 0.8689, 0.872, 0.8746, 0.8773, 0.8795, 0.882], training_recall : 0.006934023462235928, training_precision = 0.07448582351207733, training_f1 = 0.012686991780828437, val_precision = 0.060465116053819656, val_recall = 0.03241895139217377, val_f1 = 0.04220779207757505\n",
      "round: 36, loss: 0.3800385594367981, test_accuracy: [0.5972, 0.6163, 0.6328, 0.6522, 0.6685, 0.6873, 0.7047, 0.7198, 0.7308, 0.7425, 0.7556, 0.7669, 0.7776, 0.788, 0.7953, 0.8041, 0.8121, 0.8181, 0.8227, 0.8271, 0.8335, 0.8392, 0.8443, 0.8486, 0.8522, 0.8567, 0.8594, 0.8622, 0.866, 0.8689, 0.872, 0.8746, 0.8773, 0.8795, 0.882, 0.8837], training_recall : 0.006507114972919226, training_precision = 0.0736025720834732, training_f1 = 0.011957116065964543, val_precision = 0.05867970734834671, val_recall = 0.029925186187028885, val_f1 = 0.03963666121694387\n",
      "round: 37, loss: 0.3787221610546112, test_accuracy: [0.5972, 0.6163, 0.6328, 0.6522, 0.6685, 0.6873, 0.7047, 0.7198, 0.7308, 0.7425, 0.7556, 0.7669, 0.7776, 0.788, 0.7953, 0.8041, 0.8121, 0.8181, 0.8227, 0.8271, 0.8335, 0.8392, 0.8443, 0.8486, 0.8522, 0.8567, 0.8594, 0.8622, 0.866, 0.8689, 0.872, 0.8746, 0.8773, 0.8795, 0.882, 0.8837, 0.8863], training_recall : 0.0061966367065906525, training_precision = 0.07376039773225784, training_f1 = 0.011432799733442717, val_precision = 0.05570291727781296, val_recall = 0.02618453837931156, val_f1 = 0.03562341139110823\n",
      "round: 38, loss: 0.3774224519729614, test_accuracy: [0.5972, 0.6163, 0.6328, 0.6522, 0.6685, 0.6873, 0.7047, 0.7198, 0.7308, 0.7425, 0.7556, 0.7669, 0.7776, 0.788, 0.7953, 0.8041, 0.8121, 0.8181, 0.8227, 0.8271, 0.8335, 0.8392, 0.8443, 0.8486, 0.8522, 0.8567, 0.8594, 0.8622, 0.866, 0.8689, 0.872, 0.8746, 0.8773, 0.8795, 0.882, 0.8837, 0.8863, 0.8877], training_recall : 0.005886157974600792, training_precision = 0.07375587522983551, training_f1 = 0.010902250914295909, val_precision = 0.05292478948831558, val_recall = 0.02369077317416668, val_f1 = 0.032730404820810556\n",
      "round: 39, loss: 0.3761431574821472, test_accuracy: [0.5972, 0.6163, 0.6328, 0.6522, 0.6685, 0.6873, 0.7047, 0.7198, 0.7308, 0.7425, 0.7556, 0.7669, 0.7776, 0.788, 0.7953, 0.8041, 0.8121, 0.8181, 0.8227, 0.8271, 0.8335, 0.8392, 0.8443, 0.8486, 0.8522, 0.8567, 0.8594, 0.8622, 0.866, 0.8689, 0.872, 0.8746, 0.8773, 0.8795, 0.882, 0.8837, 0.8863, 0.8877, 0.889], training_recall : 0.005575679242610931, training_precision = 0.0732743963599205, training_f1 = 0.010362819156912574, val_precision = 0.049707602709531784, val_recall = 0.021197007969021797, val_f1 = 0.02972028068472791\n"
     ]
    },
    {
     "name": "stdout",
     "output_type": "stream",
     "text": [
      "round: 40, loss: 0.37487930059432983, test_accuracy: [0.5972, 0.6163, 0.6328, 0.6522, 0.6685, 0.6873, 0.7047, 0.7198, 0.7308, 0.7425, 0.7556, 0.7669, 0.7776, 0.788, 0.7953, 0.8041, 0.8121, 0.8181, 0.8227, 0.8271, 0.8335, 0.8392, 0.8443, 0.8486, 0.8522, 0.8567, 0.8594, 0.8622, 0.866, 0.8689, 0.872, 0.8746, 0.8773, 0.8795, 0.882, 0.8837, 0.8863, 0.8877, 0.889, 0.8908], training_recall : 0.005381629802286625, training_precision = 0.07423269003629684, training_f1 = 0.01003570365563995, val_precision = 0.04968944191932678, val_recall = 0.019950125366449356, val_f1 = 0.028469752662497284\n",
      "round: 41, loss: 0.373636394739151, test_accuracy: [0.5972, 0.6163, 0.6328, 0.6522, 0.6685, 0.6873, 0.7047, 0.7198, 0.7308, 0.7425, 0.7556, 0.7669, 0.7776, 0.788, 0.7953, 0.8041, 0.8121, 0.8181, 0.8227, 0.8271, 0.8335, 0.8392, 0.8443, 0.8486, 0.8522, 0.8567, 0.8594, 0.8622, 0.866, 0.8689, 0.872, 0.8746, 0.8773, 0.8795, 0.882, 0.8837, 0.8863, 0.8877, 0.889, 0.8908, 0.8932], training_recall : 0.005187580827623606, training_precision = 0.07534761726856232, training_f1 = 0.009706858244618428, val_precision = 0.05067567527294159, val_recall = 0.018703242763876915, val_f1 = 0.02732240504093641\n",
      "round: 42, loss: 0.3724072277545929, test_accuracy: [0.5972, 0.6163, 0.6328, 0.6522, 0.6685, 0.6873, 0.7047, 0.7198, 0.7308, 0.7425, 0.7556, 0.7669, 0.7776, 0.788, 0.7953, 0.8041, 0.8121, 0.8181, 0.8227, 0.8271, 0.8335, 0.8392, 0.8443, 0.8486, 0.8522, 0.8567, 0.8594, 0.8622, 0.866, 0.8689, 0.872, 0.8746, 0.8773, 0.8795, 0.882, 0.8837, 0.8863, 0.8877, 0.889, 0.8908, 0.8932, 0.8946], training_recall : 0.00495472177863121, training_precision = 0.07546798139810562, training_f1 = 0.009298937835737351, val_precision = 0.04676258936524391, val_recall = 0.016209475696086884, val_f1 = 0.024074071417449758\n",
      "round: 43, loss: 0.371196448802948, test_accuracy: [0.5972, 0.6163, 0.6328, 0.6522, 0.6685, 0.6873, 0.7047, 0.7198, 0.7308, 0.7425, 0.7556, 0.7669, 0.7776, 0.788, 0.7953, 0.8041, 0.8121, 0.8181, 0.8227, 0.8271, 0.8335, 0.8392, 0.8443, 0.8486, 0.8522, 0.8567, 0.8594, 0.8622, 0.866, 0.8689, 0.872, 0.8746, 0.8773, 0.8795, 0.882, 0.8837, 0.8863, 0.8877, 0.889, 0.8908, 0.8932, 0.8946, 0.8966], training_recall : 0.004721862729638815, training_precision = 0.07561632245779037, training_f1 = 0.008888671918653107, val_precision = 0.04330708831548691, val_recall = 0.013715710490942001, val_f1 = 0.02083333265281417\n",
      "round: 44, loss: 0.37000060081481934, test_accuracy: [0.5972, 0.6163, 0.6328, 0.6522, 0.6685, 0.6873, 0.7047, 0.7198, 0.7308, 0.7425, 0.7556, 0.7669, 0.7776, 0.788, 0.7953, 0.8041, 0.8121, 0.8181, 0.8227, 0.8271, 0.8335, 0.8392, 0.8443, 0.8486, 0.8522, 0.8567, 0.8594, 0.8622, 0.866, 0.8689, 0.872, 0.8746, 0.8773, 0.8795, 0.882, 0.8837, 0.8863, 0.8877, 0.889, 0.8908, 0.8932, 0.8946, 0.8966, 0.8984], training_recall : 0.004540750291198492, training_precision = 0.07613883167505264, training_f1 = 0.008570382402944787, val_precision = 0.04661016911268234, val_recall = 0.013715710490942001, val_f1 = 0.021194605061689475\n",
      "round: 45, loss: 0.36882326006889343, test_accuracy: [0.5972, 0.6163, 0.6328, 0.6522, 0.6685, 0.6873, 0.7047, 0.7198, 0.7308, 0.7425, 0.7556, 0.7669, 0.7776, 0.788, 0.7953, 0.8041, 0.8121, 0.8181, 0.8227, 0.8271, 0.8335, 0.8392, 0.8443, 0.8486, 0.8522, 0.8567, 0.8594, 0.8622, 0.866, 0.8689, 0.872, 0.8746, 0.8773, 0.8795, 0.882, 0.8837, 0.8863, 0.8877, 0.889, 0.8908, 0.8932, 0.8946, 0.8966, 0.8984, 0.9], training_recall : 0.0042949547059834, training_precision = 0.07554038614034653, training_f1 = 0.008127792643438114, val_precision = 0.0458715595304966, val_recall = 0.01246882788836956, val_f1 = 0.019607844350175485\n",
      "round: 46, loss: 0.3676598072052002, test_accuracy: [0.5972, 0.6163, 0.6328, 0.6522, 0.6685, 0.6873, 0.7047, 0.7198, 0.7308, 0.7425, 0.7556, 0.7669, 0.7776, 0.788, 0.7953, 0.8041, 0.8121, 0.8181, 0.8227, 0.8271, 0.8335, 0.8392, 0.8443, 0.8486, 0.8522, 0.8567, 0.8594, 0.8622, 0.866, 0.8689, 0.872, 0.8746, 0.8773, 0.8795, 0.882, 0.8837, 0.8863, 0.8877, 0.889, 0.8908, 0.8932, 0.8946, 0.8966, 0.8984, 0.9, 0.9022], training_recall : 0.004126778803765774, training_precision = 0.07627929002046585, training_f1 = 0.00782995012124812, val_precision = 0.04639175161719322, val_recall = 0.01122194528579712, val_f1 = 0.018072289692212223\n",
      "round: 47, loss: 0.3665127456188202, test_accuracy: [0.5972, 0.6163, 0.6328, 0.6522, 0.6685, 0.6873, 0.7047, 0.7198, 0.7308, 0.7425, 0.7556, 0.7669, 0.7776, 0.788, 0.7953, 0.8041, 0.8121, 0.8181, 0.8227, 0.8271, 0.8335, 0.8392, 0.8443, 0.8486, 0.8522, 0.8567, 0.8594, 0.8622, 0.866, 0.8689, 0.872, 0.8746, 0.8773, 0.8795, 0.882, 0.8837, 0.8863, 0.8877, 0.889, 0.8908, 0.8932, 0.8946, 0.8966, 0.8984, 0.9, 0.9022, 0.9038], training_recall : 0.0039715394377708435, training_precision = 0.07696164399385452, training_f1 = 0.007553297305735571, val_precision = 0.05056179687380791, val_recall = 0.01122194528579712, val_f1 = 0.018367346531164674\n",
      "round: 48, loss: 0.3653813302516937, test_accuracy: [0.5972, 0.6163, 0.6328, 0.6522, 0.6685, 0.6873, 0.7047, 0.7198, 0.7308, 0.7425, 0.7556, 0.7669, 0.7776, 0.788, 0.7953, 0.8041, 0.8121, 0.8181, 0.8227, 0.8271, 0.8335, 0.8392, 0.8443, 0.8486, 0.8522, 0.8567, 0.8594, 0.8622, 0.866, 0.8689, 0.872, 0.8746, 0.8773, 0.8795, 0.882, 0.8837, 0.8863, 0.8877, 0.889, 0.8908, 0.8932, 0.8946, 0.8966, 0.8984, 0.9, 0.9022, 0.9038, 0.9045], training_recall : 0.0037645536940544844, training_precision = 0.07651853561401367, training_f1 = 0.007176059836308842, val_precision = 0.05263157933950424, val_recall = 0.01122194528579712, val_f1 = 0.018499486597571255\n",
      "round: 49, loss: 0.36426541209220886, test_accuracy: [0.5972, 0.6163, 0.6328, 0.6522, 0.6685, 0.6873, 0.7047, 0.7198, 0.7308, 0.7425, 0.7556, 0.7669, 0.7776, 0.788, 0.7953, 0.8041, 0.8121, 0.8181, 0.8227, 0.8271, 0.8335, 0.8392, 0.8443, 0.8486, 0.8522, 0.8567, 0.8594, 0.8622, 0.866, 0.8689, 0.872, 0.8746, 0.8773, 0.8795, 0.882, 0.8837, 0.8863, 0.8877, 0.889, 0.8908, 0.8932, 0.8946, 0.8966, 0.8984, 0.9, 0.9022, 0.9038, 0.9045, 0.9056], training_recall : 0.003661060705780983, training_precision = 0.07809051126241684, training_f1 = 0.006994217110533506, val_precision = 0.05624999850988388, val_recall = 0.01122194528579712, val_f1 = 0.01871101967594497\n",
      "round: 50, loss: 0.363163024187088, test_accuracy: [0.5972, 0.6163, 0.6328, 0.6522, 0.6685, 0.6873, 0.7047, 0.7198, 0.7308, 0.7425, 0.7556, 0.7669, 0.7776, 0.788, 0.7953, 0.8041, 0.8121, 0.8181, 0.8227, 0.8271, 0.8335, 0.8392, 0.8443, 0.8486, 0.8522, 0.8567, 0.8594, 0.8622, 0.866, 0.8689, 0.872, 0.8746, 0.8773, 0.8795, 0.882, 0.8837, 0.8863, 0.8877, 0.889, 0.8908, 0.8932, 0.8946, 0.8966, 0.8984, 0.9, 0.9022, 0.9038, 0.9045, 0.9056, 0.9072], training_recall : 0.0034282018896192312, training_precision = 0.07699012011289597, training_f1 = 0.006564117891226661, val_precision = 0.0625, val_recall = 0.01122194528579712, val_f1 = 0.019027484357427623\n"
     ]
    }
   ],
   "source": [
    "%%time\n",
    "train_data1 = tff.simulation.datasets.ClientData.from_clients_and_tf_fn(\n",
    "        client_ids=[1], \n",
    "        serializable_dataset_fn=create_tf_dataset_for_client_fn)\n",
    "\n",
    "federated_train_data1 = make_federated_data(train_data1, [1])\n",
    "\n",
    "iterative_process1 = tff.learning.build_federated_averaging_process(\n",
    "    model_fn,\n",
    "    client_optimizer_fn=lambda: tf.keras.optimizers.SGD(learning_rate=0.01),\n",
    "    server_optimizer_fn=lambda: tf.keras.optimizers.SGD(learning_rate=0.01))\n",
    "\n",
    "results1 = training_loop(federated_train_data1, federated_test_data, iterative_process1, 50)"
   ]
  },
  {
   "cell_type": "code",
   "execution_count": 83,
   "id": "d0ced558",
   "metadata": {},
   "outputs": [
    {
     "data": {
      "text/plain": [
       "Text(0.5, 0, 'Round')"
      ]
     },
     "execution_count": 83,
     "metadata": {},
     "output_type": "execute_result"
    },
    {
     "data": {
      "image/png": "[encoded data removed]",
      "text/plain": [
       "<Figure size 576x576 with 2 Axes>"
      ]
     },
     "metadata": {
      "needs_background": "light"
     },
     "output_type": "display_data"
    }
   ],
   "source": [
    "fig1 = plt.figure(figsize=(8, 8))\n",
    "ax1 = fig1.add_subplot(2, 1, 1)\n",
    "ax1.plot(results1['accuracy'], label='Training Accuracy')\n",
    "ax1.plot(results1['val_accuracy'], label='Validation Accuracy')\n",
    "ax1.legend(loc='lower right')\n",
    "ax1.set_ylabel('Accuracy')\n",
    "ax1.set_ylim([0, 1])\n",
    "ax1.set_title('Training and Validation AUC')\n",
    "\n",
    "ax2 = fig1.add_subplot(2, 1, 2)\n",
    "ax2.plot(results1['loss'], label='Training Loss')\n",
    "ax2.plot(results1['val_loss'], label='Validation Loss')\n",
    "ax2.legend(loc='upper right')\n",
    "ax2.set_ylabel('Cross Entropy')\n",
    "ax2.set_ylim([0,max(ax2.get_ylim())])\n",
    "ax2.set_title('Training and Validation Loss')\n",
    "ax2.set_xlabel('Round')\n",
    "\n",
    "# plt.savefig('./figures/DELIRIUM_normalized_TFF_accuracy_loss_10_rounds.png')"
   ]
  },
  {
   "cell_type": "code",
   "execution_count": 84,
   "id": "44a30722",
   "metadata": {},
   "outputs": [
    {
     "data": {
      "text/plain": [
       "Text(0.5, 0, 'Round')"
      ]
     },
     "execution_count": 84,
     "metadata": {},
     "output_type": "execute_result"
    },
    {
     "data": {
      "image/png": "[encoded data removed]",
      "text/plain": [
       "<Figure size 576x576 with 2 Axes>"
      ]
     },
     "metadata": {
      "needs_background": "light"
     },
     "output_type": "display_data"
    }
   ],
   "source": [
    "fig1 = plt.figure(figsize=(8, 8))\n",
    "ax1 = fig1.add_subplot(2, 1, 1)\n",
    "ax1.plot(results1['precision'], label='Training precision')\n",
    "ax1.plot(results1['val_precision'], label='Validation precision')\n",
    "ax1.legend(loc='lower right')\n",
    "ax1.set_ylabel('Precision')\n",
    "ax1.set_ylim([0, 1])\n",
    "ax1.set_title('Training and Validation precision')\n",
    "\n",
    "ax2 = fig1.add_subplot(2, 1, 2)\n",
    "ax2.plot(results1['recall'], label='Training recall')\n",
    "ax2.plot(results1['val_recall'], label='Validation recall')\n",
    "ax2.legend(loc='upper right')\n",
    "ax2.set_ylabel('Recall')\n",
    "ax2.set_ylim([0,max(ax2.get_ylim())])\n",
    "ax2.set_title('Training and Validation recall')\n",
    "ax2.set_xlabel('Round')"
   ]
  },
  {
   "cell_type": "code",
   "execution_count": null,
   "id": "3d184510",
   "metadata": {},
   "outputs": [],
   "source": []
  }
 ],
 "metadata": {
  "kernelspec": {
   "display_name": "Python 3 (ipykernel)",
   "language": "python",
   "name": "python3"
  },
  "language_info": {
   "codemirror_mode": {
    "name": "ipython",
    "version": 3
   },
   "file_extension": ".py",
   "mimetype": "text/x-python",
   "name": "python",
   "nbconvert_exporter": "python",
   "pygments_lexer": "ipython3",
   "version": "3.8.0"
  }
 },
 "nbformat": 4,
 "nbformat_minor": 5
}
