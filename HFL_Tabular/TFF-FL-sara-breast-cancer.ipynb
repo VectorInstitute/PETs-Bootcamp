{
 "cells": [
  {
   "cell_type": "markdown",
   "metadata": {},
   "source": [
    "# Federated learning for tabular data - Breast Cancer Dataset\n",
    "\n",
    "References:\n",
    "- https://www.tensorflow.org/federated/tutorials/federated_learning_for_image_classification\n",
    "- https://stackoverflow.com/questions/58965488/how-to-create-federated-dataset-from-a-csv-file\n",
    "- https://www.youtube.com/watch?v=JBNas6Yd30A&ab_channel=GoogleTechTalks \n"
   ]
  },
  {
   "cell_type": "markdown",
   "metadata": {},
   "source": [
    "To make sure that your environment is correctly setup, run the following. \n",
    "If you don't see a greeting, refer to the [Installation](https://www.tensorflow.org/federated/install) guide for instructions."
   ]
  },
  {
   "cell_type": "code",
   "execution_count": 1,
   "metadata": {},
   "outputs": [],
   "source": [
    "import nest_asyncio\n",
    "nest_asyncio.apply()"
   ]
  },
  {
   "cell_type": "code",
   "execution_count": 2,
   "metadata": {},
   "outputs": [
    {
     "data": {
      "text/plain": [
       "b'Hello, World!'"
      ]
     },
     "execution_count": 2,
     "metadata": {},
     "output_type": "execute_result"
    }
   ],
   "source": [
    "# !pip install nest_asyncio\n",
    "import nest_asyncio\n",
    "nest_asyncio.apply()\n",
    "import collections\n",
    "import numpy as np\n",
    "import tensorflow as tf\n",
    "import tensorflow_federated as tff\n",
    "from tensorflow import reshape, nest, config\n",
    "from tensorflow.keras.datasets import mnist\n",
    "import pandas as pd\n",
    "from random import sample\n",
    "from matplotlib import pyplot as plt\n",
    "from sklearn import preprocessing\n",
    "np.random.seed(0)\n",
    "\n",
    "tff.federated_computation(lambda: 'Hello, World!')()"
   ]
  },
  {
   "cell_type": "markdown",
   "metadata": {},
   "source": [
    "#### Loading and Preparing the tabular input data"
   ]
  },
  {
   "cell_type": "markdown",
   "metadata": {},
   "source": [
    "Federated learning requires a federated data set, i.e., a collection of data from multiple users. \n",
    "The TFF has a few federated datasets, but in this notebook, we will be converting a tabular dataset to a federated one. "
   ]
  },
  {
   "cell_type": "code",
   "execution_count": 3,
   "metadata": {
    "tags": []
   },
   "outputs": [
    {
     "data": {
      "text/html": [
       "<div>\n",
       "<style scoped>\n",
       "    .dataframe tbody tr th:only-of-type {\n",
       "        vertical-align: middle;\n",
       "    }\n",
       "\n",
       "    .dataframe tbody tr th {\n",
       "        vertical-align: top;\n",
       "    }\n",
       "\n",
       "    .dataframe thead th {\n",
       "        text-align: right;\n",
       "    }\n",
       "</style>\n",
       "<table border=\"1\" class=\"dataframe\">\n",
       "  <thead>\n",
       "    <tr style=\"text-align: right;\">\n",
       "      <th></th>\n",
       "      <th>id</th>\n",
       "      <th>diagnosis</th>\n",
       "      <th>radius_mean</th>\n",
       "      <th>texture_mean</th>\n",
       "      <th>perimeter_mean</th>\n",
       "      <th>area_mean</th>\n",
       "      <th>smoothness_mean</th>\n",
       "      <th>compactness_mean</th>\n",
       "      <th>concavity_mean</th>\n",
       "      <th>concave points_mean</th>\n",
       "      <th>...</th>\n",
       "      <th>texture_worst</th>\n",
       "      <th>perimeter_worst</th>\n",
       "      <th>area_worst</th>\n",
       "      <th>smoothness_worst</th>\n",
       "      <th>compactness_worst</th>\n",
       "      <th>concavity_worst</th>\n",
       "      <th>concave points_worst</th>\n",
       "      <th>symmetry_worst</th>\n",
       "      <th>fractal_dimension_worst</th>\n",
       "      <th>Unnamed: 32</th>\n",
       "    </tr>\n",
       "  </thead>\n",
       "  <tbody>\n",
       "    <tr>\n",
       "      <th>0</th>\n",
       "      <td>842302</td>\n",
       "      <td>M</td>\n",
       "      <td>17.99</td>\n",
       "      <td>10.38</td>\n",
       "      <td>122.80</td>\n",
       "      <td>1001.0</td>\n",
       "      <td>0.11840</td>\n",
       "      <td>0.27760</td>\n",
       "      <td>0.30010</td>\n",
       "      <td>0.14710</td>\n",
       "      <td>...</td>\n",
       "      <td>17.33</td>\n",
       "      <td>184.60</td>\n",
       "      <td>2019.0</td>\n",
       "      <td>0.16220</td>\n",
       "      <td>0.66560</td>\n",
       "      <td>0.7119</td>\n",
       "      <td>0.2654</td>\n",
       "      <td>0.4601</td>\n",
       "      <td>0.11890</td>\n",
       "      <td>NaN</td>\n",
       "    </tr>\n",
       "    <tr>\n",
       "      <th>1</th>\n",
       "      <td>842517</td>\n",
       "      <td>M</td>\n",
       "      <td>20.57</td>\n",
       "      <td>17.77</td>\n",
       "      <td>132.90</td>\n",
       "      <td>1326.0</td>\n",
       "      <td>0.08474</td>\n",
       "      <td>0.07864</td>\n",
       "      <td>0.08690</td>\n",
       "      <td>0.07017</td>\n",
       "      <td>...</td>\n",
       "      <td>23.41</td>\n",
       "      <td>158.80</td>\n",
       "      <td>1956.0</td>\n",
       "      <td>0.12380</td>\n",
       "      <td>0.18660</td>\n",
       "      <td>0.2416</td>\n",
       "      <td>0.1860</td>\n",
       "      <td>0.2750</td>\n",
       "      <td>0.08902</td>\n",
       "      <td>NaN</td>\n",
       "    </tr>\n",
       "    <tr>\n",
       "      <th>2</th>\n",
       "      <td>84300903</td>\n",
       "      <td>M</td>\n",
       "      <td>19.69</td>\n",
       "      <td>21.25</td>\n",
       "      <td>130.00</td>\n",
       "      <td>1203.0</td>\n",
       "      <td>0.10960</td>\n",
       "      <td>0.15990</td>\n",
       "      <td>0.19740</td>\n",
       "      <td>0.12790</td>\n",
       "      <td>...</td>\n",
       "      <td>25.53</td>\n",
       "      <td>152.50</td>\n",
       "      <td>1709.0</td>\n",
       "      <td>0.14440</td>\n",
       "      <td>0.42450</td>\n",
       "      <td>0.4504</td>\n",
       "      <td>0.2430</td>\n",
       "      <td>0.3613</td>\n",
       "      <td>0.08758</td>\n",
       "      <td>NaN</td>\n",
       "    </tr>\n",
       "    <tr>\n",
       "      <th>3</th>\n",
       "      <td>84348301</td>\n",
       "      <td>M</td>\n",
       "      <td>11.42</td>\n",
       "      <td>20.38</td>\n",
       "      <td>77.58</td>\n",
       "      <td>386.1</td>\n",
       "      <td>0.14250</td>\n",
       "      <td>0.28390</td>\n",
       "      <td>0.24140</td>\n",
       "      <td>0.10520</td>\n",
       "      <td>...</td>\n",
       "      <td>26.50</td>\n",
       "      <td>98.87</td>\n",
       "      <td>567.7</td>\n",
       "      <td>0.20980</td>\n",
       "      <td>0.86630</td>\n",
       "      <td>0.6869</td>\n",
       "      <td>0.2575</td>\n",
       "      <td>0.6638</td>\n",
       "      <td>0.17300</td>\n",
       "      <td>NaN</td>\n",
       "    </tr>\n",
       "    <tr>\n",
       "      <th>4</th>\n",
       "      <td>84358402</td>\n",
       "      <td>M</td>\n",
       "      <td>20.29</td>\n",
       "      <td>14.34</td>\n",
       "      <td>135.10</td>\n",
       "      <td>1297.0</td>\n",
       "      <td>0.10030</td>\n",
       "      <td>0.13280</td>\n",
       "      <td>0.19800</td>\n",
       "      <td>0.10430</td>\n",
       "      <td>...</td>\n",
       "      <td>16.67</td>\n",
       "      <td>152.20</td>\n",
       "      <td>1575.0</td>\n",
       "      <td>0.13740</td>\n",
       "      <td>0.20500</td>\n",
       "      <td>0.4000</td>\n",
       "      <td>0.1625</td>\n",
       "      <td>0.2364</td>\n",
       "      <td>0.07678</td>\n",
       "      <td>NaN</td>\n",
       "    </tr>\n",
       "    <tr>\n",
       "      <th>...</th>\n",
       "      <td>...</td>\n",
       "      <td>...</td>\n",
       "      <td>...</td>\n",
       "      <td>...</td>\n",
       "      <td>...</td>\n",
       "      <td>...</td>\n",
       "      <td>...</td>\n",
       "      <td>...</td>\n",
       "      <td>...</td>\n",
       "      <td>...</td>\n",
       "      <td>...</td>\n",
       "      <td>...</td>\n",
       "      <td>...</td>\n",
       "      <td>...</td>\n",
       "      <td>...</td>\n",
       "      <td>...</td>\n",
       "      <td>...</td>\n",
       "      <td>...</td>\n",
       "      <td>...</td>\n",
       "      <td>...</td>\n",
       "      <td>...</td>\n",
       "    </tr>\n",
       "    <tr>\n",
       "      <th>564</th>\n",
       "      <td>926424</td>\n",
       "      <td>M</td>\n",
       "      <td>21.56</td>\n",
       "      <td>22.39</td>\n",
       "      <td>142.00</td>\n",
       "      <td>1479.0</td>\n",
       "      <td>0.11100</td>\n",
       "      <td>0.11590</td>\n",
       "      <td>0.24390</td>\n",
       "      <td>0.13890</td>\n",
       "      <td>...</td>\n",
       "      <td>26.40</td>\n",
       "      <td>166.10</td>\n",
       "      <td>2027.0</td>\n",
       "      <td>0.14100</td>\n",
       "      <td>0.21130</td>\n",
       "      <td>0.4107</td>\n",
       "      <td>0.2216</td>\n",
       "      <td>0.2060</td>\n",
       "      <td>0.07115</td>\n",
       "      <td>NaN</td>\n",
       "    </tr>\n",
       "    <tr>\n",
       "      <th>565</th>\n",
       "      <td>926682</td>\n",
       "      <td>M</td>\n",
       "      <td>20.13</td>\n",
       "      <td>28.25</td>\n",
       "      <td>131.20</td>\n",
       "      <td>1261.0</td>\n",
       "      <td>0.09780</td>\n",
       "      <td>0.10340</td>\n",
       "      <td>0.14400</td>\n",
       "      <td>0.09791</td>\n",
       "      <td>...</td>\n",
       "      <td>38.25</td>\n",
       "      <td>155.00</td>\n",
       "      <td>1731.0</td>\n",
       "      <td>0.11660</td>\n",
       "      <td>0.19220</td>\n",
       "      <td>0.3215</td>\n",
       "      <td>0.1628</td>\n",
       "      <td>0.2572</td>\n",
       "      <td>0.06637</td>\n",
       "      <td>NaN</td>\n",
       "    </tr>\n",
       "    <tr>\n",
       "      <th>566</th>\n",
       "      <td>926954</td>\n",
       "      <td>M</td>\n",
       "      <td>16.60</td>\n",
       "      <td>28.08</td>\n",
       "      <td>108.30</td>\n",
       "      <td>858.1</td>\n",
       "      <td>0.08455</td>\n",
       "      <td>0.10230</td>\n",
       "      <td>0.09251</td>\n",
       "      <td>0.05302</td>\n",
       "      <td>...</td>\n",
       "      <td>34.12</td>\n",
       "      <td>126.70</td>\n",
       "      <td>1124.0</td>\n",
       "      <td>0.11390</td>\n",
       "      <td>0.30940</td>\n",
       "      <td>0.3403</td>\n",
       "      <td>0.1418</td>\n",
       "      <td>0.2218</td>\n",
       "      <td>0.07820</td>\n",
       "      <td>NaN</td>\n",
       "    </tr>\n",
       "    <tr>\n",
       "      <th>567</th>\n",
       "      <td>927241</td>\n",
       "      <td>M</td>\n",
       "      <td>20.60</td>\n",
       "      <td>29.33</td>\n",
       "      <td>140.10</td>\n",
       "      <td>1265.0</td>\n",
       "      <td>0.11780</td>\n",
       "      <td>0.27700</td>\n",
       "      <td>0.35140</td>\n",
       "      <td>0.15200</td>\n",
       "      <td>...</td>\n",
       "      <td>39.42</td>\n",
       "      <td>184.60</td>\n",
       "      <td>1821.0</td>\n",
       "      <td>0.16500</td>\n",
       "      <td>0.86810</td>\n",
       "      <td>0.9387</td>\n",
       "      <td>0.2650</td>\n",
       "      <td>0.4087</td>\n",
       "      <td>0.12400</td>\n",
       "      <td>NaN</td>\n",
       "    </tr>\n",
       "    <tr>\n",
       "      <th>568</th>\n",
       "      <td>92751</td>\n",
       "      <td>B</td>\n",
       "      <td>7.76</td>\n",
       "      <td>24.54</td>\n",
       "      <td>47.92</td>\n",
       "      <td>181.0</td>\n",
       "      <td>0.05263</td>\n",
       "      <td>0.04362</td>\n",
       "      <td>0.00000</td>\n",
       "      <td>0.00000</td>\n",
       "      <td>...</td>\n",
       "      <td>30.37</td>\n",
       "      <td>59.16</td>\n",
       "      <td>268.6</td>\n",
       "      <td>0.08996</td>\n",
       "      <td>0.06444</td>\n",
       "      <td>0.0000</td>\n",
       "      <td>0.0000</td>\n",
       "      <td>0.2871</td>\n",
       "      <td>0.07039</td>\n",
       "      <td>NaN</td>\n",
       "    </tr>\n",
       "  </tbody>\n",
       "</table>\n",
       "<p>569 rows × 33 columns</p>\n",
       "</div>"
      ],
      "text/plain": [
       "           id diagnosis  radius_mean  texture_mean  perimeter_mean  area_mean  \\\n",
       "0      842302         M        17.99         10.38          122.80     1001.0   \n",
       "1      842517         M        20.57         17.77          132.90     1326.0   \n",
       "2    84300903         M        19.69         21.25          130.00     1203.0   \n",
       "3    84348301         M        11.42         20.38           77.58      386.1   \n",
       "4    84358402         M        20.29         14.34          135.10     1297.0   \n",
       "..        ...       ...          ...           ...             ...        ...   \n",
       "564    926424         M        21.56         22.39          142.00     1479.0   \n",
       "565    926682         M        20.13         28.25          131.20     1261.0   \n",
       "566    926954         M        16.60         28.08          108.30      858.1   \n",
       "567    927241         M        20.60         29.33          140.10     1265.0   \n",
       "568     92751         B         7.76         24.54           47.92      181.0   \n",
       "\n",
       "     smoothness_mean  compactness_mean  concavity_mean  concave points_mean  \\\n",
       "0            0.11840           0.27760         0.30010              0.14710   \n",
       "1            0.08474           0.07864         0.08690              0.07017   \n",
       "2            0.10960           0.15990         0.19740              0.12790   \n",
       "3            0.14250           0.28390         0.24140              0.10520   \n",
       "4            0.10030           0.13280         0.19800              0.10430   \n",
       "..               ...               ...             ...                  ...   \n",
       "564          0.11100           0.11590         0.24390              0.13890   \n",
       "565          0.09780           0.10340         0.14400              0.09791   \n",
       "566          0.08455           0.10230         0.09251              0.05302   \n",
       "567          0.11780           0.27700         0.35140              0.15200   \n",
       "568          0.05263           0.04362         0.00000              0.00000   \n",
       "\n",
       "     ...  texture_worst  perimeter_worst  area_worst  smoothness_worst  \\\n",
       "0    ...          17.33           184.60      2019.0           0.16220   \n",
       "1    ...          23.41           158.80      1956.0           0.12380   \n",
       "2    ...          25.53           152.50      1709.0           0.14440   \n",
       "3    ...          26.50            98.87       567.7           0.20980   \n",
       "4    ...          16.67           152.20      1575.0           0.13740   \n",
       "..   ...            ...              ...         ...               ...   \n",
       "564  ...          26.40           166.10      2027.0           0.14100   \n",
       "565  ...          38.25           155.00      1731.0           0.11660   \n",
       "566  ...          34.12           126.70      1124.0           0.11390   \n",
       "567  ...          39.42           184.60      1821.0           0.16500   \n",
       "568  ...          30.37            59.16       268.6           0.08996   \n",
       "\n",
       "     compactness_worst  concavity_worst  concave points_worst  symmetry_worst  \\\n",
       "0              0.66560           0.7119                0.2654          0.4601   \n",
       "1              0.18660           0.2416                0.1860          0.2750   \n",
       "2              0.42450           0.4504                0.2430          0.3613   \n",
       "3              0.86630           0.6869                0.2575          0.6638   \n",
       "4              0.20500           0.4000                0.1625          0.2364   \n",
       "..                 ...              ...                   ...             ...   \n",
       "564            0.21130           0.4107                0.2216          0.2060   \n",
       "565            0.19220           0.3215                0.1628          0.2572   \n",
       "566            0.30940           0.3403                0.1418          0.2218   \n",
       "567            0.86810           0.9387                0.2650          0.4087   \n",
       "568            0.06444           0.0000                0.0000          0.2871   \n",
       "\n",
       "     fractal_dimension_worst  Unnamed: 32  \n",
       "0                    0.11890          NaN  \n",
       "1                    0.08902          NaN  \n",
       "2                    0.08758          NaN  \n",
       "3                    0.17300          NaN  \n",
       "4                    0.07678          NaN  \n",
       "..                       ...          ...  \n",
       "564                  0.07115          NaN  \n",
       "565                  0.06637          NaN  \n",
       "566                  0.07820          NaN  \n",
       "567                  0.12400          NaN  \n",
       "568                  0.07039          NaN  \n",
       "\n",
       "[569 rows x 33 columns]"
      ]
     },
     "execution_count": 3,
     "metadata": {},
     "output_type": "execute_result"
    }
   ],
   "source": [
    "data = pd.read_csv('./breast_cancer_data.csv')\n",
    "# print(data.head(5))\n",
    "# print(data.columns)\n",
    "# print(len(data.columns))\n",
    "data\n"
   ]
  },
  {
   "cell_type": "code",
   "execution_count": 4,
   "metadata": {},
   "outputs": [
    {
     "name": "stdout",
     "output_type": "stream",
     "text": [
      "(569, 31)\n"
     ]
    },
    {
     "data": {
      "text/plain": [
       "RangeIndex(start=0, stop=30, step=1)"
      ]
     },
     "execution_count": 4,
     "metadata": {},
     "output_type": "execute_result"
    }
   ],
   "source": [
    "del data['Unnamed: 32']\n",
    "del data['id']\n",
    "print(data.shape)\n",
    "data['diagnosis'] = data['diagnosis'].str.replace('M','1')\n",
    "data['diagnosis'] = data['diagnosis'].str.replace('B','0')\n",
    "data[\"diagnosis\"] = pd.to_numeric(data[\"diagnosis\"])\n",
    "\n",
    "new = data.copy()\n",
    "del new['diagnosis']\n",
    "x = new.values #returns a numpy array\n",
    "min_max_scaler = preprocessing.MinMaxScaler()\n",
    "x_scaled = min_max_scaler.fit_transform(x)\n",
    "df = pd.DataFrame(x_scaled)\n",
    "df.columns"
   ]
  },
  {
   "cell_type": "code",
   "execution_count": 5,
   "metadata": {
    "scrolled": true
   },
   "outputs": [
    {
     "name": "stdout",
     "output_type": "stream",
     "text": [
      "     diagnosis  radius_mean  texture_mean  perimeter_mean  area_mean  \\\n",
      "0            1        17.99         10.38          122.80     1001.0   \n",
      "1            1        20.57         17.77          132.90     1326.0   \n",
      "2            1        19.69         21.25          130.00     1203.0   \n",
      "3            1        11.42         20.38           77.58      386.1   \n",
      "4            1        20.29         14.34          135.10     1297.0   \n",
      "..         ...          ...           ...             ...        ...   \n",
      "564          1        21.56         22.39          142.00     1479.0   \n",
      "565          1        20.13         28.25          131.20     1261.0   \n",
      "566          1        16.60         28.08          108.30      858.1   \n",
      "567          1        20.60         29.33          140.10     1265.0   \n",
      "568          0         7.76         24.54           47.92      181.0   \n",
      "\n",
      "     smoothness_mean  compactness_mean  concavity_mean  concave points_mean  \\\n",
      "0            0.11840           0.27760         0.30010              0.14710   \n",
      "1            0.08474           0.07864         0.08690              0.07017   \n",
      "2            0.10960           0.15990         0.19740              0.12790   \n",
      "3            0.14250           0.28390         0.24140              0.10520   \n",
      "4            0.10030           0.13280         0.19800              0.10430   \n",
      "..               ...               ...             ...                  ...   \n",
      "564          0.11100           0.11590         0.24390              0.13890   \n",
      "565          0.09780           0.10340         0.14400              0.09791   \n",
      "566          0.08455           0.10230         0.09251              0.05302   \n",
      "567          0.11780           0.27700         0.35140              0.15200   \n",
      "568          0.05263           0.04362         0.00000              0.00000   \n",
      "\n",
      "     symmetry_mean  ...  texture_worst  perimeter_worst  area_worst  \\\n",
      "0           0.2419  ...          17.33           184.60      2019.0   \n",
      "1           0.1812  ...          23.41           158.80      1956.0   \n",
      "2           0.2069  ...          25.53           152.50      1709.0   \n",
      "3           0.2597  ...          26.50            98.87       567.7   \n",
      "4           0.1809  ...          16.67           152.20      1575.0   \n",
      "..             ...  ...            ...              ...         ...   \n",
      "564         0.1726  ...          26.40           166.10      2027.0   \n",
      "565         0.1752  ...          38.25           155.00      1731.0   \n",
      "566         0.1590  ...          34.12           126.70      1124.0   \n",
      "567         0.2397  ...          39.42           184.60      1821.0   \n",
      "568         0.1587  ...          30.37            59.16       268.6   \n",
      "\n",
      "     smoothness_worst  compactness_worst  concavity_worst  \\\n",
      "0             0.16220            0.66560           0.7119   \n",
      "1             0.12380            0.18660           0.2416   \n",
      "2             0.14440            0.42450           0.4504   \n",
      "3             0.20980            0.86630           0.6869   \n",
      "4             0.13740            0.20500           0.4000   \n",
      "..                ...                ...              ...   \n",
      "564           0.14100            0.21130           0.4107   \n",
      "565           0.11660            0.19220           0.3215   \n",
      "566           0.11390            0.30940           0.3403   \n",
      "567           0.16500            0.86810           0.9387   \n",
      "568           0.08996            0.06444           0.0000   \n",
      "\n",
      "     concave points_worst  symmetry_worst  fractal_dimension_worst  \\\n",
      "0                  0.2654          0.4601                  0.11890   \n",
      "1                  0.1860          0.2750                  0.08902   \n",
      "2                  0.2430          0.3613                  0.08758   \n",
      "3                  0.2575          0.6638                  0.17300   \n",
      "4                  0.1625          0.2364                  0.07678   \n",
      "..                    ...             ...                      ...   \n",
      "564                0.2216          0.2060                  0.07115   \n",
      "565                0.1628          0.2572                  0.06637   \n",
      "566                0.1418          0.2218                  0.07820   \n",
      "567                0.2650          0.4087                  0.12400   \n",
      "568                0.0000          0.2871                  0.07039   \n",
      "\n",
      "                                              features  \n",
      "0    [0.5210374366983765, 0.022658099425092948, 0.5...  \n",
      "1    [0.6431444933503716, 0.27257355427798435, 0.61...  \n",
      "2    [0.6014955748024045, 0.3902603990530943, 0.595...  \n",
      "3    [0.21009039708457572, 0.3608386878593167, 0.23...  \n",
      "4    [0.6298925647214728, 0.1565776124450456, 0.630...  \n",
      "..                                                 ...  \n",
      "564  [0.6899995267168346, 0.42881298613459584, 0.67...  \n",
      "565  [0.6223200340763879, 0.626986810957051, 0.6040...  \n",
      "566  [0.45525107671920123, 0.6212377409536691, 0.44...  \n",
      "567  [0.644564342846325, 0.6635103145079471, 0.6655...  \n",
      "568  [0.03686875857825733, 0.5015218126479539, 0.02...  \n",
      "\n",
      "[569 rows x 32 columns]\n"
     ]
    }
   ],
   "source": [
    "new = df.copy()\n",
    "data['features']= new.values.tolist()\n",
    "print(data)"
   ]
  },
  {
   "cell_type": "markdown",
   "metadata": {},
   "source": [
    "### To simulate FL, we'll make a new column for \"hospital_id\" --> id: 1, 2, 3, 4"
   ]
  },
  {
   "cell_type": "code",
   "execution_count": 6,
   "metadata": {},
   "outputs": [],
   "source": [
    "data['hospital_id'] = np.random.randint(1,5, size=len(data))"
   ]
  },
  {
   "cell_type": "code",
   "execution_count": 7,
   "metadata": {},
   "outputs": [],
   "source": [
    "data = data[['diagnosis', 'hospital_id', 'features']]"
   ]
  },
  {
   "cell_type": "code",
   "execution_count": 8,
   "metadata": {},
   "outputs": [
    {
     "data": {
      "text/html": [
       "<div>\n",
       "<style scoped>\n",
       "    .dataframe tbody tr th:only-of-type {\n",
       "        vertical-align: middle;\n",
       "    }\n",
       "\n",
       "    .dataframe tbody tr th {\n",
       "        vertical-align: top;\n",
       "    }\n",
       "\n",
       "    .dataframe thead th {\n",
       "        text-align: right;\n",
       "    }\n",
       "</style>\n",
       "<table border=\"1\" class=\"dataframe\">\n",
       "  <thead>\n",
       "    <tr style=\"text-align: right;\">\n",
       "      <th></th>\n",
       "      <th>diagnosis</th>\n",
       "      <th>hospital_id</th>\n",
       "      <th>features</th>\n",
       "    </tr>\n",
       "  </thead>\n",
       "  <tbody>\n",
       "    <tr>\n",
       "      <th>0</th>\n",
       "      <td>1</td>\n",
       "      <td>1</td>\n",
       "      <td>[0.5210374366983765, 0.022658099425092948, 0.5...</td>\n",
       "    </tr>\n",
       "    <tr>\n",
       "      <th>1</th>\n",
       "      <td>1</td>\n",
       "      <td>4</td>\n",
       "      <td>[0.6431444933503716, 0.27257355427798435, 0.61...</td>\n",
       "    </tr>\n",
       "    <tr>\n",
       "      <th>2</th>\n",
       "      <td>1</td>\n",
       "      <td>2</td>\n",
       "      <td>[0.6014955748024045, 0.3902603990530943, 0.595...</td>\n",
       "    </tr>\n",
       "    <tr>\n",
       "      <th>3</th>\n",
       "      <td>1</td>\n",
       "      <td>1</td>\n",
       "      <td>[0.21009039708457572, 0.3608386878593167, 0.23...</td>\n",
       "    </tr>\n",
       "    <tr>\n",
       "      <th>4</th>\n",
       "      <td>1</td>\n",
       "      <td>4</td>\n",
       "      <td>[0.6298925647214728, 0.1565776124450456, 0.630...</td>\n",
       "    </tr>\n",
       "    <tr>\n",
       "      <th>...</th>\n",
       "      <td>...</td>\n",
       "      <td>...</td>\n",
       "      <td>...</td>\n",
       "    </tr>\n",
       "    <tr>\n",
       "      <th>564</th>\n",
       "      <td>1</td>\n",
       "      <td>2</td>\n",
       "      <td>[0.6899995267168346, 0.42881298613459584, 0.67...</td>\n",
       "    </tr>\n",
       "    <tr>\n",
       "      <th>565</th>\n",
       "      <td>1</td>\n",
       "      <td>4</td>\n",
       "      <td>[0.6223200340763879, 0.626986810957051, 0.6040...</td>\n",
       "    </tr>\n",
       "    <tr>\n",
       "      <th>566</th>\n",
       "      <td>1</td>\n",
       "      <td>4</td>\n",
       "      <td>[0.45525107671920123, 0.6212377409536691, 0.44...</td>\n",
       "    </tr>\n",
       "    <tr>\n",
       "      <th>567</th>\n",
       "      <td>1</td>\n",
       "      <td>2</td>\n",
       "      <td>[0.644564342846325, 0.6635103145079471, 0.6655...</td>\n",
       "    </tr>\n",
       "    <tr>\n",
       "      <th>568</th>\n",
       "      <td>0</td>\n",
       "      <td>2</td>\n",
       "      <td>[0.03686875857825733, 0.5015218126479539, 0.02...</td>\n",
       "    </tr>\n",
       "  </tbody>\n",
       "</table>\n",
       "<p>569 rows × 3 columns</p>\n",
       "</div>"
      ],
      "text/plain": [
       "     diagnosis  hospital_id                                           features\n",
       "0            1            1  [0.5210374366983765, 0.022658099425092948, 0.5...\n",
       "1            1            4  [0.6431444933503716, 0.27257355427798435, 0.61...\n",
       "2            1            2  [0.6014955748024045, 0.3902603990530943, 0.595...\n",
       "3            1            1  [0.21009039708457572, 0.3608386878593167, 0.23...\n",
       "4            1            4  [0.6298925647214728, 0.1565776124450456, 0.630...\n",
       "..         ...          ...                                                ...\n",
       "564          1            2  [0.6899995267168346, 0.42881298613459584, 0.67...\n",
       "565          1            4  [0.6223200340763879, 0.626986810957051, 0.6040...\n",
       "566          1            4  [0.45525107671920123, 0.6212377409536691, 0.44...\n",
       "567          1            2  [0.644564342846325, 0.6635103145079471, 0.6655...\n",
       "568          0            2  [0.03686875857825733, 0.5015218126479539, 0.02...\n",
       "\n",
       "[569 rows x 3 columns]"
      ]
     },
     "execution_count": 8,
     "metadata": {},
     "output_type": "execute_result"
    }
   ],
   "source": [
    "data"
   ]
  },
  {
   "cell_type": "markdown",
   "metadata": {},
   "source": [
    "For this tutorial, we have 4 hospitals. We will train on 3 clients."
   ]
  },
  {
   "cell_type": "code",
   "execution_count": 9,
   "metadata": {},
   "outputs": [],
   "source": [
    "client_id_colname = 'hospital_id' #column that represents client ID \n",
    "number_of_training_clients = 3\n",
    "\n",
    "# split client_id into train and test clients\n",
    "client_ids = data[client_id_colname].unique()\n",
    "train_client_ids = sample(client_ids.tolist(), number_of_training_clients)\n",
    "test_client_ids = [x for x in client_ids if x not in train_client_ids]"
   ]
  },
  {
   "cell_type": "code",
   "execution_count": 10,
   "metadata": {},
   "outputs": [
    {
     "data": {
      "text/plain": [
       "[3, 4, 2]"
      ]
     },
     "execution_count": 10,
     "metadata": {},
     "output_type": "execute_result"
    }
   ],
   "source": [
    "train_client_ids\n",
    "# test_client_ids"
   ]
  },
  {
   "cell_type": "markdown",
   "metadata": {},
   "source": [
    "The function `tff.simulation.ClientData.from_clients_and_fn`, requires that we write a function that accepts a `client_id` as input and returns a `tf.data.Dataset`. Let's do that in the helper function below: "
   ]
  },
  {
   "cell_type": "code",
   "execution_count": 11,
   "metadata": {},
   "outputs": [],
   "source": [
    "SHUFFLE_BUFFER = 1000\n",
    "NUM_EPOCHS = 10\n",
    "def create_tf_dataset_for_client_fn(client_id):\n",
    "    client_data = data[data[client_id_colname] == client_id]\n",
    "    dataset = tf.data.Dataset.from_tensor_slices(client_data.to_dict('list'))\n",
    "    dataset = dataset.shuffle(SHUFFLE_BUFFER).batch(1).repeat(NUM_EPOCHS)\n",
    "    return dataset\n"
   ]
  },
  {
   "cell_type": "code",
   "execution_count": 12,
   "metadata": {},
   "outputs": [],
   "source": [
    "train_data = tff.simulation.datasets.ClientData.from_clients_and_fn(\n",
    "        client_ids=train_client_ids,\n",
    "        create_tf_dataset_for_client_fn=create_tf_dataset_for_client_fn\n",
    "    )\n",
    "test_data = tff.simulation.datasets.ClientData.from_clients_and_fn(\n",
    "        client_ids=test_client_ids,\n",
    "        create_tf_dataset_for_client_fn=create_tf_dataset_for_client_fn\n",
    "    )"
   ]
  },
  {
   "cell_type": "markdown",
   "metadata": {},
   "source": [
    "### Example dataset \n",
    "\n",
    "Each element of example_dataset is a Python dictionary where the keys are strings representing feature names, and the values are tensors with one batch of those features. Now, you have a federated dataset that can be preprocessed and used for modeling."
   ]
  },
  {
   "cell_type": "code",
   "execution_count": 13,
   "metadata": {},
   "outputs": [
    {
     "name": "stdout",
     "output_type": "stream",
     "text": [
      "<RepeatDataset shapes: {diagnosis: (None,), hospital_id: (None,), features: (None, 30)}, types: {diagnosis: tf.int32, hospital_id: tf.int32, features: tf.float32}>\n",
      "{'diagnosis': <tf.Tensor: shape=(1,), dtype=int32, numpy=array([1], dtype=int32)>, 'hospital_id': <tf.Tensor: shape=(1,), dtype=int32, numpy=array([2], dtype=int32)>, 'features': <tf.Tensor: shape=(1, 30), dtype=float32, numpy=\n",
      "array([[0.5948696 , 0.6445722 , 0.62062055, 0.45111346, 0.36083776,\n",
      "        0.57333905, 0.41799438, 0.5685885 , 0.42070708, 0.26032013,\n",
      "        0.2647474 , 0.18537836, 0.30160674, 0.1860261 , 0.1578339 ,\n",
      "        0.34095892, 0.0975505 , 0.2877439 , 0.1615073 , 0.15053274,\n",
      "        0.6090359 , 0.64632195, 0.6384282 , 0.42784113, 0.3759493 ,\n",
      "        0.49054536, 0.33953673, 0.6670103 , 0.24699388, 0.29817656]],\n",
      "      dtype=float32)>}\n"
     ]
    }
   ],
   "source": [
    "example_dataset = train_data.create_tf_dataset_for_client(\n",
    "        train_data.client_ids[2]\n",
    "    )\n",
    "print(example_dataset)\n",
    "example_element = iter(example_dataset).next()\n",
    "print(example_element)"
   ]
  },
  {
   "cell_type": "markdown",
   "metadata": {},
   "source": [
    "### Exploring heterogeneity in federated data\n"
   ]
  },
  {
   "cell_type": "code",
   "execution_count": 14,
   "metadata": {},
   "outputs": [
    {
     "data": {
      "image/png": "[encoded data removed]",
      "text/plain": [
       "<Figure size 864x504 with 3 Axes>"
      ]
     },
     "metadata": {
      "needs_background": "light"
     },
     "output_type": "display_data"
    }
   ],
   "source": [
    "# Number of examples per layer for a sample of clients\n",
    "f = plt.figure(figsize=(12, 7))\n",
    "f.suptitle('Label Counts for a Sample of Clients')\n",
    "for i in [0,1,2]:\n",
    "    client_dataset = train_data.create_tf_dataset_for_client(\n",
    "        train_data.client_ids[i])\n",
    "    plot_data = collections.defaultdict(list)\n",
    "    for example in client_dataset:\n",
    "        label = example['diagnosis'].numpy()[0]\n",
    "        plot_data[label].append(label)\n",
    "    plt.subplot(2, 3, i+1)\n",
    "    plt.title('Client {}'.format(i))\n",
    "    for j in range(10):\n",
    "        plt.hist(\n",
    "        plot_data[j],\n",
    "        bins=[0, 1, 2])"
   ]
  },
  {
   "cell_type": "markdown",
   "metadata": {},
   "source": [
    "From the above steps, we now have a federated dataset that can be preprocessed and used for modeling. "
   ]
  },
  {
   "cell_type": "markdown",
   "metadata": {},
   "source": [
    "\n",
    "\n",
    "### Preprocessing the input data\n",
    "We will now shuffle the individual examples, organize them into batches, and rename the features\n",
    "from `features` and `diagnosis` to `x` and `y` for use with Keras. We also throw in a\n",
    "`repeat` over the data set to run several epochs."
   ]
  },
  {
   "cell_type": "code",
   "execution_count": 15,
   "metadata": {},
   "outputs": [],
   "source": [
    "NUM_ROUNDS = 5\n",
    "NUM_EPOCHS = 5\n",
    "BATCH_SIZE = 20\n",
    "PREFETCH_BUFFER = 10\n",
    "def preprocess(dataset):\n",
    "    def batch_format_fn(element):\n",
    "                \n",
    "        return collections.OrderedDict(x= tf.reshape(element['features'], [-1,30]),\n",
    "                                       y=tf.reshape(element['diagnosis'], [-1,1]))\n",
    "\n",
    "    return dataset.repeat(NUM_EPOCHS).shuffle(SHUFFLE_BUFFER).batch(\n",
    "      BATCH_SIZE).map(batch_format_fn).prefetch(PREFETCH_BUFFER)\n"
   ]
  },
  {
   "cell_type": "markdown",
   "metadata": {},
   "source": [
    "Let's verify this worked."
   ]
  },
  {
   "cell_type": "code",
   "execution_count": 16,
   "metadata": {},
   "outputs": [
    {
     "data": {
      "text/plain": [
       "OrderedDict([('x',\n",
       "              array([[2.39433959e-01, 6.23266816e-01, 2.28456914e-01, 1.29968181e-01,\n",
       "                      3.14976990e-01, 1.24593586e-01, 5.54592311e-02, 1.18141152e-01,\n",
       "                      4.01010096e-01, 1.47851720e-01, 1.79105565e-01, 5.04508495e-01,\n",
       "                      1.57470673e-01, 7.12703466e-02, 1.97300881e-01, 9.98738259e-02,\n",
       "                      3.69949490e-02, 2.24095479e-01, 1.77126139e-01, 1.03236459e-01,\n",
       "                      2.01707572e-01, 5.67963779e-01, 1.83425471e-01, 9.39834863e-02,\n",
       "                      2.17460215e-01, 6.78852424e-02, 4.41214070e-02, 1.90618560e-01,\n",
       "                      1.65385380e-01, 7.44457543e-02],\n",
       "                     [1.37015477e-01, 2.55664527e-01, 1.32195428e-01, 6.44326583e-02,\n",
       "                      5.07989526e-01, 1.62382677e-01, 4.11433913e-02, 9.70178917e-02,\n",
       "                      4.41414148e-01, 2.71482736e-01, 3.70088704e-02, 2.16981962e-01,\n",
       "                      3.58102061e-02, 1.03250295e-02, 2.72155553e-01, 7.68918768e-02,\n",
       "                      2.01388896e-02, 1.42583817e-01, 2.00061917e-01, 5.44891730e-02,\n",
       "                      8.85805786e-02, 2.98507452e-01, 8.30220655e-02, 3.59811261e-02,\n",
       "                      4.64439005e-01, 9.45076719e-02, 4.96245995e-02, 1.92027494e-01,\n",
       "                      2.80701756e-01, 1.23048671e-01],\n",
       "                     [2.28075162e-01, 2.55326331e-01, 2.17469424e-01, 1.22332983e-01,\n",
       "                      3.45219821e-01, 1.31709710e-01, 6.68462962e-02, 8.14115331e-02,\n",
       "                      3.97474736e-01, 2.15459138e-01, 8.41209516e-02, 1.72339112e-01,\n",
       "                      6.91702366e-02, 3.41017321e-02, 1.27477303e-01, 1.30591527e-01,\n",
       "                      5.24999984e-02, 1.02254212e-01, 9.69212577e-02, 7.51834512e-02,\n",
       "                      1.96371391e-01, 3.32356066e-01, 1.77249864e-01, 9.26071554e-02,\n",
       "                      3.51515561e-01, 1.40980482e-01, 1.15734823e-01, 1.84054986e-01,\n",
       "                      2.39306137e-01, 1.71651587e-01],\n",
       "                     [3.34563881e-01, 5.89786947e-01, 3.28864634e-01, 1.93807006e-01,\n",
       "                      4.21233177e-01, 2.85933375e-01, 1.04545452e-01, 2.13916495e-01,\n",
       "                      2.40909085e-01, 2.47472614e-01, 9.16168764e-02, 2.50132591e-01,\n",
       "                      1.00409932e-01, 4.30296697e-02, 1.88428462e-01, 1.84216067e-01,\n",
       "                      5.22979796e-02, 3.08012873e-01, 1.81769580e-01, 1.52329236e-01,\n",
       "                      2.62184262e-01, 5.63699365e-01, 2.47970521e-01, 1.28170475e-01,\n",
       "                      3.49534452e-01, 1.93177521e-01, 1.05910540e-01, 3.60137463e-01,\n",
       "                      1.35028586e-01, 1.84769779e-01],\n",
       "                     [1.78380430e-01, 1.77882984e-01, 1.69096813e-01, 8.98409337e-02,\n",
       "                      2.28401199e-01, 9.81841609e-02, 5.27413301e-02, 3.91401574e-02,\n",
       "                      1.71212122e-01, 1.45745575e-01, 5.10592088e-02, 1.94218531e-01,\n",
       "                      4.94275093e-02, 2.04296615e-02, 1.64326757e-01, 1.16847418e-01,\n",
       "                      5.09595945e-02, 1.06308013e-01, 1.24219060e-01, 5.06197922e-02,\n",
       "                      1.43009603e-01, 2.31876329e-01, 1.36361375e-01, 6.29178137e-02,\n",
       "                      2.40573198e-01, 9.21791792e-02, 7.79153332e-02, 1.17285222e-01,\n",
       "                      1.44884691e-01, 8.29725862e-02],\n",
       "                     [1.54716268e-01, 2.18802840e-01, 1.57072768e-01, 7.66489953e-02,\n",
       "                      4.82711911e-01, 2.81332433e-01, 1.57591373e-01, 1.97067589e-01,\n",
       "                      3.44949484e-01, 4.80834037e-01, 9.27756652e-02, 2.45491520e-01,\n",
       "                      3.95797007e-02, 2.96564419e-02, 2.98364878e-01, 3.03406745e-01,\n",
       "                      1.01111114e-01, 2.92479634e-01, 2.71683455e-01, 2.31513336e-01,\n",
       "                      1.19174674e-01, 2.28944570e-01, 1.05184518e-01, 5.04325591e-02,\n",
       "                      4.55854177e-01, 2.02491492e-01, 1.51597440e-01, 3.34845364e-01,\n",
       "                      2.05598265e-01, 2.75350899e-01],\n",
       "                     [4.90747303e-01, 4.51471090e-01, 4.64446127e-01, 3.34931076e-01,\n",
       "                      3.06852043e-01, 1.33488744e-01, 6.77366480e-02, 1.41003981e-01,\n",
       "                      2.54545450e-01, 6.55012652e-02, 1.04725696e-01, 2.11456865e-01,\n",
       "                      8.57560188e-02, 7.02430680e-02, 1.36417717e-01, 6.61519542e-02,\n",
       "                      3.14646475e-02, 1.45311609e-01, 8.76343772e-02, 2.36032233e-02,\n",
       "                      4.24048394e-01, 5.18390179e-01, 3.87419701e-01, 2.53834069e-01,\n",
       "                      3.48874062e-01, 1.17695570e-01, 9.67252403e-02, 2.82989681e-01,\n",
       "                      1.74847230e-01, 6.63124770e-02],\n",
       "                     [6.92365944e-01, 4.25092995e-01, 6.95252597e-01, 5.35949111e-01,\n",
       "                      5.78405678e-01, 5.80700576e-01, 6.58388019e-01, 7.76341975e-01,\n",
       "                      5.56565642e-01, 3.39090139e-01, 1.85659975e-01, 1.23917080e-01,\n",
       "                      1.60250679e-01, 1.38566077e-01, 1.19046807e-01, 2.62925476e-01,\n",
       "                      1.19141415e-01, 2.43985608e-01, 1.76844716e-01, 1.08245924e-01,\n",
       "                      6.51013851e-01, 4.45629001e-01, 6.05558038e-01, 4.65935916e-01,\n",
       "                      5.21891296e-01, 5.28189301e-01, 5.63338637e-01, 8.32302392e-01,\n",
       "                      4.46087122e-01, 2.99488395e-01],\n",
       "                     [1.54716268e-01, 2.18802840e-01, 1.57072768e-01, 7.66489953e-02,\n",
       "                      4.82711911e-01, 2.81332433e-01, 1.57591373e-01, 1.97067589e-01,\n",
       "                      3.44949484e-01, 4.80834037e-01, 9.27756652e-02, 2.45491520e-01,\n",
       "                      3.95797007e-02, 2.96564419e-02, 2.98364878e-01, 3.03406745e-01,\n",
       "                      1.01111114e-01, 2.92479634e-01, 2.71683455e-01, 2.31513336e-01,\n",
       "                      1.19174674e-01, 2.28944570e-01, 1.05184518e-01, 5.04325591e-02,\n",
       "                      4.55854177e-01, 2.02491492e-01, 1.51597440e-01, 3.34845364e-01,\n",
       "                      2.05598265e-01, 2.75350899e-01],\n",
       "                     [4.39159453e-01, 4.11565781e-01, 4.40259844e-01, 2.89840937e-01,\n",
       "                      5.76600134e-01, 3.34089935e-01, 4.21508908e-01, 3.96669984e-01,\n",
       "                      4.08585846e-01, 3.23504627e-01, 1.66250229e-01, 2.42397457e-01,\n",
       "                      1.03849597e-01, 9.51030850e-02, 3.00744474e-01, 2.65178591e-01,\n",
       "                      1.47449493e-01, 2.24663764e-01, 4.55028981e-01, 1.82835147e-01,\n",
       "                      3.48630369e-01, 3.51545841e-01, 3.15204948e-01, 1.94160447e-01,\n",
       "                      4.71703082e-01, 1.78818479e-01, 2.67092645e-01, 3.59793812e-01,\n",
       "                      2.30829880e-01, 1.60632297e-01],\n",
       "                     [2.03937709e-01, 1.12614132e-01, 1.96530998e-01, 1.03711560e-01,\n",
       "                      4.12656844e-01, 1.73915714e-01, 7.64995292e-02, 1.36928424e-01,\n",
       "                      3.58080804e-01, 2.68323511e-01, 2.85714287e-02, 3.73718180e-02,\n",
       "                      1.91773083e-02, 1.18939551e-02, 1.61777198e-01, 6.73536211e-02,\n",
       "                      3.23737375e-02, 1.67626441e-01, 1.27173975e-01, 6.64082468e-02,\n",
       "                      1.56172186e-01, 1.10874198e-01, 1.38751924e-01, 6.69239089e-02,\n",
       "                      4.26797867e-01, 1.19732998e-01, 1.01837061e-01, 3.00687283e-01,\n",
       "                      2.30238512e-01, 1.65158078e-01],\n",
       "                     [1.54716268e-01, 2.18802840e-01, 1.57072768e-01, 7.66489953e-02,\n",
       "                      4.82711911e-01, 2.81332433e-01, 1.57591373e-01, 1.97067589e-01,\n",
       "                      3.44949484e-01, 4.80834037e-01, 9.27756652e-02, 2.45491520e-01,\n",
       "                      3.95797007e-02, 2.96564419e-02, 2.98364878e-01, 3.03406745e-01,\n",
       "                      1.01111114e-01, 2.92479634e-01, 2.71683455e-01, 2.31513336e-01,\n",
       "                      1.19174674e-01, 2.28944570e-01, 1.05184518e-01, 5.04325591e-02,\n",
       "                      4.55854177e-01, 2.02491492e-01, 1.51597440e-01, 3.34845364e-01,\n",
       "                      2.05598265e-01, 2.75350899e-01],\n",
       "                     [1.69861332e-01, 3.55427802e-01, 1.82157412e-01, 8.26299042e-02,\n",
       "                      3.43955934e-01, 4.49726999e-01, 5.34208059e-01, 2.95278341e-01,\n",
       "                      5.69696963e-01, 7.27464199e-01, 0.00000000e+00, 1.92450494e-01,\n",
       "                      7.56726190e-02, 7.95669737e-04, 2.30682939e-01, 5.57109356e-01,\n",
       "                      3.87626261e-01, 5.52945614e-01, 1.16620705e-01, 3.90572518e-01,\n",
       "                      1.03877626e-01, 2.87846476e-01, 1.29986554e-01, 4.09703106e-02,\n",
       "                      2.84818053e-01, 3.24640304e-01, 4.81629401e-01, 5.03436446e-01,\n",
       "                      2.03429922e-01, 4.26078975e-01],\n",
       "                     [5.93923032e-01, 7.69699037e-01, 5.81922472e-01, 4.57900316e-01,\n",
       "                      2.85004973e-01, 2.87160307e-01, 2.68275529e-01, 3.29870790e-01,\n",
       "                      1.85858592e-01, 6.67649508e-02, 2.27303997e-01, 2.12340876e-01,\n",
       "                      1.86825618e-01, 1.92563295e-01, 1.30060852e-01, 1.81662515e-01,\n",
       "                      6.72727302e-02, 2.04205349e-01, 7.65182674e-02, 4.70267944e-02,\n",
       "                      7.10423350e-01, 8.89925361e-01, 6.46396756e-01, 5.63261867e-01,\n",
       "                      4.59816426e-01, 3.71016085e-01, 3.19089442e-01, 5.58419228e-01,\n",
       "                      2.26296082e-01, 1.35379776e-01],\n",
       "                     [2.13403374e-01, 1.65032133e-01, 2.08693251e-01, 1.10880166e-01,\n",
       "                      4.69170362e-01, 1.92932948e-01, 1.24367386e-01, 9.78628248e-02,\n",
       "                      3.63131315e-01, 3.32350463e-01, 3.32790166e-02, 1.78085223e-01,\n",
       "                      3.81661393e-02, 1.40792457e-02, 1.10276371e-01, 1.41857177e-01,\n",
       "                      1.04949497e-01, 1.52263686e-01, 1.48421228e-01, 9.39430371e-02,\n",
       "                      1.59018144e-01, 2.63326228e-01, 1.57527760e-01, 6.94062114e-02,\n",
       "                      4.22835648e-01, 1.68534309e-01, 2.07348242e-01, 2.55360812e-01,\n",
       "                      2.71239907e-01, 2.41112426e-01],\n",
       "                     [2.84869134e-01, 4.09536690e-01, 3.02052379e-01, 1.59618244e-01,\n",
       "                      6.74099505e-01, 5.33157468e-01, 4.35567021e-01, 4.64860827e-01,\n",
       "                      6.51515126e-01, 5.04001677e-01, 7.05413744e-02, 1.41840518e-01,\n",
       "                      7.76987225e-02, 3.27195860e-02, 1.36587694e-01, 2.46102080e-01,\n",
       "                      8.97222236e-02, 2.32240960e-01, 1.90634325e-01, 9.86070260e-02,\n",
       "                      2.68943429e-01, 4.98667389e-01, 2.77852476e-01, 1.36182651e-01,\n",
       "                      6.54625893e-01, 4.97530818e-01, 4.30511177e-01, 7.07903802e-01,\n",
       "                      5.54504216e-01, 3.42122525e-01],\n",
       "                     [2.21449196e-01, 2.48900920e-01, 2.06689239e-01, 1.17709436e-01,\n",
       "                      2.07456887e-01, 5.18986583e-02, 1.94611065e-02, 5.77534810e-02,\n",
       "                      3.08585852e-01, 1.54802024e-01, 8.75973180e-02, 6.89975247e-02,\n",
       "                      6.91702366e-02, 3.59134711e-02, 1.65550530e-01, 3.55919711e-02,\n",
       "                      1.50227277e-02, 1.19265012e-01, 2.00906172e-01, 6.12605885e-02,\n",
       "                      1.90323725e-01, 2.05756932e-01, 1.65346876e-01, 8.78145918e-02,\n",
       "                      1.87611431e-01, 3.63535807e-02, 2.43290737e-02, 1.46460488e-01,\n",
       "                      2.29844272e-01, 8.66456777e-02],\n",
       "                     [6.59709394e-01, 5.20121753e-01, 6.85578048e-01, 5.10498405e-01,\n",
       "                      5.17017245e-01, 6.26403272e-01, 7.43673861e-01, 7.32604384e-01,\n",
       "                      5.50000012e-01, 3.96588027e-01, 3.08057219e-01, 1.47144631e-01,\n",
       "                      3.76996666e-01, 2.09186435e-01, 1.59295648e-01, 3.06786448e-01,\n",
       "                      1.98106065e-01, 4.97063845e-01, 1.78533241e-01, 1.83733404e-01,\n",
       "                      5.81999302e-01, 4.63486135e-01, 6.40918374e-01, 4.01543438e-01,\n",
       "                      4.59156036e-01, 3.79650921e-01, 5.27076662e-01, 8.73539507e-01,\n",
       "                      2.68874437e-01, 2.86566973e-01],\n",
       "                     [2.84395844e-01, 1.52857631e-01, 2.78418899e-01, 1.57285258e-01,\n",
       "                      3.79073769e-01, 2.46211886e-01, 8.75820071e-02, 1.04274355e-01,\n",
       "                      2.98989892e-01, 4.72198814e-01, 2.53123306e-02, 6.21021912e-02,\n",
       "                      7.76987243e-03, 1.42099895e-02, 1.19590715e-01, 1.56202123e-01,\n",
       "                      7.86111131e-02, 1.38567910e-01, 1.19716331e-01, 1.66044801e-01,\n",
       "                      2.05976516e-01, 1.30330488e-01, 1.84122711e-01, 9.60479751e-02,\n",
       "                      2.84157693e-01, 1.65138587e-01, 1.15814693e-01, 2.01030925e-01,\n",
       "                      1.70904785e-01, 3.00800204e-01],\n",
       "                     [2.39433959e-01, 6.23266816e-01, 2.28456914e-01, 1.29968181e-01,\n",
       "                      3.14976990e-01, 1.24593586e-01, 5.54592311e-02, 1.18141152e-01,\n",
       "                      4.01010096e-01, 1.47851720e-01, 1.79105565e-01, 5.04508495e-01,\n",
       "                      1.57470673e-01, 7.12703466e-02, 1.97300881e-01, 9.98738259e-02,\n",
       "                      3.69949490e-02, 2.24095479e-01, 1.77126139e-01, 1.03236459e-01,\n",
       "                      2.01707572e-01, 5.67963779e-01, 1.83425471e-01, 9.39834863e-02,\n",
       "                      2.17460215e-01, 6.78852424e-02, 4.41214070e-02, 1.90618560e-01,\n",
       "                      1.65385380e-01, 7.44457543e-02]], dtype=float32)),\n",
       "             ('y',\n",
       "              array([[0],\n",
       "                     [0],\n",
       "                     [0],\n",
       "                     [0],\n",
       "                     [0],\n",
       "                     [0],\n",
       "                     [1],\n",
       "                     [1],\n",
       "                     [0],\n",
       "                     [1],\n",
       "                     [0],\n",
       "                     [0],\n",
       "                     [0],\n",
       "                     [1],\n",
       "                     [0],\n",
       "                     [1],\n",
       "                     [0],\n",
       "                     [1],\n",
       "                     [0],\n",
       "                     [0]], dtype=int32))])"
      ]
     },
     "execution_count": 16,
     "metadata": {},
     "output_type": "execute_result"
    }
   ],
   "source": [
    "preprocessed_example_dataset = preprocess(example_dataset)\n",
    "sample_batch = tf.nest.map_structure(lambda x: x.numpy(),\n",
    "                                     next(iter(preprocessed_example_dataset)))\n",
    "\n",
    "sample_batch"
   ]
  },
  {
   "cell_type": "markdown",
   "metadata": {},
   "source": [
    "We now have almost all the building blocks in place to construct federated datasets.\n",
    "\n",
    "One of the ways to feed federated data to TFF in a simulation is simply as a Python list, with each element of the list holding the data of an individual user, as a `tf.data.Dataset`. Since we already have an interface for that, let's use it.\n",
    "\n",
    "The helper function `make_federated_data` below will construct a list of datasets from the\n",
    "given set of users as an input to a round of training or evaluation."
   ]
  },
  {
   "cell_type": "code",
   "execution_count": 17,
   "metadata": {},
   "outputs": [],
   "source": [
    "def make_federated_data(client_data, client_ids):\n",
    "    return [\n",
    "      preprocess(client_data.create_tf_dataset_for_client(x))\n",
    "      for x in client_ids\n",
    "    ]"
   ]
  },
  {
   "cell_type": "markdown",
   "metadata": {},
   "source": [
    "So now, how do we choose the clients? \n",
    "\n",
    "In a typical federated training scenario, we might have only a fraction of the devices available for training at a given point in time. But, since we are in a simulation environment, all the data is locally available. Typically then, when running simulations, we would simply sample a random subset of the clients to be involved in each round of training, generally different in each round.\n",
    "\n",
    "That said, as you can find out by studying the paper on the [Federated Averaging](https://arxiv.org/abs/1602.05629) algorithm, achieving convergence in a system with randomly sampled subsets of clients in each round can take a while, and it would be impractical to have to run hundreds of rounds in this interactive tutorial.\n",
    "\n",
    "For simplicity here, we will sample the set of clients once, and reuse the same set across rounds to speed up convergence (intentionally over-fitting to these few user's data). "
   ]
  },
  {
   "cell_type": "code",
   "execution_count": 18,
   "metadata": {},
   "outputs": [
    {
     "name": "stdout",
     "output_type": "stream",
     "text": [
      "Number of client datasets: 3\n",
      "First dataset: <PrefetchDataset shapes: OrderedDict([(x, (None, 30)), (y, (None, 1))]), types: OrderedDict([(x, tf.float32), (y, tf.int32)])>\n"
     ]
    }
   ],
   "source": [
    "train_client_ids = sample(client_ids.tolist(), number_of_training_clients)\n",
    "federated_train_data = make_federated_data(train_data, train_client_ids)\n",
    "print('Number of client datasets: {l}'.format(l=len(federated_train_data)))\n",
    "print('First dataset: {d}'.format(d=federated_train_data[0]))"
   ]
  },
  {
   "cell_type": "markdown",
   "metadata": {},
   "source": [
    "### Creating a model with Keras \n",
    "Here's an example of a simple model:"
   ]
  },
  {
   "cell_type": "code",
   "execution_count": 19,
   "metadata": {},
   "outputs": [],
   "source": [
    "def create_keras_model():\n",
    "    return tf.keras.models.Sequential([\n",
    "      tf.keras.layers.InputLayer(input_shape=(30,)),\n",
    "      tf.keras.layers.Dense(150, activation = 'swish'),\n",
    "        tf.keras.layers.Dense(50, activation = 'swish'),\n",
    "        tf.keras.layers.Dense(1, activation = 'sigmoid'),\n",
    "      ])\n",
    "\n",
    "# def create_keras_model():\n",
    "#     return tf.keras.models.Sequential([\n",
    "#       tf.keras.layers.InputLayer(input_shape=(24,)),\n",
    "#       tf.keras.layers.Dense(10, kernel_initializer='zeros'), #shouldnt initialize weights to zero\n",
    "#       tf.keras.layers.Softmax(),\n",
    "#       ])"
   ]
  },
  {
   "cell_type": "markdown",
   "metadata": {},
   "source": [
    "Note that we do not compile the model yet. The loss, metrics, and optimizers are introduced later.\n",
    "\n",
    "If you have a Keras model like the one we've just defined above, you can have TFF wrap it for you by invoking\n",
    "`tff.learning.from_keras_model`, passing the model and a sample data batch as\n",
    "arguments, as shown below.\n"
   ]
  },
  {
   "cell_type": "code",
   "execution_count": 21,
   "metadata": {},
   "outputs": [],
   "source": [
    "import tensorflow_addons as tfa\n",
    "\n",
    "def model_fn():\n",
    "  # We _must_ create a new model here, and _not_ capture it from an external\n",
    "  # scope. TFF will call this within different graph contexts.\n",
    "    keras_model = create_keras_model()\n",
    "    return tff.learning.from_keras_model(\n",
    "      keras_model,\n",
    "      input_spec=preprocessed_example_dataset.element_spec,\n",
    "      loss=tf.keras.losses.BinaryCrossentropy(),\n",
    "      metrics=[tf.keras.metrics.BinaryAccuracy(), tf.keras.metrics.Precision(name='Precision'),\n",
    "               tf.keras.metrics.Recall(name='Recall'), tf.keras.metrics.AUC(name='AUC')])\n",
    "\n",
    "\n",
    "# tfa.metrics.F1Score(num_classes=2, threshold=0.5)\n",
    "# tf.keras.metrics.Precision()\n",
    "# def model_fn():\n",
    "#   # We _must_ create a new model here, and _not_ capture it from an external\n",
    "#   # scope. TFF will call this within different graph contexts.\n",
    "#     keras_model = create_keras_model()\n",
    "#     return tff.learning.from_keras_model(\n",
    "#       keras_model,\n",
    "#       input_spec=preprocessed_example_dataset.element_spec,\n",
    "#       loss=tf.keras.losses.SparseCategoricalCrossentropy(),\n",
    "#       metrics=[tf.keras.metrics.SparseCategoricalAccuracy()])"
   ]
  },
  {
   "cell_type": "markdown",
   "metadata": {
    "tags": []
   },
   "source": [
    "### Training the model on federated data \n",
    "\n",
    "Now that we have a model wrapped as `tff.learning.Model` for use with TFF, we\n",
    "can let TFF construct a **Federated Averaging** algorithm by invoking the helper\n",
    "function `tff.learning.build_federated_averaging_process`, as follows.\n",
    "\n",
    "One critical note on the Federated Averaging algorithm below, there are **2**\n",
    "optimizers: a _client_optimizer_ and a _server_optimizer_. The\n",
    "_client_optimizer_ is only used to compute local model updates on each client.\n",
    "The _server_optimizer_ applies the averaged update to the global model at the\n",
    "server. In particular, this means that the choice of optimizer and learning rate\n",
    "used may need to be different than the ones you have used to train the model on\n",
    "a standard i.i.d. dataset.\n",
    "\n",
    "We will start with regular SGD and a smaller learning rate than usual. \n"
   ]
  },
  {
   "cell_type": "code",
   "execution_count": 23,
   "metadata": {},
   "outputs": [],
   "source": [
    "iterative_process = tff.learning.build_federated_averaging_process(\n",
    "    model_fn,\n",
    "    client_optimizer_fn=lambda: tf.keras.optimizers.SGD(learning_rate=0.01),\n",
    "    server_optimizer_fn=lambda: tf.keras.optimizers.SGD(learning_rate=0.01)) "
   ]
  },
  {
   "cell_type": "markdown",
   "metadata": {},
   "source": [
    "In this case, the two computations generated and packed into iterative_process implement Federated Averaging.\n",
    "\n",
    "Let's start with the `initialize` computation. As is the case for all federated\n",
    "computations, you can think of it as a function. The computation takes no\n",
    "arguments, and returns one result - the representation of the state of the\n",
    "Federated Averaging process on the server. While we don't want to dive into the\n",
    "details of TFF, it may be instructive to see what this state looks like. You can\n",
    "visualize it as follows."
   ]
  },
  {
   "cell_type": "code",
   "execution_count": 24,
   "metadata": {},
   "outputs": [
    {
     "data": {
      "text/plain": [
       "'( -> <model=<trainable=<float32[30,150],float32[150],float32[150,50],float32[50],float32[50,1],float32[1]>,non_trainable=<>>,optimizer_state=<int64>,delta_aggregate_state=<value_sum_process=<>,weight_sum_process=<>>,model_broadcast_state=<>>@SERVER)'"
      ]
     },
     "execution_count": 24,
     "metadata": {},
     "output_type": "execute_result"
    }
   ],
   "source": [
    "str(iterative_process.initialize.type_signature)"
   ]
  },
  {
   "cell_type": "markdown",
   "metadata": {},
   "source": [
    "While the above type signature may at first seem a bit cryptic, you can recognize that the server state consists of a model (the initial model parameters for MNIST that will be distributed to all devices), and optimizer_state (additional information maintained by the server, such as the number of rounds to use for hyperparameter schedules, etc.).\n",
    "\n",
    "Let's invoke the initialize computation to construct the server state."
   ]
  },
  {
   "cell_type": "code",
   "execution_count": 26,
   "metadata": {},
   "outputs": [],
   "source": [
    "state = iterative_process.initialize()"
   ]
  },
  {
   "cell_type": "code",
   "execution_count": 27,
   "metadata": {
    "tags": []
   },
   "outputs": [
    {
     "data": {
      "text/plain": [
       "ServerState(model=ModelWeights(trainable=[array([[-0.0892989 ,  0.16585335,  0.08119878, ...,  0.08499256,\n",
       "         0.1713278 ,  0.13217953],\n",
       "       [-0.01874158, -0.15650092, -0.12091006, ..., -0.16032721,\n",
       "        -0.00636983, -0.11366922],\n",
       "       [-0.17804345,  0.167258  ,  0.06511654, ..., -0.11567461,\n",
       "        -0.08294548,  0.00745893],\n",
       "       ...,\n",
       "       [-0.03759789,  0.07883015, -0.04091154, ...,  0.0244014 ,\n",
       "         0.15845978,  0.05113222],\n",
       "       [-0.1333421 ,  0.0732896 ,  0.00917293, ...,  0.1304681 ,\n",
       "         0.16622558, -0.13233283],\n",
       "       [-0.14391828, -0.03452   ,  0.10513344, ...,  0.17845094,\n",
       "        -0.16741553,  0.1295397 ]], dtype=float32), array([0., 0., 0., 0., 0., 0., 0., 0., 0., 0., 0., 0., 0., 0., 0., 0., 0.,\n",
       "       0., 0., 0., 0., 0., 0., 0., 0., 0., 0., 0., 0., 0., 0., 0., 0., 0.,\n",
       "       0., 0., 0., 0., 0., 0., 0., 0., 0., 0., 0., 0., 0., 0., 0., 0., 0.,\n",
       "       0., 0., 0., 0., 0., 0., 0., 0., 0., 0., 0., 0., 0., 0., 0., 0., 0.,\n",
       "       0., 0., 0., 0., 0., 0., 0., 0., 0., 0., 0., 0., 0., 0., 0., 0., 0.,\n",
       "       0., 0., 0., 0., 0., 0., 0., 0., 0., 0., 0., 0., 0., 0., 0., 0., 0.,\n",
       "       0., 0., 0., 0., 0., 0., 0., 0., 0., 0., 0., 0., 0., 0., 0., 0., 0.,\n",
       "       0., 0., 0., 0., 0., 0., 0., 0., 0., 0., 0., 0., 0., 0., 0., 0., 0.,\n",
       "       0., 0., 0., 0., 0., 0., 0., 0., 0., 0., 0., 0., 0., 0.],\n",
       "      dtype=float32), array([[-0.14587617, -0.14507422,  0.0613998 , ..., -0.13522665,\n",
       "        -0.13517404,  0.0589391 ],\n",
       "       [ 0.03938924,  0.09117204,  0.09220266, ..., -0.03515561,\n",
       "        -0.1393485 ,  0.014447  ],\n",
       "       [-0.15574443,  0.00277947,  0.08984905, ..., -0.01641113,\n",
       "         0.07023287, -0.11499596],\n",
       "       ...,\n",
       "       [-0.05251421, -0.06996817, -0.04443395, ..., -0.13409561,\n",
       "        -0.07669613,  0.12677503],\n",
       "       [-0.16919918,  0.17009667,  0.03377518, ..., -0.16495164,\n",
       "         0.02507836,  0.05838025],\n",
       "       [ 0.11528239,  0.0145542 ,  0.10343373, ..., -0.10348662,\n",
       "        -0.10220709,  0.01953916]], dtype=float32), array([0., 0., 0., 0., 0., 0., 0., 0., 0., 0., 0., 0., 0., 0., 0., 0., 0.,\n",
       "       0., 0., 0., 0., 0., 0., 0., 0., 0., 0., 0., 0., 0., 0., 0., 0., 0.,\n",
       "       0., 0., 0., 0., 0., 0., 0., 0., 0., 0., 0., 0., 0., 0., 0., 0.],\n",
       "      dtype=float32), array([[-0.09980649],\n",
       "       [ 0.00134066],\n",
       "       [-0.08869758],\n",
       "       [-0.25668532],\n",
       "       [-0.31914327],\n",
       "       [-0.24843739],\n",
       "       [-0.00046924],\n",
       "       [-0.20861506],\n",
       "       [ 0.16853425],\n",
       "       [-0.1461098 ],\n",
       "       [ 0.02682862],\n",
       "       [-0.07362047],\n",
       "       [-0.32459655],\n",
       "       [-0.31411135],\n",
       "       [ 0.04323742],\n",
       "       [ 0.34270278],\n",
       "       [-0.17372774],\n",
       "       [ 0.14803353],\n",
       "       [ 0.12707597],\n",
       "       [-0.15177973],\n",
       "       [ 0.03827977],\n",
       "       [ 0.05187926],\n",
       "       [ 0.31824335],\n",
       "       [ 0.33242813],\n",
       "       [-0.33025828],\n",
       "       [ 0.05129334],\n",
       "       [ 0.30761644],\n",
       "       [-0.33996987],\n",
       "       [ 0.12026757],\n",
       "       [ 0.09197661],\n",
       "       [-0.1700876 ],\n",
       "       [-0.0497202 ],\n",
       "       [ 0.11949134],\n",
       "       [-0.23275079],\n",
       "       [-0.19612937],\n",
       "       [ 0.06684092],\n",
       "       [ 0.1943368 ],\n",
       "       [-0.33353287],\n",
       "       [-0.26408392],\n",
       "       [ 0.01823649],\n",
       "       [-0.19653851],\n",
       "       [ 0.13265783],\n",
       "       [ 0.29506305],\n",
       "       [-0.14925306],\n",
       "       [-0.07640129],\n",
       "       [ 0.06186873],\n",
       "       [ 0.2754371 ],\n",
       "       [ 0.24410239],\n",
       "       [ 0.11917299],\n",
       "       [ 0.18874058]], dtype=float32), array([0.], dtype=float32)], non_trainable=[]), optimizer_state=[0], delta_aggregate_state=OrderedDict([('value_sum_process', ()), ('weight_sum_process', ())]), model_broadcast_state=())"
      ]
     },
     "execution_count": 27,
     "metadata": {},
     "output_type": "execute_result"
    }
   ],
   "source": [
    "state"
   ]
  },
  {
   "cell_type": "markdown",
   "metadata": {},
   "source": [
    "The second of the pair of federated computations, `next`, represents a single\n",
    "round of Federated Averaging, which consists of pushing the server state\n",
    "(including the model parameters) to the clients, on-device training on their\n",
    "local data, collecting and averaging model updates, and producing a new updated\n",
    "model at the server.\n",
    "\n",
    "Conceptually, you can think of `next` as having a functional type signature that\n",
    "looks as follows.\n",
    "\n",
    "```\n",
    "SERVER_STATE, FEDERATED_DATA -> SERVER_STATE, TRAINING_METRICS\n",
    "```\n",
    "\n",
    "In particular, one should think about `next()` not as being a function that runs on a server, but rather being a declarative functional representation of the entire decentralized computation - some of the inputs are provided by the server (`SERVER_STATE`), but each participating device contributes its own local dataset.\n",
    "\n",
    "Let's run a single round of training and visualize the results. We can use the\n",
    "federated data we've already generated above for a sample of users."
   ]
  },
  {
   "cell_type": "code",
   "execution_count": 28,
   "metadata": {},
   "outputs": [
    {
     "name": "stderr",
     "output_type": "stream",
     "text": [
      "2021-09-01 15:44:24.916946: W tensorflow/core/grappler/optimizers/loop_optimizer.cc:906] Skipping loop optimization for Merge node with control input: StatefulPartitionedCall/cond/branch_executed/_115\n",
      "2021-09-01 15:44:24.929816: W tensorflow/core/grappler/optimizers/loop_optimizer.cc:906] Skipping loop optimization for Merge node with control input: StatefulPartitionedCall/cond/branch_executed/_115\n",
      "2021-09-01 15:44:24.952518: W tensorflow/core/grappler/optimizers/loop_optimizer.cc:906] Skipping loop optimization for Merge node with control input: StatefulPartitionedCall/cond/branch_executed/_115\n"
     ]
    },
    {
     "name": "stdout",
     "output_type": "stream",
     "text": [
      "round  1, metrics=OrderedDict([('broadcast', ()), ('aggregation', OrderedDict([('mean_value', ()), ('mean_weight', ())])), ('train', OrderedDict([('binary_accuracy', 0.7560095), ('Precision', 0.7683658), ('Recall', 0.5125), ('AUC', 0.7424058), ('loss', 0.6600312)])), ('stat', OrderedDict([('num_examples', 10525)]))])\n"
     ]
    }
   ],
   "source": [
    "state, metrics = iterative_process.next(state, federated_train_data)\n",
    "print('round  1, metrics={}'.format(metrics))"
   ]
  },
  {
   "cell_type": "markdown",
   "metadata": {},
   "source": [
    "Let's run a few more rounds. As noted earlier, typically at this point you would\n",
    "pick a subset of your simulation data from a new randomly selected sample of\n",
    "users for each round in order to simulate a realistic deployment in which users\n",
    "continuously come and go, but in this interactive notebook, for the sake of\n",
    "demonstration we'll just reuse the same users, so that the system converges\n",
    "quickly."
   ]
  },
  {
   "cell_type": "code",
   "execution_count": 29,
   "metadata": {},
   "outputs": [
    {
     "name": "stderr",
     "output_type": "stream",
     "text": [
      "2021-09-01 15:44:34.229394: W tensorflow/core/grappler/optimizers/loop_optimizer.cc:906] Skipping loop optimization for Merge node with control input: StatefulPartitionedCall/cond/branch_executed/_115\n",
      "2021-09-01 15:44:34.247125: W tensorflow/core/grappler/optimizers/loop_optimizer.cc:906] Skipping loop optimization for Merge node with control input: StatefulPartitionedCall/cond/branch_executed/_115\n",
      "2021-09-01 15:44:34.253433: W tensorflow/core/grappler/optimizers/loop_optimizer.cc:906] Skipping loop optimization for Merge node with control input: StatefulPartitionedCall/cond/branch_executed/_115\n"
     ]
    },
    {
     "name": "stdout",
     "output_type": "stream",
     "text": [
      "round  2, metrics=OrderedDict([('broadcast', ()), ('aggregation', OrderedDict([('mean_value', ()), ('mean_weight', ())])), ('train', OrderedDict([('binary_accuracy', 0.7453682), ('Precision', 0.7159686), ('Recall', 0.547), ('AUC', 0.74768), ('loss', 0.659416)])), ('stat', OrderedDict([('num_examples', 10525)]))])\n",
      "--\n"
     ]
    }
   ],
   "source": [
    "NUM_ROUNDS = 3\n",
    "for round_num in range(2, NUM_ROUNDS):\n",
    "    state, metrics = iterative_process.next(state, federated_train_data)\n",
    "    print('round {:2d}, metrics={}'.format(round_num, metrics))\n",
    "    print(\"--\")"
   ]
  },
  {
   "cell_type": "markdown",
   "metadata": {},
   "source": [
    "Training loss is decreasing after each round of federated training, indicating\n",
    "the model is converging"
   ]
  },
  {
   "cell_type": "markdown",
   "metadata": {},
   "source": [
    "Next, let's visualize the metrics from these federated computations using Tensorboard.\n",
    "\n",
    "Let's start by creating the directory and the corresponding summary writer to write the metrics to."
   ]
  },
  {
   "cell_type": "code",
   "execution_count": 30,
   "metadata": {},
   "outputs": [],
   "source": [
    "logdir = \"/tmp/logs/scalars/training/\"\n",
    "summary_writer = tf.summary.create_file_writer(logdir)\n",
    "state = iterative_process.initialize()"
   ]
  },
  {
   "cell_type": "code",
   "execution_count": 31,
   "metadata": {},
   "outputs": [],
   "source": [
    "evaluation = tff.learning.build_federated_evaluation(model_fn)\n",
    "federated_test_data = make_federated_data(test_data, test_client_ids)\n"
   ]
  },
  {
   "cell_type": "code",
   "execution_count": 32,
   "metadata": {
    "scrolled": true
   },
   "outputs": [
    {
     "name": "stderr",
     "output_type": "stream",
     "text": [
      "2021-09-01 15:44:50.699378: W tensorflow/core/grappler/optimizers/loop_optimizer.cc:906] Skipping loop optimization for Merge node with control input: StatefulPartitionedCall/cond/branch_executed/_115\n",
      "2021-09-01 15:44:50.719071: W tensorflow/core/grappler/optimizers/loop_optimizer.cc:906] Skipping loop optimization for Merge node with control input: StatefulPartitionedCall/cond/branch_executed/_115\n",
      "2021-09-01 15:44:50.723895: W tensorflow/core/grappler/optimizers/loop_optimizer.cc:906] Skipping loop optimization for Merge node with control input: StatefulPartitionedCall/cond/branch_executed/_115\n",
      "2021-09-01 15:44:52.108542: W tensorflow/core/grappler/optimizers/loop_optimizer.cc:906] Skipping loop optimization for Merge node with control input: StatefulPartitionedCall/cond/branch_executed/_52\n"
     ]
    },
    {
     "name": "stdout",
     "output_type": "stream",
     "text": [
      "round:  1, loss: 0.6635022759437561, test_accuracy: 0.36486485600471497, training_recall : 0.6017500162124634, training_precision = 0.6352599859237671, training_f1 = 0.6180511279401186, val_precision = 0.3499999940395355, val_recall = 0.942307710647583, val_f1 = 0.5104166599404483\n"
     ]
    },
    {
     "name": "stderr",
     "output_type": "stream",
     "text": [
      "2021-09-01 15:44:52.799219: W tensorflow/core/grappler/optimizers/loop_optimizer.cc:906] Skipping loop optimization for Merge node with control input: StatefulPartitionedCall/cond/branch_executed/_115\n",
      "2021-09-01 15:44:52.800162: W tensorflow/core/grappler/optimizers/loop_optimizer.cc:906] Skipping loop optimization for Merge node with control input: StatefulPartitionedCall/cond/branch_executed/_115\n",
      "2021-09-01 15:44:52.800691: W tensorflow/core/grappler/optimizers/loop_optimizer.cc:906] Skipping loop optimization for Merge node with control input: StatefulPartitionedCall/cond/branch_executed/_115\n",
      "2021-09-01 15:44:53.369844: W tensorflow/core/grappler/optimizers/loop_optimizer.cc:906] Skipping loop optimization for Merge node with control input: StatefulPartitionedCall/cond/branch_executed/_52\n"
     ]
    },
    {
     "name": "stdout",
     "output_type": "stream",
     "text": [
      "round:  2, loss: 0.6629464030265808, test_accuracy: 0.37837839126586914, training_recall : 0.5847499966621399, training_precision = 0.6537171602249146, training_f1 = 0.6173132277397589, val_precision = 0.3550724685192108, val_recall = 0.942307710647583, val_f1 = 0.5157894533728731\n"
     ]
    },
    {
     "name": "stderr",
     "output_type": "stream",
     "text": [
      "2021-09-01 15:44:53.812943: W tensorflow/core/grappler/optimizers/loop_optimizer.cc:906] Skipping loop optimization for Merge node with control input: StatefulPartitionedCall/cond/branch_executed/_115\n",
      "2021-09-01 15:44:53.813869: W tensorflow/core/grappler/optimizers/loop_optimizer.cc:906] Skipping loop optimization for Merge node with control input: StatefulPartitionedCall/cond/branch_executed/_115\n",
      "2021-09-01 15:44:53.814982: W tensorflow/core/grappler/optimizers/loop_optimizer.cc:906] Skipping loop optimization for Merge node with control input: StatefulPartitionedCall/cond/branch_executed/_115\n",
      "2021-09-01 15:44:54.415964: W tensorflow/core/grappler/optimizers/loop_optimizer.cc:906] Skipping loop optimization for Merge node with control input: StatefulPartitionedCall/cond/branch_executed/_52\n"
     ]
    },
    {
     "name": "stdout",
     "output_type": "stream",
     "text": [
      "round:  3, loss: 0.6627798676490784, test_accuracy: 0.37837839126586914, training_recall : 0.5149999856948853, training_precision = 0.6751884818077087, training_f1 = 0.5843143005265212, val_precision = 0.3550724685192108, val_recall = 0.942307710647583, val_f1 = 0.5157894533728731\n"
     ]
    },
    {
     "name": "stderr",
     "output_type": "stream",
     "text": [
      "2021-09-01 15:44:54.874877: W tensorflow/core/grappler/optimizers/loop_optimizer.cc:906] Skipping loop optimization for Merge node with control input: StatefulPartitionedCall/cond/branch_executed/_115\n",
      "2021-09-01 15:44:54.876484: W tensorflow/core/grappler/optimizers/loop_optimizer.cc:906] Skipping loop optimization for Merge node with control input: StatefulPartitionedCall/cond/branch_executed/_115\n",
      "2021-09-01 15:44:54.883325: W tensorflow/core/grappler/optimizers/loop_optimizer.cc:906] Skipping loop optimization for Merge node with control input: StatefulPartitionedCall/cond/branch_executed/_115\n",
      "2021-09-01 15:44:55.568863: W tensorflow/core/grappler/optimizers/loop_optimizer.cc:906] Skipping loop optimization for Merge node with control input: StatefulPartitionedCall/cond/branch_executed/_52\n"
     ]
    },
    {
     "name": "stdout",
     "output_type": "stream",
     "text": [
      "round:  4, loss: 0.6622302532196045, test_accuracy: 0.37837839126586914, training_recall : 0.5705000162124634, training_precision = 0.6462758183479309, training_f1 = 0.6060283690027761, val_precision = 0.3550724685192108, val_recall = 0.942307710647583, val_f1 = 0.5157894533728731\n"
     ]
    },
    {
     "name": "stderr",
     "output_type": "stream",
     "text": [
      "2021-09-01 15:44:56.035601: W tensorflow/core/grappler/optimizers/loop_optimizer.cc:906] Skipping loop optimization for Merge node with control input: StatefulPartitionedCall/cond/branch_executed/_115\n",
      "2021-09-01 15:44:56.038910: W tensorflow/core/grappler/optimizers/loop_optimizer.cc:906] Skipping loop optimization for Merge node with control input: StatefulPartitionedCall/cond/branch_executed/_115\n",
      "2021-09-01 15:44:56.048138: W tensorflow/core/grappler/optimizers/loop_optimizer.cc:906] Skipping loop optimization for Merge node with control input: StatefulPartitionedCall/cond/branch_executed/_115\n",
      "2021-09-01 15:44:56.597507: W tensorflow/core/grappler/optimizers/loop_optimizer.cc:906] Skipping loop optimization for Merge node with control input: StatefulPartitionedCall/cond/branch_executed/_52\n"
     ]
    },
    {
     "name": "stdout",
     "output_type": "stream",
     "text": [
      "round:  5, loss: 0.6618578433990479, test_accuracy: 0.3918918967247009, training_recall : 0.5632500052452087, training_precision = 0.6608976125717163, training_f1 = 0.6081792742236896, val_precision = 0.3602941036224365, val_recall = 0.942307710647583, val_f1 = 0.5212765772467067\n"
     ]
    },
    {
     "name": "stderr",
     "output_type": "stream",
     "text": [
      "2021-09-01 15:44:57.052706: W tensorflow/core/grappler/optimizers/loop_optimizer.cc:906] Skipping loop optimization for Merge node with control input: StatefulPartitionedCall/cond/branch_executed/_115\n",
      "2021-09-01 15:44:57.058070: W tensorflow/core/grappler/optimizers/loop_optimizer.cc:906] Skipping loop optimization for Merge node with control input: StatefulPartitionedCall/cond/branch_executed/_115\n",
      "2021-09-01 15:44:57.065760: W tensorflow/core/grappler/optimizers/loop_optimizer.cc:906] Skipping loop optimization for Merge node with control input: StatefulPartitionedCall/cond/branch_executed/_115\n",
      "2021-09-01 15:44:57.686369: W tensorflow/core/grappler/optimizers/loop_optimizer.cc:906] Skipping loop optimization for Merge node with control input: StatefulPartitionedCall/cond/branch_executed/_52\n"
     ]
    },
    {
     "name": "stdout",
     "output_type": "stream",
     "text": [
      "round:  6, loss: 0.6612859964370728, test_accuracy: 0.3918918967247009, training_recall : 0.5830000042915344, training_precision = 0.6559774875640869, training_f1 = 0.6173395330990284, val_precision = 0.3602941036224365, val_recall = 0.942307710647583, val_f1 = 0.5212765772467067\n"
     ]
    },
    {
     "name": "stderr",
     "output_type": "stream",
     "text": [
      "2021-09-01 15:44:58.148099: W tensorflow/core/grappler/optimizers/loop_optimizer.cc:906] Skipping loop optimization for Merge node with control input: StatefulPartitionedCall/cond/branch_executed/_115\n",
      "2021-09-01 15:44:58.163770: W tensorflow/core/grappler/optimizers/loop_optimizer.cc:906] Skipping loop optimization for Merge node with control input: StatefulPartitionedCall/cond/branch_executed/_115\n",
      "2021-09-01 15:44:58.166190: W tensorflow/core/grappler/optimizers/loop_optimizer.cc:906] Skipping loop optimization for Merge node with control input: StatefulPartitionedCall/cond/branch_executed/_115\n",
      "2021-09-01 15:44:58.734989: W tensorflow/core/grappler/optimizers/loop_optimizer.cc:906] Skipping loop optimization for Merge node with control input: StatefulPartitionedCall/cond/branch_executed/_52\n"
     ]
    },
    {
     "name": "stdout",
     "output_type": "stream",
     "text": [
      "round:  7, loss: 0.6606373190879822, test_accuracy: 0.4121621549129486, training_recall : 0.5830000042915344, training_precision = 0.6683863401412964, training_f1 = 0.6227800434203169, val_precision = 0.3684210479259491, val_recall = 0.942307710647583, val_f1 = 0.5297297272716525\n"
     ]
    },
    {
     "name": "stderr",
     "output_type": "stream",
     "text": [
      "2021-09-01 15:44:59.188323: W tensorflow/core/grappler/optimizers/loop_optimizer.cc:906] Skipping loop optimization for Merge node with control input: StatefulPartitionedCall/cond/branch_executed/_115\n",
      "2021-09-01 15:44:59.205647: W tensorflow/core/grappler/optimizers/loop_optimizer.cc:906] Skipping loop optimization for Merge node with control input: StatefulPartitionedCall/cond/branch_executed/_115\n",
      "2021-09-01 15:44:59.217778: W tensorflow/core/grappler/optimizers/loop_optimizer.cc:906] Skipping loop optimization for Merge node with control input: StatefulPartitionedCall/cond/branch_executed/_115\n",
      "2021-09-01 15:44:59.776257: W tensorflow/core/grappler/optimizers/loop_optimizer.cc:906] Skipping loop optimization for Merge node with control input: StatefulPartitionedCall/cond/branch_executed/_52\n"
     ]
    },
    {
     "name": "stdout",
     "output_type": "stream",
     "text": [
      "round:  8, loss: 0.6603862643241882, test_accuracy: 0.43918919563293457, training_recall : 0.5637500286102295, training_precision = 0.7118055820465088, training_f1 = 0.6291852739067989, val_precision = 0.3798449635505676, val_recall = 0.942307710647583, val_f1 = 0.5414364954711108\n"
     ]
    },
    {
     "name": "stderr",
     "output_type": "stream",
     "text": [
      "2021-09-01 15:45:00.244052: W tensorflow/core/grappler/optimizers/loop_optimizer.cc:906] Skipping loop optimization for Merge node with control input: StatefulPartitionedCall/cond/branch_executed/_115\n",
      "2021-09-01 15:45:00.249709: W tensorflow/core/grappler/optimizers/loop_optimizer.cc:906] Skipping loop optimization for Merge node with control input: StatefulPartitionedCall/cond/branch_executed/_115\n",
      "2021-09-01 15:45:00.261902: W tensorflow/core/grappler/optimizers/loop_optimizer.cc:906] Skipping loop optimization for Merge node with control input: StatefulPartitionedCall/cond/branch_executed/_115\n",
      "2021-09-01 15:45:00.801314: W tensorflow/core/grappler/optimizers/loop_optimizer.cc:906] Skipping loop optimization for Merge node with control input: StatefulPartitionedCall/cond/branch_executed/_52\n"
     ]
    },
    {
     "name": "stdout",
     "output_type": "stream",
     "text": [
      "round:  9, loss: 0.6598372459411621, test_accuracy: 0.46621620655059814, training_recall : 0.5842499732971191, training_precision = 0.7316843867301941, training_f1 = 0.6497080132745615, val_precision = 0.3919999897480011, val_recall = 0.942307710647583, val_f1 = 0.5536723272364188\n"
     ]
    },
    {
     "name": "stderr",
     "output_type": "stream",
     "text": [
      "2021-09-01 15:45:01.268149: W tensorflow/core/grappler/optimizers/loop_optimizer.cc:906] Skipping loop optimization for Merge node with control input: StatefulPartitionedCall/cond/branch_executed/_115\n",
      "2021-09-01 15:45:01.271058: W tensorflow/core/grappler/optimizers/loop_optimizer.cc:906] Skipping loop optimization for Merge node with control input: StatefulPartitionedCall/cond/branch_executed/_115\n",
      "2021-09-01 15:45:01.295098: W tensorflow/core/grappler/optimizers/loop_optimizer.cc:906] Skipping loop optimization for Merge node with control input: StatefulPartitionedCall/cond/branch_executed/_115\n"
     ]
    },
    {
     "name": "stdout",
     "output_type": "stream",
     "text": [
      "round: 10, loss: 0.6595383286476135, test_accuracy: 0.5, training_recall : 0.5245000123977661, training_precision = 0.7444996237754822, training_f1 = 0.6154297641928618, val_precision = 0.40833333134651184, val_recall = 0.942307710647583, val_f1 = 0.5697674439130528\n"
     ]
    },
    {
     "name": "stderr",
     "output_type": "stream",
     "text": [
      "2021-09-01 15:45:01.871902: W tensorflow/core/grappler/optimizers/loop_optimizer.cc:906] Skipping loop optimization for Merge node with control input: StatefulPartitionedCall/cond/branch_executed/_52\n"
     ]
    }
   ],
   "source": [
    "NUM_ROUNDS = 10\n",
    "MAX_STD = 0.001\n",
    "loss = list()\n",
    "accuracy = list()\n",
    "val_loss = list()\n",
    "val_accuracy = list()\n",
    "precision = list()\n",
    "recall = list()\n",
    "f1 = list()\n",
    "val_precision = list()\n",
    "val_recall = list()\n",
    "val_f1 = list() \n",
    "train_AUC = list()\n",
    "val_AUC = list() \n",
    "\n",
    "with summary_writer.as_default():\n",
    "    for round_num in range(1, NUM_ROUNDS+1):\n",
    "        state, metrics = iterative_process.next(state, federated_train_data)\n",
    "        val_metrics = evaluation(state.model, federated_test_data)\n",
    "        \n",
    "        my_precision = metrics['train']['Precision']\n",
    "        precision.append(my_precision)\n",
    "        \n",
    "        my_recall = metrics['train']['Recall']\n",
    "        recall.append(my_recall)\n",
    "        \n",
    "        my_f1 = 2 * (my_precision * my_recall) / (my_precision + my_recall)\n",
    "        f1.append(my_f1)\n",
    "        \n",
    "        val_precision.append(val_metrics['Precision'])\n",
    "        val_recall.append(val_metrics['Recall'])\n",
    "        my_val_f1 = 2 * (val_metrics['Precision'] * val_metrics['Recall']) / (val_metrics['Precision'] + val_metrics['Recall'])\n",
    "        val_f1.append(my_val_f1)\n",
    "        \n",
    "        my_loss = metrics['train']['loss']\n",
    "        \n",
    "        train_AUC.append(metrics['train']['AUC'])\n",
    "        val_AUC.append(val_metrics['AUC'])\n",
    "        \n",
    "        loss.append(metrics['train']['loss'])\n",
    "        accuracy.append(metrics['train']['binary_accuracy'])\n",
    "        my_acc = val_metrics['binary_accuracy']\n",
    "        val_loss.append(val_metrics['loss'])\n",
    "        val_accuracy.append(val_metrics['binary_accuracy'])\n",
    "        print(f\"round: {round_num:2d}, loss: {my_loss}, test_accuracy: {my_acc}, training_recall : {my_recall}, training_precision = {my_precision}, training_f1 = {my_f1}, val_precision = {val_metrics['Precision']}, val_recall = {val_metrics['Recall']}, val_f1 = {my_val_f1}\")\n",
    "        for name, value in metrics['train'].items():\n",
    "            tf.summary.scalar(name, value, step=round_num)\n",
    "\n"
   ]
  },
  {
   "cell_type": "code",
   "execution_count": 33,
   "metadata": {},
   "outputs": [
    {
     "name": "stdout",
     "output_type": "stream",
     "text": [
      "[<PrefetchDataset shapes: OrderedDict([(x, (None, 30)), (y, (None, 1))]), types: OrderedDict([(x, tf.float32), (y, tf.int32)])>]\n"
     ]
    }
   ],
   "source": [
    "federated_test_data = make_federated_data(test_data, test_client_ids)\n",
    "print(federated_test_data)"
   ]
  },
  {
   "cell_type": "code",
   "execution_count": 34,
   "metadata": {},
   "outputs": [],
   "source": [
    "%load_ext tensorboard"
   ]
  },
  {
   "cell_type": "code",
   "execution_count": 36,
   "metadata": {
    "tags": []
   },
   "outputs": [
    {
     "name": "stdout",
     "output_type": "stream",
     "text": [
      "events.out.tfevents.1630525483.ethananatesimac.lan.34716.23612.v2\n"
     ]
    },
    {
     "data": {
      "text/plain": [
       "Reusing TensorBoard on port 6004 (pid 35819), started 0:00:11 ago. (Use '!kill 35819' to kill it.)"
      ]
     },
     "metadata": {},
     "output_type": "display_data"
    },
    {
     "data": {
      "text/html": [
       "\n",
       "      <iframe id=\"tensorboard-frame-4712497861da1d\" width=\"100%\" height=\"800\" frameborder=\"0\">\n",
       "      </iframe>\n",
       "      <script>\n",
       "        (function() {\n",
       "          const frame = document.getElementById(\"tensorboard-frame-4712497861da1d\");\n",
       "          const url = new URL(\"/\", window.location);\n",
       "          const port = 6004;\n",
       "          if (port) {\n",
       "            url.port = port;\n",
       "          }\n",
       "          frame.src = url;\n",
       "        })();\n",
       "      </script>\n",
       "    "
      ],
      "text/plain": [
       "<IPython.core.display.HTML object>"
      ]
     },
     "metadata": {},
     "output_type": "display_data"
    }
   ],
   "source": [
    "!ls {logdir}\n",
    "%tensorboard --host 0.0.0.0 --logdir {logdir} --port=6004"
   ]
  },
  {
   "cell_type": "code",
   "execution_count": 37,
   "metadata": {},
   "outputs": [
    {
     "data": {
      "text/plain": [
       "Text(0.5, 0, 'Round')"
      ]
     },
     "execution_count": 37,
     "metadata": {},
     "output_type": "execute_result"
    },
    {
     "data": {
      "image/png": "[encoded data removed]",
      "text/plain": [
       "<Figure size 576x576 with 2 Axes>"
      ]
     },
     "metadata": {
      "needs_background": "light"
     },
     "output_type": "display_data"
    }
   ],
   "source": [
    "fig1 = plt.figure(figsize=(8, 8))\n",
    "ax1 = fig1.add_subplot(2, 1, 1)\n",
    "ax1.plot(accuracy, label='Training Accuracy')\n",
    "ax1.plot(val_accuracy, label='Validation Accuracy')\n",
    "ax1.legend(loc='lower right')\n",
    "ax1.set_ylabel('Accuracy')\n",
    "ax1.set_ylim([0, 1])\n",
    "ax1.set_title('Training and Validation AUC')\n",
    "\n",
    "ax2 = fig1.add_subplot(2, 1, 2)\n",
    "ax2.plot(loss, label='Training Loss')\n",
    "ax2.plot(val_loss, label='Validation Loss')\n",
    "ax2.legend(loc='upper right')\n",
    "ax2.set_ylabel('Cross Entropy')\n",
    "ax2.set_ylim([0,max(ax2.get_ylim())])\n",
    "ax2.set_title('Training and Validation Loss')\n",
    "ax2.set_xlabel('Round')\n",
    "\n",
    "# plt.savefig('./figures/DELIRIUM_normalized_TFF_accuracy_loss_10_rounds.png')\n"
   ]
  },
  {
   "cell_type": "code",
   "execution_count": 38,
   "metadata": {},
   "outputs": [
    {
     "data": {
      "text/plain": [
       "Text(0.5, 0, 'Round')"
      ]
     },
     "execution_count": 38,
     "metadata": {},
     "output_type": "execute_result"
    },
    {
     "data": {
      "image/png": "[encoded data removed]",
      "text/plain": [
       "<Figure size 576x576 with 2 Axes>"
      ]
     },
     "metadata": {
      "needs_background": "light"
     },
     "output_type": "display_data"
    }
   ],
   "source": [
    "fig1 = plt.figure(figsize=(8, 8))\n",
    "ax1 = fig1.add_subplot(2, 1, 1)\n",
    "ax1.plot(precision, label='Training precision')\n",
    "ax1.plot(val_precision, label='Validation precision')\n",
    "ax1.legend(loc='lower right')\n",
    "ax1.set_ylabel('Accuracy')\n",
    "ax1.set_ylim([0, 1])\n",
    "ax1.set_title('Training and Validation precision')\n",
    "\n",
    "ax2 = fig1.add_subplot(2, 1, 2)\n",
    "ax2.plot(recall, label='Training recall')\n",
    "ax2.plot(val_recall, label='Validation recall')\n",
    "ax2.legend(loc='upper right')\n",
    "ax2.set_ylabel('Cross Entropy')\n",
    "ax2.set_ylim([0,max(ax2.get_ylim())])\n",
    "ax2.set_title('Training and Validation recall')\n",
    "ax2.set_xlabel('Round')\n"
   ]
  },
  {
   "cell_type": "code",
   "execution_count": 39,
   "metadata": {},
   "outputs": [],
   "source": [
    "# evaluation = tff.learning.build_federated_evaluation(model_fn)"
   ]
  },
  {
   "cell_type": "code",
   "execution_count": 40,
   "metadata": {},
   "outputs": [],
   "source": [
    "# str(evaluation.type_signature)"
   ]
  },
  {
   "cell_type": "code",
   "execution_count": 41,
   "metadata": {},
   "outputs": [
    {
     "name": "stderr",
     "output_type": "stream",
     "text": [
      "2021-09-01 15:46:13.310347: W tensorflow/core/grappler/optimizers/loop_optimizer.cc:906] Skipping loop optimization for Merge node with control input: StatefulPartitionedCall/cond/branch_executed/_52\n",
      "2021-09-01 15:46:13.318178: W tensorflow/core/grappler/optimizers/loop_optimizer.cc:906] Skipping loop optimization for Merge node with control input: StatefulPartitionedCall/cond/branch_executed/_52\n",
      "2021-09-01 15:46:13.329130: W tensorflow/core/grappler/optimizers/loop_optimizer.cc:906] Skipping loop optimization for Merge node with control input: StatefulPartitionedCall/cond/branch_executed/_52\n"
     ]
    }
   ],
   "source": [
    "train_metrics = evaluation(state.model, federated_train_data)"
   ]
  },
  {
   "cell_type": "code",
   "execution_count": 42,
   "metadata": {},
   "outputs": [
    {
     "data": {
      "text/plain": [
       "\"OrderedDict([('binary_accuracy', 0.50831354), ('Precision', 0.42857143), ('Recall', 0.88125), ('AUC', 0.7384219), ('loss', 0.6905332)])\""
      ]
     },
     "execution_count": 42,
     "metadata": {},
     "output_type": "execute_result"
    }
   ],
   "source": [
    "str(train_metrics)"
   ]
  },
  {
   "cell_type": "code",
   "execution_count": 43,
   "metadata": {},
   "outputs": [],
   "source": [
    "# federated_test_data = make_federated_data(test_data, test_client_ids)\n",
    "# len(federated_test_data), federated_test_data[0]"
   ]
  },
  {
   "cell_type": "code",
   "execution_count": 44,
   "metadata": {},
   "outputs": [
    {
     "name": "stderr",
     "output_type": "stream",
     "text": [
      "2021-09-01 15:46:13.965308: W tensorflow/core/grappler/optimizers/loop_optimizer.cc:906] Skipping loop optimization for Merge node with control input: StatefulPartitionedCall/cond/branch_executed/_52\n"
     ]
    }
   ],
   "source": [
    "test_metrics = evaluation(state.model, federated_test_data)"
   ]
  },
  {
   "cell_type": "code",
   "execution_count": 45,
   "metadata": {},
   "outputs": [
    {
     "data": {
      "text/plain": [
       "\"OrderedDict([('binary_accuracy', 0.5), ('Precision', 0.40833333), ('Recall', 0.9423077), ('AUC', 0.6515425), ('loss', 0.69292724)])\""
      ]
     },
     "execution_count": 45,
     "metadata": {},
     "output_type": "execute_result"
    }
   ],
   "source": [
    "str(test_metrics)"
   ]
  },
  {
   "cell_type": "code",
   "execution_count": null,
   "metadata": {},
   "outputs": [],
   "source": []
  }
 ],
 "metadata": {
  "kernelspec": {
   "display_name": "Python 3 (ipykernel)",
   "language": "python",
   "name": "python3"
  },
  "language_info": {
   "codemirror_mode": {
    "name": "ipython",
    "version": 3
   },
   "file_extension": ".py",
   "mimetype": "text/x-python",
   "name": "python",
   "nbconvert_exporter": "python",
   "pygments_lexer": "ipython3",
   "version": "3.9.6"
  }
 },
 "nbformat": 4,
 "nbformat_minor": 4
}
