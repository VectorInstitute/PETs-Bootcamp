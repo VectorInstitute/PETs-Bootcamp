{
 "cells": [
  {
   "cell_type": "markdown",
   "metadata": {},
   "source": [
    "# Federated learning for tabular data - Breast Cancer Dataset\n",
    "\n",
    "References:\n",
    "- https://www.tensorflow.org/federated/tutorials/federated_learning_for_image_classification\n",
    "- https://stackoverflow.com/questions/58965488/how-to-create-federated-dataset-from-a-csv-file\n",
    "- https://www.youtube.com/watch?v=JBNas6Yd30A&ab_channel=GoogleTechTalks \n"
   ]
  },
  {
   "cell_type": "markdown",
   "metadata": {},
   "source": [
    "To make sure that your environment is correctly setup, run the following. \n",
    "If you don't see a greeting, refer to the [Installation](https://www.tensorflow.org/federated/install) guide for instructions."
   ]
  },
  {
   "cell_type": "code",
   "execution_count": 1,
   "metadata": {},
   "outputs": [],
   "source": [
    "import nest_asyncio\n",
    "nest_asyncio.apply()"
   ]
  },
  {
   "cell_type": "code",
   "execution_count": 2,
   "metadata": {},
   "outputs": [
    {
     "name": "stderr",
     "output_type": "stream",
     "text": [
      "2021-11-01 08:59:44.443463: W tensorflow/stream_executor/platform/default/dso_loader.cc:64] Could not load dynamic library 'libcudart.so.11.0'; dlerror: libcudart.so.11.0: cannot open shared object file: No such file or directory\n",
      "2021-11-01 08:59:44.443504: I tensorflow/stream_executor/cuda/cudart_stub.cc:29] Ignore above cudart dlerror if you do not have a GPU set up on your machine.\n"
     ]
    },
    {
     "name": "stdout",
     "output_type": "stream",
     "text": [
      "WARNING:tensorflow:From /h/ethanj/.conda/envs/tff_test_4/lib/python3.8/site-packages/tensorflow_federated/python/core/impl/compiler/tensorflow_computation_transformations.py:61: extract_sub_graph (from tensorflow.python.framework.graph_util_impl) is deprecated and will be removed in a future version.\n",
      "Instructions for updating:\n",
      "Use `tf.compat.v1.graph_util.extract_sub_graph`\n"
     ]
    },
    {
     "name": "stderr",
     "output_type": "stream",
     "text": [
      "WARNING:tensorflow:From /h/ethanj/.conda/envs/tff_test_4/lib/python3.8/site-packages/tensorflow_federated/python/core/impl/compiler/tensorflow_computation_transformations.py:61: extract_sub_graph (from tensorflow.python.framework.graph_util_impl) is deprecated and will be removed in a future version.\n",
      "Instructions for updating:\n",
      "Use `tf.compat.v1.graph_util.extract_sub_graph`\n",
      "2021-11-01 08:59:48.971536: W tensorflow/stream_executor/platform/default/dso_loader.cc:64] Could not load dynamic library 'libcudart.so.11.0'; dlerror: libcudart.so.11.0: cannot open shared object file: No such file or directory\n",
      "2021-11-01 08:59:48.971650: W tensorflow/stream_executor/platform/default/dso_loader.cc:64] Could not load dynamic library 'libcublas.so.11'; dlerror: libcublas.so.11: cannot open shared object file: No such file or directory\n",
      "2021-11-01 08:59:48.971721: W tensorflow/stream_executor/platform/default/dso_loader.cc:64] Could not load dynamic library 'libcublasLt.so.11'; dlerror: libcublasLt.so.11: cannot open shared object file: No such file or directory\n",
      "2021-11-01 08:59:48.971790: W tensorflow/stream_executor/platform/default/dso_loader.cc:64] Could not load dynamic library 'libcufft.so.10'; dlerror: libcufft.so.10: cannot open shared object file: No such file or directory\n",
      "2021-11-01 08:59:48.971860: W tensorflow/stream_executor/platform/default/dso_loader.cc:64] Could not load dynamic library 'libcurand.so.10'; dlerror: libcurand.so.10: cannot open shared object file: No such file or directory\n",
      "2021-11-01 08:59:48.971928: W tensorflow/stream_executor/platform/default/dso_loader.cc:64] Could not load dynamic library 'libcusolver.so.11'; dlerror: libcusolver.so.11: cannot open shared object file: No such file or directory\n",
      "2021-11-01 08:59:48.971995: W tensorflow/stream_executor/platform/default/dso_loader.cc:64] Could not load dynamic library 'libcusparse.so.11'; dlerror: libcusparse.so.11: cannot open shared object file: No such file or directory\n",
      "2021-11-01 08:59:48.972063: W tensorflow/stream_executor/platform/default/dso_loader.cc:64] Could not load dynamic library 'libcudnn.so.8'; dlerror: libcudnn.so.8: cannot open shared object file: No such file or directory\n",
      "2021-11-01 08:59:48.972075: W tensorflow/core/common_runtime/gpu/gpu_device.cc:1850] Cannot dlopen some GPU libraries. Please make sure the missing libraries mentioned above are installed properly if you would like to use GPU. Follow the guide at https://www.tensorflow.org/install/gpu for how to download and setup the required libraries for your platform.\n",
      "Skipping registering GPU devices...\n",
      "2021-11-01 08:59:48.972574: I tensorflow/core/platform/cpu_feature_guard.cc:151] This TensorFlow binary is optimized with oneAPI Deep Neural Network Library (oneDNN) to use the following CPU instructions in performance-critical operations:  AVX2 AVX512F FMA\n",
      "To enable them in other operations, rebuild TensorFlow with the appropriate compiler flags.\n"
     ]
    },
    {
     "data": {
      "text/plain": [
       "b'Hello, World!'"
      ]
     },
     "execution_count": 2,
     "metadata": {},
     "output_type": "execute_result"
    }
   ],
   "source": [
    "# !pip install nest_asyncio\n",
    "import nest_asyncio\n",
    "nest_asyncio.apply()\n",
    "import collections\n",
    "import numpy as np\n",
    "import tensorflow as tf\n",
    "import tensorflow_federated as tff\n",
    "from tensorflow import reshape, nest, config\n",
    "from tensorflow.keras.datasets import mnist\n",
    "import pandas as pd\n",
    "from random import sample\n",
    "from matplotlib import pyplot as plt\n",
    "from sklearn import preprocessing\n",
    "np.random.seed(0)\n",
    "\n",
    "tff.federated_computation(lambda: 'Hello, World!')()"
   ]
  },
  {
   "cell_type": "markdown",
   "metadata": {},
   "source": [
    "#### Loading and Preparing the tabular input data"
   ]
  },
  {
   "cell_type": "markdown",
   "metadata": {},
   "source": [
    "Federated learning requires a federated data set, i.e., a collection of data from multiple users. \n",
    "The TFF has a few federated datasets, but in this notebook, we will be converting a tabular dataset to a federated one. "
   ]
  },
  {
   "cell_type": "code",
   "execution_count": 3,
   "metadata": {
    "tags": []
   },
   "outputs": [
    {
     "data": {
      "text/html": [
       "<div>\n",
       "<style scoped>\n",
       "    .dataframe tbody tr th:only-of-type {\n",
       "        vertical-align: middle;\n",
       "    }\n",
       "\n",
       "    .dataframe tbody tr th {\n",
       "        vertical-align: top;\n",
       "    }\n",
       "\n",
       "    .dataframe thead th {\n",
       "        text-align: right;\n",
       "    }\n",
       "</style>\n",
       "<table border=\"1\" class=\"dataframe\">\n",
       "  <thead>\n",
       "    <tr style=\"text-align: right;\">\n",
       "      <th></th>\n",
       "      <th>id</th>\n",
       "      <th>diagnosis</th>\n",
       "      <th>radius_mean</th>\n",
       "      <th>texture_mean</th>\n",
       "      <th>perimeter_mean</th>\n",
       "      <th>area_mean</th>\n",
       "      <th>smoothness_mean</th>\n",
       "      <th>compactness_mean</th>\n",
       "      <th>concavity_mean</th>\n",
       "      <th>concave points_mean</th>\n",
       "      <th>...</th>\n",
       "      <th>texture_worst</th>\n",
       "      <th>perimeter_worst</th>\n",
       "      <th>area_worst</th>\n",
       "      <th>smoothness_worst</th>\n",
       "      <th>compactness_worst</th>\n",
       "      <th>concavity_worst</th>\n",
       "      <th>concave points_worst</th>\n",
       "      <th>symmetry_worst</th>\n",
       "      <th>fractal_dimension_worst</th>\n",
       "      <th>Unnamed: 32</th>\n",
       "    </tr>\n",
       "  </thead>\n",
       "  <tbody>\n",
       "    <tr>\n",
       "      <th>0</th>\n",
       "      <td>842302</td>\n",
       "      <td>M</td>\n",
       "      <td>17.99</td>\n",
       "      <td>10.38</td>\n",
       "      <td>122.80</td>\n",
       "      <td>1001.0</td>\n",
       "      <td>0.11840</td>\n",
       "      <td>0.27760</td>\n",
       "      <td>0.30010</td>\n",
       "      <td>0.14710</td>\n",
       "      <td>...</td>\n",
       "      <td>17.33</td>\n",
       "      <td>184.60</td>\n",
       "      <td>2019.0</td>\n",
       "      <td>0.16220</td>\n",
       "      <td>0.66560</td>\n",
       "      <td>0.7119</td>\n",
       "      <td>0.2654</td>\n",
       "      <td>0.4601</td>\n",
       "      <td>0.11890</td>\n",
       "      <td>NaN</td>\n",
       "    </tr>\n",
       "    <tr>\n",
       "      <th>1</th>\n",
       "      <td>842517</td>\n",
       "      <td>M</td>\n",
       "      <td>20.57</td>\n",
       "      <td>17.77</td>\n",
       "      <td>132.90</td>\n",
       "      <td>1326.0</td>\n",
       "      <td>0.08474</td>\n",
       "      <td>0.07864</td>\n",
       "      <td>0.08690</td>\n",
       "      <td>0.07017</td>\n",
       "      <td>...</td>\n",
       "      <td>23.41</td>\n",
       "      <td>158.80</td>\n",
       "      <td>1956.0</td>\n",
       "      <td>0.12380</td>\n",
       "      <td>0.18660</td>\n",
       "      <td>0.2416</td>\n",
       "      <td>0.1860</td>\n",
       "      <td>0.2750</td>\n",
       "      <td>0.08902</td>\n",
       "      <td>NaN</td>\n",
       "    </tr>\n",
       "    <tr>\n",
       "      <th>2</th>\n",
       "      <td>84300903</td>\n",
       "      <td>M</td>\n",
       "      <td>19.69</td>\n",
       "      <td>21.25</td>\n",
       "      <td>130.00</td>\n",
       "      <td>1203.0</td>\n",
       "      <td>0.10960</td>\n",
       "      <td>0.15990</td>\n",
       "      <td>0.19740</td>\n",
       "      <td>0.12790</td>\n",
       "      <td>...</td>\n",
       "      <td>25.53</td>\n",
       "      <td>152.50</td>\n",
       "      <td>1709.0</td>\n",
       "      <td>0.14440</td>\n",
       "      <td>0.42450</td>\n",
       "      <td>0.4504</td>\n",
       "      <td>0.2430</td>\n",
       "      <td>0.3613</td>\n",
       "      <td>0.08758</td>\n",
       "      <td>NaN</td>\n",
       "    </tr>\n",
       "    <tr>\n",
       "      <th>3</th>\n",
       "      <td>84348301</td>\n",
       "      <td>M</td>\n",
       "      <td>11.42</td>\n",
       "      <td>20.38</td>\n",
       "      <td>77.58</td>\n",
       "      <td>386.1</td>\n",
       "      <td>0.14250</td>\n",
       "      <td>0.28390</td>\n",
       "      <td>0.24140</td>\n",
       "      <td>0.10520</td>\n",
       "      <td>...</td>\n",
       "      <td>26.50</td>\n",
       "      <td>98.87</td>\n",
       "      <td>567.7</td>\n",
       "      <td>0.20980</td>\n",
       "      <td>0.86630</td>\n",
       "      <td>0.6869</td>\n",
       "      <td>0.2575</td>\n",
       "      <td>0.6638</td>\n",
       "      <td>0.17300</td>\n",
       "      <td>NaN</td>\n",
       "    </tr>\n",
       "    <tr>\n",
       "      <th>4</th>\n",
       "      <td>84358402</td>\n",
       "      <td>M</td>\n",
       "      <td>20.29</td>\n",
       "      <td>14.34</td>\n",
       "      <td>135.10</td>\n",
       "      <td>1297.0</td>\n",
       "      <td>0.10030</td>\n",
       "      <td>0.13280</td>\n",
       "      <td>0.19800</td>\n",
       "      <td>0.10430</td>\n",
       "      <td>...</td>\n",
       "      <td>16.67</td>\n",
       "      <td>152.20</td>\n",
       "      <td>1575.0</td>\n",
       "      <td>0.13740</td>\n",
       "      <td>0.20500</td>\n",
       "      <td>0.4000</td>\n",
       "      <td>0.1625</td>\n",
       "      <td>0.2364</td>\n",
       "      <td>0.07678</td>\n",
       "      <td>NaN</td>\n",
       "    </tr>\n",
       "    <tr>\n",
       "      <th>...</th>\n",
       "      <td>...</td>\n",
       "      <td>...</td>\n",
       "      <td>...</td>\n",
       "      <td>...</td>\n",
       "      <td>...</td>\n",
       "      <td>...</td>\n",
       "      <td>...</td>\n",
       "      <td>...</td>\n",
       "      <td>...</td>\n",
       "      <td>...</td>\n",
       "      <td>...</td>\n",
       "      <td>...</td>\n",
       "      <td>...</td>\n",
       "      <td>...</td>\n",
       "      <td>...</td>\n",
       "      <td>...</td>\n",
       "      <td>...</td>\n",
       "      <td>...</td>\n",
       "      <td>...</td>\n",
       "      <td>...</td>\n",
       "      <td>...</td>\n",
       "    </tr>\n",
       "    <tr>\n",
       "      <th>564</th>\n",
       "      <td>926424</td>\n",
       "      <td>M</td>\n",
       "      <td>21.56</td>\n",
       "      <td>22.39</td>\n",
       "      <td>142.00</td>\n",
       "      <td>1479.0</td>\n",
       "      <td>0.11100</td>\n",
       "      <td>0.11590</td>\n",
       "      <td>0.24390</td>\n",
       "      <td>0.13890</td>\n",
       "      <td>...</td>\n",
       "      <td>26.40</td>\n",
       "      <td>166.10</td>\n",
       "      <td>2027.0</td>\n",
       "      <td>0.14100</td>\n",
       "      <td>0.21130</td>\n",
       "      <td>0.4107</td>\n",
       "      <td>0.2216</td>\n",
       "      <td>0.2060</td>\n",
       "      <td>0.07115</td>\n",
       "      <td>NaN</td>\n",
       "    </tr>\n",
       "    <tr>\n",
       "      <th>565</th>\n",
       "      <td>926682</td>\n",
       "      <td>M</td>\n",
       "      <td>20.13</td>\n",
       "      <td>28.25</td>\n",
       "      <td>131.20</td>\n",
       "      <td>1261.0</td>\n",
       "      <td>0.09780</td>\n",
       "      <td>0.10340</td>\n",
       "      <td>0.14400</td>\n",
       "      <td>0.09791</td>\n",
       "      <td>...</td>\n",
       "      <td>38.25</td>\n",
       "      <td>155.00</td>\n",
       "      <td>1731.0</td>\n",
       "      <td>0.11660</td>\n",
       "      <td>0.19220</td>\n",
       "      <td>0.3215</td>\n",
       "      <td>0.1628</td>\n",
       "      <td>0.2572</td>\n",
       "      <td>0.06637</td>\n",
       "      <td>NaN</td>\n",
       "    </tr>\n",
       "    <tr>\n",
       "      <th>566</th>\n",
       "      <td>926954</td>\n",
       "      <td>M</td>\n",
       "      <td>16.60</td>\n",
       "      <td>28.08</td>\n",
       "      <td>108.30</td>\n",
       "      <td>858.1</td>\n",
       "      <td>0.08455</td>\n",
       "      <td>0.10230</td>\n",
       "      <td>0.09251</td>\n",
       "      <td>0.05302</td>\n",
       "      <td>...</td>\n",
       "      <td>34.12</td>\n",
       "      <td>126.70</td>\n",
       "      <td>1124.0</td>\n",
       "      <td>0.11390</td>\n",
       "      <td>0.30940</td>\n",
       "      <td>0.3403</td>\n",
       "      <td>0.1418</td>\n",
       "      <td>0.2218</td>\n",
       "      <td>0.07820</td>\n",
       "      <td>NaN</td>\n",
       "    </tr>\n",
       "    <tr>\n",
       "      <th>567</th>\n",
       "      <td>927241</td>\n",
       "      <td>M</td>\n",
       "      <td>20.60</td>\n",
       "      <td>29.33</td>\n",
       "      <td>140.10</td>\n",
       "      <td>1265.0</td>\n",
       "      <td>0.11780</td>\n",
       "      <td>0.27700</td>\n",
       "      <td>0.35140</td>\n",
       "      <td>0.15200</td>\n",
       "      <td>...</td>\n",
       "      <td>39.42</td>\n",
       "      <td>184.60</td>\n",
       "      <td>1821.0</td>\n",
       "      <td>0.16500</td>\n",
       "      <td>0.86810</td>\n",
       "      <td>0.9387</td>\n",
       "      <td>0.2650</td>\n",
       "      <td>0.4087</td>\n",
       "      <td>0.12400</td>\n",
       "      <td>NaN</td>\n",
       "    </tr>\n",
       "    <tr>\n",
       "      <th>568</th>\n",
       "      <td>92751</td>\n",
       "      <td>B</td>\n",
       "      <td>7.76</td>\n",
       "      <td>24.54</td>\n",
       "      <td>47.92</td>\n",
       "      <td>181.0</td>\n",
       "      <td>0.05263</td>\n",
       "      <td>0.04362</td>\n",
       "      <td>0.00000</td>\n",
       "      <td>0.00000</td>\n",
       "      <td>...</td>\n",
       "      <td>30.37</td>\n",
       "      <td>59.16</td>\n",
       "      <td>268.6</td>\n",
       "      <td>0.08996</td>\n",
       "      <td>0.06444</td>\n",
       "      <td>0.0000</td>\n",
       "      <td>0.0000</td>\n",
       "      <td>0.2871</td>\n",
       "      <td>0.07039</td>\n",
       "      <td>NaN</td>\n",
       "    </tr>\n",
       "  </tbody>\n",
       "</table>\n",
       "<p>569 rows × 33 columns</p>\n",
       "</div>"
      ],
      "text/plain": [
       "           id diagnosis  radius_mean  texture_mean  perimeter_mean  area_mean  \\\n",
       "0      842302         M        17.99         10.38          122.80     1001.0   \n",
       "1      842517         M        20.57         17.77          132.90     1326.0   \n",
       "2    84300903         M        19.69         21.25          130.00     1203.0   \n",
       "3    84348301         M        11.42         20.38           77.58      386.1   \n",
       "4    84358402         M        20.29         14.34          135.10     1297.0   \n",
       "..        ...       ...          ...           ...             ...        ...   \n",
       "564    926424         M        21.56         22.39          142.00     1479.0   \n",
       "565    926682         M        20.13         28.25          131.20     1261.0   \n",
       "566    926954         M        16.60         28.08          108.30      858.1   \n",
       "567    927241         M        20.60         29.33          140.10     1265.0   \n",
       "568     92751         B         7.76         24.54           47.92      181.0   \n",
       "\n",
       "     smoothness_mean  compactness_mean  concavity_mean  concave points_mean  \\\n",
       "0            0.11840           0.27760         0.30010              0.14710   \n",
       "1            0.08474           0.07864         0.08690              0.07017   \n",
       "2            0.10960           0.15990         0.19740              0.12790   \n",
       "3            0.14250           0.28390         0.24140              0.10520   \n",
       "4            0.10030           0.13280         0.19800              0.10430   \n",
       "..               ...               ...             ...                  ...   \n",
       "564          0.11100           0.11590         0.24390              0.13890   \n",
       "565          0.09780           0.10340         0.14400              0.09791   \n",
       "566          0.08455           0.10230         0.09251              0.05302   \n",
       "567          0.11780           0.27700         0.35140              0.15200   \n",
       "568          0.05263           0.04362         0.00000              0.00000   \n",
       "\n",
       "     ...  texture_worst  perimeter_worst  area_worst  smoothness_worst  \\\n",
       "0    ...          17.33           184.60      2019.0           0.16220   \n",
       "1    ...          23.41           158.80      1956.0           0.12380   \n",
       "2    ...          25.53           152.50      1709.0           0.14440   \n",
       "3    ...          26.50            98.87       567.7           0.20980   \n",
       "4    ...          16.67           152.20      1575.0           0.13740   \n",
       "..   ...            ...              ...         ...               ...   \n",
       "564  ...          26.40           166.10      2027.0           0.14100   \n",
       "565  ...          38.25           155.00      1731.0           0.11660   \n",
       "566  ...          34.12           126.70      1124.0           0.11390   \n",
       "567  ...          39.42           184.60      1821.0           0.16500   \n",
       "568  ...          30.37            59.16       268.6           0.08996   \n",
       "\n",
       "     compactness_worst  concavity_worst  concave points_worst  symmetry_worst  \\\n",
       "0              0.66560           0.7119                0.2654          0.4601   \n",
       "1              0.18660           0.2416                0.1860          0.2750   \n",
       "2              0.42450           0.4504                0.2430          0.3613   \n",
       "3              0.86630           0.6869                0.2575          0.6638   \n",
       "4              0.20500           0.4000                0.1625          0.2364   \n",
       "..                 ...              ...                   ...             ...   \n",
       "564            0.21130           0.4107                0.2216          0.2060   \n",
       "565            0.19220           0.3215                0.1628          0.2572   \n",
       "566            0.30940           0.3403                0.1418          0.2218   \n",
       "567            0.86810           0.9387                0.2650          0.4087   \n",
       "568            0.06444           0.0000                0.0000          0.2871   \n",
       "\n",
       "     fractal_dimension_worst  Unnamed: 32  \n",
       "0                    0.11890          NaN  \n",
       "1                    0.08902          NaN  \n",
       "2                    0.08758          NaN  \n",
       "3                    0.17300          NaN  \n",
       "4                    0.07678          NaN  \n",
       "..                       ...          ...  \n",
       "564                  0.07115          NaN  \n",
       "565                  0.06637          NaN  \n",
       "566                  0.07820          NaN  \n",
       "567                  0.12400          NaN  \n",
       "568                  0.07039          NaN  \n",
       "\n",
       "[569 rows x 33 columns]"
      ]
     },
     "execution_count": 3,
     "metadata": {},
     "output_type": "execute_result"
    }
   ],
   "source": [
    "data = pd.read_csv('./breast_cancer_data.csv')\n",
    "# print(data.head(5))\n",
    "# print(data.columns)\n",
    "# print(len(data.columns))\n",
    "data\n"
   ]
  },
  {
   "cell_type": "code",
   "execution_count": 4,
   "metadata": {},
   "outputs": [
    {
     "name": "stdout",
     "output_type": "stream",
     "text": [
      "(569, 31)\n"
     ]
    },
    {
     "data": {
      "text/plain": [
       "RangeIndex(start=0, stop=30, step=1)"
      ]
     },
     "execution_count": 4,
     "metadata": {},
     "output_type": "execute_result"
    }
   ],
   "source": [
    "del data['Unnamed: 32']\n",
    "del data['id']\n",
    "print(data.shape)\n",
    "data['diagnosis'] = data['diagnosis'].str.replace('M','1')\n",
    "data['diagnosis'] = data['diagnosis'].str.replace('B','0')\n",
    "data[\"diagnosis\"] = pd.to_numeric(data[\"diagnosis\"])\n",
    "\n",
    "new = data.copy()\n",
    "del new['diagnosis']\n",
    "x = new.values #returns a numpy array\n",
    "min_max_scaler = preprocessing.MinMaxScaler()\n",
    "x_scaled = min_max_scaler.fit_transform(x)\n",
    "df = pd.DataFrame(x_scaled)\n",
    "df.columns"
   ]
  },
  {
   "cell_type": "code",
   "execution_count": 5,
   "metadata": {
    "scrolled": true
   },
   "outputs": [
    {
     "name": "stdout",
     "output_type": "stream",
     "text": [
      "     diagnosis  radius_mean  texture_mean  perimeter_mean  area_mean  \\\n",
      "0            1        17.99         10.38          122.80     1001.0   \n",
      "1            1        20.57         17.77          132.90     1326.0   \n",
      "2            1        19.69         21.25          130.00     1203.0   \n",
      "3            1        11.42         20.38           77.58      386.1   \n",
      "4            1        20.29         14.34          135.10     1297.0   \n",
      "..         ...          ...           ...             ...        ...   \n",
      "564          1        21.56         22.39          142.00     1479.0   \n",
      "565          1        20.13         28.25          131.20     1261.0   \n",
      "566          1        16.60         28.08          108.30      858.1   \n",
      "567          1        20.60         29.33          140.10     1265.0   \n",
      "568          0         7.76         24.54           47.92      181.0   \n",
      "\n",
      "     smoothness_mean  compactness_mean  concavity_mean  concave points_mean  \\\n",
      "0            0.11840           0.27760         0.30010              0.14710   \n",
      "1            0.08474           0.07864         0.08690              0.07017   \n",
      "2            0.10960           0.15990         0.19740              0.12790   \n",
      "3            0.14250           0.28390         0.24140              0.10520   \n",
      "4            0.10030           0.13280         0.19800              0.10430   \n",
      "..               ...               ...             ...                  ...   \n",
      "564          0.11100           0.11590         0.24390              0.13890   \n",
      "565          0.09780           0.10340         0.14400              0.09791   \n",
      "566          0.08455           0.10230         0.09251              0.05302   \n",
      "567          0.11780           0.27700         0.35140              0.15200   \n",
      "568          0.05263           0.04362         0.00000              0.00000   \n",
      "\n",
      "     symmetry_mean  ...  texture_worst  perimeter_worst  area_worst  \\\n",
      "0           0.2419  ...          17.33           184.60      2019.0   \n",
      "1           0.1812  ...          23.41           158.80      1956.0   \n",
      "2           0.2069  ...          25.53           152.50      1709.0   \n",
      "3           0.2597  ...          26.50            98.87       567.7   \n",
      "4           0.1809  ...          16.67           152.20      1575.0   \n",
      "..             ...  ...            ...              ...         ...   \n",
      "564         0.1726  ...          26.40           166.10      2027.0   \n",
      "565         0.1752  ...          38.25           155.00      1731.0   \n",
      "566         0.1590  ...          34.12           126.70      1124.0   \n",
      "567         0.2397  ...          39.42           184.60      1821.0   \n",
      "568         0.1587  ...          30.37            59.16       268.6   \n",
      "\n",
      "     smoothness_worst  compactness_worst  concavity_worst  \\\n",
      "0             0.16220            0.66560           0.7119   \n",
      "1             0.12380            0.18660           0.2416   \n",
      "2             0.14440            0.42450           0.4504   \n",
      "3             0.20980            0.86630           0.6869   \n",
      "4             0.13740            0.20500           0.4000   \n",
      "..                ...                ...              ...   \n",
      "564           0.14100            0.21130           0.4107   \n",
      "565           0.11660            0.19220           0.3215   \n",
      "566           0.11390            0.30940           0.3403   \n",
      "567           0.16500            0.86810           0.9387   \n",
      "568           0.08996            0.06444           0.0000   \n",
      "\n",
      "     concave points_worst  symmetry_worst  fractal_dimension_worst  \\\n",
      "0                  0.2654          0.4601                  0.11890   \n",
      "1                  0.1860          0.2750                  0.08902   \n",
      "2                  0.2430          0.3613                  0.08758   \n",
      "3                  0.2575          0.6638                  0.17300   \n",
      "4                  0.1625          0.2364                  0.07678   \n",
      "..                    ...             ...                      ...   \n",
      "564                0.2216          0.2060                  0.07115   \n",
      "565                0.1628          0.2572                  0.06637   \n",
      "566                0.1418          0.2218                  0.07820   \n",
      "567                0.2650          0.4087                  0.12400   \n",
      "568                0.0000          0.2871                  0.07039   \n",
      "\n",
      "                                              features  \n",
      "0    [0.5210374366983765, 0.022658099425092948, 0.5...  \n",
      "1    [0.6431444933503716, 0.27257355427798435, 0.61...  \n",
      "2    [0.6014955748024045, 0.3902603990530943, 0.595...  \n",
      "3    [0.21009039708457572, 0.3608386878593167, 0.23...  \n",
      "4    [0.6298925647214728, 0.1565776124450456, 0.630...  \n",
      "..                                                 ...  \n",
      "564  [0.6899995267168346, 0.42881298613459584, 0.67...  \n",
      "565  [0.6223200340763879, 0.626986810957051, 0.6040...  \n",
      "566  [0.45525107671920123, 0.6212377409536691, 0.44...  \n",
      "567  [0.644564342846325, 0.6635103145079471, 0.6655...  \n",
      "568  [0.03686875857825733, 0.5015218126479539, 0.02...  \n",
      "\n",
      "[569 rows x 32 columns]\n"
     ]
    }
   ],
   "source": [
    "new = df.copy()\n",
    "data['features']= new.values.tolist()\n",
    "print(data)"
   ]
  },
  {
   "cell_type": "markdown",
   "metadata": {},
   "source": [
    "### To simulate FL, we'll make a new column for \"hospital_id\" --> id: 1, 2, 3, 4"
   ]
  },
  {
   "cell_type": "code",
   "execution_count": 6,
   "metadata": {},
   "outputs": [],
   "source": [
    "data['hospital_id'] = np.random.randint(1,5, size=len(data))"
   ]
  },
  {
   "cell_type": "code",
   "execution_count": 7,
   "metadata": {},
   "outputs": [],
   "source": [
    "data = data[['diagnosis', 'hospital_id', 'features']]"
   ]
  },
  {
   "cell_type": "code",
   "execution_count": 8,
   "metadata": {},
   "outputs": [
    {
     "data": {
      "text/html": [
       "<div>\n",
       "<style scoped>\n",
       "    .dataframe tbody tr th:only-of-type {\n",
       "        vertical-align: middle;\n",
       "    }\n",
       "\n",
       "    .dataframe tbody tr th {\n",
       "        vertical-align: top;\n",
       "    }\n",
       "\n",
       "    .dataframe thead th {\n",
       "        text-align: right;\n",
       "    }\n",
       "</style>\n",
       "<table border=\"1\" class=\"dataframe\">\n",
       "  <thead>\n",
       "    <tr style=\"text-align: right;\">\n",
       "      <th></th>\n",
       "      <th>diagnosis</th>\n",
       "      <th>hospital_id</th>\n",
       "      <th>features</th>\n",
       "    </tr>\n",
       "  </thead>\n",
       "  <tbody>\n",
       "    <tr>\n",
       "      <th>0</th>\n",
       "      <td>1</td>\n",
       "      <td>1</td>\n",
       "      <td>[0.5210374366983765, 0.022658099425092948, 0.5...</td>\n",
       "    </tr>\n",
       "    <tr>\n",
       "      <th>1</th>\n",
       "      <td>1</td>\n",
       "      <td>4</td>\n",
       "      <td>[0.6431444933503716, 0.27257355427798435, 0.61...</td>\n",
       "    </tr>\n",
       "    <tr>\n",
       "      <th>2</th>\n",
       "      <td>1</td>\n",
       "      <td>2</td>\n",
       "      <td>[0.6014955748024045, 0.3902603990530943, 0.595...</td>\n",
       "    </tr>\n",
       "    <tr>\n",
       "      <th>3</th>\n",
       "      <td>1</td>\n",
       "      <td>1</td>\n",
       "      <td>[0.21009039708457572, 0.3608386878593167, 0.23...</td>\n",
       "    </tr>\n",
       "    <tr>\n",
       "      <th>4</th>\n",
       "      <td>1</td>\n",
       "      <td>4</td>\n",
       "      <td>[0.6298925647214728, 0.1565776124450456, 0.630...</td>\n",
       "    </tr>\n",
       "    <tr>\n",
       "      <th>...</th>\n",
       "      <td>...</td>\n",
       "      <td>...</td>\n",
       "      <td>...</td>\n",
       "    </tr>\n",
       "    <tr>\n",
       "      <th>564</th>\n",
       "      <td>1</td>\n",
       "      <td>2</td>\n",
       "      <td>[0.6899995267168346, 0.42881298613459584, 0.67...</td>\n",
       "    </tr>\n",
       "    <tr>\n",
       "      <th>565</th>\n",
       "      <td>1</td>\n",
       "      <td>4</td>\n",
       "      <td>[0.6223200340763879, 0.626986810957051, 0.6040...</td>\n",
       "    </tr>\n",
       "    <tr>\n",
       "      <th>566</th>\n",
       "      <td>1</td>\n",
       "      <td>4</td>\n",
       "      <td>[0.45525107671920123, 0.6212377409536691, 0.44...</td>\n",
       "    </tr>\n",
       "    <tr>\n",
       "      <th>567</th>\n",
       "      <td>1</td>\n",
       "      <td>2</td>\n",
       "      <td>[0.644564342846325, 0.6635103145079471, 0.6655...</td>\n",
       "    </tr>\n",
       "    <tr>\n",
       "      <th>568</th>\n",
       "      <td>0</td>\n",
       "      <td>2</td>\n",
       "      <td>[0.03686875857825733, 0.5015218126479539, 0.02...</td>\n",
       "    </tr>\n",
       "  </tbody>\n",
       "</table>\n",
       "<p>569 rows × 3 columns</p>\n",
       "</div>"
      ],
      "text/plain": [
       "     diagnosis  hospital_id                                           features\n",
       "0            1            1  [0.5210374366983765, 0.022658099425092948, 0.5...\n",
       "1            1            4  [0.6431444933503716, 0.27257355427798435, 0.61...\n",
       "2            1            2  [0.6014955748024045, 0.3902603990530943, 0.595...\n",
       "3            1            1  [0.21009039708457572, 0.3608386878593167, 0.23...\n",
       "4            1            4  [0.6298925647214728, 0.1565776124450456, 0.630...\n",
       "..         ...          ...                                                ...\n",
       "564          1            2  [0.6899995267168346, 0.42881298613459584, 0.67...\n",
       "565          1            4  [0.6223200340763879, 0.626986810957051, 0.6040...\n",
       "566          1            4  [0.45525107671920123, 0.6212377409536691, 0.44...\n",
       "567          1            2  [0.644564342846325, 0.6635103145079471, 0.6655...\n",
       "568          0            2  [0.03686875857825733, 0.5015218126479539, 0.02...\n",
       "\n",
       "[569 rows x 3 columns]"
      ]
     },
     "execution_count": 8,
     "metadata": {},
     "output_type": "execute_result"
    }
   ],
   "source": [
    "data"
   ]
  },
  {
   "cell_type": "markdown",
   "metadata": {},
   "source": [
    "For this tutorial, we have 4 hospitals. We will train on 3 clients."
   ]
  },
  {
   "cell_type": "code",
   "execution_count": 9,
   "metadata": {},
   "outputs": [],
   "source": [
    "client_id_colname = 'hospital_id' #column that represents client ID \n",
    "number_of_training_clients = 3\n",
    "\n",
    "# split client_id into train and test clients\n",
    "client_ids = data[client_id_colname].unique()\n",
    "train_client_ids = sample(client_ids.tolist(), number_of_training_clients)\n",
    "test_client_ids = [x for x in client_ids if x not in train_client_ids]"
   ]
  },
  {
   "cell_type": "code",
   "execution_count": 10,
   "metadata": {},
   "outputs": [
    {
     "data": {
      "text/plain": [
       "[3, 4, 1]"
      ]
     },
     "execution_count": 10,
     "metadata": {},
     "output_type": "execute_result"
    }
   ],
   "source": [
    "train_client_ids\n",
    "# test_client_ids"
   ]
  },
  {
   "cell_type": "markdown",
   "metadata": {},
   "source": [
    "The function `tff.simulation.ClientData.from_clients_and_fn`, requires that we write a function that accepts a `client_id` as input and returns a `tf.data.Dataset`. Let's do that in the helper function below: "
   ]
  },
  {
   "cell_type": "code",
   "execution_count": 11,
   "metadata": {},
   "outputs": [],
   "source": [
    "SHUFFLE_BUFFER = 1000\n",
    "NUM_EPOCHS = 10\n",
    "def create_tf_dataset_for_client_fn(client_id):\n",
    "    client_data = data[data[client_id_colname] == client_id]\n",
    "    dataset = tf.data.Dataset.from_tensor_slices(client_data.to_dict('list'))\n",
    "    dataset = dataset.shuffle(SHUFFLE_BUFFER).batch(1).repeat(NUM_EPOCHS)\n",
    "    return dataset\n"
   ]
  },
  {
   "cell_type": "code",
   "execution_count": 12,
   "metadata": {},
   "outputs": [],
   "source": [
    "if tff.__version__ < \"0.19.0\":\n",
    "\n",
    "    train_data = tff.simulation.ClientData.from_clients_and_fn(\n",
    "        client_ids=train_client_ids,   \n",
    "        create_tf_dataset_for_client_fn=create_tf_dataset_for_client_fn)\n",
    "    \n",
    "    test_data = tff.simulation.ClientData.from_clients_and_fn(\n",
    "        client_ids=test_client_ids,\n",
    "        create_tf_dataset_for_client_fn=create_tf_dataset_for_client_fn)\n",
    "else:\n",
    "    train_data = tff.simulation.datasets.ClientData.from_clients_and_tf_fn(\n",
    "        client_ids=train_client_ids, \n",
    "        serializable_dataset_fn=create_tf_dataset_for_client_fn)\n",
    "    \n",
    "    test_data = tff.simulation.datasets.ClientData.from_clients_and_tf_fn(\n",
    "        client_ids=test_client_ids,\n",
    "        serializable_dataset_fn=create_tf_dataset_for_client_fn)"
   ]
  },
  {
   "cell_type": "markdown",
   "metadata": {},
   "source": [
    "### Example dataset \n",
    "\n",
    "Each element of example_dataset is a Python dictionary where the keys are strings representing feature names, and the values are tensors with one batch of those features. Now, you have a federated dataset that can be preprocessed and used for modeling."
   ]
  },
  {
   "cell_type": "code",
   "execution_count": 13,
   "metadata": {},
   "outputs": [
    {
     "name": "stdout",
     "output_type": "stream",
     "text": [
      "<RepeatDataset element_spec={'diagnosis': TensorSpec(shape=(None,), dtype=tf.int32, name=None), 'hospital_id': TensorSpec(shape=(None,), dtype=tf.int32, name=None), 'features': TensorSpec(shape=(None, 30), dtype=tf.float32, name=None)}>\n",
      "{'diagnosis': <tf.Tensor: shape=(1,), dtype=int32, numpy=array([0], dtype=int32)>, 'hospital_id': <tf.Tensor: shape=(1,), dtype=int32, numpy=array([1], dtype=int32)>, 'features': <tf.Tensor: shape=(1, 30), dtype=float32, numpy=\n",
      "array([[0.2238156 , 0.19411565, 0.21588004, 0.11741251, 0.5630586 ,\n",
      "        0.16388565, 0.0938613 , 0.16153082, 0.47929293, 0.31802863,\n",
      "        0.08441065, 0.08382691, 0.07529567, 0.03311181, 0.26593468,\n",
      "        0.06547602, 0.04169192, 0.21235083, 0.16389936, 0.07618535,\n",
      "        0.18249734, 0.16364606, 0.16808607, 0.08139993, 0.4941557 ,\n",
      "        0.08170097, 0.08682109, 0.27024055, 0.23654643, 0.15099043]],\n",
      "      dtype=float32)>}\n"
     ]
    }
   ],
   "source": [
    "example_dataset = train_data.create_tf_dataset_for_client(\n",
    "        train_data.client_ids[2]\n",
    "    )\n",
    "print(example_dataset)\n",
    "example_element = iter(example_dataset).next()\n",
    "print(example_element)"
   ]
  },
  {
   "cell_type": "markdown",
   "metadata": {},
   "source": [
    "### Exploring heterogeneity in federated data\n"
   ]
  },
  {
   "cell_type": "code",
   "execution_count": 14,
   "metadata": {},
   "outputs": [
    {
     "data": {
      "image/png": "[encoded data removed]",
      "text/plain": [
       "<Figure size 864x504 with 3 Axes>"
      ]
     },
     "metadata": {
      "needs_background": "light"
     },
     "output_type": "display_data"
    }
   ],
   "source": [
    "# Number of examples per layer for a sample of clients\n",
    "f = plt.figure(figsize=(12, 7))\n",
    "f.suptitle('Label Counts for a Sample of Clients')\n",
    "for i in [0,1,2]:\n",
    "    client_dataset = train_data.create_tf_dataset_for_client(\n",
    "        train_data.client_ids[i])\n",
    "    plot_data = collections.defaultdict(list)\n",
    "    for example in client_dataset:\n",
    "        label = example['diagnosis'].numpy()[0]\n",
    "        plot_data[label].append(label)\n",
    "    plt.subplot(2, 3, i+1)\n",
    "    plt.title('Client {}'.format(i))\n",
    "    for j in range(10):\n",
    "        plt.hist(\n",
    "        plot_data[j],\n",
    "        bins=[0, 1, 2])"
   ]
  },
  {
   "cell_type": "markdown",
   "metadata": {},
   "source": [
    "From the above steps, we now have a federated dataset that can be preprocessed and used for modeling. "
   ]
  },
  {
   "cell_type": "markdown",
   "metadata": {},
   "source": [
    "\n",
    "\n",
    "### Preprocessing the input data\n",
    "We will now shuffle the individual examples, organize them into batches, and rename the features\n",
    "from `features` and `diagnosis` to `x` and `y` for use with Keras. We also throw in a\n",
    "`repeat` over the data set to run several epochs."
   ]
  },
  {
   "cell_type": "code",
   "execution_count": 15,
   "metadata": {},
   "outputs": [],
   "source": [
    "NUM_ROUNDS = 5\n",
    "NUM_EPOCHS = 5\n",
    "BATCH_SIZE = 20\n",
    "PREFETCH_BUFFER = 10\n",
    "def preprocess(dataset):\n",
    "    def batch_format_fn(element):\n",
    "                \n",
    "        return collections.OrderedDict(x= tf.reshape(element['features'], [-1,30]),\n",
    "                                       y=tf.reshape(element['diagnosis'], [-1,1]))\n",
    "\n",
    "    return dataset.repeat(NUM_EPOCHS).shuffle(SHUFFLE_BUFFER).batch(\n",
    "      BATCH_SIZE).map(batch_format_fn).prefetch(PREFETCH_BUFFER)\n"
   ]
  },
  {
   "cell_type": "markdown",
   "metadata": {},
   "source": [
    "Let's verify this worked."
   ]
  },
  {
   "cell_type": "code",
   "execution_count": 16,
   "metadata": {},
   "outputs": [
    {
     "data": {
      "text/plain": [
       "OrderedDict([('x',\n",
       "              array([[0.66775525, 0.5701725 , 0.68350494, 0.495228  , 0.55493367,\n",
       "                      0.8092142 , 0.58270854, 0.7435388 , 0.67424244, 0.5058972 ,\n",
       "                      0.18768784, 0.08899841, 0.17231305, 0.13944393, 0.08634463,\n",
       "                      0.3405083 , 0.09777778, 0.29683653, 0.14208926, 0.1520183 ,\n",
       "                      0.6670224 , 0.57196164, 0.6279695 , 0.4679021 , 0.5146272 ,\n",
       "                      0.70932657, 0.5415335 , 0.9975945 , 0.49931008, 0.4811754 ],\n",
       "                     [0.2299683 , 0.30402434, 0.23592012, 0.12602334, 0.52604496,\n",
       "                      0.40555793, 0.28537956, 0.25755468, 0.6267677 , 0.59035385,\n",
       "                      0.13434727, 0.14802864, 0.12806861, 0.06387398, 0.13046877,\n",
       "                      0.2394929 , 0.10618687, 0.19776472, 0.20892666, 0.16487017,\n",
       "                      0.31625757, 0.42910448, 0.34359282, 0.1729011 , 0.6110414 ,\n",
       "                      0.5338165 , 0.55559105, 0.53127146, 0.63000196, 0.55857277],\n",
       "                     [0.24747977, 0.1481231 , 0.24179393, 0.13510074, 0.2568385 ,\n",
       "                      0.1805104 , 0.16023898, 0.12594433, 0.2959596 , 0.24389216,\n",
       "                      0.05616513, 0.1040267 , 0.06313904, 0.02457611, 0.09151171,\n",
       "                      0.21035239, 0.10969697, 0.2059102 , 0.15939663, 0.12876746,\n",
       "                      0.18498755, 0.19376333, 0.1854674 , 0.08471785, 0.20755464,\n",
       "                      0.20937994, 0.2456869 , 0.31408936, 0.21919969, 0.21776204],\n",
       "                     [0.38189217, 0.31653702, 0.36949763, 0.23686108, 0.3567753 ,\n",
       "                      0.20425127, 0.17539832, 0.21545726, 0.2530303 , 0.19355518,\n",
       "                      0.0994025 , 0.18515736, 0.08825331, 0.05918588, 0.1101064 ,\n",
       "                      0.10550665, 0.07492425, 0.17849971, 0.05119041, 0.02843995,\n",
       "                      0.3432942 , 0.42750534, 0.31570297, 0.19214511, 0.35283628,\n",
       "                      0.17736317, 0.22891374, 0.38487974, 0.14133649, 0.09510691],\n",
       "                     [0.27398363, 0.6668921 , 0.25955358, 0.15457052, 0.27200505,\n",
       "                      0.07042513, 0.04679007, 0.07450298, 0.24191919, 0.13500421,\n",
       "                      0.04685859, 0.22250707, 0.03392546, 0.02233479, 0.2421049 ,\n",
       "                      0.07569021, 0.03353535, 0.17626445, 0.15601958, 0.02871633,\n",
       "                      0.2113127 , 0.6391258 , 0.18770856, 0.10064393, 0.34491184,\n",
       "                      0.07675292, 0.06911342, 0.22329897, 0.16597673, 0.06427915],\n",
       "                     [0.311373  , 0.14169766, 0.30958468, 0.17722163, 0.47368422,\n",
       "                      0.30617753, 0.1841612 , 0.22122267, 0.45555556, 0.2752738 ,\n",
       "                      0.05265255, 0.03047648, 0.05908684, 0.02657462, 0.14066696,\n",
       "                      0.15687805, 0.06424242, 0.15836333, 0.14828052, 0.0698976 ,\n",
       "                      0.25080043, 0.13619404, 0.25245282, 0.12323043, 0.43868455,\n",
       "                      0.23528442, 0.20583068, 0.31237113, 0.29568303, 0.17532468],\n",
       "                     [0.32651806, 0.21812648, 0.3080644 , 0.19219512, 0.15915862,\n",
       "                      0.08873688, 0.04791471, 0.04228131, 0.27626264, 0.10067397,\n",
       "                      0.0516386 , 0.05781471, 0.044857  , 0.03047826, 0.06849781,\n",
       "                      0.08935921, 0.05020202, 0.13290396, 0.12084201, 0.03714605,\n",
       "                      0.26965493, 0.21188699, 0.24528114, 0.1376573 , 0.09027273,\n",
       "                      0.09314938, 0.08714058, 0.15591066, 0.19258821, 0.0733963 ],\n",
       "                     [0.50115955, 0.18058844, 0.49208763, 0.344263  , 0.41383046,\n",
       "                      0.295442  , 0.23137301, 0.39527833, 0.3429293 , 0.24283908,\n",
       "                      0.17700525, 0.10217026, 0.18366866, 0.10141614, 0.13305232,\n",
       "                      0.21087812, 0.08603536, 0.25648797, 0.15995948, 0.09836519,\n",
       "                      0.4297403 , 0.19989339, 0.4207879 , 0.256046  , 0.35877964,\n",
       "                      0.24634476, 0.19880192, 0.5003436 , 0.23477232, 0.1584022 ],\n",
       "                     [0.20346443, 0.12445046, 0.20185198, 0.10235419, 0.57569736,\n",
       "                      0.28900066, 0.10859887, 0.23836978, 0.3590909 , 0.22662173,\n",
       "                      0.08216549, 0.21720298, 0.05154785, 0.0364738 , 0.32488018,\n",
       "                      0.24580166, 0.05522727, 0.37222958, 0.11141442, 0.08800077,\n",
       "                      0.14194237, 0.09994669, 0.13008615, 0.06114825, 0.4327412 ,\n",
       "                      0.15029445, 0.06924121, 0.29591066, 0.10585453, 0.08395645],\n",
       "                     [0.0969284 , 0.25769362, 0.10365558, 0.04538706, 0.48722577,\n",
       "                      0.3739648 , 0.7333646 , 0.21744533, 0.5308081 , 0.6423757 ,\n",
       "                      0.07818215, 0.18427333, 0.05314988, 0.02029892, 0.26637658,\n",
       "                      0.62943494, 0.76717174, 0.6292859 , 0.4796533 , 0.29933116,\n",
       "                      0.08466738, 0.28331557, 0.07515314, 0.03428529, 0.50868386,\n",
       "                      0.3970176 , 1.        , 0.60137457, 0.52493596, 0.40968123],\n",
       "                     [0.20346443, 0.12445046, 0.20185198, 0.10235419, 0.57569736,\n",
       "                      0.28900066, 0.10859887, 0.23836978, 0.3590909 , 0.22662173,\n",
       "                      0.08216549, 0.21720298, 0.05154785, 0.0364738 , 0.32488018,\n",
       "                      0.24580166, 0.05522727, 0.37222958, 0.11141442, 0.08800077,\n",
       "                      0.14194237, 0.09994669, 0.13008615, 0.06114825, 0.4327412 ,\n",
       "                      0.15029445, 0.06924121, 0.29591066, 0.10585453, 0.08395645],\n",
       "                     [0.21482323, 0.17653027, 0.207864  , 0.11147402, 0.4393789 ,\n",
       "                      0.1800503 , 0.10140581, 0.14557654, 0.41565657, 0.24684078,\n",
       "                      0.05239906, 0.14979668, 0.04377326, 0.0220733 , 0.16823605,\n",
       "                      0.07531469, 0.05315657, 0.19056639, 0.12506332, 0.06526816,\n",
       "                      0.16791177, 0.24440299, 0.15175058, 0.07535391, 0.44726938,\n",
       "                      0.12700954, 0.14408946, 0.33017182, 0.2166371 , 0.1511872 ],\n",
       "                     [0.32935774, 0.11701048, 0.32147053, 0.1911771 , 0.6515302 ,\n",
       "                      0.23977056, 0.2366448 , 0.32877734, 0.46262625, 0.3077085 ,\n",
       "                      0.15737824, 0.50274044, 0.15709372, 0.07085943, 0.2830676 ,\n",
       "                      0.22695047, 0.12027778, 0.54044324, 0.13041031, 0.16006799,\n",
       "                      0.2379936 , 0.08955224, 0.21968226, 0.1150462 , 0.4505712 ,\n",
       "                      0.10585907, 0.12452076, 0.34879726, 0.1172876 , 0.11471862],\n",
       "                     [0.24605992, 0.36557323, 0.23101375, 0.13370095, 0.24826217,\n",
       "                      0.06441323, 0.05583411, 0.08797216, 0.3429293 , 0.14342882,\n",
       "                      0.02929567, 0.26759192, 0.02007256, 0.01471429, 0.11445763,\n",
       "                      0.02888515, 0.02699495, 0.12875545, 0.09269995, 0.02201401,\n",
       "                      0.1924582 , 0.55490404, 0.1701778 , 0.08911718, 0.27161065,\n",
       "                      0.05950267, 0.09145367, 0.2553608 , 0.22255076, 0.090122  ],\n",
       "                     [0.2668844 , 0.25160635, 0.25450903, 0.14820784, 0.29972014,\n",
       "                      0.10710999, 0.0694939 , 0.11292247, 0.37323233, 0.17481044,\n",
       "                      0.02089444, 0.06789251, 0.01691561, 0.01217412, 0.07393684,\n",
       "                      0.04721813, 0.03171717, 0.13047926, 0.11535431, 0.02567611,\n",
       "                      0.22803272, 0.26998934, 0.20523931, 0.11017991, 0.3389685 ,\n",
       "                      0.12070321, 0.15071885, 0.33852234, 0.33609304, 0.11976912],\n",
       "                     [0.35207534, 0.34020966, 0.35028678, 0.2116649 , 0.40525413,\n",
       "                      0.29053432, 0.21996251, 0.29020876, 0.41363636, 0.2935973 ,\n",
       "                      0.06445772, 0.32947314, 0.07628516, 0.03744504, 0.21388993,\n",
       "                      0.20051372, 0.08386364, 0.26974806, 0.09481061, 0.12289429,\n",
       "                      0.29882604, 0.5021322 , 0.29428756, 0.15758947, 0.47500494,\n",
       "                      0.26710713, 0.2551118 , 0.53780067, 0.22728169, 0.25245968],\n",
       "                     [0.36248758, 0.24146093, 0.34842098, 0.22163309, 0.30495623,\n",
       "                      0.1460033 , 0.12164948, 0.1387177 , 0.17626263, 0.07561079,\n",
       "                      0.03943509, 0.14272454, 0.03364275, 0.02461346, 0.06193697,\n",
       "                      0.08770692, 0.04545455, 0.11638568, 0.06554286, 0.01120048,\n",
       "                      0.30345073, 0.3576759 , 0.27685642, 0.15872002, 0.2841577 ,\n",
       "                      0.17435554, 0.19464856, 0.26900345, 0.1754386 , 0.07162534],\n",
       "                     [0.2238156 , 0.19411565, 0.21588004, 0.11741251, 0.5630586 ,\n",
       "                      0.16388565, 0.0938613 , 0.16153082, 0.47929293, 0.31802863,\n",
       "                      0.08441065, 0.08382691, 0.07529567, 0.03311181, 0.26593468,\n",
       "                      0.06547602, 0.04169192, 0.21235083, 0.16389936, 0.07618535,\n",
       "                      0.18249734, 0.16364606, 0.16808607, 0.08139993, 0.4941557 ,\n",
       "                      0.08170097, 0.08682109, 0.27024055, 0.23654643, 0.15099043],\n",
       "                     [0.21482323, 0.30571526, 0.2042015 , 0.1126193 , 0.38467094,\n",
       "                      0.10842893, 0.07113402, 0.11322068, 0.43434343, 0.19187026,\n",
       "                      0.07727684, 0.13235945, 0.06719126, 0.03113198, 0.22486997,\n",
       "                      0.04859255, 0.03406566, 0.16423565, 0.3418979 , 0.05151804,\n",
       "                      0.17467093, 0.2785181 , 0.15638229, 0.07889304, 0.35481742,\n",
       "                      0.05812498, 0.07249201, 0.21704467, 0.34318945, 0.10048537],\n",
       "                     [0.3728998 , 0.24450457, 0.35312003, 0.22489926, 0.33050466,\n",
       "                      0.15753634, 0.07839738, 0.14299205, 0.2590909 , 0.1489048 ,\n",
       "                      0.06927395, 0.06809141, 0.04028648, 0.03197248, 0.13743754,\n",
       "                      0.10813531, 0.03689394, 0.15686683, 0.10733382, 0.04398657,\n",
       "                      0.29811454, 0.22707888, 0.2584292 , 0.14557117, 0.3343459 ,\n",
       "                      0.12390488, 0.09744409, 0.27391753, 0.18923713, 0.08677686]],\n",
       "                    dtype=float32)),\n",
       "             ('y',\n",
       "              array([[1],\n",
       "                     [1],\n",
       "                     [0],\n",
       "                     [1],\n",
       "                     [0],\n",
       "                     [0],\n",
       "                     [0],\n",
       "                     [1],\n",
       "                     [0],\n",
       "                     [0],\n",
       "                     [0],\n",
       "                     [0],\n",
       "                     [0],\n",
       "                     [0],\n",
       "                     [0],\n",
       "                     [1],\n",
       "                     [0],\n",
       "                     [0],\n",
       "                     [0],\n",
       "                     [0]], dtype=int32))])"
      ]
     },
     "execution_count": 16,
     "metadata": {},
     "output_type": "execute_result"
    }
   ],
   "source": [
    "preprocessed_example_dataset = preprocess(example_dataset)\n",
    "sample_batch = tf.nest.map_structure(lambda x: x.numpy(),\n",
    "                                     next(iter(preprocessed_example_dataset)))\n",
    "\n",
    "sample_batch"
   ]
  },
  {
   "cell_type": "markdown",
   "metadata": {},
   "source": [
    "We now have almost all the building blocks in place to construct federated datasets.\n",
    "\n",
    "One of the ways to feed federated data to TFF in a simulation is simply as a Python list, with each element of the list holding the data of an individual user, as a `tf.data.Dataset`. Since we already have an interface for that, let's use it.\n",
    "\n",
    "The helper function `make_federated_data` below will construct a list of datasets from the\n",
    "given set of users as an input to a round of training or evaluation."
   ]
  },
  {
   "cell_type": "code",
   "execution_count": 17,
   "metadata": {},
   "outputs": [],
   "source": [
    "def make_federated_data(client_data, client_ids):\n",
    "    return [\n",
    "      preprocess(client_data.create_tf_dataset_for_client(x))\n",
    "      for x in client_ids\n",
    "    ]"
   ]
  },
  {
   "cell_type": "markdown",
   "metadata": {},
   "source": [
    "So now, how do we choose the clients? \n",
    "\n",
    "In a typical federated training scenario, we might have only a fraction of the devices available for training at a given point in time. But, since we are in a simulation environment, all the data is locally available. Typically then, when running simulations, we would simply sample a random subset of the clients to be involved in each round of training, generally different in each round.\n",
    "\n",
    "That said, as you can find out by studying the paper on the [Federated Averaging](https://arxiv.org/abs/1602.05629) algorithm, achieving convergence in a system with randomly sampled subsets of clients in each round can take a while, and it would be impractical to have to run hundreds of rounds in this interactive tutorial.\n",
    "\n",
    "For simplicity here, we will sample the set of clients once, and reuse the same set across rounds to speed up convergence (intentionally over-fitting to these few user's data). "
   ]
  },
  {
   "cell_type": "code",
   "execution_count": 18,
   "metadata": {},
   "outputs": [
    {
     "name": "stdout",
     "output_type": "stream",
     "text": [
      "Number of client datasets: 3\n",
      "First dataset: <PrefetchDataset element_spec=OrderedDict([('x', TensorSpec(shape=(None, 30), dtype=tf.float32, name=None)), ('y', TensorSpec(shape=(None, 1), dtype=tf.int32, name=None))])>\n"
     ]
    }
   ],
   "source": [
    "train_client_ids = sample(client_ids.tolist(), number_of_training_clients)\n",
    "federated_train_data = make_federated_data(train_data, train_data.client_ids)\n",
    "print('Number of client datasets: {l}'.format(l=len(federated_train_data)))\n",
    "print('First dataset: {d}'.format(d=federated_train_data[0]))"
   ]
  },
  {
   "cell_type": "markdown",
   "metadata": {},
   "source": [
    "### Creating a model with Keras \n",
    "Here's an example of a simple model:"
   ]
  },
  {
   "cell_type": "code",
   "execution_count": 19,
   "metadata": {},
   "outputs": [],
   "source": [
    "def create_keras_model():\n",
    "    return tf.keras.models.Sequential([\n",
    "      tf.keras.layers.InputLayer(input_shape=(30,)),\n",
    "      tf.keras.layers.Dense(150, activation = 'swish'),\n",
    "        tf.keras.layers.Dense(50, activation = 'swish'),\n",
    "        tf.keras.layers.Dense(1, activation = 'sigmoid'),\n",
    "      ])\n",
    "\n",
    "# def create_keras_model():\n",
    "#     return tf.keras.models.Sequential([\n",
    "#       tf.keras.layers.InputLayer(input_shape=(24,)),\n",
    "#       tf.keras.layers.Dense(10, kernel_initializer='zeros'), #shouldnt initialize weights to zero\n",
    "#       tf.keras.layers.Softmax(),\n",
    "#       ])"
   ]
  },
  {
   "cell_type": "markdown",
   "metadata": {},
   "source": [
    "Note that we do not compile the model yet. The loss, metrics, and optimizers are introduced later.\n",
    "\n",
    "If you have a Keras model like the one we've just defined above, you can have TFF wrap it for you by invoking\n",
    "`tff.learning.from_keras_model`, passing the model and a sample data batch as\n",
    "arguments, as shown below.\n"
   ]
  },
  {
   "cell_type": "code",
   "execution_count": 20,
   "metadata": {},
   "outputs": [
    {
     "name": "stderr",
     "output_type": "stream",
     "text": [
      "/h/ethanj/.conda/envs/tff_test_4/lib/python3.8/site-packages/tensorflow_addons/utils/ensure_tf_install.py:38: UserWarning: You are currently using a nightly version of TensorFlow (2.8.0-dev20211101). \n",
      "TensorFlow Addons offers no support for the nightly versions of TensorFlow. Some things might work, some other might not. \n",
      "If you encounter a bug, do not file an issue on GitHub.\n",
      "  warnings.warn(\n"
     ]
    }
   ],
   "source": [
    "import tensorflow_addons as tfa\n",
    "\n",
    "def model_fn():\n",
    "  # We _must_ create a new model here, and _not_ capture it from an external\n",
    "  # scope. TFF will call this within different graph contexts.\n",
    "    keras_model = create_keras_model()\n",
    "    return tff.learning.from_keras_model(\n",
    "      keras_model,\n",
    "      input_spec=preprocessed_example_dataset.element_spec,\n",
    "      loss=tf.keras.losses.BinaryCrossentropy(),\n",
    "      metrics=[tf.keras.metrics.BinaryAccuracy(), tf.keras.metrics.Precision(name='Precision'),\n",
    "               tf.keras.metrics.Recall(name='Recall'), tf.keras.metrics.AUC(name='AUC')])\n",
    "\n",
    "\n",
    "# tfa.metrics.F1Score(num_classes=2, threshold=0.5)\n",
    "# tf.keras.metrics.Precision()\n",
    "# def model_fn():\n",
    "#   # We _must_ create a new model here, and _not_ capture it from an external\n",
    "#   # scope. TFF will call this within different graph contexts.\n",
    "#     keras_model = create_keras_model()\n",
    "#     return tff.learning.from_keras_model(\n",
    "#       keras_model,\n",
    "#       input_spec=preprocessed_example_dataset.element_spec,\n",
    "#       loss=tf.keras.losses.SparseCategoricalCrossentropy(),\n",
    "#       metrics=[tf.keras.metrics.SparseCategoricalAccuracy()])"
   ]
  },
  {
   "cell_type": "markdown",
   "metadata": {
    "tags": []
   },
   "source": [
    "### Training the model on federated data \n",
    "\n",
    "Now that we have a model wrapped as `tff.learning.Model` for use with TFF, we\n",
    "can let TFF construct a **Federated Averaging** algorithm by invoking the helper\n",
    "function `tff.learning.build_federated_averaging_process`, as follows.\n",
    "\n",
    "One critical note on the Federated Averaging algorithm below, there are **2**\n",
    "optimizers: a _client_optimizer_ and a _server_optimizer_. The\n",
    "_client_optimizer_ is only used to compute local model updates on each client.\n",
    "The _server_optimizer_ applies the averaged update to the global model at the\n",
    "server. In particular, this means that the choice of optimizer and learning rate\n",
    "used may need to be different than the ones you have used to train the model on\n",
    "a standard i.i.d. dataset.\n",
    "\n",
    "We will start with regular SGD and a smaller learning rate than usual. \n"
   ]
  },
  {
   "cell_type": "code",
   "execution_count": 21,
   "metadata": {},
   "outputs": [],
   "source": [
    "iterative_process = tff.learning.build_federated_averaging_process(\n",
    "    model_fn,\n",
    "    client_optimizer_fn=lambda: tf.keras.optimizers.SGD(learning_rate=0.01),\n",
    "    server_optimizer_fn=lambda: tf.keras.optimizers.SGD(learning_rate=0.01)) "
   ]
  },
  {
   "cell_type": "markdown",
   "metadata": {},
   "source": [
    "In this case, the two computations generated and packed into iterative_process implement Federated Averaging.\n",
    "\n",
    "Let's start with the `initialize` computation. As is the case for all federated\n",
    "computations, you can think of it as a function. The computation takes no\n",
    "arguments, and returns one result - the representation of the state of the\n",
    "Federated Averaging process on the server. While we don't want to dive into the\n",
    "details of TFF, it may be instructive to see what this state looks like. You can\n",
    "visualize it as follows."
   ]
  },
  {
   "cell_type": "code",
   "execution_count": 22,
   "metadata": {},
   "outputs": [
    {
     "data": {
      "text/plain": [
       "'( -> <model=<trainable=<float32[30,150],float32[150],float32[150,50],float32[50],float32[50,1],float32[1]>,non_trainable=<>>,optimizer_state=<int64>,delta_aggregate_state=<value_sum_process=<>,weight_sum_process=<>>,model_broadcast_state=<>>@SERVER)'"
      ]
     },
     "execution_count": 22,
     "metadata": {},
     "output_type": "execute_result"
    }
   ],
   "source": [
    "str(iterative_process.initialize.type_signature)"
   ]
  },
  {
   "cell_type": "markdown",
   "metadata": {},
   "source": [
    "While the above type signature may at first seem a bit cryptic, you can recognize that the server state consists of a model (the initial model parameters for MNIST that will be distributed to all devices), and optimizer_state (additional information maintained by the server, such as the number of rounds to use for hyperparameter schedules, etc.).\n",
    "\n",
    "Let's invoke the initialize computation to construct the server state."
   ]
  },
  {
   "cell_type": "code",
   "execution_count": 23,
   "metadata": {},
   "outputs": [],
   "source": [
    "state = iterative_process.initialize()"
   ]
  },
  {
   "cell_type": "code",
   "execution_count": 24,
   "metadata": {
    "tags": []
   },
   "outputs": [
    {
     "data": {
      "text/plain": [
       "ServerState(model=ModelWeights(trainable=[array([[ 0.15675801,  0.02892111, -0.15546598, ...,  0.07732123,\n",
       "         0.17353678, -0.08790092],\n",
       "       [-0.01690687,  0.03865226, -0.00377937, ..., -0.04169498,\n",
       "        -0.01869248,  0.12119815],\n",
       "       [-0.13419619,  0.09527028, -0.06197391, ..., -0.10863931,\n",
       "         0.01878549,  0.05692855],\n",
       "       ...,\n",
       "       [ 0.13440886,  0.03503199, -0.15343164, ...,  0.10810819,\n",
       "        -0.00484718,  0.03553805],\n",
       "       [-0.15206565, -0.07740941,  0.1722996 , ...,  0.14738235,\n",
       "        -0.1354994 , -0.02548118],\n",
       "       [ 0.04520342,  0.04954171,  0.16646615, ...,  0.11559761,\n",
       "        -0.0341927 , -0.08212357]], dtype=float32), array([0., 0., 0., 0., 0., 0., 0., 0., 0., 0., 0., 0., 0., 0., 0., 0., 0.,\n",
       "       0., 0., 0., 0., 0., 0., 0., 0., 0., 0., 0., 0., 0., 0., 0., 0., 0.,\n",
       "       0., 0., 0., 0., 0., 0., 0., 0., 0., 0., 0., 0., 0., 0., 0., 0., 0.,\n",
       "       0., 0., 0., 0., 0., 0., 0., 0., 0., 0., 0., 0., 0., 0., 0., 0., 0.,\n",
       "       0., 0., 0., 0., 0., 0., 0., 0., 0., 0., 0., 0., 0., 0., 0., 0., 0.,\n",
       "       0., 0., 0., 0., 0., 0., 0., 0., 0., 0., 0., 0., 0., 0., 0., 0., 0.,\n",
       "       0., 0., 0., 0., 0., 0., 0., 0., 0., 0., 0., 0., 0., 0., 0., 0., 0.,\n",
       "       0., 0., 0., 0., 0., 0., 0., 0., 0., 0., 0., 0., 0., 0., 0., 0., 0.,\n",
       "       0., 0., 0., 0., 0., 0., 0., 0., 0., 0., 0., 0., 0., 0.],\n",
       "      dtype=float32), array([[-0.02676886, -0.0479503 , -0.03095199, ..., -0.04846248,\n",
       "         0.01569185, -0.15618104],\n",
       "       [ 0.01429871, -0.14178464,  0.09319904, ..., -0.05541822,\n",
       "        -0.16038838,  0.13133943],\n",
       "       [ 0.11334366, -0.03734529,  0.06013221, ..., -0.0237481 ,\n",
       "        -0.13985391, -0.0582984 ],\n",
       "       ...,\n",
       "       [-0.15159975, -0.15525202, -0.16699946, ..., -0.10861187,\n",
       "         0.08730006, -0.16519016],\n",
       "       [ 0.14809465, -0.14434354, -0.10842426, ..., -0.15678404,\n",
       "         0.12993446,  0.08727059],\n",
       "       [-0.08588086,  0.01388799, -0.10890857, ...,  0.12571016,\n",
       "        -0.15164158, -0.03037593]], dtype=float32), array([0., 0., 0., 0., 0., 0., 0., 0., 0., 0., 0., 0., 0., 0., 0., 0., 0.,\n",
       "       0., 0., 0., 0., 0., 0., 0., 0., 0., 0., 0., 0., 0., 0., 0., 0., 0.,\n",
       "       0., 0., 0., 0., 0., 0., 0., 0., 0., 0., 0., 0., 0., 0., 0., 0.],\n",
       "      dtype=float32), array([[-0.03144443],\n",
       "       [-0.10389403],\n",
       "       [ 0.09535587],\n",
       "       [ 0.06394497],\n",
       "       [-0.02796623],\n",
       "       [-0.14063402],\n",
       "       [-0.23096201],\n",
       "       [-0.34211922],\n",
       "       [-0.05481848],\n",
       "       [ 0.04486862],\n",
       "       [-0.34006694],\n",
       "       [ 0.10920322],\n",
       "       [-0.26011187],\n",
       "       [ 0.12821946],\n",
       "       [ 0.31941935],\n",
       "       [-0.3405912 ],\n",
       "       [ 0.01948458],\n",
       "       [ 0.09002304],\n",
       "       [ 0.21798643],\n",
       "       [-0.23391816],\n",
       "       [ 0.324958  ],\n",
       "       [ 0.33891603],\n",
       "       [ 0.00112689],\n",
       "       [-0.11228156],\n",
       "       [-0.3084538 ],\n",
       "       [ 0.21995541],\n",
       "       [-0.31471962],\n",
       "       [ 0.16898665],\n",
       "       [ 0.24382797],\n",
       "       [ 0.2593731 ],\n",
       "       [ 0.10647589],\n",
       "       [ 0.2858064 ],\n",
       "       [-0.29894722],\n",
       "       [ 0.34012124],\n",
       "       [ 0.06372154],\n",
       "       [-0.01431316],\n",
       "       [ 0.3084642 ],\n",
       "       [-0.32902035],\n",
       "       [-0.30603868],\n",
       "       [ 0.08650327],\n",
       "       [-0.29956454],\n",
       "       [-0.11989728],\n",
       "       [ 0.23590115],\n",
       "       [-0.20325835],\n",
       "       [ 0.1206736 ],\n",
       "       [-0.13306017],\n",
       "       [-0.15886503],\n",
       "       [ 0.19053861],\n",
       "       [-0.30515727],\n",
       "       [ 0.20732358]], dtype=float32), array([0.], dtype=float32)], non_trainable=[]), optimizer_state=[0], delta_aggregate_state=OrderedDict([('value_sum_process', ()), ('weight_sum_process', ())]), model_broadcast_state=())"
      ]
     },
     "execution_count": 24,
     "metadata": {},
     "output_type": "execute_result"
    }
   ],
   "source": [
    "state"
   ]
  },
  {
   "cell_type": "markdown",
   "metadata": {},
   "source": [
    "The second of the pair of federated computations, `next`, represents a single\n",
    "round of Federated Averaging, which consists of pushing the server state\n",
    "(including the model parameters) to the clients, on-device training on their\n",
    "local data, collecting and averaging model updates, and producing a new updated\n",
    "model at the server.\n",
    "\n",
    "Conceptually, you can think of `next` as having a functional type signature that\n",
    "looks as follows.\n",
    "\n",
    "```\n",
    "SERVER_STATE, FEDERATED_DATA -> SERVER_STATE, TRAINING_METRICS\n",
    "```\n",
    "\n",
    "In particular, one should think about `next()` not as being a function that runs on a server, but rather being a declarative functional representation of the entire decentralized computation - some of the inputs are provided by the server (`SERVER_STATE`), but each participating device contributes its own local dataset.\n",
    "\n",
    "Let's run a single round of training and visualize the results. We can use the\n",
    "federated data we've already generated above for a sample of users."
   ]
  },
  {
   "cell_type": "code",
   "execution_count": 25,
   "metadata": {},
   "outputs": [
    {
     "name": "stdout",
     "output_type": "stream",
     "text": [
      "round  1, metrics=OrderedDict([('broadcast', ()), ('aggregation', OrderedDict([('mean_value', ()), ('mean_weight', ())])), ('train', OrderedDict([('binary_accuracy', 0.69934577), ('Precision', 0.89967287), ('Recall', 0.20886075), ('AUC', 0.6130189), ('loss', 0.6642864)])), ('stat', OrderedDict([('num_examples', 10700)]))])\n"
     ]
    }
   ],
   "source": [
    "state, metrics = iterative_process.next(state, federated_train_data)\n",
    "print('round  1, metrics={}'.format(metrics))"
   ]
  },
  {
   "cell_type": "markdown",
   "metadata": {},
   "source": [
    "Let's run a few more rounds. As noted earlier, typically at this point you would\n",
    "pick a subset of your simulation data from a new randomly selected sample of\n",
    "users for each round in order to simulate a realistic deployment in which users\n",
    "continuously come and go, but in this interactive notebook, for the sake of\n",
    "demonstration we'll just reuse the same users, so that the system converges\n",
    "quickly."
   ]
  },
  {
   "cell_type": "code",
   "execution_count": 26,
   "metadata": {},
   "outputs": [
    {
     "name": "stdout",
     "output_type": "stream",
     "text": [
      "round  2, metrics=OrderedDict([('broadcast', ()), ('aggregation', OrderedDict([('mean_value', ()), ('mean_weight', ())])), ('train', OrderedDict([('binary_accuracy', 0.7126168), ('Precision', 0.8589007), ('Recall', 0.2650633), ('AUC', 0.62498105), ('loss', 0.66393244)])), ('stat', OrderedDict([('num_examples', 10700)]))])\n",
      "--\n"
     ]
    }
   ],
   "source": [
    "NUM_ROUNDS = 3\n",
    "for round_num in range(2, NUM_ROUNDS):\n",
    "    state, metrics = iterative_process.next(state, federated_train_data)\n",
    "    print('round {:2d}, metrics={}'.format(round_num, metrics))\n",
    "    print(\"--\")"
   ]
  },
  {
   "cell_type": "markdown",
   "metadata": {},
   "source": [
    "Training loss is decreasing after each round of federated training, indicating\n",
    "the model is converging"
   ]
  },
  {
   "cell_type": "markdown",
   "metadata": {},
   "source": [
    "Next, let's visualize the metrics from these federated computations using Tensorboard.\n",
    "\n",
    "Let's start by creating the directory and the corresponding summary writer to write the metrics to."
   ]
  },
  {
   "cell_type": "code",
   "execution_count": 27,
   "metadata": {},
   "outputs": [],
   "source": [
    "logdir = \"/tmp/logs/scalars/training/\"\n",
    "summary_writer = tf.summary.create_file_writer(logdir)\n",
    "state = iterative_process.initialize()"
   ]
  },
  {
   "cell_type": "code",
   "execution_count": 28,
   "metadata": {},
   "outputs": [],
   "source": [
    "evaluation = tff.learning.build_federated_evaluation(model_fn)\n",
    "federated_test_data = make_federated_data(test_data, test_client_ids)\n"
   ]
  },
  {
   "cell_type": "code",
   "execution_count": 29,
   "metadata": {
    "scrolled": true
   },
   "outputs": [
    {
     "name": "stdout",
     "output_type": "stream",
     "text": [
      "round:  1, loss: 0.6580943465232849, test_accuracy: 0.42553192377090454, training_recall : 0.5465822815895081, training_precision = 0.6285298466682434, training_f1 = 0.5846987412192983, val_precision = 0.4000000059604645, val_recall = 1.0, val_f1 = 0.5714285896748915\n",
      "round:  2, loss: 0.6578771471977234, test_accuracy: 0.43971630930900574, training_recall : 0.5432911515235901, training_precision = 0.6124429106712341, training_f1 = 0.5757982465188242, val_precision = 0.4060150384902954, val_recall = 1.0, val_f1 = 0.5775401078586654\n",
      "round:  3, loss: 0.6574604511260986, test_accuracy: 0.4609929025173187, training_recall : 0.5124050378799438, training_precision = 0.6445859670639038, training_f1 = 0.5709449671239448, val_precision = 0.4153846204280853, val_recall = 1.0, val_f1 = 0.5869565144153085\n",
      "round:  4, loss: 0.6569209694862366, test_accuracy: 0.4609929025173187, training_recall : 0.5278481245040894, training_precision = 0.6822643876075745, training_f1 = 0.5952040949014694, val_precision = 0.4153846204280853, val_recall = 1.0, val_f1 = 0.5869565144153085\n",
      "round:  5, loss: 0.656507134437561, test_accuracy: 0.4751773178577423, training_recall : 0.5306329131126404, training_precision = 0.6746057271957397, training_f1 = 0.5940201521739173, val_precision = 0.421875, val_recall = 1.0, val_f1 = 0.5934065934065934\n",
      "round:  6, loss: 0.6560156345367432, test_accuracy: 0.4751773178577423, training_recall : 0.5167088508605957, training_precision = 0.6876684427261353, training_f1 = 0.5900548933297265, val_precision = 0.421875, val_recall = 1.0, val_f1 = 0.5934065934065934\n",
      "round:  7, loss: 0.6556690335273743, test_accuracy: 0.4893617033958435, training_recall : 0.5101265907287598, training_precision = 0.7287522554397583, training_f1 = 0.6001489155271957, val_precision = 0.4285714328289032, val_recall = 1.0, val_f1 = 0.5999999916553499\n",
      "round:  8, loss: 0.6552503705024719, test_accuracy: 0.5035461187362671, training_recall : 0.5146835446357727, training_precision = 0.718120813369751, training_f1 = 0.5996166227917156, val_precision = 0.4354838728904724, val_recall = 1.0, val_f1 = 0.6067415497065534\n",
      "round:  9, loss: 0.6548461318016052, test_accuracy: 0.5602836608886719, training_recall : 0.49873417615890503, training_precision = 0.7328869104385376, training_f1 = 0.5935522871319079, val_precision = 0.4655172526836395, val_recall = 1.0, val_f1 = 0.6352941152546233\n",
      "round: 10, loss: 0.6543906927108765, test_accuracy: 0.6028369069099426, training_recall : 0.5093671083450317, training_precision = 0.7266160845756531, training_f1 = 0.5988986685992467, val_precision = 0.4909090995788574, val_recall = 1.0, val_f1 = 0.6585365931665804\n"
     ]
    }
   ],
   "source": [
    "NUM_ROUNDS = 10\n",
    "MAX_STD = 0.001\n",
    "loss = list()\n",
    "accuracy = list()\n",
    "val_loss = list()\n",
    "val_accuracy = list()\n",
    "precision = list()\n",
    "recall = list()\n",
    "f1 = list()\n",
    "val_precision = list()\n",
    "val_recall = list()\n",
    "val_f1 = list() \n",
    "train_AUC = list()\n",
    "val_AUC = list() \n",
    "\n",
    "with summary_writer.as_default():\n",
    "    for round_num in range(1, NUM_ROUNDS+1):\n",
    "        state, metrics = iterative_process.next(state, federated_train_data)\n",
    "        val_metrics = evaluation(state.model, federated_test_data)\n",
    "        \n",
    "        my_precision = metrics['train']['Precision']\n",
    "        precision.append(my_precision)\n",
    "        \n",
    "        my_recall = metrics['train']['Recall']\n",
    "        recall.append(my_recall)\n",
    "        \n",
    "        my_f1 = 2 * (my_precision * my_recall) / (my_precision + my_recall)\n",
    "        f1.append(my_f1)\n",
    "        \n",
    "        val_precision.append(val_metrics['eval']['Precision'])\n",
    "        val_recall.append(val_metrics['eval']['Recall'])\n",
    "        my_val_f1 = 2 * (val_metrics['eval']['Precision'] * val_metrics['eval']['Recall']) / (val_metrics['eval']['Precision'] + val_metrics['eval']['Recall'])\n",
    "        val_f1.append(my_val_f1)\n",
    "        \n",
    "        my_loss = metrics['train']['loss']\n",
    "        \n",
    "        train_AUC.append(metrics['train']['AUC'])\n",
    "        val_AUC.append(val_metrics['eval']['AUC'])\n",
    "        \n",
    "        loss.append(metrics['train']['loss'])\n",
    "        accuracy.append(metrics['train']['binary_accuracy'])\n",
    "        my_acc = val_metrics['eval']['binary_accuracy']\n",
    "        val_loss.append(val_metrics['eval']['loss'])\n",
    "        val_accuracy.append(val_metrics['eval']['binary_accuracy'])\n",
    "        print(f\"round: {round_num:2d}, loss: {my_loss}, test_accuracy: {my_acc}, training_recall : {my_recall}, training_precision = {my_precision}, training_f1 = {my_f1}, val_precision = {val_metrics['eval']['Precision']}, val_recall = {val_metrics['eval']['Recall']}, val_f1 = {my_val_f1}\")\n",
    "        for name, value in metrics['train'].items():\n",
    "            tf.summary.scalar(name, value, step=round_num)\n",
    "\n"
   ]
  },
  {
   "cell_type": "code",
   "execution_count": 30,
   "metadata": {},
   "outputs": [
    {
     "name": "stdout",
     "output_type": "stream",
     "text": [
      "[<PrefetchDataset element_spec=OrderedDict([('x', TensorSpec(shape=(None, 30), dtype=tf.float32, name=None)), ('y', TensorSpec(shape=(None, 1), dtype=tf.int32, name=None))])>]\n"
     ]
    }
   ],
   "source": [
    "federated_test_data = make_federated_data(test_data, test_client_ids)\n",
    "print(federated_test_data)"
   ]
  },
  {
   "cell_type": "code",
   "execution_count": 31,
   "metadata": {},
   "outputs": [],
   "source": [
    "%load_ext tensorboard"
   ]
  },
  {
   "cell_type": "code",
   "execution_count": 32,
   "metadata": {
    "tags": []
   },
   "outputs": [
    {
     "name": "stdout",
     "output_type": "stream",
     "text": [
      "events.out.tfevents.1635771604.gpu064.19641.0.v2\r\n"
     ]
    },
    {
     "data": {
      "text/plain": [
       "ERROR: Could not find `tensorboard`. Please ensure that your PATH\n",
       "contains an executable `tensorboard` program, or explicitly specify\n",
       "the path to a TensorBoard binary by setting the `TENSORBOARD_BINARY`\n",
       "environment variable."
      ]
     },
     "metadata": {},
     "output_type": "display_data"
    }
   ],
   "source": [
    "!ls {logdir}\n",
    "%tensorboard --host 0.0.0.0 --logdir {logdir} --port=6004"
   ]
  },
  {
   "cell_type": "code",
   "execution_count": 33,
   "metadata": {},
   "outputs": [
    {
     "data": {
      "text/plain": [
       "Text(0.5, 0, 'Round')"
      ]
     },
     "execution_count": 33,
     "metadata": {},
     "output_type": "execute_result"
    },
    {
     "data": {
      "image/png": "[encoded data removed]",
      "text/plain": [
       "<Figure size 576x576 with 2 Axes>"
      ]
     },
     "metadata": {
      "needs_background": "light"
     },
     "output_type": "display_data"
    }
   ],
   "source": [
    "fig1 = plt.figure(figsize=(8, 8))\n",
    "ax1 = fig1.add_subplot(2, 1, 1)\n",
    "ax1.plot(accuracy, label='Training Accuracy')\n",
    "ax1.plot(val_accuracy, label='Validation Accuracy')\n",
    "ax1.legend(loc='lower right')\n",
    "ax1.set_ylabel('Accuracy')\n",
    "ax1.set_ylim([0, 1])\n",
    "ax1.set_title('Training and Validation AUC')\n",
    "\n",
    "ax2 = fig1.add_subplot(2, 1, 2)\n",
    "ax2.plot(loss, label='Training Loss')\n",
    "ax2.plot(val_loss, label='Validation Loss')\n",
    "ax2.legend(loc='upper right')\n",
    "ax2.set_ylabel('Cross Entropy')\n",
    "ax2.set_ylim([0,max(ax2.get_ylim())])\n",
    "ax2.set_title('Training and Validation Loss')\n",
    "ax2.set_xlabel('Round')\n",
    "\n",
    "# plt.savefig('./figures/DELIRIUM_normalized_TFF_accuracy_loss_10_rounds.png')\n"
   ]
  },
  {
   "cell_type": "code",
   "execution_count": 34,
   "metadata": {},
   "outputs": [
    {
     "data": {
      "text/plain": [
       "Text(0.5, 0, 'Round')"
      ]
     },
     "execution_count": 34,
     "metadata": {},
     "output_type": "execute_result"
    },
    {
     "data": {
      "image/png": "[encoded data removed]",
      "text/plain": [
       "<Figure size 576x576 with 2 Axes>"
      ]
     },
     "metadata": {
      "needs_background": "light"
     },
     "output_type": "display_data"
    }
   ],
   "source": [
    "fig1 = plt.figure(figsize=(8, 8))\n",
    "ax1 = fig1.add_subplot(2, 1, 1)\n",
    "ax1.plot(precision, label='Training precision')\n",
    "ax1.plot(val_precision, label='Validation precision')\n",
    "ax1.legend(loc='lower right')\n",
    "ax1.set_ylabel('Accuracy')\n",
    "ax1.set_ylim([0, 1])\n",
    "ax1.set_title('Training and Validation precision')\n",
    "\n",
    "ax2 = fig1.add_subplot(2, 1, 2)\n",
    "ax2.plot(recall, label='Training recall')\n",
    "ax2.plot(val_recall, label='Validation recall')\n",
    "ax2.legend(loc='upper right')\n",
    "ax2.set_ylabel('Cross Entropy')\n",
    "ax2.set_ylim([0,max(ax2.get_ylim())])\n",
    "ax2.set_title('Training and Validation recall')\n",
    "ax2.set_xlabel('Round')\n"
   ]
  },
  {
   "cell_type": "code",
   "execution_count": 35,
   "metadata": {},
   "outputs": [],
   "source": [
    "# evaluation = tff.learning.build_federated_evaluation(model_fn)"
   ]
  },
  {
   "cell_type": "code",
   "execution_count": 36,
   "metadata": {},
   "outputs": [],
   "source": [
    "# str(evaluation.type_signature)"
   ]
  },
  {
   "cell_type": "code",
   "execution_count": 37,
   "metadata": {},
   "outputs": [],
   "source": [
    "train_metrics = evaluation(state.model, federated_train_data)"
   ]
  },
  {
   "cell_type": "code",
   "execution_count": 38,
   "metadata": {},
   "outputs": [
    {
     "data": {
      "text/plain": [
       "\"OrderedDict([('eval', OrderedDict([('binary_accuracy', 0.5607477), ('Precision', 0.45614034), ('Recall', 0.98734176), ('AUC', 0.88139945), ('loss', 0.68532443)])), ('stat', OrderedDict([('num_examples', 10700)]))])\""
      ]
     },
     "execution_count": 38,
     "metadata": {},
     "output_type": "execute_result"
    }
   ],
   "source": [
    "str(train_metrics)"
   ]
  },
  {
   "cell_type": "code",
   "execution_count": 39,
   "metadata": {},
   "outputs": [],
   "source": [
    "# federated_test_data = make_federated_data(test_data, test_client_ids)\n",
    "# len(federated_test_data), federated_test_data[0]"
   ]
  },
  {
   "cell_type": "code",
   "execution_count": 40,
   "metadata": {},
   "outputs": [],
   "source": [
    "test_metrics = evaluation(state.model, federated_test_data)"
   ]
  },
  {
   "cell_type": "code",
   "execution_count": 41,
   "metadata": {},
   "outputs": [
    {
     "data": {
      "text/plain": [
       "\"OrderedDict([('eval', OrderedDict([('binary_accuracy', 0.6028369), ('Precision', 0.4909091), ('Recall', 1.0), ('AUC', 0.9121967), ('loss', 0.6834056)])), ('stat', OrderedDict([('num_examples', 3525)]))])\""
      ]
     },
     "execution_count": 41,
     "metadata": {},
     "output_type": "execute_result"
    }
   ],
   "source": [
    "str(test_metrics)"
   ]
  },
  {
   "cell_type": "code",
   "execution_count": null,
   "metadata": {},
   "outputs": [],
   "source": []
  }
 ],
 "metadata": {
  "kernelspec": {
   "display_name": "tff_test_4",
   "language": "python",
   "name": "tff_test_4"
  },
  "language_info": {
   "codemirror_mode": {
    "name": "ipython",
    "version": 3
   },
   "file_extension": ".py",
   "mimetype": "text/x-python",
   "name": "python",
   "nbconvert_exporter": "python",
   "pygments_lexer": "ipython3",
   "version": "3.8.12"
  }
 },
 "nbformat": 4,
 "nbformat_minor": 4
}
