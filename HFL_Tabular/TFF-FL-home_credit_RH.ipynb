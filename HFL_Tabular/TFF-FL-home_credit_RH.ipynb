{
 "cells": [
  {
   "cell_type": "markdown",
   "metadata": {},
   "source": [
    "# Federated learning for tabular data - Breast Cancer Dataset\n",
    "\n",
    "References:\n",
    "- https://www.tensorflow.org/federated/tutorials/federated_learning_for_image_classification\n",
    "- https://stackoverflow.com/questions/58965488/how-to-create-federated-dataset-from-a-csv-file\n",
    "- https://www.youtube.com/watch?v=JBNas6Yd30A&ab_channel=GoogleTechTalks \n"
   ]
  },
  {
   "cell_type": "markdown",
   "metadata": {},
   "source": [
    "To make sure that your environment is correctly setup, run the following. \n",
    "If you don't see a greeting, refer to the [Installation](https://www.tensorflow.org/federated/install) guide for instructions."
   ]
  },
  {
   "cell_type": "code",
   "execution_count": 1,
   "metadata": {},
   "outputs": [],
   "source": [
    "import nest_asyncio\n",
    "nest_asyncio.apply()"
   ]
  },
  {
   "cell_type": "code",
   "execution_count": 2,
   "metadata": {
    "scrolled": true
   },
   "outputs": [],
   "source": [
    "# !pip3 install numpy\n",
    "\n",
    "# TODO:\n",
    "# client proportions\n",
    "# number clients\n",
    "# size \n",
    "# different type of clients?\n",
    "\n",
    "# simulate clients\n",
    "# realistic preprocessing"
   ]
  },
  {
   "cell_type": "code",
   "execution_count": 2,
   "metadata": {},
   "outputs": [
    {
     "name": "stdout",
     "output_type": "stream",
     "text": [
      "WARNING:tensorflow:From /ssd003/projects/aieng/public/pets_unified/lib/python3.8/site-packages/tensorflow_federated/python/core/impl/compiler/tensorflow_computation_transformations.py:61: extract_sub_graph (from tensorflow.python.framework.graph_util_impl) is deprecated and will be removed in a future version.\n",
      "Instructions for updating:\n",
      "Use `tf.compat.v1.graph_util.extract_sub_graph`\n"
     ]
    },
    {
     "name": "stderr",
     "output_type": "stream",
     "text": [
      "WARNING:tensorflow:From /ssd003/projects/aieng/public/pets_unified/lib/python3.8/site-packages/tensorflow_federated/python/core/impl/compiler/tensorflow_computation_transformations.py:61: extract_sub_graph (from tensorflow.python.framework.graph_util_impl) is deprecated and will be removed in a future version.\n",
      "Instructions for updating:\n",
      "Use `tf.compat.v1.graph_util.extract_sub_graph`\n"
     ]
    },
    {
     "data": {
      "text/plain": [
       "b'Hello, World!'"
      ]
     },
     "execution_count": 2,
     "metadata": {},
     "output_type": "execute_result"
    }
   ],
   "source": [
    "# !pip install nest_asyncio\n",
    "import nest_asyncio\n",
    "nest_asyncio.apply()\n",
    "import collections\n",
    "import numpy as np\n",
    "import tensorflow as tf\n",
    "import tensorflow_federated as tff\n",
    "from tensorflow import reshape, nest, config\n",
    "from tensorflow.keras.datasets import mnist\n",
    "import pandas as pd\n",
    "from random import sample\n",
    "from matplotlib import pyplot as plt\n",
    "from sklearn import preprocessing\n",
    "np.random.seed(0)\n",
    "\n",
    "tff.federated_computation(lambda: 'Hello, World!')()"
   ]
  },
  {
   "cell_type": "markdown",
   "metadata": {},
   "source": [
    "### Loading and preparing the tabular input data"
   ]
  },
  {
   "cell_type": "markdown",
   "metadata": {},
   "source": [
    "Federated learning requires a federated data set, i.e., a collection of data from multiple users. \n",
    "The TFF has a few federated datasets, but in this notebook, we will be converting a tabular dataset to a federated one. "
   ]
  },
  {
   "cell_type": "code",
   "execution_count": 232,
   "metadata": {
    "tags": []
   },
   "outputs": [
    {
     "data": {
      "text/html": [
       "<div>\n",
       "<style scoped>\n",
       "    .dataframe tbody tr th:only-of-type {\n",
       "        vertical-align: middle;\n",
       "    }\n",
       "\n",
       "    .dataframe tbody tr th {\n",
       "        vertical-align: top;\n",
       "    }\n",
       "\n",
       "    .dataframe thead th {\n",
       "        text-align: right;\n",
       "    }\n",
       "</style>\n",
       "<table border=\"1\" class=\"dataframe\">\n",
       "  <thead>\n",
       "    <tr style=\"text-align: right;\">\n",
       "      <th></th>\n",
       "      <th>CNT_CHILDREN</th>\n",
       "      <th>AMT_INCOME_TOTAL</th>\n",
       "      <th>AMT_CREDIT</th>\n",
       "      <th>AMT_ANNUITY</th>\n",
       "      <th>AMT_GOODS_PRICE</th>\n",
       "      <th>REGION_POPULATION_RELATIVE</th>\n",
       "      <th>DAYS_BIRTH</th>\n",
       "      <th>DAYS_EMPLOYED</th>\n",
       "      <th>DAYS_REGISTRATION</th>\n",
       "      <th>DAYS_ID_PUBLISH</th>\n",
       "      <th>...</th>\n",
       "      <th>FLAG_DOCUMENT_13</th>\n",
       "      <th>FLAG_DOCUMENT_14</th>\n",
       "      <th>FLAG_DOCUMENT_15</th>\n",
       "      <th>FLAG_DOCUMENT_16</th>\n",
       "      <th>FLAG_DOCUMENT_17</th>\n",
       "      <th>FLAG_DOCUMENT_18</th>\n",
       "      <th>FLAG_DOCUMENT_19</th>\n",
       "      <th>FLAG_DOCUMENT_20</th>\n",
       "      <th>FLAG_DOCUMENT_21</th>\n",
       "      <th>target</th>\n",
       "    </tr>\n",
       "  </thead>\n",
       "  <tbody>\n",
       "    <tr>\n",
       "      <th>0</th>\n",
       "      <td>-0.577538</td>\n",
       "      <td>0.142129</td>\n",
       "      <td>-0.478095</td>\n",
       "      <td>-0.166149</td>\n",
       "      <td>-0.507465</td>\n",
       "      <td>-0.149452</td>\n",
       "      <td>1.506880</td>\n",
       "      <td>-0.456215</td>\n",
       "      <td>0.379837</td>\n",
       "      <td>0.579154</td>\n",
       "      <td>...</td>\n",
       "      <td>-0.059477</td>\n",
       "      <td>-0.054269</td>\n",
       "      <td>-0.034802</td>\n",
       "      <td>-0.100138</td>\n",
       "      <td>-0.016332</td>\n",
       "      <td>-0.090534</td>\n",
       "      <td>-0.024402</td>\n",
       "      <td>-0.022529</td>\n",
       "      <td>-0.018305</td>\n",
       "      <td>1</td>\n",
       "    </tr>\n",
       "    <tr>\n",
       "      <th>1</th>\n",
       "      <td>-0.577538</td>\n",
       "      <td>0.426792</td>\n",
       "      <td>1.725450</td>\n",
       "      <td>0.592677</td>\n",
       "      <td>1.600698</td>\n",
       "      <td>-1.252750</td>\n",
       "      <td>-0.166821</td>\n",
       "      <td>-0.460115</td>\n",
       "      <td>1.078697</td>\n",
       "      <td>1.790855</td>\n",
       "      <td>...</td>\n",
       "      <td>-0.059477</td>\n",
       "      <td>-0.054269</td>\n",
       "      <td>-0.034802</td>\n",
       "      <td>-0.100138</td>\n",
       "      <td>-0.016332</td>\n",
       "      <td>-0.090534</td>\n",
       "      <td>-0.024402</td>\n",
       "      <td>-0.022529</td>\n",
       "      <td>-0.018305</td>\n",
       "      <td>0</td>\n",
       "    </tr>\n",
       "    <tr>\n",
       "      <th>2</th>\n",
       "      <td>-0.577538</td>\n",
       "      <td>-0.427196</td>\n",
       "      <td>-1.152888</td>\n",
       "      <td>-1.404676</td>\n",
       "      <td>-1.092389</td>\n",
       "      <td>-0.783451</td>\n",
       "      <td>-0.689509</td>\n",
       "      <td>-0.453299</td>\n",
       "      <td>0.206116</td>\n",
       "      <td>0.306869</td>\n",
       "      <td>...</td>\n",
       "      <td>-0.059477</td>\n",
       "      <td>-0.054269</td>\n",
       "      <td>-0.034802</td>\n",
       "      <td>-0.100138</td>\n",
       "      <td>-0.016332</td>\n",
       "      <td>-0.090534</td>\n",
       "      <td>-0.024402</td>\n",
       "      <td>-0.022529</td>\n",
       "      <td>-0.018305</td>\n",
       "      <td>0</td>\n",
       "    </tr>\n",
       "    <tr>\n",
       "      <th>3</th>\n",
       "      <td>-0.577538</td>\n",
       "      <td>-0.142533</td>\n",
       "      <td>-0.711430</td>\n",
       "      <td>0.177869</td>\n",
       "      <td>-0.653696</td>\n",
       "      <td>-0.928991</td>\n",
       "      <td>-0.680114</td>\n",
       "      <td>-0.473217</td>\n",
       "      <td>-1.375829</td>\n",
       "      <td>0.369143</td>\n",
       "      <td>...</td>\n",
       "      <td>-0.059477</td>\n",
       "      <td>-0.054269</td>\n",
       "      <td>-0.034802</td>\n",
       "      <td>-0.100138</td>\n",
       "      <td>-0.016332</td>\n",
       "      <td>-0.090534</td>\n",
       "      <td>-0.024402</td>\n",
       "      <td>-0.022529</td>\n",
       "      <td>-0.018305</td>\n",
       "      <td>0</td>\n",
       "    </tr>\n",
       "    <tr>\n",
       "      <th>4</th>\n",
       "      <td>-0.577538</td>\n",
       "      <td>-0.199466</td>\n",
       "      <td>-0.213734</td>\n",
       "      <td>-0.361755</td>\n",
       "      <td>-0.068772</td>\n",
       "      <td>0.563570</td>\n",
       "      <td>-0.892535</td>\n",
       "      <td>-0.473210</td>\n",
       "      <td>0.191639</td>\n",
       "      <td>-0.307263</td>\n",
       "      <td>...</td>\n",
       "      <td>-0.059477</td>\n",
       "      <td>-0.054269</td>\n",
       "      <td>-0.034802</td>\n",
       "      <td>-0.100138</td>\n",
       "      <td>-0.016332</td>\n",
       "      <td>-0.090534</td>\n",
       "      <td>-0.024402</td>\n",
       "      <td>-0.022529</td>\n",
       "      <td>-0.018305</td>\n",
       "      <td>0</td>\n",
       "    </tr>\n",
       "    <tr>\n",
       "      <th>...</th>\n",
       "      <td>...</td>\n",
       "      <td>...</td>\n",
       "      <td>...</td>\n",
       "      <td>...</td>\n",
       "      <td>...</td>\n",
       "      <td>...</td>\n",
       "      <td>...</td>\n",
       "      <td>...</td>\n",
       "      <td>...</td>\n",
       "      <td>...</td>\n",
       "      <td>...</td>\n",
       "      <td>...</td>\n",
       "      <td>...</td>\n",
       "      <td>...</td>\n",
       "      <td>...</td>\n",
       "      <td>...</td>\n",
       "      <td>...</td>\n",
       "      <td>...</td>\n",
       "      <td>...</td>\n",
       "      <td>...</td>\n",
       "      <td>...</td>\n",
       "    </tr>\n",
       "    <tr>\n",
       "      <th>307506</th>\n",
       "      <td>-0.577538</td>\n",
       "      <td>-0.047646</td>\n",
       "      <td>-0.855489</td>\n",
       "      <td>0.031009</td>\n",
       "      <td>-0.848671</td>\n",
       "      <td>0.845396</td>\n",
       "      <td>1.537586</td>\n",
       "      <td>-0.453377</td>\n",
       "      <td>-0.984955</td>\n",
       "      <td>0.670578</td>\n",
       "      <td>...</td>\n",
       "      <td>-0.059477</td>\n",
       "      <td>-0.054269</td>\n",
       "      <td>-0.034802</td>\n",
       "      <td>-0.100138</td>\n",
       "      <td>-0.016332</td>\n",
       "      <td>-0.090534</td>\n",
       "      <td>-0.024402</td>\n",
       "      <td>-0.022529</td>\n",
       "      <td>-0.018305</td>\n",
       "      <td>0</td>\n",
       "    </tr>\n",
       "    <tr>\n",
       "      <th>307507</th>\n",
       "      <td>-0.577538</td>\n",
       "      <td>-0.408219</td>\n",
       "      <td>-0.818594</td>\n",
       "      <td>-1.042339</td>\n",
       "      <td>-0.848671</td>\n",
       "      <td>0.310593</td>\n",
       "      <td>-1.085707</td>\n",
       "      <td>2.133617</td>\n",
       "      <td>0.169782</td>\n",
       "      <td>-0.725959</td>\n",
       "      <td>...</td>\n",
       "      <td>-0.059477</td>\n",
       "      <td>-0.054269</td>\n",
       "      <td>-0.034802</td>\n",
       "      <td>-0.100138</td>\n",
       "      <td>-0.016332</td>\n",
       "      <td>-0.090534</td>\n",
       "      <td>-0.024402</td>\n",
       "      <td>-0.022529</td>\n",
       "      <td>-0.018305</td>\n",
       "      <td>0</td>\n",
       "    </tr>\n",
       "    <tr>\n",
       "      <th>307508</th>\n",
       "      <td>-0.577538</td>\n",
       "      <td>-0.066623</td>\n",
       "      <td>0.195379</td>\n",
       "      <td>0.198050</td>\n",
       "      <td>0.126202</td>\n",
       "      <td>-1.147120</td>\n",
       "      <td>0.245417</td>\n",
       "      <td>-0.507774</td>\n",
       "      <td>-0.497002</td>\n",
       "      <td>-1.428203</td>\n",
       "      <td>...</td>\n",
       "      <td>-0.059477</td>\n",
       "      <td>-0.054269</td>\n",
       "      <td>-0.034802</td>\n",
       "      <td>-0.100138</td>\n",
       "      <td>-0.016332</td>\n",
       "      <td>-0.090534</td>\n",
       "      <td>-0.024402</td>\n",
       "      <td>-0.022529</td>\n",
       "      <td>-0.018305</td>\n",
       "      <td>0</td>\n",
       "    </tr>\n",
       "    <tr>\n",
       "      <th>307509</th>\n",
       "      <td>-0.577538</td>\n",
       "      <td>0.009287</td>\n",
       "      <td>-0.568757</td>\n",
       "      <td>-0.476324</td>\n",
       "      <td>-0.592767</td>\n",
       "      <td>-1.124635</td>\n",
       "      <td>0.934008</td>\n",
       "      <td>-0.485583</td>\n",
       "      <td>0.688107</td>\n",
       "      <td>1.366859</td>\n",
       "      <td>...</td>\n",
       "      <td>-0.059477</td>\n",
       "      <td>-0.054269</td>\n",
       "      <td>-0.034802</td>\n",
       "      <td>-0.100138</td>\n",
       "      <td>-0.016332</td>\n",
       "      <td>-0.090534</td>\n",
       "      <td>-0.024402</td>\n",
       "      <td>-0.022529</td>\n",
       "      <td>-0.018305</td>\n",
       "      <td>1</td>\n",
       "    </tr>\n",
       "    <tr>\n",
       "      <th>307510</th>\n",
       "      <td>-0.577538</td>\n",
       "      <td>-0.047646</td>\n",
       "      <td>0.188760</td>\n",
       "      <td>1.518545</td>\n",
       "      <td>0.369920</td>\n",
       "      <td>1.832942</td>\n",
       "      <td>-0.187674</td>\n",
       "      <td>-0.460639</td>\n",
       "      <td>-0.040274</td>\n",
       "      <td>1.712018</td>\n",
       "      <td>...</td>\n",
       "      <td>-0.059477</td>\n",
       "      <td>-0.054269</td>\n",
       "      <td>-0.034802</td>\n",
       "      <td>-0.100138</td>\n",
       "      <td>-0.016332</td>\n",
       "      <td>-0.090534</td>\n",
       "      <td>-0.024402</td>\n",
       "      <td>-0.022529</td>\n",
       "      <td>-0.018305</td>\n",
       "      <td>0</td>\n",
       "    </tr>\n",
       "  </tbody>\n",
       "</table>\n",
       "<p>307511 rows × 99 columns</p>\n",
       "</div>"
      ],
      "text/plain": [
       "        CNT_CHILDREN  AMT_INCOME_TOTAL  AMT_CREDIT  AMT_ANNUITY  \\\n",
       "0          -0.577538          0.142129   -0.478095    -0.166149   \n",
       "1          -0.577538          0.426792    1.725450     0.592677   \n",
       "2          -0.577538         -0.427196   -1.152888    -1.404676   \n",
       "3          -0.577538         -0.142533   -0.711430     0.177869   \n",
       "4          -0.577538         -0.199466   -0.213734    -0.361755   \n",
       "...              ...               ...         ...          ...   \n",
       "307506     -0.577538         -0.047646   -0.855489     0.031009   \n",
       "307507     -0.577538         -0.408219   -0.818594    -1.042339   \n",
       "307508     -0.577538         -0.066623    0.195379     0.198050   \n",
       "307509     -0.577538          0.009287   -0.568757    -0.476324   \n",
       "307510     -0.577538         -0.047646    0.188760     1.518545   \n",
       "\n",
       "        AMT_GOODS_PRICE  REGION_POPULATION_RELATIVE  DAYS_BIRTH  \\\n",
       "0             -0.507465                   -0.149452    1.506880   \n",
       "1              1.600698                   -1.252750   -0.166821   \n",
       "2             -1.092389                   -0.783451   -0.689509   \n",
       "3             -0.653696                   -0.928991   -0.680114   \n",
       "4             -0.068772                    0.563570   -0.892535   \n",
       "...                 ...                         ...         ...   \n",
       "307506        -0.848671                    0.845396    1.537586   \n",
       "307507        -0.848671                    0.310593   -1.085707   \n",
       "307508         0.126202                   -1.147120    0.245417   \n",
       "307509        -0.592767                   -1.124635    0.934008   \n",
       "307510         0.369920                    1.832942   -0.187674   \n",
       "\n",
       "        DAYS_EMPLOYED  DAYS_REGISTRATION  DAYS_ID_PUBLISH  ...  \\\n",
       "0           -0.456215           0.379837         0.579154  ...   \n",
       "1           -0.460115           1.078697         1.790855  ...   \n",
       "2           -0.453299           0.206116         0.306869  ...   \n",
       "3           -0.473217          -1.375829         0.369143  ...   \n",
       "4           -0.473210           0.191639        -0.307263  ...   \n",
       "...               ...                ...              ...  ...   \n",
       "307506      -0.453377          -0.984955         0.670578  ...   \n",
       "307507       2.133617           0.169782        -0.725959  ...   \n",
       "307508      -0.507774          -0.497002        -1.428203  ...   \n",
       "307509      -0.485583           0.688107         1.366859  ...   \n",
       "307510      -0.460639          -0.040274         1.712018  ...   \n",
       "\n",
       "        FLAG_DOCUMENT_13  FLAG_DOCUMENT_14  FLAG_DOCUMENT_15  \\\n",
       "0              -0.059477         -0.054269         -0.034802   \n",
       "1              -0.059477         -0.054269         -0.034802   \n",
       "2              -0.059477         -0.054269         -0.034802   \n",
       "3              -0.059477         -0.054269         -0.034802   \n",
       "4              -0.059477         -0.054269         -0.034802   \n",
       "...                  ...               ...               ...   \n",
       "307506         -0.059477         -0.054269         -0.034802   \n",
       "307507         -0.059477         -0.054269         -0.034802   \n",
       "307508         -0.059477         -0.054269         -0.034802   \n",
       "307509         -0.059477         -0.054269         -0.034802   \n",
       "307510         -0.059477         -0.054269         -0.034802   \n",
       "\n",
       "        FLAG_DOCUMENT_16  FLAG_DOCUMENT_17  FLAG_DOCUMENT_18  \\\n",
       "0              -0.100138         -0.016332         -0.090534   \n",
       "1              -0.100138         -0.016332         -0.090534   \n",
       "2              -0.100138         -0.016332         -0.090534   \n",
       "3              -0.100138         -0.016332         -0.090534   \n",
       "4              -0.100138         -0.016332         -0.090534   \n",
       "...                  ...               ...               ...   \n",
       "307506         -0.100138         -0.016332         -0.090534   \n",
       "307507         -0.100138         -0.016332         -0.090534   \n",
       "307508         -0.100138         -0.016332         -0.090534   \n",
       "307509         -0.100138         -0.016332         -0.090534   \n",
       "307510         -0.100138         -0.016332         -0.090534   \n",
       "\n",
       "        FLAG_DOCUMENT_19  FLAG_DOCUMENT_20  FLAG_DOCUMENT_21  target  \n",
       "0              -0.024402         -0.022529         -0.018305       1  \n",
       "1              -0.024402         -0.022529         -0.018305       0  \n",
       "2              -0.024402         -0.022529         -0.018305       0  \n",
       "3              -0.024402         -0.022529         -0.018305       0  \n",
       "4              -0.024402         -0.022529         -0.018305       0  \n",
       "...                  ...               ...               ...     ...  \n",
       "307506         -0.024402         -0.022529         -0.018305       0  \n",
       "307507         -0.024402         -0.022529         -0.018305       0  \n",
       "307508         -0.024402         -0.022529         -0.018305       0  \n",
       "307509         -0.024402         -0.022529         -0.018305       1  \n",
       "307510         -0.024402         -0.022529         -0.018305       0  \n",
       "\n",
       "[307511 rows x 99 columns]"
      ]
     },
     "execution_count": 232,
     "metadata": {},
     "output_type": "execute_result"
    }
   ],
   "source": [
    "datapath = '/ssd003/projects/pets/datasets/home_credit/home_credit_train.csv'\n",
    "data = pd.read_csv(datapath)\n",
    "data\n",
    "#data = data.head(2000)"
   ]
  },
  {
   "cell_type": "code",
   "execution_count": 233,
   "metadata": {},
   "outputs": [
    {
     "data": {
      "text/html": [
       "<div>\n",
       "<style scoped>\n",
       "    .dataframe tbody tr th:only-of-type {\n",
       "        vertical-align: middle;\n",
       "    }\n",
       "\n",
       "    .dataframe tbody tr th {\n",
       "        vertical-align: top;\n",
       "    }\n",
       "\n",
       "    .dataframe thead th {\n",
       "        text-align: right;\n",
       "    }\n",
       "</style>\n",
       "<table border=\"1\" class=\"dataframe\">\n",
       "  <thead>\n",
       "    <tr style=\"text-align: right;\">\n",
       "      <th></th>\n",
       "      <th>CNT_CHILDREN</th>\n",
       "      <th>AMT_INCOME_TOTAL</th>\n",
       "      <th>AMT_CREDIT</th>\n",
       "      <th>AMT_ANNUITY</th>\n",
       "      <th>AMT_GOODS_PRICE</th>\n",
       "      <th>REGION_POPULATION_RELATIVE</th>\n",
       "      <th>DAYS_BIRTH</th>\n",
       "      <th>DAYS_EMPLOYED</th>\n",
       "      <th>DAYS_REGISTRATION</th>\n",
       "      <th>DAYS_ID_PUBLISH</th>\n",
       "      <th>...</th>\n",
       "      <th>FLAG_DOCUMENT_13</th>\n",
       "      <th>FLAG_DOCUMENT_14</th>\n",
       "      <th>FLAG_DOCUMENT_15</th>\n",
       "      <th>FLAG_DOCUMENT_16</th>\n",
       "      <th>FLAG_DOCUMENT_17</th>\n",
       "      <th>FLAG_DOCUMENT_18</th>\n",
       "      <th>FLAG_DOCUMENT_19</th>\n",
       "      <th>FLAG_DOCUMENT_20</th>\n",
       "      <th>FLAG_DOCUMENT_21</th>\n",
       "      <th>target</th>\n",
       "    </tr>\n",
       "  </thead>\n",
       "  <tbody>\n",
       "    <tr>\n",
       "      <th>count</th>\n",
       "      <td>3.075110e+05</td>\n",
       "      <td>3.075110e+05</td>\n",
       "      <td>3.075110e+05</td>\n",
       "      <td>3.075110e+05</td>\n",
       "      <td>3.075110e+05</td>\n",
       "      <td>3.075110e+05</td>\n",
       "      <td>3.075110e+05</td>\n",
       "      <td>3.075110e+05</td>\n",
       "      <td>3.075110e+05</td>\n",
       "      <td>3.075110e+05</td>\n",
       "      <td>...</td>\n",
       "      <td>3.075110e+05</td>\n",
       "      <td>3.075110e+05</td>\n",
       "      <td>3.075110e+05</td>\n",
       "      <td>3.075110e+05</td>\n",
       "      <td>3.075110e+05</td>\n",
       "      <td>3.075110e+05</td>\n",
       "      <td>3.075110e+05</td>\n",
       "      <td>3.075110e+05</td>\n",
       "      <td>3.075110e+05</td>\n",
       "      <td>307511.000000</td>\n",
       "    </tr>\n",
       "    <tr>\n",
       "      <th>mean</th>\n",
       "      <td>-3.225633e-17</td>\n",
       "      <td>-1.220299e-17</td>\n",
       "      <td>-3.880695e-17</td>\n",
       "      <td>4.621251e-17</td>\n",
       "      <td>6.585514e-16</td>\n",
       "      <td>3.335850e-16</td>\n",
       "      <td>3.350407e-17</td>\n",
       "      <td>4.311627e-17</td>\n",
       "      <td>-6.469751e-18</td>\n",
       "      <td>6.757424e-17</td>\n",
       "      <td>...</td>\n",
       "      <td>-4.944738e-18</td>\n",
       "      <td>2.463127e-17</td>\n",
       "      <td>4.898526e-18</td>\n",
       "      <td>-2.952402e-17</td>\n",
       "      <td>3.512151e-18</td>\n",
       "      <td>-1.899334e-17</td>\n",
       "      <td>-7.625064e-18</td>\n",
       "      <td>-1.940925e-18</td>\n",
       "      <td>6.053839e-18</td>\n",
       "      <td>0.080729</td>\n",
       "    </tr>\n",
       "    <tr>\n",
       "      <th>std</th>\n",
       "      <td>1.000002e+00</td>\n",
       "      <td>1.000002e+00</td>\n",
       "      <td>1.000002e+00</td>\n",
       "      <td>1.000002e+00</td>\n",
       "      <td>1.000002e+00</td>\n",
       "      <td>1.000002e+00</td>\n",
       "      <td>1.000002e+00</td>\n",
       "      <td>1.000002e+00</td>\n",
       "      <td>1.000002e+00</td>\n",
       "      <td>1.000002e+00</td>\n",
       "      <td>...</td>\n",
       "      <td>1.000002e+00</td>\n",
       "      <td>1.000002e+00</td>\n",
       "      <td>1.000002e+00</td>\n",
       "      <td>1.000002e+00</td>\n",
       "      <td>1.000002e+00</td>\n",
       "      <td>1.000002e+00</td>\n",
       "      <td>1.000002e+00</td>\n",
       "      <td>1.000002e+00</td>\n",
       "      <td>1.000002e+00</td>\n",
       "      <td>0.272419</td>\n",
       "    </tr>\n",
       "    <tr>\n",
       "      <th>min</th>\n",
       "      <td>-5.775378e-01</td>\n",
       "      <td>-6.036870e-01</td>\n",
       "      <td>-1.376496e+00</td>\n",
       "      <td>-1.758940e+00</td>\n",
       "      <td>-1.348293e+00</td>\n",
       "      <td>-1.487798e+00</td>\n",
       "      <td>-2.106335e+00</td>\n",
       "      <td>-5.784940e-01</td>\n",
       "      <td>-5.588007e+00</td>\n",
       "      <td>-2.784328e+00</td>\n",
       "      <td>...</td>\n",
       "      <td>-5.947728e-02</td>\n",
       "      <td>-5.426904e-02</td>\n",
       "      <td>-3.480198e-02</td>\n",
       "      <td>-1.001382e-01</td>\n",
       "      <td>-1.633182e-02</td>\n",
       "      <td>-9.053411e-02</td>\n",
       "      <td>-2.440195e-02</td>\n",
       "      <td>-2.252901e-02</td>\n",
       "      <td>-1.830463e-02</td>\n",
       "      <td>0.000000</td>\n",
       "    </tr>\n",
       "    <tr>\n",
       "      <th>25%</th>\n",
       "      <td>-5.775378e-01</td>\n",
       "      <td>-2.374210e-01</td>\n",
       "      <td>-8.174760e-01</td>\n",
       "      <td>-7.303015e-01</td>\n",
       "      <td>-8.121132e-01</td>\n",
       "      <td>-7.853308e-01</td>\n",
       "      <td>-8.352476e-01</td>\n",
       "      <td>-4.712426e-01</td>\n",
       "      <td>-7.077673e-01</td>\n",
       "      <td>-8.644204e-01</td>\n",
       "      <td>...</td>\n",
       "      <td>-5.947728e-02</td>\n",
       "      <td>-5.426904e-02</td>\n",
       "      <td>-3.480198e-02</td>\n",
       "      <td>-1.001382e-01</td>\n",
       "      <td>-1.633182e-02</td>\n",
       "      <td>-9.053411e-02</td>\n",
       "      <td>-2.440195e-02</td>\n",
       "      <td>-2.252901e-02</td>\n",
       "      <td>-1.830463e-02</td>\n",
       "      <td>0.000000</td>\n",
       "    </tr>\n",
       "    <tr>\n",
       "      <th>50%</th>\n",
       "      <td>-5.775378e-01</td>\n",
       "      <td>-9.129414e-02</td>\n",
       "      <td>-2.124151e-01</td>\n",
       "      <td>-1.521775e-01</td>\n",
       "      <td>-2.393752e-01</td>\n",
       "      <td>-1.459095e-01</td>\n",
       "      <td>6.576450e-02</td>\n",
       "      <td>-4.602923e-01</td>\n",
       "      <td>1.368540e-01</td>\n",
       "      <td>-1.721143e-01</td>\n",
       "      <td>...</td>\n",
       "      <td>-5.947728e-02</td>\n",
       "      <td>-5.426904e-02</td>\n",
       "      <td>-3.480198e-02</td>\n",
       "      <td>-1.001382e-01</td>\n",
       "      <td>-1.633182e-02</td>\n",
       "      <td>-9.053411e-02</td>\n",
       "      <td>-2.440195e-02</td>\n",
       "      <td>-2.252901e-02</td>\n",
       "      <td>-1.830463e-02</td>\n",
       "      <td>0.000000</td>\n",
       "    </tr>\n",
       "    <tr>\n",
       "      <th>75%</th>\n",
       "      <td>8.072731e-01</td>\n",
       "      <td>1.421293e-01</td>\n",
       "      <td>5.208178e-01</td>\n",
       "      <td>5.166083e-01</td>\n",
       "      <td>3.821064e-01</td>\n",
       "      <td>5.635704e-01</td>\n",
       "      <td>8.304332e-01</td>\n",
       "      <td>-4.537519e-01</td>\n",
       "      <td>8.447974e-01</td>\n",
       "      <td>8.441512e-01</td>\n",
       "      <td>...</td>\n",
       "      <td>-5.947728e-02</td>\n",
       "      <td>-5.426904e-02</td>\n",
       "      <td>-3.480198e-02</td>\n",
       "      <td>-1.001382e-01</td>\n",
       "      <td>-1.633182e-02</td>\n",
       "      <td>-9.053411e-02</td>\n",
       "      <td>-2.440195e-02</td>\n",
       "      <td>-2.252901e-02</td>\n",
       "      <td>-1.830463e-02</td>\n",
       "      <td>0.000000</td>\n",
       "    </tr>\n",
       "    <tr>\n",
       "      <th>max</th>\n",
       "      <td>2.573387e+01</td>\n",
       "      <td>4.927034e+02</td>\n",
       "      <td>8.574059e+00</td>\n",
       "      <td>1.593252e+01</td>\n",
       "      <td>9.509356e+00</td>\n",
       "      <td>3.733564e+00</td>\n",
       "      <td>1.958761e+00</td>\n",
       "      <td>2.133617e+00</td>\n",
       "      <td>1.415353e+00</td>\n",
       "      <td>1.983641e+00</td>\n",
       "      <td>...</td>\n",
       "      <td>1.681314e+01</td>\n",
       "      <td>1.842671e+01</td>\n",
       "      <td>2.873400e+01</td>\n",
       "      <td>9.986201e+00</td>\n",
       "      <td>6.123017e+01</td>\n",
       "      <td>1.104556e+01</td>\n",
       "      <td>4.098034e+01</td>\n",
       "      <td>4.438721e+01</td>\n",
       "      <td>5.463098e+01</td>\n",
       "      <td>1.000000</td>\n",
       "    </tr>\n",
       "  </tbody>\n",
       "</table>\n",
       "<p>8 rows × 99 columns</p>\n",
       "</div>"
      ],
      "text/plain": [
       "       CNT_CHILDREN  AMT_INCOME_TOTAL    AMT_CREDIT   AMT_ANNUITY  \\\n",
       "count  3.075110e+05      3.075110e+05  3.075110e+05  3.075110e+05   \n",
       "mean  -3.225633e-17     -1.220299e-17 -3.880695e-17  4.621251e-17   \n",
       "std    1.000002e+00      1.000002e+00  1.000002e+00  1.000002e+00   \n",
       "min   -5.775378e-01     -6.036870e-01 -1.376496e+00 -1.758940e+00   \n",
       "25%   -5.775378e-01     -2.374210e-01 -8.174760e-01 -7.303015e-01   \n",
       "50%   -5.775378e-01     -9.129414e-02 -2.124151e-01 -1.521775e-01   \n",
       "75%    8.072731e-01      1.421293e-01  5.208178e-01  5.166083e-01   \n",
       "max    2.573387e+01      4.927034e+02  8.574059e+00  1.593252e+01   \n",
       "\n",
       "       AMT_GOODS_PRICE  REGION_POPULATION_RELATIVE    DAYS_BIRTH  \\\n",
       "count     3.075110e+05                3.075110e+05  3.075110e+05   \n",
       "mean      6.585514e-16                3.335850e-16  3.350407e-17   \n",
       "std       1.000002e+00                1.000002e+00  1.000002e+00   \n",
       "min      -1.348293e+00               -1.487798e+00 -2.106335e+00   \n",
       "25%      -8.121132e-01               -7.853308e-01 -8.352476e-01   \n",
       "50%      -2.393752e-01               -1.459095e-01  6.576450e-02   \n",
       "75%       3.821064e-01                5.635704e-01  8.304332e-01   \n",
       "max       9.509356e+00                3.733564e+00  1.958761e+00   \n",
       "\n",
       "       DAYS_EMPLOYED  DAYS_REGISTRATION  DAYS_ID_PUBLISH  ...  \\\n",
       "count   3.075110e+05       3.075110e+05     3.075110e+05  ...   \n",
       "mean    4.311627e-17      -6.469751e-18     6.757424e-17  ...   \n",
       "std     1.000002e+00       1.000002e+00     1.000002e+00  ...   \n",
       "min    -5.784940e-01      -5.588007e+00    -2.784328e+00  ...   \n",
       "25%    -4.712426e-01      -7.077673e-01    -8.644204e-01  ...   \n",
       "50%    -4.602923e-01       1.368540e-01    -1.721143e-01  ...   \n",
       "75%    -4.537519e-01       8.447974e-01     8.441512e-01  ...   \n",
       "max     2.133617e+00       1.415353e+00     1.983641e+00  ...   \n",
       "\n",
       "       FLAG_DOCUMENT_13  FLAG_DOCUMENT_14  FLAG_DOCUMENT_15  FLAG_DOCUMENT_16  \\\n",
       "count      3.075110e+05      3.075110e+05      3.075110e+05      3.075110e+05   \n",
       "mean      -4.944738e-18      2.463127e-17      4.898526e-18     -2.952402e-17   \n",
       "std        1.000002e+00      1.000002e+00      1.000002e+00      1.000002e+00   \n",
       "min       -5.947728e-02     -5.426904e-02     -3.480198e-02     -1.001382e-01   \n",
       "25%       -5.947728e-02     -5.426904e-02     -3.480198e-02     -1.001382e-01   \n",
       "50%       -5.947728e-02     -5.426904e-02     -3.480198e-02     -1.001382e-01   \n",
       "75%       -5.947728e-02     -5.426904e-02     -3.480198e-02     -1.001382e-01   \n",
       "max        1.681314e+01      1.842671e+01      2.873400e+01      9.986201e+00   \n",
       "\n",
       "       FLAG_DOCUMENT_17  FLAG_DOCUMENT_18  FLAG_DOCUMENT_19  FLAG_DOCUMENT_20  \\\n",
       "count      3.075110e+05      3.075110e+05      3.075110e+05      3.075110e+05   \n",
       "mean       3.512151e-18     -1.899334e-17     -7.625064e-18     -1.940925e-18   \n",
       "std        1.000002e+00      1.000002e+00      1.000002e+00      1.000002e+00   \n",
       "min       -1.633182e-02     -9.053411e-02     -2.440195e-02     -2.252901e-02   \n",
       "25%       -1.633182e-02     -9.053411e-02     -2.440195e-02     -2.252901e-02   \n",
       "50%       -1.633182e-02     -9.053411e-02     -2.440195e-02     -2.252901e-02   \n",
       "75%       -1.633182e-02     -9.053411e-02     -2.440195e-02     -2.252901e-02   \n",
       "max        6.123017e+01      1.104556e+01      4.098034e+01      4.438721e+01   \n",
       "\n",
       "       FLAG_DOCUMENT_21         target  \n",
       "count      3.075110e+05  307511.000000  \n",
       "mean       6.053839e-18       0.080729  \n",
       "std        1.000002e+00       0.272419  \n",
       "min       -1.830463e-02       0.000000  \n",
       "25%       -1.830463e-02       0.000000  \n",
       "50%       -1.830463e-02       0.000000  \n",
       "75%       -1.830463e-02       0.000000  \n",
       "max        5.463098e+01       1.000000  \n",
       "\n",
       "[8 rows x 99 columns]"
      ]
     },
     "execution_count": 233,
     "metadata": {},
     "output_type": "execute_result"
    }
   ],
   "source": [
    "data.describe()"
   ]
  },
  {
   "cell_type": "code",
   "execution_count": 234,
   "metadata": {},
   "outputs": [],
   "source": [
    "df = data"
   ]
  },
  {
   "cell_type": "code",
   "execution_count": 235,
   "metadata": {},
   "outputs": [],
   "source": [
    "# del data['Unnamed: 32']\n",
    "# del data['id']\n",
    "# print(data.shape)\n",
    "# data['diagnosis'] = data['diagnosis'].str.replace('M','1')\n",
    "# data['diagnosis'] = data['diagnosis'].str.replace('B','0')\n",
    "# data[\"diagnosis\"] = pd.to_numeric(data[\"diagnosis\"])\n",
    "\n",
    "# new = data.copy()\n",
    "# del new['diagnosis']\n",
    "# x = new.values #returns a numpy array\n",
    "# min_max_scaler = preprocessing.MinMaxScaler()\n",
    "# x_scaled = min_max_scaler.fit_transform(x)\n",
    "# df = pd.DataFrame(x_scaled)\n",
    "# df.columns"
   ]
  },
  {
   "cell_type": "code",
   "execution_count": 236,
   "metadata": {
    "scrolled": true
   },
   "outputs": [
    {
     "name": "stdout",
     "output_type": "stream",
     "text": [
      "        CNT_CHILDREN  AMT_INCOME_TOTAL  AMT_CREDIT  AMT_ANNUITY  \\\n",
      "0          -0.577538          0.142129   -0.478095    -0.166149   \n",
      "1          -0.577538          0.426792    1.725450     0.592677   \n",
      "2          -0.577538         -0.427196   -1.152888    -1.404676   \n",
      "3          -0.577538         -0.142533   -0.711430     0.177869   \n",
      "4          -0.577538         -0.199466   -0.213734    -0.361755   \n",
      "...              ...               ...         ...          ...   \n",
      "307506     -0.577538         -0.047646   -0.855489     0.031009   \n",
      "307507     -0.577538         -0.408219   -0.818594    -1.042339   \n",
      "307508     -0.577538         -0.066623    0.195379     0.198050   \n",
      "307509     -0.577538          0.009287   -0.568757    -0.476324   \n",
      "307510     -0.577538         -0.047646    0.188760     1.518545   \n",
      "\n",
      "        AMT_GOODS_PRICE  REGION_POPULATION_RELATIVE  DAYS_BIRTH  \\\n",
      "0             -0.507465                   -0.149452    1.506880   \n",
      "1              1.600698                   -1.252750   -0.166821   \n",
      "2             -1.092389                   -0.783451   -0.689509   \n",
      "3             -0.653696                   -0.928991   -0.680114   \n",
      "4             -0.068772                    0.563570   -0.892535   \n",
      "...                 ...                         ...         ...   \n",
      "307506        -0.848671                    0.845396    1.537586   \n",
      "307507        -0.848671                    0.310593   -1.085707   \n",
      "307508         0.126202                   -1.147120    0.245417   \n",
      "307509        -0.592767                   -1.124635    0.934008   \n",
      "307510         0.369920                    1.832942   -0.187674   \n",
      "\n",
      "        DAYS_EMPLOYED  DAYS_REGISTRATION  DAYS_ID_PUBLISH  ...  \\\n",
      "0           -0.456215           0.379837         0.579154  ...   \n",
      "1           -0.460115           1.078697         1.790855  ...   \n",
      "2           -0.453299           0.206116         0.306869  ...   \n",
      "3           -0.473217          -1.375829         0.369143  ...   \n",
      "4           -0.473210           0.191639        -0.307263  ...   \n",
      "...               ...                ...              ...  ...   \n",
      "307506      -0.453377          -0.984955         0.670578  ...   \n",
      "307507       2.133617           0.169782        -0.725959  ...   \n",
      "307508      -0.507774          -0.497002        -1.428203  ...   \n",
      "307509      -0.485583           0.688107         1.366859  ...   \n",
      "307510      -0.460639          -0.040274         1.712018  ...   \n",
      "\n",
      "        FLAG_DOCUMENT_14  FLAG_DOCUMENT_15  FLAG_DOCUMENT_16  \\\n",
      "0              -0.054269         -0.034802         -0.100138   \n",
      "1              -0.054269         -0.034802         -0.100138   \n",
      "2              -0.054269         -0.034802         -0.100138   \n",
      "3              -0.054269         -0.034802         -0.100138   \n",
      "4              -0.054269         -0.034802         -0.100138   \n",
      "...                  ...               ...               ...   \n",
      "307506         -0.054269         -0.034802         -0.100138   \n",
      "307507         -0.054269         -0.034802         -0.100138   \n",
      "307508         -0.054269         -0.034802         -0.100138   \n",
      "307509         -0.054269         -0.034802         -0.100138   \n",
      "307510         -0.054269         -0.034802         -0.100138   \n",
      "\n",
      "        FLAG_DOCUMENT_17  FLAG_DOCUMENT_18  FLAG_DOCUMENT_19  \\\n",
      "0              -0.016332         -0.090534         -0.024402   \n",
      "1              -0.016332         -0.090534         -0.024402   \n",
      "2              -0.016332         -0.090534         -0.024402   \n",
      "3              -0.016332         -0.090534         -0.024402   \n",
      "4              -0.016332         -0.090534         -0.024402   \n",
      "...                  ...               ...               ...   \n",
      "307506         -0.016332         -0.090534         -0.024402   \n",
      "307507         -0.016332         -0.090534         -0.024402   \n",
      "307508         -0.016332         -0.090534         -0.024402   \n",
      "307509         -0.016332         -0.090534         -0.024402   \n",
      "307510         -0.016332         -0.090534         -0.024402   \n",
      "\n",
      "        FLAG_DOCUMENT_20  FLAG_DOCUMENT_21  target  \\\n",
      "0              -0.022529         -0.018305       1   \n",
      "1              -0.022529         -0.018305       0   \n",
      "2              -0.022529         -0.018305       0   \n",
      "3              -0.022529         -0.018305       0   \n",
      "4              -0.022529         -0.018305       0   \n",
      "...                  ...               ...     ...   \n",
      "307506         -0.022529         -0.018305       0   \n",
      "307507         -0.022529         -0.018305       0   \n",
      "307508         -0.022529         -0.018305       0   \n",
      "307509         -0.022529         -0.018305       1   \n",
      "307510         -0.022529         -0.018305       0   \n",
      "\n",
      "                                                 features  \n",
      "0       [-0.5775378417542217, 0.142129252374572, -0.47...  \n",
      "1       [-0.5775378417542217, 0.426791930024181, 1.725...  \n",
      "2       [-0.5775378417542217, -0.4271961029246461, -1....  \n",
      "3       [-0.5775378417542217, -0.14253342527503704, -0...  \n",
      "4       [-0.5775378417542217, -0.19946596080495885, -0...  \n",
      "...                                                   ...  \n",
      "307506  [-0.5775378417542217, -0.0476458660585007, -0....  \n",
      "307507  [-0.5775378417542217, -0.4082185910813388, -0....  \n",
      "307508  [-0.5775378417542217, -0.06662337790180796, 0....  \n",
      "307509  [-0.5775378417542217, 0.009286669471421113, -0...  \n",
      "307510  [-0.5775378417542217, -0.0476458660585007, 0.1...  \n",
      "\n",
      "[307511 rows x 100 columns]\n"
     ]
    }
   ],
   "source": [
    "new = df.copy()\n",
    "data['features']= new.values.tolist()\n",
    "print(data)"
   ]
  },
  {
   "cell_type": "markdown",
   "metadata": {},
   "source": [
    "### To simulate FL, we'll make a new column for \"hospital_id\" --> id: 1, 2, 3, 4"
   ]
  },
  {
   "cell_type": "code",
   "execution_count": 237,
   "metadata": {},
   "outputs": [],
   "source": [
    "data['hospital_id'] = np.random.randint(1,5, size=len(data))"
   ]
  },
  {
   "cell_type": "code",
   "execution_count": 238,
   "metadata": {},
   "outputs": [],
   "source": [
    "data = data[['target', 'hospital_id', 'features']]"
   ]
  },
  {
   "cell_type": "code",
   "execution_count": 239,
   "metadata": {},
   "outputs": [
    {
     "data": {
      "text/html": [
       "<div>\n",
       "<style scoped>\n",
       "    .dataframe tbody tr th:only-of-type {\n",
       "        vertical-align: middle;\n",
       "    }\n",
       "\n",
       "    .dataframe tbody tr th {\n",
       "        vertical-align: top;\n",
       "    }\n",
       "\n",
       "    .dataframe thead th {\n",
       "        text-align: right;\n",
       "    }\n",
       "</style>\n",
       "<table border=\"1\" class=\"dataframe\">\n",
       "  <thead>\n",
       "    <tr style=\"text-align: right;\">\n",
       "      <th></th>\n",
       "      <th>target</th>\n",
       "      <th>hospital_id</th>\n",
       "      <th>features</th>\n",
       "    </tr>\n",
       "  </thead>\n",
       "  <tbody>\n",
       "    <tr>\n",
       "      <th>0</th>\n",
       "      <td>1</td>\n",
       "      <td>3</td>\n",
       "      <td>[-0.5775378417542217, 0.142129252374572, -0.47...</td>\n",
       "    </tr>\n",
       "    <tr>\n",
       "      <th>1</th>\n",
       "      <td>0</td>\n",
       "      <td>3</td>\n",
       "      <td>[-0.5775378417542217, 0.426791930024181, 1.725...</td>\n",
       "    </tr>\n",
       "    <tr>\n",
       "      <th>2</th>\n",
       "      <td>0</td>\n",
       "      <td>1</td>\n",
       "      <td>[-0.5775378417542217, -0.4271961029246461, -1....</td>\n",
       "    </tr>\n",
       "    <tr>\n",
       "      <th>3</th>\n",
       "      <td>0</td>\n",
       "      <td>4</td>\n",
       "      <td>[-0.5775378417542217, -0.14253342527503704, -0...</td>\n",
       "    </tr>\n",
       "    <tr>\n",
       "      <th>4</th>\n",
       "      <td>0</td>\n",
       "      <td>3</td>\n",
       "      <td>[-0.5775378417542217, -0.19946596080495885, -0...</td>\n",
       "    </tr>\n",
       "    <tr>\n",
       "      <th>...</th>\n",
       "      <td>...</td>\n",
       "      <td>...</td>\n",
       "      <td>...</td>\n",
       "    </tr>\n",
       "    <tr>\n",
       "      <th>307506</th>\n",
       "      <td>0</td>\n",
       "      <td>3</td>\n",
       "      <td>[-0.5775378417542217, -0.0476458660585007, -0....</td>\n",
       "    </tr>\n",
       "    <tr>\n",
       "      <th>307507</th>\n",
       "      <td>0</td>\n",
       "      <td>2</td>\n",
       "      <td>[-0.5775378417542217, -0.4082185910813388, -0....</td>\n",
       "    </tr>\n",
       "    <tr>\n",
       "      <th>307508</th>\n",
       "      <td>0</td>\n",
       "      <td>3</td>\n",
       "      <td>[-0.5775378417542217, -0.06662337790180796, 0....</td>\n",
       "    </tr>\n",
       "    <tr>\n",
       "      <th>307509</th>\n",
       "      <td>1</td>\n",
       "      <td>3</td>\n",
       "      <td>[-0.5775378417542217, 0.009286669471421113, -0...</td>\n",
       "    </tr>\n",
       "    <tr>\n",
       "      <th>307510</th>\n",
       "      <td>0</td>\n",
       "      <td>3</td>\n",
       "      <td>[-0.5775378417542217, -0.0476458660585007, 0.1...</td>\n",
       "    </tr>\n",
       "  </tbody>\n",
       "</table>\n",
       "<p>307511 rows × 3 columns</p>\n",
       "</div>"
      ],
      "text/plain": [
       "        target  hospital_id                                           features\n",
       "0            1            3  [-0.5775378417542217, 0.142129252374572, -0.47...\n",
       "1            0            3  [-0.5775378417542217, 0.426791930024181, 1.725...\n",
       "2            0            1  [-0.5775378417542217, -0.4271961029246461, -1....\n",
       "3            0            4  [-0.5775378417542217, -0.14253342527503704, -0...\n",
       "4            0            3  [-0.5775378417542217, -0.19946596080495885, -0...\n",
       "...        ...          ...                                                ...\n",
       "307506       0            3  [-0.5775378417542217, -0.0476458660585007, -0....\n",
       "307507       0            2  [-0.5775378417542217, -0.4082185910813388, -0....\n",
       "307508       0            3  [-0.5775378417542217, -0.06662337790180796, 0....\n",
       "307509       1            3  [-0.5775378417542217, 0.009286669471421113, -0...\n",
       "307510       0            3  [-0.5775378417542217, -0.0476458660585007, 0.1...\n",
       "\n",
       "[307511 rows x 3 columns]"
      ]
     },
     "execution_count": 239,
     "metadata": {},
     "output_type": "execute_result"
    }
   ],
   "source": [
    "data"
   ]
  },
  {
   "cell_type": "markdown",
   "metadata": {},
   "source": [
    "For this tutorial, we have 4 hospitals. We will train on 3 clients."
   ]
  },
  {
   "cell_type": "code",
   "execution_count": 244,
   "metadata": {},
   "outputs": [],
   "source": [
    "client_id_colname = 'hospital_id' #column that represents client ID \n",
    "number_of_training_clients = 3\n",
    "\n",
    "# split client_id into train and test clients\n",
    "client_ids = data[client_id_colname].unique()\n",
    "train_client_ids = sample(client_ids.tolist(), number_of_training_clients)\n",
    "test_client_ids = [x for x in client_ids if x not in train_client_ids]"
   ]
  },
  {
   "cell_type": "code",
   "execution_count": 245,
   "metadata": {},
   "outputs": [
    {
     "data": {
      "text/plain": [
       "[1, 2, 3]"
      ]
     },
     "execution_count": 245,
     "metadata": {},
     "output_type": "execute_result"
    }
   ],
   "source": [
    "train_client_ids"
   ]
  },
  {
   "cell_type": "markdown",
   "metadata": {},
   "source": [
    "The function `tff.simulation.ClientData.from_clients_and_fn`, requires that we write a function that accepts a `client_id` as input and returns a `tf.data.Dataset`. Let's do that in the helper function below: "
   ]
  },
  {
   "cell_type": "code",
   "execution_count": 246,
   "metadata": {},
   "outputs": [],
   "source": [
    "SHUFFLE_BUFFER = 1000\n",
    "NUM_EPOCHS = 10\n",
    "def create_tf_dataset_for_client_fn(client_id):\n",
    "    client_data = data[data[client_id_colname] == client_id]\n",
    "    dataset = tf.data.Dataset.from_tensor_slices(client_data.to_dict('list'))\n",
    "    dataset = dataset.shuffle(SHUFFLE_BUFFER).batch(1).repeat(NUM_EPOCHS)\n",
    "    return dataset"
   ]
  },
  {
   "cell_type": "code",
   "execution_count": 247,
   "metadata": {},
   "outputs": [],
   "source": [
    "if tff.__version__ < \"0.19.0\":\n",
    "\n",
    "    train_data = tff.simulation.ClientData.from_clients_and_fn(\n",
    "        client_ids=train_client_ids,   \n",
    "        create_tf_dataset_for_client_fn=create_tf_dataset_for_client_fn)\n",
    "    \n",
    "    test_data = tff.simulation.ClientData.from_clients_and_fn(\n",
    "        client_ids=test_client_ids,\n",
    "        create_tf_dataset_for_client_fn=create_tf_dataset_for_client_fn)\n",
    "else:\n",
    "    train_data = tff.simulation.datasets.ClientData.from_clients_and_tf_fn(\n",
    "        client_ids=train_client_ids, \n",
    "        serializable_dataset_fn=create_tf_dataset_for_client_fn)\n",
    "    \n",
    "    test_data = tff.simulation.datasets.ClientData.from_clients_and_tf_fn(\n",
    "        client_ids=test_client_ids,\n",
    "        serializable_dataset_fn=create_tf_dataset_for_client_fn)"
   ]
  },
  {
   "cell_type": "markdown",
   "metadata": {},
   "source": [
    "### Example dataset \n",
    "\n",
    "Each element of example_dataset is a Python dictionary where the keys are strings representing feature names, and the values are tensors with one batch of those features. Now, you have a federated dataset that can be preprocessed and used for modeling."
   ]
  },
  {
   "cell_type": "code",
   "execution_count": 248,
   "metadata": {},
   "outputs": [
    {
     "name": "stdout",
     "output_type": "stream",
     "text": [
      "<RepeatDataset element_spec={'target': TensorSpec(shape=(None,), dtype=tf.int32, name=None), 'hospital_id': TensorSpec(shape=(None,), dtype=tf.int32, name=None), 'features': TensorSpec(shape=(None, 99), dtype=tf.float32, name=None)}>\n",
      "{'target': <tf.Tensor: shape=(1,), dtype=int32, numpy=array([0], dtype=int32)>, 'hospital_id': <tf.Tensor: shape=(1,), dtype=int32, numpy=array([3], dtype=int32)>, 'features': <tf.Tensor: shape=(1, 99), dtype=float32, numpy=\n",
      "array([[-5.77537835e-01, -4.74639893e-01,  1.71264827e+00,\n",
      "         7.37673938e-01,  1.58851182e+00, -7.85330772e-01,\n",
      "        -1.46930158e+00,  2.13361740e+00, -1.62136626e+00,\n",
      "        -8.61107945e-01, -1.44434083e+00,  1.80330989e-03,\n",
      "        -2.13357520e+00, -4.99013036e-01,  4.32445444e-02,\n",
      "         1.59933686e+00, -2.45215252e-01, -1.67639494e-01,\n",
      "        -1.03064351e-01, -6.26985356e-02, -6.31821275e-01,\n",
      "        -1.24004222e-01, -2.31266633e-01, -2.05868647e-01,\n",
      "        -2.91207880e-01, -5.47235489e-01, -4.67814147e-01,\n",
      "        -1.59291936e-15, -2.28825760e+00,  2.13817814e-13,\n",
      "        -1.21647619e-01, -6.14769816e-01,  1.73769802e-01,\n",
      "         6.63875699e-01, -1.06914854e+00, -8.58345628e-01,\n",
      "         1.30039597e+00, -5.81171095e-01, -2.57836461e-01,\n",
      "        -1.28196645e+00, -2.39542753e-01, -1.33270562e-01,\n",
      "        -3.33794802e-01,  9.41943228e-01, -5.18960692e-02,\n",
      "        -5.45911074e-01,  1.73853844e-01,  6.96068943e-01,\n",
      "        -1.04140139e+00, -8.24147522e-01,  1.35214174e+00,\n",
      "        -5.45993209e-01, -2.16221869e-01, -1.24668181e+00,\n",
      "        -1.67901129e-01, -6.17616884e-02, -3.15670848e-01,\n",
      "         1.05196369e+00, -1.11694142e-01, -6.07502639e-01,\n",
      "         1.71408385e-01,  6.62202954e-01, -1.06701207e+00,\n",
      "        -8.49642038e-01,  1.30349731e+00, -5.75715780e-01,\n",
      "        -2.54030675e-01, -1.28257895e+00, -2.30734900e-01,\n",
      "        -1.25043809e-01, -3.30011725e-01,  9.67832744e-01,\n",
      "        -1.36452883e-01,  1.07541060e+00, -3.21603060e-01,\n",
      "         1.09211981e+00, -2.76616484e-01, -3.59384537e-01,\n",
      "        -6.50205323e-03,  6.39065206e-01, -9.01690125e-03,\n",
      "        -1.23882495e-01, -3.10737550e-01, -1.38527928e-02,\n",
      "        -2.97631651e-01, -6.25382438e-02, -4.77115624e-03,\n",
      "        -6.26691282e-02, -2.55026948e-03, -5.94772846e-02,\n",
      "        -5.42690381e-02, -3.48019823e-02, -1.00138180e-01,\n",
      "        -1.63318180e-02, -9.05341133e-02, -2.44019479e-02,\n",
      "        -2.25290135e-02, -1.83046330e-02,  0.00000000e+00]], dtype=float32)>}\n"
     ]
    },
    {
     "name": "stderr",
     "output_type": "stream",
     "text": [
      "2022-08-24 10:20:02.311559: W tensorflow/core/data/root_dataset.cc:200] Optimization loop failed: CANCELLED: Operation was cancelled\n"
     ]
    }
   ],
   "source": [
    "example_dataset = train_data.create_tf_dataset_for_client(\n",
    "        train_data.client_ids[2]\n",
    "    )\n",
    "print(example_dataset)\n",
    "example_element = iter(example_dataset).next()\n",
    "print(example_element)"
   ]
  },
  {
   "cell_type": "markdown",
   "metadata": {},
   "source": [
    "### Exploring heterogeneity in federated data\n"
   ]
  },
  {
   "cell_type": "code",
   "execution_count": 202,
   "metadata": {},
   "outputs": [
    {
     "data": {
      "image/png": "[encoded data removed]",
      "text/plain": [
       "<Figure size 864x504 with 3 Axes>"
      ]
     },
     "metadata": {
      "needs_background": "light"
     },
     "output_type": "display_data"
    }
   ],
   "source": [
    "# Number of examples per layer for a sample of clients\n",
    "f = plt.figure(figsize=(12, 7))\n",
    "f.suptitle('Label Counts for a Sample of Clients')\n",
    "for i in [0,1,2]:\n",
    "    client_dataset = train_data.create_tf_dataset_for_client(\n",
    "        train_data.client_ids[i])\n",
    "    plot_data = collections.defaultdict(list)\n",
    "    for example in client_dataset:\n",
    "        label = example['target'].numpy()[0]\n",
    "        plot_data[label].append(label)\n",
    "    plt.subplot(2, 3, i+1)\n",
    "    plt.title('Client {}'.format(i))\n",
    "    for j in range(10):\n",
    "        plt.hist(\n",
    "        plot_data[j],\n",
    "        bins=[0, 1, 2])"
   ]
  },
  {
   "cell_type": "markdown",
   "metadata": {},
   "source": [
    "From the above steps, we now have a federated dataset that can be preprocessed and used for modeling. "
   ]
  },
  {
   "cell_type": "markdown",
   "metadata": {},
   "source": [
    "\n",
    "\n",
    "### Preprocessing the input data\n",
    "We will now shuffle the individual examples, organize them into batches, and rename the features\n",
    "from `features` and `diagnosis` to `x` and `y` for use with Keras. We also throw in a\n",
    "`repeat` over the data set to run several epochs."
   ]
  },
  {
   "cell_type": "code",
   "execution_count": 249,
   "metadata": {},
   "outputs": [
    {
     "data": {
      "text/plain": [
       "99"
      ]
     },
     "execution_count": 249,
     "metadata": {},
     "output_type": "execute_result"
    }
   ],
   "source": [
    "n_features = len(data['features'][0])\n",
    "n_features"
   ]
  },
  {
   "cell_type": "code",
   "execution_count": 271,
   "metadata": {},
   "outputs": [],
   "source": [
    "NUM_ROUNDS = 5\n",
    "NUM_EPOCHS = 5\n",
    "BATCH_SIZE = 5000\n",
    "PREFETCH_BUFFER = 2500\n",
    "def preprocess(dataset):\n",
    "    def batch_format_fn(element):\n",
    "                \n",
    "        return collections.OrderedDict(x= tf.reshape(element['features'], [-1,n_features]),\n",
    "                                       y=tf.reshape(element['target'], [-1,1]))\n",
    "\n",
    "    return dataset.repeat(NUM_EPOCHS).shuffle(SHUFFLE_BUFFER).batch(\n",
    "      BATCH_SIZE).map(batch_format_fn).prefetch(PREFETCH_BUFFER)"
   ]
  },
  {
   "cell_type": "markdown",
   "metadata": {},
   "source": [
    "Let's verify this worked."
   ]
  },
  {
   "cell_type": "code",
   "execution_count": 272,
   "metadata": {},
   "outputs": [
    {
     "data": {
      "text/plain": [
       "OrderedDict([('x',\n",
       "              array([[-0.57753783, -0.14253342, -1.0410839 , ..., -0.02252901,\n",
       "                      -0.01830463,  0.        ],\n",
       "                     [ 0.80727315,  0.33190438, -0.6023651 , ..., -0.02252901,\n",
       "                      -0.01830463,  0.        ],\n",
       "                     [-0.57753783,  0.33190438, -0.37026003, ..., -0.02252901,\n",
       "                      -0.01830463,  0.        ],\n",
       "                     ...,\n",
       "                     [ 0.80727315, -0.23742099, -0.01606499, ..., -0.02252901,\n",
       "                      -0.01830463,  0.        ],\n",
       "                     [-0.57753783,  0.14212926, -0.817476  , ..., -0.02252901,\n",
       "                      -0.01830463,  0.        ],\n",
       "                     [-0.57753783, -0.23742099, -0.8554893 , ..., -0.02252901,\n",
       "                      -0.01830463,  1.        ]], dtype=float32)),\n",
       "             ('y',\n",
       "              array([[0],\n",
       "                     [0],\n",
       "                     [0],\n",
       "                     ...,\n",
       "                     [0],\n",
       "                     [0],\n",
       "                     [1]], dtype=int32))])"
      ]
     },
     "execution_count": 272,
     "metadata": {},
     "output_type": "execute_result"
    }
   ],
   "source": [
    "preprocessed_example_dataset = preprocess(example_dataset)\n",
    "sample_batch = tf.nest.map_structure(lambda x: x.numpy(),\n",
    "                                     next(iter(preprocessed_example_dataset)))\n",
    "\n",
    "sample_batch"
   ]
  },
  {
   "cell_type": "code",
   "execution_count": 273,
   "metadata": {},
   "outputs": [
    {
     "data": {
      "text/plain": [
       "((5000, 99), (5000, 1))"
      ]
     },
     "execution_count": 273,
     "metadata": {},
     "output_type": "execute_result"
    }
   ],
   "source": [
    "sample_batch['x'].shape, sample_batch['y'].shape"
   ]
  },
  {
   "cell_type": "markdown",
   "metadata": {},
   "source": [
    "We now have almost all the building blocks in place to construct federated datasets.\n",
    "\n",
    "One of the ways to feed federated data to TFF in a simulation is simply as a Python list, with each element of the list holding the data of an individual user, as a `tf.data.Dataset`. Since we already have an interface for that, let's use it.\n",
    "\n",
    "The helper function `make_federated_data` below will construct a list of datasets from the\n",
    "given set of users as an input to a round of training or evaluation."
   ]
  },
  {
   "cell_type": "code",
   "execution_count": 274,
   "metadata": {},
   "outputs": [],
   "source": [
    "def make_federated_data(client_data, client_ids):\n",
    "    return [\n",
    "      preprocess(client_data.create_tf_dataset_for_client(x))\n",
    "      for x in client_ids\n",
    "    ]"
   ]
  },
  {
   "cell_type": "markdown",
   "metadata": {},
   "source": [
    "So now, how do we choose the clients? \n",
    "\n",
    "In a typical federated training scenario, we might have only a fraction of the devices available for training at a given point in time. But, since we are in a simulation environment, all the data is locally available. Typically then, when running simulations, we would simply sample a random subset of the clients to be involved in each round of training, generally different in each round.\n",
    "\n",
    "That said, as you can find out by studying the paper on the [Federated Averaging](https://arxiv.org/abs/1602.05629) algorithm, achieving convergence in a system with randomly sampled subsets of clients in each round can take a while, and it would be impractical to have to run hundreds of rounds in this interactive tutorial.\n",
    "\n",
    "For simplicity here, we will sample the set of clients once, and reuse the same set across rounds to speed up convergence (intentionally over-fitting to these few user's data). "
   ]
  },
  {
   "cell_type": "code",
   "execution_count": 275,
   "metadata": {},
   "outputs": [
    {
     "name": "stdout",
     "output_type": "stream",
     "text": [
      "Number of client datasets: 3\n",
      "First dataset: <PrefetchDataset element_spec=OrderedDict([('x', TensorSpec(shape=(None, 99), dtype=tf.float32, name=None)), ('y', TensorSpec(shape=(None, 1), dtype=tf.int32, name=None))])>\n",
      "CPU times: user 1min 8s, sys: 1.19 s, total: 1min 9s\n",
      "Wall time: 1min 9s\n"
     ]
    }
   ],
   "source": [
    "%%time\n",
    "train_client_ids = sample(client_ids.tolist(), number_of_training_clients)\n",
    "federated_train_data = make_federated_data(train_data, train_data.client_ids)\n",
    "print('Number of client datasets: {l}'.format(l=len(federated_train_data)))\n",
    "print('First dataset: {d}'.format(d=federated_train_data[0]))"
   ]
  },
  {
   "cell_type": "code",
   "execution_count": 276,
   "metadata": {},
   "outputs": [
    {
     "data": {
      "text/plain": [
       "([<PrefetchDataset element_spec=OrderedDict([('x', TensorSpec(shape=(None, 99), dtype=tf.float32, name=None)), ('y', TensorSpec(shape=(None, 1), dtype=tf.int32, name=None))])>,\n",
       "  <PrefetchDataset element_spec=OrderedDict([('x', TensorSpec(shape=(None, 99), dtype=tf.float32, name=None)), ('y', TensorSpec(shape=(None, 1), dtype=tf.int32, name=None))])>,\n",
       "  <PrefetchDataset element_spec=OrderedDict([('x', TensorSpec(shape=(None, 99), dtype=tf.float32, name=None)), ('y', TensorSpec(shape=(None, 1), dtype=tf.int32, name=None))])>],\n",
       " 3)"
      ]
     },
     "execution_count": 276,
     "metadata": {},
     "output_type": "execute_result"
    }
   ],
   "source": [
    "federated_train_data, len(federated_train_data)"
   ]
  },
  {
   "cell_type": "code",
   "execution_count": 277,
   "metadata": {},
   "outputs": [
    {
     "data": {
      "text/plain": [
       "<PrefetchDataset element_spec=OrderedDict([('x', TensorSpec(shape=(None, 99), dtype=tf.float32, name=None)), ('y', TensorSpec(shape=(None, 1), dtype=tf.int32, name=None))])>"
      ]
     },
     "execution_count": 277,
     "metadata": {},
     "output_type": "execute_result"
    }
   ],
   "source": [
    "federated_train_data[0]"
   ]
  },
  {
   "cell_type": "markdown",
   "metadata": {},
   "source": [
    "### Creating a model with Keras \n",
    "Here's an example of a simple model:"
   ]
  },
  {
   "cell_type": "code",
   "execution_count": 278,
   "metadata": {},
   "outputs": [
    {
     "name": "stdout",
     "output_type": "stream",
     "text": [
      "Wed Aug 24 11:29:07 2022       \r\n",
      "+-----------------------------------------------------------------------------+\r\n",
      "| NVIDIA-SMI 470.103.01   Driver Version: 470.103.01   CUDA Version: 11.4     |\r\n",
      "|-------------------------------+----------------------+----------------------+\r\n",
      "| GPU  Name        Persistence-M| Bus-Id        Disp.A | Volatile Uncorr. ECC |\r\n",
      "| Fan  Temp  Perf  Pwr:Usage/Cap|         Memory-Usage | GPU-Util  Compute M. |\r\n",
      "|                               |                      |               MIG M. |\r\n",
      "|===============================+======================+======================|\r\n",
      "|   0  Tesla T4            On   | 00000000:87:00.0 Off |                    0 |\r\n",
      "| N/A   44C    P0    26W /  70W |  14228MiB / 15109MiB |      0%      Default |\r\n",
      "|                               |                      |                  N/A |\r\n",
      "+-------------------------------+----------------------+----------------------+\r\n",
      "                                                                               \r\n",
      "+-----------------------------------------------------------------------------+\r\n",
      "| Processes:                                                                  |\r\n",
      "|  GPU   GI   CI        PID   Type   Process name                  GPU Memory |\r\n",
      "|        ID   ID                                                   Usage      |\r\n",
      "|=============================================================================|\r\n",
      "|    0   N/A  N/A     17922      C   ...ets_unified/bin/python3.8    14225MiB |\r\n",
      "+-----------------------------------------------------------------------------+\r\n"
     ]
    }
   ],
   "source": [
    "!nvidia-smi"
   ]
  },
  {
   "cell_type": "code",
   "execution_count": 279,
   "metadata": {},
   "outputs": [],
   "source": [
    "def create_keras_model():\n",
    "    return tf.keras.models.Sequential([\n",
    "      tf.keras.layers.InputLayer(input_shape=(n_features,)), # n_features\n",
    "      tf.keras.layers.Dense(150, activation = 'swish'),\n",
    "        tf.keras.layers.Dense(50, activation = 'swish'),\n",
    "        tf.keras.layers.Dense(1, activation = 'sigmoid'),\n",
    "      ])"
   ]
  },
  {
   "cell_type": "markdown",
   "metadata": {},
   "source": [
    "Note that we do not compile the model yet. The loss, metrics, and optimizers are introduced later.\n",
    "\n",
    "If you have a Keras model like the one we've just defined above, you can have TFF wrap it for you by invoking\n",
    "`tff.learning.from_keras_model`, passing the model and a sample data batch as\n",
    "arguments, as shown below.\n"
   ]
  },
  {
   "cell_type": "code",
   "execution_count": 280,
   "metadata": {},
   "outputs": [],
   "source": [
    "import tensorflow_addons as tfa\n",
    "\n",
    "def model_fn():\n",
    "  # We _must_ create a new model here, and _not_ capture it from an external\n",
    "  # scope. TFF will call this within different graph contexts.\n",
    "    keras_model = create_keras_model()\n",
    "    return tff.learning.from_keras_model(\n",
    "      keras_model,\n",
    "      input_spec=preprocessed_example_dataset.element_spec,\n",
    "      loss=tf.keras.losses.BinaryCrossentropy(),\n",
    "      metrics=[tf.keras.metrics.BinaryAccuracy(), tf.keras.metrics.Precision(name='Precision'),\n",
    "               tf.keras.metrics.Recall(name='Recall'), tf.keras.metrics.AUC(name='AUC')])"
   ]
  },
  {
   "cell_type": "markdown",
   "metadata": {
    "tags": []
   },
   "source": [
    "### Training the model on federated data \n",
    "\n",
    "Now that we have a model wrapped as `tff.learning.Model` for use with TFF, we\n",
    "can let TFF construct a **Federated Averaging** algorithm by invoking the helper\n",
    "function `tff.learning.build_federated_averaging_process`, as follows.\n",
    "\n",
    "One critical note on the Federated Averaging algorithm below, there are **2**\n",
    "optimizers: a _client_optimizer_ and a _server_optimizer_. The\n",
    "_client_optimizer_ is only used to compute local model updates on each client.\n",
    "The _server_optimizer_ applies the averaged update to the global model at the\n",
    "server. In particular, this means that the choice of optimizer and learning rate\n",
    "used may need to be different than the ones you have used to train the model on\n",
    "a standard i.i.d. dataset.\n",
    "\n",
    "We will start with regular SGD and a smaller learning rate than usual. \n"
   ]
  },
  {
   "cell_type": "code",
   "execution_count": 281,
   "metadata": {},
   "outputs": [],
   "source": [
    "iterative_process = tff.learning.build_federated_averaging_process(\n",
    "    model_fn,\n",
    "    client_optimizer_fn=lambda: tf.keras.optimizers.SGD(learning_rate=0.01),\n",
    "    server_optimizer_fn=lambda: tf.keras.optimizers.SGD(learning_rate=0.01)) "
   ]
  },
  {
   "cell_type": "markdown",
   "metadata": {},
   "source": [
    "In this case, the two computations generated and packed into iterative_process implement Federated Averaging.\n",
    "\n",
    "Let's start with the `initialize` computation. As is the case for all federated\n",
    "computations, you can think of it as a function. The computation takes no\n",
    "arguments, and returns one result - the representation of the state of the\n",
    "Federated Averaging process on the server. While we don't want to dive into the\n",
    "details of TFF, it may be instructive to see what this state looks like. You can\n",
    "visualize it as follows."
   ]
  },
  {
   "cell_type": "code",
   "execution_count": 282,
   "metadata": {},
   "outputs": [
    {
     "data": {
      "text/plain": [
       "'( -> <model=<trainable=<float32[99,150],float32[150],float32[150,50],float32[50],float32[50,1],float32[1]>,non_trainable=<>>,optimizer_state=<int64>,delta_aggregate_state=<value_sum_process=<>,weight_sum_process=<>>,model_broadcast_state=<>>@SERVER)'"
      ]
     },
     "execution_count": 282,
     "metadata": {},
     "output_type": "execute_result"
    }
   ],
   "source": [
    "str(iterative_process.initialize.type_signature)"
   ]
  },
  {
   "cell_type": "markdown",
   "metadata": {},
   "source": [
    "While the above type signature may at first seem a bit cryptic, you can recognize that the server state consists of a model (the initial model parameters for MNIST that will be distributed to all devices), and optimizer_state (additional information maintained by the server, such as the number of rounds to use for hyperparameter schedules, etc.).\n",
    "\n",
    "Let's invoke the initialize computation to construct the server state."
   ]
  },
  {
   "cell_type": "code",
   "execution_count": 283,
   "metadata": {},
   "outputs": [],
   "source": [
    "state = iterative_process.initialize()"
   ]
  },
  {
   "cell_type": "code",
   "execution_count": 284,
   "metadata": {
    "tags": []
   },
   "outputs": [
    {
     "data": {
      "text/plain": [
       "ServerState(model=ModelWeights(trainable=[array([[ 0.1402174 ,  0.05599581,  0.0423145 , ...,  0.0556366 ,\n",
       "        -0.14524269,  0.152809  ],\n",
       "       [ 0.0332641 , -0.05884849, -0.06688308, ..., -0.15298617,\n",
       "        -0.05856832, -0.14479299],\n",
       "       [-0.1322629 , -0.03222283, -0.00397469, ...,  0.00036751,\n",
       "         0.05312352, -0.02445459],\n",
       "       ...,\n",
       "       [ 0.13980097,  0.04177453, -0.05495314, ...,  0.10104412,\n",
       "        -0.05193351,  0.08287957],\n",
       "       [ 0.08678132, -0.08095548, -0.12980767, ..., -0.10250229,\n",
       "        -0.01463902,  0.08797938],\n",
       "       [ 0.15123183, -0.02688025, -0.05861281, ...,  0.03475092,\n",
       "        -0.02146557,  0.12065235]], dtype=float32), array([0., 0., 0., 0., 0., 0., 0., 0., 0., 0., 0., 0., 0., 0., 0., 0., 0.,\n",
       "       0., 0., 0., 0., 0., 0., 0., 0., 0., 0., 0., 0., 0., 0., 0., 0., 0.,\n",
       "       0., 0., 0., 0., 0., 0., 0., 0., 0., 0., 0., 0., 0., 0., 0., 0., 0.,\n",
       "       0., 0., 0., 0., 0., 0., 0., 0., 0., 0., 0., 0., 0., 0., 0., 0., 0.,\n",
       "       0., 0., 0., 0., 0., 0., 0., 0., 0., 0., 0., 0., 0., 0., 0., 0., 0.,\n",
       "       0., 0., 0., 0., 0., 0., 0., 0., 0., 0., 0., 0., 0., 0., 0., 0., 0.,\n",
       "       0., 0., 0., 0., 0., 0., 0., 0., 0., 0., 0., 0., 0., 0., 0., 0., 0.,\n",
       "       0., 0., 0., 0., 0., 0., 0., 0., 0., 0., 0., 0., 0., 0., 0., 0., 0.,\n",
       "       0., 0., 0., 0., 0., 0., 0., 0., 0., 0., 0., 0., 0., 0.],\n",
       "      dtype=float32), array([[-0.05321322, -0.161144  , -0.11037938, ...,  0.07136177,\n",
       "        -0.02854352,  0.04621491],\n",
       "       [ 0.11209735, -0.12402178, -0.02272563, ...,  0.06248918,\n",
       "         0.08940509,  0.10444254],\n",
       "       [-0.03112927,  0.05636798, -0.07583008, ...,  0.05227853,\n",
       "        -0.04843944,  0.16389263],\n",
       "       ...,\n",
       "       [-0.14546789,  0.12697664, -0.01534893, ...,  0.14543694,\n",
       "         0.11696482,  0.01292981],\n",
       "       [ 0.13618353,  0.10180289,  0.14695844, ..., -0.00118765,\n",
       "        -0.12703721,  0.03586563],\n",
       "       [-0.02824669,  0.16589734, -0.10917294, ..., -0.07048032,\n",
       "         0.03279187, -0.14772843]], dtype=float32), array([0., 0., 0., 0., 0., 0., 0., 0., 0., 0., 0., 0., 0., 0., 0., 0., 0.,\n",
       "       0., 0., 0., 0., 0., 0., 0., 0., 0., 0., 0., 0., 0., 0., 0., 0., 0.,\n",
       "       0., 0., 0., 0., 0., 0., 0., 0., 0., 0., 0., 0., 0., 0., 0., 0.],\n",
       "      dtype=float32), array([[-0.170872  ],\n",
       "       [ 0.27859965],\n",
       "       [-0.0879221 ],\n",
       "       [-0.11693704],\n",
       "       [ 0.24787393],\n",
       "       [ 0.1771318 ],\n",
       "       [-0.09275675],\n",
       "       [ 0.2464278 ],\n",
       "       [ 0.2285119 ],\n",
       "       [ 0.28691873],\n",
       "       [ 0.20308068],\n",
       "       [-0.28366998],\n",
       "       [-0.12381439],\n",
       "       [ 0.03745815],\n",
       "       [-0.30079162],\n",
       "       [-0.29640487],\n",
       "       [-0.03982314],\n",
       "       [ 0.03002292],\n",
       "       [ 0.10736498],\n",
       "       [-0.17480057],\n",
       "       [-0.02357423],\n",
       "       [-0.17647846],\n",
       "       [ 0.14747605],\n",
       "       [-0.12214769],\n",
       "       [ 0.05872384],\n",
       "       [ 0.18964186],\n",
       "       [ 0.24001494],\n",
       "       [-0.27560416],\n",
       "       [-0.2663163 ],\n",
       "       [-0.26134816],\n",
       "       [ 0.016826  ],\n",
       "       [ 0.13639528],\n",
       "       [ 0.21144202],\n",
       "       [ 0.26528302],\n",
       "       [ 0.09101203],\n",
       "       [-0.32707006],\n",
       "       [-0.26184046],\n",
       "       [-0.17040105],\n",
       "       [ 0.220821  ],\n",
       "       [-0.19307894],\n",
       "       [-0.09568861],\n",
       "       [ 0.05736044],\n",
       "       [ 0.21113577],\n",
       "       [ 0.05910328],\n",
       "       [-0.28953993],\n",
       "       [-0.2744437 ],\n",
       "       [ 0.03082794],\n",
       "       [-0.00405058],\n",
       "       [ 0.29772022],\n",
       "       [-0.23463853]], dtype=float32), array([0.], dtype=float32)], non_trainable=[]), optimizer_state=[0], delta_aggregate_state=OrderedDict([('value_sum_process', ()), ('weight_sum_process', ())]), model_broadcast_state=())"
      ]
     },
     "execution_count": 284,
     "metadata": {},
     "output_type": "execute_result"
    }
   ],
   "source": [
    "state"
   ]
  },
  {
   "cell_type": "markdown",
   "metadata": {},
   "source": [
    "The second of the pair of federated computations, `next`, represents a single\n",
    "round of Federated Averaging, which consists of pushing the server state\n",
    "(including the model parameters) to the clients, on-device training on their\n",
    "local data, collecting and averaging model updates, and producing a new updated\n",
    "model at the server.\n",
    "\n",
    "Conceptually, you can think of `next` as having a functional type signature that\n",
    "looks as follows.\n",
    "\n",
    "```\n",
    "SERVER_STATE, FEDERATED_DATA -> SERVER_STATE, TRAINING_METRICS\n",
    "```\n",
    "\n",
    "In particular, one should think about `next()` not as being a function that runs on a server, but rather being a declarative functional representation of the entire decentralized computation - some of the inputs are provided by the server (`SERVER_STATE`), but each participating device contributes its own local dataset.\n",
    "\n",
    "Let's run a single round of training and visualize the results. We can use the\n",
    "federated data we've already generated above for a sample of users."
   ]
  },
  {
   "cell_type": "code",
   "execution_count": 285,
   "metadata": {},
   "outputs": [
    {
     "data": {
      "text/plain": [
       "[<PrefetchDataset element_spec=OrderedDict([('x', TensorSpec(shape=(None, 99), dtype=tf.float32, name=None)), ('y', TensorSpec(shape=(None, 1), dtype=tf.int32, name=None))])>,\n",
       " <PrefetchDataset element_spec=OrderedDict([('x', TensorSpec(shape=(None, 99), dtype=tf.float32, name=None)), ('y', TensorSpec(shape=(None, 1), dtype=tf.int32, name=None))])>,\n",
       " <PrefetchDataset element_spec=OrderedDict([('x', TensorSpec(shape=(None, 99), dtype=tf.float32, name=None)), ('y', TensorSpec(shape=(None, 1), dtype=tf.int32, name=None))])>]"
      ]
     },
     "execution_count": 285,
     "metadata": {},
     "output_type": "execute_result"
    }
   ],
   "source": [
    "federated_train_data"
   ]
  },
  {
   "cell_type": "code",
   "execution_count": 286,
   "metadata": {},
   "outputs": [
    {
     "data": {
      "text/plain": [
       "ModelWeights(trainable=[array([[ 0.1402174 ,  0.05599581,  0.0423145 , ...,  0.0556366 ,\n",
       "        -0.14524269,  0.152809  ],\n",
       "       [ 0.0332641 , -0.05884849, -0.06688308, ..., -0.15298617,\n",
       "        -0.05856832, -0.14479299],\n",
       "       [-0.1322629 , -0.03222283, -0.00397469, ...,  0.00036751,\n",
       "         0.05312352, -0.02445459],\n",
       "       ...,\n",
       "       [ 0.13980097,  0.04177453, -0.05495314, ...,  0.10104412,\n",
       "        -0.05193351,  0.08287957],\n",
       "       [ 0.08678132, -0.08095548, -0.12980767, ..., -0.10250229,\n",
       "        -0.01463902,  0.08797938],\n",
       "       [ 0.15123183, -0.02688025, -0.05861281, ...,  0.03475092,\n",
       "        -0.02146557,  0.12065235]], dtype=float32), array([0., 0., 0., 0., 0., 0., 0., 0., 0., 0., 0., 0., 0., 0., 0., 0., 0.,\n",
       "       0., 0., 0., 0., 0., 0., 0., 0., 0., 0., 0., 0., 0., 0., 0., 0., 0.,\n",
       "       0., 0., 0., 0., 0., 0., 0., 0., 0., 0., 0., 0., 0., 0., 0., 0., 0.,\n",
       "       0., 0., 0., 0., 0., 0., 0., 0., 0., 0., 0., 0., 0., 0., 0., 0., 0.,\n",
       "       0., 0., 0., 0., 0., 0., 0., 0., 0., 0., 0., 0., 0., 0., 0., 0., 0.,\n",
       "       0., 0., 0., 0., 0., 0., 0., 0., 0., 0., 0., 0., 0., 0., 0., 0., 0.,\n",
       "       0., 0., 0., 0., 0., 0., 0., 0., 0., 0., 0., 0., 0., 0., 0., 0., 0.,\n",
       "       0., 0., 0., 0., 0., 0., 0., 0., 0., 0., 0., 0., 0., 0., 0., 0., 0.,\n",
       "       0., 0., 0., 0., 0., 0., 0., 0., 0., 0., 0., 0., 0., 0.],\n",
       "      dtype=float32), array([[-0.05321322, -0.161144  , -0.11037938, ...,  0.07136177,\n",
       "        -0.02854352,  0.04621491],\n",
       "       [ 0.11209735, -0.12402178, -0.02272563, ...,  0.06248918,\n",
       "         0.08940509,  0.10444254],\n",
       "       [-0.03112927,  0.05636798, -0.07583008, ...,  0.05227853,\n",
       "        -0.04843944,  0.16389263],\n",
       "       ...,\n",
       "       [-0.14546789,  0.12697664, -0.01534893, ...,  0.14543694,\n",
       "         0.11696482,  0.01292981],\n",
       "       [ 0.13618353,  0.10180289,  0.14695844, ..., -0.00118765,\n",
       "        -0.12703721,  0.03586563],\n",
       "       [-0.02824669,  0.16589734, -0.10917294, ..., -0.07048032,\n",
       "         0.03279187, -0.14772843]], dtype=float32), array([0., 0., 0., 0., 0., 0., 0., 0., 0., 0., 0., 0., 0., 0., 0., 0., 0.,\n",
       "       0., 0., 0., 0., 0., 0., 0., 0., 0., 0., 0., 0., 0., 0., 0., 0., 0.,\n",
       "       0., 0., 0., 0., 0., 0., 0., 0., 0., 0., 0., 0., 0., 0., 0., 0.],\n",
       "      dtype=float32), array([[-0.170872  ],\n",
       "       [ 0.27859965],\n",
       "       [-0.0879221 ],\n",
       "       [-0.11693704],\n",
       "       [ 0.24787393],\n",
       "       [ 0.1771318 ],\n",
       "       [-0.09275675],\n",
       "       [ 0.2464278 ],\n",
       "       [ 0.2285119 ],\n",
       "       [ 0.28691873],\n",
       "       [ 0.20308068],\n",
       "       [-0.28366998],\n",
       "       [-0.12381439],\n",
       "       [ 0.03745815],\n",
       "       [-0.30079162],\n",
       "       [-0.29640487],\n",
       "       [-0.03982314],\n",
       "       [ 0.03002292],\n",
       "       [ 0.10736498],\n",
       "       [-0.17480057],\n",
       "       [-0.02357423],\n",
       "       [-0.17647846],\n",
       "       [ 0.14747605],\n",
       "       [-0.12214769],\n",
       "       [ 0.05872384],\n",
       "       [ 0.18964186],\n",
       "       [ 0.24001494],\n",
       "       [-0.27560416],\n",
       "       [-0.2663163 ],\n",
       "       [-0.26134816],\n",
       "       [ 0.016826  ],\n",
       "       [ 0.13639528],\n",
       "       [ 0.21144202],\n",
       "       [ 0.26528302],\n",
       "       [ 0.09101203],\n",
       "       [-0.32707006],\n",
       "       [-0.26184046],\n",
       "       [-0.17040105],\n",
       "       [ 0.220821  ],\n",
       "       [-0.19307894],\n",
       "       [-0.09568861],\n",
       "       [ 0.05736044],\n",
       "       [ 0.21113577],\n",
       "       [ 0.05910328],\n",
       "       [-0.28953993],\n",
       "       [-0.2744437 ],\n",
       "       [ 0.03082794],\n",
       "       [-0.00405058],\n",
       "       [ 0.29772022],\n",
       "       [-0.23463853]], dtype=float32), array([0.], dtype=float32)], non_trainable=[])"
      ]
     },
     "execution_count": 286,
     "metadata": {},
     "output_type": "execute_result"
    }
   ],
   "source": [
    "state.model"
   ]
  },
  {
   "cell_type": "code",
   "execution_count": null,
   "metadata": {},
   "outputs": [],
   "source": [
    "%%time\n",
    "state, metrics = iterative_process.next(state, federated_train_data)\n",
    "print('round  1, metrics={}'.format(metrics))"
   ]
  },
  {
   "cell_type": "markdown",
   "metadata": {},
   "source": [
    "Let's run a few more rounds. As noted earlier, typically at this point you would\n",
    "pick a subset of your simulation data from a new randomly selected sample of\n",
    "users for each round in order to simulate a realistic deployment in which users\n",
    "continuously come and go, but in this interactive notebook, for the sake of\n",
    "demonstration we'll just reuse the same users, so that the system converges\n",
    "quickly."
   ]
  },
  {
   "cell_type": "code",
   "execution_count": 59,
   "metadata": {},
   "outputs": [
    {
     "name": "stdout",
     "output_type": "stream",
     "text": [
      "round  2, metrics=OrderedDict([('broadcast', ()), ('aggregation', OrderedDict([('mean_value', ()), ('mean_weight', ())])), ('train', OrderedDict([('binary_accuracy', 0.85864705), ('Precision', 0.096476786), ('Recall', 0.10371681), ('AUC', 0.54178023), ('loss', 0.5347716)])), ('stat', OrderedDict([('num_examples', 37325)]))])\n",
      "--\n"
     ]
    }
   ],
   "source": [
    "NUM_ROUNDS = 3\n",
    "for round_num in range(2, NUM_ROUNDS):\n",
    "    state, metrics = iterative_process.next(state, federated_train_data)\n",
    "    print('round {:2d}, metrics={}'.format(round_num, metrics))\n",
    "    print(\"--\")"
   ]
  },
  {
   "cell_type": "markdown",
   "metadata": {},
   "source": [
    "Training loss is decreasing after each round of federated training, indicating\n",
    "the model is converging"
   ]
  },
  {
   "cell_type": "markdown",
   "metadata": {},
   "source": [
    "Next, let's visualize the metrics from these federated computations using Tensorboard.\n",
    "\n",
    "Let's start by creating the directory and the corresponding summary writer to write the metrics to."
   ]
  },
  {
   "cell_type": "code",
   "execution_count": 267,
   "metadata": {},
   "outputs": [],
   "source": [
    "logdir = \"/tmp/logs/scalars/training/\"\n",
    "summary_writer = tf.summary.create_file_writer(logdir)\n",
    "state = iterative_process.initialize()"
   ]
  },
  {
   "cell_type": "code",
   "execution_count": 268,
   "metadata": {},
   "outputs": [],
   "source": [
    "evaluation = tff.learning.build_federated_evaluation(model_fn)\n",
    "federated_test_data = make_federated_data(test_data, test_client_ids)"
   ]
  },
  {
   "cell_type": "code",
   "execution_count": 270,
   "metadata": {
    "scrolled": false
   },
   "outputs": [
    {
     "name": "stdout",
     "output_type": "stream",
     "text": [
      "round:  1, loss: 0.42400479316711426, test_accuracy: [0.75567347], training_recall : 0.042960647493600845, training_precision = 0.15482592582702637, training_f1 = 0.06725858102985015, val_precision = 0.13594040274620056, val_recall = 0.3722709119319916, val_f1 = 0.19915596271848832\n"
     ]
    },
    {
     "ename": "KeyboardInterrupt",
     "evalue": "",
     "output_type": "error",
     "traceback": [
      "\u001b[0;31m---------------------------------------------------------------------------\u001b[0m",
      "\u001b[0;31mKeyboardInterrupt\u001b[0m                         Traceback (most recent call last)",
      "\u001b[0;32m<timed exec>\u001b[0m in \u001b[0;36m<module>\u001b[0;34m\u001b[0m\n",
      "\u001b[0;32m/ssd003/projects/aieng/public/pets_unified/lib/python3.8/site-packages/tensorflow_federated/python/core/impl/computation/computation_impl.py\u001b[0m in \u001b[0;36m__call__\u001b[0;34m(self, *args, **kwargs)\u001b[0m\n\u001b[1;32m    112\u001b[0m     arg = function_utils.pack_args(self._type_signature.parameter, args, kwargs,\n\u001b[1;32m    113\u001b[0m                                    context)\n\u001b[0;32m--> 114\u001b[0;31m     \u001b[0;32mreturn\u001b[0m \u001b[0mcontext\u001b[0m\u001b[0;34m.\u001b[0m\u001b[0minvoke\u001b[0m\u001b[0;34m(\u001b[0m\u001b[0mself\u001b[0m\u001b[0;34m,\u001b[0m \u001b[0marg\u001b[0m\u001b[0;34m)\u001b[0m\u001b[0;34m\u001b[0m\u001b[0;34m\u001b[0m\u001b[0m\n\u001b[0m\u001b[1;32m    115\u001b[0m \u001b[0;34m\u001b[0m\u001b[0m\n\u001b[1;32m    116\u001b[0m   \u001b[0;32mdef\u001b[0m \u001b[0m__hash__\u001b[0m\u001b[0;34m(\u001b[0m\u001b[0mself\u001b[0m\u001b[0;34m)\u001b[0m \u001b[0;34m->\u001b[0m \u001b[0mint\u001b[0m\u001b[0;34m:\u001b[0m\u001b[0;34m\u001b[0m\u001b[0;34m\u001b[0m\u001b[0m\n",
      "\u001b[0;32m/ssd003/projects/aieng/public/pets_unified/lib/python3.8/site-packages/tensorflow_federated/python/core/impl/execution_contexts/sync_execution_context.py\u001b[0m in \u001b[0;36minvoke\u001b[0;34m(self, comp, arg)\u001b[0m\n\u001b[1;32m     58\u001b[0m \u001b[0;34m\u001b[0m\u001b[0m\n\u001b[1;32m     59\u001b[0m   \u001b[0;32mdef\u001b[0m \u001b[0minvoke\u001b[0m\u001b[0;34m(\u001b[0m\u001b[0mself\u001b[0m\u001b[0;34m,\u001b[0m \u001b[0mcomp\u001b[0m\u001b[0;34m,\u001b[0m \u001b[0marg\u001b[0m\u001b[0;34m)\u001b[0m\u001b[0;34m:\u001b[0m\u001b[0;34m\u001b[0m\u001b[0;34m\u001b[0m\u001b[0m\n\u001b[0;32m---> 60\u001b[0;31m     return self._event_loop.run_until_complete(\n\u001b[0m\u001b[1;32m     61\u001b[0m         self._async_context.invoke(comp, arg))\n",
      "\u001b[0;32m/ssd003/projects/aieng/public/pets_unified/lib/python3.8/site-packages/nest_asyncio.py\u001b[0m in \u001b[0;36mrun_until_complete\u001b[0;34m(self, future)\u001b[0m\n\u001b[1;32m     62\u001b[0m                 \u001b[0mf\u001b[0m\u001b[0;34m.\u001b[0m\u001b[0m_log_destroy_pending\u001b[0m \u001b[0;34m=\u001b[0m \u001b[0;32mFalse\u001b[0m\u001b[0;34m\u001b[0m\u001b[0;34m\u001b[0m\u001b[0m\n\u001b[1;32m     63\u001b[0m             \u001b[0;32mwhile\u001b[0m \u001b[0;32mnot\u001b[0m \u001b[0mf\u001b[0m\u001b[0;34m.\u001b[0m\u001b[0mdone\u001b[0m\u001b[0;34m(\u001b[0m\u001b[0;34m)\u001b[0m\u001b[0;34m:\u001b[0m\u001b[0;34m\u001b[0m\u001b[0;34m\u001b[0m\u001b[0m\n\u001b[0;32m---> 64\u001b[0;31m                 \u001b[0mself\u001b[0m\u001b[0;34m.\u001b[0m\u001b[0m_run_once\u001b[0m\u001b[0;34m(\u001b[0m\u001b[0;34m)\u001b[0m\u001b[0;34m\u001b[0m\u001b[0;34m\u001b[0m\u001b[0m\n\u001b[0m\u001b[1;32m     65\u001b[0m                 \u001b[0;32mif\u001b[0m \u001b[0mself\u001b[0m\u001b[0;34m.\u001b[0m\u001b[0m_stopping\u001b[0m\u001b[0;34m:\u001b[0m\u001b[0;34m\u001b[0m\u001b[0;34m\u001b[0m\u001b[0m\n\u001b[1;32m     66\u001b[0m                     \u001b[0;32mbreak\u001b[0m\u001b[0;34m\u001b[0m\u001b[0;34m\u001b[0m\u001b[0m\n",
      "\u001b[0;32m/ssd003/projects/aieng/public/pets_unified/lib/python3.8/site-packages/nest_asyncio.py\u001b[0m in \u001b[0;36m_run_once\u001b[0;34m(self)\u001b[0m\n\u001b[1;32m     85\u001b[0m             \u001b[0;32melse\u001b[0m \u001b[0mmin\u001b[0m\u001b[0;34m(\u001b[0m\u001b[0mmax\u001b[0m\u001b[0;34m(\u001b[0m\u001b[0mscheduled\u001b[0m\u001b[0;34m[\u001b[0m\u001b[0;36m0\u001b[0m\u001b[0;34m]\u001b[0m\u001b[0;34m.\u001b[0m\u001b[0m_when\u001b[0m \u001b[0;34m-\u001b[0m \u001b[0mnow\u001b[0m\u001b[0;34m,\u001b[0m \u001b[0;36m0\u001b[0m\u001b[0;34m)\u001b[0m\u001b[0;34m,\u001b[0m \u001b[0;36m86400\u001b[0m\u001b[0;34m)\u001b[0m \u001b[0;32mif\u001b[0m \u001b[0mscheduled\u001b[0m\u001b[0;34m\u001b[0m\u001b[0;34m\u001b[0m\u001b[0m\n\u001b[1;32m     86\u001b[0m             else None)\n\u001b[0;32m---> 87\u001b[0;31m         \u001b[0mevent_list\u001b[0m \u001b[0;34m=\u001b[0m \u001b[0mself\u001b[0m\u001b[0;34m.\u001b[0m\u001b[0m_selector\u001b[0m\u001b[0;34m.\u001b[0m\u001b[0mselect\u001b[0m\u001b[0;34m(\u001b[0m\u001b[0mtimeout\u001b[0m\u001b[0;34m)\u001b[0m\u001b[0;34m\u001b[0m\u001b[0;34m\u001b[0m\u001b[0m\n\u001b[0m\u001b[1;32m     88\u001b[0m         \u001b[0mself\u001b[0m\u001b[0;34m.\u001b[0m\u001b[0m_process_events\u001b[0m\u001b[0;34m(\u001b[0m\u001b[0mevent_list\u001b[0m\u001b[0;34m)\u001b[0m\u001b[0;34m\u001b[0m\u001b[0;34m\u001b[0m\u001b[0m\n\u001b[1;32m     89\u001b[0m \u001b[0;34m\u001b[0m\u001b[0m\n",
      "\u001b[0;32m/pkgs/python-3.8/lib/python3.8/selectors.py\u001b[0m in \u001b[0;36mselect\u001b[0;34m(self, timeout)\u001b[0m\n\u001b[1;32m    466\u001b[0m             \u001b[0mready\u001b[0m \u001b[0;34m=\u001b[0m \u001b[0;34m[\u001b[0m\u001b[0;34m]\u001b[0m\u001b[0;34m\u001b[0m\u001b[0;34m\u001b[0m\u001b[0m\n\u001b[1;32m    467\u001b[0m             \u001b[0;32mtry\u001b[0m\u001b[0;34m:\u001b[0m\u001b[0;34m\u001b[0m\u001b[0;34m\u001b[0m\u001b[0m\n\u001b[0;32m--> 468\u001b[0;31m                 \u001b[0mfd_event_list\u001b[0m \u001b[0;34m=\u001b[0m \u001b[0mself\u001b[0m\u001b[0;34m.\u001b[0m\u001b[0m_selector\u001b[0m\u001b[0;34m.\u001b[0m\u001b[0mpoll\u001b[0m\u001b[0;34m(\u001b[0m\u001b[0mtimeout\u001b[0m\u001b[0;34m,\u001b[0m \u001b[0mmax_ev\u001b[0m\u001b[0;34m)\u001b[0m\u001b[0;34m\u001b[0m\u001b[0;34m\u001b[0m\u001b[0m\n\u001b[0m\u001b[1;32m    469\u001b[0m             \u001b[0;32mexcept\u001b[0m \u001b[0mInterruptedError\u001b[0m\u001b[0;34m:\u001b[0m\u001b[0;34m\u001b[0m\u001b[0;34m\u001b[0m\u001b[0m\n\u001b[1;32m    470\u001b[0m                 \u001b[0;32mreturn\u001b[0m \u001b[0mready\u001b[0m\u001b[0;34m\u001b[0m\u001b[0;34m\u001b[0m\u001b[0m\n",
      "\u001b[0;31mKeyboardInterrupt\u001b[0m: "
     ]
    }
   ],
   "source": [
    "%%time\n",
    "NUM_ROUNDS = 10\n",
    "MAX_STD = 0.001\n",
    "loss = list()\n",
    "accuracy = list()\n",
    "val_loss = list()\n",
    "val_accuracy = list()\n",
    "precision = list()\n",
    "recall = list()\n",
    "f1 = list()\n",
    "val_precision = list()\n",
    "val_recall = list()\n",
    "val_f1 = list() \n",
    "train_AUC = list()\n",
    "val_AUC = list() \n",
    "\n",
    "with summary_writer.as_default():\n",
    "    for round_num in range(1, NUM_ROUNDS+1):\n",
    "        state, metrics = iterative_process.next(state, federated_train_data)\n",
    "        val_metrics = evaluation(state.model, federated_test_data)\n",
    "        \n",
    "        my_precision = metrics['train']['Precision']\n",
    "        precision.append(my_precision)\n",
    "        \n",
    "        my_recall = metrics['train']['Recall']\n",
    "        recall.append(my_recall)\n",
    "        \n",
    "        my_f1 = 2 * (my_precision * my_recall) / (my_precision + my_recall)\n",
    "        f1.append(my_f1)\n",
    "        \n",
    "        val_precision.append(val_metrics['eval']['Precision'])\n",
    "        val_recall.append(val_metrics['eval']['Recall'])\n",
    "        my_val_f1 = 2 * (val_metrics['eval']['Precision'] * val_metrics['eval']['Recall']) / (val_metrics['eval']['Precision'] + val_metrics['eval']['Recall'])\n",
    "        val_f1.append(my_val_f1)\n",
    "        \n",
    "        my_loss = metrics['train']['loss']\n",
    "        \n",
    "        train_AUC.append(metrics['train']['AUC'])\n",
    "        val_AUC.append(val_metrics['eval']['AUC'])\n",
    "        \n",
    "        loss.append(metrics['train']['loss'])\n",
    "        accuracy.append(metrics['train']['binary_accuracy'])\n",
    "        my_acc = val_metrics['eval']['binary_accuracy']\n",
    "        val_loss.append(val_metrics['eval']['loss'])\n",
    "        val_accuracy.append(val_metrics['eval']['binary_accuracy'])\n",
    "        print(f\"round: {round_num:2d}, loss: {my_loss}, test_accuracy: {val_accuracy}, training_recall : {my_recall}, training_precision = {my_precision}, training_f1 = {my_f1}, val_precision = {val_metrics['eval']['Precision']}, val_recall = {val_metrics['eval']['Recall']}, val_f1 = {my_val_f1}\")\n",
    "        for name, value in metrics['train'].items():\n",
    "            tf.summary.scalar(name, value, step=round_num)"
   ]
  },
  {
   "cell_type": "code",
   "execution_count": 160,
   "metadata": {},
   "outputs": [
    {
     "name": "stdout",
     "output_type": "stream",
     "text": [
      "[<PrefetchDataset element_spec=OrderedDict([('x', TensorSpec(shape=(None, 99), dtype=tf.float32, name=None)), ('y', TensorSpec(shape=(None, 1), dtype=tf.int32, name=None))])>]\n"
     ]
    }
   ],
   "source": [
    "federated_test_data = make_federated_data(test_data, test_client_ids)\n",
    "print(federated_test_data)"
   ]
  },
  {
   "cell_type": "code",
   "execution_count": 37,
   "metadata": {},
   "outputs": [],
   "source": [
    "%load_ext tensorboard"
   ]
  },
  {
   "cell_type": "code",
   "execution_count": 38,
   "metadata": {
    "tags": []
   },
   "outputs": [
    {
     "name": "stdout",
     "output_type": "stream",
     "text": [
      "events.out.tfevents.1661344296.gpu061.cluster.local.17922.0.v2\r\n"
     ]
    },
    {
     "data": {
      "text/plain": [
       "ERROR: Could not find `tensorboard`. Please ensure that your PATH\n",
       "contains an executable `tensorboard` program, or explicitly specify\n",
       "the path to a TensorBoard binary by setting the `TENSORBOARD_BINARY`\n",
       "environment variable."
      ]
     },
     "metadata": {},
     "output_type": "display_data"
    }
   ],
   "source": [
    "!ls {logdir}\n",
    "%tensorboard --host 0.0.0.0 --logdir {logdir} --port=6004"
   ]
  },
  {
   "cell_type": "code",
   "execution_count": 161,
   "metadata": {},
   "outputs": [
    {
     "data": {
      "text/plain": [
       "Text(0.5, 0, 'Round')"
      ]
     },
     "execution_count": 161,
     "metadata": {},
     "output_type": "execute_result"
    },
    {
     "data": {
      "image/png": "[encoded data removed]",
      "text/plain": [
       "<Figure size 576x576 with 2 Axes>"
      ]
     },
     "metadata": {
      "needs_background": "light"
     },
     "output_type": "display_data"
    }
   ],
   "source": [
    "fig1 = plt.figure(figsize=(8, 8))\n",
    "ax1 = fig1.add_subplot(2, 1, 1)\n",
    "ax1.plot(accuracy, label='Training Accuracy')\n",
    "ax1.plot(val_accuracy, label='Validation Accuracy')\n",
    "ax1.legend(loc='lower right')\n",
    "ax1.set_ylabel('Accuracy')\n",
    "ax1.set_ylim([0, 1])\n",
    "ax1.set_title('Training and Validation AUC')\n",
    "\n",
    "ax2 = fig1.add_subplot(2, 1, 2)\n",
    "ax2.plot(loss, label='Training Loss')\n",
    "ax2.plot(val_loss, label='Validation Loss')\n",
    "ax2.legend(loc='upper right')\n",
    "ax2.set_ylabel('Cross Entropy')\n",
    "ax2.set_ylim([0,max(ax2.get_ylim())])\n",
    "ax2.set_title('Training and Validation Loss')\n",
    "ax2.set_xlabel('Round')\n",
    "\n",
    "# plt.savefig('./figures/DELIRIUM_normalized_TFF_accuracy_loss_10_rounds.png')\n"
   ]
  },
  {
   "cell_type": "code",
   "execution_count": 162,
   "metadata": {},
   "outputs": [
    {
     "data": {
      "text/plain": [
       "Text(0.5, 0, 'Round')"
      ]
     },
     "execution_count": 162,
     "metadata": {},
     "output_type": "execute_result"
    },
    {
     "data": {
      "image/png": "[encoded data removed]",
      "text/plain": [
       "<Figure size 576x576 with 2 Axes>"
      ]
     },
     "metadata": {
      "needs_background": "light"
     },
     "output_type": "display_data"
    }
   ],
   "source": [
    "fig1 = plt.figure(figsize=(8, 8))\n",
    "ax1 = fig1.add_subplot(2, 1, 1)\n",
    "ax1.plot(precision, label='Training precision')\n",
    "ax1.plot(val_precision, label='Validation precision')\n",
    "ax1.legend(loc='lower right')\n",
    "ax1.set_ylabel('Accuracy')\n",
    "ax1.set_ylim([0, 1])\n",
    "ax1.set_title('Training and Validation precision')\n",
    "\n",
    "ax2 = fig1.add_subplot(2, 1, 2)\n",
    "ax2.plot(recall, label='Training recall')\n",
    "ax2.plot(val_recall, label='Validation recall')\n",
    "ax2.legend(loc='upper right')\n",
    "ax2.set_ylabel('Cross Entropy')\n",
    "ax2.set_ylim([0,max(ax2.get_ylim())])\n",
    "ax2.set_title('Training and Validation recall')\n",
    "ax2.set_xlabel('Round')\n"
   ]
  },
  {
   "cell_type": "code",
   "execution_count": 163,
   "metadata": {},
   "outputs": [],
   "source": [
    "train_metrics = evaluation(state.model, federated_train_data)"
   ]
  },
  {
   "cell_type": "code",
   "execution_count": 164,
   "metadata": {},
   "outputs": [
    {
     "data": {
      "text/plain": [
       "\"OrderedDict([('eval', OrderedDict([('binary_accuracy', 0.63111234), ('Precision', 0.09616739), ('Recall', 0.4241564), ('AUC', 0.5457027), ('loss', 0.6979991)])), ('stat', OrderedDict([('num_examples', 5772625)]))])\""
      ]
     },
     "execution_count": 164,
     "metadata": {},
     "output_type": "execute_result"
    }
   ],
   "source": [
    "str(train_metrics)"
   ]
  },
  {
   "cell_type": "code",
   "execution_count": 43,
   "metadata": {},
   "outputs": [],
   "source": [
    "test_metrics = evaluation(state.model, federated_test_data)"
   ]
  },
  {
   "cell_type": "code",
   "execution_count": 44,
   "metadata": {},
   "outputs": [
    {
     "data": {
      "text/plain": [
       "\"OrderedDict([('eval', OrderedDict([('binary_accuracy', 0.8106509), ('Precision', 0.067567565), ('Recall', 0.15625), ('AUC', 0.46569082), ('loss', 0.57125044)])), ('stat', OrderedDict([('num_examples', 12675)]))])\""
      ]
     },
     "execution_count": 44,
     "metadata": {},
     "output_type": "execute_result"
    }
   ],
   "source": [
    "str(test_metrics)"
   ]
  },
  {
   "cell_type": "code",
   "execution_count": null,
   "metadata": {},
   "outputs": [],
   "source": []
  },
  {
   "cell_type": "code",
   "execution_count": 169,
   "metadata": {},
   "outputs": [
    {
     "data": {
      "text/plain": [
       "[<PrefetchDataset element_spec=OrderedDict([('x', TensorSpec(shape=(None, 99), dtype=tf.float32, name=None)), ('y', TensorSpec(shape=(None, 1), dtype=tf.int32, name=None))])>,\n",
       " <PrefetchDataset element_spec=OrderedDict([('x', TensorSpec(shape=(None, 99), dtype=tf.float32, name=None)), ('y', TensorSpec(shape=(None, 1), dtype=tf.int32, name=None))])>,\n",
       " <PrefetchDataset element_spec=OrderedDict([('x', TensorSpec(shape=(None, 99), dtype=tf.float32, name=None)), ('y', TensorSpec(shape=(None, 1), dtype=tf.int32, name=None))])>]"
      ]
     },
     "execution_count": 169,
     "metadata": {},
     "output_type": "execute_result"
    }
   ],
   "source": [
    "federated_train_data"
   ]
  },
  {
   "cell_type": "code",
   "execution_count": null,
   "metadata": {},
   "outputs": [],
   "source": []
  }
 ],
 "metadata": {
  "kernelspec": {
   "display_name": "Python 3 (ipykernel)",
   "language": "python",
   "name": "python3"
  },
  "language_info": {
   "codemirror_mode": {
    "name": "ipython",
    "version": 3
   },
   "file_extension": ".py",
   "mimetype": "text/x-python",
   "name": "python",
   "nbconvert_exporter": "python",
   "pygments_lexer": "ipython3",
   "version": "3.8.0"
  }
 },
 "nbformat": 4,
 "nbformat_minor": 4
}
