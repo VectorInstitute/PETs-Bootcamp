{
 "cells": [
  {
   "cell_type": "code",
   "execution_count": 1,
   "id": "further-approval",
   "metadata": {},
   "outputs": [],
   "source": [
    "from IPython.core.interactiveshell import InteractiveShell\n",
    "InteractiveShell.ast_node_interactivity = \"all\"\n",
    "\n",
    "%load_ext autoreload\n",
    "%autoreload 2\n",
    "\n",
    "import pandas as pd\n",
    "import numpy as np\n",
    "import random\n",
    "import src, torch\n",
    "from src.data_loader import *\n",
    "from src.model import *\n",
    "from uuid import UUID, uuid4\n",
    "from torch import nn, optim\n",
    "import torch\n",
    "from collections import defaultdict\n",
    "from scipy import special\n",
    "import syft as sy\n",
    "\n",
    "hook = sy.TorchHook(torch)"
   ]
  },
  {
   "cell_type": "code",
   "execution_count": 2,
   "id": "tight-brand",
   "metadata": {},
   "outputs": [],
   "source": [
    "partition = 3"
   ]
  },
  {
   "cell_type": "code",
   "execution_count": 3,
   "id": "ethical-sussex",
   "metadata": {},
   "outputs": [
    {
     "data": {
      "text/plain": [
       "(14779, 714)"
      ]
     },
     "execution_count": 3,
     "metadata": {},
     "output_type": "execute_result"
    },
    {
     "data": {
      "text/plain": [
       "(3222, 714)"
      ]
     },
     "execution_count": 3,
     "metadata": {},
     "output_type": "execute_result"
    },
    {
     "data": {
      "text/plain": [
       "(3236, 714)"
      ]
     },
     "execution_count": 3,
     "metadata": {},
     "output_type": "execute_result"
    }
   ],
   "source": [
    "data_dir = \"/h/ytian/mimic3-benchmarks\"\n",
    "train_data = np.load(f\"{data_dir}/train_data.npy\")\n",
    "train_labels = np.load(f\"{data_dir}/train_lbl.npy\")\n",
    "valid_data = np.load(f\"{data_dir}/val_data.npy\")\n",
    "valid_labels = np.load(f\"{data_dir}/val_lbl.npy\")\n",
    "test_data = np.load(f\"{data_dir}/test_data.npy\")\n",
    "test_labels = np.load(f\"{data_dir}/test_lbl.npy\")\n",
    "train_data.shape\n",
    "valid_data.shape\n",
    "test_data.shape"
   ]
  },
  {
   "cell_type": "code",
   "execution_count": 4,
   "id": "scientific-assist",
   "metadata": {},
   "outputs": [],
   "source": [
    "def create_partitions(df, partition = 3, seed = 123):\n",
    "    partition_data = {}\n",
    "    random.seed(seed)\n",
    "    cols = list(range(df.shape[1]))\n",
    "    random.shuffle(cols)\n",
    "    for i in range(partition):\n",
    "        partition_data[i] = df[:,cols[i::partition]]\n",
    "    return partition_data    "
   ]
  },
  {
   "cell_type": "code",
   "execution_count": 5,
   "id": "guided-terrorist",
   "metadata": {},
   "outputs": [],
   "source": [
    "train_pd = create_partitions(train_data)\n",
    "valid_pd = create_partitions(valid_data)\n",
    "test_pd = create_partitions(test_data)"
   ]
  },
  {
   "cell_type": "code",
   "execution_count": 6,
   "id": "sticky-fountain",
   "metadata": {},
   "outputs": [
    {
     "data": {
      "text/plain": [
       "(14779,)"
      ]
     },
     "execution_count": 6,
     "metadata": {},
     "output_type": "execute_result"
    },
    {
     "data": {
      "text/plain": [
       "array([UUID('715ac4af-aeb7-45d7-a9c8-8741fd94bd0d'),\n",
       "       UUID('f317da7e-196e-4965-8600-0b44cc5a69f7'),\n",
       "       UUID('9c166c38-22b4-4d87-848f-9f7cde5ecea0'),\n",
       "       UUID('341002f6-68ae-437f-9710-5858d5699204'),\n",
       "       UUID('96bafe17-71ca-4a06-a91d-611403991d11'),\n",
       "       UUID('58e5dbe1-2deb-4920-8078-fc9856457923'),\n",
       "       UUID('c468f78e-cfb4-4f9a-8fd9-a92c2caae567'),\n",
       "       UUID('ae1531b8-bf31-4493-a78b-8fcb48eb94e6'),\n",
       "       UUID('763b4e38-a71d-428a-87c3-dc13f7c100d7'),\n",
       "       UUID('4180b9a7-85cb-49d2-81ab-b7b83ef24fb6')], dtype=object)"
      ]
     },
     "execution_count": 6,
     "metadata": {},
     "output_type": "execute_result"
    }
   ],
   "source": [
    "# Get Joint Ids\n",
    "uuids_train = np.array([uuid4() for _ in range(len(train_pd[0]))])\n",
    "uuids_valid = np.array([uuid4() for _ in range(len(valid_pd[0]))])\n",
    "uuids_test = np.array([uuid4() for _ in range(len(test_pd[0]))])\n",
    "uuids_train.shape\n",
    "uuids_train[:10]"
   ]
  },
  {
   "cell_type": "code",
   "execution_count": 7,
   "id": "heavy-bride",
   "metadata": {},
   "outputs": [],
   "source": [
    "# Organize Datasets \n",
    "train_ds = {}\n",
    "valid_ds = {}\n",
    "test_ds = {}\n",
    "\n",
    "for i in range(partition):\n",
    "    train_ds[i] = VerticalDataset(ids=uuids_train, data=train_pd[i], labels = (train_labels if i==(partition-1) else None))\n",
    "    valid_ds[i] = VerticalDataset(ids=uuids_valid, data=valid_pd[i], labels = (valid_labels if i==(partition-1) else None))\n",
    "    test_ds[i] = VerticalDataset(ids=uuids_test, data=test_pd[i], labels = (test_labels if i==(partition-1) else None))"
   ]
  },
  {
   "cell_type": "code",
   "execution_count": 8,
   "id": "hydraulic-greenhouse",
   "metadata": {},
   "outputs": [],
   "source": [
    "## Initialize Train Dataloader\n",
    "train_dataloader = VerticalDataLoader(train_ds, batch_size=2048)"
   ]
  },
  {
   "cell_type": "code",
   "execution_count": 9,
   "id": "present-monster",
   "metadata": {},
   "outputs": [
    {
     "data": {
      "text/plain": [
       "{'dataloader0': <src.data_loader.SinglePartitionDataLoader at 0x7f5d88d8e350>,\n",
       " 'dataloader1': <src.data_loader.SinglePartitionDataLoader at 0x7f5d88d8eb50>,\n",
       " 'dataloader2': <src.data_loader.SinglePartitionDataLoader at 0x7f5d88d8ed10>}"
      ]
     },
     "execution_count": 9,
     "metadata": {},
     "output_type": "execute_result"
    },
    {
     "data": {
      "text/plain": [
       "{'ids': array([UUID('715ac4af-aeb7-45d7-a9c8-8741fd94bd0d'),\n",
       "        UUID('f317da7e-196e-4965-8600-0b44cc5a69f7'),\n",
       "        UUID('9c166c38-22b4-4d87-848f-9f7cde5ecea0'), ...,\n",
       "        UUID('81aa217a-3f83-4b5b-a99b-158c293b5803'),\n",
       "        UUID('77adb649-3b27-4a69-9bb5-7b143102cb98'),\n",
       "        UUID('6c12e5f7-3b96-4115-b25e-237635fd7d22')], dtype=object),\n",
       " 'data': array([[ 1.1966748e-01, -6.5433758e-01,  1.3756540e-01, ...,\n",
       "          3.1534344e-01, -1.7623388e+00, -1.0983860e-01],\n",
       "        [-3.1551199e-09, -1.5752528e+00,  2.2593683e-08, ...,\n",
       "         -5.0609571e-01,  1.8760337e-08, -1.3207067e-09],\n",
       "        [ 1.1966748e-01,  3.2755680e+00, -1.0151920e+00, ...,\n",
       "         -3.8938859e-01,  1.8760337e-08, -1.3207067e-09],\n",
       "        ...,\n",
       "        [-3.1551199e-09, -2.0730518e-01,  2.2593683e-08, ...,\n",
       "          1.9853586e-02,  1.8760337e-08, -1.3207067e-09],\n",
       "        [ 1.1966748e-01, -1.7843591e-01,  1.6626473e-01, ...,\n",
       "          9.7156756e-02,  1.8760337e-08, -1.3207067e-09],\n",
       "        [ 1.1966748e-01,  1.3930306e+00,  1.4713185e-01, ...,\n",
       "          2.7887174e-01,  1.8760337e-08, -1.3207067e-09]], dtype=float32),\n",
       " 'labels': None}"
      ]
     },
     "execution_count": 9,
     "metadata": {},
     "output_type": "execute_result"
    }
   ],
   "source": [
    "train_dataloader.__dict__\n",
    "train_dataloader.dataloader0.dataset.__dict__"
   ]
  },
  {
   "cell_type": "code",
   "execution_count": 10,
   "id": "leading-freedom",
   "metadata": {},
   "outputs": [
    {
     "name": "stdout",
     "output_type": "stream",
     "text": [
      "[0, 1, 2, 3, 4, 5, 6, 7, 8, 9]\n",
      "[0, 1, 2, 3, 4, 5, 6, 7, 8, 9]\n",
      "dataloaderdataloader0 does not have labels.\n",
      "dataloaderdataloader1 does not have labels.\n"
     ]
    }
   ],
   "source": [
    "# Compute private set intersection\n",
    "def compute_psi(dataloader):\n",
    "    client_items = dataloader.dataloader0.dataset.get_ids()\n",
    "    client = Client(client_items) #not sure right location\n",
    "    final_inter = []\n",
    "\n",
    "    for ld in dataloader.__dict__:\n",
    "        if ld != 'dataloader0':\n",
    "            server_items = eval(f'dataloader.{ld}.dataset.get_ids()')\n",
    "            server = Server(server_items)\n",
    "            setup, response = server.process_request(client.request, len(client_items))\n",
    "            intersection = client.compute_intersection(setup, response)\n",
    "            print (intersection[:10])\n",
    "            if len(final_inter)==0:\n",
    "                final_inter.extend(intersection)\n",
    "            else:\n",
    "                final_inter = [x for x in final_inter if x in intersection]\n",
    "                \n",
    "    return final_inter\n",
    "\n",
    "intersection = compute_psi(train_dataloader)\n",
    "# Order data\n",
    "train_dataloader.drop_non_intersecting(intersection)\n",
    "train_dataloader.sort_by_ids()"
   ]
  },
  {
   "cell_type": "code",
   "execution_count": 11,
   "id": "colonial-coral",
   "metadata": {},
   "outputs": [
    {
     "name": "stdout",
     "output_type": "stream",
     "text": [
      "[0, 1, 2, 3, 4, 5, 6, 7, 8, 9]\n",
      "[0, 1, 2, 3, 4, 5, 6, 7, 8, 9]\n",
      "dataloaderdataloader0 does not have labels.\n",
      "dataloaderdataloader1 does not have labels.\n",
      "[0, 1, 2, 3, 4, 5, 6, 7, 8, 9]\n",
      "[0, 1, 2, 3, 4, 5, 6, 7, 8, 9]\n",
      "dataloaderdataloader0 does not have labels.\n",
      "dataloaderdataloader1 does not have labels.\n"
     ]
    }
   ],
   "source": [
    "valid_dataloader = VerticalDataLoader(valid_ds, batch_size=2048)\n",
    "intersection = compute_psi(valid_dataloader)\n",
    "# Order data\n",
    "valid_dataloader.drop_non_intersecting(intersection)\n",
    "valid_dataloader.sort_by_ids()\n",
    "\n",
    "test_dataloader = VerticalDataLoader(test_ds, batch_size=2048)\n",
    "intersection = compute_psi(test_dataloader)\n",
    "# Order data\n",
    "test_dataloader.drop_non_intersecting(intersection)\n",
    "test_dataloader.sort_by_ids()"
   ]
  },
  {
   "cell_type": "code",
   "execution_count": 13,
   "id": "inappropriate-dancing",
   "metadata": {},
   "outputs": [
    {
     "data": {
      "text/plain": [
       "{'dataset': <src.data_loader.VerticalDataset at 0x7f5d814dcf50>,\n",
       " 'num_workers': 0,\n",
       " 'pin_memory': False,\n",
       " 'timeout': 0,\n",
       " 'worker_init_fn': None,\n",
       " '_DataLoader__multiprocessing_context': None,\n",
       " '_dataset_kind': 0,\n",
       " 'batch_size': 2048,\n",
       " 'drop_last': False,\n",
       " 'sampler': <torch.utils.data.sampler.SequentialSampler at 0x7f5d88d8e110>,\n",
       " 'batch_sampler': <torch.utils.data.sampler.BatchSampler at 0x7f5d88d8e810>,\n",
       " 'collate_fn': <function src.utils.data_utils.id_collate_fn(batch)>,\n",
       " '_DataLoader__initialized': True,\n",
       " '_IterableDataset_len_called': None}"
      ]
     },
     "execution_count": 13,
     "metadata": {},
     "output_type": "execute_result"
    }
   ],
   "source": [
    "train_dataloader.dataloader0.__dict__"
   ]
  },
  {
   "cell_type": "code",
   "execution_count": 17,
   "id": "mighty-stand",
   "metadata": {},
   "outputs": [
    {
     "data": {
      "text/plain": [
       "{'naive': [Sequential(\n",
       "    (linear0): Linear(in_features=238, out_features=29, bias=True)\n",
       "    (sigmoid0): Sigmoid()\n",
       "  ),\n",
       "  Sequential(\n",
       "    (linear1): Linear(in_features=267, out_features=29, bias=True)\n",
       "    (sigmoid1): Sigmoid()\n",
       "  ),\n",
       "  Sequential(\n",
       "    (linear2): Linear(in_features=267, out_features=1, bias=True)\n",
       "    (sigmoid2): Sigmoid()\n",
       "  )],\n",
       " 'medium': [Sequential(\n",
       "    (linear0_0): Linear(in_features=238, out_features=29, bias=True)\n",
       "    (ReLu0): ReLU()\n",
       "    (linear0_1): Linear(in_features=29, out_features=59, bias=True)\n",
       "    (sigmoid0): Sigmoid()\n",
       "  ),\n",
       "  Sequential(\n",
       "    (linear1_0): Linear(in_features=297, out_features=29, bias=True)\n",
       "    (ReLu1): ReLU()\n",
       "    (linear1_1): Linear(in_features=29, out_features=59, bias=True)\n",
       "    (sigmoid1): Sigmoid()\n",
       "  ),\n",
       "  Sequential(\n",
       "    (linear2_0): Linear(in_features=297, out_features=29, bias=True)\n",
       "    (ReLu2): ReLU()\n",
       "    (linear2_1): Linear(in_features=29, out_features=1, bias=True)\n",
       "    (sigmoid2): Sigmoid()\n",
       "  )],\n",
       " 'complex': [Sequential(\n",
       "    (linear0_0): Linear(in_features=238, out_features=29, bias=True)\n",
       "    (ReLu0_0): ReLU()\n",
       "    (linear0_1): Linear(in_features=29, out_features=59, bias=True)\n",
       "    (ReLu0_1): ReLU()\n",
       "    (linear0_2): Linear(in_features=59, out_features=119, bias=True)\n",
       "    (sigmoid0): Sigmoid()\n",
       "  ),\n",
       "  Sequential(\n",
       "    (linear1_0): Linear(in_features=357, out_features=29, bias=True)\n",
       "    (ReLu1_0): ReLU()\n",
       "    (linear1_1): Linear(in_features=29, out_features=59, bias=True)\n",
       "    (ReLu1_1): ReLU()\n",
       "    (linear1_2): Linear(in_features=59, out_features=119, bias=True)\n",
       "    (sigmoid1): Sigmoid()\n",
       "  ),\n",
       "  Sequential(\n",
       "    (linear2_0): Linear(in_features=357, out_features=29, bias=True)\n",
       "    (ReLu2_0): ReLU()\n",
       "    (linear2_1): Linear(in_features=29, out_features=59, bias=True)\n",
       "    (ReLu2_1): ReLU()\n",
       "    (linear2_2): Linear(in_features=59, out_features=1, bias=True)\n",
       "    (sigmoid2): Sigmoid()\n",
       "  )]}"
      ]
     },
     "execution_count": 17,
     "metadata": {},
     "output_type": "execute_result"
    }
   ],
   "source": [
    "input_size = [eval(f'train_dataloader.dataloader{i}.dataset.data.shape[1]') for i in range(partition)]\n",
    "\n",
    "complexity = model_complexity(input_size, partition)\n",
    "complexity"
   ]
  },
  {
   "cell_type": "code",
   "execution_count": 18,
   "id": "identical-tribe",
   "metadata": {},
   "outputs": [
    {
     "data": {
      "text/plain": [
       "<torch._C.Generator at 0x7f5de73f20f0>"
      ]
     },
     "execution_count": 18,
     "metadata": {},
     "output_type": "execute_result"
    },
    {
     "name": "stdout",
     "output_type": "stream",
     "text": [
      "\n",
      "When model complexity is NAIVE:\n",
      "\n"
     ]
    },
    {
     "data": {
      "text/plain": [
       "Sequential(\n",
       "  (linear0): Linear(in_features=238, out_features=29, bias=True)\n",
       "  (sigmoid0): Sigmoid()\n",
       ")"
      ]
     },
     "execution_count": 18,
     "metadata": {},
     "output_type": "execute_result"
    },
    {
     "data": {
      "text/plain": [
       "Sequential(\n",
       "  (linear1): Linear(in_features=267, out_features=29, bias=True)\n",
       "  (sigmoid1): Sigmoid()\n",
       ")"
      ]
     },
     "execution_count": 18,
     "metadata": {},
     "output_type": "execute_result"
    },
    {
     "data": {
      "text/plain": [
       "Sequential(\n",
       "  (linear2): Linear(in_features=267, out_features=1, bias=True)\n",
       "  (sigmoid2): Sigmoid()\n",
       ")"
      ]
     },
     "execution_count": 18,
     "metadata": {},
     "output_type": "execute_result"
    },
    {
     "name": "stdout",
     "output_type": "stream",
     "text": [
      "Epoch: 0 \t Training loss 4.7051\t         Validation loss 0.9201 \t Validtaion AUC: 0.7178\n",
      "Epoch: 1 \t Training loss 3.3635\t         Validation loss 0.7771 \t Validtaion AUC: 0.756\n",
      "Epoch: 2 \t Training loss 2.9749\t         Validation loss 0.7245 \t Validtaion AUC: 0.7743\n",
      "Epoch: 3 \t Training loss 2.8124\t         Validation loss 0.6992 \t Validtaion AUC: 0.7846\n",
      "Epoch: 4 \t Training loss 2.7263\t         Validation loss 0.6848 \t Validtaion AUC: 0.7912\n",
      "Epoch: 5 \t Training loss 2.6733\t         Validation loss 0.6757 \t Validtaion AUC: 0.7958\n",
      "Epoch: 6 \t Training loss 2.6372\t         Validation loss 0.6694 \t Validtaion AUC: 0.7992\n",
      "Epoch: 7 \t Training loss 2.6109\t         Validation loss 0.6649 \t Validtaion AUC: 0.8019\n",
      "Epoch: 8 \t Training loss 2.5908\t         Validation loss 0.6615 \t Validtaion AUC: 0.804\n",
      "Epoch: 9 \t Training loss 2.5749\t         Validation loss 0.6589 \t Validtaion AUC: 0.8056\n",
      "Epoch: 10 \t Training loss 2.5619\t         Validation loss 0.6569 \t Validtaion AUC: 0.8072\n",
      "Epoch: 11 \t Training loss 2.5511\t         Validation loss 0.6552 \t Validtaion AUC: 0.8081\n",
      "Epoch: 12 \t Training loss 2.542\t         Validation loss 0.6539 \t Validtaion AUC: 0.809\n",
      "Epoch: 13 \t Training loss 2.5342\t         Validation loss 0.6529 \t Validtaion AUC: 0.8096\n",
      "Epoch: 14 \t Training loss 2.5274\t         Validation loss 0.6521 \t Validtaion AUC: 0.8102\n",
      "Epoch: 15 \t Training loss 2.5215\t         Validation loss 0.6515 \t Validtaion AUC: 0.8107\n",
      "Epoch: 16 \t Training loss 2.5163\t         Validation loss 0.651 \t Validtaion AUC: 0.8111\n",
      "Epoch: 17 \t Training loss 2.5116\t         Validation loss 0.6506 \t Validtaion AUC: 0.8113\n",
      "Epoch: 18 \t Training loss 2.5074\t         Validation loss 0.6504 \t Validtaion AUC: 0.8117\n",
      "Epoch: 19 \t Training loss 2.5037\t         Validation loss 0.6502 \t Validtaion AUC: 0.8119\n",
      "\n",
      "When model complexity is MEDIUM:\n",
      "\n"
     ]
    },
    {
     "data": {
      "text/plain": [
       "Sequential(\n",
       "  (linear0_0): Linear(in_features=238, out_features=29, bias=True)\n",
       "  (ReLu0): ReLU()\n",
       "  (linear0_1): Linear(in_features=29, out_features=59, bias=True)\n",
       "  (sigmoid0): Sigmoid()\n",
       ")"
      ]
     },
     "execution_count": 18,
     "metadata": {},
     "output_type": "execute_result"
    },
    {
     "data": {
      "text/plain": [
       "Sequential(\n",
       "  (linear1_0): Linear(in_features=297, out_features=29, bias=True)\n",
       "  (ReLu1): ReLU()\n",
       "  (linear1_1): Linear(in_features=29, out_features=59, bias=True)\n",
       "  (sigmoid1): Sigmoid()\n",
       ")"
      ]
     },
     "execution_count": 18,
     "metadata": {},
     "output_type": "execute_result"
    },
    {
     "data": {
      "text/plain": [
       "Sequential(\n",
       "  (linear2_0): Linear(in_features=297, out_features=29, bias=True)\n",
       "  (ReLu2): ReLU()\n",
       "  (linear2_1): Linear(in_features=29, out_features=1, bias=True)\n",
       "  (sigmoid2): Sigmoid()\n",
       ")"
      ]
     },
     "execution_count": 18,
     "metadata": {},
     "output_type": "execute_result"
    },
    {
     "name": "stdout",
     "output_type": "stream",
     "text": [
      "Epoch: 0 \t Training loss 4.8637\t         Validation loss 1.0634 \t Validtaion AUC: 0.5661\n",
      "Epoch: 1 \t Training loss 3.8635\t         Validation loss 0.8774 \t Validtaion AUC: 0.6491\n",
      "Epoch: 2 \t Training loss 3.2978\t         Validation loss 0.7863 \t Validtaion AUC: 0.694\n",
      "Epoch: 3 \t Training loss 3.0315\t         Validation loss 0.7456 \t Validtaion AUC: 0.7217\n",
      "Epoch: 4 \t Training loss 2.905\t         Validation loss 0.7245 \t Validtaion AUC: 0.7407\n",
      "Epoch: 5 \t Training loss 2.8333\t         Validation loss 0.7112 \t Validtaion AUC: 0.7545\n",
      "Epoch: 6 \t Training loss 2.784\t         Validation loss 0.7014 \t Validtaion AUC: 0.7649\n",
      "Epoch: 7 \t Training loss 2.7458\t         Validation loss 0.6936 \t Validtaion AUC: 0.7729\n",
      "Epoch: 8 \t Training loss 2.7142\t         Validation loss 0.6871 \t Validtaion AUC: 0.7789\n",
      "Epoch: 9 \t Training loss 2.6874\t         Validation loss 0.6817 \t Validtaion AUC: 0.7837\n",
      "Epoch: 10 \t Training loss 2.6642\t         Validation loss 0.6769 \t Validtaion AUC: 0.7875\n",
      "Epoch: 11 \t Training loss 2.6439\t         Validation loss 0.6728 \t Validtaion AUC: 0.7905\n",
      "Epoch: 12 \t Training loss 2.6259\t         Validation loss 0.6691 \t Validtaion AUC: 0.7931\n",
      "Epoch: 13 \t Training loss 2.6097\t         Validation loss 0.6659 \t Validtaion AUC: 0.7952\n",
      "Epoch: 14 \t Training loss 2.5953\t         Validation loss 0.6631 \t Validtaion AUC: 0.797\n",
      "Epoch: 15 \t Training loss 2.5821\t         Validation loss 0.6605 \t Validtaion AUC: 0.7986\n",
      "Epoch: 16 \t Training loss 2.5701\t         Validation loss 0.6582 \t Validtaion AUC: 0.8002\n",
      "Epoch: 17 \t Training loss 2.5591\t         Validation loss 0.6561 \t Validtaion AUC: 0.8014\n",
      "Epoch: 18 \t Training loss 2.5489\t         Validation loss 0.6543 \t Validtaion AUC: 0.8025\n",
      "Epoch: 19 \t Training loss 2.5394\t         Validation loss 0.6527 \t Validtaion AUC: 0.8036\n",
      "\n",
      "When model complexity is COMPLEX:\n",
      "\n"
     ]
    },
    {
     "data": {
      "text/plain": [
       "Sequential(\n",
       "  (linear0_0): Linear(in_features=238, out_features=29, bias=True)\n",
       "  (ReLu0_0): ReLU()\n",
       "  (linear0_1): Linear(in_features=29, out_features=59, bias=True)\n",
       "  (ReLu0_1): ReLU()\n",
       "  (linear0_2): Linear(in_features=59, out_features=119, bias=True)\n",
       "  (sigmoid0): Sigmoid()\n",
       ")"
      ]
     },
     "execution_count": 18,
     "metadata": {},
     "output_type": "execute_result"
    },
    {
     "data": {
      "text/plain": [
       "Sequential(\n",
       "  (linear1_0): Linear(in_features=357, out_features=29, bias=True)\n",
       "  (ReLu1_0): ReLU()\n",
       "  (linear1_1): Linear(in_features=29, out_features=59, bias=True)\n",
       "  (ReLu1_1): ReLU()\n",
       "  (linear1_2): Linear(in_features=59, out_features=119, bias=True)\n",
       "  (sigmoid1): Sigmoid()\n",
       ")"
      ]
     },
     "execution_count": 18,
     "metadata": {},
     "output_type": "execute_result"
    },
    {
     "data": {
      "text/plain": [
       "Sequential(\n",
       "  (linear2_0): Linear(in_features=357, out_features=29, bias=True)\n",
       "  (ReLu2_0): ReLU()\n",
       "  (linear2_1): Linear(in_features=29, out_features=59, bias=True)\n",
       "  (ReLu2_1): ReLU()\n",
       "  (linear2_2): Linear(in_features=59, out_features=1, bias=True)\n",
       "  (sigmoid2): Sigmoid()\n",
       ")"
      ]
     },
     "execution_count": 18,
     "metadata": {},
     "output_type": "execute_result"
    },
    {
     "name": "stdout",
     "output_type": "stream",
     "text": [
      "Epoch: 0 \t Training loss 4.8489\t         Validation loss 1.0948 \t Validtaion AUC: 0.5727\n",
      "Epoch: 1 \t Training loss 4.0755\t         Validation loss 0.9307 \t Validtaion AUC: 0.6239\n",
      "Epoch: 2 \t Training loss 3.504\t         Validation loss 0.8241 \t Validtaion AUC: 0.6644\n",
      "Epoch: 3 \t Training loss 3.1747\t         Validation loss 0.7739 \t Validtaion AUC: 0.6942\n",
      "Epoch: 4 \t Training loss 3.0255\t         Validation loss 0.7515 \t Validtaion AUC: 0.7152\n",
      "Epoch: 5 \t Training loss 2.9519\t         Validation loss 0.7386 \t Validtaion AUC: 0.7311\n",
      "Epoch: 6 \t Training loss 2.9037\t         Validation loss 0.7291 \t Validtaion AUC: 0.7432\n",
      "Epoch: 7 \t Training loss 2.8656\t         Validation loss 0.721 \t Validtaion AUC: 0.7535\n",
      "Epoch: 8 \t Training loss 2.833\t         Validation loss 0.714 \t Validtaion AUC: 0.7621\n",
      "Epoch: 9 \t Training loss 2.804\t         Validation loss 0.7078 \t Validtaion AUC: 0.7691\n",
      "Epoch: 10 \t Training loss 2.778\t         Validation loss 0.7022 \t Validtaion AUC: 0.7747\n",
      "Epoch: 11 \t Training loss 2.7544\t         Validation loss 0.6972 \t Validtaion AUC: 0.7793\n",
      "Epoch: 12 \t Training loss 2.7327\t         Validation loss 0.6926 \t Validtaion AUC: 0.7832\n",
      "Epoch: 13 \t Training loss 2.7127\t         Validation loss 0.6885 \t Validtaion AUC: 0.7866\n",
      "Epoch: 14 \t Training loss 2.6943\t         Validation loss 0.6846 \t Validtaion AUC: 0.7894\n",
      "Epoch: 15 \t Training loss 2.6771\t         Validation loss 0.6811 \t Validtaion AUC: 0.7917\n",
      "Epoch: 16 \t Training loss 2.6613\t         Validation loss 0.6779 \t Validtaion AUC: 0.7937\n",
      "Epoch: 17 \t Training loss 2.6465\t         Validation loss 0.675 \t Validtaion AUC: 0.7955\n",
      "Epoch: 18 \t Training loss 2.6328\t         Validation loss 0.6723 \t Validtaion AUC: 0.7971\n",
      "Epoch: 19 \t Training loss 2.6199\t         Validation loss 0.6698 \t Validtaion AUC: 0.7985\n"
     ]
    }
   ],
   "source": [
    "torch.manual_seed(0)\n",
    "# Training globals\n",
    "epochs = 20\n",
    "device = torch.device(\"cuda\" if torch.cuda.is_available() else \"cpu\")\n",
    "\n",
    "MIA_input = defaultdict(dict)\n",
    "\n",
    "for c in ['naive', 'medium', 'complex']:\n",
    "    \n",
    "    models = complexity[c]\n",
    "    print (f'\\nWhen model complexity is {c.upper()}:\\n')\n",
    "\n",
    "    # Create optimisers for each segment and link to them\n",
    "    optimizers = [\n",
    "    optim.SGD(model.parameters(), lr=0.05)\n",
    "    for model in models\n",
    "    ]\n",
    "    \n",
    "    # create some workers\n",
    "    # Send Model Segments to model locations\n",
    "    model_locations  = []\n",
    "    for i in range(partition):\n",
    "        exec(f'model{i}_worker = sy.VirtualWorker(hook, id=\"model{i}\")')\n",
    "        exec(f'model_locations.append(model{i}_worker)')\n",
    "        \n",
    "    for model, location in zip(models, model_locations):\n",
    "        model.send(location) \n",
    "        \n",
    "    splitNN =  SplitNN(models, optimizers)\n",
    "    \n",
    "    # Train Loop\n",
    "    for i in range(epochs):\n",
    "        \n",
    "        # Train Step\n",
    "        train_loss = train_step(train_dataloader, splitNN)\n",
    "\n",
    "        # Validation Step\n",
    "        auc, accuracy, val_loss, all_preds, all_labels = val_step(valid_dataloader, splitNN)\n",
    "\n",
    "        # Log metrics\n",
    "        print(f\"Epoch: {i} \\t Training loss {round(train_loss.item(), 4)}\\t \\\n",
    "        Validation loss {round(val_loss.item(), 4)} \\t Validtaion AUC: {round(auc, 4)}\")\n",
    "        \n",
    "        if i == epochs-1:\n",
    "            MIA_input[c]['valid_pred'] = all_preds\n",
    "            MIA_input[c]['valid_label'] = all_labels\n",
    "            _, _, _, all_preds, all_labels = val_step(train_dataloader, splitNN)\n",
    "            MIA_input[c]['train_pred'] = all_preds\n",
    "            MIA_input[c]['train_label'] = all_labels     "
   ]
  },
  {
   "cell_type": "code",
   "execution_count": 20,
   "id": "wanted-harrison",
   "metadata": {},
   "outputs": [],
   "source": [
    "# tensorflow-privacy\n",
    "import tensorflow_privacy.privacy.privacy_tests.membership_inference_attack\n",
    "from tensorflow_privacy.privacy.membership_inference_attack import (\n",
    "    membership_inference_attack as mia,\n",
    ")\n",
    "from tensorflow_privacy.privacy.privacy_tests.membership_inference_attack.data_structures import (\n",
    "    AttackInputData,\n",
    "    AttackType,\n",
    "    SlicingSpec,\n",
    ")\n",
    "\n",
    "import tensorflow_privacy.privacy.privacy_tests.membership_inference_attack.plotting as plotting\n",
    "import tensorflow as tf\n",
    "constant = tf.keras.backend.constant"
   ]
  },
  {
   "cell_type": "code",
   "execution_count": 21,
   "id": "laughing-history",
   "metadata": {},
   "outputs": [],
   "source": [
    "def MIA_calculation(train_label, train_pred, test_label, test_pred):\n",
    "     \n",
    "    train_logit = np.array(special.logit(train_pred)).reshape(len(train_pred), -1)\n",
    "    test_logit = np.array(special.logit(test_pred)).reshape(len(test_pred), -1)\n",
    "    train_label = np.array(train_label).reshape(len(train_label), -1)\n",
    "    test_label = np.array(test_label).reshape(len(test_label), -1)\n",
    "    train_loss = tf.keras.backend.binary_crossentropy(constant(train_label), constant(train_logit), from_logits=True).numpy()\n",
    "    test_loss = tf.keras.backend.binary_crossentropy(constant(test_label), constant(test_logit), from_logits=True).numpy()\n",
    "\n",
    "    attack_input = AttackInputData(\n",
    "    logits_train=train_logit,\n",
    "    logits_test=test_logit,\n",
    "    loss_train=train_loss.flatten(),\n",
    "    loss_test=test_loss.flatten(),\n",
    "    labels_train=train_label.flatten(),\n",
    "    labels_test=test_label.flatten()\n",
    "    )\n",
    "\n",
    "    # how should the data be sliced\n",
    "    slicing_spec = SlicingSpec(\n",
    "        entire_dataset=True,\n",
    "        by_class=True,\n",
    "        by_percentiles=False,\n",
    "        by_classification_correctness=True,\n",
    "    )\n",
    "\n",
    "    attack_types = [AttackType.THRESHOLD_ATTACK, AttackType.LOGISTIC_REGRESSION]\n",
    "    # run the attack\n",
    "    attacks_result = mia.run_attacks(\n",
    "        attack_input=attack_input, slicing_spec=slicing_spec, attack_types=attack_types\n",
    "    )\n",
    "    \n",
    "    print (attacks_result.summary(by_slices=True))\n",
    "    print(plotting.plot_roc_curve(attacks_result.get_result_with_max_auc().roc_curve))    "
   ]
  },
  {
   "cell_type": "code",
   "execution_count": 22,
   "id": "municipal-summary",
   "metadata": {},
   "outputs": [
    {
     "name": "stdout",
     "output_type": "stream",
     "text": [
      "\n",
      "When model complexity is NAIVE:\n",
      "\n",
      "Best-performing attacks over all slices\n",
      "  LOGISTIC_REGRESSION (with 436 training and 436 test examples) achieved an AUC of 0.54 on slice CLASS=1\n",
      "  LOGISTIC_REGRESSION (with 436 training and 436 test examples) achieved an advantage of 0.09 on slice CLASS=1\n",
      "\n",
      "Best-performing attacks over slice: \"Entire dataset\"\n",
      "  LOGISTIC_REGRESSION (with 3222 training and 3222 test examples) achieved an AUC of 0.51\n",
      "  LOGISTIC_REGRESSION (with 3222 training and 3222 test examples) achieved an advantage of 0.03\n",
      "\n",
      "Best-performing attacks over slice: \"CLASS=0\"\n",
      "  THRESHOLD_ATTACK (with 12787 training and 2786 test examples) achieved an AUC of 0.50\n",
      "  LOGISTIC_REGRESSION (with 2786 training and 2786 test examples) achieved an advantage of 0.06\n",
      "\n",
      "Best-performing attacks over slice: \"CLASS=1\"\n",
      "  LOGISTIC_REGRESSION (with 436 training and 436 test examples) achieved an AUC of 0.54\n",
      "  LOGISTIC_REGRESSION (with 436 training and 436 test examples) achieved an advantage of 0.09\n",
      "\n",
      "Best-performing attacks over slice: \"CORRECTLY_CLASSIFIED=True\"\n",
      "  THRESHOLD_ATTACK (with 12787 training and 2786 test examples) achieved an AUC of 0.50\n",
      "  LOGISTIC_REGRESSION (with 2786 training and 2786 test examples) achieved an advantage of 0.07\n",
      "\n",
      "Best-performing attacks over slice: \"CORRECTLY_CLASSIFIED=False\"\n",
      "  THRESHOLD_ATTACK (with 1992 training and 436 test examples) achieved an AUC of 0.51\n",
      "  LOGISTIC_REGRESSION (with 436 training and 436 test examples) achieved an advantage of 0.07\n",
      "Figure(432x288)\n",
      "\n",
      "When model complexity is MEDIUM:\n",
      "\n",
      "Best-performing attacks over all slices\n",
      "  LOGISTIC_REGRESSION (with 436 training and 436 test examples) achieved an AUC of 0.56 on slice CLASS=1\n",
      "  LOGISTIC_REGRESSION (with 436 training and 436 test examples) achieved an advantage of 0.11 on slice CLASS=1\n",
      "\n",
      "Best-performing attacks over slice: \"Entire dataset\"\n",
      "  THRESHOLD_ATTACK (with 14779 training and 3222 test examples) achieved an AUC of 0.50\n",
      "  LOGISTIC_REGRESSION (with 3222 training and 3222 test examples) achieved an advantage of 0.03\n",
      "\n",
      "Best-performing attacks over slice: \"CLASS=0\"\n",
      "  LOGISTIC_REGRESSION (with 2786 training and 2786 test examples) achieved an AUC of 0.52\n",
      "  LOGISTIC_REGRESSION (with 2786 training and 2786 test examples) achieved an advantage of 0.07\n",
      "\n",
      "Best-performing attacks over slice: \"CLASS=1\"\n",
      "  LOGISTIC_REGRESSION (with 436 training and 436 test examples) achieved an AUC of 0.56\n",
      "  LOGISTIC_REGRESSION (with 436 training and 436 test examples) achieved an advantage of 0.11\n",
      "\n",
      "Best-performing attacks over slice: \"CORRECTLY_CLASSIFIED=True\"\n",
      "  LOGISTIC_REGRESSION (with 2786 training and 2786 test examples) achieved an AUC of 0.53\n",
      "  LOGISTIC_REGRESSION (with 2786 training and 2786 test examples) achieved an advantage of 0.07\n",
      "\n",
      "Best-performing attacks over slice: \"CORRECTLY_CLASSIFIED=False\"\n",
      "  THRESHOLD_ATTACK (with 1992 training and 436 test examples) achieved an AUC of 0.51\n",
      "  LOGISTIC_REGRESSION (with 436 training and 436 test examples) achieved an advantage of 0.10\n",
      "Figure(432x288)\n",
      "\n",
      "When model complexity is COMPLEX:\n",
      "\n",
      "Best-performing attacks over all slices\n",
      "  THRESHOLD_ATTACK (with 1992 training and 436 test examples) achieved an AUC of 0.51 on slice CLASS=1\n",
      "  LOGISTIC_REGRESSION (with 436 training and 436 test examples) achieved an advantage of 0.14 on slice CLASS=1\n",
      "\n",
      "Best-performing attacks over slice: \"Entire dataset\"\n",
      "  THRESHOLD_ATTACK (with 14779 training and 3222 test examples) achieved an AUC of 0.50\n",
      "  LOGISTIC_REGRESSION (with 3222 training and 3222 test examples) achieved an advantage of 0.04\n",
      "\n",
      "Best-performing attacks over slice: \"CLASS=0\"\n",
      "  LOGISTIC_REGRESSION (with 2786 training and 2786 test examples) achieved an AUC of 0.50\n",
      "  LOGISTIC_REGRESSION (with 2786 training and 2786 test examples) achieved an advantage of 0.04\n",
      "\n",
      "Best-performing attacks over slice: \"CLASS=1\"\n",
      "  THRESHOLD_ATTACK (with 1992 training and 436 test examples) achieved an AUC of 0.51\n",
      "  LOGISTIC_REGRESSION (with 436 training and 436 test examples) achieved an advantage of 0.14\n",
      "\n",
      "Best-performing attacks over slice: \"CORRECTLY_CLASSIFIED=True\"\n",
      "  THRESHOLD_ATTACK (with 12787 training and 2786 test examples) achieved an AUC of 0.50\n",
      "  LOGISTIC_REGRESSION (with 2786 training and 2786 test examples) achieved an advantage of 0.05\n",
      "\n",
      "Best-performing attacks over slice: \"CORRECTLY_CLASSIFIED=False\"\n",
      "  THRESHOLD_ATTACK (with 1992 training and 436 test examples) achieved an AUC of 0.51\n",
      "  LOGISTIC_REGRESSION (with 436 training and 436 test examples) achieved an advantage of 0.06\n",
      "Figure(432x288)\n"
     ]
    },
    {
     "data": {
      "image/png": "[encoded data removed]",
      "text/plain": [
       "<Figure size 432x288 with 1 Axes>"
      ]
     },
     "metadata": {
      "needs_background": "light"
     },
     "output_type": "display_data"
    },
    {
     "data": {
      "image/png": "[encoded data removed]",
      "text/plain": [
       "<Figure size 432x288 with 1 Axes>"
      ]
     },
     "metadata": {
      "needs_background": "light"
     },
     "output_type": "display_data"
    },
    {
     "data": {
      "image/png": "[encoded data removed]",
      "text/plain": [
       "<Figure size 432x288 with 1 Axes>"
      ]
     },
     "metadata": {
      "needs_background": "light"
     },
     "output_type": "display_data"
    }
   ],
   "source": [
    "for key in MIA_input:\n",
    "    print (f'\\nWhen model complexity is {key.upper()}:\\n')\n",
    "    train_label = MIA_input[key]['train_label']\n",
    "    train_pred  = MIA_input[key]['train_pred']\n",
    "    test_label  = MIA_input[key]['valid_label']\n",
    "    test_pred   = MIA_input[key]['valid_pred']\n",
    "    MIA_calculation(train_label, train_pred, test_label, test_pred)"
   ]
  },
  {
   "cell_type": "code",
   "execution_count": 26,
   "id": "mathematical-funds",
   "metadata": {},
   "outputs": [
    {
     "name": "stdout",
     "output_type": "stream",
     "text": [
      "\n",
      "When model complexity is NAIVE:\n",
      "\n",
      "Best-performing attacks over all slices\n",
      "  THRESHOLD_ATTACK (with 1992 training and 436 test examples) achieved an AUC of 0.51 on slice CLASS=1\n",
      "  LOGISTIC_REGRESSION (with 436 training and 436 test examples) achieved an advantage of 0.10 on slice CLASS=1\n",
      "\n",
      "Best-performing attacks over slice: \"Entire dataset\"\n",
      "  THRESHOLD_ATTACK (with 14779 training and 3222 test examples) achieved an AUC of 0.50\n",
      "  LOGISTIC_REGRESSION (with 3222 training and 3222 test examples) achieved an advantage of 0.04\n",
      "\n",
      "Best-performing attacks over slice: \"CLASS=0\"\n",
      "  THRESHOLD_ATTACK (with 12787 training and 2786 test examples) achieved an AUC of 0.50\n",
      "  LOGISTIC_REGRESSION (with 2786 training and 2786 test examples) achieved an advantage of 0.03\n",
      "\n",
      "Best-performing attacks over slice: \"CLASS=1\"\n",
      "  THRESHOLD_ATTACK (with 1992 training and 436 test examples) achieved an AUC of 0.51\n",
      "  LOGISTIC_REGRESSION (with 436 training and 436 test examples) achieved an advantage of 0.10\n",
      "\n",
      "Best-performing attacks over slice: \"CORRECTLY_CLASSIFIED=True\"\n",
      "  THRESHOLD_ATTACK (with 12787 training and 2786 test examples) achieved an AUC of 0.50\n",
      "  LOGISTIC_REGRESSION (with 2786 training and 2786 test examples) achieved an advantage of 0.04\n",
      "\n",
      "Best-performing attacks over slice: \"CORRECTLY_CLASSIFIED=False\"\n",
      "  THRESHOLD_ATTACK (with 1992 training and 436 test examples) achieved an AUC of 0.51\n",
      "  LOGISTIC_REGRESSION (with 436 training and 436 test examples) achieved an advantage of 0.09\n",
      "Figure(432x288)\n"
     ]
    },
    {
     "data": {
      "image/png": "[encoded data removed]",
      "text/plain": [
       "<Figure size 432x288 with 1 Axes>"
      ]
     },
     "metadata": {
      "needs_background": "light"
     },
     "output_type": "display_data"
    }
   ],
   "source": [
    "key = 'naive'\n",
    "print (f'\\nWhen model complexity is {key.upper()}:\\n')\n",
    "train_label = MIA_input[key]['train_label']\n",
    "train_pred  = MIA_input[key]['train_pred']\n",
    "test_label  = MIA_input[key]['valid_label']\n",
    "test_pred   = MIA_input[key]['valid_pred']\n",
    "MIA_calculation(train_label, train_pred, test_label, test_pred)"
   ]
  },
  {
   "cell_type": "code",
   "execution_count": 27,
   "id": "built-spine",
   "metadata": {},
   "outputs": [
    {
     "name": "stdout",
     "output_type": "stream",
     "text": [
      "\n",
      "When model complexity is MEDIUM:\n",
      "\n",
      "Best-performing attacks over all slices\n",
      "  THRESHOLD_ATTACK (with 1992 training and 436 test examples) achieved an AUC of 0.51 on slice CLASS=1\n",
      "  LOGISTIC_REGRESSION (with 436 training and 436 test examples) achieved an advantage of 0.16 on slice CORRECTLY_CLASSIFIED=False\n",
      "\n",
      "Best-performing attacks over slice: \"Entire dataset\"\n",
      "  THRESHOLD_ATTACK (with 14779 training and 3222 test examples) achieved an AUC of 0.50\n",
      "  LOGISTIC_REGRESSION (with 3222 training and 3222 test examples) achieved an advantage of 0.03\n",
      "\n",
      "Best-performing attacks over slice: \"CLASS=0\"\n",
      "  THRESHOLD_ATTACK (with 12787 training and 2786 test examples) achieved an AUC of 0.51\n",
      "  LOGISTIC_REGRESSION (with 2786 training and 2786 test examples) achieved an advantage of 0.06\n",
      "\n",
      "Best-performing attacks over slice: \"CLASS=1\"\n",
      "  THRESHOLD_ATTACK (with 1992 training and 436 test examples) achieved an AUC of 0.51\n",
      "  LOGISTIC_REGRESSION (with 436 training and 436 test examples) achieved an advantage of 0.06\n",
      "\n",
      "Best-performing attacks over slice: \"CORRECTLY_CLASSIFIED=True\"\n",
      "  THRESHOLD_ATTACK (with 12787 training and 2786 test examples) achieved an AUC of 0.51\n",
      "  LOGISTIC_REGRESSION (with 2786 training and 2786 test examples) achieved an advantage of 0.04\n",
      "\n",
      "Best-performing attacks over slice: \"CORRECTLY_CLASSIFIED=False\"\n",
      "  THRESHOLD_ATTACK (with 1992 training and 436 test examples) achieved an AUC of 0.51\n",
      "  LOGISTIC_REGRESSION (with 436 training and 436 test examples) achieved an advantage of 0.16\n",
      "Figure(432x288)\n"
     ]
    },
    {
     "data": {
      "image/png": "[encoded data removed]",
      "text/plain": [
       "<Figure size 432x288 with 1 Axes>"
      ]
     },
     "metadata": {
      "needs_background": "light"
     },
     "output_type": "display_data"
    }
   ],
   "source": [
    "key = 'medium'\n",
    "print (f'\\nWhen model complexity is {key.upper()}:\\n')\n",
    "train_label = MIA_input[key]['train_label']\n",
    "train_pred  = MIA_input[key]['train_pred']\n",
    "test_label  = MIA_input[key]['valid_label']\n",
    "test_pred   = MIA_input[key]['valid_pred']\n",
    "MIA_calculation(train_label, train_pred, test_label, test_pred)"
   ]
  },
  {
   "cell_type": "code",
   "execution_count": 28,
   "id": "improved-surname",
   "metadata": {},
   "outputs": [
    {
     "name": "stdout",
     "output_type": "stream",
     "text": [
      "\n",
      "When model complexity is COMPLEX:\n",
      "\n",
      "Best-performing attacks over all slices\n",
      "  LOGISTIC_REGRESSION (with 3222 training and 3222 test examples) achieved an AUC of 0.52 on slice Entire dataset\n",
      "  LOGISTIC_REGRESSION (with 436 training and 436 test examples) achieved an advantage of 0.20 on slice CORRECTLY_CLASSIFIED=False\n",
      "\n",
      "Best-performing attacks over slice: \"Entire dataset\"\n",
      "  LOGISTIC_REGRESSION (with 3222 training and 3222 test examples) achieved an AUC of 0.52\n",
      "  LOGISTIC_REGRESSION (with 3222 training and 3222 test examples) achieved an advantage of 0.04\n",
      "\n",
      "Best-performing attacks over slice: \"CLASS=0\"\n",
      "  THRESHOLD_ATTACK (with 12787 training and 2786 test examples) achieved an AUC of 0.50\n",
      "  LOGISTIC_REGRESSION (with 2786 training and 2786 test examples) achieved an advantage of 0.06\n",
      "\n",
      "Best-performing attacks over slice: \"CLASS=1\"\n",
      "  LOGISTIC_REGRESSION (with 436 training and 436 test examples) achieved an AUC of 0.51\n",
      "  LOGISTIC_REGRESSION (with 436 training and 436 test examples) achieved an advantage of 0.10\n",
      "\n",
      "Best-performing attacks over slice: \"CORRECTLY_CLASSIFIED=True\"\n",
      "  THRESHOLD_ATTACK (with 12787 training and 2786 test examples) achieved an AUC of 0.50\n",
      "  LOGISTIC_REGRESSION (with 2786 training and 2786 test examples) achieved an advantage of 0.05\n",
      "\n",
      "Best-performing attacks over slice: \"CORRECTLY_CLASSIFIED=False\"\n",
      "  THRESHOLD_ATTACK (with 1992 training and 436 test examples) achieved an AUC of 0.51\n",
      "  LOGISTIC_REGRESSION (with 436 training and 436 test examples) achieved an advantage of 0.20\n",
      "Figure(432x288)\n"
     ]
    },
    {
     "data": {
      "image/png": "[encoded data removed]",
      "text/plain": [
       "<Figure size 432x288 with 1 Axes>"
      ]
     },
     "metadata": {
      "needs_background": "light"
     },
     "output_type": "display_data"
    }
   ],
   "source": [
    "key = 'complex'\n",
    "print (f'\\nWhen model complexity is {key.upper()}:\\n')\n",
    "train_label = MIA_input[key]['train_label']\n",
    "train_pred  = MIA_input[key]['train_pred']\n",
    "test_label  = MIA_input[key]['valid_label']\n",
    "test_pred   = MIA_input[key]['valid_pred']\n",
    "MIA_calculation(train_label, train_pred, test_label, test_pred)"
   ]
  }
 ],
 "metadata": {
  "kernelspec": {
   "display_name": "Python 3",
   "language": "python",
   "name": "python3"
  },
  "language_info": {
   "codemirror_mode": {
    "name": "ipython",
    "version": 3
   },
   "file_extension": ".py",
   "mimetype": "text/x-python",
   "name": "python",
   "nbconvert_exporter": "python",
   "pygments_lexer": "ipython3",
   "version": "3.7.10"
  }
 },
 "nbformat": 4,
 "nbformat_minor": 5
}
