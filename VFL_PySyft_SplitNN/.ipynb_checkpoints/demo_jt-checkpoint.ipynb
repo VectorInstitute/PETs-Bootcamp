{
 "cells": [
  {
   "cell_type": "code",
   "execution_count": 35,
   "id": "coral-telephone",
   "metadata": {},
   "outputs": [
    {
     "name": "stderr",
     "output_type": "stream",
     "text": [
      "WARNING:root:Torch was already hooked... skipping hooking process\n"
     ]
    },
    {
     "name": "stdout",
     "output_type": "stream",
     "text": [
      "The autoreload extension is already loaded. To reload it, use:\n",
      "  %reload_ext autoreload\n"
     ]
    }
   ],
   "source": [
    "from IPython.core.interactiveshell import InteractiveShell\n",
    "InteractiveShell.ast_node_interactivity = \"all\"\n",
    "\n",
    "%load_ext autoreload\n",
    "%autoreload 2\n",
    "\n",
    "import pandas as pd\n",
    "import numpy as np\n",
    "import random\n",
    "import src, torch\n",
    "from src.data_loader import *\n",
    "from src.model import *\n",
    "from uuid import UUID, uuid4\n",
    "from torch import nn, optim\n",
    "import syft as sy\n",
    "import torch\n",
    "from collections import defaultdict\n",
    "from scipy import special\n",
    "\n",
    "hook = sy.TorchHook(torch)"
   ]
  },
  {
   "cell_type": "code",
   "execution_count": 2,
   "id": "robust-pizza",
   "metadata": {},
   "outputs": [],
   "source": [
    "partition = 3"
   ]
  },
  {
   "cell_type": "code",
   "execution_count": 3,
   "id": "romantic-thong",
   "metadata": {},
   "outputs": [
    {
     "data": {
      "text/plain": [
       "(14779, 714)"
      ]
     },
     "execution_count": 3,
     "metadata": {},
     "output_type": "execute_result"
    },
    {
     "data": {
      "text/plain": [
       "(3222, 714)"
      ]
     },
     "execution_count": 3,
     "metadata": {},
     "output_type": "execute_result"
    },
    {
     "data": {
      "text/plain": [
       "(3236, 714)"
      ]
     },
     "execution_count": 3,
     "metadata": {},
     "output_type": "execute_result"
    }
   ],
   "source": [
    "data_dir = \"/h/ytian/mimic3-benchmarks\"\n",
    "train_data = np.load(f\"{data_dir}/train_data.npy\")\n",
    "train_labels = np.load(f\"{data_dir}/train_lbl.npy\")\n",
    "valid_data = np.load(f\"{data_dir}/val_data.npy\")\n",
    "valid_labels = np.load(f\"{data_dir}/val_lbl.npy\")\n",
    "test_data = np.load(f\"{data_dir}/test_data.npy\")\n",
    "test_labels = np.load(f\"{data_dir}/test_lbl.npy\")\n",
    "train_data.shape\n",
    "valid_data.shape\n",
    "test_data.shape"
   ]
  },
  {
   "cell_type": "code",
   "execution_count": 4,
   "id": "wired-faith",
   "metadata": {},
   "outputs": [],
   "source": [
    "def create_partitions(df, partition = 3, seed = 123):\n",
    "    partition_data = {}\n",
    "    random.seed(seed)\n",
    "    cols = list(range(df.shape[1]))\n",
    "    random.shuffle(cols)\n",
    "    for i in range(partition):\n",
    "        partition_data[i] = df[:,cols[i::partition]]\n",
    "    return partition_data    "
   ]
  },
  {
   "cell_type": "code",
   "execution_count": 5,
   "id": "eight-small",
   "metadata": {},
   "outputs": [],
   "source": [
    "train_pd = create_partitions(train_data)\n",
    "valid_pd = create_partitions(valid_data)\n",
    "test_pd = create_partitions(test_data)"
   ]
  },
  {
   "cell_type": "code",
   "execution_count": 6,
   "id": "front-institute",
   "metadata": {},
   "outputs": [
    {
     "data": {
      "text/plain": [
       "(14779,)"
      ]
     },
     "execution_count": 6,
     "metadata": {},
     "output_type": "execute_result"
    },
    {
     "data": {
      "text/plain": [
       "array([UUID('45409973-cfea-4016-bb80-3bd97897bc88'),\n",
       "       UUID('45b176b0-a5dd-4f59-9d9a-3c6cf938e382'),\n",
       "       UUID('8bad64f3-e8eb-4cba-9ff3-e80e0c3e3827'),\n",
       "       UUID('ac21ccc3-c3f8-4138-8527-485b38cbb07f'),\n",
       "       UUID('a6952b99-a8c8-4766-bed6-0f7d2a851bb4'),\n",
       "       UUID('c9be4946-f3a8-45ec-bd25-17e286f5369b'),\n",
       "       UUID('bb45b183-62e2-4418-8c45-1564a609284f'),\n",
       "       UUID('d0a9e8f4-ab9e-4c87-a477-e0d95f4f8d35'),\n",
       "       UUID('89e74b89-73c2-42eb-817a-88abe5321b49'),\n",
       "       UUID('d32d597f-0758-4f33-9985-e5d6da8c40c2')], dtype=object)"
      ]
     },
     "execution_count": 6,
     "metadata": {},
     "output_type": "execute_result"
    }
   ],
   "source": [
    "# Get Joint Ids\n",
    "uuids_train = np.array([uuid4() for _ in range(len(train_pd[0]))])\n",
    "uuids_valid = np.array([uuid4() for _ in range(len(valid_pd[0]))])\n",
    "uuids_test = np.array([uuid4() for _ in range(len(test_pd[0]))])\n",
    "uuids_train.shape\n",
    "uuids_train[:10]"
   ]
  },
  {
   "cell_type": "code",
   "execution_count": 7,
   "id": "existing-institute",
   "metadata": {},
   "outputs": [],
   "source": [
    "# Organize Datasets \n",
    "train_ds = {}\n",
    "valid_ds = {}\n",
    "test_ds = {}\n",
    "\n",
    "for i in range(partition):\n",
    "    train_ds[i] = VerticalDataset(ids=uuids_train, data=train_pd[i], labels = (train_labels if i==0 else None))\n",
    "    valid_ds[i] = VerticalDataset(ids=uuids_valid, data=valid_pd[i], labels = (valid_labels if i==0 else None))\n",
    "    test_ds[i] = VerticalDataset(ids=uuids_test, data=test_pd[i], labels = (test_labels if i==0 else None))"
   ]
  },
  {
   "cell_type": "code",
   "execution_count": 9,
   "id": "alpine-haven",
   "metadata": {},
   "outputs": [],
   "source": [
    "## Initialize Train Dataloader\n",
    "train_dataloader = VerticalDataLoader(train_ds, batch_size=2048)"
   ]
  },
  {
   "cell_type": "code",
   "execution_count": 133,
   "id": "stuck-cooler",
   "metadata": {
    "collapsed": true
   },
   "outputs": [
    {
     "data": {
      "text/plain": [
       "{'dataloader0': <src.data_loader.SinglePartitionDataLoader at 0x7f323598cd90>,\n",
       " 'dataloader1': <src.data_loader.SinglePartitionDataLoader at 0x7f323598cf10>,\n",
       " 'dataloader2': <src.data_loader.SinglePartitionDataLoader at 0x7f323598cc50>}"
      ]
     },
     "execution_count": 133,
     "metadata": {},
     "output_type": "execute_result"
    },
    {
     "data": {
      "text/plain": [
       "{'ids': array([UUID('43183dcf-7c86-4abf-a0e8-3a414c35cca5'),\n",
       "        UUID('481a0838-bc41-48d7-84e5-b692149c51be'),\n",
       "        UUID('61239086-0cd2-4778-84ec-a0ce5bd16b98'), ...,\n",
       "        UUID('691af234-c8cf-4483-8106-36ff47753456'),\n",
       "        UUID('69f99df6-c0f8-477a-bda4-331deeb6ffef'),\n",
       "        UUID('abb529fc-6a11-4fc0-909f-e3281a991ead')], dtype=object),\n",
       " 'data': array([[ 1.1966748e-01, -6.5433758e-01,  1.3756540e-01, ...,\n",
       "          3.1534344e-01, -1.7623388e+00, -1.0983860e-01],\n",
       "        [-3.1551199e-09, -1.5752528e+00,  2.2593683e-08, ...,\n",
       "         -5.0609571e-01,  1.8760337e-08, -1.3207067e-09],\n",
       "        [ 1.1966748e-01,  3.2755680e+00, -1.0151920e+00, ...,\n",
       "         -3.8938859e-01,  1.8760337e-08, -1.3207067e-09],\n",
       "        ...,\n",
       "        [-3.1551199e-09, -2.0730518e-01,  2.2593683e-08, ...,\n",
       "          1.9853586e-02,  1.8760337e-08, -1.3207067e-09],\n",
       "        [ 1.1966748e-01, -1.7843591e-01,  1.6626473e-01, ...,\n",
       "          9.7156756e-02,  1.8760337e-08, -1.3207067e-09],\n",
       "        [ 1.1966748e-01,  1.3930306e+00,  1.4713185e-01, ...,\n",
       "          2.7887174e-01,  1.8760337e-08, -1.3207067e-09]], dtype=float32),\n",
       " 'labels': array([1, 0, 0, ..., 0, 0, 0])}"
      ]
     },
     "execution_count": 133,
     "metadata": {},
     "output_type": "execute_result"
    }
   ],
   "source": [
    "train_dataloader.__dict__\n",
    "train_dataloader.dataloader0.dataset.__dict__"
   ]
  },
  {
   "cell_type": "code",
   "execution_count": 10,
   "id": "planned-working",
   "metadata": {},
   "outputs": [
    {
     "name": "stdout",
     "output_type": "stream",
     "text": [
      "[0, 1, 2, 3, 4, 5, 6, 7, 8, 9]\n",
      "[0, 1, 2, 3, 4, 5, 6, 7, 8, 9]\n",
      "dataloaderdataloader1 does not have labels.\n",
      "dataloaderdataloader2 does not have labels.\n"
     ]
    }
   ],
   "source": [
    "# Compute private set intersection\n",
    "def compute_psi(dataloader):\n",
    "    client_items = dataloader.dataloader0.dataset.get_ids()\n",
    "    client = Client(client_items) #not sure right location\n",
    "    final_inter = []\n",
    "\n",
    "    for ld in dataloader.__dict__:\n",
    "        if ld != 'dataloader0':\n",
    "            server_items = eval(f'dataloader.{ld}.dataset.get_ids()')\n",
    "            server = Server(server_items)\n",
    "            setup, response = server.process_request(client.request, len(client_items))\n",
    "            intersection = client.compute_intersection(setup, response)\n",
    "            print (intersection[:10])\n",
    "            if len(final_inter)==0:\n",
    "                final_inter.extend(intersection)\n",
    "            else:\n",
    "                final_inter = [x for x in final_inter if x in intersection]\n",
    "                \n",
    "    return final_inter\n",
    "\n",
    "intersection = compute_psi(train_dataloader)\n",
    "# Order data\n",
    "train_dataloader.drop_non_intersecting(intersection)\n",
    "train_dataloader.sort_by_ids()"
   ]
  },
  {
   "cell_type": "code",
   "execution_count": 11,
   "id": "outside-temple",
   "metadata": {},
   "outputs": [
    {
     "name": "stdout",
     "output_type": "stream",
     "text": [
      "[0, 1, 2, 3, 4, 5, 6, 7, 8, 9]\n",
      "[0, 1, 2, 3, 4, 5, 6, 7, 8, 9]\n",
      "dataloaderdataloader1 does not have labels.\n",
      "dataloaderdataloader2 does not have labels.\n",
      "[0, 1, 2, 3, 4, 5, 6, 7, 8, 9]\n",
      "[0, 1, 2, 3, 4, 5, 6, 7, 8, 9]\n",
      "dataloaderdataloader1 does not have labels.\n",
      "dataloaderdataloader2 does not have labels.\n"
     ]
    }
   ],
   "source": [
    "valid_dataloader = VerticalDataLoader(valid_ds, batch_size=2048)\n",
    "intersection = compute_psi(valid_dataloader)\n",
    "# Order data\n",
    "valid_dataloader.drop_non_intersecting(intersection)\n",
    "valid_dataloader.sort_by_ids()\n",
    "\n",
    "test_dataloader = VerticalDataLoader(test_ds, batch_size=2048)\n",
    "intersection = compute_psi(test_dataloader)\n",
    "# Order data\n",
    "test_dataloader.drop_non_intersecting(intersection)\n",
    "test_dataloader.sort_by_ids()"
   ]
  },
  {
   "cell_type": "code",
   "execution_count": 42,
   "id": "macro-university",
   "metadata": {
    "collapsed": true
   },
   "outputs": [
    {
     "data": {
      "text/plain": [
       "{'dataset': <src.data_loader.VerticalDataset at 0x7f32397ed1d0>,\n",
       " 'num_workers': 0,\n",
       " 'pin_memory': False,\n",
       " 'timeout': 0,\n",
       " 'worker_init_fn': None,\n",
       " '_DataLoader__multiprocessing_context': None,\n",
       " '_dataset_kind': 0,\n",
       " 'batch_size': 2048,\n",
       " 'drop_last': False,\n",
       " 'sampler': <torch.utils.data.sampler.SequentialSampler at 0x7f323985a750>,\n",
       " 'batch_sampler': <torch.utils.data.sampler.BatchSampler at 0x7f323985a5d0>,\n",
       " 'collate_fn': <function src.utils.data_utils.id_collate_fn(batch)>,\n",
       " '_DataLoader__initialized': True,\n",
       " '_IterableDataset_len_called': None}"
      ]
     },
     "execution_count": 42,
     "metadata": {},
     "output_type": "execute_result"
    }
   ],
   "source": [
    "train_dataloader.dataloader0.__dict__"
   ]
  },
  {
   "cell_type": "code",
   "execution_count": 137,
   "id": "italian-crime",
   "metadata": {
    "collapsed": true
   },
   "outputs": [
    {
     "name": "stdout",
     "output_type": "stream",
     "text": [
      "tensor([[ 1.1967e-01,  1.5579e+00,  1.2800e-01,  ...,  4.3439e-01,\n",
      "          7.3423e-03, -2.2995e-01],\n",
      "        [ 1.1967e-01, -2.1710e-01,  1.3278e-01,  ...,  6.6120e-02,\n",
      "          1.8760e-08, -1.3207e-09],\n",
      "        [ 1.1967e-01,  8.5954e-02,  1.6148e-01,  ...,  1.0371e+00,\n",
      "          7.3423e-03, -8.5816e-02],\n",
      "        ...,\n",
      "        [ 2.1528e+00, -1.1102e+00,  8.4950e-02,  ...,  6.0572e-01,\n",
      "          1.8760e-08, -1.3207e-09],\n",
      "        [ 1.1967e-01, -8.0471e-01,  4.1978e-01,  ...,  2.6344e-01,\n",
      "          1.8760e-08, -1.3207e-09],\n",
      "        [ 6.2437e+00, -4.2010e-01,  1.6148e-01,  ...,  1.3352e-01,\n",
      "          1.8760e-08, -1.3207e-09]])\n"
     ]
    }
   ],
   "source": [
    "for (data0, labels, id0), (data1, id1), (data2, id2) in train_dataloader:\n",
    "    print (data0)\n",
    "    break"
   ]
  },
  {
   "cell_type": "code",
   "execution_count": 129,
   "id": "bright-heaven",
   "metadata": {},
   "outputs": [
    {
     "data": {
      "text/plain": [
       "{'naive': [Sequential(\n",
       "    (linear0): Linear(in_features=238, out_features=29, bias=True)\n",
       "    (sigmoid0): Sigmoid()\n",
       "  ),\n",
       "  Sequential(\n",
       "    (linear1): Linear(in_features=267, out_features=29, bias=True)\n",
       "    (sigmoid1): Sigmoid()\n",
       "  ),\n",
       "  Sequential(\n",
       "    (linear2): Linear(in_features=267, out_features=1, bias=True)\n",
       "    (sigmoid2): Sigmoid()\n",
       "  )],\n",
       " 'medium': [Sequential(\n",
       "    (linear0_0): Linear(in_features=238, out_features=29, bias=True)\n",
       "    (ReLu0): ReLU()\n",
       "    (linear0_1): Linear(in_features=29, out_features=59, bias=True)\n",
       "    (sigmoid0): Sigmoid()\n",
       "  ),\n",
       "  Sequential(\n",
       "    (linear1_0): Linear(in_features=297, out_features=29, bias=True)\n",
       "    (ReLu1): ReLU()\n",
       "    (linear1_1): Linear(in_features=29, out_features=59, bias=True)\n",
       "    (sigmoid1): Sigmoid()\n",
       "  ),\n",
       "  Sequential(\n",
       "    (linear2_0): Linear(in_features=297, out_features=29, bias=True)\n",
       "    (ReLu2): ReLU()\n",
       "    (linear2_1): Linear(in_features=29, out_features=1, bias=True)\n",
       "    (sigmoid2): Sigmoid()\n",
       "  )],\n",
       " 'complex': [Sequential(\n",
       "    (linear0_0): Linear(in_features=238, out_features=29, bias=True)\n",
       "    (ReLu0_0): ReLU()\n",
       "    (linear0_1): Linear(in_features=29, out_features=59, bias=True)\n",
       "    (ReLu0_1): ReLU()\n",
       "    (linear0_2): Linear(in_features=59, out_features=119, bias=True)\n",
       "    (sigmoid0): Sigmoid()\n",
       "  ),\n",
       "  Sequential(\n",
       "    (linear1_0): Linear(in_features=357, out_features=29, bias=True)\n",
       "    (ReLu1_0): ReLU()\n",
       "    (linear1_1): Linear(in_features=29, out_features=59, bias=True)\n",
       "    (ReLu1_1): ReLU()\n",
       "    (linear1_2): Linear(in_features=59, out_features=119, bias=True)\n",
       "    (sigmoid1): Sigmoid()\n",
       "  ),\n",
       "  Sequential(\n",
       "    (linear2_0): Linear(in_features=357, out_features=29, bias=True)\n",
       "    (ReLu2_0): ReLU()\n",
       "    (linear2_1): Linear(in_features=29, out_features=59, bias=True)\n",
       "    (ReLu2_1): ReLU()\n",
       "    (linear2_2): Linear(in_features=59, out_features=1, bias=True)\n",
       "    (sigmoid2): Sigmoid()\n",
       "  )]}"
      ]
     },
     "execution_count": 129,
     "metadata": {},
     "output_type": "execute_result"
    }
   ],
   "source": [
    "input_size = [eval(f'train_dataloader.dataloader{i}.dataset.data.shape[1]') for i in range(partition)]\n",
    "\n",
    "complexity = model_complexity(input_size, partition)\n",
    "complexity"
   ]
  },
  {
   "cell_type": "code",
   "execution_count": 130,
   "id": "electric-width",
   "metadata": {},
   "outputs": [
    {
     "data": {
      "text/plain": [
       "<torch._C.Generator at 0x7f8530a3f230>"
      ]
     },
     "execution_count": 130,
     "metadata": {},
     "output_type": "execute_result"
    },
    {
     "name": "stdout",
     "output_type": "stream",
     "text": [
      "\n",
      "When model complexity is NAIVE:\n",
      "\n"
     ]
    },
    {
     "data": {
      "text/plain": [
       "Sequential(\n",
       "  (linear0): Linear(in_features=238, out_features=29, bias=True)\n",
       "  (sigmoid0): Sigmoid()\n",
       ")"
      ]
     },
     "execution_count": 130,
     "metadata": {},
     "output_type": "execute_result"
    },
    {
     "data": {
      "text/plain": [
       "Sequential(\n",
       "  (linear1): Linear(in_features=267, out_features=29, bias=True)\n",
       "  (sigmoid1): Sigmoid()\n",
       ")"
      ]
     },
     "execution_count": 130,
     "metadata": {},
     "output_type": "execute_result"
    },
    {
     "data": {
      "text/plain": [
       "Sequential(\n",
       "  (linear2): Linear(in_features=267, out_features=1, bias=True)\n",
       "  (sigmoid2): Sigmoid()\n",
       ")"
      ]
     },
     "execution_count": 130,
     "metadata": {},
     "output_type": "execute_result"
    },
    {
     "name": "stdout",
     "output_type": "stream",
     "text": [
      "Epoch: 0 \t Training loss 4.3868\t         Validation loss 0.8934 \t Validtaion AUC: 0.7297\n",
      "Epoch: 1 \t Training loss 3.2798\t         Validation loss 0.7661 \t Validtaion AUC: 0.7685\n",
      "Epoch: 2 \t Training loss 2.9419\t         Validation loss 0.7171 \t Validtaion AUC: 0.785\n",
      "Epoch: 3 \t Training loss 2.7973\t         Validation loss 0.693 \t Validtaion AUC: 0.7936\n",
      "Epoch: 4 \t Training loss 2.7201\t         Validation loss 0.6793 \t Validtaion AUC: 0.7993\n",
      "Epoch: 5 \t Training loss 2.6724\t         Validation loss 0.6705 \t Validtaion AUC: 0.8032\n",
      "Epoch: 6 \t Training loss 2.6397\t         Validation loss 0.6645 \t Validtaion AUC: 0.8059\n",
      "Epoch: 7 \t Training loss 2.6158\t         Validation loss 0.6601 \t Validtaion AUC: 0.8079\n",
      "Epoch: 8 \t Training loss 2.5974\t         Validation loss 0.6569 \t Validtaion AUC: 0.8093\n",
      "Epoch: 9 \t Training loss 2.5828\t         Validation loss 0.6544 \t Validtaion AUC: 0.8105\n",
      "Epoch: 10 \t Training loss 2.5708\t         Validation loss 0.6525 \t Validtaion AUC: 0.8113\n",
      "Epoch: 11 \t Training loss 2.5608\t         Validation loss 0.6509 \t Validtaion AUC: 0.8119\n",
      "Epoch: 12 \t Training loss 2.5523\t         Validation loss 0.6497 \t Validtaion AUC: 0.8124\n",
      "Epoch: 13 \t Training loss 2.5449\t         Validation loss 0.6486 \t Validtaion AUC: 0.8127\n",
      "Epoch: 14 \t Training loss 2.5385\t         Validation loss 0.6478 \t Validtaion AUC: 0.813\n",
      "Epoch: 15 \t Training loss 2.5329\t         Validation loss 0.6471 \t Validtaion AUC: 0.8133\n",
      "Epoch: 16 \t Training loss 2.5279\t         Validation loss 0.6465 \t Validtaion AUC: 0.8136\n",
      "Epoch: 17 \t Training loss 2.5234\t         Validation loss 0.646 \t Validtaion AUC: 0.8139\n",
      "Epoch: 18 \t Training loss 2.5193\t         Validation loss 0.6456 \t Validtaion AUC: 0.8141\n",
      "Epoch: 19 \t Training loss 2.5156\t         Validation loss 0.6452 \t Validtaion AUC: 0.8143\n",
      "\n",
      "When model complexity is MEDIUM:\n",
      "\n"
     ]
    },
    {
     "data": {
      "text/plain": [
       "Sequential(\n",
       "  (linear0_0): Linear(in_features=238, out_features=29, bias=True)\n",
       "  (ReLu0): ReLU()\n",
       "  (linear0_1): Linear(in_features=29, out_features=59, bias=True)\n",
       "  (sigmoid0): Sigmoid()\n",
       ")"
      ]
     },
     "execution_count": 130,
     "metadata": {},
     "output_type": "execute_result"
    },
    {
     "data": {
      "text/plain": [
       "Sequential(\n",
       "  (linear1_0): Linear(in_features=297, out_features=29, bias=True)\n",
       "  (ReLu1): ReLU()\n",
       "  (linear1_1): Linear(in_features=29, out_features=59, bias=True)\n",
       "  (sigmoid1): Sigmoid()\n",
       ")"
      ]
     },
     "execution_count": 130,
     "metadata": {},
     "output_type": "execute_result"
    },
    {
     "data": {
      "text/plain": [
       "Sequential(\n",
       "  (linear2_0): Linear(in_features=297, out_features=29, bias=True)\n",
       "  (ReLu2): ReLU()\n",
       "  (linear2_1): Linear(in_features=29, out_features=1, bias=True)\n",
       "  (sigmoid2): Sigmoid()\n",
       ")"
      ]
     },
     "execution_count": 130,
     "metadata": {},
     "output_type": "execute_result"
    },
    {
     "name": "stdout",
     "output_type": "stream",
     "text": [
      "Epoch: 0 \t Training loss 5.1713\t         Validation loss 1.1023 \t Validtaion AUC: 0.6287\n",
      "Epoch: 1 \t Training loss 3.997\t         Validation loss 0.8792 \t Validtaion AUC: 0.6911\n",
      "Epoch: 2 \t Training loss 3.3149\t         Validation loss 0.7691 \t Validtaion AUC: 0.7267\n",
      "Epoch: 3 \t Training loss 3.0032\t         Validation loss 0.7224 \t Validtaion AUC: 0.7501\n",
      "Epoch: 4 \t Training loss 2.8655\t         Validation loss 0.6997 \t Validtaion AUC: 0.7658\n",
      "Epoch: 5 \t Training loss 2.7917\t         Validation loss 0.6862 \t Validtaion AUC: 0.7763\n",
      "Epoch: 6 \t Training loss 2.7428\t         Validation loss 0.6766 \t Validtaion AUC: 0.7838\n",
      "Epoch: 7 \t Training loss 2.7061\t         Validation loss 0.6692 \t Validtaion AUC: 0.7894\n",
      "Epoch: 8 \t Training loss 2.6764\t         Validation loss 0.6633 \t Validtaion AUC: 0.7939\n",
      "Epoch: 9 \t Training loss 2.6516\t         Validation loss 0.6584 \t Validtaion AUC: 0.7972\n",
      "Epoch: 10 \t Training loss 2.6303\t         Validation loss 0.6543 \t Validtaion AUC: 0.7996\n",
      "Epoch: 11 \t Training loss 2.6119\t         Validation loss 0.6508 \t Validtaion AUC: 0.8019\n",
      "Epoch: 12 \t Training loss 2.5957\t         Validation loss 0.6479 \t Validtaion AUC: 0.8036\n",
      "Epoch: 13 \t Training loss 2.5815\t         Validation loss 0.6454 \t Validtaion AUC: 0.8052\n",
      "Epoch: 14 \t Training loss 2.5688\t         Validation loss 0.6432 \t Validtaion AUC: 0.8066\n",
      "Epoch: 15 \t Training loss 2.5573\t         Validation loss 0.6413 \t Validtaion AUC: 0.8077\n",
      "Epoch: 16 \t Training loss 2.5469\t         Validation loss 0.6396 \t Validtaion AUC: 0.8088\n",
      "Epoch: 17 \t Training loss 2.5374\t         Validation loss 0.6381 \t Validtaion AUC: 0.8099\n",
      "Epoch: 18 \t Training loss 2.5287\t         Validation loss 0.6368 \t Validtaion AUC: 0.8108\n",
      "Epoch: 19 \t Training loss 2.5206\t         Validation loss 0.6357 \t Validtaion AUC: 0.8116\n",
      "\n",
      "When model complexity is COMPLEX:\n",
      "\n"
     ]
    },
    {
     "data": {
      "text/plain": [
       "Sequential(\n",
       "  (linear0_0): Linear(in_features=238, out_features=29, bias=True)\n",
       "  (ReLu0_0): ReLU()\n",
       "  (linear0_1): Linear(in_features=29, out_features=59, bias=True)\n",
       "  (ReLu0_1): ReLU()\n",
       "  (linear0_2): Linear(in_features=59, out_features=119, bias=True)\n",
       "  (sigmoid0): Sigmoid()\n",
       ")"
      ]
     },
     "execution_count": 130,
     "metadata": {},
     "output_type": "execute_result"
    },
    {
     "data": {
      "text/plain": [
       "Sequential(\n",
       "  (linear1_0): Linear(in_features=357, out_features=29, bias=True)\n",
       "  (ReLu1_0): ReLU()\n",
       "  (linear1_1): Linear(in_features=29, out_features=59, bias=True)\n",
       "  (ReLu1_1): ReLU()\n",
       "  (linear1_2): Linear(in_features=59, out_features=119, bias=True)\n",
       "  (sigmoid1): Sigmoid()\n",
       ")"
      ]
     },
     "execution_count": 130,
     "metadata": {},
     "output_type": "execute_result"
    },
    {
     "data": {
      "text/plain": [
       "Sequential(\n",
       "  (linear2_0): Linear(in_features=357, out_features=29, bias=True)\n",
       "  (ReLu2_0): ReLU()\n",
       "  (linear2_1): Linear(in_features=29, out_features=59, bias=True)\n",
       "  (ReLu2_1): ReLU()\n",
       "  (linear2_2): Linear(in_features=59, out_features=1, bias=True)\n",
       "  (sigmoid2): Sigmoid()\n",
       ")"
      ]
     },
     "execution_count": 130,
     "metadata": {},
     "output_type": "execute_result"
    },
    {
     "name": "stdout",
     "output_type": "stream",
     "text": [
      "Epoch: 0 \t Training loss 5.6303\t         Validation loss 1.2762 \t Validtaion AUC: 0.5054\n",
      "Epoch: 1 \t Training loss 4.7666\t         Validation loss 1.0906 \t Validtaion AUC: 0.5524\n",
      "Epoch: 2 \t Training loss 4.0736\t         Validation loss 0.9284 \t Validtaion AUC: 0.6207\n",
      "Epoch: 3 \t Training loss 3.4888\t         Validation loss 0.8098 \t Validtaion AUC: 0.6931\n",
      "Epoch: 4 \t Training loss 3.1299\t         Validation loss 0.7526 \t Validtaion AUC: 0.7326\n",
      "Epoch: 5 \t Training loss 2.9694\t         Validation loss 0.7273 \t Validtaion AUC: 0.7501\n",
      "Epoch: 6 \t Training loss 2.8911\t         Validation loss 0.7128 \t Validtaion AUC: 0.7607\n",
      "Epoch: 7 \t Training loss 2.8404\t         Validation loss 0.7026 \t Validtaion AUC: 0.768\n",
      "Epoch: 8 \t Training loss 2.8019\t         Validation loss 0.6945 \t Validtaion AUC: 0.7735\n",
      "Epoch: 9 \t Training loss 2.7701\t         Validation loss 0.6878 \t Validtaion AUC: 0.778\n",
      "Epoch: 10 \t Training loss 2.743\t         Validation loss 0.682 \t Validtaion AUC: 0.7819\n",
      "Epoch: 11 \t Training loss 2.719\t         Validation loss 0.6771 \t Validtaion AUC: 0.7852\n",
      "Epoch: 12 \t Training loss 2.6976\t         Validation loss 0.6727 \t Validtaion AUC: 0.788\n",
      "Epoch: 13 \t Training loss 2.6782\t         Validation loss 0.6687 \t Validtaion AUC: 0.7905\n",
      "Epoch: 14 \t Training loss 2.6606\t         Validation loss 0.6653 \t Validtaion AUC: 0.7928\n",
      "Epoch: 15 \t Training loss 2.6446\t         Validation loss 0.6621 \t Validtaion AUC: 0.7946\n",
      "Epoch: 16 \t Training loss 2.6299\t         Validation loss 0.6593 \t Validtaion AUC: 0.7963\n",
      "Epoch: 17 \t Training loss 2.6164\t         Validation loss 0.6568 \t Validtaion AUC: 0.7979\n",
      "Epoch: 18 \t Training loss 2.604\t         Validation loss 0.6546 \t Validtaion AUC: 0.7994\n",
      "Epoch: 19 \t Training loss 2.5926\t         Validation loss 0.6525 \t Validtaion AUC: 0.8007\n"
     ]
    }
   ],
   "source": [
    "torch.manual_seed(0)\n",
    "# Training globals\n",
    "epochs = 20\n",
    "device = torch.device(\"cuda\" if torch.cuda.is_available() else \"cpu\")\n",
    "\n",
    "MIA_input = defaultdict(dict)\n",
    "\n",
    "for c in ['naive', 'medium', 'complex']:\n",
    "    \n",
    "    models = complexity[c]\n",
    "    print (f'\\nWhen model complexity is {c.upper()}:\\n')\n",
    "\n",
    "    # Create optimisers for each segment and link to them\n",
    "    optimizers = [\n",
    "    optim.SGD(model.parameters(), lr=0.05)\n",
    "    for model in models\n",
    "    ]\n",
    "    \n",
    "    # create some workers\n",
    "    # Send Model Segments to model locations\n",
    "    model_locations  = []\n",
    "    for i in range(partition):\n",
    "        exec(f'model{i}_worker = sy.VirtualWorker(hook, id=\"model{i}\")')\n",
    "        exec(f'model_locations.append(model{i}_worker)')\n",
    "        \n",
    "    for model, location in zip(models, model_locations):\n",
    "        model.send(location) \n",
    "        \n",
    "    splitNN =  SplitNN(models, optimizers)\n",
    "    \n",
    "    # Train Loop\n",
    "    for i in range(epochs):\n",
    "        \n",
    "        # Train Step\n",
    "        train_loss = train_step(train_dataloader, splitNN)\n",
    "\n",
    "        # Validation Step\n",
    "        auc, accuracy, val_loss, all_preds, all_labels = val_step(valid_dataloader, splitNN)\n",
    "\n",
    "        # Log metrics\n",
    "        print(f\"Epoch: {i} \\t Training loss {round(train_loss.item(), 4)}\\t \\\n",
    "        Validation loss {round(val_loss.item(), 4)} \\t Validtaion AUC: {round(auc, 4)}\")\n",
    "        \n",
    "        if i == epochs-1:\n",
    "            MIA_input[c]['valid_pred'] = all_preds\n",
    "            MIA_input[c]['valid_label'] = all_labels\n",
    "            _, _, _, all_preds, all_labels = val_step(train_dataloader, splitNN)\n",
    "            MIA_input[c]['train_pred'] = all_preds\n",
    "            MIA_input[c]['train_label'] = all_labels     "
   ]
  },
  {
   "cell_type": "code",
   "execution_count": 94,
   "id": "narrative-sister",
   "metadata": {},
   "outputs": [],
   "source": [
    "# tensorflow-privacy\n",
    "import tensorflow_privacy.privacy.privacy_tests.membership_inference_attack\n",
    "from tensorflow_privacy.privacy.membership_inference_attack import (\n",
    "    membership_inference_attack as mia,\n",
    ")\n",
    "from tensorflow_privacy.privacy.privacy_tests.membership_inference_attack.data_structures import (\n",
    "    AttackInputData,\n",
    "    AttackType,\n",
    "    SlicingSpec,\n",
    ")\n",
    "\n",
    "import tensorflow_privacy.privacy.membership_inference_attack.plotting as plotting\n",
    "import tensorflow as tf\n",
    "constant = tf.keras.backend.constant"
   ]
  },
  {
   "cell_type": "code",
   "execution_count": 131,
   "id": "assisted-colors",
   "metadata": {},
   "outputs": [],
   "source": [
    "def MIA_calculation(train_label, train_pred, test_label, test_pred):\n",
    "     \n",
    "    train_logit = np.array(special.logit(train_pred)).reshape(len(train_pred), -1)\n",
    "    test_logit = np.array(special.logit(test_pred)).reshape(len(test_pred), -1)\n",
    "    train_label = np.array(train_label).reshape(len(train_label), -1)\n",
    "    test_label = np.array(test_label).reshape(len(test_label), -1)\n",
    "    train_loss = tf.keras.backend.binary_crossentropy(constant(train_label), constant(train_logit), from_logits=True).numpy()\n",
    "    test_loss = tf.keras.backend.binary_crossentropy(constant(test_label), constant(test_logit), from_logits=True).numpy()\n",
    "\n",
    "    attack_input = AttackInputData(\n",
    "    logits_train=train_logit,\n",
    "    logits_test=test_logit,\n",
    "    loss_train=train_loss.flatten(),\n",
    "    loss_test=test_loss.flatten(),\n",
    "    labels_train=train_label.flatten(),\n",
    "    labels_test=test_label.flatten()\n",
    "    )\n",
    "\n",
    "    # how should the data be sliced\n",
    "    slicing_spec = SlicingSpec(\n",
    "        entire_dataset=True,\n",
    "        by_class=True,\n",
    "        by_percentiles=False,\n",
    "        by_classification_correctness=True,\n",
    "    )\n",
    "\n",
    "    attack_types = [AttackType.THRESHOLD_ATTACK, AttackType.LOGISTIC_REGRESSION]\n",
    "    # run the attack\n",
    "    attacks_result = mia.run_attacks(\n",
    "        attack_input=attack_input, slicing_spec=slicing_spec, attack_types=attack_types\n",
    "    )\n",
    "    \n",
    "    print (attacks_result.summary(by_slices=True))\n",
    "    print(plotting.plot_roc_curve(attacks_result.get_result_with_max_auc().roc_curve))    "
   ]
  },
  {
   "cell_type": "code",
   "execution_count": 123,
   "id": "passive-convertible",
   "metadata": {},
   "outputs": [
    {
     "name": "stdout",
     "output_type": "stream",
     "text": [
      "\n",
      "When model complexity is NAIVE:\n",
      "\n",
      "Best-performing attacks over all slices\n",
      "  THRESHOLD_ATTACK (with 1992 training and 436 test examples) achieved an AUC of 0.51 on slice CLASS=1\n",
      "  LOGISTIC_REGRESSION (with 436 training and 436 test examples) achieved an advantage of 0.17 on slice CLASS=1\n",
      "\n",
      "Best-performing attacks over slice: \"Entire dataset\"\n",
      "  THRESHOLD_ATTACK (with 14779 training and 3222 test examples) achieved an AUC of 0.50\n",
      "  LOGISTIC_REGRESSION (with 3222 training and 3222 test examples) achieved an advantage of 0.05\n",
      "\n",
      "Best-performing attacks over slice: \"CLASS=0\"\n",
      "  THRESHOLD_ATTACK (with 12787 training and 2786 test examples) achieved an AUC of 0.50\n",
      "  LOGISTIC_REGRESSION (with 2786 training and 2786 test examples) achieved an advantage of 0.04\n",
      "\n",
      "Best-performing attacks over slice: \"CLASS=1\"\n",
      "  THRESHOLD_ATTACK (with 1992 training and 436 test examples) achieved an AUC of 0.51\n",
      "  LOGISTIC_REGRESSION (with 436 training and 436 test examples) achieved an advantage of 0.17\n",
      "\n",
      "Best-performing attacks over slice: \"CORRECTLY_CLASSIFIED=True\"\n",
      "  THRESHOLD_ATTACK (with 12787 training and 2786 test examples) achieved an AUC of 0.50\n",
      "  LOGISTIC_REGRESSION (with 2786 training and 2786 test examples) achieved an advantage of 0.06\n",
      "\n",
      "Best-performing attacks over slice: \"CORRECTLY_CLASSIFIED=False\"\n",
      "  THRESHOLD_ATTACK (with 1992 training and 436 test examples) achieved an AUC of 0.51\n",
      "  LOGISTIC_REGRESSION (with 436 training and 436 test examples) achieved an advantage of 0.09\n",
      "Figure(432x288)\n",
      "\n",
      "When model complexity is MEDIUM:\n",
      "\n",
      "Best-performing attacks over all slices\n",
      "  THRESHOLD_ATTACK (with 1992 training and 436 test examples) achieved an AUC of 0.51 on slice CLASS=1\n",
      "  LOGISTIC_REGRESSION (with 436 training and 436 test examples) achieved an advantage of 0.12 on slice CORRECTLY_CLASSIFIED=False\n",
      "\n",
      "Best-performing attacks over slice: \"Entire dataset\"\n",
      "  THRESHOLD_ATTACK (with 14779 training and 3222 test examples) achieved an AUC of 0.50\n",
      "  LOGISTIC_REGRESSION (with 3222 training and 3222 test examples) achieved an advantage of 0.04\n",
      "\n",
      "Best-performing attacks over slice: \"CLASS=0\"\n",
      "  THRESHOLD_ATTACK (with 12787 training and 2786 test examples) achieved an AUC of 0.50\n",
      "  LOGISTIC_REGRESSION (with 2786 training and 2786 test examples) achieved an advantage of 0.06\n",
      "\n",
      "Best-performing attacks over slice: \"CLASS=1\"\n",
      "  THRESHOLD_ATTACK (with 1992 training and 436 test examples) achieved an AUC of 0.51\n",
      "  LOGISTIC_REGRESSION (with 436 training and 436 test examples) achieved an advantage of 0.09\n",
      "\n",
      "Best-performing attacks over slice: \"CORRECTLY_CLASSIFIED=True\"\n",
      "  THRESHOLD_ATTACK (with 12787 training and 2786 test examples) achieved an AUC of 0.50\n",
      "  LOGISTIC_REGRESSION (with 2786 training and 2786 test examples) achieved an advantage of 0.04\n",
      "\n",
      "Best-performing attacks over slice: \"CORRECTLY_CLASSIFIED=False\"\n",
      "  THRESHOLD_ATTACK (with 1992 training and 436 test examples) achieved an AUC of 0.51\n",
      "  LOGISTIC_REGRESSION (with 436 training and 436 test examples) achieved an advantage of 0.12\n",
      "Figure(432x288)\n",
      "\n",
      "When model complexity is COMPLEX:\n",
      "\n",
      "Best-performing attacks over all slices\n",
      "  THRESHOLD_ATTACK (with 12787 training and 2786 test examples) achieved an AUC of 0.50 on slice CLASS=0\n",
      "  LOGISTIC_REGRESSION (with 436 training and 436 test examples) achieved an advantage of 0.12 on slice CORRECTLY_CLASSIFIED=False\n",
      "\n",
      "Best-performing attacks over slice: \"Entire dataset\"\n",
      "  THRESHOLD_ATTACK (with 14779 training and 3222 test examples) achieved an AUC of 0.50\n",
      "  LOGISTIC_REGRESSION (with 3222 training and 3222 test examples) achieved an advantage of 0.06\n",
      "\n",
      "Best-performing attacks over slice: \"CLASS=0\"\n",
      "  THRESHOLD_ATTACK (with 12787 training and 2786 test examples) achieved an AUC of 0.50\n",
      "  LOGISTIC_REGRESSION (with 2786 training and 2786 test examples) achieved an advantage of 0.05\n",
      "\n",
      "Best-performing attacks over slice: \"CLASS=1\"\n",
      "  THRESHOLD_ATTACK (with 1992 training and 436 test examples) achieved an AUC of 0.50\n",
      "  LOGISTIC_REGRESSION (with 436 training and 436 test examples) achieved an advantage of 0.11\n",
      "\n",
      "Best-performing attacks over slice: \"CORRECTLY_CLASSIFIED=True\"\n",
      "  THRESHOLD_ATTACK (with 12787 training and 2786 test examples) achieved an AUC of 0.50\n",
      "  LOGISTIC_REGRESSION (with 2786 training and 2786 test examples) achieved an advantage of 0.06\n",
      "\n",
      "Best-performing attacks over slice: \"CORRECTLY_CLASSIFIED=False\"\n",
      "  THRESHOLD_ATTACK (with 1992 training and 436 test examples) achieved an AUC of 0.50\n",
      "  LOGISTIC_REGRESSION (with 436 training and 436 test examples) achieved an advantage of 0.12\n",
      "Figure(432x288)\n"
     ]
    },
    {
     "data": {
      "image/png": "[encoded data removed]",
      "text/plain": [
       "<Figure size 432x288 with 1 Axes>"
      ]
     },
     "metadata": {
      "needs_background": "light"
     },
     "output_type": "display_data"
    },
    {
     "data": {
      "image/png": "[encoded data removed]",
      "text/plain": [
       "<Figure size 432x288 with 1 Axes>"
      ]
     },
     "metadata": {
      "needs_background": "light"
     },
     "output_type": "display_data"
    },
    {
     "data": {
      "image/png": "[encoded data removed]",
      "text/plain": [
       "<Figure size 432x288 with 1 Axes>"
      ]
     },
     "metadata": {
      "needs_background": "light"
     },
     "output_type": "display_data"
    }
   ],
   "source": [
    "for key in MIA_input:\n",
    "    print (f'\\nWhen model complexity is {key.upper()}:\\n')\n",
    "    train_label = MIA_input[key]['train_label']\n",
    "    train_pred  = MIA_input[key]['train_pred']\n",
    "    test_label  = MIA_input[key]['valid_label']\n",
    "    test_pred   = MIA_input[key]['valid_pred']\n",
    "    MIA_calculation(train_label, train_pred, test_label, test_pred)"
   ]
  },
  {
   "cell_type": "code",
   "execution_count": 132,
   "id": "expired-wagon",
   "metadata": {},
   "outputs": [
    {
     "name": "stdout",
     "output_type": "stream",
     "text": [
      "\n",
      "When model complexity is NAIVE:\n",
      "\n",
      "Best-performing attacks over all slices\n",
      "  LOGISTIC_REGRESSION (with 436 training and 436 test examples) achieved an AUC of 0.52 on slice CORRECTLY_CLASSIFIED=False\n",
      "  LOGISTIC_REGRESSION (with 436 training and 436 test examples) achieved an advantage of 0.12 on slice CLASS=1\n",
      "\n",
      "Best-performing attacks over slice: \"Entire dataset\"\n",
      "  THRESHOLD_ATTACK (with 14779 training and 3222 test examples) achieved an AUC of 0.50\n",
      "  LOGISTIC_REGRESSION (with 3222 training and 3222 test examples) achieved an advantage of 0.03\n",
      "\n",
      "Best-performing attacks over slice: \"CLASS=0\"\n",
      "  THRESHOLD_ATTACK (with 12787 training and 2786 test examples) achieved an AUC of 0.50\n",
      "  LOGISTIC_REGRESSION (with 2786 training and 2786 test examples) achieved an advantage of 0.03\n",
      "\n",
      "Best-performing attacks over slice: \"CLASS=1\"\n",
      "  THRESHOLD_ATTACK (with 1992 training and 436 test examples) achieved an AUC of 0.50\n",
      "  LOGISTIC_REGRESSION (with 436 training and 436 test examples) achieved an advantage of 0.12\n",
      "\n",
      "Best-performing attacks over slice: \"CORRECTLY_CLASSIFIED=True\"\n",
      "  THRESHOLD_ATTACK (with 12787 training and 2786 test examples) achieved an AUC of 0.50\n",
      "  LOGISTIC_REGRESSION (with 2786 training and 2786 test examples) achieved an advantage of 0.04\n",
      "\n",
      "Best-performing attacks over slice: \"CORRECTLY_CLASSIFIED=False\"\n",
      "  LOGISTIC_REGRESSION (with 436 training and 436 test examples) achieved an AUC of 0.52\n",
      "  LOGISTIC_REGRESSION (with 436 training and 436 test examples) achieved an advantage of 0.10\n",
      "Figure(432x288)\n"
     ]
    },
    {
     "data": {
      "image/png": "[encoded data removed]",
      "text/plain": [
       "<Figure size 432x288 with 1 Axes>"
      ]
     },
     "metadata": {
      "needs_background": "light"
     },
     "output_type": "display_data"
    }
   ],
   "source": [
    "key = 'naive'\n",
    "print (f'\\nWhen model complexity is {key.upper()}:\\n')\n",
    "train_label = MIA_input[key]['train_label']\n",
    "train_pred  = MIA_input[key]['train_pred']\n",
    "test_label  = MIA_input[key]['valid_label']\n",
    "test_pred   = MIA_input[key]['valid_pred']\n",
    "MIA_calculation(train_label, train_pred, test_label, test_pred)"
   ]
  },
  {
   "cell_type": "code",
   "execution_count": 133,
   "id": "utility-panel",
   "metadata": {},
   "outputs": [
    {
     "name": "stdout",
     "output_type": "stream",
     "text": [
      "\n",
      "When model complexity is MEDIUM:\n",
      "\n",
      "Best-performing attacks over all slices\n",
      "  LOGISTIC_REGRESSION (with 436 training and 436 test examples) achieved an AUC of 0.52 on slice CLASS=1\n",
      "  LOGISTIC_REGRESSION (with 436 training and 436 test examples) achieved an advantage of 0.10 on slice CORRECTLY_CLASSIFIED=False\n",
      "\n",
      "Best-performing attacks over slice: \"Entire dataset\"\n",
      "  LOGISTIC_REGRESSION (with 3222 training and 3222 test examples) achieved an AUC of 0.51\n",
      "  LOGISTIC_REGRESSION (with 3222 training and 3222 test examples) achieved an advantage of 0.05\n",
      "\n",
      "Best-performing attacks over slice: \"CLASS=0\"\n",
      "  LOGISTIC_REGRESSION (with 2786 training and 2786 test examples) achieved an AUC of 0.51\n",
      "  LOGISTIC_REGRESSION (with 2786 training and 2786 test examples) achieved an advantage of 0.04\n",
      "\n",
      "Best-performing attacks over slice: \"CLASS=1\"\n",
      "  LOGISTIC_REGRESSION (with 436 training and 436 test examples) achieved an AUC of 0.52\n",
      "  LOGISTIC_REGRESSION (with 436 training and 436 test examples) achieved an advantage of 0.08\n",
      "\n",
      "Best-performing attacks over slice: \"CORRECTLY_CLASSIFIED=True\"\n",
      "  LOGISTIC_REGRESSION (with 2786 training and 2786 test examples) achieved an AUC of 0.51\n",
      "  LOGISTIC_REGRESSION (with 2786 training and 2786 test examples) achieved an advantage of 0.04\n",
      "\n",
      "Best-performing attacks over slice: \"CORRECTLY_CLASSIFIED=False\"\n",
      "  THRESHOLD_ATTACK (with 1992 training and 436 test examples) achieved an AUC of 0.50\n",
      "  LOGISTIC_REGRESSION (with 436 training and 436 test examples) achieved an advantage of 0.10\n",
      "Figure(432x288)\n"
     ]
    },
    {
     "data": {
      "image/png": "[encoded data removed]",
      "text/plain": [
       "<Figure size 432x288 with 1 Axes>"
      ]
     },
     "metadata": {
      "needs_background": "light"
     },
     "output_type": "display_data"
    }
   ],
   "source": [
    "key = 'medium'\n",
    "print (f'\\nWhen model complexity is {key.upper()}:\\n')\n",
    "train_label = MIA_input[key]['train_label']\n",
    "train_pred  = MIA_input[key]['train_pred']\n",
    "test_label  = MIA_input[key]['valid_label']\n",
    "test_pred   = MIA_input[key]['valid_pred']\n",
    "MIA_calculation(train_label, train_pred, test_label, test_pred)"
   ]
  },
  {
   "cell_type": "code",
   "execution_count": 136,
   "id": "satisfied-desert",
   "metadata": {},
   "outputs": [
    {
     "name": "stdout",
     "output_type": "stream",
     "text": [
      "\n",
      "When model complexity is COMPLEX:\n",
      "\n",
      "Best-performing attacks over all slices\n",
      "  LOGISTIC_REGRESSION (with 436 training and 436 test examples) achieved an AUC of 0.57 on slice CLASS=1\n",
      "  LOGISTIC_REGRESSION (with 436 training and 436 test examples) achieved an advantage of 0.20 on slice CLASS=1\n",
      "\n",
      "Best-performing attacks over slice: \"Entire dataset\"\n",
      "  THRESHOLD_ATTACK (with 14779 training and 3222 test examples) achieved an AUC of 0.50\n",
      "  LOGISTIC_REGRESSION (with 3222 training and 3222 test examples) achieved an advantage of 0.04\n",
      "\n",
      "Best-performing attacks over slice: \"CLASS=0\"\n",
      "  THRESHOLD_ATTACK (with 12787 training and 2786 test examples) achieved an AUC of 0.50\n",
      "  LOGISTIC_REGRESSION (with 2786 training and 2786 test examples) achieved an advantage of 0.04\n",
      "\n",
      "Best-performing attacks over slice: \"CLASS=1\"\n",
      "  LOGISTIC_REGRESSION (with 436 training and 436 test examples) achieved an AUC of 0.57\n",
      "  LOGISTIC_REGRESSION (with 436 training and 436 test examples) achieved an advantage of 0.20\n",
      "\n",
      "Best-performing attacks over slice: \"CORRECTLY_CLASSIFIED=True\"\n",
      "  THRESHOLD_ATTACK (with 12787 training and 2786 test examples) achieved an AUC of 0.50\n",
      "  LOGISTIC_REGRESSION (with 2786 training and 2786 test examples) achieved an advantage of 0.04\n",
      "\n",
      "Best-performing attacks over slice: \"CORRECTLY_CLASSIFIED=False\"\n",
      "  LOGISTIC_REGRESSION (with 436 training and 436 test examples) achieved an AUC of 0.51\n",
      "  LOGISTIC_REGRESSION (with 436 training and 436 test examples) achieved an advantage of 0.07\n",
      "Figure(432x288)\n"
     ]
    },
    {
     "data": {
      "image/png": "[encoded data removed]",
      "text/plain": [
       "<Figure size 432x288 with 1 Axes>"
      ]
     },
     "metadata": {
      "needs_background": "light"
     },
     "output_type": "display_data"
    }
   ],
   "source": [
    "key = 'complex'\n",
    "print (f'\\nWhen model complexity is {key.upper()}:\\n')\n",
    "train_label = MIA_input[key]['train_label']\n",
    "train_pred  = MIA_input[key]['train_pred']\n",
    "test_label  = MIA_input[key]['valid_label']\n",
    "test_pred   = MIA_input[key]['valid_pred']\n",
    "MIA_calculation(train_label, train_pred, test_label, test_pred)"
   ]
  }
 ],
 "metadata": {
  "kernelspec": {
   "display_name": "Python 3",
   "language": "python",
   "name": "python3"
  },
  "language_info": {
   "codemirror_mode": {
    "name": "ipython",
    "version": 3
   },
   "file_extension": ".py",
   "mimetype": "text/x-python",
   "name": "python",
   "nbconvert_exporter": "python",
   "pygments_lexer": "ipython3",
   "version": "3.7.10"
  }
 },
 "nbformat": 4,
 "nbformat_minor": 5
}
