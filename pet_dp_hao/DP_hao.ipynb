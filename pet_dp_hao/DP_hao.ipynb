{
 "cells": [
  {
   "cell_type": "code",
   "execution_count": 1,
   "id": "scenic-parliament",
   "metadata": {},
   "outputs": [],
   "source": [
    "from __future__ import absolute_import\n",
    "from __future__ import division\n",
    "from __future__ import print_function\n",
    "\n",
    "import numpy as np\n",
    "import pandas as pd\n",
    "import matplotlib.pyplot as plt\n",
    "import seaborn as sns\n",
    "from sklearn.linear_model import LogisticRegression\n",
    "from sklearn.model_selection import train_test_split\n",
    "from sklearn.preprocessing import OneHotEncoder\n",
    "\n",
    "import math\n",
    "\n",
    "import numpy as np\n",
    "import tensorflow as tf\n",
    "\n",
    "#for reproducible results\n",
    "import random\n",
    "\n",
    "from tensorflow_privacy.privacy.analysis.rdp_accountant import compute_rdp\n",
    "from tensorflow_privacy.privacy.analysis.rdp_accountant import get_privacy_spent\n",
    "from tensorflow_privacy.privacy.optimizers.dp_optimizer_keras import DPKerasSGDOptimizer\n",
    "from tensorflow_privacy.privacy.optimizers import dp_optimizer\n",
    "import tensorflow_privacy\n",
    "\n",
    "#for logging\n",
    "import sys\n",
    "import logging"
   ]
  },
  {
   "cell_type": "code",
   "execution_count": 2,
   "id": "caroline-election",
   "metadata": {},
   "outputs": [],
   "source": [
    "import tensorflow as tf\n",
    "from tensorflow import keras\n",
    "\n",
    "import os\n",
    "import tempfile\n",
    "\n",
    "import matplotlib as mpl\n",
    "import matplotlib.pyplot as plt\n",
    "import numpy as np\n",
    "import pandas as pd\n",
    "import seaborn as sns\n",
    "\n",
    "import sklearn\n",
    "from sklearn.metrics import confusion_matrix\n",
    "from sklearn.model_selection import train_test_split\n",
    "from sklearn.preprocessing import StandardScaler\n",
    "%load_ext tensorboard\n",
    "import datetime\n",
    "#for reproducible results\n",
    "import random"
   ]
  },
  {
   "cell_type": "code",
   "execution_count": 3,
   "id": "elder-upset",
   "metadata": {},
   "outputs": [
    {
     "name": "stdout",
     "output_type": "stream",
     "text": [
      "The tensorboard extension is already loaded. To reload it, use:\n",
      "  %reload_ext tensorboard\n"
     ]
    }
   ],
   "source": [
    "%load_ext tensorboard"
   ]
  },
  {
   "cell_type": "code",
   "execution_count": 4,
   "id": "thrown-oakland",
   "metadata": {},
   "outputs": [],
   "source": [
    "mpl.rcParams['figure.figsize'] = (12, 10)\n",
    "colors = plt.rcParams['axes.prop_cycle'].by_key()['color']"
   ]
  },
  {
   "cell_type": "markdown",
   "id": "alike-audio",
   "metadata": {},
   "source": [
    "## EDA"
   ]
  },
  {
   "cell_type": "code",
   "execution_count": 5,
   "id": "harmful-dutch",
   "metadata": {},
   "outputs": [],
   "source": [
    "data_dir = \"/ssd003/projects/pets/datasets/home_credit\"\n",
    "# home_credit_train_df = pd.read_csv(f\"{data_dir}/home_credit_train.csv\")\n",
    "# credit_bureau_train_df = pd.read_csv(f\"{data_dir}/credit_bureau_train.csv\")\n",
    "data_df = pd.read_csv(f\"{data_dir}/train.csv\")"
   ]
  },
  {
   "cell_type": "code",
   "execution_count": 10,
   "id": "commercial-cream",
   "metadata": {},
   "outputs": [
    {
     "data": {
      "text/plain": [
       "99"
      ]
     },
     "execution_count": 10,
     "metadata": {},
     "output_type": "execute_result"
    }
   ],
   "source": [
    "len(home_credit_train_df.columns)"
   ]
  },
  {
   "cell_type": "code",
   "execution_count": 11,
   "id": "quarterly-diving",
   "metadata": {},
   "outputs": [
    {
     "data": {
      "text/plain": [
       "6"
      ]
     },
     "execution_count": 11,
     "metadata": {},
     "output_type": "execute_result"
    }
   ],
   "source": [
    "len(credit_bureau_train_df.columns)"
   ]
  },
  {
   "cell_type": "code",
   "execution_count": 9,
   "id": "overhead-hudson",
   "metadata": {},
   "outputs": [
    {
     "data": {
      "text/plain": [
       "105"
      ]
     },
     "execution_count": 9,
     "metadata": {},
     "output_type": "execute_result"
    }
   ],
   "source": [
    "len(train_df.columns)"
   ]
  },
  {
   "cell_type": "code",
   "execution_count": 13,
   "id": "minute-bargain",
   "metadata": {},
   "outputs": [
    {
     "data": {
      "text/plain": [
       "307511"
      ]
     },
     "execution_count": 13,
     "metadata": {},
     "output_type": "execute_result"
    }
   ],
   "source": [
    "len(train_df)"
   ]
  },
  {
   "cell_type": "code",
   "execution_count": 38,
   "id": "beautiful-calculation",
   "metadata": {},
   "outputs": [
    {
     "data": {
      "text/html": [
       "<div>\n",
       "<style scoped>\n",
       "    .dataframe tbody tr th:only-of-type {\n",
       "        vertical-align: middle;\n",
       "    }\n",
       "\n",
       "    .dataframe tbody tr th {\n",
       "        vertical-align: top;\n",
       "    }\n",
       "\n",
       "    .dataframe thead th {\n",
       "        text-align: right;\n",
       "    }\n",
       "</style>\n",
       "<table border=\"1\" class=\"dataframe\">\n",
       "  <thead>\n",
       "    <tr style=\"text-align: right;\">\n",
       "      <th></th>\n",
       "      <th>CNT_CHILDREN</th>\n",
       "      <th>AMT_INCOME_TOTAL</th>\n",
       "      <th>AMT_CREDIT</th>\n",
       "      <th>AMT_ANNUITY</th>\n",
       "      <th>AMT_GOODS_PRICE</th>\n",
       "      <th>REGION_POPULATION_RELATIVE</th>\n",
       "      <th>DAYS_BIRTH</th>\n",
       "      <th>DAYS_EMPLOYED</th>\n",
       "      <th>DAYS_REGISTRATION</th>\n",
       "      <th>DAYS_ID_PUBLISH</th>\n",
       "      <th>...</th>\n",
       "      <th>FLAG_DOCUMENT_19</th>\n",
       "      <th>FLAG_DOCUMENT_20</th>\n",
       "      <th>FLAG_DOCUMENT_21</th>\n",
       "      <th>AMT_REQ_CREDIT_BUREAU_HOUR</th>\n",
       "      <th>AMT_REQ_CREDIT_BUREAU_DAY</th>\n",
       "      <th>AMT_REQ_CREDIT_BUREAU_WEEK</th>\n",
       "      <th>AMT_REQ_CREDIT_BUREAU_MON</th>\n",
       "      <th>AMT_REQ_CREDIT_BUREAU_QRT</th>\n",
       "      <th>AMT_REQ_CREDIT_BUREAU_YEAR</th>\n",
       "      <th>target</th>\n",
       "    </tr>\n",
       "  </thead>\n",
       "  <tbody>\n",
       "    <tr>\n",
       "      <th>0</th>\n",
       "      <td>-0.577538</td>\n",
       "      <td>0.142129</td>\n",
       "      <td>-0.478095</td>\n",
       "      <td>-0.166149</td>\n",
       "      <td>-0.507465</td>\n",
       "      <td>-0.149452</td>\n",
       "      <td>1.506880</td>\n",
       "      <td>-0.456215</td>\n",
       "      <td>0.379837</td>\n",
       "      <td>0.579154</td>\n",
       "      <td>...</td>\n",
       "      <td>-0.024402</td>\n",
       "      <td>-0.022529</td>\n",
       "      <td>-0.018305</td>\n",
       "      <td>-8.210023e-02</td>\n",
       "      <td>-0.067957</td>\n",
       "      <td>-1.805048e-01</td>\n",
       "      <td>-0.313873</td>\n",
       "      <td>-3.594746e-01</td>\n",
       "      <td>-5.176655e-01</td>\n",
       "      <td>1</td>\n",
       "    </tr>\n",
       "    <tr>\n",
       "      <th>1</th>\n",
       "      <td>-0.577538</td>\n",
       "      <td>0.426792</td>\n",
       "      <td>1.725450</td>\n",
       "      <td>0.592677</td>\n",
       "      <td>1.600698</td>\n",
       "      <td>-1.252750</td>\n",
       "      <td>-0.166821</td>\n",
       "      <td>-0.460115</td>\n",
       "      <td>1.078697</td>\n",
       "      <td>1.790855</td>\n",
       "      <td>...</td>\n",
       "      <td>-0.024402</td>\n",
       "      <td>-0.022529</td>\n",
       "      <td>-0.018305</td>\n",
       "      <td>-8.210023e-02</td>\n",
       "      <td>-0.067957</td>\n",
       "      <td>-1.805048e-01</td>\n",
       "      <td>-0.313873</td>\n",
       "      <td>-3.594746e-01</td>\n",
       "      <td>-1.092866e+00</td>\n",
       "      <td>0</td>\n",
       "    </tr>\n",
       "    <tr>\n",
       "      <th>2</th>\n",
       "      <td>-0.577538</td>\n",
       "      <td>-0.427196</td>\n",
       "      <td>-1.152888</td>\n",
       "      <td>-1.404676</td>\n",
       "      <td>-1.092389</td>\n",
       "      <td>-0.783451</td>\n",
       "      <td>-0.689509</td>\n",
       "      <td>-0.453299</td>\n",
       "      <td>0.206116</td>\n",
       "      <td>0.306869</td>\n",
       "      <td>...</td>\n",
       "      <td>-0.024402</td>\n",
       "      <td>-0.022529</td>\n",
       "      <td>-0.018305</td>\n",
       "      <td>-8.210023e-02</td>\n",
       "      <td>-0.067957</td>\n",
       "      <td>-1.805048e-01</td>\n",
       "      <td>-0.313873</td>\n",
       "      <td>-3.594746e-01</td>\n",
       "      <td>-1.092866e+00</td>\n",
       "      <td>0</td>\n",
       "    </tr>\n",
       "    <tr>\n",
       "      <th>3</th>\n",
       "      <td>-0.577538</td>\n",
       "      <td>-0.142533</td>\n",
       "      <td>-0.711430</td>\n",
       "      <td>0.177869</td>\n",
       "      <td>-0.653696</td>\n",
       "      <td>-0.928991</td>\n",
       "      <td>-0.680114</td>\n",
       "      <td>-0.473217</td>\n",
       "      <td>-1.375829</td>\n",
       "      <td>0.369143</td>\n",
       "      <td>...</td>\n",
       "      <td>-0.024402</td>\n",
       "      <td>-0.022529</td>\n",
       "      <td>-0.018305</td>\n",
       "      <td>3.336720e-17</td>\n",
       "      <td>0.000000</td>\n",
       "      <td>-3.645032e-17</td>\n",
       "      <td>0.000000</td>\n",
       "      <td>-7.516682e-17</td>\n",
       "      <td>-3.831603e-16</td>\n",
       "      <td>0</td>\n",
       "    </tr>\n",
       "    <tr>\n",
       "      <th>4</th>\n",
       "      <td>-0.577538</td>\n",
       "      <td>-0.199466</td>\n",
       "      <td>-0.213734</td>\n",
       "      <td>-0.361755</td>\n",
       "      <td>-0.068772</td>\n",
       "      <td>0.563570</td>\n",
       "      <td>-0.892535</td>\n",
       "      <td>-0.473210</td>\n",
       "      <td>0.191639</td>\n",
       "      <td>-0.307263</td>\n",
       "      <td>...</td>\n",
       "      <td>-0.024402</td>\n",
       "      <td>-0.022529</td>\n",
       "      <td>-0.018305</td>\n",
       "      <td>-8.210023e-02</td>\n",
       "      <td>-0.067957</td>\n",
       "      <td>-1.805048e-01</td>\n",
       "      <td>-0.313873</td>\n",
       "      <td>-3.594746e-01</td>\n",
       "      <td>-1.092866e+00</td>\n",
       "      <td>0</td>\n",
       "    </tr>\n",
       "  </tbody>\n",
       "</table>\n",
       "<p>5 rows × 105 columns</p>\n",
       "</div>"
      ],
      "text/plain": [
       "   CNT_CHILDREN  AMT_INCOME_TOTAL  AMT_CREDIT  AMT_ANNUITY  AMT_GOODS_PRICE  \\\n",
       "0     -0.577538          0.142129   -0.478095    -0.166149        -0.507465   \n",
       "1     -0.577538          0.426792    1.725450     0.592677         1.600698   \n",
       "2     -0.577538         -0.427196   -1.152888    -1.404676        -1.092389   \n",
       "3     -0.577538         -0.142533   -0.711430     0.177869        -0.653696   \n",
       "4     -0.577538         -0.199466   -0.213734    -0.361755        -0.068772   \n",
       "\n",
       "   REGION_POPULATION_RELATIVE  DAYS_BIRTH  DAYS_EMPLOYED  DAYS_REGISTRATION  \\\n",
       "0                   -0.149452    1.506880      -0.456215           0.379837   \n",
       "1                   -1.252750   -0.166821      -0.460115           1.078697   \n",
       "2                   -0.783451   -0.689509      -0.453299           0.206116   \n",
       "3                   -0.928991   -0.680114      -0.473217          -1.375829   \n",
       "4                    0.563570   -0.892535      -0.473210           0.191639   \n",
       "\n",
       "   DAYS_ID_PUBLISH  ...  FLAG_DOCUMENT_19  FLAG_DOCUMENT_20  FLAG_DOCUMENT_21  \\\n",
       "0         0.579154  ...         -0.024402         -0.022529         -0.018305   \n",
       "1         1.790855  ...         -0.024402         -0.022529         -0.018305   \n",
       "2         0.306869  ...         -0.024402         -0.022529         -0.018305   \n",
       "3         0.369143  ...         -0.024402         -0.022529         -0.018305   \n",
       "4        -0.307263  ...         -0.024402         -0.022529         -0.018305   \n",
       "\n",
       "   AMT_REQ_CREDIT_BUREAU_HOUR  AMT_REQ_CREDIT_BUREAU_DAY  \\\n",
       "0               -8.210023e-02                  -0.067957   \n",
       "1               -8.210023e-02                  -0.067957   \n",
       "2               -8.210023e-02                  -0.067957   \n",
       "3                3.336720e-17                   0.000000   \n",
       "4               -8.210023e-02                  -0.067957   \n",
       "\n",
       "   AMT_REQ_CREDIT_BUREAU_WEEK  AMT_REQ_CREDIT_BUREAU_MON  \\\n",
       "0               -1.805048e-01                  -0.313873   \n",
       "1               -1.805048e-01                  -0.313873   \n",
       "2               -1.805048e-01                  -0.313873   \n",
       "3               -3.645032e-17                   0.000000   \n",
       "4               -1.805048e-01                  -0.313873   \n",
       "\n",
       "   AMT_REQ_CREDIT_BUREAU_QRT  AMT_REQ_CREDIT_BUREAU_YEAR  target  \n",
       "0              -3.594746e-01               -5.176655e-01       1  \n",
       "1              -3.594746e-01               -1.092866e+00       0  \n",
       "2              -3.594746e-01               -1.092866e+00       0  \n",
       "3              -7.516682e-17               -3.831603e-16       0  \n",
       "4              -3.594746e-01               -1.092866e+00       0  \n",
       "\n",
       "[5 rows x 105 columns]"
      ]
     },
     "execution_count": 38,
     "metadata": {},
     "output_type": "execute_result"
    }
   ],
   "source": [
    "data_df.head()"
   ]
  },
  {
   "cell_type": "code",
   "execution_count": 16,
   "id": "satisfied-angle",
   "metadata": {},
   "outputs": [
    {
     "data": {
      "text/plain": [
       "0    282686\n",
       "1     24825\n",
       "Name: target, dtype: int64"
      ]
     },
     "execution_count": 16,
     "metadata": {},
     "output_type": "execute_result"
    }
   ],
   "source": [
    "data_df['target'].value_counts()"
   ]
  },
  {
   "cell_type": "code",
   "execution_count": 17,
   "id": "broadband-aspect",
   "metadata": {},
   "outputs": [
    {
     "data": {
      "text/plain": [
       "0.08072881945686496"
      ]
     },
     "execution_count": 17,
     "metadata": {},
     "output_type": "execute_result"
    }
   ],
   "source": [
    "24825 / (24825 + 282686)"
   ]
  },
  {
   "cell_type": "code",
   "execution_count": 18,
   "id": "large-burden",
   "metadata": {},
   "outputs": [
    {
     "data": {
      "text/plain": [
       "Index(['CNT_CHILDREN', 'AMT_INCOME_TOTAL', 'AMT_CREDIT', 'AMT_ANNUITY',\n",
       "       'AMT_GOODS_PRICE', 'REGION_POPULATION_RELATIVE', 'DAYS_BIRTH',\n",
       "       'DAYS_EMPLOYED', 'DAYS_REGISTRATION', 'DAYS_ID_PUBLISH',\n",
       "       ...\n",
       "       'FLAG_DOCUMENT_19', 'FLAG_DOCUMENT_20', 'FLAG_DOCUMENT_21',\n",
       "       'AMT_REQ_CREDIT_BUREAU_HOUR', 'AMT_REQ_CREDIT_BUREAU_DAY',\n",
       "       'AMT_REQ_CREDIT_BUREAU_WEEK', 'AMT_REQ_CREDIT_BUREAU_MON',\n",
       "       'AMT_REQ_CREDIT_BUREAU_QRT', 'AMT_REQ_CREDIT_BUREAU_YEAR', 'target'],\n",
       "      dtype='object', length=105)"
      ]
     },
     "execution_count": 18,
     "metadata": {},
     "output_type": "execute_result"
    }
   ],
   "source": [
    "data_df.columns"
   ]
  },
  {
   "cell_type": "code",
   "execution_count": 24,
   "id": "loaded-parliament",
   "metadata": {},
   "outputs": [],
   "source": [
    "types = pd.DataFrame(data_df.dtypes)"
   ]
  },
  {
   "cell_type": "code",
   "execution_count": 50,
   "id": "contrary-compact",
   "metadata": {},
   "outputs": [
    {
     "data": {
      "text/html": [
       "<div>\n",
       "<style scoped>\n",
       "    .dataframe tbody tr th:only-of-type {\n",
       "        vertical-align: middle;\n",
       "    }\n",
       "\n",
       "    .dataframe tbody tr th {\n",
       "        vertical-align: top;\n",
       "    }\n",
       "\n",
       "    .dataframe thead th {\n",
       "        text-align: right;\n",
       "    }\n",
       "</style>\n",
       "<table border=\"1\" class=\"dataframe\">\n",
       "  <thead>\n",
       "    <tr style=\"text-align: right;\">\n",
       "      <th></th>\n",
       "      <th>0</th>\n",
       "    </tr>\n",
       "  </thead>\n",
       "  <tbody>\n",
       "    <tr>\n",
       "      <th>CNT_CHILDREN</th>\n",
       "      <td>float64</td>\n",
       "    </tr>\n",
       "    <tr>\n",
       "      <th>AMT_INCOME_TOTAL</th>\n",
       "      <td>float64</td>\n",
       "    </tr>\n",
       "    <tr>\n",
       "      <th>AMT_CREDIT</th>\n",
       "      <td>float64</td>\n",
       "    </tr>\n",
       "    <tr>\n",
       "      <th>AMT_ANNUITY</th>\n",
       "      <td>float64</td>\n",
       "    </tr>\n",
       "    <tr>\n",
       "      <th>AMT_GOODS_PRICE</th>\n",
       "      <td>float64</td>\n",
       "    </tr>\n",
       "    <tr>\n",
       "      <th>REGION_POPULATION_RELATIVE</th>\n",
       "      <td>float64</td>\n",
       "    </tr>\n",
       "    <tr>\n",
       "      <th>DAYS_BIRTH</th>\n",
       "      <td>float64</td>\n",
       "    </tr>\n",
       "    <tr>\n",
       "      <th>DAYS_EMPLOYED</th>\n",
       "      <td>float64</td>\n",
       "    </tr>\n",
       "    <tr>\n",
       "      <th>DAYS_REGISTRATION</th>\n",
       "      <td>float64</td>\n",
       "    </tr>\n",
       "    <tr>\n",
       "      <th>DAYS_ID_PUBLISH</th>\n",
       "      <td>float64</td>\n",
       "    </tr>\n",
       "    <tr>\n",
       "      <th>OWN_CAR_AGE</th>\n",
       "      <td>float64</td>\n",
       "    </tr>\n",
       "    <tr>\n",
       "      <th>FLAG_MOBIL</th>\n",
       "      <td>float64</td>\n",
       "    </tr>\n",
       "    <tr>\n",
       "      <th>FLAG_EMP_PHONE</th>\n",
       "      <td>float64</td>\n",
       "    </tr>\n",
       "    <tr>\n",
       "      <th>FLAG_WORK_PHONE</th>\n",
       "      <td>float64</td>\n",
       "    </tr>\n",
       "    <tr>\n",
       "      <th>FLAG_CONT_MOBILE</th>\n",
       "      <td>float64</td>\n",
       "    </tr>\n",
       "    <tr>\n",
       "      <th>FLAG_PHONE</th>\n",
       "      <td>float64</td>\n",
       "    </tr>\n",
       "    <tr>\n",
       "      <th>FLAG_EMAIL</th>\n",
       "      <td>float64</td>\n",
       "    </tr>\n",
       "    <tr>\n",
       "      <th>CNT_FAM_MEMBERS</th>\n",
       "      <td>float64</td>\n",
       "    </tr>\n",
       "    <tr>\n",
       "      <th>REGION_RATING_CLIENT</th>\n",
       "      <td>float64</td>\n",
       "    </tr>\n",
       "    <tr>\n",
       "      <th>REGION_RATING_CLIENT_W_CITY</th>\n",
       "      <td>float64</td>\n",
       "    </tr>\n",
       "    <tr>\n",
       "      <th>HOUR_APPR_PROCESS_START</th>\n",
       "      <td>float64</td>\n",
       "    </tr>\n",
       "    <tr>\n",
       "      <th>REG_REGION_NOT_LIVE_REGION</th>\n",
       "      <td>float64</td>\n",
       "    </tr>\n",
       "    <tr>\n",
       "      <th>REG_REGION_NOT_WORK_REGION</th>\n",
       "      <td>float64</td>\n",
       "    </tr>\n",
       "    <tr>\n",
       "      <th>LIVE_REGION_NOT_WORK_REGION</th>\n",
       "      <td>float64</td>\n",
       "    </tr>\n",
       "    <tr>\n",
       "      <th>REG_CITY_NOT_LIVE_CITY</th>\n",
       "      <td>float64</td>\n",
       "    </tr>\n",
       "    <tr>\n",
       "      <th>REG_CITY_NOT_WORK_CITY</th>\n",
       "      <td>float64</td>\n",
       "    </tr>\n",
       "    <tr>\n",
       "      <th>LIVE_CITY_NOT_WORK_CITY</th>\n",
       "      <td>float64</td>\n",
       "    </tr>\n",
       "    <tr>\n",
       "      <th>EXT_SOURCE_1</th>\n",
       "      <td>float64</td>\n",
       "    </tr>\n",
       "    <tr>\n",
       "      <th>EXT_SOURCE_2</th>\n",
       "      <td>float64</td>\n",
       "    </tr>\n",
       "    <tr>\n",
       "      <th>EXT_SOURCE_3</th>\n",
       "      <td>float64</td>\n",
       "    </tr>\n",
       "    <tr>\n",
       "      <th>APARTMENTS_AVG</th>\n",
       "      <td>float64</td>\n",
       "    </tr>\n",
       "    <tr>\n",
       "      <th>BASEMENTAREA_AVG</th>\n",
       "      <td>float64</td>\n",
       "    </tr>\n",
       "    <tr>\n",
       "      <th>YEARS_BEGINEXPLUATATION_AVG</th>\n",
       "      <td>float64</td>\n",
       "    </tr>\n",
       "    <tr>\n",
       "      <th>YEARS_BUILD_AVG</th>\n",
       "      <td>float64</td>\n",
       "    </tr>\n",
       "    <tr>\n",
       "      <th>COMMONAREA_AVG</th>\n",
       "      <td>float64</td>\n",
       "    </tr>\n",
       "    <tr>\n",
       "      <th>ELEVATORS_AVG</th>\n",
       "      <td>float64</td>\n",
       "    </tr>\n",
       "    <tr>\n",
       "      <th>ENTRANCES_AVG</th>\n",
       "      <td>float64</td>\n",
       "    </tr>\n",
       "    <tr>\n",
       "      <th>FLOORSMAX_AVG</th>\n",
       "      <td>float64</td>\n",
       "    </tr>\n",
       "    <tr>\n",
       "      <th>FLOORSMIN_AVG</th>\n",
       "      <td>float64</td>\n",
       "    </tr>\n",
       "    <tr>\n",
       "      <th>LANDAREA_AVG</th>\n",
       "      <td>float64</td>\n",
       "    </tr>\n",
       "    <tr>\n",
       "      <th>LIVINGAPARTMENTS_AVG</th>\n",
       "      <td>float64</td>\n",
       "    </tr>\n",
       "    <tr>\n",
       "      <th>LIVINGAREA_AVG</th>\n",
       "      <td>float64</td>\n",
       "    </tr>\n",
       "    <tr>\n",
       "      <th>NONLIVINGAPARTMENTS_AVG</th>\n",
       "      <td>float64</td>\n",
       "    </tr>\n",
       "    <tr>\n",
       "      <th>NONLIVINGAREA_AVG</th>\n",
       "      <td>float64</td>\n",
       "    </tr>\n",
       "    <tr>\n",
       "      <th>APARTMENTS_MODE</th>\n",
       "      <td>float64</td>\n",
       "    </tr>\n",
       "    <tr>\n",
       "      <th>BASEMENTAREA_MODE</th>\n",
       "      <td>float64</td>\n",
       "    </tr>\n",
       "    <tr>\n",
       "      <th>YEARS_BEGINEXPLUATATION_MODE</th>\n",
       "      <td>float64</td>\n",
       "    </tr>\n",
       "    <tr>\n",
       "      <th>YEARS_BUILD_MODE</th>\n",
       "      <td>float64</td>\n",
       "    </tr>\n",
       "    <tr>\n",
       "      <th>COMMONAREA_MODE</th>\n",
       "      <td>float64</td>\n",
       "    </tr>\n",
       "    <tr>\n",
       "      <th>ELEVATORS_MODE</th>\n",
       "      <td>float64</td>\n",
       "    </tr>\n",
       "    <tr>\n",
       "      <th>ENTRANCES_MODE</th>\n",
       "      <td>float64</td>\n",
       "    </tr>\n",
       "    <tr>\n",
       "      <th>FLOORSMAX_MODE</th>\n",
       "      <td>float64</td>\n",
       "    </tr>\n",
       "    <tr>\n",
       "      <th>FLOORSMIN_MODE</th>\n",
       "      <td>float64</td>\n",
       "    </tr>\n",
       "    <tr>\n",
       "      <th>LANDAREA_MODE</th>\n",
       "      <td>float64</td>\n",
       "    </tr>\n",
       "    <tr>\n",
       "      <th>LIVINGAPARTMENTS_MODE</th>\n",
       "      <td>float64</td>\n",
       "    </tr>\n",
       "  </tbody>\n",
       "</table>\n",
       "</div>"
      ],
      "text/plain": [
       "                                    0\n",
       "CNT_CHILDREN                  float64\n",
       "AMT_INCOME_TOTAL              float64\n",
       "AMT_CREDIT                    float64\n",
       "AMT_ANNUITY                   float64\n",
       "AMT_GOODS_PRICE               float64\n",
       "REGION_POPULATION_RELATIVE    float64\n",
       "DAYS_BIRTH                    float64\n",
       "DAYS_EMPLOYED                 float64\n",
       "DAYS_REGISTRATION             float64\n",
       "DAYS_ID_PUBLISH               float64\n",
       "OWN_CAR_AGE                   float64\n",
       "FLAG_MOBIL                    float64\n",
       "FLAG_EMP_PHONE                float64\n",
       "FLAG_WORK_PHONE               float64\n",
       "FLAG_CONT_MOBILE              float64\n",
       "FLAG_PHONE                    float64\n",
       "FLAG_EMAIL                    float64\n",
       "CNT_FAM_MEMBERS               float64\n",
       "REGION_RATING_CLIENT          float64\n",
       "REGION_RATING_CLIENT_W_CITY   float64\n",
       "HOUR_APPR_PROCESS_START       float64\n",
       "REG_REGION_NOT_LIVE_REGION    float64\n",
       "REG_REGION_NOT_WORK_REGION    float64\n",
       "LIVE_REGION_NOT_WORK_REGION   float64\n",
       "REG_CITY_NOT_LIVE_CITY        float64\n",
       "REG_CITY_NOT_WORK_CITY        float64\n",
       "LIVE_CITY_NOT_WORK_CITY       float64\n",
       "EXT_SOURCE_1                  float64\n",
       "EXT_SOURCE_2                  float64\n",
       "EXT_SOURCE_3                  float64\n",
       "APARTMENTS_AVG                float64\n",
       "BASEMENTAREA_AVG              float64\n",
       "YEARS_BEGINEXPLUATATION_AVG   float64\n",
       "YEARS_BUILD_AVG               float64\n",
       "COMMONAREA_AVG                float64\n",
       "ELEVATORS_AVG                 float64\n",
       "ENTRANCES_AVG                 float64\n",
       "FLOORSMAX_AVG                 float64\n",
       "FLOORSMIN_AVG                 float64\n",
       "LANDAREA_AVG                  float64\n",
       "LIVINGAPARTMENTS_AVG          float64\n",
       "LIVINGAREA_AVG                float64\n",
       "NONLIVINGAPARTMENTS_AVG       float64\n",
       "NONLIVINGAREA_AVG             float64\n",
       "APARTMENTS_MODE               float64\n",
       "BASEMENTAREA_MODE             float64\n",
       "YEARS_BEGINEXPLUATATION_MODE  float64\n",
       "YEARS_BUILD_MODE              float64\n",
       "COMMONAREA_MODE               float64\n",
       "ELEVATORS_MODE                float64\n",
       "ENTRANCES_MODE                float64\n",
       "FLOORSMAX_MODE                float64\n",
       "FLOORSMIN_MODE                float64\n",
       "LANDAREA_MODE                 float64\n",
       "LIVINGAPARTMENTS_MODE         float64"
      ]
     },
     "execution_count": 50,
     "metadata": {},
     "output_type": "execute_result"
    }
   ],
   "source": [
    "types.head(55)"
   ]
  },
  {
   "cell_type": "markdown",
   "id": "vanilla-perspective",
   "metadata": {},
   "source": [
    "### Checking for missing data"
   ]
  },
  {
   "cell_type": "code",
   "execution_count": 33,
   "id": "promotional-washington",
   "metadata": {},
   "outputs": [
    {
     "data": {
      "text/plain": [
       "0"
      ]
     },
     "execution_count": 33,
     "metadata": {},
     "output_type": "execute_result"
    }
   ],
   "source": [
    "np.sum(np.sum(data_df.isna()))"
   ]
  },
  {
   "cell_type": "code",
   "execution_count": 34,
   "id": "widespread-summary",
   "metadata": {},
   "outputs": [
    {
     "data": {
      "text/html": [
       "<div>\n",
       "<style scoped>\n",
       "    .dataframe tbody tr th:only-of-type {\n",
       "        vertical-align: middle;\n",
       "    }\n",
       "\n",
       "    .dataframe tbody tr th {\n",
       "        vertical-align: top;\n",
       "    }\n",
       "\n",
       "    .dataframe thead th {\n",
       "        text-align: right;\n",
       "    }\n",
       "</style>\n",
       "<table border=\"1\" class=\"dataframe\">\n",
       "  <thead>\n",
       "    <tr style=\"text-align: right;\">\n",
       "      <th></th>\n",
       "      <th>CNT_CHILDREN</th>\n",
       "      <th>AMT_INCOME_TOTAL</th>\n",
       "      <th>AMT_CREDIT</th>\n",
       "      <th>AMT_ANNUITY</th>\n",
       "      <th>AMT_GOODS_PRICE</th>\n",
       "      <th>REGION_POPULATION_RELATIVE</th>\n",
       "      <th>DAYS_BIRTH</th>\n",
       "      <th>DAYS_EMPLOYED</th>\n",
       "      <th>DAYS_REGISTRATION</th>\n",
       "      <th>DAYS_ID_PUBLISH</th>\n",
       "      <th>...</th>\n",
       "      <th>FLAG_DOCUMENT_19</th>\n",
       "      <th>FLAG_DOCUMENT_20</th>\n",
       "      <th>FLAG_DOCUMENT_21</th>\n",
       "      <th>AMT_REQ_CREDIT_BUREAU_HOUR</th>\n",
       "      <th>AMT_REQ_CREDIT_BUREAU_DAY</th>\n",
       "      <th>AMT_REQ_CREDIT_BUREAU_WEEK</th>\n",
       "      <th>AMT_REQ_CREDIT_BUREAU_MON</th>\n",
       "      <th>AMT_REQ_CREDIT_BUREAU_QRT</th>\n",
       "      <th>AMT_REQ_CREDIT_BUREAU_YEAR</th>\n",
       "      <th>target</th>\n",
       "    </tr>\n",
       "  </thead>\n",
       "  <tbody>\n",
       "    <tr>\n",
       "      <th>0</th>\n",
       "      <td>-0.577538</td>\n",
       "      <td>0.142129</td>\n",
       "      <td>-0.478095</td>\n",
       "      <td>-0.166149</td>\n",
       "      <td>-0.507465</td>\n",
       "      <td>-0.149452</td>\n",
       "      <td>1.506880</td>\n",
       "      <td>-0.456215</td>\n",
       "      <td>0.379837</td>\n",
       "      <td>0.579154</td>\n",
       "      <td>...</td>\n",
       "      <td>-0.024402</td>\n",
       "      <td>-0.022529</td>\n",
       "      <td>-0.018305</td>\n",
       "      <td>-8.210023e-02</td>\n",
       "      <td>-0.067957</td>\n",
       "      <td>-1.805048e-01</td>\n",
       "      <td>-0.313873</td>\n",
       "      <td>-3.594746e-01</td>\n",
       "      <td>-5.176655e-01</td>\n",
       "      <td>1</td>\n",
       "    </tr>\n",
       "    <tr>\n",
       "      <th>1</th>\n",
       "      <td>-0.577538</td>\n",
       "      <td>0.426792</td>\n",
       "      <td>1.725450</td>\n",
       "      <td>0.592677</td>\n",
       "      <td>1.600698</td>\n",
       "      <td>-1.252750</td>\n",
       "      <td>-0.166821</td>\n",
       "      <td>-0.460115</td>\n",
       "      <td>1.078697</td>\n",
       "      <td>1.790855</td>\n",
       "      <td>...</td>\n",
       "      <td>-0.024402</td>\n",
       "      <td>-0.022529</td>\n",
       "      <td>-0.018305</td>\n",
       "      <td>-8.210023e-02</td>\n",
       "      <td>-0.067957</td>\n",
       "      <td>-1.805048e-01</td>\n",
       "      <td>-0.313873</td>\n",
       "      <td>-3.594746e-01</td>\n",
       "      <td>-1.092866e+00</td>\n",
       "      <td>0</td>\n",
       "    </tr>\n",
       "    <tr>\n",
       "      <th>2</th>\n",
       "      <td>-0.577538</td>\n",
       "      <td>-0.427196</td>\n",
       "      <td>-1.152888</td>\n",
       "      <td>-1.404676</td>\n",
       "      <td>-1.092389</td>\n",
       "      <td>-0.783451</td>\n",
       "      <td>-0.689509</td>\n",
       "      <td>-0.453299</td>\n",
       "      <td>0.206116</td>\n",
       "      <td>0.306869</td>\n",
       "      <td>...</td>\n",
       "      <td>-0.024402</td>\n",
       "      <td>-0.022529</td>\n",
       "      <td>-0.018305</td>\n",
       "      <td>-8.210023e-02</td>\n",
       "      <td>-0.067957</td>\n",
       "      <td>-1.805048e-01</td>\n",
       "      <td>-0.313873</td>\n",
       "      <td>-3.594746e-01</td>\n",
       "      <td>-1.092866e+00</td>\n",
       "      <td>0</td>\n",
       "    </tr>\n",
       "    <tr>\n",
       "      <th>3</th>\n",
       "      <td>-0.577538</td>\n",
       "      <td>-0.142533</td>\n",
       "      <td>-0.711430</td>\n",
       "      <td>0.177869</td>\n",
       "      <td>-0.653696</td>\n",
       "      <td>-0.928991</td>\n",
       "      <td>-0.680114</td>\n",
       "      <td>-0.473217</td>\n",
       "      <td>-1.375829</td>\n",
       "      <td>0.369143</td>\n",
       "      <td>...</td>\n",
       "      <td>-0.024402</td>\n",
       "      <td>-0.022529</td>\n",
       "      <td>-0.018305</td>\n",
       "      <td>3.336720e-17</td>\n",
       "      <td>0.000000</td>\n",
       "      <td>-3.645032e-17</td>\n",
       "      <td>0.000000</td>\n",
       "      <td>-7.516682e-17</td>\n",
       "      <td>-3.831603e-16</td>\n",
       "      <td>0</td>\n",
       "    </tr>\n",
       "    <tr>\n",
       "      <th>4</th>\n",
       "      <td>-0.577538</td>\n",
       "      <td>-0.199466</td>\n",
       "      <td>-0.213734</td>\n",
       "      <td>-0.361755</td>\n",
       "      <td>-0.068772</td>\n",
       "      <td>0.563570</td>\n",
       "      <td>-0.892535</td>\n",
       "      <td>-0.473210</td>\n",
       "      <td>0.191639</td>\n",
       "      <td>-0.307263</td>\n",
       "      <td>...</td>\n",
       "      <td>-0.024402</td>\n",
       "      <td>-0.022529</td>\n",
       "      <td>-0.018305</td>\n",
       "      <td>-8.210023e-02</td>\n",
       "      <td>-0.067957</td>\n",
       "      <td>-1.805048e-01</td>\n",
       "      <td>-0.313873</td>\n",
       "      <td>-3.594746e-01</td>\n",
       "      <td>-1.092866e+00</td>\n",
       "      <td>0</td>\n",
       "    </tr>\n",
       "  </tbody>\n",
       "</table>\n",
       "<p>5 rows × 105 columns</p>\n",
       "</div>"
      ],
      "text/plain": [
       "   CNT_CHILDREN  AMT_INCOME_TOTAL  AMT_CREDIT  AMT_ANNUITY  AMT_GOODS_PRICE  \\\n",
       "0     -0.577538          0.142129   -0.478095    -0.166149        -0.507465   \n",
       "1     -0.577538          0.426792    1.725450     0.592677         1.600698   \n",
       "2     -0.577538         -0.427196   -1.152888    -1.404676        -1.092389   \n",
       "3     -0.577538         -0.142533   -0.711430     0.177869        -0.653696   \n",
       "4     -0.577538         -0.199466   -0.213734    -0.361755        -0.068772   \n",
       "\n",
       "   REGION_POPULATION_RELATIVE  DAYS_BIRTH  DAYS_EMPLOYED  DAYS_REGISTRATION  \\\n",
       "0                   -0.149452    1.506880      -0.456215           0.379837   \n",
       "1                   -1.252750   -0.166821      -0.460115           1.078697   \n",
       "2                   -0.783451   -0.689509      -0.453299           0.206116   \n",
       "3                   -0.928991   -0.680114      -0.473217          -1.375829   \n",
       "4                    0.563570   -0.892535      -0.473210           0.191639   \n",
       "\n",
       "   DAYS_ID_PUBLISH  ...  FLAG_DOCUMENT_19  FLAG_DOCUMENT_20  FLAG_DOCUMENT_21  \\\n",
       "0         0.579154  ...         -0.024402         -0.022529         -0.018305   \n",
       "1         1.790855  ...         -0.024402         -0.022529         -0.018305   \n",
       "2         0.306869  ...         -0.024402         -0.022529         -0.018305   \n",
       "3         0.369143  ...         -0.024402         -0.022529         -0.018305   \n",
       "4        -0.307263  ...         -0.024402         -0.022529         -0.018305   \n",
       "\n",
       "   AMT_REQ_CREDIT_BUREAU_HOUR  AMT_REQ_CREDIT_BUREAU_DAY  \\\n",
       "0               -8.210023e-02                  -0.067957   \n",
       "1               -8.210023e-02                  -0.067957   \n",
       "2               -8.210023e-02                  -0.067957   \n",
       "3                3.336720e-17                   0.000000   \n",
       "4               -8.210023e-02                  -0.067957   \n",
       "\n",
       "   AMT_REQ_CREDIT_BUREAU_WEEK  AMT_REQ_CREDIT_BUREAU_MON  \\\n",
       "0               -1.805048e-01                  -0.313873   \n",
       "1               -1.805048e-01                  -0.313873   \n",
       "2               -1.805048e-01                  -0.313873   \n",
       "3               -3.645032e-17                   0.000000   \n",
       "4               -1.805048e-01                  -0.313873   \n",
       "\n",
       "   AMT_REQ_CREDIT_BUREAU_QRT  AMT_REQ_CREDIT_BUREAU_YEAR  target  \n",
       "0              -3.594746e-01               -5.176655e-01       1  \n",
       "1              -3.594746e-01               -1.092866e+00       0  \n",
       "2              -3.594746e-01               -1.092866e+00       0  \n",
       "3              -7.516682e-17               -3.831603e-16       0  \n",
       "4              -3.594746e-01               -1.092866e+00       0  \n",
       "\n",
       "[5 rows x 105 columns]"
      ]
     },
     "execution_count": 34,
     "metadata": {},
     "output_type": "execute_result"
    }
   ],
   "source": [
    "data_df.head()"
   ]
  },
  {
   "cell_type": "code",
   "execution_count": 35,
   "id": "charming-adjustment",
   "metadata": {},
   "outputs": [
    {
     "data": {
      "text/html": [
       "<div>\n",
       "<style scoped>\n",
       "    .dataframe tbody tr th:only-of-type {\n",
       "        vertical-align: middle;\n",
       "    }\n",
       "\n",
       "    .dataframe tbody tr th {\n",
       "        vertical-align: top;\n",
       "    }\n",
       "\n",
       "    .dataframe thead th {\n",
       "        text-align: right;\n",
       "    }\n",
       "</style>\n",
       "<table border=\"1\" class=\"dataframe\">\n",
       "  <thead>\n",
       "    <tr style=\"text-align: right;\">\n",
       "      <th></th>\n",
       "      <th>CNT_CHILDREN</th>\n",
       "      <th>AMT_INCOME_TOTAL</th>\n",
       "      <th>AMT_CREDIT</th>\n",
       "      <th>AMT_ANNUITY</th>\n",
       "      <th>AMT_GOODS_PRICE</th>\n",
       "      <th>REGION_POPULATION_RELATIVE</th>\n",
       "      <th>DAYS_BIRTH</th>\n",
       "      <th>DAYS_EMPLOYED</th>\n",
       "      <th>DAYS_REGISTRATION</th>\n",
       "      <th>DAYS_ID_PUBLISH</th>\n",
       "      <th>...</th>\n",
       "      <th>FLAG_DOCUMENT_19</th>\n",
       "      <th>FLAG_DOCUMENT_20</th>\n",
       "      <th>FLAG_DOCUMENT_21</th>\n",
       "      <th>AMT_REQ_CREDIT_BUREAU_HOUR</th>\n",
       "      <th>AMT_REQ_CREDIT_BUREAU_DAY</th>\n",
       "      <th>AMT_REQ_CREDIT_BUREAU_WEEK</th>\n",
       "      <th>AMT_REQ_CREDIT_BUREAU_MON</th>\n",
       "      <th>AMT_REQ_CREDIT_BUREAU_QRT</th>\n",
       "      <th>AMT_REQ_CREDIT_BUREAU_YEAR</th>\n",
       "      <th>target</th>\n",
       "    </tr>\n",
       "  </thead>\n",
       "  <tbody>\n",
       "    <tr>\n",
       "      <th>count</th>\n",
       "      <td>3.075110e+05</td>\n",
       "      <td>3.075110e+05</td>\n",
       "      <td>3.075110e+05</td>\n",
       "      <td>3.075110e+05</td>\n",
       "      <td>3.075110e+05</td>\n",
       "      <td>3.075110e+05</td>\n",
       "      <td>3.075110e+05</td>\n",
       "      <td>3.075110e+05</td>\n",
       "      <td>3.075110e+05</td>\n",
       "      <td>3.075110e+05</td>\n",
       "      <td>...</td>\n",
       "      <td>3.075110e+05</td>\n",
       "      <td>3.075110e+05</td>\n",
       "      <td>3.075110e+05</td>\n",
       "      <td>3.075110e+05</td>\n",
       "      <td>3.075110e+05</td>\n",
       "      <td>3.075110e+05</td>\n",
       "      <td>3.075110e+05</td>\n",
       "      <td>3.075110e+05</td>\n",
       "      <td>3.075110e+05</td>\n",
       "      <td>307511.000000</td>\n",
       "    </tr>\n",
       "    <tr>\n",
       "      <th>mean</th>\n",
       "      <td>-3.225633e-17</td>\n",
       "      <td>-1.220299e-17</td>\n",
       "      <td>-3.880695e-17</td>\n",
       "      <td>4.621251e-17</td>\n",
       "      <td>6.585514e-16</td>\n",
       "      <td>3.335850e-16</td>\n",
       "      <td>3.350407e-17</td>\n",
       "      <td>4.311627e-17</td>\n",
       "      <td>-6.469751e-18</td>\n",
       "      <td>6.757424e-17</td>\n",
       "      <td>...</td>\n",
       "      <td>-7.625064e-18</td>\n",
       "      <td>-1.940925e-18</td>\n",
       "      <td>6.053839e-18</td>\n",
       "      <td>5.753457e-17</td>\n",
       "      <td>2.768129e-17</td>\n",
       "      <td>-5.857435e-17</td>\n",
       "      <td>1.187661e-17</td>\n",
       "      <td>-1.688490e-17</td>\n",
       "      <td>-3.288482e-16</td>\n",
       "      <td>0.080729</td>\n",
       "    </tr>\n",
       "    <tr>\n",
       "      <th>std</th>\n",
       "      <td>1.000002e+00</td>\n",
       "      <td>1.000002e+00</td>\n",
       "      <td>1.000002e+00</td>\n",
       "      <td>1.000002e+00</td>\n",
       "      <td>1.000002e+00</td>\n",
       "      <td>1.000002e+00</td>\n",
       "      <td>1.000002e+00</td>\n",
       "      <td>1.000002e+00</td>\n",
       "      <td>1.000002e+00</td>\n",
       "      <td>1.000002e+00</td>\n",
       "      <td>...</td>\n",
       "      <td>1.000002e+00</td>\n",
       "      <td>1.000002e+00</td>\n",
       "      <td>1.000002e+00</td>\n",
       "      <td>1.000002e+00</td>\n",
       "      <td>1.000002e+00</td>\n",
       "      <td>1.000002e+00</td>\n",
       "      <td>1.000002e+00</td>\n",
       "      <td>1.000002e+00</td>\n",
       "      <td>1.000002e+00</td>\n",
       "      <td>0.272419</td>\n",
       "    </tr>\n",
       "    <tr>\n",
       "      <th>min</th>\n",
       "      <td>-5.775378e-01</td>\n",
       "      <td>-6.036870e-01</td>\n",
       "      <td>-1.376496e+00</td>\n",
       "      <td>-1.758940e+00</td>\n",
       "      <td>-1.348293e+00</td>\n",
       "      <td>-1.487798e+00</td>\n",
       "      <td>-2.106335e+00</td>\n",
       "      <td>-5.784940e-01</td>\n",
       "      <td>-5.588007e+00</td>\n",
       "      <td>-2.784328e+00</td>\n",
       "      <td>...</td>\n",
       "      <td>-2.440195e-02</td>\n",
       "      <td>-2.252901e-02</td>\n",
       "      <td>-1.830463e-02</td>\n",
       "      <td>-8.210023e-02</td>\n",
       "      <td>-6.795715e-02</td>\n",
       "      <td>-1.805048e-01</td>\n",
       "      <td>-3.138730e-01</td>\n",
       "      <td>-3.594746e-01</td>\n",
       "      <td>-1.092866e+00</td>\n",
       "      <td>0.000000</td>\n",
       "    </tr>\n",
       "    <tr>\n",
       "      <th>25%</th>\n",
       "      <td>-5.775378e-01</td>\n",
       "      <td>-2.374210e-01</td>\n",
       "      <td>-8.174760e-01</td>\n",
       "      <td>-7.303015e-01</td>\n",
       "      <td>-8.121132e-01</td>\n",
       "      <td>-7.853308e-01</td>\n",
       "      <td>-8.352476e-01</td>\n",
       "      <td>-4.712426e-01</td>\n",
       "      <td>-7.077673e-01</td>\n",
       "      <td>-8.644204e-01</td>\n",
       "      <td>...</td>\n",
       "      <td>-2.440195e-02</td>\n",
       "      <td>-2.252901e-02</td>\n",
       "      <td>-1.830463e-02</td>\n",
       "      <td>-8.210023e-02</td>\n",
       "      <td>-6.795715e-02</td>\n",
       "      <td>-1.805048e-01</td>\n",
       "      <td>-3.138730e-01</td>\n",
       "      <td>-3.594746e-01</td>\n",
       "      <td>-5.176655e-01</td>\n",
       "      <td>0.000000</td>\n",
       "    </tr>\n",
       "    <tr>\n",
       "      <th>50%</th>\n",
       "      <td>-5.775378e-01</td>\n",
       "      <td>-9.129414e-02</td>\n",
       "      <td>-2.124151e-01</td>\n",
       "      <td>-1.521775e-01</td>\n",
       "      <td>-2.393752e-01</td>\n",
       "      <td>-1.459095e-01</td>\n",
       "      <td>6.576450e-02</td>\n",
       "      <td>-4.602923e-01</td>\n",
       "      <td>1.368540e-01</td>\n",
       "      <td>-1.721143e-01</td>\n",
       "      <td>...</td>\n",
       "      <td>-2.440195e-02</td>\n",
       "      <td>-2.252901e-02</td>\n",
       "      <td>-1.830463e-02</td>\n",
       "      <td>-8.210023e-02</td>\n",
       "      <td>-6.795715e-02</td>\n",
       "      <td>-1.805048e-01</td>\n",
       "      <td>-3.138730e-01</td>\n",
       "      <td>-3.594746e-01</td>\n",
       "      <td>-3.831603e-16</td>\n",
       "      <td>0.000000</td>\n",
       "    </tr>\n",
       "    <tr>\n",
       "      <th>75%</th>\n",
       "      <td>8.072731e-01</td>\n",
       "      <td>1.421293e-01</td>\n",
       "      <td>5.208178e-01</td>\n",
       "      <td>5.166083e-01</td>\n",
       "      <td>3.821064e-01</td>\n",
       "      <td>5.635704e-01</td>\n",
       "      <td>8.304332e-01</td>\n",
       "      <td>-4.537519e-01</td>\n",
       "      <td>8.447974e-01</td>\n",
       "      <td>8.441512e-01</td>\n",
       "      <td>...</td>\n",
       "      <td>-2.440195e-02</td>\n",
       "      <td>-2.252901e-02</td>\n",
       "      <td>-1.830463e-02</td>\n",
       "      <td>-8.210023e-02</td>\n",
       "      <td>-6.795715e-02</td>\n",
       "      <td>-1.805048e-01</td>\n",
       "      <td>0.000000e+00</td>\n",
       "      <td>-7.516682e-17</td>\n",
       "      <td>6.327349e-01</td>\n",
       "      <td>0.000000</td>\n",
       "    </tr>\n",
       "    <tr>\n",
       "      <th>max</th>\n",
       "      <td>2.573387e+01</td>\n",
       "      <td>4.927034e+02</td>\n",
       "      <td>8.574059e+00</td>\n",
       "      <td>1.593252e+01</td>\n",
       "      <td>9.509356e+00</td>\n",
       "      <td>3.733564e+00</td>\n",
       "      <td>1.958761e+00</td>\n",
       "      <td>2.133617e+00</td>\n",
       "      <td>1.415353e+00</td>\n",
       "      <td>1.983641e+00</td>\n",
       "      <td>...</td>\n",
       "      <td>4.098034e+01</td>\n",
       "      <td>4.438721e+01</td>\n",
       "      <td>5.463098e+01</td>\n",
       "      <td>5.121092e+01</td>\n",
       "      <td>8.730290e+01</td>\n",
       "      <td>4.184385e+01</td>\n",
       "      <td>3.137918e+01</td>\n",
       "      <td>3.530567e+02</td>\n",
       "      <td>1.328714e+01</td>\n",
       "      <td>1.000000</td>\n",
       "    </tr>\n",
       "  </tbody>\n",
       "</table>\n",
       "<p>8 rows × 105 columns</p>\n",
       "</div>"
      ],
      "text/plain": [
       "       CNT_CHILDREN  AMT_INCOME_TOTAL    AMT_CREDIT   AMT_ANNUITY  \\\n",
       "count  3.075110e+05      3.075110e+05  3.075110e+05  3.075110e+05   \n",
       "mean  -3.225633e-17     -1.220299e-17 -3.880695e-17  4.621251e-17   \n",
       "std    1.000002e+00      1.000002e+00  1.000002e+00  1.000002e+00   \n",
       "min   -5.775378e-01     -6.036870e-01 -1.376496e+00 -1.758940e+00   \n",
       "25%   -5.775378e-01     -2.374210e-01 -8.174760e-01 -7.303015e-01   \n",
       "50%   -5.775378e-01     -9.129414e-02 -2.124151e-01 -1.521775e-01   \n",
       "75%    8.072731e-01      1.421293e-01  5.208178e-01  5.166083e-01   \n",
       "max    2.573387e+01      4.927034e+02  8.574059e+00  1.593252e+01   \n",
       "\n",
       "       AMT_GOODS_PRICE  REGION_POPULATION_RELATIVE    DAYS_BIRTH  \\\n",
       "count     3.075110e+05                3.075110e+05  3.075110e+05   \n",
       "mean      6.585514e-16                3.335850e-16  3.350407e-17   \n",
       "std       1.000002e+00                1.000002e+00  1.000002e+00   \n",
       "min      -1.348293e+00               -1.487798e+00 -2.106335e+00   \n",
       "25%      -8.121132e-01               -7.853308e-01 -8.352476e-01   \n",
       "50%      -2.393752e-01               -1.459095e-01  6.576450e-02   \n",
       "75%       3.821064e-01                5.635704e-01  8.304332e-01   \n",
       "max       9.509356e+00                3.733564e+00  1.958761e+00   \n",
       "\n",
       "       DAYS_EMPLOYED  DAYS_REGISTRATION  DAYS_ID_PUBLISH  ...  \\\n",
       "count   3.075110e+05       3.075110e+05     3.075110e+05  ...   \n",
       "mean    4.311627e-17      -6.469751e-18     6.757424e-17  ...   \n",
       "std     1.000002e+00       1.000002e+00     1.000002e+00  ...   \n",
       "min    -5.784940e-01      -5.588007e+00    -2.784328e+00  ...   \n",
       "25%    -4.712426e-01      -7.077673e-01    -8.644204e-01  ...   \n",
       "50%    -4.602923e-01       1.368540e-01    -1.721143e-01  ...   \n",
       "75%    -4.537519e-01       8.447974e-01     8.441512e-01  ...   \n",
       "max     2.133617e+00       1.415353e+00     1.983641e+00  ...   \n",
       "\n",
       "       FLAG_DOCUMENT_19  FLAG_DOCUMENT_20  FLAG_DOCUMENT_21  \\\n",
       "count      3.075110e+05      3.075110e+05      3.075110e+05   \n",
       "mean      -7.625064e-18     -1.940925e-18      6.053839e-18   \n",
       "std        1.000002e+00      1.000002e+00      1.000002e+00   \n",
       "min       -2.440195e-02     -2.252901e-02     -1.830463e-02   \n",
       "25%       -2.440195e-02     -2.252901e-02     -1.830463e-02   \n",
       "50%       -2.440195e-02     -2.252901e-02     -1.830463e-02   \n",
       "75%       -2.440195e-02     -2.252901e-02     -1.830463e-02   \n",
       "max        4.098034e+01      4.438721e+01      5.463098e+01   \n",
       "\n",
       "       AMT_REQ_CREDIT_BUREAU_HOUR  AMT_REQ_CREDIT_BUREAU_DAY  \\\n",
       "count                3.075110e+05               3.075110e+05   \n",
       "mean                 5.753457e-17               2.768129e-17   \n",
       "std                  1.000002e+00               1.000002e+00   \n",
       "min                 -8.210023e-02              -6.795715e-02   \n",
       "25%                 -8.210023e-02              -6.795715e-02   \n",
       "50%                 -8.210023e-02              -6.795715e-02   \n",
       "75%                 -8.210023e-02              -6.795715e-02   \n",
       "max                  5.121092e+01               8.730290e+01   \n",
       "\n",
       "       AMT_REQ_CREDIT_BUREAU_WEEK  AMT_REQ_CREDIT_BUREAU_MON  \\\n",
       "count                3.075110e+05               3.075110e+05   \n",
       "mean                -5.857435e-17               1.187661e-17   \n",
       "std                  1.000002e+00               1.000002e+00   \n",
       "min                 -1.805048e-01              -3.138730e-01   \n",
       "25%                 -1.805048e-01              -3.138730e-01   \n",
       "50%                 -1.805048e-01              -3.138730e-01   \n",
       "75%                 -1.805048e-01               0.000000e+00   \n",
       "max                  4.184385e+01               3.137918e+01   \n",
       "\n",
       "       AMT_REQ_CREDIT_BUREAU_QRT  AMT_REQ_CREDIT_BUREAU_YEAR         target  \n",
       "count               3.075110e+05                3.075110e+05  307511.000000  \n",
       "mean               -1.688490e-17               -3.288482e-16       0.080729  \n",
       "std                 1.000002e+00                1.000002e+00       0.272419  \n",
       "min                -3.594746e-01               -1.092866e+00       0.000000  \n",
       "25%                -3.594746e-01               -5.176655e-01       0.000000  \n",
       "50%                -3.594746e-01               -3.831603e-16       0.000000  \n",
       "75%                -7.516682e-17                6.327349e-01       0.000000  \n",
       "max                 3.530567e+02                1.328714e+01       1.000000  \n",
       "\n",
       "[8 rows x 105 columns]"
      ]
     },
     "execution_count": 35,
     "metadata": {},
     "output_type": "execute_result"
    }
   ],
   "source": [
    "data_df.describe()"
   ]
  },
  {
   "cell_type": "code",
   "execution_count": 36,
   "id": "living-arrest",
   "metadata": {},
   "outputs": [
    {
     "data": {
      "text/plain": [
       "(array([2.7649e+05, 3.0466e+04, 5.1300e+02, 2.8000e+01, 4.0000e+00,\n",
       "        3.0000e+00, 2.0000e+00, 3.0000e+00, 0.0000e+00, 2.0000e+00]),\n",
       " array([-0.57753784,  2.05360303,  4.6847439 ,  7.31588478,  9.94702565,\n",
       "        12.57816652, 15.20930739, 17.84044826, 20.47158914, 23.10273001,\n",
       "        25.73387088]),\n",
       " <BarContainer object of 10 artists>)"
      ]
     },
     "execution_count": 36,
     "metadata": {},
     "output_type": "execute_result"
    },
    {
     "data": {
      "image/png": "[encoded data removed]",
      "text/plain": [
       "<Figure size 432x288 with 1 Axes>"
      ]
     },
     "metadata": {
      "needs_background": "light"
     },
     "output_type": "display_data"
    }
   ],
   "source": [
    "plt.hist(data_df['CNT_CHILDREN'])"
   ]
  },
  {
   "cell_type": "code",
   "execution_count": 41,
   "id": "central-fossil",
   "metadata": {},
   "outputs": [
    {
     "data": {
      "text/plain": [
       "(array([3.0751e+05, 0.0000e+00, 0.0000e+00, 0.0000e+00, 0.0000e+00,\n",
       "        0.0000e+00, 0.0000e+00, 0.0000e+00, 0.0000e+00, 1.0000e+00]),\n",
       " array([ -0.35947456,  34.98214314,  70.32376084, 105.66537854,\n",
       "        141.00699624, 176.34861394, 211.69023164, 247.03184934,\n",
       "        282.37346704, 317.71508474, 353.05670244]),\n",
       " <BarContainer object of 10 artists>)"
      ]
     },
     "execution_count": 41,
     "metadata": {},
     "output_type": "execute_result"
    },
    {
     "data": {
      "image/png": "[encoded data removed]",
      "text/plain": [
       "<Figure size 432x288 with 1 Axes>"
      ]
     },
     "metadata": {
      "needs_background": "light"
     },
     "output_type": "display_data"
    }
   ],
   "source": [
    "plt.hist(data_df['AMT_REQ_CREDIT_BUREAU_QRT'])"
   ]
  },
  {
   "cell_type": "code",
   "execution_count": 43,
   "id": "lightweight-wholesale",
   "metadata": {},
   "outputs": [
    {
     "data": {
      "text/plain": [
       " 0.639065    218340\n",
       "-1.564786     89171\n",
       "Name: FLAG_DOCUMENT_3, dtype: int64"
      ]
     },
     "execution_count": 43,
     "metadata": {},
     "output_type": "execute_result"
    }
   ],
   "source": [
    "data_df['FLAG_DOCUMENT_3'].value_counts()"
   ]
  },
  {
   "cell_type": "code",
   "execution_count": 51,
   "id": "empty-inside",
   "metadata": {},
   "outputs": [
    {
     "data": {
      "text/plain": [
       "-9.719244e-14    163891\n",
       "-8.241475e-01     89498\n",
       " 6.760339e-02     11629\n",
       " 9.582479e-01      9675\n",
       " 1.849999e+00      6379\n",
       " 5.123725e-01      5734\n",
       "-3.782721e-01      4876\n",
       " 1.404123e+00      3962\n",
       " 2.740643e+00      2887\n",
       " 2.295874e+00      2135\n",
       " 3.632394e+00      1554\n",
       " 3.186519e+00      1308\n",
       " 4.524145e+00      1094\n",
       " 4.078270e+00       628\n",
       " 5.414790e+00       491\n",
       " 6.306541e+00       447\n",
       " 4.968914e+00       253\n",
       " 5.860665e+00       226\n",
       " 7.197185e+00       219\n",
       " 1.023976e+01       144\n",
       " 8.088936e+00       137\n",
       " 6.752416e+00        99\n",
       " 9.871331e+00        87\n",
       " 8.980687e+00        66\n",
       " 7.643061e+00        38\n",
       " 8.534812e+00        34\n",
       " 9.425456e+00        20\n",
       "Name: ELEVATORS_MODE, dtype: int64"
      ]
     },
     "execution_count": 51,
     "metadata": {},
     "output_type": "execute_result"
    }
   ],
   "source": [
    "data_df['ELEVATORS_MODE'].value_counts()"
   ]
  },
  {
   "cell_type": "markdown",
   "id": "divided-editing",
   "metadata": {},
   "source": [
    "### Preparing the dataset to train"
   ]
  },
  {
   "cell_type": "code",
   "execution_count": 6,
   "id": "bottom-layer",
   "metadata": {},
   "outputs": [],
   "source": [
    "train_df, test_df = train_test_split(data_df, test_size=0.2, random_state=42)\n",
    "train_df, val_df = train_test_split(train_df, test_size=0.2, random_state=42)"
   ]
  },
  {
   "cell_type": "code",
   "execution_count": 7,
   "id": "ordinary-anger",
   "metadata": {},
   "outputs": [],
   "source": [
    "# Form np arrays of labels and features.\n",
    "train_labels = np.array(train_df.pop('target'))\n",
    "val_labels = np.array(val_df.pop('target'))\n",
    "test_labels = np.array(test_df.pop('target'))\n",
    "\n",
    "train_features = np.array(train_df)\n",
    "val_features = np.array(val_df)\n",
    "test_features = np.array(test_df)"
   ]
  },
  {
   "cell_type": "markdown",
   "id": "boolean-turner",
   "metadata": {},
   "source": [
    "Normalize the data"
   ]
  },
  {
   "cell_type": "code",
   "execution_count": 8,
   "id": "dated-brooklyn",
   "metadata": {},
   "outputs": [],
   "source": [
    "scaler = StandardScaler()\n",
    "train_features = scaler.fit_transform(train_features)\n",
    "\n",
    "val_features = scaler.transform(val_features)\n",
    "test_features = scaler.transform(test_features)\n",
    "\n",
    "train_features = np.clip(train_features, -5, 5)\n",
    "val_features = np.clip(val_features, -5, 5)\n",
    "test_features = np.clip(test_features, -5, 5)"
   ]
  },
  {
   "cell_type": "markdown",
   "id": "coordinated-residence",
   "metadata": {},
   "source": [
    "### Oversampling"
   ]
  },
  {
   "cell_type": "code",
   "execution_count": 9,
   "id": "lasting-electricity",
   "metadata": {},
   "outputs": [],
   "source": [
    "from imblearn.over_sampling import SMOTE\n",
    "oversample = SMOTE()\n",
    "\n",
    "X_train_oversampled, y_oversampled = oversample.fit_resample(train_features, train_labels)"
   ]
  },
  {
   "cell_type": "markdown",
   "id": "permanent-oasis",
   "metadata": {},
   "source": [
    "### Define the model metrics"
   ]
  },
  {
   "cell_type": "code",
   "execution_count": 10,
   "id": "potential-relations",
   "metadata": {},
   "outputs": [],
   "source": [
    "METRICS = [\n",
    "      keras.metrics.TruePositives(name='tp'),\n",
    "      keras.metrics.FalsePositives(name='fp'),\n",
    "      keras.metrics.TrueNegatives(name='tn'),\n",
    "      keras.metrics.FalseNegatives(name='fn'), \n",
    "      keras.metrics.BinaryAccuracy(name='accuracy'),\n",
    "      keras.metrics.Precision(name='precision'),\n",
    "      keras.metrics.Recall(name='recall'),\n",
    "      keras.metrics.AUC(name='auc'),\n",
    "      keras.metrics.AUC(name='prc', curve='PR'), # precision-recall curve\n",
    "]\n",
    "\n",
    "def make_model(metrics=METRICS, output_bias=None):\n",
    "    if output_bias is not None:\n",
    "        output_bias = tf.keras.initializers.Constant(output_bias)\n",
    "    # underfitting. \n",
    "    model = keras.Sequential([\n",
    "      keras.layers.Dense(\n",
    "          16, activation='relu',\n",
    "          input_shape=(train_features.shape[-1],)),\n",
    "      keras.layers.Dropout(0.5),\n",
    "      keras.layers.Dense(1, activation='sigmoid',\n",
    "                         bias_initializer=output_bias),\n",
    "    ])\n",
    "#     model = tf.keras.Sequential([\n",
    "#         tf.keras.layers.Dense(40, input_shape=(train_features.shape[-1],), activation='relu'),\n",
    "#         tf.keras.layers.Dropout(0.3),\n",
    "#         tf.keras.layers.Dense(60, activation='relu'),\n",
    "#         tf.keras.layers.Dropout(0.3),\n",
    "#         tf.keras.layers.Dense(20, activation='relu'),\n",
    "#         tf.keras.layers.Dropout(0.3),\n",
    "#         tf.keras.layers.Dense(1, activation='sigmoid')\n",
    "#     ])\n",
    "#     model = tf.keras.Sequential([\n",
    "#         tf.keras.layers.Dense(80, input_shape=(train_features.shape[-1],), activation='relu'),\n",
    "#         tf.keras.layers.Dropout(0.4),\n",
    "#         tf.keras.layers.Dense(80, activation='relu'),\n",
    "#         tf.keras.layers.Dropout(0.2),\n",
    "#         tf.keras.layers.Dense(40, activation='relu'),\n",
    "#         tf.keras.layers.Dense(1, activation='sigmoid')\n",
    "#     ])\n",
    "\n",
    "    model.compile(\n",
    "      optimizer=keras.optimizers.Adam(learning_rate=1e-3),\n",
    "      loss=keras.losses.BinaryCrossentropy(),\n",
    "      metrics=metrics)\n",
    "\n",
    "    return model"
   ]
  },
  {
   "cell_type": "code",
   "execution_count": 11,
   "id": "covered-planner",
   "metadata": {},
   "outputs": [],
   "source": [
    "def plot_loss(history, label, n):\n",
    "  # Use a log scale on y-axis to show the wide range of values.\n",
    "  plt.semilogy(history.epoch, history.history['loss'],\n",
    "               color=colors[n], label='Train ' + label)\n",
    "  plt.semilogy(history.epoch, history.history['val_loss'],\n",
    "               color=colors[n], label='Val ' + label,\n",
    "               linestyle=\"--\")\n",
    "  plt.xlabel('Epoch')\n",
    "  plt.ylabel('Loss')"
   ]
  },
  {
   "cell_type": "code",
   "execution_count": 12,
   "id": "institutional-neighbor",
   "metadata": {},
   "outputs": [],
   "source": [
    "EPOCHS = 100\n",
    "BATCH_SIZE = 2048\n",
    "# BATCH_SIZE = 250\n",
    "\n",
    "early_stopping = tf.keras.callbacks.EarlyStopping(\n",
    "#     monitor='val_prc', \n",
    "    monitor=\"val_auc\",\n",
    "    verbose=1,\n",
    "    patience=10,\n",
    "    mode='max',\n",
    "    restore_best_weights=True)"
   ]
  },
  {
   "cell_type": "markdown",
   "id": "suffering-chamber",
   "metadata": {},
   "source": [
    "### Check training history"
   ]
  },
  {
   "cell_type": "code",
   "execution_count": 13,
   "id": "handmade-effort",
   "metadata": {},
   "outputs": [],
   "source": [
    "def plot_metrics(history):\n",
    "  metrics = ['loss', 'prc', 'precision', 'recall']\n",
    "  for n, metric in enumerate(metrics):\n",
    "    name = metric.replace(\"_\",\" \").capitalize()\n",
    "    plt.subplot(2,2,n+1)\n",
    "    plt.plot(history.epoch, history.history[metric], color=colors[0], label='Train')\n",
    "    plt.plot(history.epoch, history.history['val_'+metric],\n",
    "             color=colors[0], linestyle=\"--\", label='Val')\n",
    "    plt.xlabel('Epoch')\n",
    "    plt.ylabel(name)\n",
    "    if metric == 'loss':\n",
    "      plt.ylim([0, plt.ylim()[1]])\n",
    "    elif metric == 'auc':\n",
    "      plt.ylim([0.8,1])\n",
    "    else:\n",
    "      plt.ylim([0,1])\n",
    "\n",
    "    plt.legend()"
   ]
  },
  {
   "cell_type": "markdown",
   "id": "functional-surgeon",
   "metadata": {},
   "source": [
    "### Evaluate metrics\n",
    "You can use a confusion matrix to summarize the actual vs. predicted labels, where the X axis is the predicted label and the Y axis is the actual label. "
   ]
  },
  {
   "cell_type": "code",
   "execution_count": 14,
   "id": "simple-employee",
   "metadata": {},
   "outputs": [],
   "source": [
    "def plot_cm(labels, predictions, p=0.5):\n",
    "    cm = confusion_matrix(labels, predictions > p)\n",
    "    plt.figure(figsize=(5,5))\n",
    "    sns.heatmap(cm, annot=True, fmt=\"d\")\n",
    "    plt.title('Confusion matrix @{:.2f}'.format(p))\n",
    "    plt.ylabel('Actual label')\n",
    "    plt.xlabel('Predicted label')\n",
    "    plt.show()\n",
    "\n",
    "    print('Legitimate Transactions Detected (True Negatives): ', cm[0][0])\n",
    "    print('Legitimate Transactions Incorrectly Detected (False Positives): ', cm[0][1])\n",
    "    print('Fraudulent Transactions Missed (False Negatives): ', cm[1][0])\n",
    "    print('Fraudulent Transactions Detected (True Positives): ', cm[1][1])\n",
    "    print('Total Fraudulent Transactions: ', np.sum(cm[1]))"
   ]
  },
  {
   "cell_type": "markdown",
   "id": "raised-offense",
   "metadata": {},
   "source": [
    "### ROC"
   ]
  },
  {
   "cell_type": "code",
   "execution_count": 15,
   "id": "labeled-ordinary",
   "metadata": {},
   "outputs": [],
   "source": [
    "def plot_roc(name, labels, predictions, **kwargs):\n",
    "    fp, tp, _ = sklearn.metrics.roc_curve(labels, predictions)\n",
    "\n",
    "    plt.plot(100*fp, 100*tp, label=name, linewidth=2, **kwargs)\n",
    "    plt.xlabel('False positives [%]')\n",
    "    plt.ylabel('True positives [%]')\n",
    "    plt.xlim([-0.5,100.5])\n",
    "    plt.ylim([0,100.5])\n",
    "    plt.grid(True)\n",
    "    ax = plt.gca()\n",
    "    ax.set_aspect('equal')"
   ]
  },
  {
   "cell_type": "markdown",
   "id": "essential-meter",
   "metadata": {},
   "source": [
    "### AUPRC"
   ]
  },
  {
   "cell_type": "code",
   "execution_count": 16,
   "id": "surprising-pleasure",
   "metadata": {},
   "outputs": [],
   "source": [
    "def plot_prc(name, labels, predictions, **kwargs):\n",
    "    precision, recall, _ = sklearn.metrics.precision_recall_curve(labels, predictions)\n",
    "\n",
    "    plt.plot(precision, recall, label=name, linewidth=2, **kwargs)\n",
    "    plt.xlabel('Recall')\n",
    "    plt.ylabel('Precision')\n",
    "    plt.grid(True)\n",
    "    ax = plt.gca()\n",
    "    ax.set_aspect('equal')"
   ]
  },
  {
   "cell_type": "code",
   "execution_count": 17,
   "id": "considered-pasta",
   "metadata": {},
   "outputs": [],
   "source": [
    "resampled_features = X_train_oversampled\n",
    "resampled_labels = y_oversampled"
   ]
  },
  {
   "cell_type": "markdown",
   "id": "modified-aurora",
   "metadata": {},
   "source": [
    "### Vanilla non-DP model"
   ]
  },
  {
   "cell_type": "code",
   "execution_count": 85,
   "id": "stylish-insight",
   "metadata": {},
   "outputs": [
    {
     "name": "stdout",
     "output_type": "stream",
     "text": [
      "Epoch 1/100\n",
      " 1034/14134 [=>............................] - ETA: 1:01 - loss: 0.6597 - tp: 10690.0000 - fp: 6643.0000 - tn: 9886.0000 - fn: 5869.0000 - accuracy: 0.6219 - precision: 0.6167 - recall: 0.6456 - auc: 0.6647 - prc: 0.6280"
     ]
    },
    {
     "ename": "KeyboardInterrupt",
     "evalue": "",
     "output_type": "error",
     "traceback": [
      "\u001b[0;31m---------------------------------------------------------------------------\u001b[0m",
      "\u001b[0;31mKeyboardInterrupt\u001b[0m                         Traceback (most recent call last)",
      "\u001b[0;32m/tmp/ipykernel_2605/1509815552.py\u001b[0m in \u001b[0;36m<module>\u001b[0;34m\u001b[0m\n\u001b[1;32m     10\u001b[0m \u001b[0;31m# resampled_steps_per_epoch = 20\u001b[0m\u001b[0;34m\u001b[0m\u001b[0;34m\u001b[0m\u001b[0;34m\u001b[0m\u001b[0m\n\u001b[1;32m     11\u001b[0m \u001b[0;34m\u001b[0m\u001b[0m\n\u001b[0;32m---> 12\u001b[0;31m resampled_history = resampled_model.fit(\n\u001b[0m\u001b[1;32m     13\u001b[0m     \u001b[0mresampled_features\u001b[0m\u001b[0;34m,\u001b[0m \u001b[0mresampled_labels\u001b[0m\u001b[0;34m,\u001b[0m\u001b[0;34m\u001b[0m\u001b[0;34m\u001b[0m\u001b[0m\n\u001b[1;32m     14\u001b[0m     \u001b[0mepochs\u001b[0m\u001b[0;34m=\u001b[0m\u001b[0mEPOCHS\u001b[0m\u001b[0;34m,\u001b[0m\u001b[0;34m\u001b[0m\u001b[0;34m\u001b[0m\u001b[0m\n",
      "\u001b[0;32m/ssd003/projects/aieng/public/pets_unified/lib/python3.8/site-packages/keras/utils/traceback_utils.py\u001b[0m in \u001b[0;36merror_handler\u001b[0;34m(*args, **kwargs)\u001b[0m\n\u001b[1;32m     62\u001b[0m     \u001b[0mfiltered_tb\u001b[0m \u001b[0;34m=\u001b[0m \u001b[0;32mNone\u001b[0m\u001b[0;34m\u001b[0m\u001b[0;34m\u001b[0m\u001b[0m\n\u001b[1;32m     63\u001b[0m     \u001b[0;32mtry\u001b[0m\u001b[0;34m:\u001b[0m\u001b[0;34m\u001b[0m\u001b[0;34m\u001b[0m\u001b[0m\n\u001b[0;32m---> 64\u001b[0;31m       \u001b[0;32mreturn\u001b[0m \u001b[0mfn\u001b[0m\u001b[0;34m(\u001b[0m\u001b[0;34m*\u001b[0m\u001b[0margs\u001b[0m\u001b[0;34m,\u001b[0m \u001b[0;34m**\u001b[0m\u001b[0mkwargs\u001b[0m\u001b[0;34m)\u001b[0m\u001b[0;34m\u001b[0m\u001b[0;34m\u001b[0m\u001b[0m\n\u001b[0m\u001b[1;32m     65\u001b[0m     \u001b[0;32mexcept\u001b[0m \u001b[0mException\u001b[0m \u001b[0;32mas\u001b[0m \u001b[0me\u001b[0m\u001b[0;34m:\u001b[0m  \u001b[0;31m# pylint: disable=broad-except\u001b[0m\u001b[0;34m\u001b[0m\u001b[0;34m\u001b[0m\u001b[0m\n\u001b[1;32m     66\u001b[0m       \u001b[0mfiltered_tb\u001b[0m \u001b[0;34m=\u001b[0m \u001b[0m_process_traceback_frames\u001b[0m\u001b[0;34m(\u001b[0m\u001b[0me\u001b[0m\u001b[0;34m.\u001b[0m\u001b[0m__traceback__\u001b[0m\u001b[0;34m)\u001b[0m\u001b[0;34m\u001b[0m\u001b[0;34m\u001b[0m\u001b[0m\n",
      "\u001b[0;32m/ssd003/projects/aieng/public/pets_unified/lib/python3.8/site-packages/keras/engine/training.py\u001b[0m in \u001b[0;36mfit\u001b[0;34m(self, x, y, batch_size, epochs, verbose, callbacks, validation_split, validation_data, shuffle, class_weight, sample_weight, initial_epoch, steps_per_epoch, validation_steps, validation_batch_size, validation_freq, max_queue_size, workers, use_multiprocessing)\u001b[0m\n\u001b[1;32m   1270\u001b[0m                 _r=1):\n\u001b[1;32m   1271\u001b[0m               \u001b[0mcallbacks\u001b[0m\u001b[0;34m.\u001b[0m\u001b[0mon_train_batch_begin\u001b[0m\u001b[0;34m(\u001b[0m\u001b[0mstep\u001b[0m\u001b[0;34m)\u001b[0m\u001b[0;34m\u001b[0m\u001b[0;34m\u001b[0m\u001b[0m\n\u001b[0;32m-> 1272\u001b[0;31m               \u001b[0mtmp_logs\u001b[0m \u001b[0;34m=\u001b[0m \u001b[0mself\u001b[0m\u001b[0;34m.\u001b[0m\u001b[0mtrain_function\u001b[0m\u001b[0;34m(\u001b[0m\u001b[0miterator\u001b[0m\u001b[0;34m)\u001b[0m\u001b[0;34m\u001b[0m\u001b[0;34m\u001b[0m\u001b[0m\n\u001b[0m\u001b[1;32m   1273\u001b[0m               \u001b[0;32mif\u001b[0m \u001b[0mdata_handler\u001b[0m\u001b[0;34m.\u001b[0m\u001b[0mshould_sync\u001b[0m\u001b[0;34m:\u001b[0m\u001b[0;34m\u001b[0m\u001b[0;34m\u001b[0m\u001b[0m\n\u001b[1;32m   1274\u001b[0m                 \u001b[0mcontext\u001b[0m\u001b[0;34m.\u001b[0m\u001b[0masync_wait\u001b[0m\u001b[0;34m(\u001b[0m\u001b[0;34m)\u001b[0m\u001b[0;34m\u001b[0m\u001b[0;34m\u001b[0m\u001b[0m\n",
      "\u001b[0;32m/ssd003/projects/aieng/public/pets_unified/lib/python3.8/site-packages/tensorflow/python/util/traceback_utils.py\u001b[0m in \u001b[0;36merror_handler\u001b[0;34m(*args, **kwargs)\u001b[0m\n\u001b[1;32m    148\u001b[0m     \u001b[0mfiltered_tb\u001b[0m \u001b[0;34m=\u001b[0m \u001b[0;32mNone\u001b[0m\u001b[0;34m\u001b[0m\u001b[0;34m\u001b[0m\u001b[0m\n\u001b[1;32m    149\u001b[0m     \u001b[0;32mtry\u001b[0m\u001b[0;34m:\u001b[0m\u001b[0;34m\u001b[0m\u001b[0;34m\u001b[0m\u001b[0m\n\u001b[0;32m--> 150\u001b[0;31m       \u001b[0;32mreturn\u001b[0m \u001b[0mfn\u001b[0m\u001b[0;34m(\u001b[0m\u001b[0;34m*\u001b[0m\u001b[0margs\u001b[0m\u001b[0;34m,\u001b[0m \u001b[0;34m**\u001b[0m\u001b[0mkwargs\u001b[0m\u001b[0;34m)\u001b[0m\u001b[0;34m\u001b[0m\u001b[0;34m\u001b[0m\u001b[0m\n\u001b[0m\u001b[1;32m    151\u001b[0m     \u001b[0;32mexcept\u001b[0m \u001b[0mException\u001b[0m \u001b[0;32mas\u001b[0m \u001b[0me\u001b[0m\u001b[0;34m:\u001b[0m\u001b[0;34m\u001b[0m\u001b[0;34m\u001b[0m\u001b[0m\n\u001b[1;32m    152\u001b[0m       \u001b[0mfiltered_tb\u001b[0m \u001b[0;34m=\u001b[0m \u001b[0m_process_traceback_frames\u001b[0m\u001b[0;34m(\u001b[0m\u001b[0me\u001b[0m\u001b[0;34m.\u001b[0m\u001b[0m__traceback__\u001b[0m\u001b[0;34m)\u001b[0m\u001b[0;34m\u001b[0m\u001b[0;34m\u001b[0m\u001b[0m\n",
      "\u001b[0;32m/ssd003/projects/aieng/public/pets_unified/lib/python3.8/site-packages/tensorflow/python/eager/def_function.py\u001b[0m in \u001b[0;36m__call__\u001b[0;34m(self, *args, **kwds)\u001b[0m\n\u001b[1;32m    908\u001b[0m \u001b[0;34m\u001b[0m\u001b[0m\n\u001b[1;32m    909\u001b[0m       \u001b[0;32mwith\u001b[0m \u001b[0mOptionalXlaContext\u001b[0m\u001b[0;34m(\u001b[0m\u001b[0mself\u001b[0m\u001b[0;34m.\u001b[0m\u001b[0m_jit_compile\u001b[0m\u001b[0;34m)\u001b[0m\u001b[0;34m:\u001b[0m\u001b[0;34m\u001b[0m\u001b[0;34m\u001b[0m\u001b[0m\n\u001b[0;32m--> 910\u001b[0;31m         \u001b[0mresult\u001b[0m \u001b[0;34m=\u001b[0m \u001b[0mself\u001b[0m\u001b[0;34m.\u001b[0m\u001b[0m_call\u001b[0m\u001b[0;34m(\u001b[0m\u001b[0;34m*\u001b[0m\u001b[0margs\u001b[0m\u001b[0;34m,\u001b[0m \u001b[0;34m**\u001b[0m\u001b[0mkwds\u001b[0m\u001b[0;34m)\u001b[0m\u001b[0;34m\u001b[0m\u001b[0;34m\u001b[0m\u001b[0m\n\u001b[0m\u001b[1;32m    911\u001b[0m \u001b[0;34m\u001b[0m\u001b[0m\n\u001b[1;32m    912\u001b[0m       \u001b[0mnew_tracing_count\u001b[0m \u001b[0;34m=\u001b[0m \u001b[0mself\u001b[0m\u001b[0;34m.\u001b[0m\u001b[0mexperimental_get_tracing_count\u001b[0m\u001b[0;34m(\u001b[0m\u001b[0;34m)\u001b[0m\u001b[0;34m\u001b[0m\u001b[0;34m\u001b[0m\u001b[0m\n",
      "\u001b[0;32m/ssd003/projects/aieng/public/pets_unified/lib/python3.8/site-packages/tensorflow/python/eager/def_function.py\u001b[0m in \u001b[0;36m_call\u001b[0;34m(self, *args, **kwds)\u001b[0m\n\u001b[1;32m    940\u001b[0m       \u001b[0;31m# In this case we have created variables on the first call, so we run the\u001b[0m\u001b[0;34m\u001b[0m\u001b[0;34m\u001b[0m\u001b[0;34m\u001b[0m\u001b[0m\n\u001b[1;32m    941\u001b[0m       \u001b[0;31m# defunned version which is guaranteed to never create variables.\u001b[0m\u001b[0;34m\u001b[0m\u001b[0;34m\u001b[0m\u001b[0;34m\u001b[0m\u001b[0m\n\u001b[0;32m--> 942\u001b[0;31m       \u001b[0;32mreturn\u001b[0m \u001b[0mself\u001b[0m\u001b[0;34m.\u001b[0m\u001b[0m_stateless_fn\u001b[0m\u001b[0;34m(\u001b[0m\u001b[0;34m*\u001b[0m\u001b[0margs\u001b[0m\u001b[0;34m,\u001b[0m \u001b[0;34m**\u001b[0m\u001b[0mkwds\u001b[0m\u001b[0;34m)\u001b[0m  \u001b[0;31m# pylint: disable=not-callable\u001b[0m\u001b[0;34m\u001b[0m\u001b[0;34m\u001b[0m\u001b[0m\n\u001b[0m\u001b[1;32m    943\u001b[0m     \u001b[0;32melif\u001b[0m \u001b[0mself\u001b[0m\u001b[0;34m.\u001b[0m\u001b[0m_stateful_fn\u001b[0m \u001b[0;32mis\u001b[0m \u001b[0;32mnot\u001b[0m \u001b[0;32mNone\u001b[0m\u001b[0;34m:\u001b[0m\u001b[0;34m\u001b[0m\u001b[0;34m\u001b[0m\u001b[0m\n\u001b[1;32m    944\u001b[0m       \u001b[0;31m# Release the lock early so that multiple threads can perform the call\u001b[0m\u001b[0;34m\u001b[0m\u001b[0;34m\u001b[0m\u001b[0;34m\u001b[0m\u001b[0m\n",
      "\u001b[0;32m/ssd003/projects/aieng/public/pets_unified/lib/python3.8/site-packages/tensorflow/python/eager/function.py\u001b[0m in \u001b[0;36m__call__\u001b[0;34m(self, *args, **kwargs)\u001b[0m\n\u001b[1;32m   3034\u001b[0m       (graph_function,\n\u001b[1;32m   3035\u001b[0m        filtered_flat_args) = self._maybe_define_function(args, kwargs)\n\u001b[0;32m-> 3036\u001b[0;31m     return graph_function._call_flat(\n\u001b[0m\u001b[1;32m   3037\u001b[0m         filtered_flat_args, captured_inputs=graph_function.captured_inputs)  # pylint: disable=protected-access\n\u001b[1;32m   3038\u001b[0m \u001b[0;34m\u001b[0m\u001b[0m\n",
      "\u001b[0;32m/ssd003/projects/aieng/public/pets_unified/lib/python3.8/site-packages/tensorflow/python/eager/function.py\u001b[0m in \u001b[0;36m_call_flat\u001b[0;34m(self, args, captured_inputs, cancellation_manager)\u001b[0m\n\u001b[1;32m   1886\u001b[0m         and executing_eagerly):\n\u001b[1;32m   1887\u001b[0m       \u001b[0;31m# No tape is watching; skip to running the function.\u001b[0m\u001b[0;34m\u001b[0m\u001b[0;34m\u001b[0m\u001b[0;34m\u001b[0m\u001b[0m\n\u001b[0;32m-> 1888\u001b[0;31m       return self._build_call_outputs(self._inference_function.call(\n\u001b[0m\u001b[1;32m   1889\u001b[0m           ctx, args, cancellation_manager=cancellation_manager))\n\u001b[1;32m   1890\u001b[0m     forward_backward = self._select_forward_and_backward_functions(\n",
      "\u001b[0;32m/ssd003/projects/aieng/public/pets_unified/lib/python3.8/site-packages/tensorflow/python/eager/function.py\u001b[0m in \u001b[0;36mcall\u001b[0;34m(self, ctx, args, cancellation_manager)\u001b[0m\n\u001b[1;32m    532\u001b[0m       \u001b[0;32mwith\u001b[0m \u001b[0m_InterpolateFunctionError\u001b[0m\u001b[0;34m(\u001b[0m\u001b[0mself\u001b[0m\u001b[0;34m)\u001b[0m\u001b[0;34m:\u001b[0m\u001b[0;34m\u001b[0m\u001b[0;34m\u001b[0m\u001b[0m\n\u001b[1;32m    533\u001b[0m         \u001b[0;32mif\u001b[0m \u001b[0mcancellation_manager\u001b[0m \u001b[0;32mis\u001b[0m \u001b[0;32mNone\u001b[0m\u001b[0;34m:\u001b[0m\u001b[0;34m\u001b[0m\u001b[0;34m\u001b[0m\u001b[0m\n\u001b[0;32m--> 534\u001b[0;31m           outputs = execute.execute(\n\u001b[0m\u001b[1;32m    535\u001b[0m               \u001b[0mstr\u001b[0m\u001b[0;34m(\u001b[0m\u001b[0mself\u001b[0m\u001b[0;34m.\u001b[0m\u001b[0msignature\u001b[0m\u001b[0;34m.\u001b[0m\u001b[0mname\u001b[0m\u001b[0;34m)\u001b[0m\u001b[0;34m,\u001b[0m\u001b[0;34m\u001b[0m\u001b[0;34m\u001b[0m\u001b[0m\n\u001b[1;32m    536\u001b[0m               \u001b[0mnum_outputs\u001b[0m\u001b[0;34m=\u001b[0m\u001b[0mself\u001b[0m\u001b[0;34m.\u001b[0m\u001b[0m_num_outputs\u001b[0m\u001b[0;34m,\u001b[0m\u001b[0;34m\u001b[0m\u001b[0;34m\u001b[0m\u001b[0m\n",
      "\u001b[0;32m/ssd003/projects/aieng/public/pets_unified/lib/python3.8/site-packages/tensorflow/python/eager/execute.py\u001b[0m in \u001b[0;36mquick_execute\u001b[0;34m(op_name, num_outputs, inputs, attrs, ctx, name)\u001b[0m\n\u001b[1;32m     52\u001b[0m   \u001b[0;32mtry\u001b[0m\u001b[0;34m:\u001b[0m\u001b[0;34m\u001b[0m\u001b[0;34m\u001b[0m\u001b[0m\n\u001b[1;32m     53\u001b[0m     \u001b[0mctx\u001b[0m\u001b[0;34m.\u001b[0m\u001b[0mensure_initialized\u001b[0m\u001b[0;34m(\u001b[0m\u001b[0;34m)\u001b[0m\u001b[0;34m\u001b[0m\u001b[0;34m\u001b[0m\u001b[0m\n\u001b[0;32m---> 54\u001b[0;31m     tensors = pywrap_tfe.TFE_Py_Execute(ctx._handle, device_name, op_name,\n\u001b[0m\u001b[1;32m     55\u001b[0m                                         inputs, attrs, num_outputs)\n\u001b[1;32m     56\u001b[0m   \u001b[0;32mexcept\u001b[0m \u001b[0mcore\u001b[0m\u001b[0;34m.\u001b[0m\u001b[0m_NotOkStatusException\u001b[0m \u001b[0;32mas\u001b[0m \u001b[0me\u001b[0m\u001b[0;34m:\u001b[0m\u001b[0;34m\u001b[0m\u001b[0;34m\u001b[0m\u001b[0m\n",
      "\u001b[0;31mKeyboardInterrupt\u001b[0m: "
     ]
    }
   ],
   "source": [
    "# resampled_model = make_model()\n",
    "# resampled_model.compile(\n",
    "#     optimizer=keras.optimizers.Adam(learning_rate=1e-3),\n",
    "#     loss=keras.losses.BinaryCrossentropy(),\n",
    "#     metrics=METRICS)\n",
    "\n",
    "# # Reset the bias to zero, since this dataset is balanced.\n",
    "# output_layer = resampled_model.layers[-1] \n",
    "# output_layer.bias.assign([0])\n",
    "# # resampled_steps_per_epoch = 20\n",
    "\n",
    "# resampled_history = resampled_model.fit(\n",
    "#     resampled_features, resampled_labels,\n",
    "#     epochs=EPOCHS,\n",
    "# #     steps_per_epoch=resampled_steps_per_epoch,\n",
    "#     callbacks=[early_stopping],\n",
    "#     validation_data=(val_features, val_labels))"
   ]
  },
  {
   "cell_type": "code",
   "execution_count": 81,
   "id": "intellectual-cooperative",
   "metadata": {},
   "outputs": [
    {
     "data": {
      "image/png": "[encoded data removed]",
      "text/plain": [
       "<Figure size 864x720 with 4 Axes>"
      ]
     },
     "metadata": {
      "needs_background": "light"
     },
     "output_type": "display_data"
    }
   ],
   "source": [
    "# plot_metrics(resampled_history)"
   ]
  },
  {
   "cell_type": "code",
   "execution_count": 45,
   "id": "advanced-opportunity",
   "metadata": {},
   "outputs": [
    {
     "name": "stdout",
     "output_type": "stream",
     "text": [
      "Epoch 1/1000\n",
      "20/20 [==============================] - 10s 444ms/step - loss: 0.6925 - tp: 105890.0000 - fp: 102409.0000 - tn: 180277.0000 - fn: 125191.0000 - accuracy: 0.5570 - precision: 0.5084 - recall: 0.4582 - auc: 0.5834 - prc: 0.4872 - val_loss: 0.6270 - val_tp: 2749.0000 - val_fp: 16484.0000 - val_tn: 40070.0000 - val_fn: 2200.0000 - val_accuracy: 0.6962 - val_precision: 0.1429 - val_recall: 0.5555 - val_auc: 0.6774 - val_prc: 0.1610\n",
      "Epoch 2/1000\n",
      "20/20 [==============================] - 7s 354ms/step - loss: 0.6567 - tp: 129299.0000 - fp: 78773.0000 - tn: 147359.0000 - fn: 96833.0000 - accuracy: 0.6117 - precision: 0.6214 - recall: 0.5718 - auc: 0.6564 - prc: 0.6306 - val_loss: 0.6132 - val_tp: 3115.0000 - val_fp: 18612.0000 - val_tn: 37942.0000 - val_fn: 1834.0000 - val_accuracy: 0.6676 - val_precision: 0.1434 - val_recall: 0.6294 - val_auc: 0.7032 - val_prc: 0.1811\n",
      "Epoch 3/1000\n",
      "20/20 [==============================] - 7s 352ms/step - loss: 0.6337 - tp: 143343.0000 - fp: 76292.0000 - tn: 149840.0000 - fn: 82789.0000 - accuracy: 0.6483 - precision: 0.6526 - recall: 0.6339 - auc: 0.6987 - prc: 0.6688 - val_loss: 0.6004 - val_tp: 3190.0000 - val_fp: 18422.0000 - val_tn: 38132.0000 - val_fn: 1759.0000 - val_accuracy: 0.6719 - val_precision: 0.1476 - val_recall: 0.6446 - val_auc: 0.7194 - val_prc: 0.1966\n",
      "Epoch 4/1000\n",
      "20/20 [==============================] - 7s 354ms/step - loss: 0.6160 - tp: 153194.0000 - fp: 76025.0000 - tn: 150107.0000 - fn: 72938.0000 - accuracy: 0.6706 - precision: 0.6683 - recall: 0.6775 - auc: 0.7238 - prc: 0.6921 - val_loss: 0.5886 - val_tp: 3223.0000 - val_fp: 18438.0000 - val_tn: 38116.0000 - val_fn: 1726.0000 - val_accuracy: 0.6721 - val_precision: 0.1488 - val_recall: 0.6512 - val_auc: 0.7264 - val_prc: 0.2031\n",
      "Epoch 5/1000\n",
      "20/20 [==============================] - 7s 351ms/step - loss: 0.6047 - tp: 158694.0000 - fp: 76497.0000 - tn: 149635.0000 - fn: 67438.0000 - accuracy: 0.6817 - precision: 0.6747 - recall: 0.7018 - auc: 0.7376 - prc: 0.7042 - val_loss: 0.5901 - val_tp: 3259.0000 - val_fp: 18719.0000 - val_tn: 37835.0000 - val_fn: 1690.0000 - val_accuracy: 0.6682 - val_precision: 0.1483 - val_recall: 0.6585 - val_auc: 0.7289 - val_prc: 0.2055\n",
      "Epoch 6/1000\n",
      "20/20 [==============================] - 7s 348ms/step - loss: 0.5962 - tp: 162104.0000 - fp: 76240.0000 - tn: 149892.0000 - fn: 64028.0000 - accuracy: 0.6899 - precision: 0.6801 - recall: 0.7169 - auc: 0.7473 - prc: 0.7142 - val_loss: 0.5872 - val_tp: 3268.0000 - val_fp: 18595.0000 - val_tn: 37959.0000 - val_fn: 1681.0000 - val_accuracy: 0.6703 - val_precision: 0.1495 - val_recall: 0.6603 - val_auc: 0.7297 - val_prc: 0.2059\n",
      "Epoch 7/1000\n",
      "20/20 [==============================] - 7s 350ms/step - loss: 0.5906 - tp: 163211.0000 - fp: 75182.0000 - tn: 150950.0000 - fn: 62921.0000 - accuracy: 0.6946 - precision: 0.6846 - recall: 0.7218 - auc: 0.7537 - prc: 0.7203 - val_loss: 0.5880 - val_tp: 3258.0000 - val_fp: 18386.0000 - val_tn: 38168.0000 - val_fn: 1691.0000 - val_accuracy: 0.6736 - val_precision: 0.1505 - val_recall: 0.6583 - val_auc: 0.7302 - val_prc: 0.2066\n",
      "Epoch 8/1000\n",
      "20/20 [==============================] - 7s 345ms/step - loss: 0.5853 - tp: 164273.0000 - fp: 74062.0000 - tn: 152070.0000 - fn: 61859.0000 - accuracy: 0.6995 - precision: 0.6893 - recall: 0.7264 - auc: 0.7597 - prc: 0.7265 - val_loss: 0.5848 - val_tp: 3225.0000 - val_fp: 18094.0000 - val_tn: 38460.0000 - val_fn: 1724.0000 - val_accuracy: 0.6778 - val_precision: 0.1513 - val_recall: 0.6516 - val_auc: 0.7299 - val_prc: 0.2064\n",
      "Epoch 9/1000\n",
      "20/20 [==============================] - 7s 349ms/step - loss: 0.5807 - tp: 164711.0000 - fp: 73093.0000 - tn: 153039.0000 - fn: 61421.0000 - accuracy: 0.7026 - precision: 0.6926 - recall: 0.7284 - auc: 0.7644 - prc: 0.7326 - val_loss: 0.5859 - val_tp: 3193.0000 - val_fp: 17822.0000 - val_tn: 38732.0000 - val_fn: 1756.0000 - val_accuracy: 0.6817 - val_precision: 0.1519 - val_recall: 0.6452 - val_auc: 0.7294 - val_prc: 0.2056\n",
      "Epoch 10/1000\n",
      "20/20 [==============================] - 7s 347ms/step - loss: 0.5768 - tp: 165795.0000 - fp: 72593.0000 - tn: 153539.0000 - fn: 60337.0000 - accuracy: 0.7061 - precision: 0.6955 - recall: 0.7332 - auc: 0.7687 - prc: 0.7373 - val_loss: 0.5838 - val_tp: 3179.0000 - val_fp: 17702.0000 - val_tn: 38852.0000 - val_fn: 1770.0000 - val_accuracy: 0.6834 - val_precision: 0.1522 - val_recall: 0.6424 - val_auc: 0.7287 - val_prc: 0.2046\n",
      "Epoch 11/1000\n",
      "20/20 [==============================] - 7s 347ms/step - loss: 0.5720 - tp: 166186.0000 - fp: 71535.0000 - tn: 154597.0000 - fn: 59946.0000 - accuracy: 0.7093 - precision: 0.6991 - recall: 0.7349 - auc: 0.7736 - prc: 0.7429 - val_loss: 0.5822 - val_tp: 3160.0000 - val_fp: 17492.0000 - val_tn: 39062.0000 - val_fn: 1789.0000 - val_accuracy: 0.6865 - val_precision: 0.1530 - val_recall: 0.6385 - val_auc: 0.7277 - val_prc: 0.2034\n",
      "Epoch 12/1000\n",
      "20/20 [==============================] - 7s 349ms/step - loss: 0.5689 - tp: 166537.0000 - fp: 70975.0000 - tn: 155157.0000 - fn: 59595.0000 - accuracy: 0.7113 - precision: 0.7012 - recall: 0.7365 - auc: 0.7766 - prc: 0.7472 - val_loss: 0.5801 - val_tp: 3119.0000 - val_fp: 17066.0000 - val_tn: 39488.0000 - val_fn: 1830.0000 - val_accuracy: 0.6928 - val_precision: 0.1545 - val_recall: 0.6302 - val_auc: 0.7271 - val_prc: 0.2029\n",
      "Epoch 13/1000\n",
      "20/20 [==============================] - 7s 349ms/step - loss: 0.5658 - tp: 167203.0000 - fp: 70023.0000 - tn: 156109.0000 - fn: 58929.0000 - accuracy: 0.7149 - precision: 0.7048 - recall: 0.7394 - auc: 0.7796 - prc: 0.7499 - val_loss: 0.5813 - val_tp: 3137.0000 - val_fp: 17233.0000 - val_tn: 39321.0000 - val_fn: 1812.0000 - val_accuracy: 0.6903 - val_precision: 0.1540 - val_recall: 0.6339 - val_auc: 0.7259 - val_prc: 0.2018\n",
      "Epoch 14/1000\n",
      "20/20 [==============================] - 7s 346ms/step - loss: 0.5615 - tp: 167572.0000 - fp: 69119.0000 - tn: 157013.0000 - fn: 58560.0000 - accuracy: 0.7177 - precision: 0.7080 - recall: 0.7410 - auc: 0.7839 - prc: 0.7547 - val_loss: 0.5736 - val_tp: 3072.0000 - val_fp: 16663.0000 - val_tn: 39891.0000 - val_fn: 1877.0000 - val_accuracy: 0.6986 - val_precision: 0.1557 - val_recall: 0.6207 - val_auc: 0.7249 - val_prc: 0.2003\n",
      "Epoch 15/1000\n",
      "20/20 [==============================] - 7s 353ms/step - loss: 0.5587 - tp: 167915.0000 - fp: 68342.0000 - tn: 157790.0000 - fn: 58217.0000 - accuracy: 0.7202 - precision: 0.7107 - recall: 0.7426 - auc: 0.7865 - prc: 0.7579 - val_loss: 0.5740 - val_tp: 3052.0000 - val_fp: 16537.0000 - val_tn: 40017.0000 - val_fn: 1897.0000 - val_accuracy: 0.7003 - val_precision: 0.1558 - val_recall: 0.6167 - val_auc: 0.7239 - val_prc: 0.2000\n",
      "Epoch 16/1000\n",
      "20/20 [==============================] - 7s 352ms/step - loss: 0.5553 - tp: 168262.0000 - fp: 67522.0000 - tn: 158610.0000 - fn: 57870.0000 - accuracy: 0.7227 - precision: 0.7136 - recall: 0.7441 - auc: 0.7898 - prc: 0.7619 - val_loss: 0.5696 - val_tp: 3009.0000 - val_fp: 16073.0000 - val_tn: 40481.0000 - val_fn: 1940.0000 - val_accuracy: 0.7071 - val_precision: 0.1577 - val_recall: 0.6080 - val_auc: 0.7230 - val_prc: 0.1992\n",
      "Epoch 17/1000\n",
      "17/20 [========================>.....] - ETA: 0s - loss: 0.5535 - tp: 142936.0000 - fp: 56735.0000 - tn: 135324.0000 - fn: 49443.0000 - accuracy: 0.7238 - precision: 0.7159 - recall: 0.7430 - auc: 0.7916 - prc: 0.7649Restoring model weights from the end of the best epoch: 7.\n",
      "20/20 [==============================] - 7s 349ms/step - loss: 0.5531 - tp: 168127.0000 - fp: 66602.0000 - tn: 159530.0000 - fn: 58005.0000 - accuracy: 0.7245 - precision: 0.7163 - recall: 0.7435 - auc: 0.7920 - prc: 0.7647 - val_loss: 0.5675 - val_tp: 2973.0000 - val_fp: 15831.0000 - val_tn: 40723.0000 - val_fn: 1976.0000 - val_accuracy: 0.7105 - val_precision: 0.1581 - val_recall: 0.6007 - val_auc: 0.7218 - val_prc: 0.1977\n",
      "Epoch 00017: early stopping\n"
     ]
    }
   ],
   "source": [
    "# resampled_model = make_model()\n",
    "# resampled_model.compile(\n",
    "#     optimizer=keras.optimizers.Adam(learning_rate=1e-3),\n",
    "#     loss=keras.losses.BinaryCrossentropy(),\n",
    "#     metrics=METRICS)\n",
    "\n",
    "# # Reset the bias to zero, since this dataset is balanced.\n",
    "# output_layer = resampled_model.layers[-1] \n",
    "# output_layer.bias.assign([0])\n",
    "\n",
    "# resampled_history = resampled_model.fit(\n",
    "#     resampled_features, resampled_labels,\n",
    "#     # These are not real epochs\n",
    "#     steps_per_epoch=20,\n",
    "#     epochs=10*EPOCHS,\n",
    "#     callbacks=[early_stopping],\n",
    "#     validation_data=(val_features, val_labels))"
   ]
  },
  {
   "cell_type": "code",
   "execution_count": 61,
   "id": "ideal-disclosure",
   "metadata": {},
   "outputs": [
    {
     "data": {
      "image/png": "[encoded data removed]",
      "text/plain": [
       "<Figure size 864x720 with 4 Axes>"
      ]
     },
     "metadata": {
      "needs_background": "light"
     },
     "output_type": "display_data"
    }
   ],
   "source": [
    "# plot_metrics(resampled_history)"
   ]
  },
  {
   "cell_type": "markdown",
   "id": "indirect-barbados",
   "metadata": {},
   "source": [
    "### Performance"
   ]
  },
  {
   "cell_type": "code",
   "execution_count": 82,
   "id": "textile-karen",
   "metadata": {},
   "outputs": [],
   "source": [
    "# train_predictions_resampled = resampled_model.predict(train_features, batch_size=BATCH_SIZE)\n",
    "# test_predictions_resampled = resampled_model.predict(test_features, batch_size=BATCH_SIZE)"
   ]
  },
  {
   "cell_type": "code",
   "execution_count": 18,
   "id": "raising-watch",
   "metadata": {},
   "outputs": [],
   "source": [
    "def evaluate_models(keras_model, train_features, train_labels, test_features, test_labels, BATCH_SIZE):\n",
    "    train_predictions = keras_model.predict(train_features, batch_size=BATCH_SIZE)\n",
    "    test_predictions = keras_model.predict(test_features, batch_size=BATCH_SIZE)\n",
    "    test_prediction_results = keras_model.evaluate(test_features, test_labels,\n",
    "                                             batch_size=BATCH_SIZE, verbose=0)\n",
    "    for name, value in zip(keras_model.metrics_names, test_prediction_results):\n",
    "        print(name, \": \", value)\n",
    "    print()\n",
    "    plot_cm(test_labels, test_predictions)\n",
    "    print()\n",
    "    print(\"Plot ROC\")\n",
    "    plot_roc(\"Train Resampled\", train_labels, train_predictions, color=colors[2])\n",
    "    plot_roc(\"Test Resampled\", test_labels, test_predictions, color=colors[2], linestyle='--')\n",
    "    plt.legend(loc='lower right')\n",
    "    plt.title(\"ROC\")\n",
    "    plt.show()\n",
    "    \n",
    "    print()\n",
    "    print(\"Plot Precision-Recall Curve\")\n",
    "    plot_prc(\"Train Resampled\", train_labels, train_predictions, color=colors[2])\n",
    "    plot_prc(\"Test Resampled\", test_labels, test_predictions, color=colors[2], linestyle='--')\n",
    "    plt.legend(loc='lower right')\n",
    "    plt.title(\"Precision Recall Curve\")\n",
    "    plt.show()\n",
    "    "
   ]
  },
  {
   "cell_type": "code",
   "execution_count": 76,
   "id": "efficient-collapse",
   "metadata": {},
   "outputs": [
    {
     "name": "stdout",
     "output_type": "stream",
     "text": [
      "loss :  0.5734538435935974\n",
      "tp :  3308.0\n",
      "fp :  18914.0\n",
      "tn :  37640.0\n",
      "fn :  1641.0\n",
      "accuracy :  0.6657886505126953\n",
      "precision :  0.14886148273944855\n",
      "recall :  0.6684178709983826\n",
      "auc :  0.7321951389312744\n",
      "prc :  0.210875004529953\n",
      "\n",
      "Legitimate Transactions Detected (True Negatives):  37640\n",
      "Legitimate Transactions Incorrectly Detected (False Positives):  18914\n",
      "Fraudulent Transactions Missed (False Negatives):  1641\n",
      "Fraudulent Transactions Detected (True Positives):  3308\n",
      "Total Fraudulent Transactions:  4949\n"
     ]
    },
    {
     "data": {
      "image/png": "[encoded data removed]",
      "text/plain": [
       "<Figure size 360x360 with 2 Axes>"
      ]
     },
     "metadata": {
      "needs_background": "light"
     },
     "output_type": "display_data"
    }
   ],
   "source": [
    "# resampled_results = resampled_model.evaluate(test_features, test_labels,\n",
    "#                                              batch_size=BATCH_SIZE, verbose=0)\n",
    "# for name, value in zip(resampled_model.metrics_names, resampled_results):\n",
    "#     print(name, ': ', value)\n",
    "# print()\n",
    "\n",
    "# plot_cm(test_labels, test_predictions_resampled)"
   ]
  },
  {
   "cell_type": "markdown",
   "id": "dying-father",
   "metadata": {},
   "source": [
    "#### ROC"
   ]
  },
  {
   "cell_type": "code",
   "execution_count": 77,
   "id": "inappropriate-peace",
   "metadata": {},
   "outputs": [
    {
     "data": {
      "text/plain": [
       "<matplotlib.legend.Legend at 0x7f8aa6307880>"
      ]
     },
     "execution_count": 77,
     "metadata": {},
     "output_type": "execute_result"
    },
    {
     "data": {
      "image/png": "[encoded data removed]",
      "text/plain": [
       "<Figure size 864x720 with 1 Axes>"
      ]
     },
     "metadata": {
      "needs_background": "light"
     },
     "output_type": "display_data"
    }
   ],
   "source": [
    "# plot_roc(\"Train Resampled\", train_labels, train_predictions_resampled, color=colors[2])\n",
    "# plot_roc(\"Test Resampled\", test_labels, test_predictions_resampled, color=colors[2], linestyle='--')\n",
    "# # plt.legend(loc='lower right')"
   ]
  },
  {
   "cell_type": "markdown",
   "id": "sought-secondary",
   "metadata": {},
   "source": [
    "### Plot the AUPRC"
   ]
  },
  {
   "cell_type": "code",
   "execution_count": 78,
   "id": "efficient-unemployment",
   "metadata": {},
   "outputs": [
    {
     "data": {
      "text/plain": [
       "<matplotlib.legend.Legend at 0x7f8a60228dc0>"
      ]
     },
     "execution_count": 78,
     "metadata": {},
     "output_type": "execute_result"
    },
    {
     "data": {
      "image/png": "[encoded data removed]",
      "text/plain": [
       "<Figure size 864x720 with 1 Axes>"
      ]
     },
     "metadata": {
      "needs_background": "light"
     },
     "output_type": "display_data"
    }
   ],
   "source": [
    "# plot_prc(\"Train Resampled\", train_labels, train_predictions_resampled, color=colors[2])\n",
    "# plot_prc(\"Test Resampled\", test_labels, test_predictions_resampled, color=colors[2], linestyle='--')\n",
    "# plt.legend(loc='lower right')"
   ]
  },
  {
   "cell_type": "markdown",
   "id": "religious-opinion",
   "metadata": {},
   "source": [
    "## DP-SGD"
   ]
  },
  {
   "cell_type": "code",
   "execution_count": 19,
   "id": "accepting-integer",
   "metadata": {},
   "outputs": [],
   "source": [
    "def compute_epsilon(steps, training_size, noise_multiplier, batch_size):\n",
    "  \"\"\"Computes epsilon value for given hyperparameters.\"\"\"\n",
    "  if noise_multiplier == 0.0:\n",
    "    return float('inf')\n",
    "\n",
    "  #rule of thumb for delta is to set it to less than the inverse of the training data size\n",
    "  #so I opted for it to equal to 1.1*training size\n",
    "  training_delta = 1 / (training_size *1.1) \n",
    "\n",
    "  orders = np.linspace(1+math.log(1./training_delta)/10, 1+math.log(1./training_delta)/1, num=100)\n",
    "  #if you want epsilon between 1-10 and your delta is fixed\n",
    "  # your orders must cover the range between 1+ln(1/delta)/10 and 1+ln(1/delta)/1\n",
    "\n",
    "  sampling_probability = batch_size / training_size\n",
    "  rdp = compute_rdp(q=sampling_probability,\n",
    "                    noise_multiplier=noise_multiplier,\n",
    "                    steps=steps,\n",
    "                    orders=orders)\n",
    "\n",
    "  return get_privacy_spent(orders, rdp, target_delta=training_delta)[0], training_delta"
   ]
  },
  {
   "cell_type": "code",
   "execution_count": 20,
   "id": "charitable-myrtle",
   "metadata": {},
   "outputs": [],
   "source": [
    "def train(dpsgd, batch_size, microbatches, l2_norm_clip, noise_multiplier, learning_rate, epochs, \n",
    "          resampled_features, resampled_labels, print_output = True, verbose = 0):\n",
    "    #logging.set_verbosity(logging.INFO)\n",
    "    if dpsgd and batch_size % microbatches != 0:\n",
    "        raise ValueError('Number of microbatches should divide evenly batch_size')\n",
    "\n",
    "    # Define a sequential Keras model\n",
    "    resampled_dp_model = make_model()\n",
    "\n",
    "    # Reset the bias to zero, since this dataset is balanced.\n",
    "    #output_layer = resampled_dp_model.layers[-1] \n",
    "    #output_layer.bias.assign([0])\n",
    "\n",
    "    if dpsgd:\n",
    "        optimizer = DPKerasSGDOptimizer(\n",
    "            l2_norm_clip=l2_norm_clip,\n",
    "            noise_multiplier=noise_multiplier,\n",
    "            num_microbatches=microbatches,\n",
    "            learning_rate=learning_rate)\n",
    "        # Compute vector of per-example loss rather than its mean over a minibatch.\n",
    "        loss = tf.keras.losses.BinaryCrossentropy(reduction=tf.losses.Reduction.NONE)\n",
    "    else:\n",
    "        optimizer = tf.keras.optimizers.Adam(learning_rate=learning_rate)\n",
    "        loss = tf.keras.losses.BinaryCrossentropy()\n",
    "\n",
    "    # Compile model with Keras\n",
    "    resampled_dp_model.compile(optimizer=optimizer, loss=loss, metrics=METRICS)\n",
    "\n",
    "    log_dir = \"logs/fit/\" + datetime.datetime.now().strftime(\"%Y%m%d-%H%M%S\")\n",
    "    tensorboard_callback = tf.keras.callbacks.TensorBoard(log_dir=log_dir, histogram_freq=1)\n",
    "\n",
    "    training_size = resampled_features.shape[0]\n",
    "\n",
    "    # Train model with Keras\n",
    "    resampled_dp_history = resampled_dp_model.fit(\n",
    "        resampled_features, resampled_labels,\n",
    "        epochs=epochs,\n",
    "#         steps_per_epoch=resampled_steps_per_epoch,\n",
    "        callbacks=[early_stopping, tensorboard_callback], #monitor='val_prc', higher = better\n",
    "        validation_data=(val_features, val_labels),\n",
    "        verbose = verbose)\n",
    "    \n",
    "    score_train = resampled_dp_model.evaluate(resampled_features, resampled_labels, verbose=verbose)\n",
    "    score_val = resampled_dp_model.evaluate(val_features, val_labels, verbose=verbose)\n",
    "    score_test = resampled_dp_model.evaluate(test_features, test_labels, verbose=verbose)\n",
    "\n",
    "    weights = resampled_dp_model.get_weights()\n",
    "\n",
    "    # Compute the privacy budget expended.\n",
    "    if dpsgd:\n",
    "        eps, delta = compute_epsilon(epochs * training_size // batch_size, training_size=training_size, \n",
    "                                     noise_multiplier=noise_multiplier, batch_size=batch_size)\n",
    "        if print_output:\n",
    "            print('For delta=%.4f, the current epsilon is: %.2f' % (delta, eps))\n",
    "    else:\n",
    "        if print_output:\n",
    "            print('Trained with vanilla non-private SGD optimizer')\n",
    "\n",
    "    if print_output:\n",
    "        print(\"Training Result\")\n",
    "        for name, value in zip(resampled_dp_model.metrics_names, score_train):\n",
    "            print(name, ': ', value)\n",
    "        print()\n",
    "        print(\"Validation Result\")\n",
    "        for name, value in zip(resampled_dp_model.metrics_names, score_val):\n",
    "            print(name, ': ', value)\n",
    "        print()\n",
    "        print(\"Testing Result\")\n",
    "        for name, value in zip(resampled_dp_model.metrics_names, score_test):\n",
    "            print(name, ': ', value)\n",
    "        print()     \n",
    "\n",
    "    if dpsgd:\n",
    "        return resampled_dp_model, score_train, score_val, score_test, eps, delta, weights, resampled_dp_history\n",
    "    \n",
    "    return resampled_dp_model, score_train, score_val, score_test, weights, resampled_dp_history"
   ]
  },
  {
   "cell_type": "markdown",
   "id": "latest-reform",
   "metadata": {},
   "source": [
    "### DP-SGD model"
   ]
  },
  {
   "cell_type": "code",
   "execution_count": 103,
   "id": "criminal-soviet",
   "metadata": {},
   "outputs": [
    {
     "name": "stdout",
     "output_type": "stream",
     "text": [
      "Epoch 1/100\n",
      "14134/14134 [==============================] - 90s 6ms/step - loss: 0.6908 - tp: 186864.0000 - fp: 127239.0000 - tn: 166515.0000 - fn: 107646.0000 - accuracy: 0.6007 - precision: 0.5949 - recall: 0.6345 - auc: 0.6346 - prc: 0.6050 - val_loss: 0.6510 - val_tp: 2828.0000 - val_fp: 20066.0000 - val_tn: 25094.0000 - val_fn: 1214.0000 - val_accuracy: 0.5675 - val_precision: 0.1235 - val_recall: 0.6997 - val_auc: 0.6793 - val_prc: 0.1618\n",
      "Epoch 2/100\n",
      "14134/14134 [==============================] - 85s 6ms/step - loss: 0.6513 - tp: 160988.0000 - fp: 104006.0000 - tn: 122126.0000 - fn: 65144.0000 - accuracy: 0.6260 - precision: 0.6075 - recall: 0.7119 - auc: 0.6709 - prc: 0.6379 - val_loss: 0.5939 - val_tp: 2517.0000 - val_fp: 15781.0000 - val_tn: 29379.0000 - val_fn: 1525.0000 - val_accuracy: 0.6483 - val_precision: 0.1376 - val_recall: 0.6227 - val_auc: 0.6862 - val_prc: 0.1681\n",
      "Epoch 3/100\n",
      "14134/14134 [==============================] - 85s 6ms/step - loss: 0.6463 - tp: 160409.0000 - fp: 101848.0000 - tn: 124284.0000 - fn: 65723.0000 - accuracy: 0.6295 - precision: 0.6116 - recall: 0.7094 - auc: 0.6753 - prc: 0.6440 - val_loss: 0.6215 - val_tp: 2711.0000 - val_fp: 17627.0000 - val_tn: 27533.0000 - val_fn: 1331.0000 - val_accuracy: 0.6147 - val_precision: 0.1333 - val_recall: 0.6707 - val_auc: 0.6893 - val_prc: 0.1672\n",
      "Epoch 4/100\n",
      "14134/14134 [==============================] - 85s 6ms/step - loss: 0.6454 - tp: 161175.0000 - fp: 102607.0000 - tn: 123525.0000 - fn: 64957.0000 - accuracy: 0.6295 - precision: 0.6110 - recall: 0.7127 - auc: 0.6757 - prc: 0.6447 - val_loss: 0.6246 - val_tp: 2695.0000 - val_fp: 17496.0000 - val_tn: 27664.0000 - val_fn: 1347.0000 - val_accuracy: 0.6170 - val_precision: 0.1335 - val_recall: 0.6667 - val_auc: 0.6920 - val_prc: 0.1688\n",
      "Epoch 5/100\n",
      "14134/14134 [==============================] - 85s 6ms/step - loss: 0.6431 - tp: 164653.0000 - fp: 104192.0000 - tn: 121940.0000 - fn: 61479.0000 - accuracy: 0.6337 - precision: 0.6124 - recall: 0.7281 - auc: 0.6800 - prc: 0.6477 - val_loss: 0.6027 - val_tp: 2723.0000 - val_fp: 16935.0000 - val_tn: 28225.0000 - val_fn: 1319.0000 - val_accuracy: 0.6290 - val_precision: 0.1385 - val_recall: 0.6737 - val_auc: 0.6967 - val_prc: 0.1713\n",
      "Epoch 6/100\n",
      "14134/14134 [==============================] - 85s 6ms/step - loss: 0.6423 - tp: 165067.0000 - fp: 103833.0000 - tn: 122299.0000 - fn: 61065.0000 - accuracy: 0.6354 - precision: 0.6139 - recall: 0.7300 - auc: 0.6840 - prc: 0.6525 - val_loss: 0.5968 - val_tp: 2642.0000 - val_fp: 16338.0000 - val_tn: 28822.0000 - val_fn: 1400.0000 - val_accuracy: 0.6395 - val_precision: 0.1392 - val_recall: 0.6536 - val_auc: 0.6960 - val_prc: 0.1741\n",
      "Epoch 7/100\n",
      "14134/14134 [==============================] - 85s 6ms/step - loss: 0.6429 - tp: 161526.0000 - fp: 99757.0000 - tn: 126375.0000 - fn: 64606.0000 - accuracy: 0.6366 - precision: 0.6182 - recall: 0.7143 - auc: 0.6840 - prc: 0.6520 - val_loss: 0.6452 - val_tp: 2836.0000 - val_fp: 19438.0000 - val_tn: 25722.0000 - val_fn: 1206.0000 - val_accuracy: 0.5804 - val_precision: 0.1273 - val_recall: 0.7016 - val_auc: 0.6882 - val_prc: 0.1701\n",
      "Epoch 8/100\n",
      "14134/14134 [==============================] - 85s 6ms/step - loss: 0.6437 - tp: 165906.0000 - fp: 105125.0000 - tn: 121007.0000 - fn: 60226.0000 - accuracy: 0.6344 - precision: 0.6121 - recall: 0.7337 - auc: 0.6811 - prc: 0.6494 - val_loss: 0.6329 - val_tp: 2748.0000 - val_fp: 18152.0000 - val_tn: 27008.0000 - val_fn: 1294.0000 - val_accuracy: 0.6048 - val_precision: 0.1315 - val_recall: 0.6799 - val_auc: 0.6871 - val_prc: 0.1660\n",
      "Epoch 9/100\n",
      "14134/14134 [==============================] - 85s 6ms/step - loss: 0.6430 - tp: 158101.0000 - fp: 96692.0000 - tn: 129440.0000 - fn: 68031.0000 - accuracy: 0.6358 - precision: 0.6205 - recall: 0.6992 - auc: 0.6816 - prc: 0.6489 - val_loss: 0.6042 - val_tp: 2629.0000 - val_fp: 16660.0000 - val_tn: 28500.0000 - val_fn: 1413.0000 - val_accuracy: 0.6327 - val_precision: 0.1363 - val_recall: 0.6504 - val_auc: 0.6906 - val_prc: 0.1665\n",
      "Epoch 10/100\n",
      "14134/14134 [==============================] - 85s 6ms/step - loss: 0.6448 - tp: 162026.0000 - fp: 102500.0000 - tn: 123632.0000 - fn: 64106.0000 - accuracy: 0.6316 - precision: 0.6125 - recall: 0.7165 - auc: 0.6776 - prc: 0.6455 - val_loss: 0.6200 - val_tp: 2648.0000 - val_fp: 17500.0000 - val_tn: 27660.0000 - val_fn: 1394.0000 - val_accuracy: 0.6160 - val_precision: 0.1314 - val_recall: 0.6551 - val_auc: 0.6805 - val_prc: 0.1626\n",
      "Epoch 11/100\n",
      "14134/14134 [==============================] - 85s 6ms/step - loss: 0.6447 - tp: 153635.0000 - fp: 93408.0000 - tn: 132724.0000 - fn: 72497.0000 - accuracy: 0.6332 - precision: 0.6219 - recall: 0.6794 - auc: 0.6779 - prc: 0.6454 - val_loss: 0.6134 - val_tp: 2670.0000 - val_fp: 17275.0000 - val_tn: 27885.0000 - val_fn: 1372.0000 - val_accuracy: 0.6210 - val_precision: 0.1339 - val_recall: 0.6606 - val_auc: 0.6843 - val_prc: 0.1685\n",
      "Epoch 12/100\n",
      "14134/14134 [==============================] - 85s 6ms/step - loss: 0.6447 - tp: 157022.0000 - fp: 96473.0000 - tn: 129659.0000 - fn: 69110.0000 - accuracy: 0.6339 - precision: 0.6194 - recall: 0.6944 - auc: 0.6793 - prc: 0.6489 - val_loss: 0.5918 - val_tp: 2651.0000 - val_fp: 16562.0000 - val_tn: 28598.0000 - val_fn: 1391.0000 - val_accuracy: 0.6351 - val_precision: 0.1380 - val_recall: 0.6559 - val_auc: 0.6908 - val_prc: 0.1661\n",
      "Epoch 13/100\n",
      "14134/14134 [==============================] - 87s 6ms/step - loss: 0.6405 - tp: 162292.0000 - fp: 99840.0000 - tn: 126292.0000 - fn: 63840.0000 - accuracy: 0.6381 - precision: 0.6191 - recall: 0.7177 - auc: 0.6851 - prc: 0.6518 - val_loss: 0.5853 - val_tp: 2501.0000 - val_fp: 15408.0000 - val_tn: 29752.0000 - val_fn: 1541.0000 - val_accuracy: 0.6555 - val_precision: 0.1397 - val_recall: 0.6188 - val_auc: 0.6869 - val_prc: 0.1651\n",
      "Epoch 14/100\n",
      "14134/14134 [==============================] - 85s 6ms/step - loss: 0.6401 - tp: 161848.0000 - fp: 99256.0000 - tn: 126876.0000 - fn: 64284.0000 - accuracy: 0.6384 - precision: 0.6199 - recall: 0.7157 - auc: 0.6852 - prc: 0.6524 - val_loss: 0.6050 - val_tp: 2680.0000 - val_fp: 16922.0000 - val_tn: 28238.0000 - val_fn: 1362.0000 - val_accuracy: 0.6284 - val_precision: 0.1367 - val_recall: 0.6630 - val_auc: 0.6948 - val_prc: 0.1706\n",
      "Epoch 15/100\n",
      "14134/14134 [==============================] - ETA: 0s - loss: 0.6395 - tp: 164312.0000 - fp: 101297.0000 - tn: 124835.0000 - fn: 61820.0000 - accuracy: 0.6393 - precision: 0.6186 - recall: 0.7266 - auc: 0.6878 - prc: 0.6558Restoring model weights from the end of the best epoch: 5.\n",
      "14134/14134 [==============================] - 86s 6ms/step - loss: 0.6395 - tp: 164312.0000 - fp: 101297.0000 - tn: 124835.0000 - fn: 61820.0000 - accuracy: 0.6393 - precision: 0.6186 - recall: 0.7266 - auc: 0.6878 - prc: 0.6558 - val_loss: 0.5794 - val_tp: 2523.0000 - val_fp: 15545.0000 - val_tn: 29615.0000 - val_fn: 1519.0000 - val_accuracy: 0.6532 - val_precision: 0.1396 - val_recall: 0.6242 - val_auc: 0.6902 - val_prc: 0.1668\n",
      "Epoch 00015: early stopping\n",
      "14134/14134 [==============================] - 57s 4ms/step - loss: 0.6147 - tp: 163958.0000 - fp: 85111.0000 - tn: 141021.0000 - fn: 62174.0000 - accuracy: 0.6743 - precision: 0.6583 - recall: 0.7251 - auc: 0.7321 - prc: 0.6995\n",
      "1538/1538 [==============================] - 6s 4ms/step - loss: 0.6027 - tp: 2723.0000 - fp: 16935.0000 - tn: 28225.0000 - fn: 1319.0000 - accuracy: 0.6290 - precision: 0.1385 - recall: 0.6737 - auc: 0.6967 - prc: 0.1713\n",
      "1922/1922 [==============================] - 8s 4ms/step - loss: 0.6029 - tp: 3352.0000 - fp: 21254.0000 - tn: 35300.0000 - fn: 1597.0000 - accuracy: 0.6285 - precision: 0.1362 - recall: 0.6773 - auc: 0.7035 - prc: 0.1750\n",
      "For delta=0.0000, the current epsilon is: 4.54\n",
      "Training Result\n",
      "loss :  0.6147095561027527\n",
      "tp :  163958.0\n",
      "fp :  85111.0\n",
      "tn :  141021.0\n",
      "fn :  62174.0\n",
      "accuracy :  0.6743384599685669\n",
      "precision :  0.6582834720611572\n",
      "recall :  0.7250543832778931\n",
      "auc :  0.7320922017097473\n",
      "prc :  0.6994920372962952\n",
      "\n",
      "Validation Result\n",
      "loss :  0.6026993989944458\n",
      "tp :  2723.0\n",
      "fp :  16935.0\n",
      "tn :  28225.0\n",
      "fn :  1319.0\n",
      "accuracy :  0.6289988160133362\n",
      "precision :  0.13851867616176605\n",
      "recall :  0.6736763715744019\n",
      "auc :  0.6966757774353027\n",
      "prc :  0.1713399440050125\n",
      "\n",
      "Testing Result\n",
      "loss :  0.6028561592102051\n",
      "tp :  3352.0\n",
      "fp :  21254.0\n",
      "tn :  35300.0\n",
      "fn :  1597.0\n",
      "accuracy :  0.6284571290016174\n",
      "precision :  0.13622693717479706\n",
      "recall :  0.6773085594177246\n",
      "auc :  0.7035040259361267\n",
      "prc :  0.17498354613780975\n",
      "\n"
     ]
    }
   ],
   "source": [
    "resampled_dp_model, score_train, score_val, score_test, eps, delta, weights, resampled_dp_history = train(dpsgd=True, batch_size=BATCH_SIZE, microbatches=1, l2_norm_clip=1.0, \n",
    "      noise_multiplier=1.0, learning_rate=0.001, epochs=EPOCHS, \n",
    "      resampled_features=resampled_features, resampled_labels=resampled_labels,print_output=True, verbose = 1)"
   ]
  },
  {
   "cell_type": "code",
   "execution_count": 109,
   "id": "alert-chocolate",
   "metadata": {},
   "outputs": [
    {
     "name": "stdout",
     "output_type": "stream",
     "text": [
      "loss :  0.6028777956962585\n",
      "tp :  3352.0\n",
      "fp :  21254.0\n",
      "tn :  35300.0\n",
      "fn :  1597.0\n",
      "accuracy :  0.6284571290016174\n",
      "precision :  0.13622693717479706\n",
      "recall :  0.6773085594177246\n",
      "auc :  0.7035040259361267\n",
      "prc :  0.17498354613780975\n",
      "\n"
     ]
    },
    {
     "data": {
      "image/png": "[encoded data removed]",
      "text/plain": [
       "<Figure size 360x360 with 2 Axes>"
      ]
     },
     "metadata": {
      "needs_background": "light"
     },
     "output_type": "display_data"
    },
    {
     "name": "stdout",
     "output_type": "stream",
     "text": [
      "Legitimate Transactions Detected (True Negatives):  35300\n",
      "Legitimate Transactions Incorrectly Detected (False Positives):  21254\n",
      "Fraudulent Transactions Missed (False Negatives):  1597\n",
      "Fraudulent Transactions Detected (True Positives):  3352\n",
      "Total Fraudulent Transactions:  4949\n",
      "\n",
      "Plot ROC\n"
     ]
    },
    {
     "data": {
      "image/png": "[encoded data removed]",
      "text/plain": [
       "<Figure size 864x720 with 1 Axes>"
      ]
     },
     "metadata": {
      "needs_background": "light"
     },
     "output_type": "display_data"
    },
    {
     "name": "stdout",
     "output_type": "stream",
     "text": [
      "\n",
      "Plot Precision-Recall Curve\n"
     ]
    },
    {
     "data": {
      "image/png": "[encoded data removed]",
      "text/plain": [
       "<Figure size 864x720 with 1 Axes>"
      ]
     },
     "metadata": {
      "needs_background": "light"
     },
     "output_type": "display_data"
    }
   ],
   "source": [
    "evaluate_models(resampled_dp_model, train_features, train_labels, test_features, test_labels, BATCH_SIZE)"
   ]
  },
  {
   "cell_type": "code",
   "execution_count": 94,
   "id": "affected-mexico",
   "metadata": {},
   "outputs": [
    {
     "data": {
      "text/plain": [
       "ERROR: Could not find `tensorboard`. Please ensure that your PATH\n",
       "contains an executable `tensorboard` program, or explicitly specify\n",
       "the path to a TensorBoard binary by setting the `TENSORBOARD_BINARY`\n",
       "environment variable."
      ]
     },
     "metadata": {},
     "output_type": "display_data"
    }
   ],
   "source": [
    "%tensorboard --logdir logs/fit"
   ]
  },
  {
   "cell_type": "markdown",
   "id": "wound-bleeding",
   "metadata": {},
   "source": [
    "### non-DP Model"
   ]
  },
  {
   "cell_type": "code",
   "execution_count": 110,
   "id": "saved-jesus",
   "metadata": {},
   "outputs": [
    {
     "name": "stdout",
     "output_type": "stream",
     "text": [
      "Epoch 1/100\n",
      "14134/14134 [==============================] - 82s 6ms/step - loss: 0.7291 - tp: 99827.0000 - fp: 86920.0000 - tn: 195766.0000 - fn: 131254.0000 - accuracy: 0.5753 - precision: 0.5346 - recall: 0.4320 - auc: 0.5945 - prc: 0.5368 - val_loss: 0.6150 - val_tp: 2201.0000 - val_fp: 13109.0000 - val_tn: 32051.0000 - val_fn: 1841.0000 - val_accuracy: 0.6962 - val_precision: 0.1438 - val_recall: 0.5445 - val_auc: 0.6759 - val_prc: 0.1569\n",
      "Epoch 2/100\n",
      "14134/14134 [==============================] - 77s 5ms/step - loss: 0.6612 - tp: 116706.0000 - fp: 69904.0000 - tn: 156228.0000 - fn: 109426.0000 - accuracy: 0.6035 - precision: 0.6254 - recall: 0.5161 - auc: 0.6514 - prc: 0.6282 - val_loss: 0.5931 - val_tp: 2113.0000 - val_fp: 11242.0000 - val_tn: 33918.0000 - val_fn: 1929.0000 - val_accuracy: 0.7323 - val_precision: 0.1582 - val_recall: 0.5228 - val_auc: 0.6945 - val_prc: 0.1706\n",
      "Epoch 3/100\n",
      "14134/14134 [==============================] - 77s 5ms/step - loss: 0.6545 - tp: 120733.0000 - fp: 70480.0000 - tn: 155652.0000 - fn: 105399.0000 - accuracy: 0.6111 - precision: 0.6314 - recall: 0.5339 - auc: 0.6619 - prc: 0.6377 - val_loss: 0.6167 - val_tp: 2513.0000 - val_fp: 15072.0000 - val_tn: 30088.0000 - val_fn: 1529.0000 - val_accuracy: 0.6626 - val_precision: 0.1429 - val_recall: 0.6217 - val_auc: 0.6919 - val_prc: 0.1662\n",
      "Epoch 4/100\n",
      "14134/14134 [==============================] - 77s 5ms/step - loss: 0.6506 - tp: 132130.0000 - fp: 78410.0000 - tn: 147722.0000 - fn: 94002.0000 - accuracy: 0.6188 - precision: 0.6276 - recall: 0.5843 - auc: 0.6674 - prc: 0.6429 - val_loss: 0.6324 - val_tp: 2600.0000 - val_fp: 15799.0000 - val_tn: 29361.0000 - val_fn: 1442.0000 - val_accuracy: 0.6496 - val_precision: 0.1413 - val_recall: 0.6432 - val_auc: 0.6990 - val_prc: 0.1734\n",
      "Epoch 5/100\n",
      "14134/14134 [==============================] - 77s 5ms/step - loss: 0.6486 - tp: 128854.0000 - fp: 73635.0000 - tn: 152497.0000 - fn: 97278.0000 - accuracy: 0.6221 - precision: 0.6364 - recall: 0.5698 - auc: 0.6733 - prc: 0.6456 - val_loss: 0.5850 - val_tp: 2420.0000 - val_fp: 13424.0000 - val_tn: 31736.0000 - val_fn: 1622.0000 - val_accuracy: 0.6942 - val_precision: 0.1527 - val_recall: 0.5987 - val_auc: 0.7059 - val_prc: 0.1779\n",
      "Epoch 6/100\n",
      "14134/14134 [==============================] - 77s 5ms/step - loss: 0.6453 - tp: 131422.0000 - fp: 75632.0000 - tn: 150500.0000 - fn: 94710.0000 - accuracy: 0.6234 - precision: 0.6347 - recall: 0.5812 - auc: 0.6754 - prc: 0.6484 - val_loss: 0.5671 - val_tp: 2337.0000 - val_fp: 12676.0000 - val_tn: 32484.0000 - val_fn: 1705.0000 - val_accuracy: 0.7077 - val_precision: 0.1557 - val_recall: 0.5782 - val_auc: 0.7044 - val_prc: 0.1764\n",
      "Epoch 7/100\n",
      "14134/14134 [==============================] - 77s 5ms/step - loss: 0.6436 - tp: 140159.0000 - fp: 81578.0000 - tn: 144554.0000 - fn: 85973.0000 - accuracy: 0.6295 - precision: 0.6321 - recall: 0.6198 - auc: 0.6793 - prc: 0.6520 - val_loss: 0.6119 - val_tp: 2617.0000 - val_fp: 15647.0000 - val_tn: 29513.0000 - val_fn: 1425.0000 - val_accuracy: 0.6530 - val_precision: 0.1433 - val_recall: 0.6475 - val_auc: 0.7019 - val_prc: 0.1771\n",
      "Epoch 8/100\n",
      "14134/14134 [==============================] - 77s 5ms/step - loss: 0.6428 - tp: 153241.0000 - fp: 93619.0000 - tn: 132513.0000 - fn: 72891.0000 - accuracy: 0.6318 - precision: 0.6208 - recall: 0.6777 - auc: 0.6794 - prc: 0.6494 - val_loss: 0.6006 - val_tp: 2569.0000 - val_fp: 15464.0000 - val_tn: 29696.0000 - val_fn: 1473.0000 - val_accuracy: 0.6558 - val_precision: 0.1425 - val_recall: 0.6356 - val_auc: 0.6989 - val_prc: 0.1753\n",
      "Epoch 9/100\n",
      "14134/14134 [==============================] - 77s 5ms/step - loss: 0.6432 - tp: 149815.0000 - fp: 90440.0000 - tn: 135692.0000 - fn: 76317.0000 - accuracy: 0.6313 - precision: 0.6236 - recall: 0.6625 - auc: 0.6789 - prc: 0.6479 - val_loss: 0.6293 - val_tp: 2738.0000 - val_fp: 17360.0000 - val_tn: 27800.0000 - val_fn: 1304.0000 - val_accuracy: 0.6207 - val_precision: 0.1362 - val_recall: 0.6774 - val_auc: 0.7002 - val_prc: 0.1738\n",
      "Epoch 10/100\n",
      "14134/14134 [==============================] - 77s 5ms/step - loss: 0.6453 - tp: 151377.0000 - fp: 92895.0000 - tn: 133237.0000 - fn: 74755.0000 - accuracy: 0.6293 - precision: 0.6197 - recall: 0.6694 - auc: 0.6761 - prc: 0.6454 - val_loss: 0.5827 - val_tp: 2363.0000 - val_fp: 13280.0000 - val_tn: 31880.0000 - val_fn: 1679.0000 - val_accuracy: 0.6960 - val_precision: 0.1511 - val_recall: 0.5846 - val_auc: 0.6974 - val_prc: 0.1687\n",
      "Epoch 11/100\n",
      "14134/14134 [==============================] - 77s 5ms/step - loss: 0.6467 - tp: 150926.0000 - fp: 93115.0000 - tn: 133017.0000 - fn: 75206.0000 - accuracy: 0.6278 - precision: 0.6184 - recall: 0.6674 - auc: 0.6739 - prc: 0.6429 - val_loss: 0.6107 - val_tp: 2707.0000 - val_fp: 16668.0000 - val_tn: 28492.0000 - val_fn: 1335.0000 - val_accuracy: 0.6341 - val_precision: 0.1397 - val_recall: 0.6697 - val_auc: 0.6963 - val_prc: 0.1723\n",
      "Epoch 12/100\n",
      "14134/14134 [==============================] - 77s 5ms/step - loss: 0.6465 - tp: 162236.0000 - fp: 104810.0000 - tn: 121322.0000 - fn: 63896.0000 - accuracy: 0.6270 - precision: 0.6075 - recall: 0.7174 - auc: 0.6737 - prc: 0.6421 - val_loss: 0.5731 - val_tp: 2537.0000 - val_fp: 14782.0000 - val_tn: 30378.0000 - val_fn: 1505.0000 - val_accuracy: 0.6690 - val_precision: 0.1465 - val_recall: 0.6277 - val_auc: 0.6989 - val_prc: 0.1733\n",
      "Epoch 13/100\n",
      "14134/14134 [==============================] - 79s 6ms/step - loss: 0.6442 - tp: 162469.0000 - fp: 103815.0000 - tn: 122317.0000 - fn: 63663.0000 - accuracy: 0.6297 - precision: 0.6101 - recall: 0.7185 - auc: 0.6778 - prc: 0.6460 - val_loss: 0.6670 - val_tp: 2928.0000 - val_fp: 19063.0000 - val_tn: 26097.0000 - val_fn: 1114.0000 - val_accuracy: 0.5899 - val_precision: 0.1331 - val_recall: 0.7244 - val_auc: 0.7045 - val_prc: 0.1734\n",
      "Epoch 14/100\n",
      "14134/14134 [==============================] - 77s 5ms/step - loss: 0.6451 - tp: 147614.0000 - fp: 88643.0000 - tn: 137489.0000 - fn: 78518.0000 - accuracy: 0.6304 - precision: 0.6248 - recall: 0.6528 - auc: 0.6769 - prc: 0.6452 - val_loss: 0.6177 - val_tp: 2666.0000 - val_fp: 15824.0000 - val_tn: 29336.0000 - val_fn: 1376.0000 - val_accuracy: 0.6504 - val_precision: 0.1442 - val_recall: 0.6596 - val_auc: 0.7064 - val_prc: 0.1762\n",
      "Epoch 15/100\n",
      "14134/14134 [==============================] - 77s 5ms/step - loss: 0.6445 - tp: 155779.0000 - fp: 97209.0000 - tn: 128923.0000 - fn: 70353.0000 - accuracy: 0.6295 - precision: 0.6158 - recall: 0.6889 - auc: 0.6773 - prc: 0.6451 - val_loss: 0.6271 - val_tp: 2765.0000 - val_fp: 17049.0000 - val_tn: 28111.0000 - val_fn: 1277.0000 - val_accuracy: 0.6275 - val_precision: 0.1395 - val_recall: 0.6841 - val_auc: 0.7056 - val_prc: 0.1745\n",
      "Epoch 16/100\n",
      "14134/14134 [==============================] - 77s 5ms/step - loss: 0.6457 - tp: 162971.0000 - fp: 105396.0000 - tn: 120736.0000 - fn: 63161.0000 - accuracy: 0.6273 - precision: 0.6073 - recall: 0.7207 - auc: 0.6754 - prc: 0.6449 - val_loss: 0.6342 - val_tp: 2821.0000 - val_fp: 17910.0000 - val_tn: 27250.0000 - val_fn: 1221.0000 - val_accuracy: 0.6112 - val_precision: 0.1361 - val_recall: 0.6979 - val_auc: 0.7002 - val_prc: 0.1695\n",
      "Epoch 17/100\n",
      "14134/14134 [==============================] - 77s 5ms/step - loss: 0.6462 - tp: 164420.0000 - fp: 106808.0000 - tn: 119324.0000 - fn: 61712.0000 - accuracy: 0.6274 - precision: 0.6062 - recall: 0.7271 - auc: 0.6747 - prc: 0.6441 - val_loss: 0.6571 - val_tp: 2968.0000 - val_fp: 19841.0000 - val_tn: 25319.0000 - val_fn: 1074.0000 - val_accuracy: 0.5749 - val_precision: 0.1301 - val_recall: 0.7343 - val_auc: 0.6988 - val_prc: 0.1692\n",
      "Epoch 18/100\n",
      "14134/14134 [==============================] - 77s 5ms/step - loss: 0.6458 - tp: 165333.0000 - fp: 108061.0000 - tn: 118071.0000 - fn: 60799.0000 - accuracy: 0.6266 - precision: 0.6047 - recall: 0.7311 - auc: 0.6744 - prc: 0.6424 - val_loss: 0.6306 - val_tp: 2932.0000 - val_fp: 18754.0000 - val_tn: 26406.0000 - val_fn: 1110.0000 - val_accuracy: 0.5963 - val_precision: 0.1352 - val_recall: 0.7254 - val_auc: 0.7046 - val_prc: 0.1748\n",
      "Epoch 19/100\n",
      "14134/14134 [==============================] - 77s 5ms/step - loss: 0.6470 - tp: 166497.0000 - fp: 110438.0000 - tn: 115694.0000 - fn: 59635.0000 - accuracy: 0.6240 - precision: 0.6012 - recall: 0.7363 - auc: 0.6713 - prc: 0.6387 - val_loss: 0.6003 - val_tp: 2763.0000 - val_fp: 17042.0000 - val_tn: 28118.0000 - val_fn: 1279.0000 - val_accuracy: 0.6276 - val_precision: 0.1395 - val_recall: 0.6836 - val_auc: 0.7012 - val_prc: 0.1708\n",
      "Epoch 20/100\n",
      "14134/14134 [==============================] - 77s 5ms/step - loss: 0.6481 - tp: 163674.0000 - fp: 108379.0000 - tn: 117753.0000 - fn: 62458.0000 - accuracy: 0.6223 - precision: 0.6016 - recall: 0.7238 - auc: 0.6688 - prc: 0.6363 - val_loss: 0.6462 - val_tp: 2924.0000 - val_fp: 18942.0000 - val_tn: 26218.0000 - val_fn: 1118.0000 - val_accuracy: 0.5923 - val_precision: 0.1337 - val_recall: 0.7234 - val_auc: 0.7025 - val_prc: 0.1707\n",
      "Epoch 21/100\n",
      "14134/14134 [==============================] - 77s 5ms/step - loss: 0.6487 - tp: 164349.0000 - fp: 108810.0000 - tn: 117322.0000 - fn: 61783.0000 - accuracy: 0.6228 - precision: 0.6017 - recall: 0.7268 - auc: 0.6693 - prc: 0.6364 - val_loss: 0.6291 - val_tp: 2851.0000 - val_fp: 18713.0000 - val_tn: 26447.0000 - val_fn: 1191.0000 - val_accuracy: 0.5955 - val_precision: 0.1322 - val_recall: 0.7053 - val_auc: 0.6970 - val_prc: 0.1685\n",
      "Epoch 22/100\n",
      "14134/14134 [==============================] - 77s 5ms/step - loss: 0.6485 - tp: 162912.0000 - fp: 106903.0000 - tn: 119229.0000 - fn: 63220.0000 - accuracy: 0.6238 - precision: 0.6038 - recall: 0.7204 - auc: 0.6701 - prc: 0.6376 - val_loss: 0.6153 - val_tp: 2681.0000 - val_fp: 16570.0000 - val_tn: 28590.0000 - val_fn: 1361.0000 - val_accuracy: 0.6356 - val_precision: 0.1393 - val_recall: 0.6633 - val_auc: 0.7003 - val_prc: 0.1704\n",
      "Epoch 23/100\n",
      "14134/14134 [==============================] - 77s 5ms/step - loss: 0.6492 - tp: 154913.0000 - fp: 99069.0000 - tn: 127063.0000 - fn: 71219.0000 - accuracy: 0.6235 - precision: 0.6099 - recall: 0.6851 - auc: 0.6697 - prc: 0.6380 - val_loss: 0.6560 - val_tp: 2913.0000 - val_fp: 18766.0000 - val_tn: 26394.0000 - val_fn: 1129.0000 - val_accuracy: 0.5956 - val_precision: 0.1344 - val_recall: 0.7207 - val_auc: 0.7039 - val_prc: 0.1738\n",
      "Epoch 24/100\n",
      "14133/14134 [============================>.] - ETA: 0s - loss: 0.6506 - tp: 158637.0000 - fp: 104316.0000 - tn: 121813.0000 - fn: 67490.0000 - accuracy: 0.6201 - precision: 0.6033 - recall: 0.7015 - auc: 0.6662 - prc: 0.6355Restoring model weights from the end of the best epoch: 14.\n",
      "14134/14134 [==============================] - 77s 5ms/step - loss: 0.6506 - tp: 158641.0000 - fp: 104317.0000 - tn: 121815.0000 - fn: 67491.0000 - accuracy: 0.6201 - precision: 0.6033 - recall: 0.7015 - auc: 0.6662 - prc: 0.6355 - val_loss: 0.6487 - val_tp: 2883.0000 - val_fp: 19947.0000 - val_tn: 25213.0000 - val_fn: 1159.0000 - val_accuracy: 0.5710 - val_precision: 0.1263 - val_recall: 0.7133 - val_auc: 0.6888 - val_prc: 0.1646\n",
      "Epoch 00024: early stopping\n",
      "14134/14134 [==============================] - 51s 4ms/step - loss: 0.6183 - tp: 156448.0000 - fp: 79265.0000 - tn: 146867.0000 - fn: 69684.0000 - accuracy: 0.6707 - precision: 0.6637 - recall: 0.6918 - auc: 0.7277 - prc: 0.6936\n",
      "1538/1538 [==============================] - 6s 4ms/step - loss: 0.6177 - tp: 2666.0000 - fp: 15824.0000 - tn: 29336.0000 - fn: 1376.0000 - accuracy: 0.6504 - precision: 0.1442 - recall: 0.6596 - auc: 0.7064 - prc: 0.1762\n",
      "1922/1922 [==============================] - 7s 4ms/step - loss: 0.6175 - tp: 3294.0000 - fp: 19841.0000 - tn: 36713.0000 - fn: 1655.0000 - accuracy: 0.6505 - precision: 0.1424 - recall: 0.6656 - auc: 0.7115 - prc: 0.1816\n",
      "For delta=0.0000, the current epsilon is: 4.54\n",
      "Training Result\n",
      "loss :  0.6183489561080933\n",
      "tp :  156448.0\n",
      "fp :  79265.0\n",
      "tn :  146867.0\n",
      "fn :  69684.0\n",
      "accuracy :  0.6706591844558716\n",
      "precision :  0.6637223958969116\n",
      "recall :  0.6918436884880066\n",
      "auc :  0.7277243733406067\n",
      "prc :  0.6936246156692505\n",
      "\n",
      "Validation Result\n",
      "loss :  0.6176795363426208\n",
      "tp :  2666.0\n",
      "fp :  15824.0\n",
      "tn :  29336.0\n",
      "fn :  1376.0\n",
      "accuracy :  0.6504207253456116\n",
      "precision :  0.14418604969978333\n",
      "recall :  0.6595744490623474\n",
      "auc :  0.7064104080200195\n",
      "prc :  0.17621399462223053\n",
      "\n",
      "Testing Result\n",
      "loss :  0.617451012134552\n",
      "tp :  3294.0\n",
      "fp :  19841.0\n",
      "tn :  36713.0\n",
      "fn :  1655.0\n",
      "accuracy :  0.6504886150360107\n",
      "precision :  0.1423816680908203\n",
      "recall :  0.6655890345573425\n",
      "auc :  0.7114958167076111\n",
      "prc :  0.18161164224147797\n",
      "\n"
     ]
    }
   ],
   "source": [
    "resampled_model, score_train, score_val, score_test, eps, delta, weights, resampled_history = train(dpsgd=True, batch_size=BATCH_SIZE, microbatches=1, l2_norm_clip=1.0, \n",
    "      noise_multiplier=1.0, learning_rate=0.001, epochs=EPOCHS, \n",
    "      resampled_features=resampled_features, resampled_labels=resampled_labels,print_output=True, verbose = 1)"
   ]
  },
  {
   "cell_type": "code",
   "execution_count": 111,
   "id": "official-level",
   "metadata": {},
   "outputs": [
    {
     "name": "stdout",
     "output_type": "stream",
     "text": [
      "loss :  0.6174559593200684\n",
      "tp :  3294.0\n",
      "fp :  19841.0\n",
      "tn :  36713.0\n",
      "fn :  1655.0\n",
      "accuracy :  0.6504886150360107\n",
      "precision :  0.1423816680908203\n",
      "recall :  0.6655890345573425\n",
      "auc :  0.7114958167076111\n",
      "prc :  0.18161164224147797\n",
      "\n"
     ]
    },
    {
     "data": {
      "image/png": "[encoded data removed]",
      "text/plain": [
       "<Figure size 360x360 with 2 Axes>"
      ]
     },
     "metadata": {
      "needs_background": "light"
     },
     "output_type": "display_data"
    },
    {
     "name": "stdout",
     "output_type": "stream",
     "text": [
      "Legitimate Transactions Detected (True Negatives):  36713\n",
      "Legitimate Transactions Incorrectly Detected (False Positives):  19841\n",
      "Fraudulent Transactions Missed (False Negatives):  1655\n",
      "Fraudulent Transactions Detected (True Positives):  3294\n",
      "Total Fraudulent Transactions:  4949\n",
      "\n",
      "Plot ROC\n"
     ]
    },
    {
     "data": {
      "image/png": "[encoded data removed]",
      "text/plain": [
       "<Figure size 864x720 with 1 Axes>"
      ]
     },
     "metadata": {
      "needs_background": "light"
     },
     "output_type": "display_data"
    },
    {
     "name": "stdout",
     "output_type": "stream",
     "text": [
      "\n",
      "Plot Precision-Recall Curve\n"
     ]
    },
    {
     "data": {
      "image/png": "[encoded data removed]",
      "text/plain": [
       "<Figure size 864x720 with 1 Axes>"
      ]
     },
     "metadata": {
      "needs_background": "light"
     },
     "output_type": "display_data"
    }
   ],
   "source": [
    "evaluate_models(resampled_model, train_features, train_labels, test_features, test_labels, BATCH_SIZE)"
   ]
  },
  {
   "cell_type": "code",
   "execution_count": null,
   "id": "recorded-brother",
   "metadata": {},
   "outputs": [],
   "source": [
    "%tensorboard --logdir logs/fit"
   ]
  },
  {
   "cell_type": "markdown",
   "id": "sudden-trailer",
   "metadata": {},
   "source": [
    "### Hyperparameter Tuning"
   ]
  },
  {
   "cell_type": "code",
   "execution_count": 21,
   "id": "directed-experiment",
   "metadata": {},
   "outputs": [],
   "source": [
    "def train_hp_tuning(dpsgd, batch_sizes, microbatches_list, l2_norm_clips, \n",
    "                    noise_multipliers, learning_rate, epochs,  model_dir=None, print_output = False, verbose = 0):\n",
    "    \n",
    "    table_outputs = []\n",
    "    for batch_size in batch_sizes:\n",
    "        for microbatches in microbatches_list:\n",
    "            for l2_norm_clip in l2_norm_clips:\n",
    "                for noise_multiplier in noise_multipliers:\n",
    "\n",
    "                    _, score_train, score_val, score_test, eps, delta, _, _ = train(dpsgd=dpsgd, \n",
    "                                        batch_size=batch_size, microbatches=microbatches, l2_norm_clip=l2_norm_clip,\n",
    "                                        noise_multiplier=noise_multiplier, learning_rate=learning_rate, \n",
    "                                        epochs=epochs, resampled_features=resampled_features, resampled_labels=resampled_labels,\n",
    "                                        print_output=print_output, verbose = verbose)\n",
    "                    \n",
    "                    table_outputs.append([learning_rate, noise_multiplier, l2_norm_clip, epochs, batch_size, microbatches,\n",
    "                                        score_train[0], score_train[6],  score_train[7],  score_train[8], score_train[9], \n",
    "                                        score_val[0],  score_val[6],  score_val[7],  score_val[8],  score_val[9], \n",
    "                                        score_test[0], score_test[6], score_test[7], score_test[8], score_test[9], \n",
    "                                        eps, delta])\n",
    "\n",
    "                \n",
    "    df = pd.DataFrame(table_outputs, columns=['learning rate', 'noise multiplier', 'L2 norm clip',\n",
    "                                                'Epochs', 'Batch size', 'Microbatches', \n",
    "                                              'Training loss', 'Training precision', 'Training recall', 'Training AUC', 'Training PRC', \n",
    "                                              'Validation loss', 'Validation precision', 'Validation recall', 'Validation AUC', 'Validation PRC', \n",
    "                                              'Test loss', 'Test precision', 'Test recall', 'Test AUC', 'Test PRC', \n",
    "                                              'Epsilon', 'Delta'])\n",
    "\n",
    "    return df"
   ]
  },
  {
   "cell_type": "code",
   "execution_count": null,
   "id": "manufactured-defensive",
   "metadata": {},
   "outputs": [],
   "source": [
    "noise_multipliers = [1, 3, 5]\n",
    "l2_norm_clips = [0.9, 1.0, 1.1]\n",
    "batch_sizes = [1024, 2048]\n",
    "microbatches_list = [1]\n",
    "\n",
    "training_outputs = train_hp_tuning(dpsgd=True,  batch_sizes = batch_sizes,\n",
    "                                   microbatches_list=microbatches_list,\n",
    "                                   l2_norm_clips=l2_norm_clips, \n",
    "                                   noise_multipliers=noise_multipliers, \n",
    "                                    learning_rate=0.0005, epochs=100,  model_dir=None,\n",
    "                                    print_output = False, verbose = 0)\n",
    "\n",
    "\n"
   ]
  },
  {
   "cell_type": "code",
   "execution_count": null,
   "id": "hispanic-preserve",
   "metadata": {},
   "outputs": [],
   "source": [
    "training_outputs.sort_values(by=['Validation PRC', 'Epsilon'], ascending=[False, True])\n",
    "training_outputs"
   ]
  },
  {
   "cell_type": "markdown",
   "id": "unlike-feedback",
   "metadata": {},
   "source": [
    "## Adversarial Test"
   ]
  },
  {
   "cell_type": "code",
   "execution_count": null,
   "id": "alpha-plumbing",
   "metadata": {},
   "outputs": [],
   "source": []
  }
 ],
 "metadata": {
  "kernelspec": {
   "display_name": "Pets_ALL",
   "language": "python",
   "name": "pets_all"
  },
  "language_info": {
   "codemirror_mode": {
    "name": "ipython",
    "version": 3
   },
   "file_extension": ".py",
   "mimetype": "text/x-python",
   "name": "python",
   "nbconvert_exporter": "python",
   "pygments_lexer": "ipython3",
   "version": "3.8.0"
  }
 },
 "nbformat": 4,
 "nbformat_minor": 5
}
