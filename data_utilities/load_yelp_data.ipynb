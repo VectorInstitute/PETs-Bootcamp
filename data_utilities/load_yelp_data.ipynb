{
 "cells": [
  {
   "cell_type": "code",
   "execution_count": 1,
   "id": "matched-custom",
   "metadata": {},
   "outputs": [
    {
     "name": "stdout",
     "output_type": "stream",
     "text": [
      "Found 1787 files belonging to 5 classes.\n"
     ]
    }
   ],
   "source": [
    "import tensorflow as tf\n",
    "\n",
    "data_dir = \"/ssd003/projects/pets/datasets\"\n",
    "dataset = tf.keras.preprocessing.text_dataset_from_directory(\n",
    "    f\"{data_dir}/yelp/business_federated/7-Eleven/\", labels=\"inferred\"\n",
    ")"
   ]
  },
  {
   "cell_type": "code",
   "execution_count": 2,
   "id": "unique-store",
   "metadata": {},
   "outputs": [],
   "source": [
    "data, labels = next(iter(dataset))"
   ]
  },
  {
   "cell_type": "code",
   "execution_count": 3,
   "id": "critical-integer",
   "metadata": {},
   "outputs": [
    {
     "data": {
      "text/plain": [
       "TensorShape([32])"
      ]
     },
     "execution_count": 3,
     "metadata": {},
     "output_type": "execute_result"
    }
   ],
   "source": [
    "data.shape"
   ]
  },
  {
   "cell_type": "code",
   "execution_count": 4,
   "id": "permanent-architect",
   "metadata": {},
   "outputs": [
    {
     "data": {
      "text/plain": [
       "TensorShape([32])"
      ]
     },
     "execution_count": 4,
     "metadata": {},
     "output_type": "execute_result"
    }
   ],
   "source": [
    "labels.shape"
   ]
  },
  {
   "cell_type": "code",
   "execution_count": 5,
   "id": "atmospheric-vienna",
   "metadata": {},
   "outputs": [
    {
     "data": {
      "text/plain": [
       "<tf.Tensor: shape=(), dtype=string, numpy=b'Convenience stores in general are sort of meh, but this one is great. They are always well stocked, coffee is hot for the earliest of birds, lots of DVDs, hot case foods etc. \\n\\nEveryone working here us pretty friendly which is nice cause sometimes convenience store workers deal with people that put them into a sort of state of... Catatonia? \\n\\nSwing by for coffee, use the app for \"stamps\" toward a free coffee, get a pizza for 5 bucks to bake at home or have these guys do it. I recommend asking for extra crispy. \\n\\nGo fourth and explore the Slurpee flavors and ice coffee machine flavors. \\n\\nSyoy'>"
      ]
     },
     "execution_count": 5,
     "metadata": {},
     "output_type": "execute_result"
    }
   ],
   "source": [
    "# As you can see, some of these reviews are... colourful.\n",
    "data[0]"
   ]
  },
  {
   "cell_type": "code",
   "execution_count": null,
   "id": "signed-india",
   "metadata": {},
   "outputs": [],
   "source": []
  }
 ],
 "metadata": {
  "kernelspec": {
   "display_name": "Pets_ALL",
   "language": "python",
   "name": "pets_all"
  },
  "language_info": {
   "codemirror_mode": {
    "name": "ipython",
    "version": 3
   },
   "file_extension": ".py",
   "mimetype": "text/x-python",
   "name": "python",
   "nbconvert_exporter": "python",
   "pygments_lexer": "ipython3",
   "version": "3.8.0"
  }
 },
 "nbformat": 4,
 "nbformat_minor": 5
}
