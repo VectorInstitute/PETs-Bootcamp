{
 "cells": [
  {
   "cell_type": "code",
   "execution_count": 43,
   "id": "vocational-chassis",
   "metadata": {},
   "outputs": [
    {
     "name": "stdout",
     "output_type": "stream",
     "text": [
      "Found 1787 files belonging to 5 classes.\n"
     ]
    }
   ],
   "source": [
    "import tensorflow as tf\n",
    "data_dir = \"/ssd003/projects/pets/datasets\"\n",
    "dataset = tf.keras.preprocessing.text_dataset_from_directory(f\"{data_dir}/yelp/business_federated/7-Eleven/\", labels='inferred')"
   ]
  },
  {
   "cell_type": "code",
   "execution_count": 3,
   "id": "greater-norway",
   "metadata": {},
   "outputs": [],
   "source": [
    "data, labels = next(iter(dataset))"
   ]
  },
  {
   "cell_type": "code",
   "execution_count": 4,
   "id": "unusual-commitment",
   "metadata": {},
   "outputs": [
    {
     "data": {
      "text/plain": [
       "TensorShape([32])"
      ]
     },
     "execution_count": 4,
     "metadata": {},
     "output_type": "execute_result"
    }
   ],
   "source": [
    "data.shape"
   ]
  },
  {
   "cell_type": "code",
   "execution_count": 5,
   "id": "steady-glenn",
   "metadata": {},
   "outputs": [
    {
     "data": {
      "text/plain": [
       "TensorShape([32])"
      ]
     },
     "execution_count": 5,
     "metadata": {},
     "output_type": "execute_result"
    }
   ],
   "source": [
    "labels.shape"
   ]
  },
  {
   "cell_type": "code",
   "execution_count": 6,
   "id": "derived-institution",
   "metadata": {},
   "outputs": [
    {
     "data": {
      "text/plain": [
       "<tf.Tensor: shape=(), dtype=string, numpy=b\"I was just as this establishment (May 20th, around 1:30pm) and the cashier legitimately had to audacity to tell me I shouldn't be wearing an outfit that shows everything & a few other snide remarks. Almost didn't check me out because of it. I'm wearing a fricken blazer and shorts. An outfit I'd wear to my corporate job. Also, the last time I was there, she told me I looked chubby in my ID (Im 105lbs) and almost didn't sell me a pack of smokes. I'm 22. Her attitude was foul and completely inappropriate. She wouldn't give me her name but I sure as hell plan on finding out. To the owner, please respond to this and I will be happy to give you my information. I also will be contacting the corporate office. I would negative stars if I could.\">"
      ]
     },
     "execution_count": 6,
     "metadata": {},
     "output_type": "execute_result"
    }
   ],
   "source": [
    "# As you can see, some of these reviews are... colourful.\n",
    "data[0]"
   ]
  },
  {
   "cell_type": "code",
   "execution_count": null,
   "id": "driven-tattoo",
   "metadata": {},
   "outputs": [],
   "source": []
  }
 ],
 "metadata": {
  "kernelspec": {
   "display_name": "Pets_ALL",
   "language": "python",
   "name": "pets_all"
  },
  "language_info": {
   "codemirror_mode": {
    "name": "ipython",
    "version": 3
   },
   "file_extension": ".py",
   "mimetype": "text/x-python",
   "name": "python",
   "nbconvert_exporter": "python",
   "pygments_lexer": "ipython3",
   "version": "3.8.0"
  }
 },
 "nbformat": 4,
 "nbformat_minor": 5
}
