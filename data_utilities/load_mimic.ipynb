{
 "cells": [
  {
   "cell_type": "markdown",
   "id": "generic-interview",
   "metadata": {},
   "source": [
    "### Dataset Description\n",
    "\n",
    "The Medical Information Mart for Intensive Care (MIMIC-III) is a database containing information about patients admitted to critical care units. One of the popular benchmarks on this dataset is in hospital mortality prediction based on data captured the first 48 hours of a patients stay. Their are 17 clinical features that are monitored over this time period and a label that indicates whether or not the patient survives their stay in the critical care unit. Thus, the dataset is constructed by computing 6 sample statistics over seven different subsequences of each of the seventeen clinical features (714 features) in addition to the binary label. The figure below outlines the 17 clinical feature. \n",
    "\n",
    "<p align=\"center\">\n",
    "<img width=\"572\" \n",
    "     alt=\"Screen Shot 2021-11-05 at 12 04 36 PM\" \n",
    "     src=\"https://user-images.githubusercontent.com/34798787/140544354-6424b28f-cc54-4608-a565-d4f860e309db.png\">\n",
    "</p>\n",
    "<center>\n",
    "<a href=https://arxiv.org/pdf/1703.07771.pdf>Source</a>  \n",
    "</center>\n"
   ]
  },
  {
   "cell_type": "code",
   "execution_count": 1,
   "id": "collect-prophet",
   "metadata": {},
   "outputs": [],
   "source": [
    "import pickle\n",
    "\n",
    "import matplotlib.pyplot as plt\n",
    "import numpy as np"
   ]
  },
  {
   "cell_type": "code",
   "execution_count": 8,
   "id": "nuclear-cyprus",
   "metadata": {},
   "outputs": [],
   "source": [
    "data_dir = \"/h/ethanj/mimic3-benchmarks\"\n",
    "train_data = np.load(f\"{data_dir}/train_data.npy\")\n",
    "train_labels = np.load(f\"{data_dir}/train_lbl.npy\")\n",
    "valid_data = np.load(f\"{data_dir}/val_data.npy\")\n",
    "valid_labels = np.load(f\"{data_dir}/val_lbl.npy\")\n",
    "test_data = np.load(f\"{data_dir}/test_data.npy\")\n",
    "test_labels = np.load(f\"{data_dir}/test_lbl.npy\")"
   ]
  },
  {
   "cell_type": "code",
   "execution_count": 11,
   "id": "binary-glass",
   "metadata": {},
   "outputs": [
    {
     "name": "stdout",
     "output_type": "stream",
     "text": [
      "(14681, 714)\n",
      "(14681,)\n",
      "(3222, 714)\n",
      "(3222,)\n",
      "(3236, 714)\n",
      "(3236,)\n"
     ]
    }
   ],
   "source": [
    "print(train_data.shape)\n",
    "print(train_labels.shape)\n",
    "print(valid_data.shape)\n",
    "print(valid_labels.shape)\n",
    "print(test_data.shape)\n",
    "print(test_labels.shape)"
   ]
  },
  {
   "cell_type": "code",
   "execution_count": 16,
   "id": "isolated-heart",
   "metadata": {},
   "outputs": [
    {
     "data": {
      "text/plain": [
       "(array([12694.,     0.,     0.,     0.,     0.,     0.,     0.,     0.,\n",
       "            0.,  1987.]),\n",
       " array([0. , 0.1, 0.2, 0.3, 0.4, 0.5, 0.6, 0.7, 0.8, 0.9, 1. ]),\n",
       " <BarContainer object of 10 artists>)"
      ]
     },
     "execution_count": 16,
     "metadata": {},
     "output_type": "execute_result"
    },
    {
     "data": {
      "image/png": "[encoded data removed]",
      "text/plain": [
       "<Figure size 432x288 with 1 Axes>"
      ]
     },
     "metadata": {
      "needs_background": "light"
     },
     "output_type": "display_data"
    }
   ],
   "source": [
    "plt.hist(train_labels)"
   ]
  },
  {
   "cell_type": "code",
   "execution_count": null,
   "id": "satellite-mountain",
   "metadata": {},
   "outputs": [],
   "source": []
  }
 ],
 "metadata": {
  "kernelspec": {
   "display_name": "Python 3 (ipykernel)",
   "language": "python",
   "name": "python3"
  },
  "language_info": {
   "codemirror_mode": {
    "name": "ipython",
    "version": 3
   },
   "file_extension": ".py",
   "mimetype": "text/x-python",
   "name": "python",
   "nbconvert_exporter": "python",
   "pygments_lexer": "ipython3",
   "version": "3.9.6"
  }
 },
 "nbformat": 4,
 "nbformat_minor": 5
}
