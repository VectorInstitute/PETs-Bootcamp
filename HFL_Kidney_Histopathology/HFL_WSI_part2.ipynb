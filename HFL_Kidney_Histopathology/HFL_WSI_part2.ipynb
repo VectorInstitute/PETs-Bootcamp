{
 "cells": [
  {
   "cell_type": "markdown",
   "metadata": {
    "id": "8nE0tDBgUdU0"
   },
   "source": [
    "# Outline:\n",
    "\n",
    "\n",
    "*   **Notebook 1**:\n",
    "\n",
    "  *   An overview of Federated Learning (FL)\n",
    "  *   An overview of Whole Slide Image (WSI) data\n",
    "  *   Kidney WSI data inspection and creation for HFL task\n",
    "  *   Baseline experiment on kidney patch classification\n",
    "  *   An experiment setup for comparing HFL against baseline\n",
    "\n",
    "\n",
    "*   **Notebook 2**:\n",
    "\n",
    "  *   A working example of Horizontal Federated Learning (HFL) using TensorFlow Federated on histopathology Kidney images\n",
    "      *   Tensorflow Federated dataset\n",
    "      *   Tensorflow Federated model\n",
    "      *   Tensorflow Federated computations for initialization train and validation\n",
    "  *   Comparison of FederatedAveraging against the baseline scenario"
   ]
  },
  {
   "cell_type": "markdown",
   "metadata": {
    "id": "23kgcnC82Ya9"
   },
   "source": [
    "# Notebook 2:\n",
    "## A working example of Horizontal Federated Learning (HFL) using TensorFlow Federated on histopathology Kidney images\n",
    "\n",
    "**Note:** This notebook has been created based on the [Tensorflow Federated Tutorials](https://www.tensorflow.org/federated/tutorials/tutorials_overview) from the Tensorflow Federated. "
   ]
  },
  {
   "cell_type": "markdown",
   "metadata": {
    "id": "OJnPZ4eR_GNl"
   },
   "source": [
    "### Installation of packages (for running on colab)\n",
    "If you use colab, uncomment and run the following cell."
   ]
  },
  {
   "cell_type": "code",
   "execution_count": 24,
   "metadata": {
    "colab": {
     "base_uri": "https://localhost:8080/"
    },
    "id": "UzCd7INb1JeI",
    "outputId": "b995c6c3-a912-4a1c-c8d9-33ac5e003942"
   },
   "outputs": [],
   "source": [
    "# !pip install tensorflow-federated==0.18\n",
    "# !pip install nest_asyncio"
   ]
  },
  {
   "cell_type": "markdown",
   "metadata": {
    "id": "NxQ0kI1k_cS2"
   },
   "source": [
    "### Importing Required Packages:"
   ]
  },
  {
   "cell_type": "code",
   "execution_count": 1,
   "metadata": {
    "id": "c5RzkuLS9mWe"
   },
   "outputs": [],
   "source": [
    "import nest_asyncio\n",
    "nest_asyncio.apply()\n",
    "import collections\n",
    "import glob\n",
    "import os\n",
    "import matplotlib.pyplot as plt\n",
    "import numpy as np\n",
    "import pandas as pd\n",
    "import tensorflow as tf\n",
    "import tensorflow_federated as tff\n",
    "from tensorflow import keras\n",
    "from tensorflow.keras import layers\n",
    "from tensorflow.keras.layers import Dense, GlobalAveragePooling2D\n",
    "from tensorflow.keras.models import Model, Sequential\n",
    "from tensorflow.keras.optimizers import SGD"
   ]
  },
  {
   "cell_type": "markdown",
   "metadata": {
    "id": "1GkcY9c0-sL1"
   },
   "source": [
    "# Data Loading:\n",
    "\n",
    "To load the necessary files, specify the \"path\" variable to be the path to the folder that contains the following files:  \n",
    "* HFL_kidney.csv\n",
    "* HFL_dict_data.npy \n",
    "* tissue_source_site_data.xlsx\n",
    "* history_fed_train_id_0_2_3_test_id_1.npy\n",
    "* my_history_train_id_0_test_id_1.npy\n",
    "* my_history_train_id_2_test_id_1.npy\n",
    "* my_history_train_id_3_test_id_1.npy\n",
    "\n",
    "We already created a dictionary with for key and value pairs for kideny images from the four mentioned hospitals. Each value in dictionary is a tuple of normalized images (normalized to [0-1]  range) and the associated labels for possible three disease types."
   ]
  },
  {
   "cell_type": "code",
   "execution_count": 3,
   "metadata": {
    "id": "W0HdJosL87Ol"
   },
   "outputs": [],
   "source": [
    "# Base path to the folder that contains the following files:  HFL_kidney.csv, HFL_dict_data.npy,  tissue_source_site_data.xlsx, history_fed_train_id_0_2_3_test_id_1.npy,  my_history_train_id_0_test_id_1.npy, my_history_train_id_2_test_id_1.npy, and my_history_train_id_3_test_id_1.npy.\n",
    "path = \"\"\n",
    "# Load the meta-data of Kidney dataset\n",
    "df = pd.read_csv(path + \"/HFL_kidney.csv\")\n",
    "data = np.load(\n",
    "    path + \"/HFL_dict_data.npy\", allow_pickle=\"TRUE\"\n",
    ").item()  # data[0] return the image-lable tuple for hospital number 0"
   ]
  },
  {
   "cell_type": "markdown",
   "metadata": {
    "id": "BJNZpgarAmNX"
   },
   "source": [
    "## Creating Federated Data:\n",
    "The function `tff.simulation.ClientData.from_clients_and_fn`, requires that we write a function that accepts a `client_id` as input and returns a `tf.data.Dataset`. Let's do that in the helper function below: "
   ]
  },
  {
   "cell_type": "code",
   "execution_count": 4,
   "metadata": {
    "id": "HnfZB3Sr-iaA"
   },
   "outputs": [],
   "source": [
    "batch_size = 64\n",
    "SHUFFLE_BUFFER = 128\n",
    "def create_tf_dataset_for_client_fn(client_id):\n",
    "    client_data = data[client_id]\n",
    "    dataset = tf.data.Dataset.from_tensor_slices(\n",
    "        (client_data[0], client_data[1])\n",
    "    ).prefetch(\n",
    "        buffer_size=128\n",
    "    )  # client_data[0] is images,   client_data[1] is labels\n",
    "    dataset = dataset.shuffle(2000, reshuffle_each_iteration=True).batch(batch_size)\n",
    "    return dataset"
   ]
  },
  {
   "cell_type": "code",
   "execution_count": 5,
   "metadata": {},
   "outputs": [
    {
     "name": "stdout",
     "output_type": "stream",
     "text": [
      "0.17.0\n"
     ]
    }
   ],
   "source": [
    "print(tff.__version__)"
   ]
  },
  {
   "cell_type": "markdown",
   "metadata": {
    "id": "nN5tCuoIFH8u"
   },
   "source": [
    "Now, let's create the training and testing federated data. There are 4 hospitals in our data. We use data of 3 hospitals for training and 1 hospital for testing."
   ]
  },
  {
   "cell_type": "code",
   "execution_count": 6,
   "metadata": {
    "id": "4FymhW7t-uKi"
   },
   "outputs": [],
   "source": [
    "train_client_ids = [0, 2, 3]\n",
    "test_client_ids = [1]\n",
    "\n",
    "if tff.__version__ < \"0.19.0\":\n",
    "    train_data = tff.simulation.ClientData.from_clients_and_fn(\n",
    "        client_ids=train_client_ids,\n",
    "        create_tf_dataset_for_client_fn=create_tf_dataset_for_client_fn,\n",
    "    )\n",
    "\n",
    "    test_data = tff.simulation.ClientData.from_clients_and_fn(\n",
    "        client_ids=test_client_ids,\n",
    "        create_tf_dataset_for_client_fn=create_tf_dataset_for_client_fn,\n",
    "    )\n",
    "else:\n",
    "    train_data = tff.simulation.datasets.ClientData.from_clients_and_tf_fn(\n",
    "        client_ids=train_client_ids,\n",
    "        serializable_dataset_fn=create_tf_dataset_for_client_fn,\n",
    "    )\n",
    "\n",
    "    test_data = tff.simulation.datasets.ClientData.from_clients_and_tf_fn(\n",
    "        client_ids=test_client_ids,\n",
    "        serializable_dataset_fn=create_tf_dataset_for_client_fn,\n",
    "    )"
   ]
  },
  {
   "cell_type": "markdown",
   "metadata": {
    "id": "xTbwCJ7uHF92"
   },
   "source": [
    "Let's see number of the clients for training federated data and also the sructure of data:"
   ]
  },
  {
   "cell_type": "code",
   "execution_count": 7,
   "metadata": {
    "colab": {
     "base_uri": "https://localhost:8080/"
    },
    "id": "GQ1Qf20rQGg2",
    "outputId": "643b111a-0d16-4e4e-972a-e03e0f6ab65f"
   },
   "outputs": [
    {
     "data": {
      "text/plain": [
       "3"
      ]
     },
     "execution_count": 7,
     "metadata": {},
     "output_type": "execute_result"
    }
   ],
   "source": [
    "len(train_data.client_ids)"
   ]
  },
  {
   "cell_type": "code",
   "execution_count": 8,
   "metadata": {
    "colab": {
     "base_uri": "https://localhost:8080/"
    },
    "id": "a_Oi4uxgQMJ_",
    "outputId": "db8a5dc1-08e1-4ec7-ccaa-839413d81dd2"
   },
   "outputs": [
    {
     "data": {
      "text/plain": [
       "(TensorSpec(shape=(None, 224, 224, 3), dtype=tf.float16, name=None),\n",
       " TensorSpec(shape=(None, 3), dtype=tf.float64, name=None))"
      ]
     },
     "execution_count": 8,
     "metadata": {},
     "output_type": "execute_result"
    }
   ],
   "source": [
    "train_data.element_type_structure"
   ]
  },
  {
   "cell_type": "markdown",
   "metadata": {
    "id": "Z1nbpGYuGsKX"
   },
   "source": [
    "To see exactly how one batch od data look like we create the following example dataset from one the client ids of train federated data:"
   ]
  },
  {
   "cell_type": "code",
   "execution_count": 9,
   "metadata": {
    "colab": {
     "base_uri": "https://localhost:8080/"
    },
    "id": "zgW8MDejGRQ3",
    "outputId": "53fca16a-78a6-4853-b588-d8d0541cffb3"
   },
   "outputs": [
    {
     "name": "stdout",
     "output_type": "stream",
     "text": [
      "(<tf.Tensor: shape=(64, 224, 224, 3), dtype=float16, numpy=\n",
      "array([[[[0.545  , 0.3254 , 0.5176 ],\n",
      "         [0.5527 , 0.3372 , 0.5293 ],\n",
      "         [0.565  , 0.3452 , 0.5527 ],\n",
      "         ...,\n",
      "         [0.9175 , 0.8823 , 0.9214 ],\n",
      "         [0.9175 , 0.886  , 0.9253 ],\n",
      "         [0.9175 , 0.886  , 0.9253 ]],\n",
      "\n",
      "        [[0.5215 , 0.302  , 0.4941 ],\n",
      "         [0.51   , 0.2903 , 0.4824 ],\n",
      "         [0.5215 , 0.302  , 0.502  ],\n",
      "         ...,\n",
      "         [0.9175 , 0.886  , 0.9253 ],\n",
      "         [0.9175 , 0.886  , 0.9253 ],\n",
      "         [0.9175 , 0.886  , 0.9253 ]],\n",
      "\n",
      "        [[0.537  , 0.3215 , 0.506  ],\n",
      "         [0.4824 , 0.2627 , 0.4548 ],\n",
      "         [0.4863 , 0.2666 , 0.4666 ],\n",
      "         ...,\n",
      "         [0.902  , 0.8784 , 0.9214 ],\n",
      "         [0.902  , 0.8784 , 0.9214 ],\n",
      "         [0.898  , 0.8745 , 0.9175 ]],\n",
      "\n",
      "        ...,\n",
      "\n",
      "        [[0.5845 , 0.3608 , 0.7256 ],\n",
      "         [0.5806 , 0.357  , 0.7217 ],\n",
      "         [0.5566 , 0.3333 , 0.698  ],\n",
      "         ...,\n",
      "         [0.4824 , 0.2783 , 0.5806 ],\n",
      "         [0.533  , 0.3293 , 0.6353 ],\n",
      "         [0.506  , 0.298  , 0.612  ]],\n",
      "\n",
      "        [[0.4863 , 0.2666 , 0.639  ],\n",
      "         [0.5176 , 0.298  , 0.6704 ],\n",
      "         [0.549  , 0.3293 , 0.702  ],\n",
      "         ...,\n",
      "         [0.4746 , 0.2825 , 0.5806 ],\n",
      "         [0.4902 , 0.2942 , 0.6    ],\n",
      "         [0.4548 , 0.2588 , 0.565  ]],\n",
      "\n",
      "        [[0.533  , 0.3215 , 0.702  ],\n",
      "         [0.5566 , 0.3452 , 0.7256 ],\n",
      "         [0.569  , 0.349  , 0.7217 ],\n",
      "         ...,\n",
      "         [0.4587 , 0.2666 , 0.5566 ],\n",
      "         [0.447  , 0.251  , 0.5566 ],\n",
      "         [0.4158 , 0.2196 , 0.5254 ]]],\n",
      "\n",
      "\n",
      "       [[[0.4746 , 0.1921 , 0.3726 ],\n",
      "         [0.655  , 0.3843 , 0.5605 ],\n",
      "         [0.6626 , 0.408  , 0.6    ],\n",
      "         ...,\n",
      "         [0.608  , 0.4548 , 0.749  ],\n",
      "         [0.604  , 0.447  , 0.7686 ],\n",
      "         [0.5884 , 0.4275 , 0.7607 ]],\n",
      "\n",
      "        [[0.565  , 0.2903 , 0.4746 ],\n",
      "         [0.678  , 0.4236 , 0.604  ],\n",
      "         [0.706  , 0.4626 , 0.651  ],\n",
      "         ...,\n",
      "         [0.545  , 0.3843 , 0.678  ],\n",
      "         [0.4863 , 0.3293 , 0.6353 ],\n",
      "         [0.4707 , 0.3098 , 0.6274 ]],\n",
      "\n",
      "        [[0.6157 , 0.357  , 0.5566 ],\n",
      "         [0.651  , 0.4038 , 0.6    ],\n",
      "         [0.678  , 0.447  , 0.647  ],\n",
      "         ...,\n",
      "         [0.5137 , 0.341  , 0.6196 ],\n",
      "         [0.4353 , 0.2666 , 0.5605 ],\n",
      "         [0.4353 , 0.2666 , 0.5605 ]],\n",
      "\n",
      "        ...,\n",
      "\n",
      "        [[0.608  , 0.3726 , 0.5845 ],\n",
      "         [0.5923 , 0.3608 , 0.5605 ],\n",
      "         [0.604  , 0.3726 , 0.5728 ],\n",
      "         ...,\n",
      "         [0.655  , 0.4392 , 0.7803 ],\n",
      "         [0.741  , 0.5137 , 0.859  ],\n",
      "         [0.749  , 0.5215 , 0.8667 ]],\n",
      "\n",
      "        [[0.655  , 0.4197 , 0.655  ],\n",
      "         [0.643  , 0.4119 , 0.639  ],\n",
      "         [0.639  , 0.4119 , 0.6274 ],\n",
      "         ...,\n",
      "         [0.6943 , 0.4785 , 0.82   ],\n",
      "         [0.757  , 0.5293 , 0.8745 ],\n",
      "         [0.7256 , 0.502  , 0.8354 ]],\n",
      "\n",
      "        [[0.7256 , 0.4941 , 0.7334 ],\n",
      "         [0.7295 , 0.502  , 0.7334 ],\n",
      "         [0.702  , 0.4746 , 0.706  ],\n",
      "         ...,\n",
      "         [0.718  , 0.51   , 0.851  ],\n",
      "         [0.7764 , 0.5527 , 0.886  ],\n",
      "         [0.718  , 0.4941 , 0.8276 ]]],\n",
      "\n",
      "\n",
      "       [[[0.8354 , 0.753  , 0.929  ],\n",
      "         [0.82   , 0.7373 , 0.9136 ],\n",
      "         [0.784  , 0.6943 , 0.8667 ],\n",
      "         ...,\n",
      "         [0.4707 , 0.2744 , 0.408  ],\n",
      "         [0.4158 , 0.2118 , 0.3687 ],\n",
      "         [0.3843 , 0.1765 , 0.349  ]],\n",
      "\n",
      "        [[0.8237 , 0.7295 , 0.9175 ],\n",
      "         [0.82   , 0.7256 , 0.9136 ],\n",
      "         [0.8    , 0.71   , 0.886  ],\n",
      "         ...,\n",
      "         [0.5176 , 0.3215 , 0.4548 ],\n",
      "         [0.4587 , 0.251  , 0.4197 ],\n",
      "         [0.408  , 0.2    , 0.3726 ]],\n",
      "\n",
      "        [[0.788  , 0.6743 , 0.89   ],\n",
      "         [0.792  , 0.682  , 0.89   ],\n",
      "         [0.792  , 0.686  , 0.8823 ],\n",
      "         ...,\n",
      "         [0.5254 , 0.3215 , 0.4666 ],\n",
      "         [0.4941 , 0.2825 , 0.451  ],\n",
      "         [0.443  , 0.2274 , 0.4119 ]],\n",
      "\n",
      "        ...,\n",
      "\n",
      "        [[0.8394 , 0.8315 , 0.9453 ],\n",
      "         [0.851  , 0.8433 , 0.957  ],\n",
      "         [0.8667 , 0.863  , 0.965  ],\n",
      "         ...,\n",
      "         [0.255  , 0.1451 , 0.533  ],\n",
      "         [0.353  , 0.2705 , 0.6353 ],\n",
      "         [0.502  , 0.4314 , 0.7803 ]],\n",
      "\n",
      "        [[0.82   , 0.8115 , 0.9253 ],\n",
      "         [0.8276 , 0.82   , 0.933  ],\n",
      "         [0.847  , 0.8394 , 0.953  ],\n",
      "         ...,\n",
      "         [0.255  , 0.149  , 0.5527 ],\n",
      "         [0.2744 , 0.196  , 0.5767 ],\n",
      "         [0.3804 , 0.3098 , 0.6743 ]],\n",
      "\n",
      "        [[0.8037 , 0.796  , 0.9097 ],\n",
      "         [0.816  , 0.8076 , 0.9214 ],\n",
      "         [0.8354 , 0.8276 , 0.9414 ],\n",
      "         ...,\n",
      "         [0.3176 , 0.2196 , 0.6274 ],\n",
      "         [0.302  , 0.2235 , 0.612  ],\n",
      "         [0.3098 , 0.2471 , 0.6157 ]]],\n",
      "\n",
      "\n",
      "       ...,\n",
      "\n",
      "\n",
      "       [[[0.847  , 0.6704 , 0.894  ],\n",
      "         [0.745  , 0.5605 , 0.753  ],\n",
      "         [0.5923 , 0.392  , 0.537  ],\n",
      "         ...,\n",
      "         [0.3098 , 0.1294 , 0.2432 ],\n",
      "         [0.3137 , 0.1255 , 0.2274 ],\n",
      "         [0.2903 , 0.1059 , 0.1921 ]],\n",
      "\n",
      "        [[0.7217 , 0.545  , 0.7646 ],\n",
      "         [0.643  , 0.4587 , 0.651  ],\n",
      "         [0.541  , 0.3452 , 0.4785 ],\n",
      "         ...,\n",
      "         [0.2825 , 0.098  , 0.2274 ],\n",
      "         [0.2942 , 0.1059 , 0.2157 ],\n",
      "         [0.298  , 0.1137 , 0.2157 ]],\n",
      "\n",
      "        [[0.4941 , 0.3137 , 0.5215 ],\n",
      "         [0.4707 , 0.2864 , 0.4666 ],\n",
      "         [0.4275 , 0.2274 , 0.3608 ],\n",
      "         ...,\n",
      "         [0.2783 , 0.08234, 0.2393 ],\n",
      "         [0.2627 , 0.0745 , 0.2157 ],\n",
      "         [0.2588 , 0.0745 , 0.204  ]],\n",
      "\n",
      "        ...,\n",
      "\n",
      "        [[0.7295 , 0.6196 , 0.8    ],\n",
      "         [0.643  , 0.537  , 0.706  ],\n",
      "         [0.686  , 0.5923 , 0.7295 ],\n",
      "         ...,\n",
      "         [0.451  , 0.255  , 0.4119 ],\n",
      "         [0.541  , 0.341  , 0.5137 ],\n",
      "         [0.604  , 0.4038 , 0.5767 ]],\n",
      "\n",
      "        [[0.816  , 0.71   , 0.906  ],\n",
      "         [0.718  , 0.6274 , 0.8037 ],\n",
      "         [0.7334 , 0.651  , 0.8    ],\n",
      "         ...,\n",
      "         [0.357  , 0.1726 , 0.2744 ],\n",
      "         [0.451  , 0.255  , 0.3726 ],\n",
      "         [0.549  , 0.353  , 0.4707 ]],\n",
      "\n",
      "        [[0.796  , 0.6943 , 0.902  ],\n",
      "         [0.7646 , 0.6704 , 0.859  ],\n",
      "         [0.753  , 0.682  , 0.8276 ],\n",
      "         ...,\n",
      "         [0.3452 , 0.1647 , 0.2393 ],\n",
      "         [0.4197 , 0.2274 , 0.3137 ],\n",
      "         [0.5137 , 0.3176 , 0.4119 ]]],\n",
      "\n",
      "\n",
      "       [[[0.749  , 0.643  , 0.816  ],\n",
      "         [0.7686 , 0.6626 , 0.8315 ],\n",
      "         [0.745  , 0.639  , 0.8076 ],\n",
      "         ...,\n",
      "         [0.7764 , 0.647  , 0.8237 ],\n",
      "         [0.753  , 0.612  , 0.796  ],\n",
      "         [0.7725 , 0.6274 , 0.8237 ]],\n",
      "\n",
      "        [[0.788  , 0.686  , 0.8667 ],\n",
      "         [0.8115 , 0.71   , 0.89   ],\n",
      "         [0.7725 , 0.6743 , 0.847  ],\n",
      "         ...,\n",
      "         [0.8276 , 0.71   , 0.8706 ],\n",
      "         [0.8394 , 0.71   , 0.8823 ],\n",
      "         [0.8315 , 0.702  , 0.8745 ]],\n",
      "\n",
      "        [[0.859  , 0.7607 , 0.957  ],\n",
      "         [0.894  , 0.796  , 0.992  ],\n",
      "         [0.855  , 0.7607 , 0.949  ],\n",
      "         ...,\n",
      "         [0.9253 , 0.847  , 0.961  ],\n",
      "         [0.953  , 0.863  , 0.9883 ],\n",
      "         [0.894  , 0.8037 , 0.929  ]],\n",
      "\n",
      "        ...,\n",
      "\n",
      "        [[0.7725 , 0.6587 , 0.851  ],\n",
      "         [0.749  , 0.6353 , 0.8276 ],\n",
      "         [0.7373 , 0.6196 , 0.8115 ],\n",
      "         ...,\n",
      "         [0.7803 , 0.6743 , 0.9253 ],\n",
      "         [0.745  , 0.6353 , 0.894  ],\n",
      "         [0.718  , 0.608  , 0.8667 ]],\n",
      "\n",
      "        [[0.816  , 0.6943 , 0.894  ],\n",
      "         [0.788  , 0.6665 , 0.8667 ],\n",
      "         [0.7607 , 0.639  , 0.8394 ],\n",
      "         ...,\n",
      "         [0.792  , 0.6904 , 0.9414 ],\n",
      "         [0.7607 , 0.655  , 0.9136 ],\n",
      "         [0.714  , 0.608  , 0.8667 ]],\n",
      "\n",
      "        [[0.8433 , 0.7217 , 0.9214 ],\n",
      "         [0.8237 , 0.702  , 0.902  ],\n",
      "         [0.796  , 0.6743 , 0.8745 ],\n",
      "         ...,\n",
      "         [0.8    , 0.698  , 0.949  ],\n",
      "         [0.7725 , 0.6665 , 0.9253 ],\n",
      "         [0.7256 , 0.6196 , 0.8784 ]]],\n",
      "\n",
      "\n",
      "       [[[0.6904 , 0.5845 , 0.8706 ],\n",
      "         [0.682  , 0.5767 , 0.8667 ],\n",
      "         [0.596  , 0.4785 , 0.7764 ],\n",
      "         ...,\n",
      "         [0.9414 , 0.9175 , 0.9844 ],\n",
      "         [0.929  , 0.894  , 0.996  ],\n",
      "         [0.89   , 0.859  , 0.9766 ]],\n",
      "\n",
      "        [[0.698  , 0.596  , 0.8706 ],\n",
      "         [0.7217 , 0.6157 , 0.902  ],\n",
      "         [0.608  , 0.4902 , 0.788  ],\n",
      "         ...,\n",
      "         [0.9253 , 0.902  , 0.9688 ],\n",
      "         [0.906  , 0.8706 , 0.9727 ],\n",
      "         [0.8706 , 0.8433 , 0.949  ]],\n",
      "\n",
      "        [[0.698  , 0.5884 , 0.859  ],\n",
      "         [0.7686 , 0.6587 , 0.933  ],\n",
      "         [0.6587 , 0.537  , 0.8315 ],\n",
      "         ...,\n",
      "         [0.9097 , 0.89   , 0.949  ],\n",
      "         [0.906  , 0.8745 , 0.965  ],\n",
      "         [0.886  , 0.863  , 0.961  ]],\n",
      "\n",
      "        ...,\n",
      "\n",
      "        [[0.6743 , 0.5527 , 0.682  ],\n",
      "         [0.643  , 0.5293 , 0.6587 ],\n",
      "         [0.5728 , 0.4548 , 0.5923 ],\n",
      "         ...,\n",
      "         [0.5923 , 0.4314 , 0.8115 ],\n",
      "         [0.6904 , 0.545  , 0.8823 ],\n",
      "         [0.6904 , 0.549  , 0.8706 ]],\n",
      "\n",
      "        [[0.9727 , 0.8706 , 0.961  ],\n",
      "         [0.953  , 0.863  , 0.949  ],\n",
      "         [0.933  , 0.8433 , 0.929  ],\n",
      "         ...,\n",
      "         [0.612  , 0.4548 , 0.8276 ],\n",
      "         [0.714  , 0.5728 , 0.902  ],\n",
      "         [0.7217 , 0.596  , 0.906  ]],\n",
      "\n",
      "        [[1.     , 0.933  , 0.992  ],\n",
      "         [1.     , 0.9175 , 0.9766 ],\n",
      "         [1.     , 0.9175 , 0.9766 ],\n",
      "         ...,\n",
      "         [0.706  , 0.5527 , 0.9136 ],\n",
      "         [0.749  , 0.608  , 0.937  ],\n",
      "         [0.698  , 0.5728 , 0.8823 ]]]], dtype=float16)>, <tf.Tensor: shape=(64, 3), dtype=float64, numpy=\n",
      "array([[1., 0., 0.],\n",
      "       [1., 0., 0.],\n",
      "       [1., 0., 0.],\n",
      "       [0., 1., 0.],\n",
      "       [0., 1., 0.],\n",
      "       [0., 0., 1.],\n",
      "       [0., 1., 0.],\n",
      "       [0., 1., 0.],\n",
      "       [0., 0., 1.],\n",
      "       [1., 0., 0.],\n",
      "       [0., 1., 0.],\n",
      "       [1., 0., 0.],\n",
      "       [1., 0., 0.],\n",
      "       [0., 0., 1.],\n",
      "       [1., 0., 0.],\n",
      "       [1., 0., 0.],\n",
      "       [0., 0., 1.],\n",
      "       [0., 0., 1.],\n",
      "       [0., 1., 0.],\n",
      "       [0., 0., 1.],\n",
      "       [0., 0., 1.],\n",
      "       [0., 1., 0.],\n",
      "       [0., 0., 1.],\n",
      "       [0., 0., 1.],\n",
      "       [0., 1., 0.],\n",
      "       [0., 1., 0.],\n",
      "       [1., 0., 0.],\n",
      "       [1., 0., 0.],\n",
      "       [0., 1., 0.],\n",
      "       [0., 0., 1.],\n",
      "       [0., 0., 1.],\n",
      "       [1., 0., 0.],\n",
      "       [1., 0., 0.],\n",
      "       [1., 0., 0.],\n",
      "       [0., 1., 0.],\n",
      "       [0., 1., 0.],\n",
      "       [0., 1., 0.],\n",
      "       [0., 1., 0.],\n",
      "       [1., 0., 0.],\n",
      "       [1., 0., 0.],\n",
      "       [0., 1., 0.],\n",
      "       [1., 0., 0.],\n",
      "       [0., 0., 1.],\n",
      "       [1., 0., 0.],\n",
      "       [1., 0., 0.],\n",
      "       [1., 0., 0.],\n",
      "       [0., 1., 0.],\n",
      "       [0., 0., 1.],\n",
      "       [0., 1., 0.],\n",
      "       [0., 0., 1.],\n",
      "       [0., 0., 1.],\n",
      "       [0., 0., 1.],\n",
      "       [0., 0., 1.],\n",
      "       [0., 0., 1.],\n",
      "       [0., 0., 1.],\n",
      "       [0., 0., 1.],\n",
      "       [0., 1., 0.],\n",
      "       [1., 0., 0.],\n",
      "       [0., 0., 1.],\n",
      "       [0., 1., 0.],\n",
      "       [1., 0., 0.],\n",
      "       [0., 1., 0.],\n",
      "       [0., 0., 1.],\n",
      "       [1., 0., 0.]])>)\n"
     ]
    }
   ],
   "source": [
    "example_dataset = train_data.create_tf_dataset_for_client(train_data.client_ids[0])\n",
    "# print(example_dataset)\n",
    "example_element = iter(example_dataset).next()\n",
    "print(example_element)"
   ]
  },
  {
   "cell_type": "markdown",
   "metadata": {
    "id": "G0RetA4YfIQL"
   },
   "source": [
    "We now have almost all the building blocks in place to construct federated datasets.\n",
    "\n",
    "One of the ways to feed federated data to TFF in a simulation is simply as a Python list, with each element of the list holding the data of an individual user, as a `tf.data.Dataset`. Since we already have an interface for that, let's use it.\n",
    "\n",
    "The helper function `make_federated_data` below will construct a list of datasets from the\n",
    "given set of users as an input to a round of training or evaluation."
   ]
  },
  {
   "cell_type": "code",
   "execution_count": 10,
   "metadata": {
    "id": "uq8HOnoyQ-ss"
   },
   "outputs": [],
   "source": [
    "def make_federated_data(client_data, client_ids):\n",
    "    return [client_data.create_tf_dataset_for_client(x) for x in client_ids]"
   ]
  },
  {
   "cell_type": "code",
   "execution_count": 11,
   "metadata": {
    "colab": {
     "base_uri": "https://localhost:8080/"
    },
    "id": "JrUw1guMj52E",
    "outputId": "2df2f95a-49d7-4d03-b0f7-acd73ab74dd1"
   },
   "outputs": [
    {
     "name": "stdout",
     "output_type": "stream",
     "text": [
      "Number of client datasets: 3\n",
      "First dataset: <BatchDataset shapes: ((None, 224, 224, 3), (None, 3)), types: (tf.float16, tf.float64)>\n"
     ]
    }
   ],
   "source": [
    "federated_train_data = make_federated_data(train_data, train_client_ids)\n",
    "print(\"Number of client datasets: {l}\".format(l=len(federated_train_data)))\n",
    "print(\"First dataset: {d}\".format(d=federated_train_data[0]))"
   ]
  },
  {
   "cell_type": "markdown",
   "metadata": {
    "id": "ExQL-K9kfgxF"
   },
   "source": [
    "## Tensorflow Federated model\n",
    "Firat we create a model with Keras (which is the same CNN model that we created in notebook 1):\n"
   ]
  },
  {
   "cell_type": "code",
   "execution_count": 12,
   "metadata": {
    "id": "FFCPMExUfSlW"
   },
   "outputs": [],
   "source": [
    "num_classes = 3\n",
    "img_height = 224\n",
    "img_width = 224\n",
    "\n",
    "def create_keras_model():\n",
    "    model = Sequential(\n",
    "        [\n",
    "            layers.Conv2D(\n",
    "                16,\n",
    "                3,\n",
    "                padding=\"same\",\n",
    "                activation=\"relu\",\n",
    "                input_shape=(img_height, img_width, 3),\n",
    "            ),\n",
    "            layers.MaxPooling2D(),\n",
    "            layers.Conv2D(32, 3, padding=\"same\", activation=\"relu\"),\n",
    "            layers.MaxPooling2D(),\n",
    "            layers.Conv2D(64, 3, padding=\"same\", activation=\"relu\"),\n",
    "            layers.MaxPooling2D(),\n",
    "            layers.Flatten(),\n",
    "            layers.Dense(128, activation=\"relu\"),\n",
    "            layers.Dense(num_classes, activation=\"softmax\"),\n",
    "        ]\n",
    "    )\n",
    "    return model"
   ]
  },
  {
   "cell_type": "markdown",
   "metadata": {
    "id": "oYLnYUoqgNlV"
   },
   "source": [
    "Note that we do not compile the model yet. The loss, metrics, and optimizers are introduced later.\n",
    "\n",
    "If you have a Keras model like the one we've just defined above, you can have TFF wrap it for you by invoking\n",
    "`tff.learning.from_keras_model`, passing the model and a sample data batch as\n",
    "arguments (`input_spec=example_dataset.element_spec`), as shown below.\n"
   ]
  },
  {
   "cell_type": "code",
   "execution_count": 13,
   "metadata": {
    "id": "1PUqDNN5f0ap"
   },
   "outputs": [],
   "source": [
    "# We _must_ create a new model here, and _not_ capture it from an external\n",
    "# scope. TFF will call this within different graph contexts.\n",
    "def model_fn():\n",
    "    keras_model = create_keras_model()\n",
    "    return tff.learning.from_keras_model(\n",
    "        keras_model,\n",
    "        input_spec=example_dataset.element_spec,\n",
    "        loss=tf.keras.losses.CategoricalCrossentropy(),\n",
    "        metrics=[\n",
    "            tf.keras.metrics.CategoricalAccuracy(),\n",
    "            tf.keras.metrics.AUC(name=\"AUC\"),\n",
    "        ],\n",
    "    )"
   ]
  },
  {
   "cell_type": "markdown",
   "metadata": {
    "id": "JDelj8XulaUF"
   },
   "source": [
    "The model_fn is a no-arg function that returns a `tff.learning.Model`. "
   ]
  },
  {
   "cell_type": "markdown",
   "metadata": {
    "id": "NBAe9eMvhIcf"
   },
   "source": [
    "### Training the model on federated data \n",
    "\n",
    "Now that we have a model wrapped as `tff.learning.Model` for use with TFF, we\n",
    "can let TFF construct a **Federated Averaging** algorithm by invoking the helper\n",
    "function `tff.learning.build_federated_averaging_process`, as follows.\n",
    "\n",
    "One critical note on the Federated Averaging algorithm below, there are **2**\n",
    "optimizers: a _client_optimizer_ and a _server_optimizer_. The\n",
    "_client_optimizer_ is only used to compute local model updates on each client.\n",
    "The _server_optimizer_ applies the averaged update to the global model at the\n",
    "server. In particular, this means that the choice of optimizer and learning rate\n",
    "used may need to be different than the ones you have used to train the model on\n",
    "a standard i.i.d. dataset.\n",
    "\n"
   ]
  },
  {
   "cell_type": "code",
   "execution_count": 14,
   "metadata": {
    "id": "IjB_sD5egibj"
   },
   "outputs": [],
   "source": [
    "iterative_process = tff.learning.build_federated_averaging_process(\n",
    "    model_fn,\n",
    "    client_optimizer_fn=lambda: tf.keras.optimizers.SGD(learning_rate=0.01),\n",
    "    server_optimizer_fn=lambda: tf.keras.optimizers.SGD(learning_rate=0.05),\n",
    ")"
   ]
  },
  {
   "cell_type": "markdown",
   "metadata": {
    "id": "i-YmVZuGhnI4"
   },
   "source": [
    "In this case, the two computations generated and packed into iterative_process implement Federated Averaging.\n",
    "\n",
    "Let's start with the `initialize` computation. As is the case for all federated\n",
    "computations, you can think of it as a function. The computation takes no\n",
    "arguments, and returns one result - the representation of the state of the\n",
    "Federated Averaging process on the server. While we don't want to dive into the\n",
    "details of TFF, it may be instructive to see what this state looks like. You can\n",
    "visualize it as follows."
   ]
  },
  {
   "cell_type": "code",
   "execution_count": 15,
   "metadata": {
    "colab": {
     "base_uri": "https://localhost:8080/",
     "height": 53
    },
    "id": "Eb5OLh1ohRkm",
    "outputId": "119b6bd6-2e1c-4022-aa68-11c0d9d14861"
   },
   "outputs": [
    {
     "data": {
      "text/plain": [
       "'( -> <model=<trainable=<float32[3,3,3,16],float32[16],float32[3,3,16,32],float32[32],float32[3,3,32,64],float32[64],float32[50176,128],float32[128],float32[128,3],float32[3]>,non_trainable=<>>,optimizer_state=<int64>,delta_aggregate_state=<value_sum_process=<>,weight_sum_process=<>>,model_broadcast_state=<>>@SERVER)'"
      ]
     },
     "execution_count": 15,
     "metadata": {},
     "output_type": "execute_result"
    }
   ],
   "source": [
    "str(iterative_process.initialize.type_signature)"
   ]
  },
  {
   "cell_type": "markdown",
   "metadata": {
    "id": "xo_D135PhzCm"
   },
   "source": [
    "While the above type signature may at first seem a bit cryptic, you can recognize that the server state consists of a model (the initial model parameters that will be distributed to all devices), and optimizer_state (additional information maintained by the server, such as the number of rounds to use for hyperparameter schedules, etc.).\n",
    "\n",
    "Let's invoke the initialize computation to construct the server state."
   ]
  },
  {
   "cell_type": "code",
   "execution_count": 16,
   "metadata": {
    "colab": {
     "base_uri": "https://localhost:8080/"
    },
    "id": "T7vNqokkhsYi",
    "outputId": "acad48da-e549-4e3f-ccd0-dc4de6f7d8dc"
   },
   "outputs": [],
   "source": [
    "state = iterative_process.initialize()"
   ]
  },
  {
   "cell_type": "code",
   "execution_count": 17,
   "metadata": {
    "colab": {
     "base_uri": "https://localhost:8080/"
    },
    "id": "6B8IOPfih2e0",
    "outputId": "8c06d28f-15fb-403a-8a66-b73e899622b7"
   },
   "outputs": [
    {
     "data": {
      "text/plain": [
       "ServerState(model=ModelWeights(trainable=[array([[[[-0.0973879 , -0.04356425,  0.1747767 ,  0.13684759,\n",
       "           0.01319674,  0.06537944,  0.09987751,  0.00594744,\n",
       "           0.04319237, -0.05943839, -0.00626235,  0.05645162,\n",
       "          -0.14259413,  0.07551214, -0.01541802, -0.03407376],\n",
       "         [-0.03103107, -0.12502073,  0.05600382,  0.14700669,\n",
       "          -0.14905573, -0.12773046,  0.15983814,  0.10658297,\n",
       "           0.13717201,  0.12689593,  0.06138927,  0.05662495,\n",
       "           0.15286595,  0.10240152, -0.05420916,  0.16087341],\n",
       "         [ 0.09872365, -0.17999361,  0.1206533 , -0.08680436,\n",
       "          -0.12758693, -0.00570565,  0.18459657, -0.17276773,\n",
       "           0.05318211,  0.04365553,  0.1170474 , -0.12075169,\n",
       "          -0.00481974, -0.01156008,  0.12251848,  0.00104696]],\n",
       "\n",
       "        [[ 0.06368473,  0.16062859,  0.03104158, -0.06427157,\n",
       "          -0.06674907,  0.01675439, -0.0184799 ,  0.10425565,\n",
       "          -0.10464532, -0.13842477, -0.00937626, -0.14483961,\n",
       "           0.13277292,  0.16844657,  0.15346912, -0.03139144],\n",
       "         [ 0.11294621,  0.18474007,  0.14421108,  0.08446699,\n",
       "          -0.14280143, -0.05700183,  0.00877678, -0.08347738,\n",
       "           0.10069591, -0.02059764, -0.13102436,  0.13556477,\n",
       "           0.05893689,  0.03180625,  0.00056499,  0.15676752],\n",
       "         [ 0.1841752 ,  0.0326287 ,  0.10149112, -0.10780384,\n",
       "          -0.09024961,  0.18531823,  0.07474583, -0.01780179,\n",
       "          -0.00649297, -0.10273682,  0.11498663,  0.05506444,\n",
       "          -0.03234778, -0.07668045,  0.00607128, -0.06987706]],\n",
       "\n",
       "        [[ 0.09933686,  0.18368581, -0.06414407, -0.16224028,\n",
       "          -0.08652809, -0.17034386, -0.14820282, -0.10618068,\n",
       "          -0.10387556,  0.08590549, -0.16142952, -0.04423906,\n",
       "           0.14348045,  0.08467007,  0.16055793,  0.12738183],\n",
       "         [-0.09882403, -0.16981718,  0.00550357, -0.16794312,\n",
       "           0.04135475,  0.1726354 ,  0.03076875,  0.02992705,\n",
       "          -0.14623587, -0.11600246, -0.09119134, -0.05304773,\n",
       "          -0.17946787,  0.05125357,  0.1681352 ,  0.07371724],\n",
       "         [ 0.08062968,  0.1664263 , -0.01047301,  0.14394695,\n",
       "           0.14239207,  0.14594477, -0.14066383,  0.07283857,\n",
       "           0.04901655,  0.04501596,  0.14709187, -0.07494787,\n",
       "          -0.00524619, -0.0238561 , -0.13887891, -0.06318174]]],\n",
       "\n",
       "\n",
       "       [[[-0.01699902,  0.09101337,  0.00423063,  0.0141006 ,\n",
       "           0.10901648, -0.16280138,  0.02541478,  0.02541165,\n",
       "          -0.1634342 , -0.05416374, -0.18303464, -0.05019048,\n",
       "           0.01421869, -0.05757767,  0.05604652,  0.06918091],\n",
       "         [-0.04496866,  0.03581867, -0.04558618,  0.03221631,\n",
       "          -0.16928595,  0.16450548, -0.18462823, -0.10548751,\n",
       "          -0.0436604 ,  0.1744355 , -0.10610882,  0.15323716,\n",
       "           0.04811406, -0.05075891, -0.16357079, -0.0591594 ],\n",
       "         [-0.16750965,  0.12466848, -0.08857454,  0.04360619,\n",
       "           0.09277061, -0.02828579,  0.06067809,  0.10253111,\n",
       "          -0.18128034, -0.16237721, -0.12741087,  0.13428685,\n",
       "           0.14464298, -0.12134843, -0.11333162,  0.06489837]],\n",
       "\n",
       "        [[-0.09802877,  0.06293187, -0.16518956,  0.16782999,\n",
       "          -0.08962588, -0.00890554,  0.17528859, -0.13245548,\n",
       "           0.03116234, -0.07694895, -0.10317181, -0.0069515 ,\n",
       "          -0.04389299,  0.11015594,  0.07350367,  0.05531463],\n",
       "         [ 0.09816745, -0.15067367,  0.10092747,  0.16665682,\n",
       "          -0.03672004,  0.04522724,  0.03549577,  0.04180622,\n",
       "           0.14560223,  0.00696073, -0.04103668, -0.04631186,\n",
       "           0.157945  , -0.08440246, -0.00623149, -0.06460437],\n",
       "         [-0.04295437,  0.05900568,  0.0461995 ,  0.05461511,\n",
       "           0.07450899, -0.14333338, -0.01860996, -0.02513883,\n",
       "           0.07525575,  0.16354898,  0.1192157 ,  0.0334558 ,\n",
       "          -0.07313365,  0.12547073, -0.07591329,  0.13265398]],\n",
       "\n",
       "        [[ 0.17513663,  0.04376888, -0.13837148, -0.05399832,\n",
       "           0.09593391,  0.1743465 ,  0.09152231, -0.13464662,\n",
       "          -0.11855897,  0.06628817,  0.06966627, -0.0826463 ,\n",
       "          -0.1478392 , -0.03229879, -0.09931587, -0.13570225],\n",
       "         [-0.09586778,  0.0774596 ,  0.06494504,  0.12214467,\n",
       "           0.12298909,  0.14602682,  0.10422057,  0.11633921,\n",
       "          -0.12150335, -0.04622884,  0.1854263 , -0.00896709,\n",
       "           0.13744918,  0.08615434,  0.14997104,  0.09292388],\n",
       "         [ 0.03514864,  0.10386235, -0.00615878, -0.00939305,\n",
       "          -0.17559582, -0.02561267, -0.17626062, -0.019969  ,\n",
       "          -0.1207101 , -0.15788764,  0.01899765, -0.07383173,\n",
       "           0.10728115,  0.17418906, -0.12703033, -0.11095285]]],\n",
       "\n",
       "\n",
       "       [[[-0.0156641 ,  0.12563774,  0.04627417, -0.08320487,\n",
       "          -0.15669508,  0.06195511, -0.01799601, -0.00984089,\n",
       "          -0.00549723,  0.05884606, -0.11864141, -0.07376412,\n",
       "          -0.16359133,  0.1681161 , -0.1793309 ,  0.05725679],\n",
       "         [ 0.08016977, -0.18707381,  0.16268733, -0.08048838,\n",
       "          -0.05908856,  0.04382609,  0.09791467, -0.04794329,\n",
       "          -0.03102398, -0.07435055,  0.11688158,  0.00777757,\n",
       "          -0.07374438, -0.13788639,  0.0979856 ,  0.11025396],\n",
       "         [-0.1727082 ,  0.00688057,  0.17741379,  0.02389787,\n",
       "          -0.02067021,  0.10237765, -0.17872268,  0.04764782,\n",
       "           0.00637877, -0.15681043,  0.14824417,  0.14670452,\n",
       "           0.09773588, -0.17760685, -0.14362952,  0.0814791 ]],\n",
       "\n",
       "        [[-0.16763002, -0.11285854, -0.07577229, -0.13737682,\n",
       "           0.07416186,  0.16188747,  0.18658376,  0.00590596,\n",
       "          -0.0682061 ,  0.17774555,  0.02275413, -0.12087771,\n",
       "          -0.02854839,  0.01073007,  0.15434486, -0.00216971],\n",
       "         [ 0.05995689,  0.00694658, -0.16800748,  0.10237169,\n",
       "          -0.17658754, -0.01978429, -0.02628551, -0.13552722,\n",
       "           0.14000279,  0.02737518, -0.17305547, -0.07715327,\n",
       "           0.14058045,  0.16878423,  0.10371292, -0.12803325],\n",
       "         [ 0.05642255, -0.10374194, -0.00716108, -0.03914587,\n",
       "           0.05562371,  0.11847681,  0.13849652, -0.0590854 ,\n",
       "          -0.16634506, -0.12398434,  0.00028881, -0.03393003,\n",
       "          -0.12185657,  0.06901625, -0.0140103 ,  0.09072435]],\n",
       "\n",
       "        [[ 0.05084524,  0.18642464,  0.0693284 , -0.10407126,\n",
       "          -0.05811381, -0.17055564, -0.03826664, -0.0169525 ,\n",
       "           0.07816464, -0.15526432,  0.05400613,  0.02372204,\n",
       "          -0.02755663,  0.1824956 ,  0.16585615,  0.05779642],\n",
       "         [-0.08103493, -0.07125129, -0.15255922, -0.14388292,\n",
       "           0.05985264, -0.09559343,  0.06240375, -0.18485141,\n",
       "           0.14990717, -0.01779278, -0.05704975, -0.16547951,\n",
       "          -0.18009114, -0.04904759, -0.02936254, -0.10340395],\n",
       "         [-0.05996712, -0.07864522,  0.14091995,  0.02817062,\n",
       "          -0.07073051, -0.05603869,  0.15520665,  0.13420928,\n",
       "          -0.08297709,  0.08550048,  0.02431816, -0.01429746,\n",
       "          -0.13765639, -0.05021986, -0.13580203, -0.10956139]]]],\n",
       "      dtype=float32), array([0., 0., 0., 0., 0., 0., 0., 0., 0., 0., 0., 0., 0., 0., 0., 0.],\n",
       "      dtype=float32), array([[[[ 4.49597836e-04, -2.45447829e-02, -8.93874243e-02, ...,\n",
       "           3.45377997e-02, -1.09703332e-01, -6.83886558e-02],\n",
       "         [ 1.12644210e-02, -1.49535015e-02,  4.72836569e-02, ...,\n",
       "           8.94483179e-03, -9.35286283e-03,  1.58024207e-02],\n",
       "         [-1.10029295e-01, -1.12886034e-01, -7.27137625e-02, ...,\n",
       "           1.06023408e-01, -7.39577711e-02, -3.58271524e-02],\n",
       "         ...,\n",
       "         [-4.52435464e-02, -5.73729873e-02,  6.46969602e-02, ...,\n",
       "           9.92676839e-02, -4.16581109e-02,  6.87962770e-03],\n",
       "         [ 1.03231765e-01, -2.89930105e-02, -1.15571603e-01, ...,\n",
       "          -9.26506892e-02, -5.99947758e-02, -6.19497709e-02],\n",
       "         [-9.70337316e-02, -3.45772207e-02, -1.72802955e-02, ...,\n",
       "          -3.74896526e-02, -9.29040462e-02, -9.05412063e-02]],\n",
       "\n",
       "        [[ 3.98384705e-02,  1.10580213e-01, -6.49384856e-02, ...,\n",
       "           3.02907750e-02, -4.25787419e-02, -9.54638198e-02],\n",
       "         [-6.17025085e-02,  3.77339348e-02,  4.43450585e-02, ...,\n",
       "           4.39952388e-02, -8.10068324e-02, -2.21355259e-02],\n",
       "         [-5.16769513e-02,  4.41022888e-02,  1.22088194e-03, ...,\n",
       "          -4.97295707e-02,  5.50422743e-02,  1.96034536e-02],\n",
       "         ...,\n",
       "         [ 1.40037164e-02,  5.41118011e-02, -1.11363299e-01, ...,\n",
       "          -6.39704019e-02, -6.21746667e-02, -1.07455358e-01],\n",
       "         [-4.21232432e-02, -1.11403421e-01,  9.11963060e-02, ...,\n",
       "          -6.62725493e-02, -1.26326159e-02, -4.53709736e-02],\n",
       "         [ 9.87293646e-02, -7.07215667e-02, -8.55170488e-02, ...,\n",
       "           9.89227816e-02, -5.10535166e-02,  5.39240763e-02]],\n",
       "\n",
       "        [[-7.18629062e-02,  3.40128466e-02,  4.46402282e-03, ...,\n",
       "           1.63597241e-02,  1.02974273e-01, -4.36897352e-02],\n",
       "         [ 1.68447718e-02, -3.17051038e-02,  3.08759883e-02, ...,\n",
       "          -8.09759498e-02,  1.05463974e-01,  1.17186196e-01],\n",
       "         [-2.85789669e-02, -5.06506488e-02, -5.20277545e-02, ...,\n",
       "           6.19568303e-02,  8.13014433e-02,  7.59680048e-02],\n",
       "         ...,\n",
       "         [ 7.43687823e-02,  1.16685994e-01, -4.67686728e-02, ...,\n",
       "           4.51280847e-02, -1.15731567e-01,  1.41178742e-02],\n",
       "         [ 1.09318815e-01,  1.77171901e-02, -6.70973659e-02, ...,\n",
       "          -1.15627550e-01, -2.40713283e-02,  3.54547426e-02],\n",
       "         [-8.90480876e-02, -2.11611167e-02, -2.23509520e-02, ...,\n",
       "           8.87353346e-02,  4.69061807e-02, -3.40445340e-03]]],\n",
       "\n",
       "\n",
       "       [[[ 4.49267402e-02,  1.07504226e-01,  4.28790823e-02, ...,\n",
       "          -1.10553548e-01, -6.01770729e-02,  3.23575363e-02],\n",
       "         [ 6.67803958e-02,  2.26464048e-02, -4.78372052e-02, ...,\n",
       "          -1.04752228e-01,  5.80128059e-02,  8.48168880e-03],\n",
       "         [ 8.19719359e-02,  8.13254938e-02,  1.09303750e-01, ...,\n",
       "           8.00921395e-02, -4.64890450e-02,  1.93879083e-02],\n",
       "         ...,\n",
       "         [ 6.92570284e-02, -8.69334117e-02,  6.38757423e-02, ...,\n",
       "           6.66954741e-02, -1.00562520e-01, -4.11976203e-02],\n",
       "         [ 1.06936671e-01,  4.46936712e-02, -7.24051967e-02, ...,\n",
       "          -9.78647172e-03, -8.28062519e-02,  2.53764763e-02],\n",
       "         [ 8.05195644e-02, -1.08385175e-01,  6.35986403e-02, ...,\n",
       "          -2.38282010e-02,  6.25198707e-02,  1.57032385e-02]],\n",
       "\n",
       "        [[ 5.60293421e-02, -4.91011888e-02, -3.33319604e-03, ...,\n",
       "          -5.58702834e-02, -3.04846466e-02, -6.69094175e-02],\n",
       "         [-1.05545148e-01,  1.56738833e-02, -6.00589216e-02, ...,\n",
       "           1.06196128e-01, -8.79417881e-02,  1.03016950e-01],\n",
       "         [ 7.11253956e-02, -2.03061849e-02, -3.48792672e-02, ...,\n",
       "           4.76080105e-02, -2.62330994e-02, -5.64689189e-03],\n",
       "         ...,\n",
       "         [ 5.79113737e-02, -6.03155419e-02, -1.17356412e-01, ...,\n",
       "          -7.63483942e-02,  1.07851706e-01, -9.45738181e-02],\n",
       "         [-2.15890184e-02, -5.08712754e-02,  1.61279961e-02, ...,\n",
       "           7.06933364e-02,  7.06424192e-02, -5.72988093e-02],\n",
       "         [-1.10989794e-01, -1.11374170e-01, -1.11820921e-02, ...,\n",
       "           2.90350541e-02,  1.01108916e-01,  4.66136262e-02]],\n",
       "\n",
       "        [[-4.74936292e-02,  9.08301026e-03,  4.99576107e-02, ...,\n",
       "           1.07618771e-01, -3.95502895e-03,  3.33778933e-02],\n",
       "         [-1.06429473e-01, -4.84815165e-02, -3.59911472e-03, ...,\n",
       "          -1.11410983e-01,  3.72120366e-02,  6.54292181e-02],\n",
       "         [ 1.16660647e-01, -4.96767238e-02, -5.43104559e-02, ...,\n",
       "           5.19711152e-02,  8.65275040e-02,  1.47090480e-02],\n",
       "         ...,\n",
       "         [-6.60043806e-02,  3.32490578e-02,  3.24755833e-02, ...,\n",
       "           4.18872014e-02,  5.75748757e-02,  2.23580375e-02],\n",
       "         [ 2.58236378e-03, -1.01442263e-01, -2.40416005e-02, ...,\n",
       "          -1.16356656e-01, -2.32250467e-02, -1.05238430e-01],\n",
       "         [-1.11585185e-02, -9.25518945e-02,  4.25220355e-02, ...,\n",
       "          -6.32824302e-02, -4.01568413e-02, -9.94644314e-02]]],\n",
       "\n",
       "\n",
       "       [[[-7.22759739e-02, -6.45083636e-02,  6.76123425e-02, ...,\n",
       "           1.24185160e-02, -5.14665022e-02, -6.20222911e-02],\n",
       "         [ 3.80543843e-02,  6.15578666e-02, -6.32316768e-02, ...,\n",
       "          -4.14032117e-02, -5.67364283e-02,  2.44750157e-02],\n",
       "         [-6.02575727e-02, -3.08092609e-02, -3.91555727e-02, ...,\n",
       "          -2.74707004e-02,  7.50092492e-02,  7.88929686e-02],\n",
       "         ...,\n",
       "         [ 7.75000528e-02,  3.84967849e-02, -1.16833366e-01, ...,\n",
       "           3.89346108e-02, -1.03420615e-01, -1.07845411e-01],\n",
       "         [ 7.41379037e-02, -3.65065038e-03, -1.05559848e-01, ...,\n",
       "          -1.04754925e-01, -6.96625561e-03, -8.05549324e-02],\n",
       "         [-8.90691280e-02,  8.42744783e-02, -6.64424002e-02, ...,\n",
       "          -9.44029838e-02,  3.02662924e-02,  1.13092043e-01]],\n",
       "\n",
       "        [[ 1.15367837e-01,  3.07218507e-02,  2.17932388e-02, ...,\n",
       "          -6.59612268e-02, -3.05193216e-02, -1.16229884e-01],\n",
       "         [-4.43727896e-02,  2.96379998e-02,  3.76495793e-02, ...,\n",
       "           6.87165037e-02,  4.67721298e-02,  1.15866967e-01],\n",
       "         [-1.03874169e-01,  4.85107303e-04, -9.60848927e-02, ...,\n",
       "           6.51386604e-02,  6.34921417e-02, -1.16969787e-01],\n",
       "         ...,\n",
       "         [ 6.99208602e-02, -1.01230912e-01,  2.54143253e-02, ...,\n",
       "           1.07423887e-02,  7.86706805e-05, -2.42268518e-02],\n",
       "         [ 3.66729572e-02,  1.10887513e-02,  1.16405495e-01, ...,\n",
       "          -1.62131637e-02, -5.14952466e-02,  6.17953464e-02],\n",
       "         [ 1.17597803e-02,  6.20756820e-02, -2.27141157e-02, ...,\n",
       "          -1.06748864e-01, -5.10225818e-02,  8.16526636e-02]],\n",
       "\n",
       "        [[-4.46240976e-02,  5.69375530e-02, -1.07358366e-01, ...,\n",
       "          -3.82556543e-02, -2.71423161e-03, -3.32430750e-02],\n",
       "         [ 1.11772634e-01, -1.57868117e-03, -8.34559351e-02, ...,\n",
       "          -9.00622830e-02, -6.16810136e-02, -1.90225616e-02],\n",
       "         [ 1.63108110e-04,  5.63356653e-02,  1.15615524e-01, ...,\n",
       "           1.04469933e-01,  6.00754395e-02,  7.09638223e-02],\n",
       "         ...,\n",
       "         [-1.07233778e-01,  1.00405566e-01,  6.01741448e-02, ...,\n",
       "          -1.09726794e-01, -5.47699109e-02,  4.77973297e-02],\n",
       "         [-1.54455528e-02, -1.28685832e-02, -1.02930412e-01, ...,\n",
       "          -1.01163790e-01,  4.46060672e-02, -7.34687895e-02],\n",
       "         [-1.14799842e-01, -1.03121422e-01, -9.56451669e-02, ...,\n",
       "           9.52931866e-02, -1.12346053e-01,  9.12516341e-02]]]],\n",
       "      dtype=float32), array([0., 0., 0., 0., 0., 0., 0., 0., 0., 0., 0., 0., 0., 0., 0., 0., 0.,\n",
       "       0., 0., 0., 0., 0., 0., 0., 0., 0., 0., 0., 0., 0., 0., 0.],\n",
       "      dtype=float32), array([[[[-0.00660404, -0.05001549,  0.04632974, ..., -0.00466635,\n",
       "           0.00762848, -0.03986502],\n",
       "         [-0.02177652,  0.05616529, -0.01533344, ...,  0.03054664,\n",
       "          -0.05899302,  0.05082981],\n",
       "         [-0.0180488 ,  0.05139647, -0.02834398, ..., -0.06400453,\n",
       "           0.00589397, -0.02687579],\n",
       "         ...,\n",
       "         [ 0.05396333, -0.00471815, -0.03755514, ...,  0.07823727,\n",
       "           0.0478907 , -0.07659231],\n",
       "         [-0.00362647, -0.02935809,  0.04257772, ...,  0.02879383,\n",
       "           0.03594402, -0.0261816 ],\n",
       "         [-0.04967837,  0.06326034, -0.0120816 , ...,  0.07915237,\n",
       "           0.03637467,  0.01225338]],\n",
       "\n",
       "        [[-0.07410078, -0.07354689,  0.05663564, ..., -0.01058942,\n",
       "          -0.05875039,  0.05666878],\n",
       "         [ 0.02121017, -0.00668689,  0.01728693, ...,  0.02477481,\n",
       "          -0.05710443,  0.02340481],\n",
       "         [ 0.01130746, -0.04989203,  0.07879104, ..., -0.02244872,\n",
       "           0.02081347, -0.02348177],\n",
       "         ...,\n",
       "         [ 0.00411544, -0.03333567,  0.04152876, ...,  0.03300945,\n",
       "          -0.06743851,  0.06662122],\n",
       "         [-0.03480753, -0.05865745, -0.08263187, ..., -0.04582063,\n",
       "           0.06184765,  0.02546587],\n",
       "         [-0.03310637, -0.07635298, -0.02757969, ..., -0.00528679,\n",
       "          -0.05007531,  0.07961454]],\n",
       "\n",
       "        [[-0.07053443, -0.05082856,  0.00010977, ...,  0.00238156,\n",
       "           0.0282202 , -0.06798065],\n",
       "         [ 0.0229618 , -0.01048825,  0.01465835, ...,  0.05522934,\n",
       "           0.04292587,  0.02435386],\n",
       "         [-0.07879983, -0.06174088, -0.06122851, ..., -0.00234354,\n",
       "           0.00289216, -0.07041095],\n",
       "         ...,\n",
       "         [ 0.02673479,  0.08190205,  0.04291322, ...,  0.08018384,\n",
       "           0.07226086, -0.02839762],\n",
       "         [-0.07396414,  0.0369787 , -0.05551169, ...,  0.00181923,\n",
       "           0.06471721, -0.04731458],\n",
       "         [ 0.0234951 ,  0.02087369, -0.04216524, ...,  0.04221553,\n",
       "           0.08292625,  0.03925496]]],\n",
       "\n",
       "\n",
       "       [[[ 0.04062323,  0.00436541, -0.0262605 , ...,  0.07229926,\n",
       "           0.07614597,  0.07494964],\n",
       "         [ 0.06676503, -0.06851006,  0.00389787, ...,  0.04115631,\n",
       "           0.0346936 ,  0.05252471],\n",
       "         [-0.07488555, -0.03434797,  0.06699302, ..., -0.05327235,\n",
       "          -0.04003779,  0.0404079 ],\n",
       "         ...,\n",
       "         [ 0.02541435,  0.07353006,  0.030628  , ..., -0.00130043,\n",
       "           0.05509431, -0.07429624],\n",
       "         [ 0.05403735, -0.05981171, -0.01724092, ...,  0.05566356,\n",
       "          -0.03041532, -0.07145481],\n",
       "         [-0.06926481, -0.08324961,  0.07512722, ...,  0.01781913,\n",
       "           0.00163156, -0.06372436]],\n",
       "\n",
       "        [[-0.02761652,  0.03302932, -0.05217032, ...,  0.01457485,\n",
       "          -0.07778746, -0.03453422],\n",
       "         [ 0.01987318, -0.03993696,  0.05147914, ...,  0.02381388,\n",
       "          -0.05236803,  0.03586775],\n",
       "         [-0.07244682, -0.04769637,  0.04684121, ...,  0.03928325,\n",
       "          -0.01510581, -0.05805252],\n",
       "         ...,\n",
       "         [-0.0125582 ,  0.01230711,  0.01863977, ...,  0.02286337,\n",
       "          -0.0452719 , -0.0470408 ],\n",
       "         [-0.06802966, -0.02781258, -0.05187986, ..., -0.05818174,\n",
       "          -0.0797476 ,  0.05443273],\n",
       "         [-0.04035058,  0.05421282, -0.00136095, ..., -0.03877847,\n",
       "          -0.00685201,  0.02259872]],\n",
       "\n",
       "        [[-0.04211609,  0.05386234,  0.06342585, ...,  0.07244999,\n",
       "           0.06849886, -0.08036262],\n",
       "         [ 0.07834891,  0.07221589,  0.01043395, ..., -0.0228289 ,\n",
       "          -0.06161588, -0.07221892],\n",
       "         [-0.07604935, -0.00102466, -0.00168822, ..., -0.03018246,\n",
       "           0.04191465,  0.07564773],\n",
       "         ...,\n",
       "         [ 0.06546441, -0.0494168 , -0.08275007, ..., -0.04730926,\n",
       "          -0.06492605, -0.05745616],\n",
       "         [ 0.03973397, -0.02886027,  0.0301067 , ..., -0.01685524,\n",
       "           0.04513463,  0.00130723],\n",
       "         [ 0.01929351, -0.04707404,  0.04565457, ..., -0.04655977,\n",
       "           0.0113707 , -0.02897398]]],\n",
       "\n",
       "\n",
       "       [[[-0.07343584, -0.00514736,  0.04347552, ..., -0.06294249,\n",
       "           0.04004744,  0.05059827],\n",
       "         [-0.01926055,  0.02040044, -0.08116756, ...,  0.01047319,\n",
       "          -0.01684514, -0.05489379],\n",
       "         [ 0.01975971,  0.06860998,  0.01330036, ..., -0.06891835,\n",
       "          -0.04667747,  0.05573941],\n",
       "         ...,\n",
       "         [-0.07169446, -0.06144321,  0.07296408, ..., -0.07368907,\n",
       "          -0.0609744 ,  0.03697691],\n",
       "         [-0.0118441 ,  0.08255351, -0.06184381, ..., -0.01941619,\n",
       "          -0.04337188,  0.06537993],\n",
       "         [-0.04301439, -0.00085213,  0.02047255, ..., -0.0241677 ,\n",
       "           0.01074912,  0.08121521]],\n",
       "\n",
       "        [[ 0.05068644, -0.06655668, -0.00272723, ..., -0.05228965,\n",
       "           0.06099816,  0.07138874],\n",
       "         [-0.04714763,  0.05830624, -0.05944016, ...,  0.08090284,\n",
       "          -0.03979699,  0.02874017],\n",
       "         [-0.04045504,  0.06317771, -0.05820652, ...,  0.06035376,\n",
       "          -0.01473103,  0.03579523],\n",
       "         ...,\n",
       "         [ 0.00466597, -0.05013583, -0.03315757, ..., -0.01935321,\n",
       "           0.00505164,  0.01553082],\n",
       "         [-0.03158516, -0.0809267 , -0.01238058, ...,  0.05246193,\n",
       "          -0.07310079,  0.07557102],\n",
       "         [-0.02136427,  0.06847713,  0.01829424, ...,  0.02932143,\n",
       "           0.07671603,  0.07227657]],\n",
       "\n",
       "        [[ 0.07187179,  0.07723448, -0.01148832, ..., -0.01721021,\n",
       "           0.01295475,  0.02752622],\n",
       "         [ 0.07923744,  0.00025497,  0.01528236, ..., -0.03846769,\n",
       "           0.05583111, -0.07083595],\n",
       "         [ 0.08184364,  0.00921426, -0.0451264 , ..., -0.04362053,\n",
       "           0.06266841,  0.03607515],\n",
       "         ...,\n",
       "         [ 0.02488446, -0.00317049, -0.02254649, ..., -0.04185629,\n",
       "           0.08293035, -0.0641759 ],\n",
       "         [-0.04212105, -0.03173562,  0.05771927, ..., -0.05631825,\n",
       "           0.07633992, -0.02113756],\n",
       "         [-0.01610583, -0.00719359,  0.07770034, ..., -0.05147632,\n",
       "           0.01214031,  0.02188534]]]], dtype=float32), array([0., 0., 0., 0., 0., 0., 0., 0., 0., 0., 0., 0., 0., 0., 0., 0., 0.,\n",
       "       0., 0., 0., 0., 0., 0., 0., 0., 0., 0., 0., 0., 0., 0., 0., 0., 0.,\n",
       "       0., 0., 0., 0., 0., 0., 0., 0., 0., 0., 0., 0., 0., 0., 0., 0., 0.,\n",
       "       0., 0., 0., 0., 0., 0., 0., 0., 0., 0., 0., 0., 0.], dtype=float32), array([[ 0.00432431,  0.00577911, -0.00761389, ...,  0.00761542,\n",
       "        -0.00123137, -0.00776503],\n",
       "       [-0.0022861 , -0.00558901,  0.00552317, ..., -0.00089164,\n",
       "         0.00236432, -0.00743975],\n",
       "       [-0.00993721, -0.00278014, -0.00888938, ...,  0.00641102,\n",
       "         0.00280662, -0.00045237],\n",
       "       ...,\n",
       "       [ 0.00125125, -0.00709494,  0.00952606, ...,  0.00170586,\n",
       "         0.00331074, -0.0041082 ],\n",
       "       [-0.00283379, -0.00351148, -0.00108149, ...,  0.00897585,\n",
       "         0.00666443, -0.00614964],\n",
       "       [-0.00618844, -0.00560476, -0.00061193, ...,  0.00259766,\n",
       "         0.00115463,  0.00628631]], dtype=float32), array([0., 0., 0., 0., 0., 0., 0., 0., 0., 0., 0., 0., 0., 0., 0., 0., 0.,\n",
       "       0., 0., 0., 0., 0., 0., 0., 0., 0., 0., 0., 0., 0., 0., 0., 0., 0.,\n",
       "       0., 0., 0., 0., 0., 0., 0., 0., 0., 0., 0., 0., 0., 0., 0., 0., 0.,\n",
       "       0., 0., 0., 0., 0., 0., 0., 0., 0., 0., 0., 0., 0., 0., 0., 0., 0.,\n",
       "       0., 0., 0., 0., 0., 0., 0., 0., 0., 0., 0., 0., 0., 0., 0., 0., 0.,\n",
       "       0., 0., 0., 0., 0., 0., 0., 0., 0., 0., 0., 0., 0., 0., 0., 0., 0.,\n",
       "       0., 0., 0., 0., 0., 0., 0., 0., 0., 0., 0., 0., 0., 0., 0., 0., 0.,\n",
       "       0., 0., 0., 0., 0., 0., 0., 0., 0.], dtype=float32), array([[-1.78823441e-01, -3.40966135e-02,  1.46343306e-01],\n",
       "       [ 1.05465353e-02, -9.30229425e-02,  2.00163141e-01],\n",
       "       [ 8.12936574e-02, -7.70589113e-02,  1.22209594e-01],\n",
       "       [ 1.66322306e-01, -1.25618279e-03, -1.39750957e-01],\n",
       "       [ 1.06628820e-01, -4.30580676e-02, -1.11750521e-01],\n",
       "       [ 1.52633920e-01,  1.23592928e-01,  6.71468675e-03],\n",
       "       [-1.44367069e-02,  8.95471424e-02,  1.06520250e-01],\n",
       "       [ 1.03297785e-01, -2.10438475e-01,  8.54246467e-02],\n",
       "       [-8.67498219e-02, -1.88115746e-01, -1.12033099e-01],\n",
       "       [ 1.31374761e-01,  1.49380043e-01, -1.47279903e-01],\n",
       "       [ 9.63243395e-02, -1.89146295e-01,  2.54983008e-02],\n",
       "       [-7.59322941e-03, -9.96158868e-02,  2.26119310e-02],\n",
       "       [ 6.17448837e-02, -2.12735817e-01, -1.22911498e-01],\n",
       "       [-1.57312423e-01,  3.01068425e-02,  1.30769745e-01],\n",
       "       [-3.55100632e-03, -1.51934981e-01, -3.26806307e-02],\n",
       "       [ 1.40343621e-01, -1.54070780e-01,  1.23289332e-01],\n",
       "       [-1.59620777e-01,  1.59610376e-01,  3.30959111e-02],\n",
       "       [-1.14227511e-01,  4.37756926e-02, -1.18051864e-01],\n",
       "       [-6.65778369e-02,  9.05416906e-03, -2.06701219e-01],\n",
       "       [-6.78970814e-02,  1.06005222e-02, -6.87105656e-02],\n",
       "       [-1.80885658e-01,  1.86194822e-01,  1.43063024e-01],\n",
       "       [ 2.84661353e-03,  2.07541242e-01,  1.07298061e-01],\n",
       "       [ 2.08724603e-01, -4.58191186e-02,  1.73281655e-01],\n",
       "       [ 7.07331747e-02, -5.64727634e-02, -1.85262248e-01],\n",
       "       [-9.45217907e-02,  5.20180017e-02, -9.25770402e-02],\n",
       "       [ 1.73130259e-01, -1.35572970e-01, -5.19339144e-02],\n",
       "       [ 2.46901214e-02, -4.73064333e-02,  8.82775038e-02],\n",
       "       [ 2.59212404e-02, -2.02512249e-01,  2.01195329e-02],\n",
       "       [-1.52098835e-01, -1.72405005e-01,  1.46501228e-01],\n",
       "       [-1.72156662e-01,  6.90573901e-02, -6.49672896e-02],\n",
       "       [-1.20505333e-01,  1.42438278e-01,  7.30831921e-03],\n",
       "       [ 5.58927208e-02, -4.59882617e-02, -1.17235772e-01],\n",
       "       [-3.49579155e-02, -3.57825756e-02, -5.81066757e-02],\n",
       "       [-1.21131539e-04,  1.85571209e-01, -2.10248977e-01],\n",
       "       [ 6.55356497e-02, -6.41519725e-02, -8.04417431e-02],\n",
       "       [ 1.74619064e-01, -1.89058274e-01,  1.01586297e-01],\n",
       "       [-8.34243000e-03, -3.62568945e-02, -4.78781611e-02],\n",
       "       [-1.49334162e-01,  6.38211221e-02,  1.65386781e-01],\n",
       "       [ 8.62665623e-02,  1.57368973e-01, -1.22496672e-01],\n",
       "       [-1.69270918e-01, -8.47355723e-02, -2.06737652e-01],\n",
       "       [ 9.61624533e-02,  1.62641630e-01, -1.08233444e-01],\n",
       "       [-6.59911036e-02,  1.28541887e-02,  4.32889611e-02],\n",
       "       [ 1.93403289e-01,  9.24244672e-02, -1.94151253e-01],\n",
       "       [-1.37471586e-01,  1.20970979e-01, -1.08063273e-01],\n",
       "       [-6.71998709e-02, -5.67296743e-02,  1.05307445e-01],\n",
       "       [ 1.06660292e-01,  2.12517679e-02, -1.21111199e-01],\n",
       "       [ 7.55952746e-02,  8.65501612e-02, -1.18792281e-01],\n",
       "       [-2.09704280e-01,  6.55318350e-02, -2.02386320e-01],\n",
       "       [ 8.29675049e-02,  6.51090890e-02, -2.03315586e-01],\n",
       "       [ 1.17378280e-01, -2.07836181e-02,  5.54530770e-02],\n",
       "       [-1.31917357e-01,  1.09006271e-01, -5.88174909e-02],\n",
       "       [-4.62324172e-02, -5.21503538e-02, -1.37124568e-01],\n",
       "       [ 9.65371579e-02, -1.39950365e-01,  1.66791424e-01],\n",
       "       [ 7.37987906e-02,  8.79451782e-02, -9.86424088e-03],\n",
       "       [-8.15560669e-02, -1.24340244e-01, -1.75261363e-01],\n",
       "       [-8.32632035e-02,  3.59333009e-02,  6.95836097e-02],\n",
       "       [ 1.47937104e-01, -2.73906440e-02, -8.20193738e-02],\n",
       "       [ 3.29710543e-03,  8.23772103e-02,  9.04493183e-02],\n",
       "       [ 9.30345803e-02, -1.79171592e-01, -4.04361635e-02],\n",
       "       [ 1.17088452e-01,  4.93358821e-02,  1.25494674e-01],\n",
       "       [ 7.89572448e-02,  1.27139047e-01, -1.67137325e-01],\n",
       "       [-1.73278138e-01, -1.32890433e-01,  6.45347983e-02],\n",
       "       [ 1.75116494e-01, -3.23351324e-02, -1.65098011e-01],\n",
       "       [ 1.20922327e-02,  1.86303809e-01,  1.15114525e-01],\n",
       "       [-1.43170834e-01, -8.96503180e-02, -5.88234067e-02],\n",
       "       [-4.83795851e-02, -7.18020499e-02, -1.64128810e-01],\n",
       "       [ 1.97350815e-01, -2.00227320e-01,  9.16851312e-02],\n",
       "       [ 1.39833733e-01, -1.54726133e-01,  1.90294608e-01],\n",
       "       [-2.80631036e-02, -1.96829900e-01,  1.42385617e-01],\n",
       "       [-7.92593956e-02, -8.49315077e-02,  1.13105223e-01],\n",
       "       [-3.83760482e-02, -2.27445513e-02, -1.25857443e-02],\n",
       "       [ 1.47833228e-02,  3.73510569e-02,  1.29336461e-01],\n",
       "       [ 1.22778341e-01, -1.76847458e-01,  8.44481438e-02],\n",
       "       [ 1.28403738e-01, -4.08964157e-02,  1.06189951e-01],\n",
       "       [-1.06818326e-01,  7.77546912e-02, -1.24147676e-01],\n",
       "       [ 1.11351445e-01,  9.36952978e-02, -1.40578061e-01],\n",
       "       [ 1.87976494e-01,  2.61990726e-02, -4.96435612e-02],\n",
       "       [-5.53644598e-02, -1.92243904e-01,  6.25168830e-02],\n",
       "       [-2.10464954e-01,  2.70203054e-02,  1.17827192e-01],\n",
       "       [ 2.22452134e-02, -3.09753269e-02, -6.34267628e-02],\n",
       "       [-1.01266943e-01, -1.56936213e-01, -1.89857990e-01],\n",
       "       [ 1.48381129e-01, -1.45607591e-02, -1.65572956e-01],\n",
       "       [ 1.53933480e-01,  1.85610279e-01, -1.37801558e-01],\n",
       "       [-2.12471560e-01,  1.94103405e-01,  2.23780870e-02],\n",
       "       [ 1.95424408e-02,  1.97821662e-01, -1.27939418e-01],\n",
       "       [-5.35035282e-02, -1.55994251e-01,  1.51463971e-01],\n",
       "       [-2.25795358e-02, -1.14480443e-01,  1.62199005e-01],\n",
       "       [ 1.52806744e-01,  1.93431810e-01, -9.17715132e-02],\n",
       "       [-9.97551829e-02,  9.70500261e-02, -1.88613504e-01],\n",
       "       [-2.36080289e-02, -2.09940329e-01,  1.20972976e-01],\n",
       "       [ 1.92112043e-01, -8.27603489e-02, -1.48976833e-01],\n",
       "       [-2.09462166e-01,  6.31669164e-03, -7.53479451e-02],\n",
       "       [-1.63382977e-01,  1.17368802e-01, -1.40271306e-01],\n",
       "       [-1.15925521e-02,  1.80647925e-01, -7.43808746e-02],\n",
       "       [ 6.25948459e-02,  8.54274631e-03, -1.16996571e-01],\n",
       "       [-2.09748477e-01, -1.88955918e-01, -1.59221515e-01],\n",
       "       [-1.75825596e-01,  1.13171145e-01,  8.14419985e-03],\n",
       "       [ 8.19454938e-02, -2.07339227e-03,  7.54054934e-02],\n",
       "       [-1.50278062e-01, -2.26065814e-02,  1.33375540e-01],\n",
       "       [ 9.95993167e-02,  1.11007348e-01, -8.55517089e-02],\n",
       "       [-1.10692114e-01,  3.64055187e-02,  1.21262625e-01],\n",
       "       [ 2.11600408e-01,  8.78045112e-02, -1.73141956e-01],\n",
       "       [-1.30787343e-02,  1.91350922e-01,  2.12464556e-01],\n",
       "       [-1.17488295e-01,  3.71235460e-02, -1.68598160e-01],\n",
       "       [-2.07986593e-01,  2.84897238e-02, -7.61590451e-02],\n",
       "       [-1.41124085e-01, -9.29133892e-02,  4.82879430e-02],\n",
       "       [-2.03721285e-01,  5.46548516e-02, -4.46366668e-02],\n",
       "       [ 1.86193600e-01,  2.83896029e-02, -2.08079249e-01],\n",
       "       [ 1.45687267e-01, -2.06199497e-01, -1.61978021e-01],\n",
       "       [ 2.09812924e-01, -1.41317725e-01, -1.44581676e-01],\n",
       "       [ 1.05861768e-01,  1.24374628e-02, -1.04491413e-02],\n",
       "       [ 6.96991533e-02, -1.23261020e-01,  1.23567685e-01],\n",
       "       [-7.72927105e-02,  1.35725841e-01,  1.66231737e-01],\n",
       "       [ 1.02762267e-01, -9.86328498e-02, -1.44296736e-02],\n",
       "       [-1.37091354e-01,  1.53511032e-01,  1.66318640e-01],\n",
       "       [ 5.31339496e-02, -1.01956695e-01, -2.58988887e-02],\n",
       "       [-1.77848518e-01,  5.00113517e-02, -9.70789790e-03],\n",
       "       [ 2.80286074e-02,  5.98766059e-02, -1.73123077e-01],\n",
       "       [-6.35349751e-02, -8.41677189e-03,  1.73138693e-01],\n",
       "       [-2.01290622e-01, -1.16128944e-01,  4.01255339e-02],\n",
       "       [ 8.42453688e-02, -1.87174857e-01, -3.17162126e-02],\n",
       "       [-1.66333795e-01, -1.47162437e-01,  1.90655038e-01],\n",
       "       [-1.99016154e-01,  2.43812650e-02, -4.75728810e-02],\n",
       "       [-1.21192172e-01, -9.33373049e-02,  2.08113328e-01],\n",
       "       [ 2.02524513e-02, -2.19333023e-02,  8.76931101e-02],\n",
       "       [-3.95462513e-02, -1.08278297e-01, -1.98684439e-01],\n",
       "       [-1.59882993e-01, -1.08294778e-01, -1.14318542e-01],\n",
       "       [ 1.34754032e-02,  6.11209422e-02, -2.13974416e-02]], dtype=float32), array([0., 0., 0.], dtype=float32)], non_trainable=[]), optimizer_state=[0], delta_aggregate_state=OrderedDict([('value_sum_process', ()), ('weight_sum_process', ())]), model_broadcast_state=())"
      ]
     },
     "execution_count": 17,
     "metadata": {},
     "output_type": "execute_result"
    }
   ],
   "source": [
    "state"
   ]
  },
  {
   "cell_type": "markdown",
   "metadata": {
    "id": "TLrk-NDxiDBO"
   },
   "source": [
    "The second of the pair of federated computations, `next`, represents a single\n",
    "round of Federated Averaging, which consists of pushing the server state\n",
    "(including the model parameters) to the clients, on-device training on their\n",
    "local data, collecting and averaging model updates, and producing a new updated\n",
    "model at the server.\n",
    "\n",
    "Conceptually, you can think of `next` as having a functional type signature that\n",
    "looks as follows.\n",
    "\n",
    "```\n",
    "SERVER_STATE, FEDERATED_DATA -> SERVER_STATE, TRAINING_METRICS\n",
    "```\n",
    "\n",
    "In particular, one should think about `next()` not as being a function that runs on a server, but rather being a declarative functional representation of the entire decentralized computation - some of the inputs are provided by the server (`SERVER_STATE`), but each participating device contributes its own local dataset.\n",
    "\n",
    "To run a single round of training and visualizing the results We can use the following line of code and federated data we've already generated above:\n",
    "\n",
    "\n",
    "\n",
    "\n"
   ]
  },
  {
   "cell_type": "code",
   "execution_count": 18,
   "metadata": {
    "colab": {
     "base_uri": "https://localhost:8080/"
    },
    "id": "7HoXm0fWjpnv",
    "outputId": "9840229b-fd67-40fd-960e-655d7a6f4af4"
   },
   "outputs": [
    {
     "name": "stdout",
     "output_type": "stream",
     "text": [
      "round  1, metrics=OrderedDict([('broadcast', ()), ('aggregation', OrderedDict([('value_sum_process', ()), ('weight_sum_process', ())])), ('train', OrderedDict([('categorical_accuracy', 0.66899985), ('AUC', 0.821), ('loss', 0.80224246)]))])\n"
     ]
    }
   ],
   "source": [
    "state, metrics = iterative_process.next(state, federated_train_data)\n",
    "print(\"round  1, metrics={}\".format(metrics))"
   ]
  },
  {
   "cell_type": "markdown",
   "metadata": {
    "id": "puoZpi5CltTJ"
   },
   "source": [
    "## Evaluation\n",
    "To perform evaluation on federated data, you can construct another *federated\n",
    "computation* designed for just this purpose, using the\n",
    "`tff.learning.build_federated_evaluation` function, and passing in your model\n",
    "constructor as an argument. Note that as the evaluation doesn't perform gradient descent, and there's no need to construct\n",
    "optimizers.\n",
    "\n",
    "For experimentation and research, when a centralized test dataset is available,\n",
    "[Federated Learning for Text Generation](federated_learning_for_text_generation.ipynb)\n",
    "demonstrates another evaluation option: taking the trained weights from\n",
    "federated learning, applying them to a standard Keras model, and then simply\n",
    "calling `tf.keras.models.Model.evaluate()` on a centralized dataset."
   ]
  },
  {
   "cell_type": "code",
   "execution_count": 19,
   "metadata": {
    "colab": {
     "base_uri": "https://localhost:8080/"
    },
    "id": "cnHToV-sl193",
    "outputId": "0fff15b9-3a82-4384-8164-e5aee2f4e431"
   },
   "outputs": [
    {
     "data": {
      "text/plain": [
       "OrderedDict([('categorical_accuracy', 0.6925602),\n",
       "             ('AUC', 0.7919635),\n",
       "             ('loss', 1.0716019)])"
      ]
     },
     "execution_count": 19,
     "metadata": {},
     "output_type": "execute_result"
    }
   ],
   "source": [
    "evaluation = tff.learning.build_federated_evaluation(model_fn) \n",
    "\n",
    "federated_test_data = make_federated_data(test_data, test_client_ids)\n",
    "\n",
    "val_metrics = evaluation(state.model, federated_test_data)\n",
    "\n",
    "val_metrics"
   ]
  },
  {
   "cell_type": "code",
   "execution_count": 20,
   "metadata": {
    "colab": {
     "base_uri": "https://localhost:8080/"
    },
    "id": "7MRMGwyLmSwJ",
    "outputId": "0f223e85-9baf-4310-d65a-f519ae769072"
   },
   "outputs": [
    {
     "name": "stdout",
     "output_type": "stream",
     "text": [
      "(64, 224, 224, 3)\n"
     ]
    }
   ],
   "source": [
    "a = iter(federated_test_data[0]).next()\n",
    "print(a[0].shape)"
   ]
  },
  {
   "cell_type": "markdown",
   "metadata": {
    "id": "Mh_ceyGdjC3G"
   },
   "source": [
    "## Training and evaluation multiple rounds:\n",
    "\n",
    "Here we run the federated learning algorithm multiple rounds on training clients and evaluate the performance on test client.\n",
    "\n",
    "First we initialize the model:"
   ]
  },
  {
   "cell_type": "code",
   "execution_count": 21,
   "metadata": {
    "id": "FIdaipQXh88D"
   },
   "outputs": [],
   "source": [
    "state = iterative_process.initialize()"
   ]
  },
  {
   "cell_type": "markdown",
   "metadata": {
    "id": "GsfxH0uckV6O"
   },
   "source": [
    "Now let's train and evaluate multiple times"
   ]
  },
  {
   "cell_type": "code",
   "execution_count": null,
   "metadata": {
    "colab": {
     "base_uri": "https://localhost:8080/",
     "height": 626
    },
    "id": "qe5p5EwokI6O",
    "outputId": "fe808782-885c-4d4f-c01e-05c239684405"
   },
   "outputs": [],
   "source": [
    "NUM_ROUNDS = 50\n",
    "\n",
    "loss = list()\n",
    "accuracy = list()\n",
    "AUC = list()\n",
    "\n",
    "val_loss = list()\n",
    "val_accuracy = list()\n",
    "val_AUC = list()\n",
    "\n",
    "evaluation = tff.learning.build_federated_evaluation(model_fn)\n",
    "federated_test_data = make_federated_data(test_data, test_client_ids)\n",
    "\n",
    "for round_num in range(1, NUM_ROUNDS + 1):\n",
    "    state, metrics = iterative_process.next(state, federated_train_data)\n",
    "    val_metrics = evaluation(state.model, federated_test_data)\n",
    "\n",
    "    my_loss = metrics[\"train\"][\"loss\"]\n",
    "    loss.append(metrics[\"train\"][\"loss\"])\n",
    "\n",
    "    my_acc = metrics[\"train\"][\"categorical_accuracy\"]\n",
    "    accuracy.append(metrics[\"train\"][\"categorical_accuracy\"])\n",
    "\n",
    "    my_AUC = metrics[\"train\"][\"AUC\"]\n",
    "    AUC.append(my_AUC)\n",
    "\n",
    "    my_val_loss = val_metrics[\"loss\"]\n",
    "    val_loss.append(val_metrics[\"loss\"])\n",
    "\n",
    "    my_val_accuracy = val_metrics[\"categorical_accuracy\"]\n",
    "    val_accuracy.append(val_metrics[\"categorical_accuracy\"])\n",
    "\n",
    "    my_val_AUC = val_metrics[\"AUC\"]\n",
    "    val_AUC.append(my_val_AUC)\n",
    "\n",
    "    print(\n",
    "        f\"round: {round_num:2d}, training_loss: {my_loss}, training_accuracy: {my_acc}, train_auc: {my_AUC}, test_loss: {my_val_loss}, test_accuracy: {my_val_accuracy},  test_auc: {my_val_AUC}\"\n",
    "    )\n",
    "\n",
    "history_fed = {\n",
    "    \"loss\": loss,\n",
    "    \"categorical_accuracy\": accuracy,\n",
    "    \"AUC\": AUC,\n",
    "    \"val_loss\": val_loss,\n",
    "    \"val_categorical_accuracy\": val_accuracy,\n",
    "    \"val_AUC\": val_AUC,\n",
    "}"
   ]
  },
  {
   "cell_type": "markdown",
   "metadata": {
    "id": "34_2dhNZUOoF"
   },
   "source": [
    "## An experiment setup for comparing HFL against baseline\n",
    "\n",
    "### Train on one hospital and test on another one.\n",
    "*   We choose hospitals 0,2,3 as training hospitals and hospital 1 as the test hospital\n",
    "*   For the baseline scenario, we separately train 3 models on each one of 0, 2, and 3 hospitals and test the three models on data of hospital 1\n",
    "*   For the FL scenario, we train a shared global model on hospitals 0,2, and 3 while clients keep their training data private\n",
    "*   Then, we compare the performance of the FL model against the baseline"
   ]
  },
  {
   "cell_type": "markdown",
   "metadata": {
    "id": "o5pFjFpJU7hu"
   },
   "source": [
    "## Comparison of FederatedAveraging against the baseline scenario"
   ]
  },
  {
   "cell_type": "code",
   "execution_count": 23,
   "metadata": {
    "id": "mnVjeCuMQh1_"
   },
   "outputs": [],
   "source": [
    "history_fed = np.load(\n",
    "    path + \"/history_fed_train_id_0_2_3_test_id_1.npy\", allow_pickle=True\n",
    ").item()"
   ]
  },
  {
   "cell_type": "code",
   "execution_count": 24,
   "metadata": {
    "id": "NAoFLkqWB3bn"
   },
   "outputs": [],
   "source": [
    "train_id = 3\n",
    "test_id = 1\n",
    "history = {}\n",
    "history[\"{},{}\".format(train_id, test_id)] = np.load(\n",
    "    path + \"/my_history_train_id_{}_test_id_{}.npy\".format(train_id, test_id),\n",
    "    allow_pickle=\"TRUE\",\n",
    ").item()"
   ]
  },
  {
   "cell_type": "code",
   "execution_count": 25,
   "metadata": {
    "id": "KKjYjL17EJ4b"
   },
   "outputs": [],
   "source": [
    "train_id = 2\n",
    "test_id = 1\n",
    "history[\"{},{}\".format(train_id, test_id)] = np.load(\n",
    "    path + \"/my_history_train_id_{}_test_id_{}.npy\".format(train_id, test_id),\n",
    "    allow_pickle=\"TRUE\",\n",
    ").item()"
   ]
  },
  {
   "cell_type": "code",
   "execution_count": 26,
   "metadata": {
    "id": "dLT3bTrpFBPv"
   },
   "outputs": [],
   "source": [
    "train_id = 0\n",
    "test_id = 1\n",
    "history[\"{},{}\".format(train_id, test_id)] = np.load(\n",
    "    path + \"/my_history_train_id_{}_test_id_{}.npy\".format(train_id, test_id),\n",
    "    allow_pickle=\"TRUE\",\n",
    ").item()"
   ]
  },
  {
   "cell_type": "code",
   "execution_count": 27,
   "metadata": {
    "colab": {
     "base_uri": "https://localhost:8080/",
     "height": 468
    },
    "id": "OzpUcy1cLVU7",
    "outputId": "f92a6aeb-276f-4a15-e8d6-6098b385a88d"
   },
   "outputs": [
    {
     "data": {
      "text/plain": [
       "Text(0.5, 0, 'Epoch/Round')"
      ]
     },
     "execution_count": 27,
     "metadata": {},
     "output_type": "execute_result"
    },
    {
     "data": {
      "image/png": "[encoded data removed]",
      "text/plain": [
       "<Figure size 2160x576 with 6 Axes>"
      ]
     },
     "metadata": {
      "needs_background": "light"
     },
     "output_type": "display_data"
    }
   ],
   "source": [
    "fig1 = plt.figure(figsize=(30, 8))\n",
    "fig1.subplots_adjust(top=0.99, bottom=0.01, hspace=0.3, wspace=0.3)\n",
    "ax1 = fig1.add_subplot(2, 3, 1)\n",
    "ax1.plot(\n",
    "    history_fed[\"AUC\"],\n",
    "    color=\"black\",\n",
    "    label=\"Train AUC on Hispital 1 with Federated Model trained on Hospitals 0-2-3\",\n",
    ")\n",
    "ax1.plot(\n",
    "    history[\"3,1\"][\"AUC\"],\n",
    "    \"*-\",\n",
    "    label=\"Train AUC on Hispital 1 with Model trained on Hospital 3\",\n",
    ")\n",
    "ax1.plot(\n",
    "    history[\"2,1\"][\"AUC\"],\n",
    "    \"--\",\n",
    "    label=\"Train AUC on Hispital 1 with Model trained on Hospital 2\",\n",
    ")\n",
    "ax1.plot(\n",
    "    history[\"0,1\"][\"AUC\"],\n",
    "    \"-.\",\n",
    "    label=\"Train AUC on Hispital 1 with Model trained on Hospital 0\",\n",
    ")\n",
    "ax1.legend(loc=\"lower right\")\n",
    "ax1.set_ylabel(\"Auc\")\n",
    "ax1.set_ylim([0, 1])\n",
    "ax1.set_title(\"Train Auc\")\n",
    "ax1.set_xlabel(\"Epoch/Round\")\n",
    "\n",
    "\n",
    "ax2 = fig1.add_subplot(2, 3, 2)\n",
    "ax2.plot(\n",
    "    history_fed[\"categorical_accuracy\"],\n",
    "    color=\"black\",\n",
    "    label=\"Train Accuracy on Hispital 1 with Federated Model trained on Hospitals 0-2-3\",\n",
    ")\n",
    "ax2.plot(\n",
    "    history[\"3,1\"][\"categorical_accuracy\"],\n",
    "    \"*-\",\n",
    "    label=\"Train Accuracy on Hispital 1 with Model trained on Hospital 3\",\n",
    ")\n",
    "ax2.plot(\n",
    "    history[\"2,1\"][\"categorical_accuracy\"],\n",
    "    \"--\",\n",
    "    label=\"Train Accuracy on Hispital 1 with Model trained on Hospital 2\",\n",
    ")\n",
    "ax2.plot(\n",
    "    history[\"0,1\"][\"categorical_accuracy\"],\n",
    "    \"-.\",\n",
    "    label=\"Train Accuracy on Hispital 1 with Model trained on Hospital 0\",\n",
    ")\n",
    "ax2.legend(loc=\"lower right\")\n",
    "ax2.set_ylabel(\"Accuracy\")\n",
    "ax2.set_ylim([0, 1])\n",
    "ax2.set_title(\"Train Accuracy\")\n",
    "ax2.set_xlabel(\"Epoch/Round\")\n",
    "\n",
    "ax3 = fig1.add_subplot(2, 3, 3)\n",
    "ax3.plot(\n",
    "    history_fed[\"loss\"],\n",
    "    color=\"black\",\n",
    "    label=\"Train Loss on Hispital 1 with Federated Model trained on Hospitals 0-2-3\",\n",
    ")\n",
    "ax3.plot(\n",
    "    history[\"3,1\"][\"loss\"],\n",
    "    \"*-\",\n",
    "    label=\"Train Loss of Hispital 1 with Model trained on Hospital 3\",\n",
    ")\n",
    "ax3.plot(\n",
    "    history[\"2,1\"][\"loss\"],\n",
    "    \"--\",\n",
    "    label=\"Train Loss of Hispital 1 with Model trained on Hospital 2\",\n",
    ")\n",
    "ax3.plot(\n",
    "    history[\"0,1\"][\"loss\"],\n",
    "    \"-.\",\n",
    "    label=\"Train Loss of Hispital 1 with Model trained on Hospital 0\",\n",
    ")\n",
    "\n",
    "ax3.legend(loc=\"lower right\")\n",
    "ax3.set_ylabel(\"Cross Entropy\")\n",
    "ax3.set_ylim([0, max(ax2.get_ylim()) + 0.5])\n",
    "ax3.set_title(\"Train Loss\")\n",
    "ax3.set_xlabel(\"Epoch/Round\")\n",
    "\n",
    "\n",
    "ax4 = fig1.add_subplot(2, 3, 4)\n",
    "ax4.plot(\n",
    "    history_fed[\"val_AUC\"],\n",
    "    color=\"black\",\n",
    "    label=\"Test AUC on Hispital 1 with Federated Model trained on Hospitals 0-2-3\",\n",
    ")\n",
    "ax4.plot(\n",
    "    history[\"3,1\"][\"val_AUC\"],\n",
    "    \"*-\",\n",
    "    label=\"Test AUC on Hispital 1 with Model trained on Hospital 3\",\n",
    ")\n",
    "ax4.plot(\n",
    "    history[\"2,1\"][\"val_AUC\"],\n",
    "    \"--\",\n",
    "    label=\"Test AUC on Hispital 1 with Model trained on Hospital 2\",\n",
    ")\n",
    "ax4.plot(\n",
    "    history[\"0,1\"][\"val_AUC\"],\n",
    "    \"-.\",\n",
    "    label=\"Test AUC on Hispital 1 with Model trained on Hospital 0\",\n",
    ")\n",
    "ax4.legend(loc=\"lower right\")\n",
    "ax4.set_ylabel(\"Auc\")\n",
    "ax4.set_ylim([0, 1])\n",
    "ax4.set_title(\"Test Auc\")\n",
    "ax4.set_xlabel(\"Epoch/Round\")\n",
    "\n",
    "\n",
    "ax5 = fig1.add_subplot(2, 3, 5)\n",
    "ax5.plot(\n",
    "    history_fed[\"val_categorical_accuracy\"],\n",
    "    color=\"black\",\n",
    "    linewidth=3,\n",
    "    label=\"Test Accuracy on Hispital 1 with Federated Model trained on Hospitals 0-2-3\",\n",
    ")\n",
    "ax5.plot(\n",
    "    history[\"3,1\"][\"val_categorical_accuracy\"],\n",
    "    \"*-\",\n",
    "    label=\"Test Accuracy on Hispital 1 with Model trained on Hospital 3\",\n",
    ")\n",
    "ax5.plot(\n",
    "    history[\"2,1\"][\"val_categorical_accuracy\"],\n",
    "    \"--\",\n",
    "    label=\"Test Accuracy on Hispital 1 with Model trained on Hospital 2\",\n",
    ")\n",
    "ax5.plot(\n",
    "    history[\"0,1\"][\"val_categorical_accuracy\"],\n",
    "    \"-.\",\n",
    "    label=\"Test Accuracy on Hispital 1 with Model trained on Hospital 0\",\n",
    ")\n",
    "ax5.legend(loc=\"lower right\")\n",
    "ax5.set_ylabel(\"Accuracy\")\n",
    "ax5.set_ylim([0, 1])\n",
    "ax5.set_title(\"Test Accuracy\")\n",
    "ax5.set_xlabel(\"Epoch/Round\")\n",
    "\n",
    "ax6 = fig1.add_subplot(2, 3, 6)\n",
    "\n",
    "ax6.plot(\n",
    "    history_fed[\"val_loss\"],\n",
    "    color=\"black\",\n",
    "    label=\"Test Loss on Hispital 1 with Federated Model trained on Hospitals 0-2-3\",\n",
    ")\n",
    "ax6.plot(\n",
    "    history[\"3,1\"][\"val_loss\"],\n",
    "    \"*-\",\n",
    "    label=\"Test Loss of Hispital 1 with Model trained on Hospital 3\",\n",
    ")\n",
    "ax6.plot(\n",
    "    history[\"2,1\"][\"val_loss\"],\n",
    "    \"--\",\n",
    "    label=\"Test Loss of Hispital 1 with Model trained on Hospital 2\",\n",
    ")\n",
    "ax6.plot(\n",
    "    history[\"0,1\"][\"val_loss\"],\n",
    "    \"-.\",\n",
    "    label=\"Test Loss of Hispital 1 with Model trained on Hospital 0\",\n",
    ")\n",
    "\n",
    "ax6.legend(loc=\"lower right\")\n",
    "ax6.set_ylabel(\"Cross Entropy\")\n",
    "ax6.set_ylim([0, max(ax2.get_ylim()) + 0.5])\n",
    "ax6.set_title(\"Test Loss\")\n",
    "ax6.set_xlabel(\"Epoch/Round\")\n",
    "\n"
   ]
  }
 ],
 "metadata": {
  "accelerator": "GPU",
  "colab": {
   "collapsed_sections": [],
   "name": "HFL_WSI_part2.ipynb",
   "provenance": []
  },
  "kernelspec": {
   "display_name": "Python 3",
   "language": "python",
   "name": "python3"
  },
  "language_info": {
   "codemirror_mode": {
    "name": "ipython",
    "version": 3
   },
   "file_extension": ".py",
   "mimetype": "text/x-python",
   "name": "python",
   "nbconvert_exporter": "python",
   "pygments_lexer": "ipython3",
   "version": "3.6.9"
  }
 },
 "nbformat": 4,
 "nbformat_minor": 4
}
