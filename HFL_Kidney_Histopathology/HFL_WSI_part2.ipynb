{
 "cells": [
  {
   "cell_type": "markdown",
   "metadata": {
    "id": "8nE0tDBgUdU0"
   },
   "source": [
    "# Outline:\n",
    "\n",
    "\n",
    "*   **Notebook 1**:\n",
    "\n",
    "  *   An overview of Federated Learning (FL)\n",
    "  *   An overview of Whole Slide Image (WSI) data\n",
    "  *   Kidney WSI data inspection and creation for HFL task\n",
    "  *   Baseline experiment on kidney patch classification\n",
    "  *   An experiment setup for comparing HFL against baseline\n",
    "\n",
    "\n",
    "*   **Notebook 2**:\n",
    "\n",
    "  *   A working example of Horizontal Federated Learning (HFL) using TensorFlow Federated on histopathology Kidney images\n",
    "      *   Tensorflow Federated dataset\n",
    "      *   Tensorflow Federated model\n",
    "      *   Tensorflow Federated computations for initialization train and validation\n",
    "  *   Comparison of FederatedAveraging against the baseline scenario"
   ]
  },
  {
   "cell_type": "markdown",
   "metadata": {
    "id": "23kgcnC82Ya9"
   },
   "source": [
    "# Notebook 2:\n",
    "## A working example of Horizontal Federated Learning (HFL) using TensorFlow Federated on histopathology Kidney images\n"
   ]
  },
  {
   "cell_type": "markdown",
   "metadata": {
    "id": "OJnPZ4eR_GNl"
   },
   "source": [
    "### Installation of packages"
   ]
  },
  {
   "cell_type": "code",
   "execution_count": 24,
   "metadata": {
    "colab": {
     "base_uri": "https://localhost:8080/"
    },
    "id": "UzCd7INb1JeI",
    "outputId": "b995c6c3-a912-4a1c-c8d9-33ac5e003942"
   },
   "outputs": [],
   "source": [
    "# !pip install tensorflow-federated==0.18\n",
    "# !pip install nest_asyncio"
   ]
  },
  {
   "cell_type": "markdown",
   "metadata": {
    "id": "NxQ0kI1k_cS2"
   },
   "source": [
    "### Importing Required Packages:"
   ]
  },
  {
   "cell_type": "code",
   "execution_count": 3,
   "metadata": {
    "id": "c5RzkuLS9mWe"
   },
   "outputs": [
    {
     "name": "stderr",
     "output_type": "stream",
     "text": [
      "2021-11-01 08:52:27.903624: W tensorflow/stream_executor/platform/default/dso_loader.cc:64] Could not load dynamic library 'libcudart.so.11.0'; dlerror: libcudart.so.11.0: cannot open shared object file: No such file or directory\n",
      "2021-11-01 08:52:27.903655: I tensorflow/stream_executor/cuda/cudart_stub.cc:29] Ignore above cudart dlerror if you do not have a GPU set up on your machine.\n"
     ]
    }
   ],
   "source": [
    "import nest_asyncio\n",
    "nest_asyncio.apply()\n",
    "\n",
    "import glob\n",
    "import pandas as pd\n",
    "import os\n",
    "import numpy as np\n",
    "import matplotlib.pyplot as plt\n",
    "import collections\n",
    "import tensorflow as tf\n",
    "import tensorflow_federated as tff\n",
    "\n",
    "\n",
    "from tensorflow import keras\n",
    "from tensorflow.keras import layers\n",
    "from tensorflow.keras.models import Sequential\n",
    "from tensorflow.keras.layers import Dense, GlobalAveragePooling2D\n",
    "from tensorflow.keras.models import Model\n",
    "from tensorflow.keras.optimizers import SGD"
   ]
  },
  {
   "cell_type": "markdown",
   "metadata": {
    "id": "1GkcY9c0-sL1"
   },
   "source": [
    "# Data Loading:\n",
    "\n",
    "To load the necessary files, specify the \"path\" variable to be the path to the folder that contains the following files:  \n",
    "* HFL_kidney.csv\n",
    "* HFL_dict_data.npy \n",
    "* tissue_source_site_data.xlsx\n",
    "* history_fed_train_id_0_2_3_test_id_1.npy\n",
    "* my_history_train_id_0_test_id_1.npy\n",
    "* my_history_train_id_2_test_id_1.npy\n",
    "* my_history_train_id_3_test_id_1.npy\n",
    "\n",
    "We already created a dictionary with for key and value pairs for kideny images from the four mentioned hospitals. Each value in dictionary is a tuple of normalized images (normalized to [0-1]  range) and the associated labels for possible three disease types."
   ]
  },
  {
   "cell_type": "code",
   "execution_count": 4,
   "metadata": {
    "id": "W0HdJosL87Ol"
   },
   "outputs": [],
   "source": [
    "# Base path to the folder that contains the following files:  HFL_kidney.csv, HFL_dict_data.npy,  tissue_source_site_data.xlsx, history_fed_train_id_0_2_3_test_id_1.npy,  my_history_train_id_0_test_id_1.npy, my_history_train_id_2_test_id_1.npy, and my_history_train_id_3_test_id_1.npy.\n",
    "path='/ssd003/projects/pets/datasets/kidney_histopathology'\n",
    "# Load the meta-data of Kidney dataset\n",
    "df = pd.read_csv(path+'/HFL_kidney.csv')\n",
    "data=np.load(path+'/HFL_dict_data.npy',allow_pickle='TRUE').item() # data[0] return the image-lable tuple for hospital number 0"
   ]
  },
  {
   "cell_type": "markdown",
   "metadata": {
    "id": "BJNZpgarAmNX"
   },
   "source": [
    "## Creating Federated Data:\n",
    "The function `tff.simulation.ClientData.from_clients_and_fn`, requires that we write a function that accepts a `client_id` as input and returns a `tf.data.Dataset`. Let's do that in the helper function below: "
   ]
  },
  {
   "cell_type": "code",
   "execution_count": 5,
   "metadata": {
    "id": "HnfZB3Sr-iaA"
   },
   "outputs": [],
   "source": [
    "\n",
    "batch_size=64\n",
    "SHUFFLE_BUFFER=128\n",
    "def create_tf_dataset_for_client_fn(client_id):\n",
    "    client_data = data[client_id]\n",
    "    dataset=tf.data.Dataset.from_tensor_slices((client_data[0], client_data[1])).prefetch(buffer_size=128)  #client_data[0] is images,   client_data[1] is labels\n",
    "    dataset=dataset.shuffle(2000, reshuffle_each_iteration=True).batch(batch_size)\n",
    "    \n",
    "    return dataset\n"
   ]
  },
  {
   "cell_type": "code",
   "execution_count": 6,
   "metadata": {},
   "outputs": [
    {
     "name": "stdout",
     "output_type": "stream",
     "text": [
      "0.19.0\n"
     ]
    }
   ],
   "source": [
    "print(tff.__version__)"
   ]
  },
  {
   "cell_type": "markdown",
   "metadata": {
    "id": "nN5tCuoIFH8u"
   },
   "source": [
    "Now, let's create the training and testing federated data. There are 4 hospitals in our data. We use data of 3 hospitals for training and 1 hospital for testing."
   ]
  },
  {
   "cell_type": "code",
   "execution_count": 7,
   "metadata": {
    "id": "4FymhW7t-uKi"
   },
   "outputs": [
    {
     "name": "stderr",
     "output_type": "stream",
     "text": [
      "2021-11-01 08:52:55.147628: W tensorflow/stream_executor/platform/default/dso_loader.cc:64] Could not load dynamic library 'libcudart.so.11.0'; dlerror: libcudart.so.11.0: cannot open shared object file: No such file or directory\n",
      "2021-11-01 08:52:55.147741: W tensorflow/stream_executor/platform/default/dso_loader.cc:64] Could not load dynamic library 'libcublas.so.11'; dlerror: libcublas.so.11: cannot open shared object file: No such file or directory\n",
      "2021-11-01 08:52:55.147814: W tensorflow/stream_executor/platform/default/dso_loader.cc:64] Could not load dynamic library 'libcublasLt.so.11'; dlerror: libcublasLt.so.11: cannot open shared object file: No such file or directory\n",
      "2021-11-01 08:52:55.147891: W tensorflow/stream_executor/platform/default/dso_loader.cc:64] Could not load dynamic library 'libcufft.so.10'; dlerror: libcufft.so.10: cannot open shared object file: No such file or directory\n",
      "2021-11-01 08:52:55.147968: W tensorflow/stream_executor/platform/default/dso_loader.cc:64] Could not load dynamic library 'libcurand.so.10'; dlerror: libcurand.so.10: cannot open shared object file: No such file or directory\n",
      "2021-11-01 08:52:55.148041: W tensorflow/stream_executor/platform/default/dso_loader.cc:64] Could not load dynamic library 'libcusolver.so.11'; dlerror: libcusolver.so.11: cannot open shared object file: No such file or directory\n",
      "2021-11-01 08:52:55.148115: W tensorflow/stream_executor/platform/default/dso_loader.cc:64] Could not load dynamic library 'libcusparse.so.11'; dlerror: libcusparse.so.11: cannot open shared object file: No such file or directory\n",
      "2021-11-01 08:52:55.148195: W tensorflow/stream_executor/platform/default/dso_loader.cc:64] Could not load dynamic library 'libcudnn.so.8'; dlerror: libcudnn.so.8: cannot open shared object file: No such file or directory\n",
      "2021-11-01 08:52:55.148210: W tensorflow/core/common_runtime/gpu/gpu_device.cc:1850] Cannot dlopen some GPU libraries. Please make sure the missing libraries mentioned above are installed properly if you would like to use GPU. Follow the guide at https://www.tensorflow.org/install/gpu for how to download and setup the required libraries for your platform.\n",
      "Skipping registering GPU devices...\n",
      "2021-11-01 08:52:55.148660: I tensorflow/core/platform/cpu_feature_guard.cc:151] This TensorFlow binary is optimized with oneAPI Deep Neural Network Library (oneDNN) to use the following CPU instructions in performance-critical operations:  AVX2 AVX512F FMA\n",
      "To enable them in other operations, rebuild TensorFlow with the appropriate compiler flags.\n",
      "2021-11-01 08:52:55.149544: W tensorflow/core/framework/cpu_allocator_impl.cc:82] Allocation of 1414361088 exceeds 10% of free system memory.\n",
      "2021-11-01 08:52:56.814257: W tensorflow/core/framework/cpu_allocator_impl.cc:82] Allocation of 550330368 exceeds 10% of free system memory.\n"
     ]
    }
   ],
   "source": [
    "train_client_ids=[0,2,3]\n",
    "test_client_ids=[1]\n",
    "\n",
    "if tff.__version__ < \"0.19.0\":\n",
    "\n",
    "    train_data = tff.simulation.ClientData.from_clients_and_fn(\n",
    "        client_ids=train_client_ids,   \n",
    "        create_tf_dataset_for_client_fn=create_tf_dataset_for_client_fn)\n",
    "    \n",
    "    test_data = tff.simulation.ClientData.from_clients_and_fn(\n",
    "        client_ids=test_client_ids,\n",
    "        create_tf_dataset_for_client_fn=create_tf_dataset_for_client_fn)\n",
    "else:\n",
    "    train_data = tff.simulation.datasets.ClientData.from_clients_and_tf_fn(\n",
    "        client_ids=train_client_ids, \n",
    "        serializable_dataset_fn=create_tf_dataset_for_client_fn)\n",
    "    \n",
    "    test_data = tff.simulation.datasets.ClientData.from_clients_and_tf_fn(\n",
    "        client_ids=test_client_ids,\n",
    "        serializable_dataset_fn=create_tf_dataset_for_client_fn)\n"
   ]
  },
  {
   "cell_type": "markdown",
   "metadata": {
    "id": "xTbwCJ7uHF92"
   },
   "source": [
    "Let's see number of the clients for training federated data and also the sructure of data:"
   ]
  },
  {
   "cell_type": "code",
   "execution_count": 8,
   "metadata": {
    "colab": {
     "base_uri": "https://localhost:8080/"
    },
    "id": "GQ1Qf20rQGg2",
    "outputId": "643b111a-0d16-4e4e-972a-e03e0f6ab65f"
   },
   "outputs": [
    {
     "data": {
      "text/plain": [
       "3"
      ]
     },
     "execution_count": 8,
     "metadata": {},
     "output_type": "execute_result"
    }
   ],
   "source": [
    "len(train_data.client_ids)"
   ]
  },
  {
   "cell_type": "code",
   "execution_count": 9,
   "metadata": {
    "colab": {
     "base_uri": "https://localhost:8080/"
    },
    "id": "a_Oi4uxgQMJ_",
    "outputId": "db8a5dc1-08e1-4ec7-ccaa-839413d81dd2"
   },
   "outputs": [
    {
     "data": {
      "text/plain": [
       "(TensorSpec(shape=(None, 224, 224, 3), dtype=tf.float16, name=None),\n",
       " TensorSpec(shape=(None, 3), dtype=tf.float64, name=None))"
      ]
     },
     "execution_count": 9,
     "metadata": {},
     "output_type": "execute_result"
    }
   ],
   "source": [
    "train_data.element_type_structure"
   ]
  },
  {
   "cell_type": "markdown",
   "metadata": {
    "id": "Z1nbpGYuGsKX"
   },
   "source": [
    "To see exactly how one batch od data look like we create the following example dataset from one the client ids of train federated data:"
   ]
  },
  {
   "cell_type": "code",
   "execution_count": 10,
   "metadata": {
    "colab": {
     "base_uri": "https://localhost:8080/"
    },
    "id": "zgW8MDejGRQ3",
    "outputId": "53fca16a-78a6-4853-b588-d8d0541cffb3"
   },
   "outputs": [
    {
     "name": "stderr",
     "output_type": "stream",
     "text": [
      "2021-11-01 08:53:02.014661: W tensorflow/core/framework/cpu_allocator_impl.cc:82] Allocation of 1414361088 exceeds 10% of free system memory.\n",
      "2021-11-01 08:53:03.630183: W tensorflow/core/framework/cpu_allocator_impl.cc:82] Allocation of 1414361088 exceeds 10% of free system memory.\n"
     ]
    },
    {
     "name": "stdout",
     "output_type": "stream",
     "text": [
      "(<tf.Tensor: shape=(64, 224, 224, 3), dtype=float16, numpy=\n",
      "array([[[[0.651  , 0.596  , 0.7295 ],\n",
      "         [0.745  , 0.682  , 0.816  ],\n",
      "         [0.745  , 0.655  , 0.8037 ],\n",
      "         ...,\n",
      "         [0.792  , 0.686  , 0.8394 ],\n",
      "         [0.859  , 0.757  , 0.9136 ],\n",
      "         [0.863  , 0.7686 , 0.9253 ]],\n",
      "\n",
      "        [[0.7295 , 0.6665 , 0.8    ],\n",
      "         [0.82   , 0.753  , 0.886  ],\n",
      "         [0.7725 , 0.678  , 0.816  ],\n",
      "         ...,\n",
      "         [0.741  , 0.6353 , 0.788  ],\n",
      "         [0.816  , 0.714  , 0.8706 ],\n",
      "         [0.8354 , 0.741  , 0.898  ]],\n",
      "\n",
      "        [[0.8037 , 0.7295 , 0.859  ],\n",
      "         [0.863  , 0.7803 , 0.9097 ],\n",
      "         [0.8237 , 0.718  , 0.851  ],\n",
      "         ...,\n",
      "         [0.741  , 0.643  , 0.792  ],\n",
      "         [0.8037 , 0.714  , 0.863  ],\n",
      "         [0.792  , 0.71   , 0.859  ]],\n",
      "\n",
      "        ...,\n",
      "\n",
      "        [[0.4236 , 0.2627 , 0.3687 ],\n",
      "         [0.3843 , 0.2079 , 0.3098 ],\n",
      "         [0.4236 , 0.2118 , 0.302  ],\n",
      "         ...,\n",
      "         [0.6626 , 0.5176 , 0.8076 ],\n",
      "         [0.718  , 0.5767 , 0.8784 ],\n",
      "         [0.7295 , 0.5884 , 0.9097 ]],\n",
      "\n",
      "        [[0.4158 , 0.2588 , 0.357  ],\n",
      "         [0.4158 , 0.2354 , 0.3254 ],\n",
      "         [0.4548 , 0.2354 , 0.3176 ],\n",
      "         ...,\n",
      "         [0.686  , 0.541  , 0.8315 ],\n",
      "         [0.706  , 0.565  , 0.8667 ],\n",
      "         [0.6313 , 0.4941 , 0.8076 ]],\n",
      "\n",
      "        [[0.451  , 0.298  , 0.3843 ],\n",
      "         [0.4824 , 0.302  , 0.3882 ],\n",
      "         [0.5215 , 0.302  , 0.3843 ],\n",
      "         ...,\n",
      "         [0.745  , 0.608  , 0.898  ],\n",
      "         [0.7256 , 0.5845 , 0.886  ],\n",
      "         [0.549  , 0.4119 , 0.7256 ]]],\n",
      "\n",
      "\n",
      "       [[[0.8315 , 0.7256 , 0.7646 ],\n",
      "         [0.8745 , 0.7725 , 0.8237 ],\n",
      "         [0.7217 , 0.6235 , 0.702  ],\n",
      "         ...,\n",
      "         [0.698  , 0.502  , 0.7295 ],\n",
      "         [0.6626 , 0.4746 , 0.702  ],\n",
      "         [0.5806 , 0.4038 , 0.6274 ]],\n",
      "\n",
      "        [[0.847  , 0.749  , 0.788  ],\n",
      "         [1.     , 0.9097 , 0.965  ],\n",
      "         [0.9097 , 0.8237 , 0.898  ],\n",
      "         ...,\n",
      "         [0.643  , 0.443  , 0.678  ],\n",
      "         [0.565  , 0.3843 , 0.6157 ],\n",
      "         [0.4902 , 0.3098 , 0.541  ]],\n",
      "\n",
      "        [[0.9414 , 0.863  , 0.9097 ],\n",
      "         [0.9766 , 0.906  , 0.957  ],\n",
      "         [0.8784 , 0.816  , 0.886  ],\n",
      "         ...,\n",
      "         [0.6704 , 0.4785 , 0.7217 ],\n",
      "         [0.5566 , 0.3726 , 0.6157 ],\n",
      "         [0.443  , 0.2705 , 0.51   ]],\n",
      "\n",
      "        ...,\n",
      "\n",
      "        [[0.9097 , 0.894  , 0.9175 ],\n",
      "         [0.9097 , 0.894  , 0.9175 ],\n",
      "         [0.9097 , 0.894  , 0.9175 ],\n",
      "         ...,\n",
      "         [0.9097 , 0.894  , 0.9136 ],\n",
      "         [0.9097 , 0.894  , 0.9136 ],\n",
      "         [0.9097 , 0.894  , 0.9136 ]],\n",
      "\n",
      "        [[0.9175 , 0.902  , 0.9253 ],\n",
      "         [0.9136 , 0.898  , 0.9214 ],\n",
      "         [0.9136 , 0.898  , 0.9214 ],\n",
      "         ...,\n",
      "         [0.9097 , 0.894  , 0.9136 ],\n",
      "         [0.9097 , 0.894  , 0.9136 ],\n",
      "         [0.9097 , 0.894  , 0.9136 ]],\n",
      "\n",
      "        [[0.9214 , 0.906  , 0.929  ],\n",
      "         [0.9175 , 0.902  , 0.9253 ],\n",
      "         [0.9175 , 0.902  , 0.9253 ],\n",
      "         ...,\n",
      "         [0.9097 , 0.894  , 0.9136 ],\n",
      "         [0.9097 , 0.894  , 0.9136 ],\n",
      "         [0.9097 , 0.894  , 0.9136 ]]],\n",
      "\n",
      "\n",
      "       [[[0.7646 , 0.596  , 0.859  ],\n",
      "         [0.7295 , 0.5605 , 0.8237 ],\n",
      "         [0.6743 , 0.5176 , 0.7725 ],\n",
      "         ...,\n",
      "         [0.612  , 0.392  , 0.678  ],\n",
      "         [0.6353 , 0.4    , 0.706  ],\n",
      "         [0.6274 , 0.3882 , 0.702  ]],\n",
      "\n",
      "        [[0.7646 , 0.596  , 0.859  ],\n",
      "         [0.7334 , 0.5728 , 0.8354 ],\n",
      "         [0.6943 , 0.533  , 0.796  ],\n",
      "         ...,\n",
      "         [0.643  , 0.4236 , 0.718  ],\n",
      "         [0.651  , 0.4236 , 0.7295 ],\n",
      "         [0.643  , 0.4119 , 0.7256 ]],\n",
      "\n",
      "        [[0.718  , 0.5566 , 0.8237 ],\n",
      "         [0.7217 , 0.5605 , 0.8237 ],\n",
      "         [0.71   , 0.549  , 0.8115 ],\n",
      "         ...,\n",
      "         [0.6587 , 0.4666 , 0.7646 ],\n",
      "         [0.6587 , 0.4548 , 0.7607 ],\n",
      "         [0.639  , 0.4353 , 0.741  ]],\n",
      "\n",
      "        ...,\n",
      "\n",
      "        [[0.506  , 0.3098 , 0.5923 ],\n",
      "         [0.498  , 0.302  , 0.5767 ],\n",
      "         [0.4548 , 0.255  , 0.5215 ],\n",
      "         ...,\n",
      "         [0.5176 , 0.306  , 0.5767 ],\n",
      "         [0.4941 , 0.2825 , 0.5527 ],\n",
      "         [0.4626 , 0.251  , 0.5215 ]],\n",
      "\n",
      "        [[0.5527 , 0.349  , 0.6235 ],\n",
      "         [0.549  , 0.349  , 0.6157 ],\n",
      "         [0.4824 , 0.2744 , 0.537  ],\n",
      "         ...,\n",
      "         [0.5293 , 0.3176 , 0.5884 ],\n",
      "         [0.533  , 0.3215 , 0.5923 ],\n",
      "         [0.5254 , 0.3137 , 0.5845 ]],\n",
      "\n",
      "        [[0.596  , 0.392  , 0.6665 ],\n",
      "         [0.5884 , 0.3882 , 0.655  ],\n",
      "         [0.502  , 0.2942 , 0.5566 ],\n",
      "         ...,\n",
      "         [0.5137 , 0.302  , 0.5728 ],\n",
      "         [0.5254 , 0.3137 , 0.5845 ],\n",
      "         [0.533  , 0.3215 , 0.5923 ]]],\n",
      "\n",
      "\n",
      "       ...,\n",
      "\n",
      "\n",
      "       [[[0.8394 , 0.9214 , 0.9097 ],\n",
      "         [0.847  , 0.929  , 0.9175 ],\n",
      "         [0.851  , 0.9214 , 0.9253 ],\n",
      "         ...,\n",
      "         [0.678  , 0.647  , 0.792  ],\n",
      "         [0.6274 , 0.604  , 0.741  ],\n",
      "         [0.5605 , 0.537  , 0.6743 ]],\n",
      "\n",
      "        [[0.8745 , 0.933  , 0.9414 ],\n",
      "         [0.8706 , 0.929  , 0.937  ],\n",
      "         [0.847  , 0.906  , 0.9175 ],\n",
      "         ...,\n",
      "         [0.8    , 0.7646 , 0.9214 ],\n",
      "         [0.7646 , 0.7373 , 0.8823 ],\n",
      "         [0.718  , 0.6904 , 0.8354 ]],\n",
      "\n",
      "        [[0.906  , 0.933  , 0.9688 ],\n",
      "         [0.898  , 0.9214 , 0.965  ],\n",
      "         [0.8667 , 0.89   , 0.9414 ],\n",
      "         ...,\n",
      "         [0.886  , 0.8433 , 1.     ],\n",
      "         [0.8745 , 0.8394 , 1.     ],\n",
      "         [0.851  , 0.82   , 0.9805 ]],\n",
      "\n",
      "        ...,\n",
      "\n",
      "        [[0.3333 , 0.1608 , 0.4863 ],\n",
      "         [0.3333 , 0.1726 , 0.506  ],\n",
      "         [0.3293 , 0.1804 , 0.5254 ],\n",
      "         ...,\n",
      "         [0.698  , 0.533  , 0.8354 ],\n",
      "         [0.5767 , 0.4197 , 0.702  ],\n",
      "         [0.5767 , 0.4314 , 0.706  ]],\n",
      "\n",
      "        [[0.4666 , 0.2588 , 0.6274 ],\n",
      "         [0.3647 , 0.1726 , 0.533  ],\n",
      "         [0.3176 , 0.153  , 0.498  ],\n",
      "         ...,\n",
      "         [0.5566 , 0.3882 , 0.682  ],\n",
      "         [0.5884 , 0.4236 , 0.702  ],\n",
      "         [0.6235 , 0.4707 , 0.7373 ]],\n",
      "\n",
      "        [[0.612  , 0.3882 , 0.7764 ],\n",
      "         [0.408  , 0.2    , 0.5806 ],\n",
      "         [0.3098 , 0.1372 , 0.4863 ],\n",
      "         ...,\n",
      "         [0.5176 , 0.3372 , 0.6353 ],\n",
      "         [0.5923 , 0.4275 , 0.706  ],\n",
      "         [0.6353 , 0.4746 , 0.741  ]]],\n",
      "\n",
      "\n",
      "       [[[0.1804 , 0.0392 , 0.1569 ],\n",
      "         [0.2157 , 0.06665, 0.1843 ],\n",
      "         [0.2825 , 0.1098 , 0.2313 ],\n",
      "         ...,\n",
      "         [0.349  , 0.1608 , 0.3647 ],\n",
      "         [0.3882 , 0.1843 , 0.396  ],\n",
      "         [0.4158 , 0.2118 , 0.4236 ]],\n",
      "\n",
      "        [[0.2196 , 0.0706 , 0.1882 ],\n",
      "         [0.2196 , 0.05884, 0.1804 ],\n",
      "         [0.2666 , 0.0941 , 0.2157 ],\n",
      "         ...,\n",
      "         [0.3687 , 0.1726 , 0.3843 ],\n",
      "         [0.4158 , 0.2118 , 0.4236 ],\n",
      "         [0.4707 , 0.2666 , 0.4785 ]],\n",
      "\n",
      "        [[0.298  , 0.1412 , 0.251  ],\n",
      "         [0.255  , 0.0941 , 0.204  ],\n",
      "         [0.2825 , 0.098  , 0.2235 ],\n",
      "         ...,\n",
      "         [0.4587 , 0.2588 , 0.4824 ],\n",
      "         [0.4785 , 0.2705 , 0.4941 ],\n",
      "         [0.5254 , 0.3176 , 0.541  ]],\n",
      "\n",
      "        ...,\n",
      "\n",
      "        [[0.4902 , 0.3293 , 0.5728 ],\n",
      "         [0.51   , 0.349  , 0.5923 ],\n",
      "         [0.4785 , 0.3293 , 0.565  ],\n",
      "         ...,\n",
      "         [0.2864 , 0.1608 , 0.3452 ],\n",
      "         [0.298  , 0.1921 , 0.3882 ],\n",
      "         [0.3687 , 0.2666 , 0.4746 ]],\n",
      "\n",
      "        [[0.3608 , 0.2157 , 0.4353 ],\n",
      "         [0.392  , 0.255  , 0.4746 ],\n",
      "         [0.4275 , 0.302  , 0.5176 ],\n",
      "         ...,\n",
      "         [0.2783 , 0.153  , 0.3372 ],\n",
      "         [0.2864 , 0.1804 , 0.3765 ],\n",
      "         [0.3254 , 0.2393 , 0.4314 ]],\n",
      "\n",
      "        [[0.3452 , 0.2118 , 0.4236 ],\n",
      "         [0.3608 , 0.2354 , 0.447  ],\n",
      "         [0.4038 , 0.2783 , 0.4902 ],\n",
      "         ...,\n",
      "         [0.251  , 0.1372 , 0.3176 ],\n",
      "         [0.2588 , 0.1569 , 0.3452 ],\n",
      "         [0.2666 , 0.1804 , 0.3726 ]]],\n",
      "\n",
      "\n",
      "       [[[0.3765 , 0.1098 , 0.2705 ],\n",
      "         [0.408  , 0.149  , 0.3098 ],\n",
      "         [0.3608 , 0.1255 , 0.2825 ],\n",
      "         ...,\n",
      "         [0.902  , 0.8706 , 0.9136 ],\n",
      "         [0.933  , 0.9175 , 0.9136 ],\n",
      "         [0.859  , 0.851  , 0.82   ]],\n",
      "\n",
      "        [[0.4    , 0.1333 , 0.3176 ],\n",
      "         [0.396  , 0.1451 , 0.3254 ],\n",
      "         [0.349  , 0.1177 , 0.2942 ],\n",
      "         ...,\n",
      "         [0.902  , 0.863  , 0.9136 ],\n",
      "         [0.906  , 0.8823 , 0.886  ],\n",
      "         [0.8667 , 0.851  , 0.8315 ]],\n",
      "\n",
      "        [[0.4158 , 0.1569 , 0.3882 ],\n",
      "         [0.3882 , 0.1372 , 0.3687 ],\n",
      "         [0.3608 , 0.1333 , 0.349  ],\n",
      "         ...,\n",
      "         [0.8784 , 0.82   , 0.902  ],\n",
      "         [0.859  , 0.816  , 0.847  ],\n",
      "         [0.8706 , 0.8394 , 0.8433 ]],\n",
      "\n",
      "        ...,\n",
      "\n",
      "        [[0.4902 , 0.2783 , 0.5527 ],\n",
      "         [0.4666 , 0.255  , 0.5293 ],\n",
      "         [0.4587 , 0.2432 , 0.5137 ],\n",
      "         ...,\n",
      "         [0.6157 , 0.4353 , 0.6943 ],\n",
      "         [0.5845 , 0.396  , 0.655  ],\n",
      "         [0.596  , 0.4119 , 0.6587 ]],\n",
      "\n",
      "        [[0.4666 , 0.2471 , 0.5254 ],\n",
      "         [0.447  , 0.2274 , 0.506  ],\n",
      "         [0.4548 , 0.2313 , 0.502  ],\n",
      "         ...,\n",
      "         [0.4548 , 0.2864 , 0.541  ],\n",
      "         [0.537  , 0.357  , 0.6157 ],\n",
      "         [0.6313 , 0.451  , 0.71   ]],\n",
      "\n",
      "        [[0.4707 , 0.251  , 0.5293 ],\n",
      "         [0.443  , 0.2274 , 0.498  ],\n",
      "         [0.447  , 0.2235 , 0.4941 ],\n",
      "         ...,\n",
      "         [0.3687 , 0.2    , 0.4626 ],\n",
      "         [0.447  , 0.2783 , 0.533  ],\n",
      "         [0.5566 , 0.3882 , 0.643  ]]]], dtype=float16)>, <tf.Tensor: shape=(64, 3), dtype=float64, numpy=\n",
      "array([[1., 0., 0.],\n",
      "       [0., 1., 0.],\n",
      "       [1., 0., 0.],\n",
      "       [1., 0., 0.],\n",
      "       [1., 0., 0.],\n",
      "       [1., 0., 0.],\n",
      "       [0., 0., 1.],\n",
      "       [0., 1., 0.],\n",
      "       [1., 0., 0.],\n",
      "       [0., 0., 1.],\n",
      "       [1., 0., 0.],\n",
      "       [1., 0., 0.],\n",
      "       [0., 0., 1.],\n",
      "       [0., 1., 0.],\n",
      "       [1., 0., 0.],\n",
      "       [0., 1., 0.],\n",
      "       [1., 0., 0.],\n",
      "       [0., 0., 1.],\n",
      "       [1., 0., 0.],\n",
      "       [0., 1., 0.],\n",
      "       [0., 1., 0.],\n",
      "       [0., 1., 0.],\n",
      "       [0., 0., 1.],\n",
      "       [0., 1., 0.],\n",
      "       [1., 0., 0.],\n",
      "       [0., 0., 1.],\n",
      "       [0., 1., 0.],\n",
      "       [1., 0., 0.],\n",
      "       [1., 0., 0.],\n",
      "       [0., 1., 0.],\n",
      "       [0., 1., 0.],\n",
      "       [0., 1., 0.],\n",
      "       [1., 0., 0.],\n",
      "       [0., 0., 1.],\n",
      "       [1., 0., 0.],\n",
      "       [0., 1., 0.],\n",
      "       [0., 0., 1.],\n",
      "       [0., 1., 0.],\n",
      "       [0., 0., 1.],\n",
      "       [0., 0., 1.],\n",
      "       [0., 1., 0.],\n",
      "       [0., 0., 1.],\n",
      "       [1., 0., 0.],\n",
      "       [0., 1., 0.],\n",
      "       [0., 0., 1.],\n",
      "       [1., 0., 0.],\n",
      "       [0., 1., 0.],\n",
      "       [0., 0., 1.],\n",
      "       [0., 0., 1.],\n",
      "       [0., 0., 1.],\n",
      "       [0., 0., 1.],\n",
      "       [0., 1., 0.],\n",
      "       [0., 0., 1.],\n",
      "       [1., 0., 0.],\n",
      "       [0., 1., 0.],\n",
      "       [0., 0., 1.],\n",
      "       [0., 1., 0.],\n",
      "       [1., 0., 0.],\n",
      "       [0., 0., 1.],\n",
      "       [0., 1., 0.],\n",
      "       [0., 1., 0.],\n",
      "       [0., 1., 0.],\n",
      "       [0., 0., 1.],\n",
      "       [0., 1., 0.]])>)\n"
     ]
    }
   ],
   "source": [
    "example_dataset = train_data.create_tf_dataset_for_client(\n",
    "        train_data.client_ids[0]\n",
    "    )\n",
    "#print(example_dataset)\n",
    "example_element = iter(example_dataset).next()\n",
    "print(example_element)"
   ]
  },
  {
   "cell_type": "markdown",
   "metadata": {
    "id": "G0RetA4YfIQL"
   },
   "source": [
    "We now have almost all the building blocks in place to construct federated datasets.\n",
    "\n",
    "One of the ways to feed federated data to TFF in a simulation is simply as a Python list, with each element of the list holding the data of an individual user, as a `tf.data.Dataset`. Since we already have an interface for that, let's use it.\n",
    "\n",
    "The helper function `make_federated_data` below will construct a list of datasets from the\n",
    "given set of users as an input to a round of training or evaluation."
   ]
  },
  {
   "cell_type": "code",
   "execution_count": 11,
   "metadata": {
    "id": "uq8HOnoyQ-ss"
   },
   "outputs": [],
   "source": [
    "def make_federated_data(client_data, client_ids):\n",
    "    return [client_data.create_tf_dataset_for_client(x) for x in client_ids]"
   ]
  },
  {
   "cell_type": "code",
   "execution_count": 12,
   "metadata": {
    "colab": {
     "base_uri": "https://localhost:8080/"
    },
    "id": "JrUw1guMj52E",
    "outputId": "2df2f95a-49d7-4d03-b0f7-acd73ab74dd1"
   },
   "outputs": [
    {
     "name": "stderr",
     "output_type": "stream",
     "text": [
      "2021-11-01 08:53:04.873689: W tensorflow/core/framework/cpu_allocator_impl.cc:82] Allocation of 1414361088 exceeds 10% of free system memory.\n"
     ]
    },
    {
     "name": "stdout",
     "output_type": "stream",
     "text": [
      "Number of client datasets: 3\n",
      "First dataset: <BatchDataset element_spec=(TensorSpec(shape=(None, 224, 224, 3), dtype=tf.float16, name=None), TensorSpec(shape=(None, 3), dtype=tf.float64, name=None))>\n"
     ]
    }
   ],
   "source": [
    "federated_train_data = make_federated_data(train_data, train_client_ids)\n",
    "print('Number of client datasets: {l}'.format(l=len(federated_train_data)))\n",
    "print('First dataset: {d}'.format(d=federated_train_data[0]))"
   ]
  },
  {
   "cell_type": "markdown",
   "metadata": {
    "id": "ExQL-K9kfgxF"
   },
   "source": [
    "## Tensorflow Federated model\n",
    "Firat we create a model with Keras (which is the same CNN model that we created in notebook 1):\n"
   ]
  },
  {
   "cell_type": "code",
   "execution_count": 13,
   "metadata": {
    "id": "FFCPMExUfSlW"
   },
   "outputs": [],
   "source": [
    "num_classes = 3\n",
    "img_height=224\n",
    "img_width=224\n",
    "def create_keras_model():\n",
    "    model = Sequential([\n",
    "      layers.Conv2D(16, 3, padding='same', activation='relu',input_shape=(img_height, img_width, 3)),\n",
    "      layers.MaxPooling2D(),\n",
    "      layers.Conv2D(32, 3, padding='same', activation='relu'),\n",
    "      layers.MaxPooling2D(),\n",
    "      layers.Conv2D(64, 3, padding='same', activation='relu'),\n",
    "      layers.MaxPooling2D(),\n",
    "      layers.Flatten(),\n",
    "      layers.Dense(128, activation='relu'),\n",
    "      layers.Dense(num_classes,activation='softmax')\n",
    "    ])\n",
    "    \n",
    "    return model"
   ]
  },
  {
   "cell_type": "markdown",
   "metadata": {
    "id": "oYLnYUoqgNlV"
   },
   "source": [
    "Note that we do not compile the model yet. The loss, metrics, and optimizers are introduced later.\n",
    "\n",
    "If you have a Keras model like the one we've just defined above, you can have TFF wrap it for you by invoking\n",
    "`tff.learning.from_keras_model`, passing the model and a sample data batch as\n",
    "arguments (`input_spec=example_dataset.element_spec`), as shown below.\n"
   ]
  },
  {
   "cell_type": "code",
   "execution_count": 14,
   "metadata": {
    "id": "1PUqDNN5f0ap"
   },
   "outputs": [],
   "source": [
    "# We _must_ create a new model here, and _not_ capture it from an external\n",
    "# scope. TFF will call this within different graph contexts.\n",
    "def model_fn():\n",
    "    keras_model = create_keras_model()\n",
    "\n",
    "    return tff.learning.from_keras_model(\n",
    "            keras_model,\n",
    "            input_spec=example_dataset.element_spec,\n",
    "            loss=tf.keras.losses.CategoricalCrossentropy(),\n",
    "            metrics=[tf.keras.metrics.CategoricalAccuracy(),tf.keras.metrics.AUC(name='AUC')])\n",
    "\n",
    "\n"
   ]
  },
  {
   "cell_type": "markdown",
   "metadata": {
    "id": "JDelj8XulaUF"
   },
   "source": [
    "The model_fn is a no-arg function that returns a `tff.learning.Model`. "
   ]
  },
  {
   "cell_type": "markdown",
   "metadata": {
    "id": "NBAe9eMvhIcf"
   },
   "source": [
    "### Training the model on federated data \n",
    "\n",
    "Now that we have a model wrapped as `tff.learning.Model` for use with TFF, we\n",
    "can let TFF construct a **Federated Averaging** algorithm by invoking the helper\n",
    "function `tff.learning.build_federated_averaging_process`, as follows.\n",
    "\n",
    "One critical note on the Federated Averaging algorithm below, there are **2**\n",
    "optimizers: a _client_optimizer_ and a _server_optimizer_. The\n",
    "_client_optimizer_ is only used to compute local model updates on each client.\n",
    "The _server_optimizer_ applies the averaged update to the global model at the\n",
    "server. In particular, this means that the choice of optimizer and learning rate\n",
    "used may need to be different than the ones you have used to train the model on\n",
    "a standard i.i.d. dataset.\n",
    "\n"
   ]
  },
  {
   "cell_type": "code",
   "execution_count": 15,
   "metadata": {
    "id": "IjB_sD5egibj"
   },
   "outputs": [],
   "source": [
    "iterative_process = tff.learning.build_federated_averaging_process(\n",
    "    model_fn,\n",
    "    client_optimizer_fn=lambda: tf.keras.optimizers.SGD(learning_rate=0.01),\n",
    "    server_optimizer_fn=lambda: tf.keras.optimizers.SGD(learning_rate=0.05))"
   ]
  },
  {
   "cell_type": "markdown",
   "metadata": {
    "id": "i-YmVZuGhnI4"
   },
   "source": [
    "In this case, the two computations generated and packed into iterative_process implement Federated Averaging.\n",
    "\n",
    "Let's start with the `initialize` computation. As is the case for all federated\n",
    "computations, you can think of it as a function. The computation takes no\n",
    "arguments, and returns one result - the representation of the state of the\n",
    "Federated Averaging process on the server. While we don't want to dive into the\n",
    "details of TFF, it may be instructive to see what this state looks like. You can\n",
    "visualize it as follows."
   ]
  },
  {
   "cell_type": "code",
   "execution_count": 16,
   "metadata": {
    "colab": {
     "base_uri": "https://localhost:8080/",
     "height": 53
    },
    "id": "Eb5OLh1ohRkm",
    "outputId": "119b6bd6-2e1c-4022-aa68-11c0d9d14861"
   },
   "outputs": [
    {
     "data": {
      "text/plain": [
       "'( -> <model=<trainable=<float32[3,3,3,16],float32[16],float32[3,3,16,32],float32[32],float32[3,3,32,64],float32[64],float32[50176,128],float32[128],float32[128,3],float32[3]>,non_trainable=<>>,optimizer_state=<int64>,delta_aggregate_state=<value_sum_process=<>,weight_sum_process=<>>,model_broadcast_state=<>>@SERVER)'"
      ]
     },
     "execution_count": 16,
     "metadata": {},
     "output_type": "execute_result"
    }
   ],
   "source": [
    "str(iterative_process.initialize.type_signature)"
   ]
  },
  {
   "cell_type": "markdown",
   "metadata": {
    "id": "xo_D135PhzCm"
   },
   "source": [
    "While the above type signature may at first seem a bit cryptic, you can recognize that the server state consists of a model (the initial model parameters that will be distributed to all devices), and optimizer_state (additional information maintained by the server, such as the number of rounds to use for hyperparameter schedules, etc.).\n",
    "\n",
    "Let's invoke the initialize computation to construct the server state."
   ]
  },
  {
   "cell_type": "code",
   "execution_count": 17,
   "metadata": {
    "colab": {
     "base_uri": "https://localhost:8080/"
    },
    "id": "T7vNqokkhsYi",
    "outputId": "acad48da-e549-4e3f-ccd0-dc4de6f7d8dc"
   },
   "outputs": [
    {
     "name": "stdout",
     "output_type": "stream",
     "text": [
      "WARNING:tensorflow:From /h/ethanj/.conda/envs/tff_test_4/lib/python3.8/site-packages/tensorflow_federated/python/core/impl/compiler/tensorflow_computation_transformations.py:61: extract_sub_graph (from tensorflow.python.framework.graph_util_impl) is deprecated and will be removed in a future version.\n",
      "Instructions for updating:\n",
      "Use `tf.compat.v1.graph_util.extract_sub_graph`\n"
     ]
    },
    {
     "name": "stderr",
     "output_type": "stream",
     "text": [
      "WARNING:tensorflow:From /h/ethanj/.conda/envs/tff_test_4/lib/python3.8/site-packages/tensorflow_federated/python/core/impl/compiler/tensorflow_computation_transformations.py:61: extract_sub_graph (from tensorflow.python.framework.graph_util_impl) is deprecated and will be removed in a future version.\n",
      "Instructions for updating:\n",
      "Use `tf.compat.v1.graph_util.extract_sub_graph`\n"
     ]
    }
   ],
   "source": [
    "state = iterative_process.initialize()"
   ]
  },
  {
   "cell_type": "code",
   "execution_count": 18,
   "metadata": {
    "colab": {
     "base_uri": "https://localhost:8080/"
    },
    "id": "6B8IOPfih2e0",
    "outputId": "8c06d28f-15fb-403a-8a66-b73e899622b7"
   },
   "outputs": [
    {
     "data": {
      "text/plain": [
       "ServerState(model=ModelWeights(trainable=[array([[[[-0.0737638 , -0.13577285, -0.08404987,  0.00889607,\n",
       "          -0.11784039,  0.03777151, -0.14651245,  0.08769804,\n",
       "          -0.09507216, -0.11193122, -0.05520914, -0.04532318,\n",
       "          -0.04571591, -0.02778354, -0.15514252,  0.05023652],\n",
       "         [-0.10695267,  0.07862717, -0.05696589,  0.08383757,\n",
       "          -0.11863481,  0.0966939 , -0.00148244,  0.01095168,\n",
       "           0.01516931, -0.18076189, -0.12894003, -0.17812093,\n",
       "           0.12483078,  0.16109458,  0.10910019,  0.08687136],\n",
       "         [-0.10040285,  0.18179455,  0.12218845,  0.04833634,\n",
       "          -0.17279363,  0.02375178, -0.13042332, -0.08673581,\n",
       "          -0.11684738, -0.02370672,  0.1334678 ,  0.04146707,\n",
       "          -0.00792222, -0.1585161 , -0.03454764,  0.04671326]],\n",
       "\n",
       "        [[ 0.07408416, -0.11776005, -0.09453119, -0.00497833,\n",
       "          -0.06414607, -0.05376828, -0.05157119, -0.02362178,\n",
       "           0.05239297, -0.05044706, -0.08821932,  0.08170125,\n",
       "           0.00594722,  0.00691509,  0.10907459,  0.05128461],\n",
       "         [-0.04037634, -0.03965516, -0.1758639 , -0.0626426 ,\n",
       "          -0.00792883, -0.01058908, -0.09687704,  0.14851594,\n",
       "          -0.08564164,  0.14292383, -0.12307748,  0.15782225,\n",
       "          -0.05765569,  0.00227033,  0.15696567,  0.12056881],\n",
       "         [ 0.09032491,  0.05089892, -0.16214256, -0.10517226,\n",
       "           0.18264797,  0.16133574, -0.06568925,  0.10711783,\n",
       "           0.02960937, -0.18047799, -0.05311963, -0.04380403,\n",
       "          -0.01378334, -0.16509311, -0.1781379 ,  0.00372115]],\n",
       "\n",
       "        [[-0.01615742,  0.07448447, -0.1541355 , -0.00323217,\n",
       "           0.01184921,  0.05911747, -0.08388579, -0.03576417,\n",
       "           0.06659639,  0.17441103, -0.14452267,  0.13972598,\n",
       "           0.13052273, -0.02118027,  0.05704689,  0.1703533 ],\n",
       "         [ 0.1217781 ,  0.1643376 ,  0.15798   ,  0.03143333,\n",
       "          -0.08520147, -0.05889465, -0.01885912,  0.06992114,\n",
       "          -0.10974856,  0.0928641 , -0.08111393,  0.03902872,\n",
       "          -0.10817581,  0.0505818 ,  0.05686083,  0.04082191],\n",
       "         [ 0.08548883, -0.1238434 , -0.06639336, -0.01005311,\n",
       "           0.15135589,  0.17976981,  0.13160387,  0.12420326,\n",
       "           0.06136805, -0.09005011, -0.17375284,  0.15791795,\n",
       "          -0.15974861, -0.17074682,  0.1427997 ,  0.13419735]]],\n",
       "\n",
       "\n",
       "       [[[-0.05904922, -0.08270967, -0.10992255, -0.12398479,\n",
       "          -0.05606861,  0.04109634, -0.15630127, -0.08053   ,\n",
       "          -0.18490575,  0.17552236,  0.0494331 , -0.0543815 ,\n",
       "           0.00896467,  0.00349656,  0.0661861 , -0.0158702 ],\n",
       "         [ 0.04645281, -0.03075218, -0.13678534, -0.02869126,\n",
       "          -0.03429483,  0.10369599,  0.12544373,  0.14166635,\n",
       "           0.11622518, -0.04012701, -0.1691776 , -0.14506194,\n",
       "          -0.05991803,  0.07439971,  0.07221791, -0.05343431],\n",
       "         [-0.18005583, -0.03669003,  0.0194755 ,  0.16245893,\n",
       "           0.15740696,  0.11078963,  0.14208871, -0.00482072,\n",
       "          -0.16968937, -0.02488717, -0.05746004,  0.14794597,\n",
       "          -0.15108219, -0.1453281 , -0.0877068 , -0.18358034]],\n",
       "\n",
       "        [[-0.0727042 ,  0.08605179,  0.13254452,  0.03256778,\n",
       "           0.15677586,  0.01094297,  0.04562232,  0.18097198,\n",
       "           0.14475259,  0.17827153, -0.03614937,  0.16466826,\n",
       "          -0.18540366,  0.16283268,  0.0759621 ,  0.0496304 ],\n",
       "         [-0.16300918, -0.1298422 ,  0.07616767,  0.06025709,\n",
       "          -0.10913488,  0.16769165, -0.07894529,  0.05528596,\n",
       "          -0.10490439, -0.0409528 ,  0.02741411, -0.08442385,\n",
       "          -0.14049765, -0.03595085, -0.09934347, -0.14396572],\n",
       "         [-0.02835274,  0.14207932, -0.09858122, -0.14632711,\n",
       "           0.05307604, -0.12693882,  0.06852391,  0.15445417,\n",
       "          -0.05353417,  0.0009588 , -0.07860079, -0.13128361,\n",
       "          -0.08233167,  0.10708228, -0.17987272, -0.09564894]],\n",
       "\n",
       "        [[-0.06690789,  0.17724368,  0.18132636,  0.02383828,\n",
       "          -0.16332015, -0.04930943, -0.14735577, -0.15027928,\n",
       "          -0.05759379, -0.14310284, -0.01553664,  0.132664  ,\n",
       "           0.05537987,  0.0267691 , -0.1774765 , -0.12727913],\n",
       "         [ 0.17492417,  0.11665046,  0.03311214,  0.17270288,\n",
       "          -0.10360662,  0.01372215, -0.18389487, -0.10557219,\n",
       "          -0.03122981, -0.03577043,  0.13105687,  0.17175457,\n",
       "          -0.14367324,  0.10324398, -0.01120669,  0.13776776],\n",
       "         [-0.17679162, -0.03941928, -0.01567294, -0.17612709,\n",
       "           0.17219251,  0.17274338, -0.05383317, -0.11591104,\n",
       "          -0.00364107,  0.1556482 ,  0.15705147,  0.08957496,\n",
       "           0.06799501,  0.02718858,  0.13577712,  0.16371712]]],\n",
       "\n",
       "\n",
       "       [[[-0.02165647,  0.03264906,  0.11912969, -0.15795293,\n",
       "           0.177181  ,  0.0025562 ,  0.05702943,  0.13121015,\n",
       "           0.103311  , -0.11602876,  0.12680537, -0.01931827,\n",
       "          -0.04485479,  0.13472134,  0.03091326, -0.06017876],\n",
       "         [-0.15236196,  0.05635796,  0.13097161, -0.11368421,\n",
       "          -0.17469445, -0.00408562,  0.03121138,  0.14408693,\n",
       "           0.08315822,  0.03112768, -0.10169165, -0.1394832 ,\n",
       "          -0.18012124, -0.0536489 ,  0.02868094, -0.1627523 ],\n",
       "         [-0.05152197, -0.13980618,  0.14870352, -0.15090524,\n",
       "          -0.03354602, -0.0020753 ,  0.15813076,  0.03297164,\n",
       "           0.00353728, -0.08674947, -0.1841493 , -0.09529215,\n",
       "           0.11495346,  0.10788906, -0.0243483 , -0.11450363]],\n",
       "\n",
       "        [[-0.16737045, -0.12969996,  0.15263537,  0.16963586,\n",
       "          -0.07708079,  0.06930348,  0.15610597, -0.11205824,\n",
       "           0.0218707 , -0.04282004, -0.12918244,  0.13005635,\n",
       "           0.09636804, -0.01919729, -0.03913586, -0.02397124],\n",
       "         [-0.00142305, -0.10520044,  0.03789701,  0.0527942 ,\n",
       "          -0.16855206,  0.04814555, -0.12777726,  0.01102622,\n",
       "           0.00232446, -0.06174101,  0.02368498, -0.18414126,\n",
       "          -0.13454801,  0.16391706, -0.0198373 ,  0.16741675],\n",
       "         [-0.12317618, -0.03109981, -0.08975691, -0.14219585,\n",
       "           0.04204479, -0.02533431, -0.16783607, -0.18174611,\n",
       "           0.12017384,  0.07725325,  0.07123673,  0.08757082,\n",
       "           0.022958  , -0.07894047, -0.01367159,  0.0326031 ]],\n",
       "\n",
       "        [[ 0.14860025, -0.17327087,  0.04463148,  0.17007998,\n",
       "           0.01140565, -0.08806574,  0.10510698, -0.11363441,\n",
       "           0.14051148, -0.15563303,  0.03834026, -0.13735092,\n",
       "           0.14821637,  0.00653182, -0.18437403, -0.14001349],\n",
       "         [ 0.11911708,  0.05775735, -0.04978667, -0.10903717,\n",
       "          -0.14118207,  0.00181954, -0.13550548, -0.15989442,\n",
       "          -0.04788549,  0.06899163,  0.16910914, -0.15353169,\n",
       "           0.00774072, -0.18432428, -0.07821863, -0.01622225],\n",
       "         [-0.07517037,  0.05557834,  0.09508681, -0.01978205,\n",
       "           0.14870912,  0.02053981, -0.07211952, -0.05817884,\n",
       "           0.1773707 ,  0.16929993, -0.03550407,  0.08845112,\n",
       "           0.01683249,  0.1612387 ,  0.036328  , -0.15821642]]]],\n",
       "      dtype=float32), array([0., 0., 0., 0., 0., 0., 0., 0., 0., 0., 0., 0., 0., 0., 0., 0.],\n",
       "      dtype=float32), array([[[[ 1.03145652e-01, -5.41128442e-02,  3.89632955e-02, ...,\n",
       "          -6.22149594e-02,  6.39767274e-02,  7.54639581e-02],\n",
       "         [-1.03614628e-01,  9.64628682e-02, -6.46425635e-02, ...,\n",
       "           9.73967239e-02,  1.09371834e-01, -1.11987717e-01],\n",
       "         [-5.45025319e-02,  1.79461911e-02,  2.75515690e-02, ...,\n",
       "          -8.25034678e-02,  6.89354464e-02,  5.59188053e-02],\n",
       "         ...,\n",
       "         [ 9.12934467e-02,  7.45040849e-02, -8.63246694e-02, ...,\n",
       "           5.71718290e-02, -6.68303743e-02, -1.09979250e-01],\n",
       "         [ 5.00591025e-02, -3.48804817e-02,  5.58035448e-02, ...,\n",
       "           3.55761871e-02,  1.40222237e-02, -5.95160164e-02],\n",
       "         [ 1.05678029e-01,  1.43999830e-02,  4.78685573e-02, ...,\n",
       "           7.60938972e-03,  2.77986601e-02, -2.30972022e-02]],\n",
       "\n",
       "        [[-2.22404450e-02, -1.61673874e-02,  4.10764590e-02, ...,\n",
       "           7.56354406e-02,  7.91302249e-02, -1.07942000e-02],\n",
       "         [-6.32837191e-02, -1.02360398e-01,  5.54054305e-02, ...,\n",
       "           1.89909413e-02, -3.64278331e-02, -1.17647305e-01],\n",
       "         [-2.41159797e-02,  9.17733088e-02, -1.07192136e-01, ...,\n",
       "           1.11440934e-01,  1.02872923e-02, -2.82482803e-02],\n",
       "         ...,\n",
       "         [-2.63097733e-02,  9.00411233e-02,  1.02996446e-01, ...,\n",
       "           7.28553310e-02,  9.44522992e-02,  3.39611992e-02],\n",
       "         [-8.19730312e-02, -9.39020514e-02,  3.78208384e-02, ...,\n",
       "           4.97055426e-02, -4.56591398e-02,  9.56068411e-02],\n",
       "         [-1.02148257e-01, -2.59708315e-02,  9.77482572e-02, ...,\n",
       "           4.71304879e-02, -4.42525074e-02,  2.77073160e-02]],\n",
       "\n",
       "        [[ 7.25561306e-02,  6.21268675e-02,  1.24785081e-02, ...,\n",
       "          -9.63502377e-03,  8.71869102e-02,  4.92311493e-02],\n",
       "         [ 8.56224447e-03,  8.49484876e-02,  3.44146118e-02, ...,\n",
       "           2.67168656e-02, -1.07096858e-01,  6.39108047e-02],\n",
       "         [-2.85064727e-02,  1.08202770e-02,  1.74159482e-02, ...,\n",
       "          -2.85362825e-02,  6.38642535e-02, -6.63808659e-02],\n",
       "         ...,\n",
       "         [ 1.55907050e-02,  9.88753811e-02, -2.60985345e-02, ...,\n",
       "          -3.28896046e-02,  3.89482901e-02,  7.17207268e-02],\n",
       "         [-3.29949409e-02, -6.03334941e-02, -6.47128075e-02, ...,\n",
       "          -7.53609538e-02, -8.17931294e-02,  5.64302728e-02],\n",
       "         [-1.08603097e-01, -5.45703322e-02, -8.01445916e-02, ...,\n",
       "           3.32593396e-02, -4.30853739e-02,  6.37823120e-02]]],\n",
       "\n",
       "\n",
       "       [[[ 3.16908285e-02,  5.34188524e-02,  9.85834226e-02, ...,\n",
       "          -5.10590523e-02,  8.06045607e-02,  6.72477111e-02],\n",
       "         [ 3.46190855e-02, -8.06610286e-02, -8.42011720e-02, ...,\n",
       "           7.37391934e-02,  5.60471639e-02,  2.94566900e-03],\n",
       "         [ 4.92023155e-02, -7.61087537e-02, -5.10684922e-02, ...,\n",
       "          -1.14946790e-01, -7.85865635e-02,  3.56423780e-02],\n",
       "         ...,\n",
       "         [-9.38622430e-02,  4.70889881e-02,  4.69514504e-02, ...,\n",
       "           4.96530011e-02, -1.15642413e-01, -4.83356640e-02],\n",
       "         [-1.43919960e-02,  5.26584685e-04,  6.53872713e-02, ...,\n",
       "           9.63877067e-02,  8.20823759e-03,  3.00452113e-04],\n",
       "         [-4.84231338e-02,  9.50156376e-02, -6.45613819e-02, ...,\n",
       "          -2.82653049e-02, -8.33447427e-02,  1.00594781e-01]],\n",
       "\n",
       "        [[ 1.27863958e-02,  9.27569196e-02, -4.25832123e-02, ...,\n",
       "           5.36533818e-02,  2.39843354e-02,  6.79045543e-02],\n",
       "         [ 1.02478601e-01, -5.62591888e-02, -1.03701733e-01, ...,\n",
       "           2.99702063e-02, -1.01206750e-01,  1.07530124e-01],\n",
       "         [-3.80774587e-03,  8.23103860e-02,  1.55698285e-02, ...,\n",
       "          -2.28610411e-02,  6.71832040e-02, -9.02560726e-02],\n",
       "         ...,\n",
       "         [ 4.15893644e-03,  2.72392556e-02,  6.20707870e-05, ...,\n",
       "          -5.28292507e-02,  9.97663289e-03,  9.18126851e-03],\n",
       "         [-9.70455110e-02, -1.04947366e-01, -6.15485311e-02, ...,\n",
       "           2.81951502e-02,  9.12003890e-02, -6.60553575e-04],\n",
       "         [-6.52244985e-02, -3.36889327e-02,  8.55514482e-02, ...,\n",
       "           4.24071774e-02, -2.15985999e-02, -4.14412841e-02]],\n",
       "\n",
       "        [[ 1.02243252e-01,  6.20703623e-02, -1.10616818e-01, ...,\n",
       "           2.81509757e-03, -2.28237286e-02,  1.61004886e-02],\n",
       "         [ 5.78609332e-02, -7.35960975e-02, -7.40034878e-02, ...,\n",
       "          -9.74162593e-02,  7.02655315e-03,  1.09142587e-02],\n",
       "         [-4.45787758e-02, -5.12632132e-02, -6.73851371e-02, ...,\n",
       "           7.83610716e-02,  3.55421752e-03,  3.92368957e-02],\n",
       "         ...,\n",
       "         [-3.42247859e-02,  4.72316667e-02, -6.30909055e-02, ...,\n",
       "           2.54500136e-02, -1.06213689e-02,  7.62693658e-02],\n",
       "         [-7.39405453e-02,  7.63969496e-02,  1.26910135e-02, ...,\n",
       "          -3.49742994e-02, -2.40635723e-02, -7.32746273e-02],\n",
       "         [-9.31130946e-02, -4.75437790e-02, -6.71997517e-02, ...,\n",
       "          -1.01746343e-01,  2.94393823e-02,  1.30683854e-02]]],\n",
       "\n",
       "\n",
       "       [[[-7.95405209e-02, -1.72221288e-02, -9.47463661e-02, ...,\n",
       "          -2.26068124e-02, -5.39896041e-02,  3.31921354e-02],\n",
       "         [-6.22795559e-02, -4.49811667e-02,  4.64966521e-02, ...,\n",
       "           6.80836812e-02,  1.02091305e-01, -6.92166388e-03],\n",
       "         [ 4.13356721e-03, -1.11608535e-01,  1.19729713e-02, ...,\n",
       "           5.82819209e-02, -5.53332269e-03, -8.54989290e-02],\n",
       "         ...,\n",
       "         [ 1.11245565e-01, -6.94657341e-02, -4.53445017e-02, ...,\n",
       "          -9.76961106e-03,  7.64188394e-02,  2.91269794e-02],\n",
       "         [-3.91574875e-02, -3.71020660e-02, -8.80768523e-02, ...,\n",
       "          -8.24345425e-02, -6.99489862e-02,  3.19486037e-02],\n",
       "         [-9.31557193e-02,  1.03443392e-01,  8.59247521e-02, ...,\n",
       "          -3.32465544e-02,  3.99004444e-02,  1.06003620e-01]],\n",
       "\n",
       "        [[-7.56893307e-02, -5.28502092e-02, -2.43968517e-03, ...,\n",
       "          -4.98383418e-02, -7.17272460e-02,  8.39383081e-02],\n",
       "         [ 1.15067609e-01,  4.28798422e-02,  7.01369569e-02, ...,\n",
       "          -4.28290665e-03, -1.74808800e-02,  2.72397026e-02],\n",
       "         [ 9.61416885e-02,  1.11680754e-01,  3.07384208e-02, ...,\n",
       "           5.20230904e-02,  9.29179862e-02,  1.12130679e-01],\n",
       "         ...,\n",
       "         [ 3.89629677e-02,  8.95879939e-02,  7.58109242e-03, ...,\n",
       "          -3.72411236e-02, -5.59470765e-02, -3.24879736e-02],\n",
       "         [ 5.29692248e-02, -1.15234822e-01,  7.95363560e-02, ...,\n",
       "          -1.01465434e-02, -2.27883235e-02, -6.19284175e-02],\n",
       "         [ 3.30813453e-02, -4.29975092e-02,  1.14730500e-01, ...,\n",
       "           1.88322291e-02,  2.05045566e-02,  7.97304884e-02]],\n",
       "\n",
       "        [[-1.65855736e-02, -8.95950422e-02,  9.71046016e-02, ...,\n",
       "          -7.48454705e-02,  1.00421645e-01,  3.19642499e-02],\n",
       "         [-4.73800525e-02, -1.52982101e-02,  3.59540209e-02, ...,\n",
       "           2.36811563e-02,  1.90594867e-02, -6.61399215e-03],\n",
       "         [ 1.00217082e-01, -2.54207626e-02, -5.55596054e-02, ...,\n",
       "           4.96890321e-02, -2.45041475e-02, -1.77512988e-02],\n",
       "         ...,\n",
       "         [-1.13802418e-01,  7.68299624e-02,  7.44634196e-02, ...,\n",
       "          -3.52393165e-02, -2.17148662e-03,  5.76223433e-03],\n",
       "         [ 7.96376541e-02,  8.70540068e-02,  7.23189339e-02, ...,\n",
       "           7.00244829e-02,  1.07128210e-01, -5.90056181e-04],\n",
       "         [-1.02198124e-01,  4.96045426e-02,  6.05960414e-02, ...,\n",
       "           9.54998359e-02,  1.04350068e-01,  8.82366970e-02]]]],\n",
       "      dtype=float32), array([0., 0., 0., 0., 0., 0., 0., 0., 0., 0., 0., 0., 0., 0., 0., 0., 0.,\n",
       "       0., 0., 0., 0., 0., 0., 0., 0., 0., 0., 0., 0., 0., 0., 0.],\n",
       "      dtype=float32), array([[[[ 0.07479896, -0.03395995,  0.07902438, ..., -0.01599018,\n",
       "           0.06532306, -0.01937757],\n",
       "         [ 0.01088188,  0.02884156,  0.01023028, ..., -0.00884882,\n",
       "          -0.06772314,  0.05774672],\n",
       "         [ 0.07566997, -0.00669561,  0.07968428, ...,  0.02047924,\n",
       "           0.03230923,  0.0178563 ],\n",
       "         ...,\n",
       "         [-0.07560652, -0.06191012, -0.011681  , ...,  0.08307359,\n",
       "          -0.00261597,  0.08209833],\n",
       "         [-0.00487101, -0.02157094, -0.07419501, ...,  0.00468775,\n",
       "          -0.08263867, -0.06267981],\n",
       "         [ 0.01691411,  0.0067144 ,  0.00230279, ...,  0.07335294,\n",
       "          -0.04593235, -0.04114821]],\n",
       "\n",
       "        [[-0.08244807, -0.0729596 , -0.07785504, ...,  0.0738417 ,\n",
       "           0.01069001, -0.02999523],\n",
       "         [-0.05124485, -0.05554519,  0.06981627, ..., -0.0558302 ,\n",
       "           0.06724489,  0.00729492],\n",
       "         [ 0.0423804 , -0.08106186, -0.01286729, ...,  0.03770059,\n",
       "           0.03106318, -0.00871923],\n",
       "         ...,\n",
       "         [ 0.07830427,  0.01849967, -0.0570545 , ...,  0.06898304,\n",
       "           0.07004168,  0.03957573],\n",
       "         [ 0.07530937, -0.08181803,  0.07316216, ..., -0.02289436,\n",
       "          -0.02854846, -0.02431142],\n",
       "         [ 0.01179171,  0.01848394,  0.03786287, ...,  0.08125228,\n",
       "           0.07110579, -0.05018763]],\n",
       "\n",
       "        [[ 0.08001912,  0.00500707,  0.07731003, ..., -0.07616413,\n",
       "           0.02104483, -0.00204581],\n",
       "         [-0.05111166,  0.01101521,  0.05194456, ...,  0.02510669,\n",
       "          -0.05586134, -0.04614592],\n",
       "         [-0.05662851, -0.04693786,  0.0465671 , ..., -0.0682677 ,\n",
       "           0.03932917, -0.02408594],\n",
       "         ...,\n",
       "         [ 0.07111759,  0.05222184, -0.03107939, ...,  0.00366292,\n",
       "           0.07436486, -0.06584691],\n",
       "         [-0.05472398, -0.03695041,  0.07118721, ...,  0.04995916,\n",
       "           0.04893775, -0.07198201],\n",
       "         [-0.01022597, -0.0698784 , -0.03011978, ..., -0.03252741,\n",
       "          -0.02996983,  0.03439274]]],\n",
       "\n",
       "\n",
       "       [[[-0.0818284 , -0.03581164, -0.04245216, ...,  0.06501765,\n",
       "          -0.03232169,  0.06044342],\n",
       "         [-0.07771967, -0.06367038,  0.03319129, ..., -0.05897639,\n",
       "           0.06695015,  0.06363577],\n",
       "         [-0.0642349 , -0.07076626,  0.05109031, ..., -0.0751312 ,\n",
       "          -0.01537988,  0.00651614],\n",
       "         ...,\n",
       "         [ 0.02126797, -0.01875474,  0.04378436, ...,  0.00964139,\n",
       "          -0.04647237, -0.02506804],\n",
       "         [ 0.02776203, -0.05806923,  0.0139825 , ...,  0.02781936,\n",
       "           0.06660403, -0.0292509 ],\n",
       "         [ 0.01672962,  0.04386658, -0.02376918, ...,  0.0196583 ,\n",
       "           0.00340714,  0.0143227 ]],\n",
       "\n",
       "        [[ 0.05166683,  0.02289221, -0.01634004, ..., -0.05028798,\n",
       "           0.06485162, -0.04366859],\n",
       "         [ 0.01165811, -0.06415312,  0.05361027, ..., -0.03017094,\n",
       "          -0.00493404,  0.04870159],\n",
       "         [ 0.0832241 ,  0.07021023, -0.03197738, ..., -0.08085211,\n",
       "           0.02262455, -0.00074806],\n",
       "         ...,\n",
       "         [-0.07046127, -0.01281492, -0.02460408, ..., -0.00532635,\n",
       "           0.06821699, -0.06363885],\n",
       "         [-0.04644001, -0.05465921, -0.05336475, ..., -0.05180446,\n",
       "           0.07008282, -0.06104919],\n",
       "         [ 0.08250953,  0.0114482 ,  0.04040605, ..., -0.02746499,\n",
       "           0.04838038,  0.02604777]],\n",
       "\n",
       "        [[ 0.04714016, -0.05134199,  0.0392355 , ..., -0.03245161,\n",
       "           0.07229275,  0.02031038],\n",
       "         [-0.02448473, -0.03540292,  0.0540311 , ...,  0.04111522,\n",
       "           0.05645663, -0.07970582],\n",
       "         [-0.01958948,  0.05852834, -0.06417479, ..., -0.08303158,\n",
       "           0.06999619,  0.06671204],\n",
       "         ...,\n",
       "         [ 0.0601851 ,  0.00724433, -0.06847356, ..., -0.00153903,\n",
       "           0.01689202, -0.0139787 ],\n",
       "         [ 0.04362241,  0.00285864, -0.07948311, ...,  0.06109834,\n",
       "          -0.0416709 , -0.07816746],\n",
       "         [-0.01877556, -0.06625259,  0.01792139, ..., -0.05758272,\n",
       "           0.0813433 , -0.00185236]]],\n",
       "\n",
       "\n",
       "       [[[-0.0215269 , -0.04925742,  0.01016752, ...,  0.04125211,\n",
       "           0.07676   ,  0.07039271],\n",
       "         [ 0.07927325, -0.04897628,  0.05151705, ..., -0.03334568,\n",
       "          -0.05957705, -0.06590202],\n",
       "         [ 0.01648404,  0.08292875, -0.06275308, ..., -0.02834197,\n",
       "           0.06048463,  0.01393185],\n",
       "         ...,\n",
       "         [-0.08192138,  0.01356854,  0.04447965, ...,  0.07719681,\n",
       "           0.07492771,  0.03983817],\n",
       "         [-0.01051662, -0.03028927,  0.02100786, ..., -0.07115309,\n",
       "          -0.03160421,  0.04028213],\n",
       "         [-0.03775273, -0.01240823, -0.02668747, ..., -0.03793494,\n",
       "          -0.05972964,  0.01761701]],\n",
       "\n",
       "        [[-0.06251423, -0.00497699,  0.0719082 , ...,  0.03836292,\n",
       "           0.03693733, -0.01895499],\n",
       "         [ 0.00160233, -0.01625028, -0.08148646, ..., -0.04445457,\n",
       "           0.01756027,  0.07836547],\n",
       "         [-0.06029958,  0.06283965,  0.05697475, ...,  0.0051288 ,\n",
       "           0.03345761,  0.03530034],\n",
       "         ...,\n",
       "         [-0.01942875, -0.07482587, -0.07680516, ..., -0.02800079,\n",
       "           0.04172321,  0.07617471],\n",
       "         [-0.00561359,  0.07322688, -0.061149  , ...,  0.0072938 ,\n",
       "          -0.02126624, -0.06407587],\n",
       "         [-0.01580232, -0.03763767,  0.07119765, ..., -0.03354208,\n",
       "          -0.00177649,  0.05243399]],\n",
       "\n",
       "        [[-0.0171577 ,  0.07275965, -0.05977551, ...,  0.00264186,\n",
       "           0.07235118, -0.06859195],\n",
       "         [-0.00800756, -0.01880541,  0.08301053, ..., -0.04783104,\n",
       "           0.02860234,  0.05613252],\n",
       "         [ 0.00945631, -0.04337833, -0.05471095, ...,  0.0728099 ,\n",
       "           0.0268997 , -0.00027579],\n",
       "         ...,\n",
       "         [ 0.04504652,  0.02260617,  0.01454731, ...,  0.02712079,\n",
       "          -0.08321135,  0.05436037],\n",
       "         [-0.04854896, -0.00955353, -0.02423304, ...,  0.06886489,\n",
       "          -0.00612018,  0.01704878],\n",
       "         [-0.00875952,  0.03238288,  0.00125223, ...,  0.03005465,\n",
       "           0.00770303, -0.00483578]]]], dtype=float32), array([0., 0., 0., 0., 0., 0., 0., 0., 0., 0., 0., 0., 0., 0., 0., 0., 0.,\n",
       "       0., 0., 0., 0., 0., 0., 0., 0., 0., 0., 0., 0., 0., 0., 0., 0., 0.,\n",
       "       0., 0., 0., 0., 0., 0., 0., 0., 0., 0., 0., 0., 0., 0., 0., 0., 0.,\n",
       "       0., 0., 0., 0., 0., 0., 0., 0., 0., 0., 0., 0., 0.], dtype=float32), array([[ 3.7753927e-03, -7.8120357e-03,  9.5023187e-03, ...,\n",
       "         4.3466305e-03, -8.0678789e-03,  9.2713302e-03],\n",
       "       [-6.9749868e-03,  4.4370964e-03,  7.5453771e-03, ...,\n",
       "        -3.8685277e-05, -8.7590842e-03,  9.9252248e-03],\n",
       "       [-2.1814276e-03, -9.1027385e-03,  2.7176756e-03, ...,\n",
       "         9.6641583e-03, -3.7473440e-04,  3.5036923e-03],\n",
       "       ...,\n",
       "       [ 4.4959895e-03, -9.8167462e-03,  1.5690355e-03, ...,\n",
       "         1.2363307e-05, -1.0550912e-02,  2.4639517e-03],\n",
       "       [-2.1411302e-03, -7.9316124e-03,  3.5622967e-03, ...,\n",
       "         1.0773092e-02, -1.3505314e-03,  2.6968401e-03],\n",
       "       [ 1.0473070e-02, -1.6023070e-03, -1.0124017e-03, ...,\n",
       "        -5.6072022e-03,  1.0724300e-02,  7.4264789e-03]], dtype=float32), array([0., 0., 0., 0., 0., 0., 0., 0., 0., 0., 0., 0., 0., 0., 0., 0., 0.,\n",
       "       0., 0., 0., 0., 0., 0., 0., 0., 0., 0., 0., 0., 0., 0., 0., 0., 0.,\n",
       "       0., 0., 0., 0., 0., 0., 0., 0., 0., 0., 0., 0., 0., 0., 0., 0., 0.,\n",
       "       0., 0., 0., 0., 0., 0., 0., 0., 0., 0., 0., 0., 0., 0., 0., 0., 0.,\n",
       "       0., 0., 0., 0., 0., 0., 0., 0., 0., 0., 0., 0., 0., 0., 0., 0., 0.,\n",
       "       0., 0., 0., 0., 0., 0., 0., 0., 0., 0., 0., 0., 0., 0., 0., 0., 0.,\n",
       "       0., 0., 0., 0., 0., 0., 0., 0., 0., 0., 0., 0., 0., 0., 0., 0., 0.,\n",
       "       0., 0., 0., 0., 0., 0., 0., 0., 0.], dtype=float32), array([[-8.65280628e-04, -1.21680431e-01,  9.10459012e-02],\n",
       "       [-1.37064934e-01,  1.90106019e-01, -1.57659650e-01],\n",
       "       [-1.93832040e-01, -1.25897825e-01, -1.58211589e-01],\n",
       "       [ 9.78689641e-02, -1.02858558e-01, -1.14794292e-01],\n",
       "       [ 1.52584985e-01, -5.29922098e-02,  1.28664181e-01],\n",
       "       [ 1.99450210e-01,  1.08637914e-01,  1.75436899e-01],\n",
       "       [ 1.13091543e-01,  1.18493631e-01, -2.11506009e-01],\n",
       "       [ 3.71271819e-02, -1.10105075e-01, -7.24785030e-03],\n",
       "       [ 3.15536410e-02,  1.84744000e-02,  4.10855561e-02],\n",
       "       [-6.53161108e-03,  1.67008325e-01,  1.22562394e-01],\n",
       "       [ 2.37032473e-02,  1.88441351e-01,  1.10248819e-01],\n",
       "       [-1.29338264e-01,  9.38970596e-02,  3.50662917e-02],\n",
       "       [ 1.05307266e-01, -1.57479167e-01,  1.03561834e-01],\n",
       "       [-5.97095042e-02,  4.89895493e-02,  3.52205336e-02],\n",
       "       [-8.61302316e-02,  3.67936641e-02,  4.94720042e-03],\n",
       "       [-1.50234401e-02,  8.43301862e-02,  6.83510453e-02],\n",
       "       [-4.38811034e-02,  1.08075514e-01, -1.09171323e-01],\n",
       "       [-1.45390779e-01,  1.54088333e-01,  1.71585962e-01],\n",
       "       [ 3.33239436e-02, -9.97610018e-02,  6.81730658e-02],\n",
       "       [-3.39084864e-03,  7.79505521e-02, -8.96000043e-02],\n",
       "       [ 1.54946402e-01, -2.03257009e-01,  7.73940831e-02],\n",
       "       [-1.96187899e-01, -5.25319576e-03,  9.84747261e-02],\n",
       "       [-1.65708363e-03,  1.00793585e-01, -3.89783382e-02],\n",
       "       [ 1.85317352e-01,  1.49862632e-01, -1.81404114e-01],\n",
       "       [-4.31353301e-02, -3.69593948e-02, -5.31280488e-02],\n",
       "       [-9.33207199e-02, -1.61825404e-01, -1.10086098e-01],\n",
       "       [-5.00604510e-04,  1.04609862e-01,  1.32055432e-02],\n",
       "       [ 6.66626841e-02,  1.64499298e-01,  2.48491615e-02],\n",
       "       [ 7.33422190e-02,  4.98893410e-02,  6.89140409e-02],\n",
       "       [ 9.66154486e-02,  1.64300159e-01,  3.34334373e-02],\n",
       "       [-2.07905307e-01,  6.69618398e-02,  8.67925733e-02],\n",
       "       [ 2.11422697e-01,  5.87342232e-02,  9.26349908e-02],\n",
       "       [ 8.13577920e-02, -2.09522679e-01,  1.16682366e-01],\n",
       "       [ 2.97359377e-02, -6.50326014e-02, -9.37851518e-02],\n",
       "       [ 1.53630957e-01,  9.75532085e-02,  1.22713581e-01],\n",
       "       [-1.52602285e-01, -1.93322867e-01,  1.63548812e-01],\n",
       "       [ 1.20066360e-01, -2.04353333e-01, -1.87421739e-02],\n",
       "       [-8.51677507e-02,  1.83151200e-01,  3.06176543e-02],\n",
       "       [-2.63762176e-02,  2.19103396e-02,  1.82041332e-01],\n",
       "       [-2.01956183e-01,  1.04281470e-01, -6.12270832e-02],\n",
       "       [ 1.69506386e-01,  1.34752139e-01,  1.54153898e-01],\n",
       "       [-2.11151645e-01,  4.37588543e-02,  1.41384557e-01],\n",
       "       [-2.04282194e-01,  1.93692043e-01, -1.85202956e-01],\n",
       "       [-2.04231739e-01, -1.74902350e-01,  1.01363063e-02],\n",
       "       [ 1.53832391e-01,  4.09777313e-02,  3.53128910e-02],\n",
       "       [-2.10685074e-01, -9.76731256e-02, -1.78395703e-01],\n",
       "       [ 9.83327776e-02,  3.36861163e-02,  2.93147415e-02],\n",
       "       [-2.32505053e-02,  7.88728893e-03,  9.48169678e-02],\n",
       "       [-1.35372430e-02,  1.12452939e-01, -2.08945140e-01],\n",
       "       [-3.67739797e-03,  1.02955714e-01, -1.00866109e-02],\n",
       "       [ 1.84933558e-01,  6.68420941e-02, -1.12232246e-01],\n",
       "       [ 1.59630463e-01,  1.86613753e-01, -4.77154553e-02],\n",
       "       [ 7.81788379e-02, -8.06856900e-02,  1.79956153e-01],\n",
       "       [ 1.18061304e-02, -1.89630985e-01, -8.93810615e-02],\n",
       "       [ 7.08746761e-02,  1.90438226e-01, -2.11605862e-01],\n",
       "       [-1.35021031e-01, -5.02586663e-02,  2.10132018e-01],\n",
       "       [ 3.44275087e-02, -1.66458443e-01,  9.93762761e-02],\n",
       "       [-1.77977502e-01,  1.25345990e-01,  2.94267386e-02],\n",
       "       [-1.71139136e-01,  3.16580385e-02,  1.36087045e-01],\n",
       "       [ 1.58745512e-01, -7.49936402e-02,  1.87124088e-01],\n",
       "       [ 1.85545847e-01, -1.09376296e-01,  1.14797875e-01],\n",
       "       [-7.15069175e-02,  1.05672032e-02, -1.80773109e-01],\n",
       "       [-1.94033340e-01,  1.18261173e-01, -4.66997027e-02],\n",
       "       [-1.16666853e-02, -7.66215771e-02, -2.18960047e-02],\n",
       "       [ 1.41273245e-01,  2.75197923e-02, -7.06227124e-02],\n",
       "       [ 1.20498836e-02, -3.68423760e-03,  1.65214553e-01],\n",
       "       [ 3.02170068e-02,  7.54872113e-02, -1.42563388e-01],\n",
       "       [ 3.36143821e-02,  1.11028120e-01,  1.12045750e-01],\n",
       "       [-2.05783755e-01,  4.87003177e-02, -1.56774879e-01],\n",
       "       [ 3.56136262e-02,  2.54682899e-02, -1.90557837e-01],\n",
       "       [-3.84204984e-02, -7.32523203e-02,  7.70504028e-02],\n",
       "       [-6.87434673e-02,  1.85009837e-02, -1.38406217e-01],\n",
       "       [ 5.83849996e-02,  1.67675421e-01, -5.98207414e-02],\n",
       "       [ 1.43226549e-01,  2.03608170e-01,  3.55562717e-02],\n",
       "       [-4.75556403e-02,  2.02085227e-02, -5.73734939e-02],\n",
       "       [-1.31854087e-01, -7.23192841e-02,  1.12894759e-01],\n",
       "       [ 2.12159529e-01, -5.85440993e-02,  1.15320086e-04],\n",
       "       [ 1.37978509e-01, -1.80879533e-01, -5.17430753e-02],\n",
       "       [ 1.40380338e-01, -6.44469410e-02, -2.04251170e-01],\n",
       "       [ 1.31718203e-01, -1.49748787e-01,  1.11240879e-01],\n",
       "       [ 1.73340812e-01, -1.54451579e-01,  1.94321260e-01],\n",
       "       [-7.14667141e-02,  1.46613613e-01, -2.67148316e-02],\n",
       "       [ 7.62513429e-02, -7.05311745e-02, -1.47516355e-01],\n",
       "       [-2.10787848e-01,  1.09205619e-01, -2.08799362e-01],\n",
       "       [-1.03223540e-01, -2.12617949e-01,  6.00671023e-02],\n",
       "       [-1.85474873e-01, -1.31143302e-01,  3.60407680e-02],\n",
       "       [ 1.89854056e-02,  5.24481386e-02, -6.43027425e-02],\n",
       "       [-9.30446759e-02, -1.90540597e-01,  1.95252001e-02],\n",
       "       [-9.74826515e-03, -7.74480700e-02,  1.67678401e-01],\n",
       "       [ 2.88721919e-02, -8.79085958e-02, -7.42295384e-02],\n",
       "       [-1.17722087e-01,  8.61546546e-02,  1.04152754e-01],\n",
       "       [ 9.01702195e-02,  8.40804726e-02,  4.49359864e-02],\n",
       "       [-4.85655665e-02,  1.42704919e-01, -2.00567141e-01],\n",
       "       [-8.89578015e-02, -1.83519244e-01, -1.28245354e-01],\n",
       "       [-6.02350682e-02, -2.05334589e-01, -1.54302478e-01],\n",
       "       [-1.81046590e-01, -4.90797907e-02,  6.48183972e-02],\n",
       "       [-7.55668432e-02, -1.19787261e-01, -1.60286099e-01],\n",
       "       [ 7.97896534e-02, -1.35567859e-01, -2.10374281e-01],\n",
       "       [-1.89237148e-02, -1.94210142e-01, -8.36474746e-02],\n",
       "       [ 4.33080345e-02, -1.94649413e-01, -9.91576388e-02],\n",
       "       [ 1.28253743e-01, -1.73794404e-01,  3.32542956e-02],\n",
       "       [ 3.29971313e-03, -2.06941500e-01, -1.17707804e-01],\n",
       "       [ 1.71454921e-01,  3.38925123e-02,  4.80860025e-02],\n",
       "       [ 1.00035712e-01, -1.68009788e-01, -8.55023712e-02],\n",
       "       [ 1.55458942e-01, -9.18149874e-02,  1.88179061e-01],\n",
       "       [ 6.76656216e-02, -1.70222327e-01, -2.39252001e-02],\n",
       "       [ 1.65329874e-03, -3.49211246e-02,  1.24923453e-01],\n",
       "       [-1.69818163e-01, -1.96712643e-01,  1.47497073e-01],\n",
       "       [-3.05123329e-02, -1.48855343e-01, -1.80572718e-02],\n",
       "       [ 1.10935286e-01, -7.75898695e-02,  1.03085354e-01],\n",
       "       [ 9.87298340e-02, -2.62427479e-02, -2.09390372e-01],\n",
       "       [-9.15710330e-02,  1.21465251e-01, -1.47376031e-01],\n",
       "       [ 5.32182008e-02, -1.49524689e-01,  1.87991604e-01],\n",
       "       [ 5.32460064e-02,  3.69395465e-02,  1.07693806e-01],\n",
       "       [ 5.41264862e-02, -6.52053952e-03, -9.78695229e-02],\n",
       "       [ 2.08109304e-01, -4.99703884e-02, -1.53219119e-01],\n",
       "       [-1.81530774e-01, -1.38184354e-01,  2.09623352e-01],\n",
       "       [-7.89832026e-02, -2.90581286e-02,  1.60567090e-01],\n",
       "       [-9.25227478e-02,  4.12014276e-02, -3.06734145e-02],\n",
       "       [ 2.07227305e-01, -6.07989281e-02, -5.00101745e-02],\n",
       "       [ 9.18724388e-02,  1.87818483e-01, -2.11524487e-01],\n",
       "       [-8.83520395e-02,  1.60748258e-01,  1.09868333e-01],\n",
       "       [-1.88185960e-01, -3.85461599e-02, -1.16342075e-01],\n",
       "       [-1.11985594e-01, -1.76125973e-01,  2.94928253e-03],\n",
       "       [ 1.13869771e-01, -8.67209435e-02, -2.06445307e-02],\n",
       "       [ 1.61592320e-01, -1.73099101e-01,  1.01894543e-01],\n",
       "       [-1.17352009e-01, -9.13268849e-02,  1.18430704e-02],\n",
       "       [ 2.77012587e-05,  3.40898186e-02,  6.87046349e-03]], dtype=float32), array([0., 0., 0.], dtype=float32)], non_trainable=[]), optimizer_state=[0], delta_aggregate_state=OrderedDict([('value_sum_process', ()), ('weight_sum_process', ())]), model_broadcast_state=())"
      ]
     },
     "execution_count": 18,
     "metadata": {},
     "output_type": "execute_result"
    }
   ],
   "source": [
    "state"
   ]
  },
  {
   "cell_type": "markdown",
   "metadata": {
    "id": "TLrk-NDxiDBO"
   },
   "source": [
    "The second of the pair of federated computations, `next`, represents a single\n",
    "round of Federated Averaging, which consists of pushing the server state\n",
    "(including the model parameters) to the clients, on-device training on their\n",
    "local data, collecting and averaging model updates, and producing a new updated\n",
    "model at the server.\n",
    "\n",
    "Conceptually, you can think of `next` as having a functional type signature that\n",
    "looks as follows.\n",
    "\n",
    "```\n",
    "SERVER_STATE, FEDERATED_DATA -> SERVER_STATE, TRAINING_METRICS\n",
    "```\n",
    "\n",
    "In particular, one should think about `next()` not as being a function that runs on a server, but rather being a declarative functional representation of the entire decentralized computation - some of the inputs are provided by the server (`SERVER_STATE`), but each participating device contributes its own local dataset.\n",
    "\n",
    "To run a single round of training and visualizing the results We can use the following line of code and federated data we've already generated above:\n",
    "\n",
    "\n",
    "\n",
    "\n"
   ]
  },
  {
   "cell_type": "code",
   "execution_count": 19,
   "metadata": {
    "colab": {
     "base_uri": "https://localhost:8080/"
    },
    "id": "7HoXm0fWjpnv",
    "outputId": "9840229b-fd67-40fd-960e-655d7a6f4af4"
   },
   "outputs": [
    {
     "name": "stdout",
     "output_type": "stream",
     "text": [
      "round  1, metrics=OrderedDict([('broadcast', ()), ('aggregation', OrderedDict([('mean_value', ()), ('mean_weight', ())])), ('train', OrderedDict([('categorical_accuracy', 0.6694665), ('AUC', 0.82650024), ('loss', 0.7931211)])), ('stat', OrderedDict([('num_examples', 6429)]))])\n"
     ]
    }
   ],
   "source": [
    "state, metrics = iterative_process.next(state, federated_train_data)\n",
    "print('round  1, metrics={}'.format(metrics))"
   ]
  },
  {
   "cell_type": "markdown",
   "metadata": {
    "id": "puoZpi5CltTJ"
   },
   "source": [
    "## Evaluation\n",
    "To perform evaluation on federated data, you can construct another *federated\n",
    "computation* designed for just this purpose, using the\n",
    "`tff.learning.build_federated_evaluation` function, and passing in your model\n",
    "constructor as an argument. Note that as the evaluation doesn't perform gradient descent, and there's no need to construct\n",
    "optimizers.\n",
    "\n",
    "For experimentation and research, when a centralized test dataset is available,\n",
    "[Federated Learning for Text Generation](federated_learning_for_text_generation.ipynb)\n",
    "demonstrates another evaluation option: taking the trained weights from\n",
    "federated learning, applying them to a standard Keras model, and then simply\n",
    "calling `tf.keras.models.Model.evaluate()` on a centralized dataset."
   ]
  },
  {
   "cell_type": "code",
   "execution_count": 20,
   "metadata": {
    "colab": {
     "base_uri": "https://localhost:8080/"
    },
    "id": "cnHToV-sl193",
    "outputId": "0fff15b9-3a82-4384-8164-e5aee2f4e431"
   },
   "outputs": [
    {
     "data": {
      "text/plain": [
       "OrderedDict([('eval',\n",
       "              OrderedDict([('categorical_accuracy', 0.15973742),\n",
       "                           ('AUC', 0.22238787),\n",
       "                           ('loss', 1.1567367)])),\n",
       "             ('stat', OrderedDict([('num_examples', 1828)]))])"
      ]
     },
     "execution_count": 20,
     "metadata": {},
     "output_type": "execute_result"
    }
   ],
   "source": [
    "evaluation = tff.learning.build_federated_evaluation(model_fn)   # iterative_process = tff.learning.build_federated_averaging_process(model_fn,client_optimizer_fn=lambda: tf.keras.optimizers.SGD(learning_rate=0.01), server_optimizer_fn=lambda: tf.keras.optimizers.SGD(learning_rate=0.05))\n",
    "\n",
    "\n",
    "federated_test_data = make_federated_data(test_data, test_client_ids)\n",
    "\n",
    "val_metrics = evaluation(state.model, federated_test_data)\n",
    "\n",
    "val_metrics"
   ]
  },
  {
   "cell_type": "code",
   "execution_count": 21,
   "metadata": {
    "colab": {
     "base_uri": "https://localhost:8080/"
    },
    "id": "7MRMGwyLmSwJ",
    "outputId": "0f223e85-9baf-4310-d65a-f519ae769072"
   },
   "outputs": [
    {
     "name": "stdout",
     "output_type": "stream",
     "text": [
      "(64, 224, 224, 3)\n"
     ]
    }
   ],
   "source": [
    "a=iter(federated_test_data[0]).next()\n",
    "print(a[0].shape)\n"
   ]
  },
  {
   "cell_type": "markdown",
   "metadata": {
    "id": "Mh_ceyGdjC3G"
   },
   "source": [
    "## Training and evaluation multiple rounds:\n",
    "\n",
    "Here we run the federated learning algorithm multiple rounds on training clients and evaluate the performance on test client.\n",
    "\n",
    "First we initialize the model:"
   ]
  },
  {
   "cell_type": "code",
   "execution_count": 22,
   "metadata": {
    "id": "FIdaipQXh88D"
   },
   "outputs": [],
   "source": [
    "state = iterative_process.initialize()"
   ]
  },
  {
   "cell_type": "markdown",
   "metadata": {
    "id": "GsfxH0uckV6O"
   },
   "source": [
    "Now let's train and evaluate multiple times"
   ]
  },
  {
   "cell_type": "code",
   "execution_count": 23,
   "metadata": {
    "colab": {
     "base_uri": "https://localhost:8080/",
     "height": 626
    },
    "id": "qe5p5EwokI6O",
    "outputId": "fe808782-885c-4d4f-c01e-05c239684405"
   },
   "outputs": [
    {
     "ename": "KeyboardInterrupt",
     "evalue": "",
     "output_type": "error",
     "traceback": [
      "\u001b[0;31m---------------------------------------------------------------------------\u001b[0m",
      "\u001b[0;31mKeyboardInterrupt\u001b[0m                         Traceback (most recent call last)",
      "\u001b[0;32m/tmp/ipykernel_18323/3611621581.py\u001b[0m in \u001b[0;36m<module>\u001b[0;34m\u001b[0m\n\u001b[1;32m     17\u001b[0m \u001b[0;34m\u001b[0m\u001b[0m\n\u001b[1;32m     18\u001b[0m \u001b[0;32mfor\u001b[0m \u001b[0mround_num\u001b[0m \u001b[0;32min\u001b[0m \u001b[0mrange\u001b[0m\u001b[0;34m(\u001b[0m\u001b[0;36m1\u001b[0m\u001b[0;34m,\u001b[0m \u001b[0mNUM_ROUNDS\u001b[0m\u001b[0;34m+\u001b[0m\u001b[0;36m1\u001b[0m\u001b[0;34m)\u001b[0m\u001b[0;34m:\u001b[0m\u001b[0;34m\u001b[0m\u001b[0;34m\u001b[0m\u001b[0m\n\u001b[0;32m---> 19\u001b[0;31m     \u001b[0mstate\u001b[0m\u001b[0;34m,\u001b[0m \u001b[0mmetrics\u001b[0m \u001b[0;34m=\u001b[0m \u001b[0miterative_process\u001b[0m\u001b[0;34m.\u001b[0m\u001b[0mnext\u001b[0m\u001b[0;34m(\u001b[0m\u001b[0mstate\u001b[0m\u001b[0;34m,\u001b[0m \u001b[0mfederated_train_data\u001b[0m\u001b[0;34m)\u001b[0m\u001b[0;34m\u001b[0m\u001b[0;34m\u001b[0m\u001b[0m\n\u001b[0m\u001b[1;32m     20\u001b[0m     \u001b[0mval_metrics\u001b[0m \u001b[0;34m=\u001b[0m \u001b[0mevaluation\u001b[0m\u001b[0;34m(\u001b[0m\u001b[0mstate\u001b[0m\u001b[0;34m.\u001b[0m\u001b[0mmodel\u001b[0m\u001b[0;34m,\u001b[0m \u001b[0mfederated_test_data\u001b[0m\u001b[0;34m)\u001b[0m\u001b[0;34m\u001b[0m\u001b[0;34m\u001b[0m\u001b[0m\n\u001b[1;32m     21\u001b[0m \u001b[0;34m\u001b[0m\u001b[0m\n",
      "\u001b[0;32m~/.conda/envs/tff_test_4/lib/python3.8/site-packages/tensorflow_federated/python/core/impl/computation/computation_impl.py\u001b[0m in \u001b[0;36m__call__\u001b[0;34m(self, *args, **kwargs)\u001b[0m\n\u001b[1;32m    112\u001b[0m     arg = function_utils.pack_args(self._type_signature.parameter, args, kwargs,\n\u001b[1;32m    113\u001b[0m                                    context)\n\u001b[0;32m--> 114\u001b[0;31m     \u001b[0;32mreturn\u001b[0m \u001b[0mcontext\u001b[0m\u001b[0;34m.\u001b[0m\u001b[0minvoke\u001b[0m\u001b[0;34m(\u001b[0m\u001b[0mself\u001b[0m\u001b[0;34m,\u001b[0m \u001b[0marg\u001b[0m\u001b[0;34m)\u001b[0m\u001b[0;34m\u001b[0m\u001b[0;34m\u001b[0m\u001b[0m\n\u001b[0m\u001b[1;32m    115\u001b[0m \u001b[0;34m\u001b[0m\u001b[0m\n\u001b[1;32m    116\u001b[0m   \u001b[0;32mdef\u001b[0m \u001b[0m__hash__\u001b[0m\u001b[0;34m(\u001b[0m\u001b[0mself\u001b[0m\u001b[0;34m)\u001b[0m \u001b[0;34m->\u001b[0m \u001b[0mint\u001b[0m\u001b[0;34m:\u001b[0m\u001b[0;34m\u001b[0m\u001b[0;34m\u001b[0m\u001b[0m\n",
      "\u001b[0;32m~/.conda/envs/tff_test_4/lib/python3.8/site-packages/tensorflow_federated/python/core/impl/execution_contexts/sync_execution_context.py\u001b[0m in \u001b[0;36minvoke\u001b[0;34m(self, comp, arg)\u001b[0m\n\u001b[1;32m     58\u001b[0m \u001b[0;34m\u001b[0m\u001b[0m\n\u001b[1;32m     59\u001b[0m   \u001b[0;32mdef\u001b[0m \u001b[0minvoke\u001b[0m\u001b[0;34m(\u001b[0m\u001b[0mself\u001b[0m\u001b[0;34m,\u001b[0m \u001b[0mcomp\u001b[0m\u001b[0;34m,\u001b[0m \u001b[0marg\u001b[0m\u001b[0;34m)\u001b[0m\u001b[0;34m:\u001b[0m\u001b[0;34m\u001b[0m\u001b[0;34m\u001b[0m\u001b[0m\n\u001b[0;32m---> 60\u001b[0;31m     return self._event_loop.run_until_complete(\n\u001b[0m\u001b[1;32m     61\u001b[0m         self._async_context.invoke(comp, arg))\n",
      "\u001b[0;32m~/.conda/envs/tff_test_4/lib/python3.8/site-packages/nest_asyncio.py\u001b[0m in \u001b[0;36mrun_until_complete\u001b[0;34m(self, future)\u001b[0m\n\u001b[1;32m     62\u001b[0m                 \u001b[0mf\u001b[0m\u001b[0;34m.\u001b[0m\u001b[0m_log_destroy_pending\u001b[0m \u001b[0;34m=\u001b[0m \u001b[0;32mFalse\u001b[0m\u001b[0;34m\u001b[0m\u001b[0;34m\u001b[0m\u001b[0m\n\u001b[1;32m     63\u001b[0m             \u001b[0;32mwhile\u001b[0m \u001b[0;32mnot\u001b[0m \u001b[0mf\u001b[0m\u001b[0;34m.\u001b[0m\u001b[0mdone\u001b[0m\u001b[0;34m(\u001b[0m\u001b[0;34m)\u001b[0m\u001b[0;34m:\u001b[0m\u001b[0;34m\u001b[0m\u001b[0;34m\u001b[0m\u001b[0m\n\u001b[0;32m---> 64\u001b[0;31m                 \u001b[0mself\u001b[0m\u001b[0;34m.\u001b[0m\u001b[0m_run_once\u001b[0m\u001b[0;34m(\u001b[0m\u001b[0;34m)\u001b[0m\u001b[0;34m\u001b[0m\u001b[0;34m\u001b[0m\u001b[0m\n\u001b[0m\u001b[1;32m     65\u001b[0m                 \u001b[0;32mif\u001b[0m \u001b[0mself\u001b[0m\u001b[0;34m.\u001b[0m\u001b[0m_stopping\u001b[0m\u001b[0;34m:\u001b[0m\u001b[0;34m\u001b[0m\u001b[0;34m\u001b[0m\u001b[0m\n\u001b[1;32m     66\u001b[0m                     \u001b[0;32mbreak\u001b[0m\u001b[0;34m\u001b[0m\u001b[0;34m\u001b[0m\u001b[0m\n",
      "\u001b[0;32m~/.conda/envs/tff_test_4/lib/python3.8/site-packages/nest_asyncio.py\u001b[0m in \u001b[0;36m_run_once\u001b[0;34m(self)\u001b[0m\n\u001b[1;32m     85\u001b[0m             \u001b[0;32melse\u001b[0m \u001b[0mmin\u001b[0m\u001b[0;34m(\u001b[0m\u001b[0mmax\u001b[0m\u001b[0;34m(\u001b[0m\u001b[0mscheduled\u001b[0m\u001b[0;34m[\u001b[0m\u001b[0;36m0\u001b[0m\u001b[0;34m]\u001b[0m\u001b[0;34m.\u001b[0m\u001b[0m_when\u001b[0m \u001b[0;34m-\u001b[0m \u001b[0mnow\u001b[0m\u001b[0;34m,\u001b[0m \u001b[0;36m0\u001b[0m\u001b[0;34m)\u001b[0m\u001b[0;34m,\u001b[0m \u001b[0;36m86400\u001b[0m\u001b[0;34m)\u001b[0m \u001b[0;32mif\u001b[0m \u001b[0mscheduled\u001b[0m\u001b[0;34m\u001b[0m\u001b[0;34m\u001b[0m\u001b[0m\n\u001b[1;32m     86\u001b[0m             else None)\n\u001b[0;32m---> 87\u001b[0;31m         \u001b[0mevent_list\u001b[0m \u001b[0;34m=\u001b[0m \u001b[0mself\u001b[0m\u001b[0;34m.\u001b[0m\u001b[0m_selector\u001b[0m\u001b[0;34m.\u001b[0m\u001b[0mselect\u001b[0m\u001b[0;34m(\u001b[0m\u001b[0mtimeout\u001b[0m\u001b[0;34m)\u001b[0m\u001b[0;34m\u001b[0m\u001b[0;34m\u001b[0m\u001b[0m\n\u001b[0m\u001b[1;32m     88\u001b[0m         \u001b[0mself\u001b[0m\u001b[0;34m.\u001b[0m\u001b[0m_process_events\u001b[0m\u001b[0;34m(\u001b[0m\u001b[0mevent_list\u001b[0m\u001b[0;34m)\u001b[0m\u001b[0;34m\u001b[0m\u001b[0;34m\u001b[0m\u001b[0m\n\u001b[1;32m     89\u001b[0m \u001b[0;34m\u001b[0m\u001b[0m\n",
      "\u001b[0;32m~/.conda/envs/tff_test_4/lib/python3.8/selectors.py\u001b[0m in \u001b[0;36mselect\u001b[0;34m(self, timeout)\u001b[0m\n\u001b[1;32m    466\u001b[0m             \u001b[0mready\u001b[0m \u001b[0;34m=\u001b[0m \u001b[0;34m[\u001b[0m\u001b[0;34m]\u001b[0m\u001b[0;34m\u001b[0m\u001b[0;34m\u001b[0m\u001b[0m\n\u001b[1;32m    467\u001b[0m             \u001b[0;32mtry\u001b[0m\u001b[0;34m:\u001b[0m\u001b[0;34m\u001b[0m\u001b[0;34m\u001b[0m\u001b[0m\n\u001b[0;32m--> 468\u001b[0;31m                 \u001b[0mfd_event_list\u001b[0m \u001b[0;34m=\u001b[0m \u001b[0mself\u001b[0m\u001b[0;34m.\u001b[0m\u001b[0m_selector\u001b[0m\u001b[0;34m.\u001b[0m\u001b[0mpoll\u001b[0m\u001b[0;34m(\u001b[0m\u001b[0mtimeout\u001b[0m\u001b[0;34m,\u001b[0m \u001b[0mmax_ev\u001b[0m\u001b[0;34m)\u001b[0m\u001b[0;34m\u001b[0m\u001b[0;34m\u001b[0m\u001b[0m\n\u001b[0m\u001b[1;32m    469\u001b[0m             \u001b[0;32mexcept\u001b[0m \u001b[0mInterruptedError\u001b[0m\u001b[0;34m:\u001b[0m\u001b[0;34m\u001b[0m\u001b[0;34m\u001b[0m\u001b[0m\n\u001b[1;32m    470\u001b[0m                 \u001b[0;32mreturn\u001b[0m \u001b[0mready\u001b[0m\u001b[0;34m\u001b[0m\u001b[0;34m\u001b[0m\u001b[0m\n",
      "\u001b[0;31mKeyboardInterrupt\u001b[0m: "
     ]
    }
   ],
   "source": [
    "NUM_ROUNDS = 50\n",
    "\n",
    "loss = list()\n",
    "accuracy = list()\n",
    "AUC=list()\n",
    "\n",
    "\n",
    "\n",
    "val_loss = list()\n",
    "val_accuracy = list()\n",
    "val_AUC=list()\n",
    "\n",
    "\n",
    "\n",
    "evaluation = tff.learning.build_federated_evaluation(model_fn)\n",
    "federated_test_data = make_federated_data(test_data, test_client_ids)\n",
    "\n",
    "for round_num in range(1, NUM_ROUNDS+1):\n",
    "    state, metrics = iterative_process.next(state, federated_train_data)\n",
    "    val_metrics = evaluation(state.model, federated_test_data)\n",
    "    \n",
    "    \n",
    "    my_loss = metrics['train']['loss']\n",
    "    loss.append(metrics['train']['loss'])\n",
    "\n",
    "    \n",
    "    my_acc = metrics['train']['categorical_accuracy']\n",
    "    accuracy.append(metrics['train']['categorical_accuracy'])\n",
    "\n",
    "    my_AUC = metrics['train']['AUC']\n",
    "    AUC.append(my_AUC)\n",
    "    \n",
    "    \n",
    "    my_val_loss=val_metrics['loss']\n",
    "    val_loss.append(val_metrics['loss'])\n",
    "\n",
    "    \n",
    "    \n",
    "    my_val_accuracy=val_metrics['categorical_accuracy']\n",
    "    val_accuracy.append(val_metrics['categorical_accuracy'])\n",
    "    \n",
    "\n",
    "    my_val_AUC = val_metrics['AUC']\n",
    "    val_AUC.append(my_val_AUC)\n",
    "\n",
    "    print(f\"round: {round_num:2d}, training_loss: {my_loss}, training_accuracy: {my_acc}, train_auc: {my_AUC}, test_loss: {my_val_loss}, test_accuracy: {my_val_accuracy},  test_auc: {my_val_AUC}\")\n",
    "\n",
    "\n",
    "history_fed={'loss':loss, 'categorical_accuracy':accuracy, 'AUC':AUC, 'val_loss':val_loss, 'val_categorical_accuracy':val_accuracy, 'val_AUC':val_AUC}\n",
    "\n",
    "\n",
    "#np.save('/content/gdrive/Shareddrives/AI Engineering/PETs/Privacy-Sobhan Hemati/Kidney/history_fed_train_id_0_2_3_test_id_1.npy',history_fed)"
   ]
  },
  {
   "cell_type": "markdown",
   "metadata": {
    "id": "34_2dhNZUOoF"
   },
   "source": [
    "## An experiment setup for comparing HFL against baseline\n",
    "\n",
    "### Train on one hospital and test on another one.\n",
    "*   We choose hospitals 0,2,3 as training hospitals and hospital 1 as the test hospital\n",
    "*   For the baseline scenario, we separately train 3 models on each one of 0, 2, and 3 hospitals and test the three models on data of hospital 1\n",
    "*   For the FL scenario, we train a shared global model on hospitals 0,2, and 3 while clients keep their training data private\n",
    "*   Then, we compare the performance of the FL model against the baseline"
   ]
  },
  {
   "cell_type": "markdown",
   "metadata": {
    "id": "o5pFjFpJU7hu"
   },
   "source": [
    "## Comparison of FederatedAveraging against the baseline scenario"
   ]
  },
  {
   "cell_type": "code",
   "execution_count": null,
   "metadata": {
    "id": "mnVjeCuMQh1_"
   },
   "outputs": [],
   "source": [
    "\n",
    "history_fed=np.load(path+'/history_fed_train_id_0_2_3_test_id_1.npy',allow_pickle=True).item()"
   ]
  },
  {
   "cell_type": "code",
   "execution_count": null,
   "metadata": {
    "id": "NAoFLkqWB3bn"
   },
   "outputs": [],
   "source": [
    "train_id=3\n",
    "test_id=1\n",
    "history={}\n",
    "history['{},{}'.format(train_id,test_id)]=np.load(path+'/my_history_train_id_{}_test_id_{}.npy'.format(train_id,test_id),allow_pickle='TRUE').item()"
   ]
  },
  {
   "cell_type": "code",
   "execution_count": null,
   "metadata": {
    "id": "KKjYjL17EJ4b"
   },
   "outputs": [],
   "source": [
    "train_id=2\n",
    "test_id=1\n",
    "history['{},{}'.format(train_id,test_id)]=np.load(path+'/my_history_train_id_{}_test_id_{}.npy'.format(train_id,test_id),allow_pickle='TRUE').item()"
   ]
  },
  {
   "cell_type": "code",
   "execution_count": null,
   "metadata": {
    "id": "dLT3bTrpFBPv"
   },
   "outputs": [],
   "source": [
    "train_id=0\n",
    "test_id=1\n",
    "history['{},{}'.format(train_id,test_id)]=np.load(path+'/my_history_train_id_{}_test_id_{}.npy'.format(train_id,test_id),allow_pickle='TRUE').item()"
   ]
  },
  {
   "cell_type": "code",
   "execution_count": null,
   "metadata": {
    "colab": {
     "base_uri": "https://localhost:8080/",
     "height": 468
    },
    "id": "OzpUcy1cLVU7",
    "outputId": "f92a6aeb-276f-4a15-e8d6-6098b385a88d"
   },
   "outputs": [],
   "source": [
    "fig1 = plt.figure(figsize=(30, 8))\n",
    "fig1.subplots_adjust(top = 0.99, bottom=0.01, hspace=.3, wspace=0.3)\n",
    "ax1 = fig1.add_subplot(2, 3, 1)\n",
    "ax1.plot(history_fed['AUC'],color='black',label='Train AUC on Hispital 1 with Federated Model trained on Hospitals 0-2-3')\n",
    "ax1.plot(history['3,1']['AUC'],'*-',label='Train AUC on Hispital 1 with Model trained on Hospital 3')\n",
    "ax1.plot(history['2,1']['AUC'], '--', label='Train AUC on Hispital 1 with Model trained on Hospital 2')\n",
    "ax1.plot(history['0,1']['AUC'], '-.',label='Train AUC on Hispital 1 with Model trained on Hospital 0')\n",
    "ax1.legend(loc='lower right')\n",
    "ax1.set_ylabel('Auc')\n",
    "ax1.set_ylim([0, 1])\n",
    "ax1.set_title('Train Auc')\n",
    "ax1.set_xlabel('Epoch/Round')\n",
    "\n",
    "\n",
    "ax2 = fig1.add_subplot(2, 3, 2)\n",
    "ax2.plot(history_fed['categorical_accuracy'],color='black',label='Train Accuracy on Hispital 1 with Federated Model trained on Hospitals 0-2-3')\n",
    "ax2.plot(history['3,1']['categorical_accuracy'],'*-',label='Train Accuracy on Hispital 1 with Model trained on Hospital 3')\n",
    "ax2.plot(history['2,1']['categorical_accuracy'], '--', label='Train Accuracy on Hispital 1 with Model trained on Hospital 2')\n",
    "ax2.plot(history['0,1']['categorical_accuracy'], '-.',label='Train Accuracy on Hispital 1 with Model trained on Hospital 0')\n",
    "ax2.legend(loc='lower right')\n",
    "ax2.set_ylabel('Accuracy')\n",
    "ax2.set_ylim([0, 1])\n",
    "ax2.set_title('Train Accuracy')\n",
    "ax2.set_xlabel('Epoch/Round')\n",
    "\n",
    "ax3 = fig1.add_subplot(2, 3, 3)\n",
    "ax3.plot(history_fed['loss'],color='black',label='Train Loss on Hispital 1 with Federated Model trained on Hospitals 0-2-3')\n",
    "ax3.plot(history['3,1']['loss'],'*-', label='Train Loss of Hispital 1 with Model trained on Hospital 3')\n",
    "ax3.plot(history['2,1']['loss'], '--',label='Train Loss of Hispital 1 with Model trained on Hospital 2')\n",
    "ax3.plot(history['0,1']['loss'], '-.',label='Train Loss of Hispital 1 with Model trained on Hospital 0')\n",
    "\n",
    "ax3.legend(loc='lower right')\n",
    "ax3.set_ylabel('Cross Entropy')\n",
    "ax3.set_ylim([0,max(ax2.get_ylim())+.5])\n",
    "ax3.set_title('Train Loss')\n",
    "ax3.set_xlabel('Epoch/Round')\n",
    "\n",
    "\n",
    "\n",
    "ax4 = fig1.add_subplot(2, 3, 4)\n",
    "ax4.plot(history_fed['val_AUC'],color='black',label='Test AUC on Hispital 1 with Federated Model trained on Hospitals 0-2-3')\n",
    "ax4.plot(history['3,1']['val_AUC'],'*-',label='Test AUC on Hispital 1 with Model trained on Hospital 3')\n",
    "ax4.plot(history['2,1']['val_AUC'], '--', label='Test AUC on Hispital 1 with Model trained on Hospital 2')\n",
    "ax4.plot(history['0,1']['val_AUC'], '-.',label='Test AUC on Hispital 1 with Model trained on Hospital 0')\n",
    "ax4.legend(loc='lower right')\n",
    "ax4.set_ylabel('Auc')\n",
    "ax4.set_ylim([0, 1])\n",
    "ax4.set_title('Test Auc')\n",
    "ax4.set_xlabel('Epoch/Round')\n",
    "\n",
    "\n",
    "ax5 = fig1.add_subplot(2, 3, 5)\n",
    "ax5.plot(history_fed['val_categorical_accuracy'],color='black',linewidth=3,label='Test Accuracy on Hispital 1 with Federated Model trained on Hospitals 0-2-3')\n",
    "ax5.plot(history['3,1']['val_categorical_accuracy'],'*-',label='Test Accuracy on Hispital 1 with Model trained on Hospital 3')\n",
    "ax5.plot(history['2,1']['val_categorical_accuracy'], '--', label='Test Accuracy on Hispital 1 with Model trained on Hospital 2')\n",
    "ax5.plot(history['0,1']['val_categorical_accuracy'], '-.',label='Test Accuracy on Hispital 1 with Model trained on Hospital 0')\n",
    "ax5.legend(loc='lower right')\n",
    "ax5.set_ylabel('Accuracy')\n",
    "ax5.set_ylim([0, 1])\n",
    "ax5.set_title('Test Accuracy')\n",
    "ax5.set_xlabel('Epoch/Round')\n",
    "\n",
    "ax6 = fig1.add_subplot(2, 3, 6)\n",
    "\n",
    "ax6.plot(history_fed['val_loss'],color='black',label='Test Loss on Hispital 1 with Federated Model trained on Hospitals 0-2-3')\n",
    "ax6.plot(history['3,1']['val_loss'],'*-', label='Test Loss of Hispital 1 with Model trained on Hospital 3')\n",
    "ax6.plot(history['2,1']['val_loss'], '--',label='Test Loss of Hispital 1 with Model trained on Hospital 2')\n",
    "ax6.plot(history['0,1']['val_loss'], '-.',label='Test Loss of Hispital 1 with Model trained on Hospital 0')\n",
    "\n",
    "ax6.legend(loc='lower right')\n",
    "ax6.set_ylabel('Cross Entropy')\n",
    "ax6.set_ylim([0,max(ax2.get_ylim())+.5])\n",
    "ax6.set_title('Test Loss')\n",
    "ax6.set_xlabel('Epoch/Round')\n",
    "\n",
    "plt.savefig('/content/gdrive/Shareddrives/AI Engineering/PETs/Privacy-Sobhan Hemati/Kidney/history_fed_train_id_0_2_3_result.jpg',bbox_inches='tight')"
   ]
  },
  {
   "cell_type": "code",
   "execution_count": null,
   "metadata": {
    "colab": {
     "base_uri": "https://localhost:8080/"
    },
    "id": "06LH-vTiEnV5",
    "outputId": "8d681287-52a9-412a-f353-83e914990e97"
   },
   "outputs": [],
   "source": [
    "!pip list -v | grep tensorflow-federated\n",
    "!pip list -v | grep tensorflow\n"
   ]
  },
  {
   "cell_type": "code",
   "execution_count": null,
   "metadata": {
    "colab": {
     "base_uri": "https://localhost:8080/"
    },
    "id": "sBYqUaXSyJ8W",
    "outputId": "0afff628-0747-443f-9699-ad3b11632097"
   },
   "outputs": [],
   "source": [
    "from platform import python_version\n",
    "\n",
    "print(python_version())"
   ]
  },
  {
   "cell_type": "code",
   "execution_count": null,
   "metadata": {
    "colab": {
     "base_uri": "https://localhost:8080/"
    },
    "id": "8U5uUYV3nXuK",
    "outputId": "68319fb1-bff7-4ef6-fc15-1a2ba84dcd7b"
   },
   "outputs": [],
   "source": [
    "!pip list -v | grep tensorflow-federated\n",
    "!pip list -v | grep tensorflow\n"
   ]
  },
  {
   "cell_type": "code",
   "execution_count": null,
   "metadata": {
    "id": "vE5lmagWo52V"
   },
   "outputs": [],
   "source": []
  }
 ],
 "metadata": {
  "accelerator": "GPU",
  "colab": {
   "collapsed_sections": [],
   "name": "HFL_WSI_part2.ipynb",
   "provenance": []
  },
  "kernelspec": {
   "display_name": "tff_test_4",
   "language": "python",
   "name": "tff_test_4"
  },
  "language_info": {
   "codemirror_mode": {
    "name": "ipython",
    "version": 3
   },
   "file_extension": ".py",
   "mimetype": "text/x-python",
   "name": "python",
   "nbconvert_exporter": "python",
   "pygments_lexer": "ipython3",
   "version": "3.8.12"
  }
 },
 "nbformat": 4,
 "nbformat_minor": 1
}
