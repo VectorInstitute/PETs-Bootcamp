{
 "cells": [
  {
   "cell_type": "markdown",
   "metadata": {
    "id": "8nE0tDBgUdU0"
   },
   "source": [
    "# Outline:\n",
    "\n",
    "\n",
    "*   **Notebook 1**:\n",
    "\n",
    "  *   An overview of Federated Learning (FL)\n",
    "  *   An overview of Whole Slide Image (WSI) data\n",
    "  *   Kidney WSI data inspection and creation for HFL task\n",
    "  *   Baseline experiment on kidney patch classification\n",
    "  *   An experiment setup for comparing HFL against baseline\n",
    "\n",
    "\n",
    "*   **Notebook 2**:\n",
    "\n",
    "  *   A working example of Horizontal Federated Learning (HFL) using TensorFlow Federated on histopathology Kidney images\n",
    "      *   Tensorflow Federated dataset\n",
    "      *   Tensorflow Federated model\n",
    "      *   Tensorflow Federated computations for initialization train and validation\n",
    "  *   Comparison of FederatedAveraging against the baseline scenario"
   ]
  },
  {
   "cell_type": "markdown",
   "metadata": {
    "id": "23kgcnC82Ya9"
   },
   "source": [
    "# Notebook 2:\n",
    "## A working example of Horizontal Federated Learning (HFL) using TensorFlow Federated on histopathology Kidney images\n"
   ]
  },
  {
   "cell_type": "markdown",
   "metadata": {
    "id": "OJnPZ4eR_GNl"
   },
   "source": [
    "### Installation of packages"
   ]
  },
  {
   "cell_type": "code",
   "execution_count": 1,
   "metadata": {
    "colab": {
     "base_uri": "https://localhost:8080/"
    },
    "id": "UzCd7INb1JeI",
    "outputId": "b995c6c3-a912-4a1c-c8d9-33ac5e003942"
   },
   "outputs": [
    {
     "name": "stdout",
     "output_type": "stream",
     "text": [
      "Collecting tensorflow-federated==0.18\n",
      "  Downloading tensorflow_federated-0.18.0-py2.py3-none-any.whl (578 kB)\n",
      "\u001b[K     |████████████████████████████████| 578 kB 5.3 MB/s \n",
      "\u001b[?25hRequirement already satisfied: absl-py~=0.10 in /usr/local/lib/python3.7/dist-packages (from tensorflow-federated==0.18) (0.12.0)\n",
      "Collecting h5py~=2.10.0\n",
      "  Downloading h5py-2.10.0-cp37-cp37m-manylinux1_x86_64.whl (2.9 MB)\n",
      "\u001b[K     |████████████████████████████████| 2.9 MB 37.0 MB/s \n",
      "\u001b[?25hCollecting cachetools~=3.1.1\n",
      "  Downloading cachetools-3.1.1-py2.py3-none-any.whl (11 kB)\n",
      "Collecting tensorflow-model-optimization~=0.5.0\n",
      "  Downloading tensorflow_model_optimization-0.5.0-py2.py3-none-any.whl (172 kB)\n",
      "\u001b[K     |████████████████████████████████| 172 kB 28.0 MB/s \n",
      "\u001b[?25hRequirement already satisfied: jaxlib~=0.1.55 in /usr/local/lib/python3.7/dist-packages (from tensorflow-federated==0.18) (0.1.71+cuda111)\n",
      "Requirement already satisfied: retrying~=1.3.3 in /usr/local/lib/python3.7/dist-packages (from tensorflow-federated==0.18) (1.3.3)\n",
      "Requirement already satisfied: jax~=0.2.8 in /usr/local/lib/python3.7/dist-packages (from tensorflow-federated==0.18) (0.2.21)\n",
      "Collecting tensorflow~=2.4.0\n",
      "  Downloading tensorflow-2.4.3-cp37-cp37m-manylinux2010_x86_64.whl (394.5 MB)\n",
      "\u001b[K     |████████████████████████████████| 394.5 MB 382 bytes/s \n",
      "\u001b[?25hCollecting attrs~=19.3.0\n",
      "  Downloading attrs-19.3.0-py2.py3-none-any.whl (39 kB)\n",
      "Collecting grpcio~=1.32.0\n",
      "  Downloading grpcio-1.32.0-cp37-cp37m-manylinux2014_x86_64.whl (3.8 MB)\n",
      "\u001b[K     |████████████████████████████████| 3.8 MB 33.6 MB/s \n",
      "\u001b[?25hRequirement already satisfied: dm-tree~=0.1.1 in /usr/local/lib/python3.7/dist-packages (from tensorflow-federated==0.18) (0.1.6)\n",
      "Requirement already satisfied: portpicker~=1.3.1 in /usr/local/lib/python3.7/dist-packages (from tensorflow-federated==0.18) (1.3.9)\n",
      "Collecting tensorflow-addons~=0.12.0\n",
      "  Downloading tensorflow_addons-0.12.1-cp37-cp37m-manylinux2010_x86_64.whl (703 kB)\n",
      "\u001b[K     |████████████████████████████████| 703 kB 51.0 MB/s \n",
      "\u001b[?25hCollecting tensorflow-privacy~=0.5.0\n",
      "  Downloading tensorflow_privacy-0.5.2-py3-none-any.whl (192 kB)\n",
      "\u001b[K     |████████████████████████████████| 192 kB 44.5 MB/s \n",
      "\u001b[?25hCollecting semantic-version~=2.8.5\n",
      "  Downloading semantic_version-2.8.5-py2.py3-none-any.whl (15 kB)\n",
      "Requirement already satisfied: numpy~=1.19.2 in /usr/local/lib/python3.7/dist-packages (from tensorflow-federated==0.18) (1.19.5)\n",
      "Requirement already satisfied: six in /usr/local/lib/python3.7/dist-packages (from absl-py~=0.10->tensorflow-federated==0.18) (1.15.0)\n",
      "Requirement already satisfied: scipy>=1.2.1 in /usr/local/lib/python3.7/dist-packages (from jax~=0.2.8->tensorflow-federated==0.18) (1.4.1)\n",
      "Requirement already satisfied: opt-einsum in /usr/local/lib/python3.7/dist-packages (from jax~=0.2.8->tensorflow-federated==0.18) (3.3.0)\n",
      "Requirement already satisfied: flatbuffers<3.0,>=1.12 in /usr/local/lib/python3.7/dist-packages (from jaxlib~=0.1.55->tensorflow-federated==0.18) (1.12)\n",
      "Requirement already satisfied: astunparse~=1.6.3 in /usr/local/lib/python3.7/dist-packages (from tensorflow~=2.4.0->tensorflow-federated==0.18) (1.6.3)\n",
      "Collecting tensorflow-estimator<2.5.0,>=2.4.0\n",
      "  Downloading tensorflow_estimator-2.4.0-py2.py3-none-any.whl (462 kB)\n",
      "\u001b[K     |████████████████████████████████| 462 kB 52.5 MB/s \n",
      "\u001b[?25hCollecting gast==0.3.3\n",
      "  Downloading gast-0.3.3-py2.py3-none-any.whl (9.7 kB)\n",
      "Requirement already satisfied: termcolor~=1.1.0 in /usr/local/lib/python3.7/dist-packages (from tensorflow~=2.4.0->tensorflow-federated==0.18) (1.1.0)\n",
      "Requirement already satisfied: wrapt~=1.12.1 in /usr/local/lib/python3.7/dist-packages (from tensorflow~=2.4.0->tensorflow-federated==0.18) (1.12.1)\n",
      "Requirement already satisfied: google-pasta~=0.2 in /usr/local/lib/python3.7/dist-packages (from tensorflow~=2.4.0->tensorflow-federated==0.18) (0.2.0)\n",
      "Requirement already satisfied: wheel~=0.35 in /usr/local/lib/python3.7/dist-packages (from tensorflow~=2.4.0->tensorflow-federated==0.18) (0.37.0)\n",
      "Requirement already satisfied: typing-extensions~=3.7.4 in /usr/local/lib/python3.7/dist-packages (from tensorflow~=2.4.0->tensorflow-federated==0.18) (3.7.4.3)\n",
      "Requirement already satisfied: protobuf>=3.9.2 in /usr/local/lib/python3.7/dist-packages (from tensorflow~=2.4.0->tensorflow-federated==0.18) (3.17.3)\n",
      "Requirement already satisfied: keras-preprocessing~=1.1.2 in /usr/local/lib/python3.7/dist-packages (from tensorflow~=2.4.0->tensorflow-federated==0.18) (1.1.2)\n",
      "Requirement already satisfied: tensorboard~=2.4 in /usr/local/lib/python3.7/dist-packages (from tensorflow~=2.4.0->tensorflow-federated==0.18) (2.6.0)\n",
      "Requirement already satisfied: markdown>=2.6.8 in /usr/local/lib/python3.7/dist-packages (from tensorboard~=2.4->tensorflow~=2.4.0->tensorflow-federated==0.18) (3.3.4)\n",
      "Requirement already satisfied: setuptools>=41.0.0 in /usr/local/lib/python3.7/dist-packages (from tensorboard~=2.4->tensorflow~=2.4.0->tensorflow-federated==0.18) (57.4.0)\n",
      "Requirement already satisfied: requests<3,>=2.21.0 in /usr/local/lib/python3.7/dist-packages (from tensorboard~=2.4->tensorflow~=2.4.0->tensorflow-federated==0.18) (2.23.0)\n",
      "Requirement already satisfied: tensorboard-data-server<0.7.0,>=0.6.0 in /usr/local/lib/python3.7/dist-packages (from tensorboard~=2.4->tensorflow~=2.4.0->tensorflow-federated==0.18) (0.6.1)\n",
      "Requirement already satisfied: tensorboard-plugin-wit>=1.6.0 in /usr/local/lib/python3.7/dist-packages (from tensorboard~=2.4->tensorflow~=2.4.0->tensorflow-federated==0.18) (1.8.0)\n",
      "Requirement already satisfied: werkzeug>=0.11.15 in /usr/local/lib/python3.7/dist-packages (from tensorboard~=2.4->tensorflow~=2.4.0->tensorflow-federated==0.18) (1.0.1)\n",
      "Requirement already satisfied: google-auth<2,>=1.6.3 in /usr/local/lib/python3.7/dist-packages (from tensorboard~=2.4->tensorflow~=2.4.0->tensorflow-federated==0.18) (1.35.0)\n",
      "Requirement already satisfied: google-auth-oauthlib<0.5,>=0.4.1 in /usr/local/lib/python3.7/dist-packages (from tensorboard~=2.4->tensorflow~=2.4.0->tensorflow-federated==0.18) (0.4.6)\n",
      "Requirement already satisfied: rsa<5,>=3.1.4 in /usr/local/lib/python3.7/dist-packages (from google-auth<2,>=1.6.3->tensorboard~=2.4->tensorflow~=2.4.0->tensorflow-federated==0.18) (4.7.2)\n",
      "Requirement already satisfied: pyasn1-modules>=0.2.1 in /usr/local/lib/python3.7/dist-packages (from google-auth<2,>=1.6.3->tensorboard~=2.4->tensorflow~=2.4.0->tensorflow-federated==0.18) (0.2.8)\n",
      "Requirement already satisfied: requests-oauthlib>=0.7.0 in /usr/local/lib/python3.7/dist-packages (from google-auth-oauthlib<0.5,>=0.4.1->tensorboard~=2.4->tensorflow~=2.4.0->tensorflow-federated==0.18) (1.3.0)\n",
      "Requirement already satisfied: importlib-metadata in /usr/local/lib/python3.7/dist-packages (from markdown>=2.6.8->tensorboard~=2.4->tensorflow~=2.4.0->tensorflow-federated==0.18) (4.8.1)\n",
      "Requirement already satisfied: pyasn1<0.5.0,>=0.4.6 in /usr/local/lib/python3.7/dist-packages (from pyasn1-modules>=0.2.1->google-auth<2,>=1.6.3->tensorboard~=2.4->tensorflow~=2.4.0->tensorflow-federated==0.18) (0.4.8)\n",
      "Requirement already satisfied: chardet<4,>=3.0.2 in /usr/local/lib/python3.7/dist-packages (from requests<3,>=2.21.0->tensorboard~=2.4->tensorflow~=2.4.0->tensorflow-federated==0.18) (3.0.4)\n",
      "Requirement already satisfied: idna<3,>=2.5 in /usr/local/lib/python3.7/dist-packages (from requests<3,>=2.21.0->tensorboard~=2.4->tensorflow~=2.4.0->tensorflow-federated==0.18) (2.10)\n",
      "Requirement already satisfied: urllib3!=1.25.0,!=1.25.1,<1.26,>=1.21.1 in /usr/local/lib/python3.7/dist-packages (from requests<3,>=2.21.0->tensorboard~=2.4->tensorflow~=2.4.0->tensorflow-federated==0.18) (1.24.3)\n",
      "Requirement already satisfied: certifi>=2017.4.17 in /usr/local/lib/python3.7/dist-packages (from requests<3,>=2.21.0->tensorboard~=2.4->tensorflow~=2.4.0->tensorflow-federated==0.18) (2021.5.30)\n",
      "Requirement already satisfied: oauthlib>=3.0.0 in /usr/local/lib/python3.7/dist-packages (from requests-oauthlib>=0.7.0->google-auth-oauthlib<0.5,>=0.4.1->tensorboard~=2.4->tensorflow~=2.4.0->tensorflow-federated==0.18) (3.1.1)\n",
      "Requirement already satisfied: typeguard>=2.7 in /usr/local/lib/python3.7/dist-packages (from tensorflow-addons~=0.12.0->tensorflow-federated==0.18) (2.7.1)\n",
      "Requirement already satisfied: mpmath in /usr/local/lib/python3.7/dist-packages (from tensorflow-privacy~=0.5.0->tensorflow-federated==0.18) (1.2.1)\n",
      "Requirement already satisfied: zipp>=0.5 in /usr/local/lib/python3.7/dist-packages (from importlib-metadata->markdown>=2.6.8->tensorboard~=2.4->tensorflow~=2.4.0->tensorflow-federated==0.18) (3.6.0)\n",
      "Installing collected packages: cachetools, grpcio, tensorflow-estimator, h5py, gast, tensorflow-privacy, tensorflow-model-optimization, tensorflow-addons, tensorflow, semantic-version, attrs, tensorflow-federated\n",
      "  Attempting uninstall: cachetools\n",
      "    Found existing installation: cachetools 4.2.4\n",
      "    Uninstalling cachetools-4.2.4:\n",
      "      Successfully uninstalled cachetools-4.2.4\n",
      "  Attempting uninstall: grpcio\n",
      "    Found existing installation: grpcio 1.41.0\n",
      "    Uninstalling grpcio-1.41.0:\n",
      "      Successfully uninstalled grpcio-1.41.0\n",
      "  Attempting uninstall: tensorflow-estimator\n",
      "    Found existing installation: tensorflow-estimator 2.6.0\n",
      "    Uninstalling tensorflow-estimator-2.6.0:\n",
      "      Successfully uninstalled tensorflow-estimator-2.6.0\n",
      "  Attempting uninstall: h5py\n",
      "    Found existing installation: h5py 3.1.0\n",
      "    Uninstalling h5py-3.1.0:\n",
      "      Successfully uninstalled h5py-3.1.0\n",
      "  Attempting uninstall: gast\n",
      "    Found existing installation: gast 0.4.0\n",
      "    Uninstalling gast-0.4.0:\n",
      "      Successfully uninstalled gast-0.4.0\n",
      "  Attempting uninstall: tensorflow\n",
      "    Found existing installation: tensorflow 2.6.0\n",
      "    Uninstalling tensorflow-2.6.0:\n",
      "      Successfully uninstalled tensorflow-2.6.0\n",
      "  Attempting uninstall: attrs\n",
      "    Found existing installation: attrs 21.2.0\n",
      "    Uninstalling attrs-21.2.0:\n",
      "      Successfully uninstalled attrs-21.2.0\n",
      "\u001b[31mERROR: pip's dependency resolver does not currently take into account all the packages that are installed. This behaviour is the source of the following dependency conflicts.\n",
      "pymc3 3.11.4 requires cachetools>=4.2.1, but you have cachetools 3.1.1 which is incompatible.\n",
      "datascience 0.10.6 requires folium==0.2.1, but you have folium 0.8.3 which is incompatible.\u001b[0m\n",
      "Successfully installed attrs-19.3.0 cachetools-3.1.1 gast-0.3.3 grpcio-1.32.0 h5py-2.10.0 semantic-version-2.8.5 tensorflow-2.4.3 tensorflow-addons-0.12.1 tensorflow-estimator-2.4.0 tensorflow-federated-0.18.0 tensorflow-model-optimization-0.5.0 tensorflow-privacy-0.5.2\n",
      "Requirement already satisfied: nest_asyncio in /usr/local/lib/python3.7/dist-packages (1.5.1)\n"
     ]
    }
   ],
   "source": [
    "!pip install tensorflow-federated==0.18\n",
    "!pip install nest_asyncio\n"
   ]
  },
  {
   "cell_type": "markdown",
   "metadata": {
    "id": "NxQ0kI1k_cS2"
   },
   "source": [
    "### Importing Required Packages:"
   ]
  },
  {
   "cell_type": "code",
   "execution_count": 2,
   "metadata": {
    "id": "c5RzkuLS9mWe"
   },
   "outputs": [],
   "source": [
    "import nest_asyncio\n",
    "nest_asyncio.apply()\n",
    "\n",
    "import glob\n",
    "import pandas as pd\n",
    "import os\n",
    "import numpy as np\n",
    "import matplotlib.pyplot as plt\n",
    "import collections\n",
    "import tensorflow as tf\n",
    "import tensorflow_federated as tff\n",
    "\n",
    "\n",
    "from tensorflow import keras\n",
    "from tensorflow.keras import layers\n",
    "from tensorflow.keras.models import Sequential\n",
    "from tensorflow.keras.layers import Dense, GlobalAveragePooling2D\n",
    "from tensorflow.keras.models import Model\n",
    "from tensorflow.keras.optimizers import SGD"
   ]
  },
  {
   "cell_type": "markdown",
   "metadata": {
    "id": "1GkcY9c0-sL1"
   },
   "source": [
    "# Data Loading:\n",
    "\n",
    "To load the necessary files, specify the \"path\" variable to be the path to the folder that contains the following files:  \n",
    "* HFL_kidney.csv\n",
    "* HFL_dict_data.npy \n",
    "* tissue_source_site_data.xlsx\n",
    "* history_fed_train_id_0_2_3_test_id_1.npy\n",
    "* my_history_train_id_0_test_id_1.npy\n",
    "* my_history_train_id_2_test_id_1.npy\n",
    "* my_history_train_id_3_test_id_1.npy\n",
    "\n",
    "We already created a dictionary with for key and value pairs for kideny images from the four mentioned hospitals. Each value in dictionary is a tuple of normalized images (normalized to [0-1]  range) and the associated labels for possible three disease types."
   ]
  },
  {
   "cell_type": "code",
   "execution_count": 6,
   "metadata": {
    "id": "W0HdJosL87Ol"
   },
   "outputs": [],
   "source": [
    "# Base path to the folder that contains the following files:  HFL_kidney.csv, HFL_dict_data.npy,  tissue_source_site_data.xlsx, history_fed_train_id_0_2_3_test_id_1.npy,  my_history_train_id_0_test_id_1.npy, my_history_train_id_2_test_id_1.npy, and my_history_train_id_3_test_id_1.npy.\n",
    "path='/ssd003/projects/pets/datasets'\n",
    "# Load the meta-data of Kidney dataset\n",
    "df = pd.read_csv(path+'/HFL_kidney.csv')\n",
    "data=np.load(path+'/HFL_dict_data.npy',allow_pickle='TRUE').item() # data[0] return the image-lable tuple for hospital number 0"
   ]
  },
  {
   "cell_type": "markdown",
   "metadata": {
    "id": "BJNZpgarAmNX"
   },
   "source": [
    "## Creating Federated Data:\n",
    "The function `tff.simulation.ClientData.from_clients_and_fn`, requires that we write a function that accepts a `client_id` as input and returns a `tf.data.Dataset`. Let's do that in the helper function below: "
   ]
  },
  {
   "cell_type": "code",
   "execution_count": 7,
   "metadata": {
    "id": "HnfZB3Sr-iaA"
   },
   "outputs": [],
   "source": [
    "\n",
    "batch_size=64\n",
    "SHUFFLE_BUFFER=128\n",
    "def create_tf_dataset_for_client_fn(client_id):\n",
    "    client_data = data[client_id]\n",
    "    dataset=tf.data.Dataset.from_tensor_slices((client_data[0], client_data[1])).prefetch(buffer_size=128)  #client_data[0] is images,   client_data[1] is labels\n",
    "    dataset=dataset.shuffle(2000, reshuffle_each_iteration=True).batch(batch_size)\n",
    "    \n",
    "    return dataset\n"
   ]
  },
  {
   "cell_type": "markdown",
   "metadata": {
    "id": "nN5tCuoIFH8u"
   },
   "source": [
    "Now, let's create the training and testing federated data. There are 4 hospitals in our data. We use data of 3 hospitals for training and 1 hospital for testing."
   ]
  },
  {
   "cell_type": "code",
   "execution_count": 9,
   "metadata": {
    "id": "4FymhW7t-uKi"
   },
   "outputs": [],
   "source": [
    "\n",
    "train_client_ids=[0,2,3]\n",
    "test_client_ids=[1]\n",
    "\n",
    "\n",
    "train_data = tff.simulation.ClientData.from_clients_and_fn(client_ids=train_client_ids,   create_tf_dataset_for_client_fn=create_tf_dataset_for_client_fn)\n",
    "test_data = tff.simulation.ClientData.from_clients_and_fn(\n",
    "        client_ids=test_client_ids,\n",
    "        create_tf_dataset_for_client_fn=create_tf_dataset_for_client_fn)\n",
    "\n",
    "\n"
   ]
  },
  {
   "cell_type": "markdown",
   "metadata": {
    "id": "xTbwCJ7uHF92"
   },
   "source": [
    "Let's see number of the clients for training federated data and also the sructure of data:"
   ]
  },
  {
   "cell_type": "code",
   "execution_count": null,
   "metadata": {
    "colab": {
     "base_uri": "https://localhost:8080/"
    },
    "id": "GQ1Qf20rQGg2",
    "outputId": "643b111a-0d16-4e4e-972a-e03e0f6ab65f"
   },
   "outputs": [
    {
     "data": {
      "text/plain": [
       "3"
      ]
     },
     "execution_count": 17,
     "metadata": {},
     "output_type": "execute_result"
    }
   ],
   "source": [
    "len(train_data.client_ids)"
   ]
  },
  {
   "cell_type": "code",
   "execution_count": null,
   "metadata": {
    "colab": {
     "base_uri": "https://localhost:8080/"
    },
    "id": "a_Oi4uxgQMJ_",
    "outputId": "db8a5dc1-08e1-4ec7-ccaa-839413d81dd2"
   },
   "outputs": [
    {
     "data": {
      "text/plain": [
       "(TensorSpec(shape=(None, 224, 224, 3), dtype=tf.float16, name=None),\n",
       " TensorSpec(shape=(None, 3), dtype=tf.float64, name=None))"
      ]
     },
     "execution_count": 18,
     "metadata": {},
     "output_type": "execute_result"
    }
   ],
   "source": [
    "train_data.element_type_structure"
   ]
  },
  {
   "cell_type": "markdown",
   "metadata": {
    "id": "Z1nbpGYuGsKX"
   },
   "source": [
    "To see exactly how one batch od data look like we create the following example dataset from one the client ids of train federated data:"
   ]
  },
  {
   "cell_type": "code",
   "execution_count": null,
   "metadata": {
    "colab": {
     "base_uri": "https://localhost:8080/"
    },
    "id": "zgW8MDejGRQ3",
    "outputId": "53fca16a-78a6-4853-b588-d8d0541cffb3"
   },
   "outputs": [
    {
     "name": "stdout",
     "output_type": "stream",
     "text": [
      "(<tf.Tensor: shape=(64, 224, 224, 3), dtype=float16, numpy=\n",
      "array([[[[0.749 , 0.6665, 0.816 ],\n",
      "         [0.7803, 0.6943, 0.859 ],\n",
      "         [0.8   , 0.6943, 0.89  ],\n",
      "         ...,\n",
      "         [0.6743, 0.4626, 0.7334],\n",
      "         [0.6943, 0.4824, 0.745 ],\n",
      "         [0.7217, 0.51  , 0.7646]],\n",
      "\n",
      "        [[0.7803, 0.702 , 0.8667],\n",
      "         [0.792 , 0.71  , 0.886 ],\n",
      "         [0.7803, 0.686 , 0.898 ],\n",
      "         ...,\n",
      "         [0.678 , 0.4785, 0.741 ],\n",
      "         [0.6943, 0.4902, 0.741 ],\n",
      "         [0.714 , 0.5137, 0.757 ]],\n",
      "\n",
      "        [[0.7764, 0.71  , 0.9097],\n",
      "         [0.784 , 0.71  , 0.9253],\n",
      "         [0.7725, 0.6904, 0.933 ],\n",
      "         ...,\n",
      "         [0.714 , 0.5293, 0.7725],\n",
      "         [0.7295, 0.541 , 0.7725],\n",
      "         [0.741 , 0.5527, 0.7803]],\n",
      "\n",
      "        ...,\n",
      "\n",
      "        [[0.7764, 0.6743, 0.816 ],\n",
      "         [0.816 , 0.7256, 0.851 ],\n",
      "         [0.851 , 0.7686, 0.8667],\n",
      "         ...,\n",
      "         [0.757 , 0.655 , 0.8667],\n",
      "         [0.749 , 0.6274, 0.8276],\n",
      "         [0.7646, 0.639 , 0.8315]],\n",
      "\n",
      "        [[0.796 , 0.698 , 0.8315],\n",
      "         [0.8354, 0.749 , 0.863 ],\n",
      "         [0.8784, 0.8   , 0.89  ],\n",
      "         ...,\n",
      "         [0.757 , 0.651 , 0.8706],\n",
      "         [0.749 , 0.6235, 0.8354],\n",
      "         [0.7646, 0.6353, 0.8354]],\n",
      "\n",
      "        [[0.8315, 0.7373, 0.863 ],\n",
      "         [0.8745, 0.788 , 0.898 ],\n",
      "         [0.9136, 0.8354, 0.9253],\n",
      "         ...,\n",
      "         [0.757 , 0.651 , 0.8706],\n",
      "         [0.749 , 0.6235, 0.8394],\n",
      "         [0.7686, 0.6353, 0.847 ]]],\n",
      "\n",
      "\n",
      "       [[[0.6743, 0.5137, 0.8076],\n",
      "         [0.647 , 0.4863, 0.7803],\n",
      "         [0.608 , 0.451 , 0.7334],\n",
      "         ...,\n",
      "         [0.6943, 0.4746, 0.6353],\n",
      "         [0.7646, 0.5215, 0.678 ],\n",
      "         [0.8037, 0.545 , 0.706 ]],\n",
      "\n",
      "        [[0.639 , 0.4785, 0.7725],\n",
      "         [0.5806, 0.4236, 0.706 ],\n",
      "         [0.565 , 0.408 , 0.6904],\n",
      "         ...,\n",
      "         [0.753 , 0.545 , 0.698 ],\n",
      "         [0.8237, 0.5923, 0.741 ],\n",
      "         [0.9766, 0.7373, 0.886 ]],\n",
      "\n",
      "        [[0.5806, 0.4119, 0.698 ],\n",
      "         [0.5728, 0.408 , 0.686 ],\n",
      "         [0.6157, 0.451 , 0.7295],\n",
      "         ...,\n",
      "         [0.7686, 0.5845, 0.714 ],\n",
      "         [0.796 , 0.6   , 0.7256],\n",
      "         [1.    , 0.8115, 0.9414]],\n",
      "\n",
      "        ...,\n",
      "\n",
      "        [[0.9805, 0.9097, 1.    ],\n",
      "         [0.6313, 0.537 , 0.6943],\n",
      "         [0.4941, 0.353 , 0.5176],\n",
      "         ...,\n",
      "         [0.714 , 0.612 , 0.8237],\n",
      "         [0.5728, 0.4548, 0.7334],\n",
      "         [0.565 , 0.443 , 0.753 ]],\n",
      "\n",
      "        [[0.902 , 0.859 , 1.    ],\n",
      "         [0.6626, 0.5923, 0.745 ],\n",
      "         [0.451 , 0.3333, 0.4941],\n",
      "         ...,\n",
      "         [0.5605, 0.4746, 0.706 ],\n",
      "         [0.549 , 0.4158, 0.718 ],\n",
      "         [0.533 , 0.3804, 0.718 ]],\n",
      "\n",
      "        [[0.8354, 0.8076, 0.953 ],\n",
      "         [0.718 , 0.6665, 0.816 ],\n",
      "         [0.443 , 0.3372, 0.4941],\n",
      "         ...,\n",
      "         [0.506 , 0.4236, 0.6665],\n",
      "         [0.6   , 0.4587, 0.7803],\n",
      "         [0.596 , 0.4275, 0.784 ]]],\n",
      "\n",
      "\n",
      "       [[[0.4158, 0.255 , 0.3647],\n",
      "         [0.392 , 0.2196, 0.3333],\n",
      "         [0.4314, 0.251 , 0.3647],\n",
      "         ...,\n",
      "         [0.4314, 0.1647, 0.349 ],\n",
      "         [0.4275, 0.153 , 0.3608],\n",
      "         [0.4902, 0.2235, 0.4392]],\n",
      "\n",
      "        [[0.4119, 0.2313, 0.3452],\n",
      "         [0.349 , 0.1686, 0.2825],\n",
      "         [0.3647, 0.1686, 0.2864],\n",
      "         ...,\n",
      "         [0.4626, 0.1843, 0.353 ],\n",
      "         [0.451 , 0.1765, 0.3608],\n",
      "         [0.502 , 0.2313, 0.4275]],\n",
      "\n",
      "        [[0.4626, 0.2627, 0.3726],\n",
      "         [0.357 , 0.1569, 0.2666],\n",
      "         [0.3137, 0.102 , 0.2157],\n",
      "         ...,\n",
      "         [0.545 , 0.2705, 0.392 ],\n",
      "         [0.5884, 0.3137, 0.4548],\n",
      "         [0.6587, 0.3843, 0.5293]],\n",
      "\n",
      "        ...,\n",
      "\n",
      "        [[0.5605, 0.3176, 0.639 ],\n",
      "         [0.498 , 0.2588, 0.5728],\n",
      "         [0.4314, 0.196 , 0.502 ],\n",
      "         ...,\n",
      "         [0.608 , 0.4392, 0.6157],\n",
      "         [0.608 , 0.451 , 0.612 ],\n",
      "         [0.5254, 0.3804, 0.5293]],\n",
      "\n",
      "        [[0.4707, 0.2157, 0.5527],\n",
      "         [0.4392, 0.1843, 0.5176],\n",
      "         [0.4197, 0.1726, 0.4863],\n",
      "         ...,\n",
      "         [0.4275, 0.2588, 0.4353],\n",
      "         [0.4707, 0.3098, 0.51  ],\n",
      "         [0.4353, 0.2825, 0.4863]],\n",
      "\n",
      "        [[0.4666, 0.2079, 0.5566],\n",
      "         [0.4314, 0.1765, 0.5137],\n",
      "         [0.4392, 0.1804, 0.502 ],\n",
      "         ...,\n",
      "         [0.541 , 0.3726, 0.549 ],\n",
      "         [0.541 , 0.3765, 0.5923],\n",
      "         [0.4236, 0.2666, 0.4941]]],\n",
      "\n",
      "\n",
      "       ...,\n",
      "\n",
      "\n",
      "       [[[0.655 , 0.4902, 0.6743],\n",
      "         [0.4666, 0.302 , 0.4863],\n",
      "         [0.3608, 0.1765, 0.3687],\n",
      "         ...,\n",
      "         [0.6665, 0.498 , 0.6665],\n",
      "         [0.7607, 0.604 , 0.7646],\n",
      "         [0.8276, 0.6704, 0.8315]],\n",
      "\n",
      "        [[0.686 , 0.5137, 0.698 ],\n",
      "         [0.498 , 0.3176, 0.502 ],\n",
      "         [0.4587, 0.2705, 0.4587],\n",
      "         ...,\n",
      "         [0.8076, 0.647 , 0.8237],\n",
      "         [0.8237, 0.6626, 0.8394],\n",
      "         [0.8315, 0.678 , 0.855 ]],\n",
      "\n",
      "        [[0.647 , 0.4548, 0.6353],\n",
      "         [0.5254, 0.3333, 0.5137],\n",
      "         [0.6235, 0.4197, 0.604 ],\n",
      "         ...,\n",
      "         [0.7686, 0.6196, 0.816 ],\n",
      "         [0.753 , 0.604 , 0.8   ],\n",
      "         [0.7725, 0.6235, 0.82  ]],\n",
      "\n",
      "        ...,\n",
      "\n",
      "        [[0.706 , 0.6274, 0.7646],\n",
      "         [0.698 , 0.604 , 0.741 ],\n",
      "         [0.7256, 0.604 , 0.757 ],\n",
      "         ...,\n",
      "         [0.792 , 0.7217, 0.8115],\n",
      "         [0.784 , 0.6743, 0.792 ],\n",
      "         [0.7607, 0.6313, 0.7646]],\n",
      "\n",
      "        [[0.714 , 0.6313, 0.7607],\n",
      "         [0.643 , 0.549 , 0.686 ],\n",
      "         [0.639 , 0.5176, 0.6704],\n",
      "         ...,\n",
      "         [0.8315, 0.7607, 0.851 ],\n",
      "         [0.8   , 0.678 , 0.8   ],\n",
      "         [0.7646, 0.6274, 0.7607]],\n",
      "\n",
      "        [[0.71  , 0.6274, 0.757 ],\n",
      "         [0.596 , 0.502 , 0.639 ],\n",
      "         [0.5806, 0.4587, 0.612 ],\n",
      "         ...,\n",
      "         [0.9175, 0.851 , 0.933 ],\n",
      "         [0.859 , 0.7334, 0.855 ],\n",
      "         [0.8076, 0.6626, 0.796 ]]],\n",
      "\n",
      "\n",
      "       [[[0.443 , 0.2783, 0.4   ],\n",
      "         [0.4275, 0.2588, 0.3882],\n",
      "         [0.4197, 0.2471, 0.3882],\n",
      "         ...,\n",
      "         [0.647 , 0.5293, 0.604 ],\n",
      "         [0.7295, 0.604 , 0.678 ],\n",
      "         [0.8   , 0.6743, 0.741 ]],\n",
      "\n",
      "        [[0.4548, 0.2783, 0.408 ],\n",
      "         [0.4626, 0.2942, 0.4236],\n",
      "         [0.4548, 0.2744, 0.4158],\n",
      "         ...,\n",
      "         [0.6665, 0.541 , 0.6157],\n",
      "         [0.7256, 0.6   , 0.6743],\n",
      "         [0.7764, 0.651 , 0.718 ]],\n",
      "\n",
      "        [[0.4785, 0.2903, 0.4314],\n",
      "         [0.4863, 0.306 , 0.447 ],\n",
      "         [0.4626, 0.2744, 0.4158],\n",
      "         ...,\n",
      "         [0.686 , 0.549 , 0.6274],\n",
      "         [0.749 , 0.612 , 0.6904],\n",
      "         [0.8037, 0.6704, 0.7373]],\n",
      "\n",
      "        ...,\n",
      "\n",
      "        [[0.929 , 0.9253, 0.933 ],\n",
      "         [0.929 , 0.9253, 0.933 ],\n",
      "         [0.929 , 0.9253, 0.933 ],\n",
      "         ...,\n",
      "         [0.859 , 0.8784, 0.9766],\n",
      "         [0.5845, 0.5923, 0.749 ],\n",
      "         [0.4666, 0.4785, 0.655 ]],\n",
      "\n",
      "        [[0.9253, 0.9214, 0.929 ],\n",
      "         [0.9253, 0.9214, 0.929 ],\n",
      "         [0.9253, 0.9214, 0.929 ],\n",
      "         ...,\n",
      "         [0.8667, 0.898 , 1.    ],\n",
      "         [0.5527, 0.5728, 0.7646],\n",
      "         [0.3647, 0.3804, 0.612 ]],\n",
      "\n",
      "        [[0.9253, 0.9214, 0.929 ],\n",
      "         [0.9253, 0.9214, 0.929 ],\n",
      "         [0.9253, 0.9214, 0.929 ],\n",
      "         ...,\n",
      "         [0.6943, 0.7295, 0.859 ],\n",
      "         [0.4392, 0.4587, 0.6743],\n",
      "         [0.4038, 0.4197, 0.6743]]],\n",
      "\n",
      "\n",
      "       [[[0.3215, 0.1294, 0.1372],\n",
      "         [0.2942, 0.098 , 0.1137],\n",
      "         [0.2864, 0.0863, 0.1177],\n",
      "         ...,\n",
      "         [0.51  , 0.341 , 0.541 ],\n",
      "         [0.298 , 0.1372, 0.3137],\n",
      "         [0.4236, 0.2666, 0.4314]],\n",
      "\n",
      "        [[0.3137, 0.1137, 0.1412],\n",
      "         [0.2942, 0.0941, 0.1216],\n",
      "         [0.2744, 0.0706, 0.1098],\n",
      "         ...,\n",
      "         [0.51  , 0.341 , 0.541 ],\n",
      "         [0.3254, 0.1647, 0.341 ],\n",
      "         [0.4119, 0.255 , 0.4197]],\n",
      "\n",
      "        [[0.3176, 0.1216, 0.1686],\n",
      "         [0.302 , 0.1059, 0.153 ],\n",
      "         [0.2744, 0.0706, 0.1372],\n",
      "         ...,\n",
      "         [0.4902, 0.3098, 0.5137],\n",
      "         [0.3333, 0.1647, 0.341 ],\n",
      "         [0.3765, 0.2079, 0.3765]],\n",
      "\n",
      "        ...,\n",
      "\n",
      "        [[0.4746, 0.255 , 0.51  ],\n",
      "         [0.4746, 0.255 , 0.51  ],\n",
      "         [0.4666, 0.251 , 0.498 ],\n",
      "         ...,\n",
      "         [0.396 , 0.2118, 0.4548],\n",
      "         [0.4197, 0.2354, 0.4785],\n",
      "         [0.451 , 0.2666, 0.51  ]],\n",
      "\n",
      "        [[0.5176, 0.306 , 0.569 ],\n",
      "         [0.498 , 0.2864, 0.541 ],\n",
      "         [0.4785, 0.2705, 0.5176],\n",
      "         ...,\n",
      "         [0.4548, 0.2825, 0.5215],\n",
      "         [0.443 , 0.2705, 0.51  ],\n",
      "         [0.4314, 0.2588, 0.498 ]],\n",
      "\n",
      "        [[0.5605, 0.349 , 0.612 ],\n",
      "         [0.5215, 0.3098, 0.565 ],\n",
      "         [0.4824, 0.2705, 0.5254],\n",
      "         ...,\n",
      "         [0.5137, 0.341 , 0.5806],\n",
      "         [0.4902, 0.3176, 0.5566],\n",
      "         [0.4707, 0.298 , 0.537 ]]]], dtype=float16)>, <tf.Tensor: shape=(64, 3), dtype=float64, numpy=\n",
      "array([[1., 0., 0.],\n",
      "       [0., 1., 0.],\n",
      "       [0., 0., 1.],\n",
      "       [0., 0., 1.],\n",
      "       [0., 0., 1.],\n",
      "       [1., 0., 0.],\n",
      "       [0., 0., 1.],\n",
      "       [0., 0., 1.],\n",
      "       [0., 0., 1.],\n",
      "       [0., 1., 0.],\n",
      "       [0., 0., 1.],\n",
      "       [0., 0., 1.],\n",
      "       [0., 1., 0.],\n",
      "       [0., 0., 1.],\n",
      "       [0., 1., 0.],\n",
      "       [1., 0., 0.],\n",
      "       [1., 0., 0.],\n",
      "       [0., 1., 0.],\n",
      "       [0., 1., 0.],\n",
      "       [1., 0., 0.],\n",
      "       [1., 0., 0.],\n",
      "       [0., 0., 1.],\n",
      "       [1., 0., 0.],\n",
      "       [0., 0., 1.],\n",
      "       [0., 1., 0.],\n",
      "       [0., 1., 0.],\n",
      "       [0., 1., 0.],\n",
      "       [0., 1., 0.],\n",
      "       [0., 0., 1.],\n",
      "       [0., 0., 1.],\n",
      "       [0., 1., 0.],\n",
      "       [1., 0., 0.],\n",
      "       [0., 0., 1.],\n",
      "       [1., 0., 0.],\n",
      "       [1., 0., 0.],\n",
      "       [0., 1., 0.],\n",
      "       [0., 0., 1.],\n",
      "       [0., 1., 0.],\n",
      "       [0., 1., 0.],\n",
      "       [1., 0., 0.],\n",
      "       [0., 1., 0.],\n",
      "       [0., 1., 0.],\n",
      "       [0., 0., 1.],\n",
      "       [0., 1., 0.],\n",
      "       [0., 1., 0.],\n",
      "       [0., 1., 0.],\n",
      "       [0., 0., 1.],\n",
      "       [0., 1., 0.],\n",
      "       [0., 1., 0.],\n",
      "       [0., 0., 1.],\n",
      "       [1., 0., 0.],\n",
      "       [1., 0., 0.],\n",
      "       [1., 0., 0.],\n",
      "       [0., 1., 0.],\n",
      "       [0., 0., 1.],\n",
      "       [0., 0., 1.],\n",
      "       [0., 0., 1.],\n",
      "       [0., 0., 1.],\n",
      "       [1., 0., 0.],\n",
      "       [0., 0., 1.],\n",
      "       [1., 0., 0.],\n",
      "       [0., 1., 0.],\n",
      "       [0., 0., 1.],\n",
      "       [0., 0., 1.]])>)\n"
     ]
    }
   ],
   "source": [
    "example_dataset = train_data.create_tf_dataset_for_client(\n",
    "        train_data.client_ids[0]\n",
    "    )\n",
    "#print(example_dataset)\n",
    "example_element = iter(example_dataset).next()\n",
    "print(example_element)"
   ]
  },
  {
   "cell_type": "markdown",
   "metadata": {
    "id": "G0RetA4YfIQL"
   },
   "source": [
    "We now have almost all the building blocks in place to construct federated datasets.\n",
    "\n",
    "One of the ways to feed federated data to TFF in a simulation is simply as a Python list, with each element of the list holding the data of an individual user, as a `tf.data.Dataset`. Since we already have an interface for that, let's use it.\n",
    "\n",
    "The helper function `make_federated_data` below will construct a list of datasets from the\n",
    "given set of users as an input to a round of training or evaluation."
   ]
  },
  {
   "cell_type": "code",
   "execution_count": null,
   "metadata": {
    "id": "uq8HOnoyQ-ss"
   },
   "outputs": [],
   "source": [
    "def make_federated_data(client_data, client_ids):\n",
    "    return [client_data.create_tf_dataset_for_client(x) for x in client_ids]"
   ]
  },
  {
   "cell_type": "code",
   "execution_count": null,
   "metadata": {
    "colab": {
     "base_uri": "https://localhost:8080/"
    },
    "id": "JrUw1guMj52E",
    "outputId": "2df2f95a-49d7-4d03-b0f7-acd73ab74dd1"
   },
   "outputs": [
    {
     "name": "stdout",
     "output_type": "stream",
     "text": [
      "Number of client datasets: 3\n",
      "First dataset: <BatchDataset shapes: ((None, 224, 224, 3), (None, 3)), types: (tf.float16, tf.float64)>\n"
     ]
    }
   ],
   "source": [
    "federated_train_data = make_federated_data(train_data, train_client_ids)\n",
    "print('Number of client datasets: {l}'.format(l=len(federated_train_data)))\n",
    "print('First dataset: {d}'.format(d=federated_train_data[0]))"
   ]
  },
  {
   "cell_type": "markdown",
   "metadata": {
    "id": "ExQL-K9kfgxF"
   },
   "source": [
    "## Tensorflow Federated model\n",
    "Firat we create a model with Keras (which is the same CNN model that we created in notebook 1):\n"
   ]
  },
  {
   "cell_type": "code",
   "execution_count": null,
   "metadata": {
    "id": "FFCPMExUfSlW"
   },
   "outputs": [],
   "source": [
    "num_classes = 3\n",
    "img_height=224\n",
    "img_width=224\n",
    "def create_keras_model():\n",
    "    model = Sequential([\n",
    "      layers.Conv2D(16, 3, padding='same', activation='relu',input_shape=(img_height, img_width, 3)),\n",
    "      layers.MaxPooling2D(),\n",
    "      layers.Conv2D(32, 3, padding='same', activation='relu'),\n",
    "      layers.MaxPooling2D(),\n",
    "      layers.Conv2D(64, 3, padding='same', activation='relu'),\n",
    "      layers.MaxPooling2D(),\n",
    "      layers.Flatten(),\n",
    "      layers.Dense(128, activation='relu'),\n",
    "      layers.Dense(num_classes,activation='softmax')\n",
    "    ])\n",
    "    \n",
    "    return model"
   ]
  },
  {
   "cell_type": "markdown",
   "metadata": {
    "id": "oYLnYUoqgNlV"
   },
   "source": [
    "Note that we do not compile the model yet. The loss, metrics, and optimizers are introduced later.\n",
    "\n",
    "If you have a Keras model like the one we've just defined above, you can have TFF wrap it for you by invoking\n",
    "`tff.learning.from_keras_model`, passing the model and a sample data batch as\n",
    "arguments (`input_spec=example_dataset.element_spec`), as shown below.\n"
   ]
  },
  {
   "cell_type": "code",
   "execution_count": null,
   "metadata": {
    "id": "1PUqDNN5f0ap"
   },
   "outputs": [],
   "source": [
    "# We _must_ create a new model here, and _not_ capture it from an external\n",
    "# scope. TFF will call this within different graph contexts.\n",
    "def model_fn():\n",
    "    keras_model = create_keras_model()\n",
    "\n",
    "    return tff.learning.from_keras_model(\n",
    "            keras_model,\n",
    "            input_spec=example_dataset.element_spec,\n",
    "            loss=tf.keras.losses.CategoricalCrossentropy(),\n",
    "            metrics=[tf.keras.metrics.CategoricalAccuracy(),tf.keras.metrics.AUC(name='AUC')])\n",
    "\n",
    "\n"
   ]
  },
  {
   "cell_type": "markdown",
   "metadata": {
    "id": "JDelj8XulaUF"
   },
   "source": [
    "The model_fn is a no-arg function that returns a `tff.learning.Model`. "
   ]
  },
  {
   "cell_type": "markdown",
   "metadata": {
    "id": "NBAe9eMvhIcf"
   },
   "source": [
    "### Training the model on federated data \n",
    "\n",
    "Now that we have a model wrapped as `tff.learning.Model` for use with TFF, we\n",
    "can let TFF construct a **Federated Averaging** algorithm by invoking the helper\n",
    "function `tff.learning.build_federated_averaging_process`, as follows.\n",
    "\n",
    "One critical note on the Federated Averaging algorithm below, there are **2**\n",
    "optimizers: a _client_optimizer_ and a _server_optimizer_. The\n",
    "_client_optimizer_ is only used to compute local model updates on each client.\n",
    "The _server_optimizer_ applies the averaged update to the global model at the\n",
    "server. In particular, this means that the choice of optimizer and learning rate\n",
    "used may need to be different than the ones you have used to train the model on\n",
    "a standard i.i.d. dataset.\n",
    "\n"
   ]
  },
  {
   "cell_type": "code",
   "execution_count": null,
   "metadata": {
    "id": "IjB_sD5egibj"
   },
   "outputs": [],
   "source": [
    "iterative_process = tff.learning.build_federated_averaging_process(\n",
    "    model_fn,\n",
    "    client_optimizer_fn=lambda: tf.keras.optimizers.SGD(learning_rate=0.01),\n",
    "    server_optimizer_fn=lambda: tf.keras.optimizers.SGD(learning_rate=0.05))"
   ]
  },
  {
   "cell_type": "markdown",
   "metadata": {
    "id": "i-YmVZuGhnI4"
   },
   "source": [
    "In this case, the two computations generated and packed into iterative_process implement Federated Averaging.\n",
    "\n",
    "Let's start with the `initialize` computation. As is the case for all federated\n",
    "computations, you can think of it as a function. The computation takes no\n",
    "arguments, and returns one result - the representation of the state of the\n",
    "Federated Averaging process on the server. While we don't want to dive into the\n",
    "details of TFF, it may be instructive to see what this state looks like. You can\n",
    "visualize it as follows."
   ]
  },
  {
   "cell_type": "code",
   "execution_count": null,
   "metadata": {
    "colab": {
     "base_uri": "https://localhost:8080/",
     "height": 53
    },
    "id": "Eb5OLh1ohRkm",
    "outputId": "119b6bd6-2e1c-4022-aa68-11c0d9d14861"
   },
   "outputs": [
    {
     "data": {
      "application/vnd.google.colaboratory.intrinsic+json": {
       "type": "string"
      },
      "text/plain": [
       "'( -> <model=<trainable=<float32[3,3,3,16],float32[16],float32[3,3,16,32],float32[32],float32[3,3,32,64],float32[64],float32[50176,128],float32[128],float32[128,3],float32[3]>,non_trainable=<>>,optimizer_state=<int64>,delta_aggregate_state=<value_sum_process=<>,weight_sum_process=<>>,model_broadcast_state=<>>@SERVER)'"
      ]
     },
     "execution_count": 25,
     "metadata": {},
     "output_type": "execute_result"
    }
   ],
   "source": [
    "str(iterative_process.initialize.type_signature)"
   ]
  },
  {
   "cell_type": "markdown",
   "metadata": {
    "id": "xo_D135PhzCm"
   },
   "source": [
    "While the above type signature may at first seem a bit cryptic, you can recognize that the server state consists of a model (the initial model parameters that will be distributed to all devices), and optimizer_state (additional information maintained by the server, such as the number of rounds to use for hyperparameter schedules, etc.).\n",
    "\n",
    "Let's invoke the initialize computation to construct the server state."
   ]
  },
  {
   "cell_type": "code",
   "execution_count": null,
   "metadata": {
    "colab": {
     "base_uri": "https://localhost:8080/"
    },
    "id": "T7vNqokkhsYi",
    "outputId": "acad48da-e549-4e3f-ccd0-dc4de6f7d8dc"
   },
   "outputs": [
    {
     "name": "stdout",
     "output_type": "stream",
     "text": [
      "WARNING:tensorflow:From /usr/local/lib/python3.7/dist-packages/tensorflow_federated/python/core/impl/compiler/tensorflow_computation_transformations.py:60: extract_sub_graph (from tensorflow.python.framework.graph_util_impl) is deprecated and will be removed in a future version.\n",
      "Instructions for updating:\n",
      "Use `tf.compat.v1.graph_util.extract_sub_graph`\n"
     ]
    },
    {
     "name": "stderr",
     "output_type": "stream",
     "text": [
      "WARNING:tensorflow:From /usr/local/lib/python3.7/dist-packages/tensorflow_federated/python/core/impl/compiler/tensorflow_computation_transformations.py:60: extract_sub_graph (from tensorflow.python.framework.graph_util_impl) is deprecated and will be removed in a future version.\n",
      "Instructions for updating:\n",
      "Use `tf.compat.v1.graph_util.extract_sub_graph`\n"
     ]
    }
   ],
   "source": [
    "state = iterative_process.initialize()"
   ]
  },
  {
   "cell_type": "code",
   "execution_count": null,
   "metadata": {
    "colab": {
     "base_uri": "https://localhost:8080/"
    },
    "id": "6B8IOPfih2e0",
    "outputId": "8c06d28f-15fb-403a-8a66-b73e899622b7"
   },
   "outputs": [
    {
     "data": {
      "text/plain": [
       "ServerState(model=ModelWeights(trainable=[array([[[[ 0.08214223,  0.17868292, -0.03620368, -0.00989941,\n",
       "          -0.11301883, -0.0098622 ,  0.03028905, -0.11703125,\n",
       "          -0.12335759, -0.14413926, -0.06961289, -0.15854841,\n",
       "           0.04545426,  0.17768997, -0.15595332, -0.07009835],\n",
       "         [ 0.01605965, -0.06967801, -0.1847653 , -0.01635244,\n",
       "           0.14542106,  0.00660208,  0.04111743,  0.02950254,\n",
       "          -0.05175823,  0.17122442, -0.08945095,  0.07948756,\n",
       "           0.13641006, -0.15200776,  0.1589973 ,  0.0462245 ],\n",
       "         [ 0.11026207,  0.05276459, -0.07039823, -0.03364784,\n",
       "          -0.11069794,  0.06033954,  0.02114753,  0.08803439,\n",
       "          -0.10402329, -0.10126594,  0.07106274,  0.04822429,\n",
       "           0.14033076, -0.1591366 ,  0.10367775,  0.10590681]],\n",
       "\n",
       "        [[ 0.07209492, -0.12837392,  0.03974092, -0.17739132,\n",
       "           0.07492948, -0.16285595, -0.17773427, -0.11420213,\n",
       "          -0.03523411, -0.09817785, -0.07938591, -0.09084755,\n",
       "          -0.04160431,  0.0444231 , -0.01171309, -0.12647596],\n",
       "         [ 0.05657801,  0.18452725, -0.06870563,  0.0590481 ,\n",
       "          -0.02574241,  0.14561236,  0.1297316 , -0.18521939,\n",
       "           0.18337312,  0.07876402,  0.11841688, -0.11349825,\n",
       "          -0.14455059, -0.0969234 ,  0.02002625,  0.00760017],\n",
       "         [ 0.17604786,  0.07057977, -0.08561181,  0.07809439,\n",
       "           0.05626458,  0.16161123,  0.14461619, -0.0697818 ,\n",
       "          -0.17069511,  0.09803763, -0.01385635, -0.17548376,\n",
       "           0.08176377, -0.15137175, -0.02726763,  0.0101833 ]],\n",
       "\n",
       "        [[-0.03493485,  0.1670017 ,  0.14542386,  0.17286688,\n",
       "          -0.01043643, -0.03364672, -0.03556436, -0.17256787,\n",
       "          -0.07875236,  0.0382227 ,  0.02512123, -0.09650243,\n",
       "          -0.00094098, -0.02970293,  0.11995709,  0.12277767],\n",
       "         [ 0.15043882, -0.18436925,  0.01162595, -0.09093317,\n",
       "           0.04771976,  0.04084094, -0.03977375, -0.04578421,\n",
       "          -0.06083132, -0.0514971 , -0.04360038,  0.15384957,\n",
       "           0.03547733, -0.05445935, -0.12921858,  0.13883796],\n",
       "         [-0.17416112, -0.12203878,  0.18494976, -0.01581903,\n",
       "          -0.01668873, -0.15760079, -0.08931214,  0.18459871,\n",
       "          -0.16544993, -0.08766348,  0.1771861 ,  0.03983024,\n",
       "          -0.02043788, -0.06951156,  0.08575752, -0.07687102]]],\n",
       "\n",
       "\n",
       "       [[[-0.14411855, -0.01998839,  0.02628578, -0.16695315,\n",
       "          -0.01662549,  0.00968066,  0.1399099 , -0.02501164,\n",
       "           0.02399009, -0.06416689, -0.17753625, -0.13221614,\n",
       "          -0.00471228,  0.11358681, -0.04686984,  0.15504366],\n",
       "         [-0.11883684,  0.04502477, -0.04122786,  0.12760755,\n",
       "          -0.13680245,  0.06076273, -0.14516023,  0.16954276,\n",
       "          -0.09836801,  0.09939489, -0.13810089,  0.15307295,\n",
       "          -0.11236358,  0.03315416,  0.05950025, -0.12763953],\n",
       "         [ 0.09076798,  0.150125  , -0.0030563 ,  0.02653964,\n",
       "           0.09018591, -0.00366783,  0.06876215,  0.14196429,\n",
       "           0.13761735, -0.06669691,  0.07387346, -0.06566938,\n",
       "          -0.01576753, -0.01065558,  0.01091166,  0.11512414]],\n",
       "\n",
       "        [[ 0.04743457, -0.10504998,  0.14358151,  0.11648127,\n",
       "           0.09459665,  0.07739779, -0.07941824,  0.17270055,\n",
       "          -0.11194145,  0.11731461,  0.12463093,  0.11413282,\n",
       "           0.1563032 ,  0.00491616, -0.0567922 , -0.09265596],\n",
       "         [-0.12715091, -0.12730776, -0.09103204,  0.08912525,\n",
       "          -0.06208166,  0.00145167,  0.16324598,  0.1800614 ,\n",
       "          -0.12970898, -0.1269189 , -0.00699781, -0.16735402,\n",
       "           0.05100897,  0.11033052,  0.08196092, -0.17297521],\n",
       "         [ 0.16064343, -0.10243095, -0.03908817,  0.04178326,\n",
       "          -0.08880383, -0.13336672,  0.0349938 , -0.15891646,\n",
       "          -0.05685204, -0.04637375, -0.18696412, -0.1798829 ,\n",
       "          -0.14802589,  0.11861354,  0.17130116,  0.04728277]],\n",
       "\n",
       "        [[-0.16771218, -0.01985043, -0.17258015, -0.05540006,\n",
       "          -0.10926685, -0.09228511, -0.13009582,  0.17080855,\n",
       "          -0.11684716, -0.07121408,  0.09681255,  0.00674373,\n",
       "           0.12335888,  0.13208124, -0.13934793, -0.04572083],\n",
       "         [ 0.08353022,  0.13875034, -0.1142635 ,  0.17834905,\n",
       "          -0.17074384, -0.03855506,  0.1692794 , -0.1692258 ,\n",
       "           0.0807822 ,  0.00246692,  0.10153663, -0.08221426,\n",
       "           0.00121024, -0.14346726, -0.16633272, -0.17498514],\n",
       "         [-0.01444247,  0.0487619 ,  0.11135411, -0.10265206,\n",
       "          -0.08296097,  0.16413364, -0.00648063,  0.01742589,\n",
       "          -0.14902022,  0.04467267,  0.04691674, -0.03425695,\n",
       "           0.02029805, -0.04801385, -0.01984082, -0.02909458]]],\n",
       "\n",
       "\n",
       "       [[[ 0.01024677, -0.05791098,  0.14157113,  0.08576342,\n",
       "          -0.17766097,  0.15588072, -0.10909644,  0.11814412,\n",
       "          -0.08733831,  0.09900472,  0.18419585, -0.16687284,\n",
       "          -0.18499105, -0.12900835,  0.14549133,  0.04545435],\n",
       "         [ 0.00740126, -0.18539947,  0.06294861, -0.10318949,\n",
       "          -0.12802964, -0.13752839, -0.16318367,  0.13766614,\n",
       "           0.04777376, -0.1276109 , -0.15322997, -0.09566975,\n",
       "           0.16953167, -0.08847231, -0.06786209, -0.04860175],\n",
       "         [ 0.16076303,  0.0573094 , -0.02992727,  0.15042752,\n",
       "          -0.12027512,  0.07732731, -0.02639355, -0.00650279,\n",
       "          -0.00866179,  0.17137977, -0.17210212, -0.01634373,\n",
       "          -0.14941154, -0.17719603,  0.1141519 , -0.07557021]],\n",
       "\n",
       "        [[-0.02283424, -0.1749461 ,  0.13775554,  0.10851327,\n",
       "          -0.17940892,  0.03372921,  0.0666602 ,  0.05531114,\n",
       "           0.09413072, -0.01313291, -0.15852426,  0.10166967,\n",
       "           0.11999774,  0.07111937,  0.08636817,  0.00241347],\n",
       "         [ 0.18079087,  0.11886394, -0.03273839, -0.07140813,\n",
       "           0.16455439,  0.07811832,  0.08202326, -0.16467491,\n",
       "           0.09220293, -0.11453824,  0.09930632, -0.08477627,\n",
       "           0.03483637,  0.08056876, -0.04920582,  0.13771585],\n",
       "         [-0.07672574, -0.06955591,  0.02271871,  0.05227163,\n",
       "          -0.18157801, -0.02504437, -0.02825345,  0.08929393,\n",
       "          -0.11504437, -0.13613978,  0.05146182,  0.08503675,\n",
       "          -0.14332369, -0.05621171,  0.06153391, -0.02378617]],\n",
       "\n",
       "        [[ 0.03808002, -0.16767432,  0.13397554, -0.11430923,\n",
       "           0.18220893,  0.15434325, -0.13950057,  0.06890857,\n",
       "           0.16445857, -0.1499463 , -0.11761411,  0.05577052,\n",
       "           0.08319187, -0.02102467, -0.05674329, -0.15486376],\n",
       "         [ 0.03914587, -0.16276485, -0.18197665, -0.09265663,\n",
       "          -0.09352241,  0.14238083,  0.02118871,  0.11337972,\n",
       "          -0.04274331,  0.07128403, -0.149233  , -0.14939927,\n",
       "          -0.05563341,  0.09354207,  0.02898476,  0.03077231],\n",
       "         [ 0.15792498, -0.1764021 , -0.1580427 ,  0.14517534,\n",
       "          -0.08982226, -0.13018867,  0.16457263,  0.00854808,\n",
       "           0.00976127,  0.18390644, -0.02971053, -0.05087432,\n",
       "           0.00625654,  0.06609744,  0.16709182,  0.01329216]]]],\n",
       "      dtype=float32), array([0., 0., 0., 0., 0., 0., 0., 0., 0., 0., 0., 0., 0., 0., 0., 0.],\n",
       "      dtype=float32), array([[[[ 0.07688811, -0.04173294, -0.01570684, ..., -0.11534651,\n",
       "          -0.01852629,  0.01688155],\n",
       "         [-0.11330118,  0.07977176,  0.11369745, ..., -0.06941586,\n",
       "           0.06289018,  0.03776024],\n",
       "         [-0.03317401,  0.08882041,  0.08065446, ...,  0.01933711,\n",
       "           0.06964303, -0.10581534],\n",
       "         ...,\n",
       "         [ 0.06921386,  0.11559624, -0.00162642, ..., -0.08529314,\n",
       "           0.06667881,  0.07099938],\n",
       "         [ 0.04110041, -0.04847784, -0.01642536, ...,  0.02750231,\n",
       "           0.04089784, -0.00784988],\n",
       "         [ 0.09910273,  0.05368374, -0.00474439, ...,  0.06414787,\n",
       "          -0.06211732,  0.02719104]],\n",
       "\n",
       "        [[-0.08856744,  0.07799112, -0.00597833, ..., -0.00483581,\n",
       "           0.07263192, -0.02890728],\n",
       "         [-0.02631832,  0.00347689,  0.03457873, ..., -0.01604766,\n",
       "          -0.10060863, -0.00693549],\n",
       "         [-0.05439242,  0.05280989, -0.10755058, ..., -0.01834726,\n",
       "          -0.00783563,  0.08115344],\n",
       "         ...,\n",
       "         [ 0.02710051,  0.01998513, -0.05463929, ...,  0.02413722,\n",
       "           0.09378182, -0.00512253],\n",
       "         [-0.01755065,  0.08495577,  0.11496335, ..., -0.10967141,\n",
       "          -0.03390417, -0.01085453],\n",
       "         [-0.01069586,  0.05616464, -0.10097121, ..., -0.06107379,\n",
       "          -0.08591969, -0.07046039]],\n",
       "\n",
       "        [[-0.07820038,  0.09923653,  0.04248332, ...,  0.09383775,\n",
       "           0.04255211, -0.11625253],\n",
       "         [-0.03924558, -0.07125962, -0.08364635, ...,  0.06323648,\n",
       "          -0.05439363,  0.08080571],\n",
       "         [ 0.01485199, -0.09926923, -0.00898158, ..., -0.10824595,\n",
       "           0.01330782, -0.10765541],\n",
       "         ...,\n",
       "         [ 0.11289891,  0.0414625 , -0.00405281, ...,  0.06987264,\n",
       "          -0.10912069, -0.03034042],\n",
       "         [ 0.10919198, -0.08583388,  0.0742076 , ...,  0.10004423,\n",
       "           0.1088979 , -0.03988719],\n",
       "         [ 0.09110112,  0.10840265, -0.09956822, ...,  0.04238199,\n",
       "           0.01870771,  0.03352308]]],\n",
       "\n",
       "\n",
       "       [[[-0.08829866,  0.09914116, -0.05114911, ...,  0.02922375,\n",
       "          -0.03504305, -0.06350519],\n",
       "         [ 0.00905547, -0.02585687,  0.04434261, ..., -0.04796685,\n",
       "           0.04812478,  0.09319391],\n",
       "         [-0.02365866,  0.01459435,  0.01000785, ...,  0.04367577,\n",
       "          -0.06375174, -0.05363063],\n",
       "         ...,\n",
       "         [ 0.07261031,  0.08329029,  0.07685826, ...,  0.05809177,\n",
       "           0.09009773,  0.07493869],\n",
       "         [-0.02433126,  0.11424077,  0.09731933, ...,  0.09774876,\n",
       "          -0.04978712,  0.08115117],\n",
       "         [ 0.09729224,  0.09962832,  0.04018553, ..., -0.04103366,\n",
       "           0.07664201,  0.02886567]],\n",
       "\n",
       "        [[ 0.094492  ,  0.03193722,  0.06378563, ..., -0.04957523,\n",
       "           0.06396296, -0.03079659],\n",
       "         [-0.03753193, -0.05001646, -0.00130262, ..., -0.08976234,\n",
       "          -0.01290329,  0.10709011],\n",
       "         [-0.06474355, -0.05536387,  0.08230074, ...,  0.04672057,\n",
       "          -0.04621076,  0.05256898],\n",
       "         ...,\n",
       "         [-0.0179665 ,  0.05838502, -0.1146483 , ..., -0.09927536,\n",
       "          -0.11751989, -0.09828286],\n",
       "         [-0.04286399,  0.04601862,  0.0160997 , ..., -0.06257155,\n",
       "          -0.05705545, -0.04987377],\n",
       "         [-0.09438907,  0.01449654,  0.00232077, ...,  0.05772427,\n",
       "           0.08460117, -0.07563718]],\n",
       "\n",
       "        [[-0.0510157 , -0.1059415 ,  0.02401505, ...,  0.04901002,\n",
       "           0.02429893, -0.00181273],\n",
       "         [-0.09927701,  0.1077131 ,  0.01220275, ..., -0.03310031,\n",
       "          -0.04694445,  0.07290076],\n",
       "         [-0.04305312, -0.09287617,  0.09382012, ...,  0.06531989,\n",
       "           0.00175775,  0.11145131],\n",
       "         ...,\n",
       "         [-0.03827967,  0.04577147,  0.00978953, ...,  0.06945323,\n",
       "           0.06283659, -0.08874328],\n",
       "         [ 0.00881172,  0.00077429, -0.07912964, ..., -0.11158252,\n",
       "           0.07502735,  0.06954042],\n",
       "         [ 0.03198626,  0.06636719,  0.09801292, ..., -0.00483264,\n",
       "          -0.02358816, -0.10151498]]],\n",
       "\n",
       "\n",
       "       [[[ 0.02033197, -0.05485817,  0.01068408, ...,  0.00016668,\n",
       "           0.11694751, -0.10990606],\n",
       "         [ 0.02786478, -0.03213914, -0.07525115, ..., -0.0794118 ,\n",
       "           0.03835324,  0.10842114],\n",
       "         [ 0.03177432,  0.08767474, -0.10993893, ...,  0.03972613,\n",
       "          -0.10421398,  0.04869608],\n",
       "         ...,\n",
       "         [-0.05730269,  0.02424104, -0.04966506, ..., -0.05439661,\n",
       "           0.07780696,  0.00026269],\n",
       "         [-0.09314619, -0.0258887 ,  0.03182363, ...,  0.10825739,\n",
       "          -0.1047976 , -0.11255049],\n",
       "         [-0.08783763, -0.10049697, -0.03067409, ...,  0.0253805 ,\n",
       "           0.00864635,  0.06088016]],\n",
       "\n",
       "        [[ 0.00502806,  0.07574683, -0.01680876, ..., -0.00903893,\n",
       "          -0.08472835, -0.0122411 ],\n",
       "         [ 0.07120969,  0.04079422, -0.00568704, ...,  0.08664241,\n",
       "           0.00612155, -0.00725687],\n",
       "         [ 0.10890786, -0.02479519,  0.02386523, ...,  0.01950986,\n",
       "          -0.04595496, -0.11253534],\n",
       "         ...,\n",
       "         [-0.0341714 ,  0.09286828,  0.0593828 , ...,  0.08101524,\n",
       "           0.10832881,  0.06970679],\n",
       "         [ 0.03347368,  0.03162207, -0.01765947, ..., -0.09749426,\n",
       "          -0.02006496, -0.07435331],\n",
       "         [ 0.05656727,  0.10283058,  0.09764875, ..., -0.00156876,\n",
       "          -0.0116608 ,  0.09779099]],\n",
       "\n",
       "        [[ 0.04720298, -0.05204284, -0.06530741, ...,  0.03407463,\n",
       "          -0.00101914, -0.04115558],\n",
       "         [-0.07775557,  0.0600808 , -0.07175189, ...,  0.10529912,\n",
       "          -0.09326719, -0.06053487],\n",
       "         [ 0.01692497, -0.07144444, -0.07006048, ..., -0.03947125,\n",
       "          -0.04870673,  0.00981057],\n",
       "         ...,\n",
       "         [ 0.00882684,  0.11303321, -0.07718785, ...,  0.00590604,\n",
       "           0.11002972, -0.04029191],\n",
       "         [ 0.07371815, -0.05364265,  0.00221884, ...,  0.09231292,\n",
       "          -0.06359605,  0.06324137],\n",
       "         [-0.08670711, -0.00856564,  0.07376584, ...,  0.11346654,\n",
       "           0.0913742 ,  0.06623813]]]], dtype=float32), array([0., 0., 0., 0., 0., 0., 0., 0., 0., 0., 0., 0., 0., 0., 0., 0., 0.,\n",
       "       0., 0., 0., 0., 0., 0., 0., 0., 0., 0., 0., 0., 0., 0., 0.],\n",
       "      dtype=float32), array([[[[-0.01287953,  0.01429365,  0.03302312, ..., -0.0514159 ,\n",
       "          -0.04217408,  0.01758484],\n",
       "         [-0.01114938, -0.00153784, -0.07614531, ...,  0.01777804,\n",
       "           0.01326692,  0.07908329],\n",
       "         [ 0.06470255,  0.052912  , -0.02058357, ...,  0.02049389,\n",
       "           0.07710753,  0.00571185],\n",
       "         ...,\n",
       "         [ 0.02048719,  0.02425943, -0.03817803, ...,  0.05092307,\n",
       "           0.03888357,  0.08239641],\n",
       "         [-0.03080771,  0.04356474, -0.06342423, ..., -0.03701621,\n",
       "           0.07961748, -0.06455108],\n",
       "         [ 0.07697678,  0.00929415,  0.01729027, ..., -0.0111855 ,\n",
       "           0.08238418, -0.0423581 ]],\n",
       "\n",
       "        [[ 0.08001516, -0.05801004, -0.07688086, ..., -0.053422  ,\n",
       "           0.0161556 ,  0.00718042],\n",
       "         [ 0.03433166, -0.01794907,  0.05325285, ..., -0.08217001,\n",
       "           0.04143164, -0.0115461 ],\n",
       "         [-0.07582333,  0.07495859, -0.03170677, ...,  0.01684763,\n",
       "           0.02886394, -0.0778304 ],\n",
       "         ...,\n",
       "         [ 0.02606644, -0.03526622,  0.03014126, ...,  0.06860004,\n",
       "          -0.07535768, -0.01863801],\n",
       "         [ 0.07243157, -0.05363856,  0.07540477, ...,  0.06984469,\n",
       "          -0.08048459,  0.00406182],\n",
       "         [ 0.05845223, -0.03822859, -0.04171292, ...,  0.07374979,\n",
       "           0.05631483,  0.03762424]],\n",
       "\n",
       "        [[-0.05658516,  0.05978896,  0.08273787, ..., -0.05982822,\n",
       "           0.07315914, -0.04549766],\n",
       "         [-0.07274153,  0.06811567, -0.02320419, ...,  0.00791375,\n",
       "           0.02900497,  0.05841342],\n",
       "         [ 0.03434256,  0.02650768, -0.04981598, ...,  0.06958211,\n",
       "          -0.01130579,  0.07872859],\n",
       "         ...,\n",
       "         [-0.02025542,  0.02063175,  0.04283423, ...,  0.05912841,\n",
       "           0.03108927, -0.00509948],\n",
       "         [-0.06774875,  0.07925529,  0.04903478, ...,  0.06960478,\n",
       "           0.00813081,  0.03812706],\n",
       "         [-0.00335071, -0.06697892,  0.06374399, ...,  0.06585038,\n",
       "          -0.00053503,  0.03678777]]],\n",
       "\n",
       "\n",
       "       [[[-0.0724052 , -0.06339447,  0.07735459, ..., -0.06830625,\n",
       "           0.05290648, -0.04423704],\n",
       "         [ 0.04323628,  0.01483164, -0.00303819, ..., -0.03305873,\n",
       "           0.07897189, -0.04358699],\n",
       "         [ 0.05400837, -0.05310021,  0.06330719, ...,  0.05453459,\n",
       "          -0.04324577,  0.03807219],\n",
       "         ...,\n",
       "         [-0.01266976,  0.02054965, -0.0578239 , ...,  0.03040972,\n",
       "          -0.0644635 , -0.03206732],\n",
       "         [-0.02774135, -0.07397108, -0.00703774, ..., -0.02862614,\n",
       "           0.058149  , -0.01906675],\n",
       "         [ 0.01798046,  0.07067425,  0.05852336, ...,  0.0643198 ,\n",
       "          -0.03406129,  0.05706003]],\n",
       "\n",
       "        [[-0.01092919, -0.07117401, -0.05769865, ...,  0.04711396,\n",
       "           0.00974021, -0.0807606 ],\n",
       "         [-0.05158019, -0.01716235,  0.02717981, ..., -0.04404666,\n",
       "           0.00272415, -0.07031103],\n",
       "         [ 0.07044927, -0.08310529, -0.0444238 , ...,  0.07056328,\n",
       "           0.00587521,  0.01386267],\n",
       "         ...,\n",
       "         [ 0.03142115, -0.00520754,  0.00438988, ..., -0.03850355,\n",
       "           0.07211224, -0.04307054],\n",
       "         [ 0.04787279,  0.05038045, -0.02676332, ...,  0.07075755,\n",
       "          -0.01988807,  0.01705454],\n",
       "         [-0.04363936,  0.07552344,  0.00930069, ...,  0.02655832,\n",
       "           0.02877021, -0.02799165]],\n",
       "\n",
       "        [[-0.02434443,  0.06542171, -0.04862869, ..., -0.02019051,\n",
       "           0.01866269,  0.00962579],\n",
       "         [-0.05624791,  0.01328637, -0.04322775, ...,  0.07596964,\n",
       "           0.05208627,  0.05419072],\n",
       "         [-0.05224715,  0.05126331, -0.06413893, ...,  0.02892265,\n",
       "           0.06862513,  0.06466439],\n",
       "         ...,\n",
       "         [-0.05984974,  0.03914251,  0.02712455, ...,  0.05612008,\n",
       "           0.05435751,  0.03080191],\n",
       "         [ 0.07971773, -0.06144158,  0.02224549, ..., -0.05931083,\n",
       "          -0.0476477 , -0.05099621],\n",
       "         [ 0.0419763 , -0.06693493,  0.00593225, ...,  0.05680818,\n",
       "          -0.05869236, -0.07366284]]],\n",
       "\n",
       "\n",
       "       [[[-0.04014121, -0.06959777,  0.0802776 , ..., -0.03288215,\n",
       "          -0.07916677, -0.05560325],\n",
       "         [-0.00093559,  0.00742493, -0.07603272, ..., -0.04994347,\n",
       "           0.01607402, -0.06838207],\n",
       "         [-0.06387689,  0.00357622, -0.02606815, ...,  0.05614758,\n",
       "          -0.08123559,  0.05457998],\n",
       "         ...,\n",
       "         [ 0.07106612,  0.05339279,  0.05529662, ..., -0.07021412,\n",
       "           0.0347594 ,  0.06031991],\n",
       "         [ 0.00918571,  0.03476512,  0.03844752, ...,  0.04350419,\n",
       "           0.06444094,  0.08028051],\n",
       "         [ 0.0755193 ,  0.00398966, -0.00573049, ..., -0.02183918,\n",
       "          -0.0589577 ,  0.0263897 ]],\n",
       "\n",
       "        [[-0.06130384, -0.04190602,  0.05309167, ..., -0.00383083,\n",
       "          -0.06960993, -0.00669211],\n",
       "         [ 0.07052324,  0.07279219, -0.04289834, ...,  0.04226635,\n",
       "          -0.02926223, -0.07686274],\n",
       "         [-0.04068061, -0.05439981,  0.0795287 , ..., -0.06783891,\n",
       "           0.07179061,  0.02048973],\n",
       "         ...,\n",
       "         [-0.00522242, -0.07416157,  0.06159431, ...,  0.07806174,\n",
       "           0.04597094, -0.04012233],\n",
       "         [-0.01802862,  0.07213373, -0.02730779, ...,  0.02956232,\n",
       "           0.01312884,  0.07001356],\n",
       "         [-0.05336946,  0.06086973,  0.00449429, ...,  0.07856608,\n",
       "           0.00549787, -0.05868075]],\n",
       "\n",
       "        [[-0.06818861,  0.04965594,  0.08269063, ..., -0.03061424,\n",
       "          -0.06167827, -0.04267917],\n",
       "         [-0.07926452,  0.00523603,  0.0386011 , ..., -0.03838907,\n",
       "          -0.00510806, -0.04618164],\n",
       "         [-0.00309684,  0.06166718,  0.05104002, ..., -0.06885886,\n",
       "           0.08102056,  0.00854518],\n",
       "         ...,\n",
       "         [ 0.03849199,  0.0757431 ,  0.05299339, ...,  0.07997031,\n",
       "           0.03418261,  0.01853806],\n",
       "         [ 0.07739016, -0.01493344, -0.00411451, ..., -0.07603143,\n",
       "           0.01900488, -0.05136361],\n",
       "         [-0.03838577,  0.030954  ,  0.05034921, ..., -0.00073019,\n",
       "          -0.0095909 ,  0.04700828]]]], dtype=float32), array([0., 0., 0., 0., 0., 0., 0., 0., 0., 0., 0., 0., 0., 0., 0., 0., 0.,\n",
       "       0., 0., 0., 0., 0., 0., 0., 0., 0., 0., 0., 0., 0., 0., 0., 0., 0.,\n",
       "       0., 0., 0., 0., 0., 0., 0., 0., 0., 0., 0., 0., 0., 0., 0., 0., 0.,\n",
       "       0., 0., 0., 0., 0., 0., 0., 0., 0., 0., 0., 0., 0.], dtype=float32), array([[-0.00517701, -0.00223023,  0.00859069, ..., -0.00063528,\n",
       "         0.00994931,  0.01006777],\n",
       "       [-0.00687436, -0.00266113, -0.00448381, ..., -0.00443239,\n",
       "        -0.0023636 ,  0.00470547],\n",
       "       [-0.00634301, -0.00993829, -0.00644284, ..., -0.00647049,\n",
       "        -0.00823738, -0.01057013],\n",
       "       ...,\n",
       "       [-0.00421499,  0.00825888, -0.00280605, ..., -0.004039  ,\n",
       "        -0.00162855, -0.00562472],\n",
       "       [-0.00450172,  0.00790921, -0.00435502, ...,  0.0078077 ,\n",
       "         0.00348513,  0.00479621],\n",
       "       [-0.01015933,  0.00166079,  0.00269593, ...,  0.00466239,\n",
       "        -0.00281548, -0.00499241]], dtype=float32), array([0., 0., 0., 0., 0., 0., 0., 0., 0., 0., 0., 0., 0., 0., 0., 0., 0.,\n",
       "       0., 0., 0., 0., 0., 0., 0., 0., 0., 0., 0., 0., 0., 0., 0., 0., 0.,\n",
       "       0., 0., 0., 0., 0., 0., 0., 0., 0., 0., 0., 0., 0., 0., 0., 0., 0.,\n",
       "       0., 0., 0., 0., 0., 0., 0., 0., 0., 0., 0., 0., 0., 0., 0., 0., 0.,\n",
       "       0., 0., 0., 0., 0., 0., 0., 0., 0., 0., 0., 0., 0., 0., 0., 0., 0.,\n",
       "       0., 0., 0., 0., 0., 0., 0., 0., 0., 0., 0., 0., 0., 0., 0., 0., 0.,\n",
       "       0., 0., 0., 0., 0., 0., 0., 0., 0., 0., 0., 0., 0., 0., 0., 0., 0.,\n",
       "       0., 0., 0., 0., 0., 0., 0., 0., 0.], dtype=float32), array([[-1.79024532e-01, -4.09195721e-02,  1.34095177e-01],\n",
       "       [-1.36344969e-01, -3.33071053e-02,  4.02155966e-02],\n",
       "       [ 8.93594772e-02, -1.22592032e-01,  6.28213435e-02],\n",
       "       [ 1.14053473e-01, -1.75227791e-01,  1.54135689e-01],\n",
       "       [ 1.19087800e-01,  2.53643990e-02,  2.15909332e-02],\n",
       "       [ 1.87667653e-01,  7.30760247e-02,  1.56846657e-01],\n",
       "       [ 2.13582858e-01,  2.23498642e-02,  3.85520309e-02],\n",
       "       [ 2.05892071e-01, -5.68042099e-02,  5.93669862e-02],\n",
       "       [ 1.86320290e-01, -1.62574649e-03,  2.10926130e-01],\n",
       "       [-1.71178877e-01,  1.53973266e-01, -1.80204779e-01],\n",
       "       [ 4.08903807e-02, -1.88046768e-01, -1.34791166e-01],\n",
       "       [-1.58249542e-01, -1.66073307e-01, -1.33258730e-01],\n",
       "       [ 1.68176964e-01, -1.72797382e-01,  2.12858066e-01],\n",
       "       [ 7.38321096e-02, -1.15751669e-01,  8.90760869e-02],\n",
       "       [-1.57279253e-01,  1.95702210e-01, -5.34373075e-02],\n",
       "       [-1.35171503e-01,  1.49156705e-01, -1.42130196e-01],\n",
       "       [-1.62061289e-01, -9.59254280e-02,  1.53928712e-01],\n",
       "       [ 6.87284321e-02, -3.78941149e-02, -1.17600448e-01],\n",
       "       [-8.14232528e-02, -1.19346611e-01, -1.52865887e-01],\n",
       "       [ 1.09447792e-01,  1.26431391e-01, -1.93391338e-01],\n",
       "       [ 1.61056221e-02, -1.55174240e-01, -1.27536774e-01],\n",
       "       [ 1.28759041e-01,  9.10961479e-02,  1.62669197e-01],\n",
       "       [ 6.77826852e-02,  8.61336440e-02,  1.53523222e-01],\n",
       "       [ 5.61404228e-03,  1.69851258e-01, -1.25561565e-01],\n",
       "       [ 1.04467377e-01,  1.18625626e-01, -1.18035175e-01],\n",
       "       [ 1.16847977e-01, -1.91847637e-01,  1.64638683e-01],\n",
       "       [-1.22357987e-01, -1.83264762e-02,  2.04595625e-02],\n",
       "       [ 1.17504880e-01, -1.37226105e-01, -1.57247573e-01],\n",
       "       [ 4.67089266e-02, -9.55739692e-02, -5.91886044e-02],\n",
       "       [-1.00467391e-01, -6.95569068e-02,  1.59429744e-01],\n",
       "       [ 1.42928734e-01, -9.42509547e-02, -1.25939667e-01],\n",
       "       [ 1.75378874e-01, -1.03031680e-01,  1.49973184e-02],\n",
       "       [ 7.84256607e-02,  8.13636035e-02,  1.70223549e-01],\n",
       "       [-8.54797065e-02,  8.03598613e-02,  1.72944501e-01],\n",
       "       [ 1.92717209e-01,  8.66475552e-02,  1.07261732e-01],\n",
       "       [ 9.44576114e-02, -6.62200004e-02, -7.06491917e-02],\n",
       "       [ 1.62203446e-01, -2.05870181e-01, -6.26262873e-02],\n",
       "       [-6.52671158e-02,  1.15472212e-01,  4.86942977e-02],\n",
       "       [-4.18883860e-02, -4.37197089e-02, -1.69390321e-01],\n",
       "       [ 1.52280226e-01,  7.26816505e-02,  1.80743292e-01],\n",
       "       [-1.02824271e-01, -1.94947958e-01,  2.41952240e-02],\n",
       "       [-4.79280204e-02,  1.82862923e-01, -1.14736333e-01],\n",
       "       [ 8.82755071e-02,  1.19801298e-01, -1.97614431e-02],\n",
       "       [-1.15061551e-02, -1.47146374e-01,  8.83249491e-02],\n",
       "       [ 1.17797509e-01, -1.19851500e-01, -1.75977349e-01],\n",
       "       [ 8.25602263e-02,  2.00168684e-01, -1.70407653e-01],\n",
       "       [-2.96892226e-03,  1.68343797e-01, -7.39302784e-02],\n",
       "       [ 1.96197137e-01, -8.63441229e-02,  1.70591772e-02],\n",
       "       [ 1.73551425e-01,  1.66560546e-01,  8.20953399e-02],\n",
       "       [-1.50221318e-01,  2.43152380e-02, -1.12513542e-01],\n",
       "       [-1.59864277e-01, -9.44122896e-02,  2.02194825e-01],\n",
       "       [ 4.28778380e-02,  2.70711780e-02,  9.35762078e-02],\n",
       "       [-1.60384327e-02, -1.53990835e-02,  1.52731493e-01],\n",
       "       [ 1.80264398e-01,  1.61231175e-01,  1.38302147e-03],\n",
       "       [-1.20650344e-01,  3.26138288e-02, -1.54368818e-01],\n",
       "       [-2.07969844e-02,  2.94968933e-02,  1.02981523e-01],\n",
       "       [ 1.70147434e-01,  1.78804919e-01,  1.23916790e-01],\n",
       "       [-7.46163130e-02, -3.63831222e-03, -2.08514780e-02],\n",
       "       [-1.60904452e-01,  1.18592098e-01,  8.52855593e-02],\n",
       "       [ 5.13507426e-03, -1.48009092e-01,  7.58537650e-03],\n",
       "       [ 1.66990623e-01, -1.00639753e-01,  2.04918936e-01],\n",
       "       [-1.69049799e-02, -1.44161999e-01,  3.96903902e-02],\n",
       "       [ 1.96668252e-01,  1.71963736e-01, -1.57100365e-01],\n",
       "       [ 3.29051316e-02,  5.42103797e-02,  1.12854227e-01],\n",
       "       [-1.50606334e-02, -1.80217475e-02, -2.67755985e-02],\n",
       "       [ 8.95851105e-02, -1.23998940e-01, -2.99851447e-02],\n",
       "       [ 7.63697773e-02, -4.65635955e-03, -5.30880839e-02],\n",
       "       [-8.66975188e-02,  9.28874761e-02, -1.91428632e-01],\n",
       "       [ 1.82136223e-01, -1.97941110e-01,  1.90691426e-01],\n",
       "       [ 8.47902894e-03,  1.18103251e-01, -9.32955146e-02],\n",
       "       [ 1.95427433e-01, -1.50882453e-01, -3.55904549e-02],\n",
       "       [-5.99957108e-02, -5.91803342e-02, -8.25152844e-02],\n",
       "       [-9.24990699e-02,  1.01220772e-01, -1.66210920e-01],\n",
       "       [ 6.22422844e-02, -5.60495555e-02,  1.90261707e-01],\n",
       "       [ 1.13306120e-01,  1.25106946e-01, -3.06383669e-02],\n",
       "       [-1.80280820e-01,  7.43210763e-02,  1.88065991e-01],\n",
       "       [ 4.42517847e-02, -3.66618186e-02,  1.43988416e-01],\n",
       "       [-1.44652605e-01, -1.65833592e-01, -1.58877656e-01],\n",
       "       [-1.49551183e-02,  4.71882075e-02, -1.97847322e-01],\n",
       "       [-1.00021385e-01, -4.18489873e-02,  1.58145234e-01],\n",
       "       [-1.31767184e-01,  2.25617737e-02,  1.72016546e-01],\n",
       "       [ 1.91810027e-01,  1.04024813e-01, -5.54903746e-02],\n",
       "       [-6.68414831e-02, -1.48556292e-01, -1.16960295e-01],\n",
       "       [ 5.22848964e-03,  1.76314309e-01, -9.49066207e-02],\n",
       "       [-1.30019993e-01,  3.84703428e-02,  1.81629285e-01],\n",
       "       [-1.40045315e-01, -1.75130025e-01,  7.15685934e-02],\n",
       "       [-1.56476691e-01,  1.74580514e-03,  4.24727798e-04],\n",
       "       [ 1.96027741e-01, -1.35109603e-01, -1.28340527e-01],\n",
       "       [ 2.07355961e-01,  3.07352096e-02, -5.94838709e-02],\n",
       "       [-1.37159377e-01,  1.38594493e-01, -4.98599708e-02],\n",
       "       [ 7.62767643e-02, -9.95046571e-02, -1.19492285e-01],\n",
       "       [ 1.22803852e-01,  6.54924959e-02, -5.62268198e-02],\n",
       "       [ 1.92715719e-01,  9.59563106e-02, -1.93753004e-01],\n",
       "       [ 2.11828783e-01,  1.61692500e-04,  5.47085851e-02],\n",
       "       [ 1.77453235e-01, -1.38623163e-01,  1.77764937e-01],\n",
       "       [-9.81115326e-02, -2.98306942e-02, -1.42062336e-01],\n",
       "       [-1.18226707e-02, -1.33426607e-01,  5.11039943e-02],\n",
       "       [-1.70598432e-01,  6.93752617e-02,  1.95356861e-01],\n",
       "       [-1.37591183e-01,  1.66609213e-01,  4.12886888e-02],\n",
       "       [-1.91942289e-01, -2.29727775e-02,  3.49793881e-02],\n",
       "       [ 1.11880735e-01,  3.16743702e-02,  7.33599216e-02],\n",
       "       [ 9.88183767e-02, -8.75781476e-02, -4.91883308e-02],\n",
       "       [-5.53184301e-02,  7.31273144e-02, -8.99077877e-02],\n",
       "       [ 1.74746215e-02, -1.46744654e-01, -2.99628973e-02],\n",
       "       [-1.45262092e-01, -4.60561812e-02, -1.27107516e-01],\n",
       "       [ 1.63615808e-01,  4.98829335e-02,  1.50858417e-01],\n",
       "       [ 1.94697872e-01, -2.16130912e-03,  1.21765599e-01],\n",
       "       [ 1.00604936e-01,  7.02815503e-02,  4.73285764e-02],\n",
       "       [ 1.62800238e-01,  9.81386155e-02,  8.33868235e-02],\n",
       "       [-1.14318542e-01, -6.53640032e-02,  6.50064796e-02],\n",
       "       [ 1.82256997e-02,  1.53899446e-01,  3.73620242e-02],\n",
       "       [-3.29712182e-02, -1.05113693e-01, -1.50134385e-01],\n",
       "       [ 1.80223301e-01, -9.80790779e-02,  2.21972018e-02],\n",
       "       [-1.94303051e-01, -1.79992780e-01, -1.89329118e-01],\n",
       "       [-1.73468620e-01,  2.65820026e-02, -9.02044401e-02],\n",
       "       [ 3.27844620e-02,  1.12597048e-02,  3.34843993e-03],\n",
       "       [ 7.58767575e-02, -3.47924829e-02, -2.04137236e-01],\n",
       "       [-1.77572176e-01, -6.31053001e-02,  6.70278221e-02],\n",
       "       [ 1.28610030e-01, -4.48283255e-02, -1.29243702e-01],\n",
       "       [-1.75943971e-01, -3.29779536e-02,  1.43786564e-01],\n",
       "       [-7.98400044e-02,  1.80323884e-01,  7.53951073e-03],\n",
       "       [ 2.63528079e-02,  1.36356995e-01, -1.00654751e-01],\n",
       "       [ 1.83248416e-01, -1.17818728e-01,  4.17096466e-02],\n",
       "       [-1.01138972e-01, -7.31261820e-02, -6.15677685e-02],\n",
       "       [ 1.60396770e-01, -1.91719010e-01, -1.21909730e-01],\n",
       "       [ 2.12727442e-01,  7.20313042e-02, -1.24402799e-01],\n",
       "       [ 2.08866611e-01, -5.24198264e-02,  1.46203041e-02],\n",
       "       [ 1.83911160e-01, -2.03872770e-01,  1.11354932e-01]], dtype=float32), array([0., 0., 0.], dtype=float32)], non_trainable=[]), optimizer_state=[0], delta_aggregate_state=OrderedDict([('value_sum_process', ()), ('weight_sum_process', ())]), model_broadcast_state=())"
      ]
     },
     "execution_count": 27,
     "metadata": {},
     "output_type": "execute_result"
    }
   ],
   "source": [
    "state"
   ]
  },
  {
   "cell_type": "markdown",
   "metadata": {
    "id": "TLrk-NDxiDBO"
   },
   "source": [
    "The second of the pair of federated computations, `next`, represents a single\n",
    "round of Federated Averaging, which consists of pushing the server state\n",
    "(including the model parameters) to the clients, on-device training on their\n",
    "local data, collecting and averaging model updates, and producing a new updated\n",
    "model at the server.\n",
    "\n",
    "Conceptually, you can think of `next` as having a functional type signature that\n",
    "looks as follows.\n",
    "\n",
    "```\n",
    "SERVER_STATE, FEDERATED_DATA -> SERVER_STATE, TRAINING_METRICS\n",
    "```\n",
    "\n",
    "In particular, one should think about `next()` not as being a function that runs on a server, but rather being a declarative functional representation of the entire decentralized computation - some of the inputs are provided by the server (`SERVER_STATE`), but each participating device contributes its own local dataset.\n",
    "\n",
    "To run a single round of training and visualizing the results We can use the following line of code and federated data we've already generated above:\n",
    "\n",
    "\n",
    "\n",
    "\n"
   ]
  },
  {
   "cell_type": "code",
   "execution_count": null,
   "metadata": {
    "colab": {
     "base_uri": "https://localhost:8080/"
    },
    "id": "7HoXm0fWjpnv",
    "outputId": "9840229b-fd67-40fd-960e-655d7a6f4af4"
   },
   "outputs": [
    {
     "name": "stdout",
     "output_type": "stream",
     "text": [
      "round  1, metrics=OrderedDict([('broadcast', ()), ('aggregation', OrderedDict([('mean_value', ()), ('mean_weight', ())])), ('train', OrderedDict([('categorical_accuracy', 0.6682221), ('AUC', 0.8225652), ('loss', 0.80128956)])), ('stat', OrderedDict([('num_examples', 6429)]))])\n"
     ]
    }
   ],
   "source": [
    "state, metrics = iterative_process.next(state, federated_train_data)\n",
    "print('round  1, metrics={}'.format(metrics))"
   ]
  },
  {
   "cell_type": "markdown",
   "metadata": {
    "id": "puoZpi5CltTJ"
   },
   "source": [
    "## Evaluation\n",
    "To perform evaluation on federated data, you can construct another *federated\n",
    "computation* designed for just this purpose, using the\n",
    "`tff.learning.build_federated_evaluation` function, and passing in your model\n",
    "constructor as an argument. Note that as the evaluation doesn't perform gradient descent, and there's no need to construct\n",
    "optimizers.\n",
    "\n",
    "For experimentation and research, when a centralized test dataset is available,\n",
    "[Federated Learning for Text Generation](federated_learning_for_text_generation.ipynb)\n",
    "demonstrates another evaluation option: taking the trained weights from\n",
    "federated learning, applying them to a standard Keras model, and then simply\n",
    "calling `tf.keras.models.Model.evaluate()` on a centralized dataset."
   ]
  },
  {
   "cell_type": "code",
   "execution_count": null,
   "metadata": {
    "colab": {
     "base_uri": "https://localhost:8080/"
    },
    "id": "cnHToV-sl193",
    "outputId": "0fff15b9-3a82-4384-8164-e5aee2f4e431"
   },
   "outputs": [
    {
     "data": {
      "text/plain": [
       "OrderedDict([('categorical_accuracy', 0.13457331),\n",
       "             ('AUC', 0.47945976),\n",
       "             ('loss', 1.1161389)])"
      ]
     },
     "execution_count": 29,
     "metadata": {},
     "output_type": "execute_result"
    }
   ],
   "source": [
    "evaluation = tff.learning.build_federated_evaluation(model_fn)   # iterative_process = tff.learning.build_federated_averaging_process(model_fn,client_optimizer_fn=lambda: tf.keras.optimizers.SGD(learning_rate=0.01), server_optimizer_fn=lambda: tf.keras.optimizers.SGD(learning_rate=0.05))\n",
    "\n",
    "\n",
    "federated_test_data = make_federated_data(test_data, test_client_ids)\n",
    "\n",
    "val_metrics = evaluation(state.model, federated_test_data)\n",
    "\n",
    "val_metrics"
   ]
  },
  {
   "cell_type": "code",
   "execution_count": null,
   "metadata": {
    "colab": {
     "base_uri": "https://localhost:8080/"
    },
    "id": "7MRMGwyLmSwJ",
    "outputId": "0f223e85-9baf-4310-d65a-f519ae769072"
   },
   "outputs": [
    {
     "name": "stdout",
     "output_type": "stream",
     "text": [
      "(64, 224, 224, 3)\n"
     ]
    }
   ],
   "source": [
    "a=iter(federated_test_data[0]).next()\n",
    "print(a[0].shape)\n"
   ]
  },
  {
   "cell_type": "markdown",
   "metadata": {
    "id": "Mh_ceyGdjC3G"
   },
   "source": [
    "## Training and evaluation multiple rounds:\n",
    "\n",
    "Here we run the federated learning algorithm multiple rounds on training clients and evaluate the performance on test client.\n",
    "\n",
    "First we initialize the model:"
   ]
  },
  {
   "cell_type": "code",
   "execution_count": null,
   "metadata": {
    "id": "FIdaipQXh88D"
   },
   "outputs": [],
   "source": [
    "state = iterative_process.initialize()"
   ]
  },
  {
   "cell_type": "markdown",
   "metadata": {
    "id": "GsfxH0uckV6O"
   },
   "source": [
    "Now let's train and evaluate multiple times"
   ]
  },
  {
   "cell_type": "code",
   "execution_count": null,
   "metadata": {
    "colab": {
     "base_uri": "https://localhost:8080/",
     "height": 626
    },
    "id": "qe5p5EwokI6O",
    "outputId": "fe808782-885c-4d4f-c01e-05c239684405"
   },
   "outputs": [
    {
     "name": "stdout",
     "output_type": "stream",
     "text": [
      "round:  1, training_loss: 0.7951986193656921, training_accuracy: 0.6714885830879211, train_auc: 0.8256200551986694, test_loss: 1.0785291194915771, test_accuracy: 0.6586433053016663,  test_auc: 0.7848511338233948\n",
      "round:  2, training_loss: 0.792487382888794, training_accuracy: 0.6714885830879211, train_auc: 0.8274843692779541, test_loss: 1.0380213260650635, test_accuracy: 0.7051422595977783,  test_auc: 0.8190912008285522\n",
      "round:  3, training_loss: 0.7911629676818848, training_accuracy: 0.6711775064468384, train_auc: 0.8280704617500305, test_loss: 1.0024751424789429, test_accuracy: 0.7056892514228821,  test_auc: 0.8354629278182983\n",
      "round:  4, training_loss: 0.7951035499572754, training_accuracy: 0.6733551025390625, train_auc: 0.8257230520248413, test_loss: 0.9680142998695374, test_accuracy: 0.7056892514228821,  test_auc: 0.8430849313735962\n",
      "round:  5, training_loss: 0.793380856513977, training_accuracy: 0.6700886487960815, train_auc: 0.8266915678977966, test_loss: 0.9483520984649658, test_accuracy: 0.7056892514228821,  test_auc: 0.8465309143066406\n",
      "round:  6, training_loss: 0.7886634469032288, training_accuracy: 0.6713330149650574, train_auc: 0.8287705779075623, test_loss: 0.9287586212158203, test_accuracy: 0.7056892514228821,  test_auc: 0.851988673210144\n",
      "round:  7, training_loss: 0.7913309931755066, training_accuracy: 0.6714885830879211, train_auc: 0.8271957635879517, test_loss: 0.9034894704818726, test_accuracy: 0.7056892514228821,  test_auc: 0.8527389168739319\n",
      "round:  8, training_loss: 0.7941799759864807, training_accuracy: 0.6745994687080383, train_auc: 0.8258630037307739, test_loss: 0.885342001914978, test_accuracy: 0.7056892514228821,  test_auc: 0.8556996583938599\n",
      "round:  9, training_loss: 0.787472665309906, training_accuracy: 0.6714885830879211, train_auc: 0.8296266198158264, test_loss: 0.8708662390708923, test_accuracy: 0.7056892514228821,  test_auc: 0.8579819202423096\n",
      "round: 10, training_loss: 0.7877589464187622, training_accuracy: 0.6756882667541504, train_auc: 0.82962965965271, test_loss: 0.8620156049728394, test_accuracy: 0.7056892514228821,  test_auc: 0.8583367466926575\n",
      "round: 11, training_loss: 0.796183168888092, training_accuracy: 0.6703997254371643, train_auc: 0.8251218795776367, test_loss: 0.8495405912399292, test_accuracy: 0.7056892514228821,  test_auc: 0.8577547073364258\n",
      "round: 12, training_loss: 0.7934742569923401, training_accuracy: 0.6708663702011108, train_auc: 0.8266246318817139, test_loss: 0.8413127064704895, test_accuracy: 0.7056892514228821,  test_auc: 0.8607313632965088\n",
      "round: 13, training_loss: 0.7909982800483704, training_accuracy: 0.6711775064468384, train_auc: 0.8278853297233582, test_loss: 0.832675039768219, test_accuracy: 0.7056892514228821,  test_auc: 0.8603675961494446\n"
     ]
    },
    {
     "ename": "KeyboardInterrupt",
     "evalue": "ignored",
     "output_type": "error",
     "traceback": [
      "\u001b[0;31m---------------------------------------------------------------------------\u001b[0m",
      "\u001b[0;31mKeyboardInterrupt\u001b[0m                         Traceback (most recent call last)",
      "\u001b[0;32m<ipython-input-33-dfb26ae5d09e>\u001b[0m in \u001b[0;36m<module>\u001b[0;34m()\u001b[0m\n\u001b[1;32m     17\u001b[0m \u001b[0;34m\u001b[0m\u001b[0m\n\u001b[1;32m     18\u001b[0m \u001b[0;32mfor\u001b[0m \u001b[0mround_num\u001b[0m \u001b[0;32min\u001b[0m \u001b[0mrange\u001b[0m\u001b[0;34m(\u001b[0m\u001b[0;36m1\u001b[0m\u001b[0;34m,\u001b[0m \u001b[0mNUM_ROUNDS\u001b[0m\u001b[0;34m+\u001b[0m\u001b[0;36m1\u001b[0m\u001b[0;34m)\u001b[0m\u001b[0;34m:\u001b[0m\u001b[0;34m\u001b[0m\u001b[0;34m\u001b[0m\u001b[0m\n\u001b[0;32m---> 19\u001b[0;31m     \u001b[0mstate\u001b[0m\u001b[0;34m,\u001b[0m \u001b[0mmetrics\u001b[0m \u001b[0;34m=\u001b[0m \u001b[0miterative_process\u001b[0m\u001b[0;34m.\u001b[0m\u001b[0mnext\u001b[0m\u001b[0;34m(\u001b[0m\u001b[0mstate\u001b[0m\u001b[0;34m,\u001b[0m \u001b[0mfederated_train_data\u001b[0m\u001b[0;34m)\u001b[0m\u001b[0;34m\u001b[0m\u001b[0;34m\u001b[0m\u001b[0m\n\u001b[0m\u001b[1;32m     20\u001b[0m     \u001b[0mval_metrics\u001b[0m \u001b[0;34m=\u001b[0m \u001b[0mevaluation\u001b[0m\u001b[0;34m(\u001b[0m\u001b[0mstate\u001b[0m\u001b[0;34m.\u001b[0m\u001b[0mmodel\u001b[0m\u001b[0;34m,\u001b[0m \u001b[0mfederated_test_data\u001b[0m\u001b[0;34m)\u001b[0m\u001b[0;34m\u001b[0m\u001b[0;34m\u001b[0m\u001b[0m\n\u001b[1;32m     21\u001b[0m \u001b[0;34m\u001b[0m\u001b[0m\n",
      "\u001b[0;32m/usr/local/lib/python3.7/dist-packages/tensorflow_federated/python/core/impl/computation/function_utils.py\u001b[0m in \u001b[0;36m__call__\u001b[0;34m(self, *args, **kwargs)\u001b[0m\n\u001b[1;32m    523\u001b[0m     \u001b[0mcontext\u001b[0m \u001b[0;34m=\u001b[0m \u001b[0mself\u001b[0m\u001b[0;34m.\u001b[0m\u001b[0m_context_stack\u001b[0m\u001b[0;34m.\u001b[0m\u001b[0mcurrent\u001b[0m\u001b[0;34m\u001b[0m\u001b[0;34m\u001b[0m\u001b[0m\n\u001b[1;32m    524\u001b[0m     \u001b[0marg\u001b[0m \u001b[0;34m=\u001b[0m \u001b[0mpack_args\u001b[0m\u001b[0;34m(\u001b[0m\u001b[0mself\u001b[0m\u001b[0;34m.\u001b[0m\u001b[0m_type_signature\u001b[0m\u001b[0;34m.\u001b[0m\u001b[0mparameter\u001b[0m\u001b[0;34m,\u001b[0m \u001b[0margs\u001b[0m\u001b[0;34m,\u001b[0m \u001b[0mkwargs\u001b[0m\u001b[0;34m,\u001b[0m \u001b[0mcontext\u001b[0m\u001b[0;34m)\u001b[0m\u001b[0;34m\u001b[0m\u001b[0;34m\u001b[0m\u001b[0m\n\u001b[0;32m--> 525\u001b[0;31m     \u001b[0;32mreturn\u001b[0m \u001b[0mcontext\u001b[0m\u001b[0;34m.\u001b[0m\u001b[0minvoke\u001b[0m\u001b[0;34m(\u001b[0m\u001b[0mself\u001b[0m\u001b[0;34m,\u001b[0m \u001b[0marg\u001b[0m\u001b[0;34m)\u001b[0m\u001b[0;34m\u001b[0m\u001b[0;34m\u001b[0m\u001b[0m\n\u001b[0m\u001b[1;32m    526\u001b[0m \u001b[0;34m\u001b[0m\u001b[0m\n\u001b[1;32m    527\u001b[0m   \u001b[0;32mdef\u001b[0m \u001b[0m__hash__\u001b[0m\u001b[0;34m(\u001b[0m\u001b[0mself\u001b[0m\u001b[0;34m)\u001b[0m\u001b[0;34m:\u001b[0m\u001b[0;34m\u001b[0m\u001b[0;34m\u001b[0m\u001b[0m\n",
      "\u001b[0;32m/usr/local/lib/python3.7/dist-packages/retrying.py\u001b[0m in \u001b[0;36mwrapped_f\u001b[0;34m(*args, **kw)\u001b[0m\n\u001b[1;32m     47\u001b[0m             \u001b[0;34m@\u001b[0m\u001b[0msix\u001b[0m\u001b[0;34m.\u001b[0m\u001b[0mwraps\u001b[0m\u001b[0;34m(\u001b[0m\u001b[0mf\u001b[0m\u001b[0;34m)\u001b[0m\u001b[0;34m\u001b[0m\u001b[0;34m\u001b[0m\u001b[0m\n\u001b[1;32m     48\u001b[0m             \u001b[0;32mdef\u001b[0m \u001b[0mwrapped_f\u001b[0m\u001b[0;34m(\u001b[0m\u001b[0;34m*\u001b[0m\u001b[0margs\u001b[0m\u001b[0;34m,\u001b[0m \u001b[0;34m**\u001b[0m\u001b[0mkw\u001b[0m\u001b[0;34m)\u001b[0m\u001b[0;34m:\u001b[0m\u001b[0;34m\u001b[0m\u001b[0;34m\u001b[0m\u001b[0m\n\u001b[0;32m---> 49\u001b[0;31m                 \u001b[0;32mreturn\u001b[0m \u001b[0mRetrying\u001b[0m\u001b[0;34m(\u001b[0m\u001b[0;34m*\u001b[0m\u001b[0mdargs\u001b[0m\u001b[0;34m,\u001b[0m \u001b[0;34m**\u001b[0m\u001b[0mdkw\u001b[0m\u001b[0;34m)\u001b[0m\u001b[0;34m.\u001b[0m\u001b[0mcall\u001b[0m\u001b[0;34m(\u001b[0m\u001b[0mf\u001b[0m\u001b[0;34m,\u001b[0m \u001b[0;34m*\u001b[0m\u001b[0margs\u001b[0m\u001b[0;34m,\u001b[0m \u001b[0;34m**\u001b[0m\u001b[0mkw\u001b[0m\u001b[0;34m)\u001b[0m\u001b[0;34m\u001b[0m\u001b[0;34m\u001b[0m\u001b[0m\n\u001b[0m\u001b[1;32m     50\u001b[0m \u001b[0;34m\u001b[0m\u001b[0m\n\u001b[1;32m     51\u001b[0m             \u001b[0;32mreturn\u001b[0m \u001b[0mwrapped_f\u001b[0m\u001b[0;34m\u001b[0m\u001b[0;34m\u001b[0m\u001b[0m\n",
      "\u001b[0;32m/usr/local/lib/python3.7/dist-packages/retrying.py\u001b[0m in \u001b[0;36mcall\u001b[0;34m(self, fn, *args, **kwargs)\u001b[0m\n\u001b[1;32m    204\u001b[0m \u001b[0;34m\u001b[0m\u001b[0m\n\u001b[1;32m    205\u001b[0m             \u001b[0;32mif\u001b[0m \u001b[0;32mnot\u001b[0m \u001b[0mself\u001b[0m\u001b[0;34m.\u001b[0m\u001b[0mshould_reject\u001b[0m\u001b[0;34m(\u001b[0m\u001b[0mattempt\u001b[0m\u001b[0;34m)\u001b[0m\u001b[0;34m:\u001b[0m\u001b[0;34m\u001b[0m\u001b[0;34m\u001b[0m\u001b[0m\n\u001b[0;32m--> 206\u001b[0;31m                 \u001b[0;32mreturn\u001b[0m \u001b[0mattempt\u001b[0m\u001b[0;34m.\u001b[0m\u001b[0mget\u001b[0m\u001b[0;34m(\u001b[0m\u001b[0mself\u001b[0m\u001b[0;34m.\u001b[0m\u001b[0m_wrap_exception\u001b[0m\u001b[0;34m)\u001b[0m\u001b[0;34m\u001b[0m\u001b[0;34m\u001b[0m\u001b[0m\n\u001b[0m\u001b[1;32m    207\u001b[0m \u001b[0;34m\u001b[0m\u001b[0m\n\u001b[1;32m    208\u001b[0m             \u001b[0mdelay_since_first_attempt_ms\u001b[0m \u001b[0;34m=\u001b[0m \u001b[0mint\u001b[0m\u001b[0;34m(\u001b[0m\u001b[0mround\u001b[0m\u001b[0;34m(\u001b[0m\u001b[0mtime\u001b[0m\u001b[0;34m.\u001b[0m\u001b[0mtime\u001b[0m\u001b[0;34m(\u001b[0m\u001b[0;34m)\u001b[0m \u001b[0;34m*\u001b[0m \u001b[0;36m1000\u001b[0m\u001b[0;34m)\u001b[0m\u001b[0;34m)\u001b[0m \u001b[0;34m-\u001b[0m \u001b[0mstart_time\u001b[0m\u001b[0;34m\u001b[0m\u001b[0;34m\u001b[0m\u001b[0m\n",
      "\u001b[0;32m/usr/local/lib/python3.7/dist-packages/retrying.py\u001b[0m in \u001b[0;36mget\u001b[0;34m(self, wrap_exception)\u001b[0m\n\u001b[1;32m    245\u001b[0m                 \u001b[0;32mraise\u001b[0m \u001b[0mRetryError\u001b[0m\u001b[0;34m(\u001b[0m\u001b[0mself\u001b[0m\u001b[0;34m)\u001b[0m\u001b[0;34m\u001b[0m\u001b[0;34m\u001b[0m\u001b[0m\n\u001b[1;32m    246\u001b[0m             \u001b[0;32melse\u001b[0m\u001b[0;34m:\u001b[0m\u001b[0;34m\u001b[0m\u001b[0;34m\u001b[0m\u001b[0m\n\u001b[0;32m--> 247\u001b[0;31m                 \u001b[0msix\u001b[0m\u001b[0;34m.\u001b[0m\u001b[0mreraise\u001b[0m\u001b[0;34m(\u001b[0m\u001b[0mself\u001b[0m\u001b[0;34m.\u001b[0m\u001b[0mvalue\u001b[0m\u001b[0;34m[\u001b[0m\u001b[0;36m0\u001b[0m\u001b[0;34m]\u001b[0m\u001b[0;34m,\u001b[0m \u001b[0mself\u001b[0m\u001b[0;34m.\u001b[0m\u001b[0mvalue\u001b[0m\u001b[0;34m[\u001b[0m\u001b[0;36m1\u001b[0m\u001b[0;34m]\u001b[0m\u001b[0;34m,\u001b[0m \u001b[0mself\u001b[0m\u001b[0;34m.\u001b[0m\u001b[0mvalue\u001b[0m\u001b[0;34m[\u001b[0m\u001b[0;36m2\u001b[0m\u001b[0;34m]\u001b[0m\u001b[0;34m)\u001b[0m\u001b[0;34m\u001b[0m\u001b[0;34m\u001b[0m\u001b[0m\n\u001b[0m\u001b[1;32m    248\u001b[0m         \u001b[0;32melse\u001b[0m\u001b[0;34m:\u001b[0m\u001b[0;34m\u001b[0m\u001b[0;34m\u001b[0m\u001b[0m\n\u001b[1;32m    249\u001b[0m             \u001b[0;32mreturn\u001b[0m \u001b[0mself\u001b[0m\u001b[0;34m.\u001b[0m\u001b[0mvalue\u001b[0m\u001b[0;34m\u001b[0m\u001b[0;34m\u001b[0m\u001b[0m\n",
      "\u001b[0;32m/usr/local/lib/python3.7/dist-packages/six.py\u001b[0m in \u001b[0;36mreraise\u001b[0;34m(tp, value, tb)\u001b[0m\n\u001b[1;32m    701\u001b[0m             \u001b[0;32mif\u001b[0m \u001b[0mvalue\u001b[0m\u001b[0;34m.\u001b[0m\u001b[0m__traceback__\u001b[0m \u001b[0;32mis\u001b[0m \u001b[0;32mnot\u001b[0m \u001b[0mtb\u001b[0m\u001b[0;34m:\u001b[0m\u001b[0;34m\u001b[0m\u001b[0;34m\u001b[0m\u001b[0m\n\u001b[1;32m    702\u001b[0m                 \u001b[0;32mraise\u001b[0m \u001b[0mvalue\u001b[0m\u001b[0;34m.\u001b[0m\u001b[0mwith_traceback\u001b[0m\u001b[0;34m(\u001b[0m\u001b[0mtb\u001b[0m\u001b[0;34m)\u001b[0m\u001b[0;34m\u001b[0m\u001b[0;34m\u001b[0m\u001b[0m\n\u001b[0;32m--> 703\u001b[0;31m             \u001b[0;32mraise\u001b[0m \u001b[0mvalue\u001b[0m\u001b[0;34m\u001b[0m\u001b[0;34m\u001b[0m\u001b[0m\n\u001b[0m\u001b[1;32m    704\u001b[0m         \u001b[0;32mfinally\u001b[0m\u001b[0;34m:\u001b[0m\u001b[0;34m\u001b[0m\u001b[0;34m\u001b[0m\u001b[0m\n\u001b[1;32m    705\u001b[0m             \u001b[0mvalue\u001b[0m \u001b[0;34m=\u001b[0m \u001b[0;32mNone\u001b[0m\u001b[0;34m\u001b[0m\u001b[0;34m\u001b[0m\u001b[0m\n",
      "\u001b[0;32m/usr/local/lib/python3.7/dist-packages/retrying.py\u001b[0m in \u001b[0;36mcall\u001b[0;34m(self, fn, *args, **kwargs)\u001b[0m\n\u001b[1;32m    198\u001b[0m         \u001b[0;32mwhile\u001b[0m \u001b[0;32mTrue\u001b[0m\u001b[0;34m:\u001b[0m\u001b[0;34m\u001b[0m\u001b[0;34m\u001b[0m\u001b[0m\n\u001b[1;32m    199\u001b[0m             \u001b[0;32mtry\u001b[0m\u001b[0;34m:\u001b[0m\u001b[0;34m\u001b[0m\u001b[0;34m\u001b[0m\u001b[0m\n\u001b[0;32m--> 200\u001b[0;31m                 \u001b[0mattempt\u001b[0m \u001b[0;34m=\u001b[0m \u001b[0mAttempt\u001b[0m\u001b[0;34m(\u001b[0m\u001b[0mfn\u001b[0m\u001b[0;34m(\u001b[0m\u001b[0;34m*\u001b[0m\u001b[0margs\u001b[0m\u001b[0;34m,\u001b[0m \u001b[0;34m**\u001b[0m\u001b[0mkwargs\u001b[0m\u001b[0;34m)\u001b[0m\u001b[0;34m,\u001b[0m \u001b[0mattempt_number\u001b[0m\u001b[0;34m,\u001b[0m \u001b[0;32mFalse\u001b[0m\u001b[0;34m)\u001b[0m\u001b[0;34m\u001b[0m\u001b[0;34m\u001b[0m\u001b[0m\n\u001b[0m\u001b[1;32m    201\u001b[0m             \u001b[0;32mexcept\u001b[0m\u001b[0;34m:\u001b[0m\u001b[0;34m\u001b[0m\u001b[0;34m\u001b[0m\u001b[0m\n\u001b[1;32m    202\u001b[0m                 \u001b[0mtb\u001b[0m \u001b[0;34m=\u001b[0m \u001b[0msys\u001b[0m\u001b[0;34m.\u001b[0m\u001b[0mexc_info\u001b[0m\u001b[0;34m(\u001b[0m\u001b[0;34m)\u001b[0m\u001b[0;34m\u001b[0m\u001b[0;34m\u001b[0m\u001b[0m\n",
      "\u001b[0;32m/usr/local/lib/python3.7/dist-packages/tensorflow_federated/python/core/impl/executors/execution_context.py\u001b[0m in \u001b[0;36minvoke\u001b[0;34m(self, comp, arg)\u001b[0m\n\u001b[1;32m    228\u001b[0m         return self._event_loop.run_until_complete(\n\u001b[1;32m    229\u001b[0m             tracing.wrap_coroutine_in_current_trace_context(\n\u001b[0;32m--> 230\u001b[0;31m                 _invoke(executor, comp, arg, result_type)))\n\u001b[0m",
      "\u001b[0;32m/usr/local/lib/python3.7/dist-packages/nest_asyncio.py\u001b[0m in \u001b[0;36mrun_until_complete\u001b[0;34m(self, future)\u001b[0m\n\u001b[1;32m     62\u001b[0m                 \u001b[0mf\u001b[0m\u001b[0;34m.\u001b[0m\u001b[0m_log_destroy_pending\u001b[0m \u001b[0;34m=\u001b[0m \u001b[0;32mFalse\u001b[0m\u001b[0;34m\u001b[0m\u001b[0;34m\u001b[0m\u001b[0m\n\u001b[1;32m     63\u001b[0m             \u001b[0;32mwhile\u001b[0m \u001b[0;32mnot\u001b[0m \u001b[0mf\u001b[0m\u001b[0;34m.\u001b[0m\u001b[0mdone\u001b[0m\u001b[0;34m(\u001b[0m\u001b[0;34m)\u001b[0m\u001b[0;34m:\u001b[0m\u001b[0;34m\u001b[0m\u001b[0;34m\u001b[0m\u001b[0m\n\u001b[0;32m---> 64\u001b[0;31m                 \u001b[0mself\u001b[0m\u001b[0;34m.\u001b[0m\u001b[0m_run_once\u001b[0m\u001b[0;34m(\u001b[0m\u001b[0;34m)\u001b[0m\u001b[0;34m\u001b[0m\u001b[0;34m\u001b[0m\u001b[0m\n\u001b[0m\u001b[1;32m     65\u001b[0m                 \u001b[0;32mif\u001b[0m \u001b[0mself\u001b[0m\u001b[0;34m.\u001b[0m\u001b[0m_stopping\u001b[0m\u001b[0;34m:\u001b[0m\u001b[0;34m\u001b[0m\u001b[0;34m\u001b[0m\u001b[0m\n\u001b[1;32m     66\u001b[0m                     \u001b[0;32mbreak\u001b[0m\u001b[0;34m\u001b[0m\u001b[0;34m\u001b[0m\u001b[0m\n",
      "\u001b[0;32m/usr/local/lib/python3.7/dist-packages/nest_asyncio.py\u001b[0m in \u001b[0;36m_run_once\u001b[0;34m(self)\u001b[0m\n\u001b[1;32m     85\u001b[0m             \u001b[0;32melse\u001b[0m \u001b[0mmin\u001b[0m\u001b[0;34m(\u001b[0m\u001b[0mmax\u001b[0m\u001b[0;34m(\u001b[0m\u001b[0mscheduled\u001b[0m\u001b[0;34m[\u001b[0m\u001b[0;36m0\u001b[0m\u001b[0;34m]\u001b[0m\u001b[0;34m.\u001b[0m\u001b[0m_when\u001b[0m \u001b[0;34m-\u001b[0m \u001b[0mnow\u001b[0m\u001b[0;34m,\u001b[0m \u001b[0;36m0\u001b[0m\u001b[0;34m)\u001b[0m\u001b[0;34m,\u001b[0m \u001b[0;36m86400\u001b[0m\u001b[0;34m)\u001b[0m \u001b[0;32mif\u001b[0m \u001b[0mscheduled\u001b[0m\u001b[0;34m\u001b[0m\u001b[0;34m\u001b[0m\u001b[0m\n\u001b[1;32m     86\u001b[0m             else None)\n\u001b[0;32m---> 87\u001b[0;31m         \u001b[0mevent_list\u001b[0m \u001b[0;34m=\u001b[0m \u001b[0mself\u001b[0m\u001b[0;34m.\u001b[0m\u001b[0m_selector\u001b[0m\u001b[0;34m.\u001b[0m\u001b[0mselect\u001b[0m\u001b[0;34m(\u001b[0m\u001b[0mtimeout\u001b[0m\u001b[0;34m)\u001b[0m\u001b[0;34m\u001b[0m\u001b[0;34m\u001b[0m\u001b[0m\n\u001b[0m\u001b[1;32m     88\u001b[0m         \u001b[0mself\u001b[0m\u001b[0;34m.\u001b[0m\u001b[0m_process_events\u001b[0m\u001b[0;34m(\u001b[0m\u001b[0mevent_list\u001b[0m\u001b[0;34m)\u001b[0m\u001b[0;34m\u001b[0m\u001b[0;34m\u001b[0m\u001b[0m\n\u001b[1;32m     89\u001b[0m \u001b[0;34m\u001b[0m\u001b[0m\n",
      "\u001b[0;32m/usr/lib/python3.7/selectors.py\u001b[0m in \u001b[0;36mselect\u001b[0;34m(self, timeout)\u001b[0m\n\u001b[1;32m    466\u001b[0m             \u001b[0mready\u001b[0m \u001b[0;34m=\u001b[0m \u001b[0;34m[\u001b[0m\u001b[0;34m]\u001b[0m\u001b[0;34m\u001b[0m\u001b[0;34m\u001b[0m\u001b[0m\n\u001b[1;32m    467\u001b[0m             \u001b[0;32mtry\u001b[0m\u001b[0;34m:\u001b[0m\u001b[0;34m\u001b[0m\u001b[0;34m\u001b[0m\u001b[0m\n\u001b[0;32m--> 468\u001b[0;31m                 \u001b[0mfd_event_list\u001b[0m \u001b[0;34m=\u001b[0m \u001b[0mself\u001b[0m\u001b[0;34m.\u001b[0m\u001b[0m_selector\u001b[0m\u001b[0;34m.\u001b[0m\u001b[0mpoll\u001b[0m\u001b[0;34m(\u001b[0m\u001b[0mtimeout\u001b[0m\u001b[0;34m,\u001b[0m \u001b[0mmax_ev\u001b[0m\u001b[0;34m)\u001b[0m\u001b[0;34m\u001b[0m\u001b[0;34m\u001b[0m\u001b[0m\n\u001b[0m\u001b[1;32m    469\u001b[0m             \u001b[0;32mexcept\u001b[0m \u001b[0mInterruptedError\u001b[0m\u001b[0;34m:\u001b[0m\u001b[0;34m\u001b[0m\u001b[0;34m\u001b[0m\u001b[0m\n\u001b[1;32m    470\u001b[0m                 \u001b[0;32mreturn\u001b[0m \u001b[0mready\u001b[0m\u001b[0;34m\u001b[0m\u001b[0;34m\u001b[0m\u001b[0m\n",
      "\u001b[0;31mKeyboardInterrupt\u001b[0m: "
     ]
    }
   ],
   "source": [
    "NUM_ROUNDS = 50\n",
    "\n",
    "loss = list()\n",
    "accuracy = list()\n",
    "AUC=list()\n",
    "\n",
    "\n",
    "\n",
    "val_loss = list()\n",
    "val_accuracy = list()\n",
    "val_AUC=list()\n",
    "\n",
    "\n",
    "\n",
    "evaluation = tff.learning.build_federated_evaluation(model_fn)\n",
    "federated_test_data = make_federated_data(test_data, test_client_ids)\n",
    "\n",
    "for round_num in range(1, NUM_ROUNDS+1):\n",
    "    state, metrics = iterative_process.next(state, federated_train_data)\n",
    "    val_metrics = evaluation(state.model, federated_test_data)\n",
    "    \n",
    "    \n",
    "    my_loss = metrics['train']['loss']\n",
    "    loss.append(metrics['train']['loss'])\n",
    "\n",
    "    \n",
    "    my_acc = metrics['train']['categorical_accuracy']\n",
    "    accuracy.append(metrics['train']['categorical_accuracy'])\n",
    "\n",
    "    my_AUC = metrics['train']['AUC']\n",
    "    AUC.append(my_AUC)\n",
    "    \n",
    "    \n",
    "    my_val_loss=val_metrics['loss']\n",
    "    val_loss.append(val_metrics['loss'])\n",
    "\n",
    "    \n",
    "    \n",
    "    my_val_accuracy=val_metrics['categorical_accuracy']\n",
    "    val_accuracy.append(val_metrics['categorical_accuracy'])\n",
    "    \n",
    "\n",
    "    my_val_AUC = val_metrics['AUC']\n",
    "    val_AUC.append(my_val_AUC)\n",
    "\n",
    "    print(f\"round: {round_num:2d}, training_loss: {my_loss}, training_accuracy: {my_acc}, train_auc: {my_AUC}, test_loss: {my_val_loss}, test_accuracy: {my_val_accuracy},  test_auc: {my_val_AUC}\")\n",
    "\n",
    "\n",
    "history_fed={'loss':loss, 'categorical_accuracy':accuracy, 'AUC':AUC, 'val_loss':val_loss, 'val_categorical_accuracy':val_accuracy, 'val_AUC':val_AUC}\n",
    "\n",
    "\n",
    "#np.save('/content/gdrive/Shareddrives/AI Engineering/PETs/Privacy-Sobhan Hemati/Kidney/history_fed_train_id_0_2_3_test_id_1.npy',history_fed)"
   ]
  },
  {
   "cell_type": "markdown",
   "metadata": {
    "id": "34_2dhNZUOoF"
   },
   "source": [
    "## An experiment setup for comparing HFL against baseline\n",
    "\n",
    "### Train on one hospital and test on another one.\n",
    "*   We choose hospitals 0,2,3 as training hospitals and hospital 1 as the test hospital\n",
    "*   For the baseline scenario, we separately train 3 models on each one of 0, 2, and 3 hospitals and test the three models on data of hospital 1\n",
    "*   For the FL scenario, we train a shared global model on hospitals 0,2, and 3 while clients keep their training data private\n",
    "*   Then, we compare the performance of the FL model against the baseline"
   ]
  },
  {
   "cell_type": "markdown",
   "metadata": {
    "id": "o5pFjFpJU7hu"
   },
   "source": [
    "## Comparison of FederatedAveraging against the baseline scenario"
   ]
  },
  {
   "cell_type": "code",
   "execution_count": null,
   "metadata": {
    "id": "mnVjeCuMQh1_"
   },
   "outputs": [],
   "source": [
    "\n",
    "history_fed=np.load(path+'/history_fed_train_id_0_2_3_test_id_1.npy',allow_pickle=True).item()"
   ]
  },
  {
   "cell_type": "code",
   "execution_count": null,
   "metadata": {
    "id": "NAoFLkqWB3bn"
   },
   "outputs": [],
   "source": [
    "train_id=3\n",
    "test_id=1\n",
    "history={}\n",
    "history['{},{}'.format(train_id,test_id)]=np.load(path+'/my_history_train_id_{}_test_id_{}.npy'.format(train_id,test_id),allow_pickle='TRUE').item()"
   ]
  },
  {
   "cell_type": "code",
   "execution_count": null,
   "metadata": {
    "id": "KKjYjL17EJ4b"
   },
   "outputs": [],
   "source": [
    "train_id=2\n",
    "test_id=1\n",
    "history['{},{}'.format(train_id,test_id)]=np.load(path+'/my_history_train_id_{}_test_id_{}.npy'.format(train_id,test_id),allow_pickle='TRUE').item()"
   ]
  },
  {
   "cell_type": "code",
   "execution_count": null,
   "metadata": {
    "id": "dLT3bTrpFBPv"
   },
   "outputs": [],
   "source": [
    "train_id=0\n",
    "test_id=1\n",
    "history['{},{}'.format(train_id,test_id)]=np.load(path+'/my_history_train_id_{}_test_id_{}.npy'.format(train_id,test_id),allow_pickle='TRUE').item()"
   ]
  },
  {
   "cell_type": "code",
   "execution_count": null,
   "metadata": {
    "colab": {
     "base_uri": "https://localhost:8080/",
     "height": 468
    },
    "id": "OzpUcy1cLVU7",
    "outputId": "f92a6aeb-276f-4a15-e8d6-6098b385a88d"
   },
   "outputs": [
    {
     "data": {
      "image/png": "[encoded data removed]",
      "text/plain": [
       "<Figure size 2160x576 with 6 Axes>"
      ]
     },
     "metadata": {
      "needs_background": "light"
     },
     "output_type": "display_data"
    }
   ],
   "source": [
    "fig1 = plt.figure(figsize=(30, 8))\n",
    "fig1.subplots_adjust(top = 0.99, bottom=0.01, hspace=.3, wspace=0.3)\n",
    "ax1 = fig1.add_subplot(2, 3, 1)\n",
    "ax1.plot(history_fed['AUC'],color='black',label='Train AUC on Hispital 1 with Federated Model trained on Hospitals 0-2-3')\n",
    "ax1.plot(history['3,1']['AUC'],'*-',label='Train AUC on Hispital 1 with Model trained on Hospital 3')\n",
    "ax1.plot(history['2,1']['AUC'], '--', label='Train AUC on Hispital 1 with Model trained on Hospital 2')\n",
    "ax1.plot(history['0,1']['AUC'], '-.',label='Train AUC on Hispital 1 with Model trained on Hospital 0')\n",
    "ax1.legend(loc='lower right')\n",
    "ax1.set_ylabel('Auc')\n",
    "ax1.set_ylim([0, 1])\n",
    "ax1.set_title('Train Auc')\n",
    "ax1.set_xlabel('Epoch/Round')\n",
    "\n",
    "\n",
    "ax2 = fig1.add_subplot(2, 3, 2)\n",
    "ax2.plot(history_fed['categorical_accuracy'],color='black',label='Train Accuracy on Hispital 1 with Federated Model trained on Hospitals 0-2-3')\n",
    "ax2.plot(history['3,1']['categorical_accuracy'],'*-',label='Train Accuracy on Hispital 1 with Model trained on Hospital 3')\n",
    "ax2.plot(history['2,1']['categorical_accuracy'], '--', label='Train Accuracy on Hispital 1 with Model trained on Hospital 2')\n",
    "ax2.plot(history['0,1']['categorical_accuracy'], '-.',label='Train Accuracy on Hispital 1 with Model trained on Hospital 0')\n",
    "ax2.legend(loc='lower right')\n",
    "ax2.set_ylabel('Accuracy')\n",
    "ax2.set_ylim([0, 1])\n",
    "ax2.set_title('Train Accuracy')\n",
    "ax2.set_xlabel('Epoch/Round')\n",
    "\n",
    "ax3 = fig1.add_subplot(2, 3, 3)\n",
    "ax3.plot(history_fed['loss'],color='black',label='Train Loss on Hispital 1 with Federated Model trained on Hospitals 0-2-3')\n",
    "ax3.plot(history['3,1']['loss'],'*-', label='Train Loss of Hispital 1 with Model trained on Hospital 3')\n",
    "ax3.plot(history['2,1']['loss'], '--',label='Train Loss of Hispital 1 with Model trained on Hospital 2')\n",
    "ax3.plot(history['0,1']['loss'], '-.',label='Train Loss of Hispital 1 with Model trained on Hospital 0')\n",
    "\n",
    "ax3.legend(loc='lower right')\n",
    "ax3.set_ylabel('Cross Entropy')\n",
    "ax3.set_ylim([0,max(ax2.get_ylim())+.5])\n",
    "ax3.set_title('Train Loss')\n",
    "ax3.set_xlabel('Epoch/Round')\n",
    "\n",
    "\n",
    "\n",
    "ax4 = fig1.add_subplot(2, 3, 4)\n",
    "ax4.plot(history_fed['val_AUC'],color='black',label='Test AUC on Hispital 1 with Federated Model trained on Hospitals 0-2-3')\n",
    "ax4.plot(history['3,1']['val_AUC'],'*-',label='Test AUC on Hispital 1 with Model trained on Hospital 3')\n",
    "ax4.plot(history['2,1']['val_AUC'], '--', label='Test AUC on Hispital 1 with Model trained on Hospital 2')\n",
    "ax4.plot(history['0,1']['val_AUC'], '-.',label='Test AUC on Hispital 1 with Model trained on Hospital 0')\n",
    "ax4.legend(loc='lower right')\n",
    "ax4.set_ylabel('Auc')\n",
    "ax4.set_ylim([0, 1])\n",
    "ax4.set_title('Test Auc')\n",
    "ax4.set_xlabel('Epoch/Round')\n",
    "\n",
    "\n",
    "ax5 = fig1.add_subplot(2, 3, 5)\n",
    "ax5.plot(history_fed['val_categorical_accuracy'],color='black',linewidth=3,label='Test Accuracy on Hispital 1 with Federated Model trained on Hospitals 0-2-3')\n",
    "ax5.plot(history['3,1']['val_categorical_accuracy'],'*-',label='Test Accuracy on Hispital 1 with Model trained on Hospital 3')\n",
    "ax5.plot(history['2,1']['val_categorical_accuracy'], '--', label='Test Accuracy on Hispital 1 with Model trained on Hospital 2')\n",
    "ax5.plot(history['0,1']['val_categorical_accuracy'], '-.',label='Test Accuracy on Hispital 1 with Model trained on Hospital 0')\n",
    "ax5.legend(loc='lower right')\n",
    "ax5.set_ylabel('Accuracy')\n",
    "ax5.set_ylim([0, 1])\n",
    "ax5.set_title('Test Accuracy')\n",
    "ax5.set_xlabel('Epoch/Round')\n",
    "\n",
    "ax6 = fig1.add_subplot(2, 3, 6)\n",
    "\n",
    "ax6.plot(history_fed['val_loss'],color='black',label='Test Loss on Hispital 1 with Federated Model trained on Hospitals 0-2-3')\n",
    "ax6.plot(history['3,1']['val_loss'],'*-', label='Test Loss of Hispital 1 with Model trained on Hospital 3')\n",
    "ax6.plot(history['2,1']['val_loss'], '--',label='Test Loss of Hispital 1 with Model trained on Hospital 2')\n",
    "ax6.plot(history['0,1']['val_loss'], '-.',label='Test Loss of Hispital 1 with Model trained on Hospital 0')\n",
    "\n",
    "ax6.legend(loc='lower right')\n",
    "ax6.set_ylabel('Cross Entropy')\n",
    "ax6.set_ylim([0,max(ax2.get_ylim())+.5])\n",
    "ax6.set_title('Test Loss')\n",
    "ax6.set_xlabel('Epoch/Round')\n",
    "\n",
    "plt.savefig('/content/gdrive/Shareddrives/AI Engineering/PETs/Privacy-Sobhan Hemati/Kidney/history_fed_train_id_0_2_3_result.jpg',bbox_inches='tight')"
   ]
  },
  {
   "cell_type": "code",
   "execution_count": null,
   "metadata": {
    "colab": {
     "base_uri": "https://localhost:8080/"
    },
    "id": "06LH-vTiEnV5",
    "outputId": "8d681287-52a9-412a-f353-83e914990e97"
   },
   "outputs": [
    {
     "name": "stdout",
     "output_type": "stream",
     "text": [
      "tensorflow-federated          0.19.0              /usr/local/lib/python3.7/dist-packages pip\n",
      "tensorflow                    2.5.1               /usr/local/lib/python3.7/dist-packages pip\n",
      "tensorflow-datasets           4.0.1               /usr/local/lib/python3.7/dist-packages pip\n",
      "tensorflow-estimator          2.5.0               /usr/local/lib/python3.7/dist-packages pip\n",
      "tensorflow-federated          0.19.0              /usr/local/lib/python3.7/dist-packages pip\n",
      "tensorflow-gcs-config         2.6.0               /usr/local/lib/python3.7/dist-packages pip\n",
      "tensorflow-hub                0.12.0              /usr/local/lib/python3.7/dist-packages pip\n",
      "tensorflow-metadata           1.2.0               /usr/local/lib/python3.7/dist-packages pip\n",
      "tensorflow-model-optimization 0.5.0               /usr/local/lib/python3.7/dist-packages pip\n",
      "tensorflow-privacy            0.5.2               /usr/local/lib/python3.7/dist-packages pip\n",
      "tensorflow-probability        0.14.1              /usr/local/lib/python3.7/dist-packages pip\n"
     ]
    }
   ],
   "source": [
    "!pip list -v | grep tensorflow-federated\n",
    "!pip list -v | grep tensorflow\n"
   ]
  },
  {
   "cell_type": "code",
   "execution_count": null,
   "metadata": {
    "colab": {
     "base_uri": "https://localhost:8080/"
    },
    "id": "sBYqUaXSyJ8W",
    "outputId": "0afff628-0747-443f-9699-ad3b11632097"
   },
   "outputs": [
    {
     "name": "stdout",
     "output_type": "stream",
     "text": [
      "3.7.12\n"
     ]
    }
   ],
   "source": [
    "from platform import python_version\n",
    "\n",
    "print(python_version())"
   ]
  },
  {
   "cell_type": "code",
   "execution_count": 10,
   "metadata": {
    "colab": {
     "base_uri": "https://localhost:8080/"
    },
    "id": "8U5uUYV3nXuK",
    "outputId": "68319fb1-bff7-4ef6-fc15-1a2ba84dcd7b"
   },
   "outputs": [
    {
     "name": "stdout",
     "output_type": "stream",
     "text": [
      "tensorflow-federated          0.18.0         /usr/local/lib/python3.7/dist-packages pip\n",
      "tensorflow                    2.4.3          /usr/local/lib/python3.7/dist-packages pip\n",
      "tensorflow-addons             0.12.1         /usr/local/lib/python3.7/dist-packages pip\n",
      "tensorflow-datasets           4.0.1          /usr/local/lib/python3.7/dist-packages pip\n",
      "tensorflow-estimator          2.4.0          /usr/local/lib/python3.7/dist-packages pip\n",
      "tensorflow-federated          0.18.0         /usr/local/lib/python3.7/dist-packages pip\n",
      "tensorflow-gcs-config         2.6.0          /usr/local/lib/python3.7/dist-packages pip\n",
      "tensorflow-hub                0.12.0         /usr/local/lib/python3.7/dist-packages pip\n",
      "tensorflow-metadata           1.2.0          /usr/local/lib/python3.7/dist-packages pip\n",
      "tensorflow-model-optimization 0.5.0          /usr/local/lib/python3.7/dist-packages pip\n",
      "tensorflow-privacy            0.5.2          /usr/local/lib/python3.7/dist-packages pip\n",
      "tensorflow-probability        0.14.1         /usr/local/lib/python3.7/dist-packages pip\n"
     ]
    }
   ],
   "source": [
    "!pip list -v | grep tensorflow-federated\n",
    "!pip list -v | grep tensorflow\n"
   ]
  },
  {
   "cell_type": "code",
   "execution_count": null,
   "metadata": {
    "id": "vE5lmagWo52V"
   },
   "outputs": [],
   "source": []
  }
 ],
 "metadata": {
  "accelerator": "GPU",
  "colab": {
   "collapsed_sections": [],
   "name": "HFL_WSI_part2.ipynb",
   "provenance": []
  },
  "kernelspec": {
   "display_name": "Python 3",
   "language": "python",
   "name": "python3"
  },
  "language_info": {
   "codemirror_mode": {
    "name": "ipython",
    "version": 3
   },
   "file_extension": ".py",
   "mimetype": "text/x-python",
   "name": "python",
   "nbconvert_exporter": "python",
   "pygments_lexer": "ipython3",
   "version": "3.7.10"
  }
 },
 "nbformat": 4,
 "nbformat_minor": 1
}
