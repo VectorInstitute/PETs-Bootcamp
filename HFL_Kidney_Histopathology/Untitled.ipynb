{
 "cells": [
  {
   "cell_type": "code",
   "execution_count": null,
   "id": "saving-librarian",
   "metadata": {},
   "outputs": [],
   "source": [
    "print('are you working?')"
   ]
  },
  {
   "cell_type": "code",
   "execution_count": null,
   "id": "separate-stuff",
   "metadata": {},
   "outputs": [],
   "source": []
  }
 ],
 "metadata": {
  "kernelspec": {
   "display_name": "tff_test_4",
   "language": "python",
   "name": "tff_test_4"
  },
  "language_info": {
   "codemirror_mode": {
    "name": "ipython",
    "version": 3
   },
   "file_extension": ".py",
   "mimetype": "text/x-python",
   "name": "python",
   "nbconvert_exporter": "python",
   "pygments_lexer": "ipython3",
   "version": "3.7.10"
  }
 },
 "nbformat": 4,
 "nbformat_minor": 5
}
