{
 "cells": [
  {
   "cell_type": "markdown",
   "metadata": {
    "id": "3gDUrA30qZ_Y"
   },
   "source": [
    "# Introduction "
   ]
  },
  {
   "cell_type": "markdown",
   "metadata": {
    "id": "LsFwOPMikD0z"
   },
   "source": [
    "The following notebook provides a comprehensive overview and implementation of the [Private Aggregation of Teacher Ensembles (PATE)](https://arxiv.org/pdf/1610.05755.pdf) using [PyTorch](https://pytorch.org/) and [PySyft](https://github.com/OpenMined/PySyft). The dataset that is used is [Home Credit Default Dataset](https://www.kaggle.com/c/home-credit-default-risk/overview) which contains features about credit applicants drawn from the internal operations of a financial insititution as well as corresponding Credit Bureau data. The target is whether or not the appliant will default on their debt. The following sections contain a detailed a theoretical overview and subsequent implementation."
   ]
  },
  {
   "cell_type": "markdown",
   "metadata": {
    "id": "1UJ17d9wi_Wj"
   },
   "source": [
    "# Background"
   ]
  },
  {
   "cell_type": "markdown",
   "metadata": {
    "id": "QSw3SY9KH7ER"
   },
   "source": [
    "## Private AI"
   ]
  },
  {
   "cell_type": "markdown",
   "metadata": {
    "id": "JGDRyW8wktJ3"
   },
   "source": [
    "### Introduction to Private AI\n",
    "A major concern of production machine learning systems is maintaining the privacy of the data that was used to train it. This is especially relevant in use cases with private and sensitive information. In the Private AI literature, a party looking to reveal information about the data that a model is trained on is called an adversary. Even if the adversary does not have access to the data explicitly, access to the model and/or its outputs can reveal information about the data that the model was trained on."
   ]
  },
  {
   "cell_type": "markdown",
   "metadata": {
    "id": "h6CDtTTYkxLk"
   },
   "source": [
    "### Privacy Attacks\n",
    "An adversary employs a privacy attack in order to reveal information about the data that the model was trained on. Two attacks that are well researched in the Private AI Literature: \n",
    "- **Model Inversion Attack:** Try to obtain information about typical samples in the training dataset. This involves attacks that euther reconst a specific sample or representative samples in the training dataset. \n",
    "\n",
    "- **Membership Inference Attack:** Try to ascertain whether or not a sample was used to train a model. "
   ]
  },
  {
   "cell_type": "markdown",
   "metadata": {
    "id": "nIykJlBGk3ye"
   },
   "source": [
    "### Threat Models\n",
    "Each adversary has a threat model that informs the manner in which they go about a privacy attack. The threat model describes the level of access that an adverary has to a model. At a high level, there are two threat models: \n",
    "- **Black Box Adversary:** Solely able to query the model. Thus, the only information made available to the adversary is the inputs and outputs of the model. \n",
    "- **White Box Adversary:** The adversary is able to query the model as well as have access to its internal parameters. This implies that the adversary has access to the input, output and the intermediate computations made by the model. "
   ]
  },
  {
   "cell_type": "markdown",
   "metadata": {
    "id": "al6B9oHXC4sq"
   },
   "source": [
    "## Differential Privacy "
   ]
  },
  {
   "cell_type": "markdown",
   "metadata": {
    "id": "dp4s6GL0_gJt"
   },
   "source": [
    "### Introduction to Differential Privacy\n",
    "In order to evaluate the robustness of a model to privacy attacks, we have to define a framework through which we can obtain a quantitative measure that describes its performance in terms of privacy. To this end, Differential Privacy has been proposed and offers a powerful mechanism to assess and rank the privacy of models. It does so based on the sensitivity of a model to the inclusion of a specific sample.\n",
    "\n",
    "<p align=\"center\">\n",
    "<img width=\"433\" alt=\"Screen Shot 2021-09-28 at 5 41 20 PM\" src=\"https://user-images.githubusercontent.com/34798787/137939981-a9968386-4a28-4447-ad9e-5babab497eeb.png\">  \n",
    "</p>\n",
    "<center>\n",
    "<a href=https://www.nist.gov/blogs/cybersecurity-insights/differential-privacy-privacy-preserving-data-analysis-introduction-our>Source</a>  \n",
    "</center>\n",
    "\n",
    "\n",
    "\n",
    "Specified formally, the definition of differential privacy is given by the below inequality: \n",
    "<p align=\"center\">\n",
    "<img width=\"185\" alt=\"Screen Shot 2021-10-19 at 11 40 16 AM\" src=\"https://user-images.githubusercontent.com/34798787/137944948-cffd9db8-5a29-4f98-bf5a-b5b7d4bbe25b.png\">\n",
    "</p>\n",
    "\n",
    "where M is the model, x is orginal the dataset, x' is the original dataset augmented to include or exclude a single sample. $\\epsilon$ acts as a metric of privacy loss based on a differential change in data. The smaller the value is, the better privacy protection. Rearranging the inequality yields:\n",
    "\n",
    "<p align=\"center\">\n",
    "<img width=\"345\" alt=\"Screen Shot 2021-10-19 at 3 37 50 PM\" src=\"https://user-images.githubusercontent.com/34798787/137978800-d3c56d46-5b7c-4b37-a61e-6f7b8daa61d2.png\">\n",
    "</p>\n",
    "This is a strong to guarentee to achieve in practice so a failure probability in order to relax this constraint we add a failure probability, $\\delta$, to the RHS of the inequality: \n",
    "\n",
    "<p align=\"center\">\n",
    "<img width=\"400\" alt=\"Screen Shot 2021-10-19 at 3 35 50 PM\" src=\"https://user-images.githubusercontent.com/34798787/137978567-7a0313bc-d9cd-4a0d-9f9b-7df3711f2c3d.png\">\n",
    "</p>\n",
    "\n",
    "As long as delta is smaller than the probability that a sample occurs in the dataset, we will still obtain a high degree of privacy. This allows us to relax the guarentee we need to provide while maintaining an acceptable level of privacy. As parameters that define the interval of differential privacy, a model with $\\epsilon$ and $\\delta$ is ($\\epsilon$, $\\delta$)-differentially private. \n",
    "\n"
   ]
  },
  {
   "cell_type": "markdown",
   "metadata": {
    "id": "uGFoQdWKnhO4"
   },
   "source": [
    "### Composition in Differential Privacy\n",
    "An important consideration in practice is determining the differential privacy of a composition of a number of models. Drawing from [The Algorithmic Foundations\n",
    "of Differential Privacy](https://www.cis.upenn.edu/~aaroth/Papers/privacybook.pdf), the composition of k differentially private mechanisms, where the $i$th mechanism is ($\\epsilon_{i}$, $\\delta_{i}$)-differentially private, for 1 $\\leq$ i $\\leq$ k, is ($\\sum \\epsilon_{i}$, $\\sum \\delta_{i}$)-differentially private.\n",
    "\n"
   ]
  },
  {
   "cell_type": "markdown",
   "metadata": {
    "id": "9AUvaoZwo5wA"
   },
   "source": [
    "### Privacy Amplication Theorem\n",
    "If we select a subset of samples from the dataset, it is intuitive that we would incur a privacy loss that is lower than that of using the entire dataset. This is the essence of the Privacy Amplication Theorem which states that if we randomly sample a q of the data, rather than the entrie dataset, then an ($\\epsilon$, $\\delta$) private mechansm becomes ($q\\epsilon$, $q\\delta$)-differentially private.\n",
    "\n"
   ]
  },
  {
   "cell_type": "markdown",
   "metadata": {
    "id": "gSBhhCsmo-PK"
   },
   "source": [
    "### Fundamental Law of Information Recovery\n",
    "The Fundamental Law of Information Recovery states that overly accurate estimates of too many statistics erodes the privacy of data. This implies that continuously querying a private mechanism will increase the privacy loss incurred. "
   ]
  },
  {
   "cell_type": "markdown",
   "metadata": {
    "id": "l2H6fxx_pCBy"
   },
   "source": [
    "### Implications for Training and Testing Machine Learning Models\n",
    "Within the context of training and testing a machine learning model, we can use Composition in Differentially Privacy and Privacy Amplication Theorem to derive the privacy loss in situations where we are iteritvely querying a model with a random subset of the data, such as in the case of training and testing Neural Networks. The summation of privacy losses over queries follows the intuition from the Fundamental Law of Information Recovery that continuously querying a private mechanism will increase the privacy loss incurred. "
   ]
  },
  {
   "cell_type": "markdown",
   "metadata": {
    "id": "nbmYkT6eDVbb"
   },
   "source": [
    "## Differentially Private Stochastic Gradient Descent (DP-SGD)"
   ]
  },
  {
   "cell_type": "markdown",
   "metadata": {
    "id": "sdshKgqDDVX6"
   },
   "source": [
    "### Introduction to DP-SGD\n",
    "The seminal paper that applies Differential Privacy to Deep Learning is [Deep Learing with Differential Privacy](https://arxiv.org/abs/1607.00133). In this paper, a differentially-private variant of stochastic gradient descent is proposed (DP-SGD). \n",
    "\n",
    "<p align=\"center\">\n",
    "<img width=\"500\" alt=\"dpsgd\" src=\"https://user-images.githubusercontent.com/34798787/138136971-c51261d3-73de-4afb-97b9-71e149ddfacd.png\">\n",
    "</p>\n",
    "\n",
    "<center>\n",
    "<a href=https://secml.github.io/class4>Source</a>  \n",
    "</center>\n",
    "\n",
    "\n"
   ]
  },
  {
   "cell_type": "markdown",
   "metadata": {
    "id": "TLuoqxJupmti"
   },
   "source": [
    "### Estimating Differential Privacy for a Single Gradient Update\n",
    "As in vanilla SGD, we start with calculating the gradient of a batch of data. In order to limit the amount information we learn from the batch, we clip the gradient at C which is a hyperpareter for the algorithim. We than add noise $\\sigma^2$ proportional C and than update the parameters of the model. \n",
    " \n"
   ]
  },
  {
   "cell_type": "markdown",
   "metadata": {
    "id": "7sT7fO8Bpt3-"
   },
   "source": [
    "### Estimating Differential Privacy for accross Gradient Updates\n",
    "In order to get the total privacy loss, we must aggregate the privacy loss for each gradient update. Based on Composition in Differential Privacy and The Privacy Amplicaiton Theorem, we can define a Naive estimate of the upper bound of the privacy loss. Given an ($\\epsilon$, $\\delta$)-differentially private algorithim, with a batch size proportional to $q$ run for T iterations has a differential privacy of ($Tq\\epsilon$, $Tq\\delta$). \n",
    "\n",
    "It turns out that a more complex analysis can yield lower bounds for the privacy loss. Thus, finding the lowest bound possible allows us to more accurately determine the privacy loss and to avoid overstimating it. For example, the Strong Compositon Theorem can be used to prove an even lower bound on the privacy loss. In the DP-SGD paper, the authors propose the Moments Accountant which provided the lowest bound \n",
    "- **Naive Analysis:** ($Tq\\epsilon$, $Tq\\delta$)-differentially private\n",
    "- **Strong Composition Theorem:** ($O(q\\epsilon\\sqrt{Tlog(1/\\delta)})$, $Tq\\delta$)-differentially private\n",
    "- **Moments Accountant:** ($O(q\\epsilon\\sqrt{T})$, $\\delta$)-differentially private.\n",
    "\n"
   ]
  },
  {
   "cell_type": "markdown",
   "metadata": {
    "id": "Nx263fuIpysx"
   },
   "source": [
    "### Moments Accountant\n",
    "The fundamental insight of the Moments Accountant technique is that the privacy loss is a random variable. Thus, if we look at the distribution of the privacy loss, we can see that $\\epsilon$ defines the privacy budget for the loss and $\\delta$ provides an upper bound on the tail of the distribution. \n",
    "\n",
    "<p align=\"center\">\n",
    "<img width=\"500\" alt=\"Screen Shot 2021-10-20 at 1 50 02 PM\" src=\"https://user-images.githubusercontent.com/34798787/138145128-0d67885f-a5c4-448f-9fcd-78fa0452a3ce.png\">\n",
    "</p>\n",
    "<center>\n",
    "<a href=https://www.youtube.com/watch?v=jm1Sfdno_5A>Source</a>  \n",
    "</center>\n",
    "\n",
    "By treating the privacy loss as a random variable, we can leverage probability theory to derive a lower bound on the privacy loss. Specifically, the Moments Accountant Technique uses the moments of the distribution (ie mean, variance, skewness and kurtosis) in order to do so. Incorporating the higher order information of the distibution made available through the moments  allows us to derive a lower bound on the privacy loss: $O(q\\epsilon\\sqrt{T})$, $\\delta$). For a deeper look into the Moments Accountant technique, refer to [Deep Learing with Differential Privacy](https://arxiv.org/abs/1607.00133).\n",
    "\n",
    "\n",
    "\n",
    "\n"
   ]
  },
  {
   "cell_type": "markdown",
   "metadata": {
    "id": "y6HDEC24D2mA"
   },
   "source": [
    "## Private Aggregation of Teacher Ensembles (PATE)\n"
   ]
  },
  {
   "cell_type": "markdown",
   "metadata": {
    "id": "5CXDPUynGRC1"
   },
   "source": [
    "### Introduction to PATE\n",
    "In [Scalable Private Learning with PATE](https://arxiv.org/abs/1802.08908), authors set out solve the problem of preserving the privacy of training data when training classfiers. They began with defining certain criteria for the solution:\n",
    "- Differential privacy protection guarentees\n",
    "- Intuitive privacy protection guarentees \n",
    "- **Independent of learning algorithim**\n",
    "\n",
    "<p align=\"center\">\n",
    "<img width=\"500\" alt=\"dpsgd\" src=\"https://user-images.githubusercontent.com/34798787/139095511-ff27899c-80f0-45bf-a4d0-d18820c20e34.png\">\n",
    "</p>\n",
    "\n",
    "<center>\n",
    "<a href=https://www.youtube.com/watch?v=cjo_u_yT2wQ&t=1s>Source</a>  \n",
    "</center>\n",
    "\n",
    "\n",
    "\n",
    "\n",
    "\n",
    "\n",
    "\n",
    "\n",
    "\n"
   ]
  },
  {
   "cell_type": "markdown",
   "metadata": {
    "id": "8WmZJ5keqNei"
   },
   "source": [
    "### Ensembling\n",
    "\n",
    "In differential privacy, we seek to learn general trends from the data. That is, the outcome of the the prediction of a sample, should be the same whether or not we choose to include an sample in the dataset for each sample in the dataset. One natural way to achieve this to use an ensemble of models trained on random subsets of the dataset. In this way, the prediction for a specific sample is less likely to depend on a single example. Furthermore, if there is a strong consensus among the ensemble, it is likely the prediction stems from a general trend rather than a specific sample. In practice, this allows us to define a lower, data dependent bound on the privacy loss. \n",
    "\n",
    "Although ensembling enhances differentially privacy, it is still possible that the inclusion/exclusion of samples in the various teachers will change the outcome of the predictions. This is especially the case when there is not a strong consensus among the ensemble; the vote of single teacher can sway the prediction of the output. \n",
    "\n",
    "\n"
   ]
  },
  {
   "cell_type": "markdown",
   "metadata": {
    "id": "aibw7NVzqQ5P"
   },
   "source": [
    "### Noisy Aggregation\n",
    "\n",
    "In order to address the aforementioned shortcoming, we can aggregate the votes of the teachers in a noisy way. This is realized by adding noise to the final prediction.\n",
    "\n",
    "<p align=\"center\">\n",
    "<img width=\"500\" alt=\"dpsgd\" src=\"https://user-images.githubusercontent.com/34798787/139089966-fa783578-cc52-4a58-bcb4-9a06432868ac.png\">\n",
    "</p>\n",
    "<center>\n",
    "<a href=https://www.youtube.com/watch?v=cjo_u_yT2wQ&t=1s>Source</a>  \n",
    "</center>\n",
    "\n",
    "\n"
   ]
  },
  {
   "cell_type": "markdown",
   "metadata": {
    "id": "sITlMBDZqTnt"
   },
   "source": [
    "### Student Training\n",
    "Although the aggregated teacher is a good step towards differential privacy, it does have some shortcomings: \n",
    "- Each prediction increases total privacy loss. Thus, the privacy budget creates a tradeoff between the accuracy and number of predictions.\n",
    "- Inspection of internal may reveal private data. However, we want privacy guarentees that hold for white box adversaries. \n",
    "\n",
    "As a result, the PATE framework introduces a student network that is trained on publicly available data using labels from Teacher Model.\n",
    "\n",
    "<p align=\"center\">\n",
    "<img width=\"500\" alt=\"dpsgd\" src=\"https://user-images.githubusercontent.com/34798787/138165916-a61f044d-4d45-4f5f-8e62-3fca94b65b84.png\">\n",
    "</p>\n",
    "<center>\n",
    "<a href=https://www.youtube.com/watch?v=cjo_u_yT2wQ&t=1s>Source</a>  \n",
    "</center>\n"
   ]
  },
  {
   "cell_type": "markdown",
   "metadata": {
    "id": "kYzZpovT72cA"
   },
   "source": [
    "# Demo"
   ]
  },
  {
   "cell_type": "markdown",
   "metadata": {
    "id": "AmQzmmT33iZT"
   },
   "source": [
    "## Overview\n",
    "\n",
    "The following demo consists of three sections:\n",
    "- **Data Preparation** \n",
    "    - Define Dataset\n",
    "    - Define Dataloader\n",
    "- **Model Preparation** \n",
    "    - Model Defintion\n",
    "- **Training and Validation**\n",
    "    - Training Teacher Ensemble\n",
    "    - Generating Labelled Public Dataset\n",
    "    - Train and Evaluate Student Model\n",
    "- **Interpret Results** \n",
    "    - Accuarcy \n",
    "    - Privacy Loss\n",
    "    \n"
   ]
  },
  {
   "cell_type": "markdown",
   "metadata": {
    "id": "-nWcWDv27-7Z"
   },
   "source": [
    "## Environment Configuration\n"
   ]
  },
  {
   "cell_type": "code",
   "execution_count": 1,
   "metadata": {
    "id": "Hh3hR-ZM8RZb"
   },
   "outputs": [],
   "source": [
    "import os\n",
    "\n",
    "import pandas as pd \n",
    "import numpy as np\n",
    "import matplotlib.pyplot as plt\n",
    "\n",
    "from sklearn.metrics import roc_auc_score\n",
    "from sklearn.preprocessing import OneHotEncoder\n",
    "\n",
    "from syft.frameworks.torch.dp import pate\n",
    "\n",
    "\n",
    "import torch\n",
    "import torch.nn as nn\n",
    "from torch.utils.data import Dataset, DataLoader, Subset\n",
    "from torch.utils.data.dataset import random_split"
   ]
  },
  {
   "cell_type": "code",
   "execution_count": 2,
   "metadata": {
    "id": "1H8W-lQS-Fq5"
   },
   "outputs": [],
   "source": [
    "DATA_PATH = \"train.csv\"\n",
    "DEVICE = torch.device(\"cuda\" if torch.cuda.is_available() else \"cpu\")\n",
    "TRAIN_PERC = .9\n",
    "BATCH_SIZE = 1024\n",
    "NUM_TEACHERS = 15\n",
    "TEACHER_EPOCHS = 20\n",
    "STUDENT_EPOCHS = 20"
   ]
  },
  {
   "cell_type": "markdown",
   "metadata": {
    "id": "zDPVc5OF8Diw"
   },
   "source": [
    "## Data Preparation"
   ]
  },
  {
   "cell_type": "markdown",
   "metadata": {
    "id": "KhcsiNmAs9jN"
   },
   "source": [
    "### Define Dataset"
   ]
  },
  {
   "cell_type": "code",
   "execution_count": 3,
   "metadata": {
    "id": "bcmCSxdo-ktB"
   },
   "outputs": [],
   "source": [
    "class HomeCredit(Dataset): \n",
    "    \"\"\"Dataset for Vertical Federated Learning\"\"\"\n",
    "\n",
    "    def __init__(self, data, labels):\n",
    "        \"\"\"\n",
    "        Args:\n",
    "            data (Numpy Array) : Numpy Array with Features\n",
    "            labels (Numpy Array) : Numpy Array with Labels. None if not available. \n",
    "        \"\"\"\n",
    "        self.data = data\n",
    "        self.labels = labels\n",
    "    \n",
    "    def __getitem__(self, idx):\n",
    "        \"\"\"Return record single record\"\"\"\n",
    "        features = self.data[idx].astype(np.float32)\n",
    "        label = self.labels[idx]\n",
    "\n",
    "        return features, label\n",
    "    \n",
    "    def __len__(self):\n",
    "        \"\"\"Return Length\"\"\"\n",
    "        return len(self.data)"
   ]
  },
  {
   "cell_type": "markdown",
   "metadata": {
    "id": "nmIPkX2cEh_Y"
   },
   "source": [
    "### Define Dataloaders"
   ]
  },
  {
   "cell_type": "code",
   "execution_count": 4,
   "metadata": {
    "id": "3oA2TNmJItaX"
   },
   "outputs": [],
   "source": [
    "def get_loaders(data, num_teachers, batch_size):\n",
    "    \"\"\" \n",
    "    Function to create data loaders for the Teacher Class.\n",
    "    \n",
    "    :param data: Numpy Array of the data \n",
    "    :param num_teacher: Number of teacher models \n",
    "    :param batch_size: Batch size for the dataloaders\n",
    "\n",
    "    :return: Return teacher loaders and student loader (with actual labels)\n",
    "    \"\"\" \n",
    "    loaders = []\n",
    "    sample_size = len(data) // (num_teachers + 1)\n",
    "\n",
    "    for i in range(num_teachers):\n",
    "        indices = list(range(i*sample_size, (i+1)*sample_size))\n",
    "        subset_data = Subset(data, indices)\n",
    "        loader = DataLoader(subset_data, batch_size=batch_size)\n",
    "        loaders.append(loader)\n",
    "    \n",
    "    return loaders[1:], loaders[0]"
   ]
  },
  {
   "cell_type": "code",
   "execution_count": 5,
   "metadata": {
    "id": "j0iCzQxjhie0"
   },
   "outputs": [],
   "source": [
    "def student_loader(student_train_loader, labels):\n",
    "    \"\"\" \n",
    "    Function to modify the student loader to include labels from teacher\n",
    "    \n",
    "    :param student_train_loader: The student loader with actual labels \n",
    "    :param labels: Labels from the teacher model\n",
    "\n",
    "    :return: Return iterator  \n",
    "    \"\"\" \n",
    "    # Use teacher to label data (discard actual labels)\n",
    "    for i, (data, _) in enumerate(iter(student_train_loader)):\n",
    "        yield data, torch.from_numpy(labels[i*len(data): (i+1)*len(data)])"
   ]
  },
  {
   "cell_type": "code",
   "execution_count": 6,
   "metadata": {
    "id": "A7GlbTqt7-ay"
   },
   "outputs": [],
   "source": [
    "# Load Data and Labels\n",
    "data = pd.read_csv(DATA_PATH)\n",
    "labels = data.pop(\"target\")\n",
    "data = data.to_numpy(dtype=np.float32)\n",
    "labels = labels.to_numpy(dtype=np.int)\n",
    "dataset = HomeCredit(data=data, labels=labels)\n",
    "\n",
    "# Get train and validation size\n",
    "train_size = int(len(dataset) * TRAIN_PERC)\n",
    "val_size = len(dataset) - train_size\n",
    "train_data, val_data = random_split(dataset, [train_size, val_size])\n",
    "\n",
    "# Define dataloaders\n",
    "t_loaders, s_loader = get_loaders(train_data, NUM_TEACHERS, BATCH_SIZE) # Teacher loaders, student loader\n",
    "val_loader = DataLoader(val_data, batch_size=BATCH_SIZE, drop_last=True) # Loader to validate in Train Ensemble and Train Student Model"
   ]
  },
  {
   "cell_type": "markdown",
   "metadata": {
    "id": "b9Is-2FbS0IM"
   },
   "source": [
    "## Model"
   ]
  },
  {
   "cell_type": "code",
   "execution_count": 7,
   "metadata": {
    "id": "tlM7hrPHFNuz"
   },
   "outputs": [],
   "source": [
    "class HCModel(torch.nn.Module):\n",
    "    \"\"\" \n",
    "    Model for Credit Bureau\n",
    "    \n",
    "    Attributes\n",
    "    ----------\n",
    "    feat_dim: \n",
    "        Dimensionality of Data\n",
    "    Methods\n",
    "    -------\n",
    "    forward(x):\n",
    "        Performs a forward pass through the Credit Bureau Model\n",
    "    \"\"\"\n",
    "    def __init__(self, feat_dim): \n",
    "        super(HCModel, self).__init__()\n",
    "        self.feat_dim = feat_dim\n",
    "        self.layers = nn.Sequential(\n",
    "            nn.Linear(self.feat_dim, 32),\n",
    "            nn.ReLU(),\n",
    "            nn.Linear(32, 16),\n",
    "            nn.ReLU(),\n",
    "            nn.Linear(16, 2),\n",
    "            nn.Softmax(dim=1)\n",
    "        )\n",
    "    \n",
    "    def forward(self, feat):\n",
    "        pred = self.layers(feat)\n",
    "        return pred"
   ]
  },
  {
   "cell_type": "code",
   "execution_count": 8,
   "metadata": {
    "id": "ZszYeRq7OA_U"
   },
   "outputs": [],
   "source": [
    "# Initialize models and otptimizers for teacher ensembles\n",
    "models = [HCModel(feat_dim=data.shape[1]) for i in range(NUM_TEACHERS)]\n",
    "opts = [torch.optim.Adam(model.parameters(), lr=.001,  betas=(0.9, 0.999)) for model in models]"
   ]
  },
  {
   "cell_type": "markdown",
   "metadata": {
    "id": "5lxO0IZ0ocAd"
   },
   "source": [
    "## Training and Validation"
   ]
  },
  {
   "cell_type": "markdown",
   "metadata": {
    "id": "LjwQkmg_CxHw"
   },
   "source": [
    "### Train Teacher Ensemble\n",
    "\n",
    "<p align=\"center\">\n",
    "<img width=\"500\" alt=\"dpsgd\" src=\"https://user-images.githubusercontent.com/34798787/139118910-63e067a7-1b03-4501-8f78-749c2012f608.png\">\n",
    "</p>\n"
   ]
  },
  {
   "cell_type": "code",
   "execution_count": 9,
   "metadata": {
    "id": "wS7AVPgiZso_"
   },
   "outputs": [],
   "source": [
    "def train_models(num_teachers, models, opts, train_loaders, val_loader):\n",
    "    \"\"\" \n",
    "    Train the teacher models on the the training data and assess on validation set\n",
    "    \n",
    "    :param num_teacher: Number of teacher models \n",
    "    :param models A list of teacher models \n",
    "    :param opts A list of optimizers\n",
    "    :param train_loaders A list of train data loaders \n",
    "    :param val_loader A validation loader\n",
    "\n",
    "    :return: Return A list of train and validation losses for each epoch\n",
    "    \"\"\" \n",
    "    train_losses = [[] for i in range(num_teachers)]\n",
    "    val_losses = [[] for i in range(num_teachers)]\n",
    "    for epoch in range(TEACHER_EPOCHS):\n",
    "        train_loss = train_step(models, opts, train_loaders)\n",
    "        val_loss = val_step(models, val_loader)\n",
    "        avg_train_loss = sum(train_loss) / len(train_loss)\n",
    "        avg_val_loss = sum(val_loss) / len(val_loss)\n",
    "        print(f\"Epoch: {str(epoch)}\\t AVG Train Loss: {str(avg_train_loss)}\\t AVG Val Loss: {str(avg_val_loss)}\")\n",
    "\n",
    "\n",
    "        for i in range(num_teachers):\n",
    "            train_losses[i].append(train_loss[i])\n",
    "            val_losses[i].append(val_loss[i])\n",
    "\n",
    "    return train_losses, val_losses"
   ]
  },
  {
   "cell_type": "code",
   "execution_count": 10,
   "metadata": {
    "id": "-2zVDJU-6fp8"
   },
   "outputs": [],
   "source": [
    "def train_step(models, opts, train_loaders):\n",
    "    \"\"\" \n",
    "    Train teacher ensembles for a single epoch\n",
    "    \n",
    "    :param models A list of teacher models \n",
    "    :param opts A list of optimizers\n",
    "    :param train_loaders A list of train data loaders \n",
    "\n",
    "    :return: Return A list of train and validation losses for each teacher for each epoch\n",
    "    \"\"\" \n",
    "    train_running_losses = [0 for i in range(len(models))]\n",
    "    for i, (model, opt, loader) in enumerate(zip(models, opts, train_loaders)):\n",
    "            model = model.to(DEVICE)\n",
    "            for feat, lbl in loader:\n",
    "                feat, lbl = feat.to(DEVICE), lbl.to(DEVICE)\n",
    "                model.zero_grad()\n",
    "                out = model(feat)\n",
    "                criterion = nn.CrossEntropyLoss()\n",
    "                loss = criterion(out, lbl)\n",
    "\n",
    "                loss.backward()\n",
    "                opt.step()\n",
    "                train_running_losses[i] += loss.detach().cpu().item()\n",
    "    \n",
    "    return train_running_losses"
   ]
  },
  {
   "cell_type": "code",
   "execution_count": 11,
   "metadata": {
    "id": "otY7UT5F62Gy"
   },
   "outputs": [],
   "source": [
    "def val_step(models, loader):\n",
    "    \"\"\" \n",
    "    Validation teacher ensembles for a single epoch\n",
    "    \n",
    "    :param models A list of teacher models \n",
    "    :param loader Validation dataloader\n",
    "\n",
    "    :return: A list of validation losses\n",
    "    \"\"\" \n",
    "    val_loss = []\n",
    "    for i, model in enumerate(models):\n",
    "        outputs, labels, _ = predict(model, loader)\n",
    "        criterion = nn.CrossEntropyLoss()\n",
    "        loss = criterion(outputs, labels)\n",
    "        val_loss.append(loss.cpu().item())\n",
    "\n",
    "    return val_loss"
   ]
  },
  {
   "cell_type": "code",
   "execution_count": 12,
   "metadata": {
    "id": "RnZn_nQJnAso"
   },
   "outputs": [],
   "source": [
    "def predict(model, loader):\n",
    "    \"\"\" \n",
    "    Get predictions of single model on loader\n",
    "    \n",
    "    :param model A teacher model \n",
    "    :param loader A dataloader\n",
    "\n",
    "    :return: output of the model, labels, index of predicted class\n",
    "    \"\"\" \n",
    "    preds = torch.zeros(0, dtype=torch.long).to(DEVICE)\n",
    "    labels = torch.zeros(0, dtype=torch.long).to(DEVICE)\n",
    "    outputs = []\n",
    "    model.to(DEVICE)\n",
    "    model.eval()\n",
    "\n",
    "    for feat, lbl in loader:\n",
    "        feat, lbl = feat.to(DEVICE), lbl.to(DEVICE)\n",
    "        with torch.no_grad():\n",
    "            output = model(feat)\n",
    "        outputs.append(output)\n",
    "        ps = torch.argmax(torch.exp(output), dim=1)\n",
    "        preds = torch.cat((preds, ps))\n",
    "        labels = torch.cat((labels, lbl))\n",
    "    outputs = torch.cat(outputs, dim=0)\n",
    "\n",
    "    return outputs, labels, preds"
   ]
  },
  {
   "cell_type": "markdown",
   "metadata": {
    "id": "VN4Rwq7fDjs9"
   },
   "source": [
    "### Generating Labelled Public Dataset\n",
    "<p align=\"center\">\n",
    "<img width=\"500\" alt=\"dpsgd\" src=\"https://user-images.githubusercontent.com/34798787/139119093-427aee59-8883-478d-85a6-7bd13831068d.png\">\n",
    "</p>"
   ]
  },
  {
   "cell_type": "code",
   "execution_count": 13,
   "metadata": {
    "id": "61VQB0RPpzuC"
   },
   "outputs": [],
   "source": [
    "def agg_teacher(models, loader, epsilon):\n",
    "    \"\"\" \n",
    "    Get noisily aggregated prediction of teacher ensemble \n",
    "    \n",
    "    :param models A list of teacher models \n",
    "    :param loader A dataloader\n",
    "    :param epsilon A noise parameter for the laplace \n",
    "\n",
    "    :return: index of predictions, actual labels\n",
    "    \"\"\" \n",
    "    preds = []\n",
    "    for i, model in enumerate(models):\n",
    "        _, _, pred = predict(model, loader)\n",
    "        preds.append(pred.cpu().numpy())\n",
    "    preds = np.stack(preds)\n",
    "\n",
    "    labels = np.array([]).astype(int)\n",
    "    for pred in np.transpose(preds):\n",
    "        label_counts = np.bincount(pred, minlength=2)\n",
    "        beta = 1 / epsilon\n",
    "\n",
    "        for i in range(len(label_counts)):\n",
    "            noise = np.random.laplace(0, beta, 1)\n",
    "            label_counts[i] += noise\n",
    "\n",
    "        new_label = np.argmax(label_counts)\n",
    "        labels = np.append(labels, new_label)\n",
    "\n",
    "    return preds, labels"
   ]
  },
  {
   "cell_type": "markdown",
   "metadata": {
    "id": "tI8PMOaCD1hf"
   },
   "source": [
    "### Train and Validate Student\n",
    "\n",
    "<p align=\"center\">\n",
    "<img width=\"500\" alt=\"dpsgd\" src=\"https://user-images.githubusercontent.com/34798787/139119816-3f0d2c3a-dae8-49a3-bbf8-0e4ea614b284.png\">\n",
    "</p>\n"
   ]
  },
  {
   "cell_type": "code",
   "execution_count": 14,
   "metadata": {
    "id": "r0zs6v0fI_D5"
   },
   "outputs": [],
   "source": [
    "def train_student(model, opt, train_loader, val_loader, epochs):\n",
    "    \"\"\" \n",
    "    Train student on public dataset labelled with teach ensemble\n",
    "    \n",
    "    :param model Student model\n",
    "    :param opt Optimizer for hte student model \n",
    "    :param train_loader Train dataloader\n",
    "    :param val_loader Validation dataloader\n",
    "    :epochs The number of epochs\n",
    "\n",
    "    :return: list of train losses, list of validation losses, list of validation aucs\n",
    "    \"\"\" \n",
    "    train_losses = []\n",
    "    val_losses = []\n",
    "    val_aucs = []\n",
    "\n",
    "    for epoch in range(epochs):\n",
    "        train_loss = train_student_step(model, opt, train_loader)\n",
    "        val_loss, val_auc = val_student_step(model, val_loader)\n",
    "        print(f\"{str(epoch)}\\t AVG Train Loss: {str(train_loss)}\\t AVG Val Loss: {str(val_loss)} \\t AVG AUC: {val_auc}\")\n",
    " \n",
    "        train_losses.append(train_loss)\n",
    "        val_losses.append(val_loss)\n",
    "        val_aucs.append(val_auc)\n",
    "        \n",
    "    return train_losses, val_losses, val_aucs \n"
   ]
  },
  {
   "cell_type": "code",
   "execution_count": 15,
   "metadata": {
    "id": "V4qFDbOBJcm3"
   },
   "outputs": [],
   "source": [
    "def train_student_step(model, opt, train_loader):\n",
    "    \"\"\" \n",
    "    Train step on student model\n",
    "    \n",
    "    :param model Student model\n",
    "    :param opt Optimizer for hte student model \n",
    "    :param train_loader Train dataloader\n",
    "\n",
    "\n",
    "    :return: running loss from the step \n",
    "    \"\"\"\n",
    "    running_loss = 0\n",
    "    model.to(DEVICE)\n",
    "    model.train()\n",
    "    for i, (feat, lbl) in enumerate(train_loader):\n",
    "        feat, lbl = feat.to(DEVICE), lbl.to(DEVICE)\n",
    "        model.zero_grad()\n",
    "        out = model(feat)\n",
    "        criterion = nn.CrossEntropyLoss()\n",
    "        loss = criterion(out, lbl)\n",
    "\n",
    "        loss.backward()\n",
    "        opt.step()\n",
    "\n",
    "        running_loss += loss.detach().cpu().item()\n",
    "    \n",
    "    return running_loss"
   ]
  },
  {
   "cell_type": "code",
   "execution_count": 16,
   "metadata": {
    "id": "osDFv-eMLEgj"
   },
   "outputs": [],
   "source": [
    "def val_student_step(model, val_loader):\n",
    "    \"\"\" \n",
    "    Validation step on student model\n",
    "    \n",
    "    :param model Student model\n",
    "    :param val_loader A validation load\n",
    "\n",
    "\n",
    "    :return: Average loss , Average auc\n",
    "    \"\"\"\n",
    "    losses = []\n",
    "    aucs = []\n",
    "    model.to(DEVICE)\n",
    "    model.eval()\n",
    "\n",
    "    for i, (feat, lbl) in enumerate(val_loader):\n",
    "        feat, lbl = feat.to(DEVICE), lbl.to(DEVICE)\n",
    "        with torch.no_grad():\n",
    "            out = model(feat)\n",
    "\n",
    "        criterion = nn.CrossEntropyLoss()\n",
    "        loss = criterion(out, lbl)\n",
    "        auc = roc_auc_score(lbl.cpu().numpy(), out.cpu().numpy()[:, 1])\n",
    "\n",
    "        losses.append(loss.cpu().item())\n",
    "        aucs.append(auc)\n",
    "\n",
    "    avg_auc = sum(aucs) / len(aucs)\n",
    "    avg_loss = sum(losses) / len(losses)\n",
    "    return avg_loss, avg_auc"
   ]
  },
  {
   "cell_type": "code",
   "execution_count": 17,
   "metadata": {
    "colab": {
     "base_uri": "https://localhost:8080/"
    },
    "id": "upTQ6_vwkHEi",
    "outputId": "b09d1db9-391c-434e-c6a5-0ad1f1f5e954"
   },
   "outputs": [
    {
     "name": "stdout",
     "output_type": "stream",
     "text": [
      "Epoch: 0\t AVG Train Loss: 10.410673626263936\t AVG Val Loss: 0.6230091611544292\n",
      "Epoch: 1\t AVG Train Loss: 9.213570481538772\t AVG Val Loss: 0.5483015477657318\n",
      "Epoch: 2\t AVG Train Loss: 7.968073636293411\t AVG Val Loss: 0.48172075549761456\n",
      "Epoch: 3\t AVG Train Loss: 7.044898263613383\t AVG Val Loss: 0.4428199807802836\n",
      "Epoch: 4\t AVG Train Loss: 6.585496322313944\t AVG Val Loss: 0.4269110282262166\n",
      "Epoch: 5\t AVG Train Loss: 6.409426611661911\t AVG Val Loss: 0.42098825176556903\n",
      "Epoch: 6\t AVG Train Loss: 6.34121321439743\t AVG Val Loss: 0.4184582551320394\n",
      "Epoch: 7\t AVG Train Loss: 6.309889954328537\t AVG Val Loss: 0.4171619494756063\n",
      "Epoch: 8\t AVG Train Loss: 6.292837260166804\t AVG Val Loss: 0.4163981815179189\n",
      "Epoch: 9\t AVG Train Loss: 6.282361795504888\t AVG Val Loss: 0.41590407292048137\n",
      "Epoch: 10\t AVG Train Loss: 6.275388465325038\t AVG Val Loss: 0.4155635098616282\n",
      "Epoch: 11\t AVG Train Loss: 6.270484773317973\t AVG Val Loss: 0.41531779964764914\n",
      "Epoch: 12\t AVG Train Loss: 6.266888258854548\t AVG Val Loss: 0.41513428489367166\n",
      "Epoch: 13\t AVG Train Loss: 6.264172252019247\t AVG Val Loss: 0.41499329805374147\n",
      "Epoch: 14\t AVG Train Loss: 6.262065382798513\t AVG Val Loss: 0.4148825168609619\n",
      "Epoch: 15\t AVG Train Loss: 6.260393800338109\t AVG Val Loss: 0.41479384104410805\n",
      "Epoch: 16\t AVG Train Loss: 6.259042539199194\t AVG Val Loss: 0.4147217313448588\n",
      "Epoch: 17\t AVG Train Loss: 6.257931570212047\t AVG Val Loss: 0.4146624028682709\n",
      "Epoch: 18\t AVG Train Loss: 6.256997315088908\t AVG Val Loss: 0.4146130899588267\n",
      "Epoch: 19\t AVG Train Loss: 6.256197686990102\t AVG Val Loss: 0.414571487903595\n"
     ]
    }
   ],
   "source": [
    "train_losses, val_losses = train_models(NUM_TEACHERS, models, opts, t_loaders, val_loader)"
   ]
  },
  {
   "cell_type": "code",
   "execution_count": 18,
   "metadata": {
    "colab": {
     "base_uri": "https://localhost:8080/"
    },
    "id": "LpWaPKnqveEs",
    "outputId": "1dd13389-1ff0-4683-8900-baf39997b1a7"
   },
   "outputs": [
    {
     "name": "stdout",
     "output_type": "stream",
     "text": [
      "(15, 17297) (17297,)\n"
     ]
    }
   ],
   "source": [
    "outputs, s_labels = agg_teacher(models, s_loader, .2)\n",
    "print(outputs.shape, s_labels.shape)"
   ]
  },
  {
   "cell_type": "code",
   "execution_count": 19,
   "metadata": {
    "colab": {
     "base_uri": "https://localhost:8080/"
    },
    "id": "cbdl5eqYvj08",
    "outputId": "a9a0eaca-9244-49cf-ad92-15f0559c52ae"
   },
   "outputs": [
    {
     "name": "stdout",
     "output_type": "stream",
     "text": [
      "0\t AVG Train Loss: 10.173055440187454\t AVG Val Loss: 0.4739350249369939 \t AVG AUC: 0.5627177563836324\n",
      "1\t AVG Train Loss: 7.18285146355629\t AVG Val Loss: 0.39759510358174643 \t AVG AUC: 0.5706708874830961\n",
      "2\t AVG Train Loss: 6.73674076795578\t AVG Val Loss: 0.3947444587945938 \t AVG AUC: 0.573495653319574\n",
      "3\t AVG Train Loss: 6.7206279039382935\t AVG Val Loss: 0.3945094724496206 \t AVG AUC: 0.5754580774350283\n",
      "4\t AVG Train Loss: 6.718561679124832\t AVG Val Loss: 0.3944487830003103 \t AVG AUC: 0.5772987983240704\n",
      "5\t AVG Train Loss: 6.717740595340729\t AVG Val Loss: 0.3944180796543757 \t AVG AUC: 0.5791646515659864\n",
      "6\t AVG Train Loss: 6.717100620269775\t AVG Val Loss: 0.3943968673547109 \t AVG AUC: 0.58119092937584\n",
      "7\t AVG Train Loss: 6.716518342494965\t AVG Val Loss: 0.3943799485762914 \t AVG AUC: 0.583380234006172\n",
      "8\t AVG Train Loss: 6.716077268123627\t AVG Val Loss: 0.3943648527065913 \t AVG AUC: 0.5855140890736839\n",
      "9\t AVG Train Loss: 6.715704172849655\t AVG Val Loss: 0.3943521539370219 \t AVG AUC: 0.5878823887461473\n",
      "10\t AVG Train Loss: 6.715367764234543\t AVG Val Loss: 0.39434202512105304 \t AVG AUC: 0.590471570104849\n",
      "11\t AVG Train Loss: 6.715032994747162\t AVG Val Loss: 0.3943344086408615 \t AVG AUC: 0.5933648380056981\n",
      "12\t AVG Train Loss: 6.714630305767059\t AVG Val Loss: 0.39432856639226277 \t AVG AUC: 0.5966571800334535\n",
      "13\t AVG Train Loss: 6.714054107666016\t AVG Val Loss: 0.3943250944217046 \t AVG AUC: 0.6002968973360043\n",
      "14\t AVG Train Loss: 6.713301658630371\t AVG Val Loss: 0.3943278749783834 \t AVG AUC: 0.6044906789049619\n",
      "15\t AVG Train Loss: 6.712400943040848\t AVG Val Loss: 0.39432672957579296 \t AVG AUC: 0.6095788013602597\n",
      "16\t AVG Train Loss: 6.71086660027504\t AVG Val Loss: 0.39431562423706057 \t AVG AUC: 0.6148824473975111\n",
      "17\t AVG Train Loss: 6.709013491868973\t AVG Val Loss: 0.3943319549163183 \t AVG AUC: 0.6199873642002689\n",
      "18\t AVG Train Loss: 6.706673264503479\t AVG Val Loss: 0.3943471809228261 \t AVG AUC: 0.625331355489764\n",
      "19\t AVG Train Loss: 6.704344809055328\t AVG Val Loss: 0.3943595637877782 \t AVG AUC: 0.629320085401444\n"
     ]
    }
   ],
   "source": [
    "student_model = HCModel(feat_dim=104)\n",
    "optimizer = torch.optim.Adam(student_model.parameters(), lr=0.003)\n",
    "\n",
    "train_losses, val_losses, val_aucs  = train_student(student_model, optimizer, s_loader, val_loader, STUDENT_EPOCHS)"
   ]
  },
  {
   "cell_type": "markdown",
   "metadata": {
    "id": "0TBDdSkiF9Fc"
   },
   "source": [
    "## Interpret Results"
   ]
  },
  {
   "cell_type": "markdown",
   "metadata": {
    "id": "PhF1Kza1GVAD"
   },
   "source": [
    "### Accuracy "
   ]
  },
  {
   "cell_type": "code",
   "execution_count": 20,
   "metadata": {
    "colab": {
     "base_uri": "https://localhost:8080/",
     "height": 609
    },
    "id": "jDdKxfiKnIV7",
    "outputId": "62c7195f-2720-48ca-994c-f221f50e6f65"
   },
   "outputs": [
    {
     "data": {
      "text/plain": [
       "[<matplotlib.lines.Line2D at 0x7f9d821492b0>]"
      ]
     },
     "execution_count": 20,
     "metadata": {},
     "output_type": "execute_result"
    },
    {
     "data": {
      "image/png": "[encoded data removed]",
      "text/plain": [
       "<Figure size 720x720 with 1 Axes>"
      ]
     },
     "metadata": {
      "needs_background": "light"
     },
     "output_type": "display_data"
    }
   ],
   "source": [
    "f, axarr = plt.subplots(1, 1, figsize=(10, 10))\n",
    "axarr.plot(val_aucs)"
   ]
  },
  {
   "cell_type": "markdown",
   "metadata": {
    "id": "D-zJXvi9Gex2"
   },
   "source": [
    "### Privacy Loss"
   ]
  },
  {
   "cell_type": "code",
   "execution_count": 21,
   "metadata": {
    "colab": {
     "base_uri": "https://localhost:8080/"
    },
    "id": "GU9C2ewmnr9x",
    "outputId": "cfc1dd69-cc7d-46f4-c755-2df5f1e14bf1"
   },
   "outputs": [
    {
     "name": "stdout",
     "output_type": "stream",
     "text": [
      "Data Dependent Analysis: 1056.050596826109\n",
      "Data Independent Analysis: 2779.0329254649705\n"
     ]
    }
   ],
   "source": [
    "data_dep_eps, data_ind_eps = pate.perform_analysis(teacher_preds=outputs, indices=s_labels, noise_eps=.2, delta=1e-5)\n",
    "print(f\"Data Dependent Analysis: {str(data_dep_eps)}\")\n",
    "print(f\"Data Independent Analysis: {str(data_ind_eps)}\")"
   ]
  },
  {
   "cell_type": "code",
   "execution_count": null,
   "metadata": {
    "id": "RWB56Xz18E5K"
   },
   "outputs": [],
   "source": []
  }
 ],
 "metadata": {
  "colab": {
   "collapsed_sections": [],
   "name": "demo.ipynb",
   "provenance": [],
   "toc_visible": true
  },
  "kernelspec": {
   "display_name": "pets_local_temp",
   "language": "python",
   "name": "pets_local_temp"
  },
  "language_info": {
   "codemirror_mode": {
    "name": "ipython",
    "version": 3
   },
   "file_extension": ".py",
   "mimetype": "text/x-python",
   "name": "python",
   "nbconvert_exporter": "python",
   "pygments_lexer": "ipython3",
   "version": "3.6.9"
  }
 },
 "nbformat": 4,
 "nbformat_minor": 1
}
