{
 "cells": [
  {
   "cell_type": "code",
   "execution_count": 53,
   "id": "e3a18c75",
   "metadata": {},
   "outputs": [],
   "source": [
    "import os\n",
    "\n",
    "import pandas as pd \n",
    "import numpy as np\n",
    "import matplotlib as mpl\n",
    "import matplotlib.pyplot as plt\n",
    "\n",
    "from sklearn.metrics import roc_auc_score\n",
    "from sklearn.preprocessing import OneHotEncoder\n",
    "\n",
    "from syft.frameworks.torch.dp import pate\n",
    "\n",
    "\n",
    "import torch\n",
    "import torch.nn as nn\n",
    "from torch.utils.data import Dataset, DataLoader, Subset\n",
    "from torch.utils.data.dataset import random_split"
   ]
  },
  {
   "cell_type": "code",
   "execution_count": 54,
   "id": "1abeda13",
   "metadata": {},
   "outputs": [],
   "source": [
    "mpl.rcParams['figure.figsize'] = (12, 10)\n",
    "colors = plt.rcParams['axes.prop_cycle'].by_key()['color']"
   ]
  },
  {
   "cell_type": "code",
   "execution_count": 55,
   "id": "01decd90",
   "metadata": {},
   "outputs": [],
   "source": [
    "DATA_PATH = \"/ssd003/projects/pets/datasets/home_credit\"\n",
    "data = pd.read_csv(f\"{DATA_PATH}/train.csv\")\n",
    "labels = data.pop(\"target\")"
   ]
  },
  {
   "cell_type": "code",
   "execution_count": 56,
   "id": "67dce43e",
   "metadata": {},
   "outputs": [],
   "source": [
    "DEVICE = torch.device(\"cuda\" if torch.cuda.is_available() else \"cpu\")\n",
    "TRAIN_PERC = .9\n",
    "BATCH_SIZE = 1024\n",
    "NUM_TEACHERS = 15\n",
    "TEACHER_EPOCHS = 20\n",
    "STUDENT_EPOCHS = 20"
   ]
  },
  {
   "cell_type": "code",
   "execution_count": 57,
   "id": "c965ce36",
   "metadata": {},
   "outputs": [],
   "source": [
    "class HomeCredit(Dataset): \n",
    "    \"\"\"Dataset for Vertical Federated Learning\"\"\"\n",
    "\n",
    "    def __init__(self, data, labels):\n",
    "        \"\"\"\n",
    "        Args:\n",
    "            data (Numpy Array) : Numpy Array with Features\n",
    "            labels (Numpy Array) : Numpy Array with Labels. None if not available. \n",
    "        \"\"\"\n",
    "        self.data = data\n",
    "        self.labels = labels\n",
    "    \n",
    "    def __getitem__(self, idx):\n",
    "        \"\"\"Return record single record\"\"\"\n",
    "        features = self.data[idx].astype(np.float32)\n",
    "        label = self.labels[idx]\n",
    "\n",
    "        return features, label\n",
    "    \n",
    "    def __len__(self):\n",
    "        \"\"\"Return Length\"\"\"\n",
    "        return len(self.data)"
   ]
  },
  {
   "cell_type": "code",
   "execution_count": 58,
   "id": "29fa472b",
   "metadata": {},
   "outputs": [],
   "source": [
    "def get_loaders(data, num_teachers, batch_size):\n",
    "    \"\"\" \n",
    "    Function to create data loaders for the Teacher Class.\n",
    "    \n",
    "    :param data: Numpy Array of the data \n",
    "    :param num_teacher: Number of teacher models \n",
    "    :param batch_size: Batch size for the dataloaders\n",
    "\n",
    "    :return: Return teacher loaders and student loader (with actual labels)\n",
    "    \"\"\" \n",
    "    loaders = []\n",
    "    sample_size = len(data) // (num_teachers + 1)\n",
    "\n",
    "    for i in range(num_teachers):\n",
    "        indices = list(range(i*sample_size, (i+1)*sample_size))\n",
    "        subset_data = Subset(data, indices)\n",
    "        loader = DataLoader(subset_data, batch_size=batch_size)\n",
    "        loaders.append(loader)\n",
    "    \n",
    "    return loaders[1:], loaders[0]"
   ]
  },
  {
   "cell_type": "code",
   "execution_count": 59,
   "id": "9c871af0",
   "metadata": {},
   "outputs": [],
   "source": [
    "def student_loader(student_train_loader, labels):\n",
    "    \"\"\" \n",
    "    Function to modify the student loader to include labels from teacher\n",
    "    \n",
    "    :param student_train_loader: The student loader with actual labels \n",
    "    :param labels: Labels from the teacher model\n",
    "\n",
    "    :return: Return iterator  \n",
    "    \"\"\" \n",
    "    # Use teacher to label data (discard actual labels)\n",
    "    for i, (data, _) in enumerate(iter(student_train_loader)):\n",
    "        yield data, torch.from_numpy(labels[i*len(data): (i+1)*len(data)])"
   ]
  },
  {
   "cell_type": "code",
   "execution_count": 60,
   "id": "d75fc6e8",
   "metadata": {},
   "outputs": [
    {
     "name": "stdout",
     "output_type": "stream",
     "text": [
      "105 307511\n"
     ]
    }
   ],
   "source": [
    "#EDA\n",
    "# Load Data and Labels\n",
    "print(len(data_df.columns), len(data_df))"
   ]
  },
  {
   "cell_type": "code",
   "execution_count": 61,
   "id": "c740ed64",
   "metadata": {},
   "outputs": [
    {
     "data": {
      "text/html": [
       "<div>\n",
       "<style scoped>\n",
       "    .dataframe tbody tr th:only-of-type {\n",
       "        vertical-align: middle;\n",
       "    }\n",
       "\n",
       "    .dataframe tbody tr th {\n",
       "        vertical-align: top;\n",
       "    }\n",
       "\n",
       "    .dataframe thead th {\n",
       "        text-align: right;\n",
       "    }\n",
       "</style>\n",
       "<table border=\"1\" class=\"dataframe\">\n",
       "  <thead>\n",
       "    <tr style=\"text-align: right;\">\n",
       "      <th></th>\n",
       "      <th>CNT_CHILDREN</th>\n",
       "      <th>AMT_INCOME_TOTAL</th>\n",
       "      <th>AMT_CREDIT</th>\n",
       "      <th>AMT_ANNUITY</th>\n",
       "      <th>AMT_GOODS_PRICE</th>\n",
       "      <th>REGION_POPULATION_RELATIVE</th>\n",
       "      <th>DAYS_BIRTH</th>\n",
       "      <th>DAYS_EMPLOYED</th>\n",
       "      <th>DAYS_REGISTRATION</th>\n",
       "      <th>DAYS_ID_PUBLISH</th>\n",
       "      <th>...</th>\n",
       "      <th>FLAG_DOCUMENT_19</th>\n",
       "      <th>FLAG_DOCUMENT_20</th>\n",
       "      <th>FLAG_DOCUMENT_21</th>\n",
       "      <th>AMT_REQ_CREDIT_BUREAU_HOUR</th>\n",
       "      <th>AMT_REQ_CREDIT_BUREAU_DAY</th>\n",
       "      <th>AMT_REQ_CREDIT_BUREAU_WEEK</th>\n",
       "      <th>AMT_REQ_CREDIT_BUREAU_MON</th>\n",
       "      <th>AMT_REQ_CREDIT_BUREAU_QRT</th>\n",
       "      <th>AMT_REQ_CREDIT_BUREAU_YEAR</th>\n",
       "      <th>target</th>\n",
       "    </tr>\n",
       "  </thead>\n",
       "  <tbody>\n",
       "    <tr>\n",
       "      <th>0</th>\n",
       "      <td>-0.577538</td>\n",
       "      <td>0.142129</td>\n",
       "      <td>-0.478095</td>\n",
       "      <td>-0.166149</td>\n",
       "      <td>-0.507465</td>\n",
       "      <td>-0.149452</td>\n",
       "      <td>1.506880</td>\n",
       "      <td>-0.456215</td>\n",
       "      <td>0.379837</td>\n",
       "      <td>0.579154</td>\n",
       "      <td>...</td>\n",
       "      <td>-0.024402</td>\n",
       "      <td>-0.022529</td>\n",
       "      <td>-0.018305</td>\n",
       "      <td>-8.210023e-02</td>\n",
       "      <td>-0.067957</td>\n",
       "      <td>-1.805048e-01</td>\n",
       "      <td>-0.313873</td>\n",
       "      <td>-3.594746e-01</td>\n",
       "      <td>-5.176655e-01</td>\n",
       "      <td>1</td>\n",
       "    </tr>\n",
       "    <tr>\n",
       "      <th>1</th>\n",
       "      <td>-0.577538</td>\n",
       "      <td>0.426792</td>\n",
       "      <td>1.725450</td>\n",
       "      <td>0.592677</td>\n",
       "      <td>1.600698</td>\n",
       "      <td>-1.252750</td>\n",
       "      <td>-0.166821</td>\n",
       "      <td>-0.460115</td>\n",
       "      <td>1.078697</td>\n",
       "      <td>1.790855</td>\n",
       "      <td>...</td>\n",
       "      <td>-0.024402</td>\n",
       "      <td>-0.022529</td>\n",
       "      <td>-0.018305</td>\n",
       "      <td>-8.210023e-02</td>\n",
       "      <td>-0.067957</td>\n",
       "      <td>-1.805048e-01</td>\n",
       "      <td>-0.313873</td>\n",
       "      <td>-3.594746e-01</td>\n",
       "      <td>-1.092866e+00</td>\n",
       "      <td>0</td>\n",
       "    </tr>\n",
       "    <tr>\n",
       "      <th>2</th>\n",
       "      <td>-0.577538</td>\n",
       "      <td>-0.427196</td>\n",
       "      <td>-1.152888</td>\n",
       "      <td>-1.404676</td>\n",
       "      <td>-1.092389</td>\n",
       "      <td>-0.783451</td>\n",
       "      <td>-0.689509</td>\n",
       "      <td>-0.453299</td>\n",
       "      <td>0.206116</td>\n",
       "      <td>0.306869</td>\n",
       "      <td>...</td>\n",
       "      <td>-0.024402</td>\n",
       "      <td>-0.022529</td>\n",
       "      <td>-0.018305</td>\n",
       "      <td>-8.210023e-02</td>\n",
       "      <td>-0.067957</td>\n",
       "      <td>-1.805048e-01</td>\n",
       "      <td>-0.313873</td>\n",
       "      <td>-3.594746e-01</td>\n",
       "      <td>-1.092866e+00</td>\n",
       "      <td>0</td>\n",
       "    </tr>\n",
       "    <tr>\n",
       "      <th>3</th>\n",
       "      <td>-0.577538</td>\n",
       "      <td>-0.142533</td>\n",
       "      <td>-0.711430</td>\n",
       "      <td>0.177869</td>\n",
       "      <td>-0.653696</td>\n",
       "      <td>-0.928991</td>\n",
       "      <td>-0.680114</td>\n",
       "      <td>-0.473217</td>\n",
       "      <td>-1.375829</td>\n",
       "      <td>0.369143</td>\n",
       "      <td>...</td>\n",
       "      <td>-0.024402</td>\n",
       "      <td>-0.022529</td>\n",
       "      <td>-0.018305</td>\n",
       "      <td>3.336720e-17</td>\n",
       "      <td>0.000000</td>\n",
       "      <td>-3.645032e-17</td>\n",
       "      <td>0.000000</td>\n",
       "      <td>-7.516682e-17</td>\n",
       "      <td>-3.831603e-16</td>\n",
       "      <td>0</td>\n",
       "    </tr>\n",
       "    <tr>\n",
       "      <th>4</th>\n",
       "      <td>-0.577538</td>\n",
       "      <td>-0.199466</td>\n",
       "      <td>-0.213734</td>\n",
       "      <td>-0.361755</td>\n",
       "      <td>-0.068772</td>\n",
       "      <td>0.563570</td>\n",
       "      <td>-0.892535</td>\n",
       "      <td>-0.473210</td>\n",
       "      <td>0.191639</td>\n",
       "      <td>-0.307263</td>\n",
       "      <td>...</td>\n",
       "      <td>-0.024402</td>\n",
       "      <td>-0.022529</td>\n",
       "      <td>-0.018305</td>\n",
       "      <td>-8.210023e-02</td>\n",
       "      <td>-0.067957</td>\n",
       "      <td>-1.805048e-01</td>\n",
       "      <td>-0.313873</td>\n",
       "      <td>-3.594746e-01</td>\n",
       "      <td>-1.092866e+00</td>\n",
       "      <td>0</td>\n",
       "    </tr>\n",
       "  </tbody>\n",
       "</table>\n",
       "<p>5 rows × 105 columns</p>\n",
       "</div>"
      ],
      "text/plain": [
       "   CNT_CHILDREN  AMT_INCOME_TOTAL  AMT_CREDIT  AMT_ANNUITY  AMT_GOODS_PRICE  \\\n",
       "0     -0.577538          0.142129   -0.478095    -0.166149        -0.507465   \n",
       "1     -0.577538          0.426792    1.725450     0.592677         1.600698   \n",
       "2     -0.577538         -0.427196   -1.152888    -1.404676        -1.092389   \n",
       "3     -0.577538         -0.142533   -0.711430     0.177869        -0.653696   \n",
       "4     -0.577538         -0.199466   -0.213734    -0.361755        -0.068772   \n",
       "\n",
       "   REGION_POPULATION_RELATIVE  DAYS_BIRTH  DAYS_EMPLOYED  DAYS_REGISTRATION  \\\n",
       "0                   -0.149452    1.506880      -0.456215           0.379837   \n",
       "1                   -1.252750   -0.166821      -0.460115           1.078697   \n",
       "2                   -0.783451   -0.689509      -0.453299           0.206116   \n",
       "3                   -0.928991   -0.680114      -0.473217          -1.375829   \n",
       "4                    0.563570   -0.892535      -0.473210           0.191639   \n",
       "\n",
       "   DAYS_ID_PUBLISH  ...  FLAG_DOCUMENT_19  FLAG_DOCUMENT_20  FLAG_DOCUMENT_21  \\\n",
       "0         0.579154  ...         -0.024402         -0.022529         -0.018305   \n",
       "1         1.790855  ...         -0.024402         -0.022529         -0.018305   \n",
       "2         0.306869  ...         -0.024402         -0.022529         -0.018305   \n",
       "3         0.369143  ...         -0.024402         -0.022529         -0.018305   \n",
       "4        -0.307263  ...         -0.024402         -0.022529         -0.018305   \n",
       "\n",
       "   AMT_REQ_CREDIT_BUREAU_HOUR  AMT_REQ_CREDIT_BUREAU_DAY  \\\n",
       "0               -8.210023e-02                  -0.067957   \n",
       "1               -8.210023e-02                  -0.067957   \n",
       "2               -8.210023e-02                  -0.067957   \n",
       "3                3.336720e-17                   0.000000   \n",
       "4               -8.210023e-02                  -0.067957   \n",
       "\n",
       "   AMT_REQ_CREDIT_BUREAU_WEEK  AMT_REQ_CREDIT_BUREAU_MON  \\\n",
       "0               -1.805048e-01                  -0.313873   \n",
       "1               -1.805048e-01                  -0.313873   \n",
       "2               -1.805048e-01                  -0.313873   \n",
       "3               -3.645032e-17                   0.000000   \n",
       "4               -1.805048e-01                  -0.313873   \n",
       "\n",
       "   AMT_REQ_CREDIT_BUREAU_QRT  AMT_REQ_CREDIT_BUREAU_YEAR  target  \n",
       "0              -3.594746e-01               -5.176655e-01       1  \n",
       "1              -3.594746e-01               -1.092866e+00       0  \n",
       "2              -3.594746e-01               -1.092866e+00       0  \n",
       "3              -7.516682e-17               -3.831603e-16       0  \n",
       "4              -3.594746e-01               -1.092866e+00       0  \n",
       "\n",
       "[5 rows x 105 columns]"
      ]
     },
     "execution_count": 61,
     "metadata": {},
     "output_type": "execute_result"
    }
   ],
   "source": [
    "data_df.head(5)"
   ]
  },
  {
   "cell_type": "code",
   "execution_count": 62,
   "id": "38bcf278",
   "metadata": {},
   "outputs": [
    {
     "name": "stdout",
     "output_type": "stream",
     "text": [
      "8.072881945686495 %\n"
     ]
    },
    {
     "data": {
      "text/plain": [
       "0    282686\n",
       "1     24825\n",
       "Name: target, dtype: int64"
      ]
     },
     "execution_count": 62,
     "metadata": {},
     "output_type": "execute_result"
    }
   ],
   "source": [
    "# lable balance \n",
    "label_bd = labels.value_counts()\n",
    "print(label_bd[1]/sum(label_bd) * 100,\"%\")\n",
    "label_bd"
   ]
  },
  {
   "cell_type": "code",
   "execution_count": null,
   "id": "06ef2abe",
   "metadata": {},
   "outputs": [],
   "source": []
  },
  {
   "cell_type": "code",
   "execution_count": 63,
   "id": "fbc9873f",
   "metadata": {},
   "outputs": [],
   "source": [
    "data = data.to_numpy(dtype=np.float32)\n",
    "labels = labels.to_numpy(dtype=np.int)\n",
    "dataset = HomeCredit(data=data, labels=labels)\n",
    "\n",
    "# Get train and validation size\n",
    "train_size = int(len(dataset) * TRAIN_PERC)\n",
    "val_size = len(dataset) - train_size\n",
    "train_data, val_data = random_split(dataset, [train_size, val_size])\n",
    "\n",
    "# Define dataloaders\n",
    "t_loaders, s_loader = get_loaders(train_data, NUM_TEACHERS, BATCH_SIZE) # Teacher loaders, student loader\n",
    "val_loader = DataLoader(val_data, batch_size=BATCH_SIZE, drop_last=True) # Loader to validate in Train Ensemble and Train Student Model"
   ]
  },
  {
   "cell_type": "code",
   "execution_count": 77,
   "id": "0362a62b",
   "metadata": {},
   "outputs": [
    {
     "data": {
      "text/plain": [
       "<torch.utils.data.dataloader.DataLoader at 0x7f1e6db54d30>"
      ]
     },
     "execution_count": 77,
     "metadata": {},
     "output_type": "execute_result"
    }
   ],
   "source": [
    "s_loader"
   ]
  },
  {
   "cell_type": "code",
   "execution_count": null,
   "id": "862fe51e",
   "metadata": {},
   "outputs": [],
   "source": []
  },
  {
   "cell_type": "markdown",
   "id": "ac333027",
   "metadata": {},
   "source": [
    "## MODELS\n"
   ]
  },
  {
   "cell_type": "code",
   "execution_count": 64,
   "id": "e33da5c2",
   "metadata": {},
   "outputs": [],
   "source": [
    "class HCModel(torch.nn.Module):\n",
    "    \"\"\" \n",
    "    Model for Credit Bureau\n",
    "    \n",
    "    Attributes\n",
    "    ----------\n",
    "    feat_dim: \n",
    "        Dimensionality of Data\n",
    "    Methods\n",
    "    -------\n",
    "    forward(x):\n",
    "        Performs a forward pass through the Credit Bureau Model\n",
    "    \"\"\"\n",
    "    def __init__(self, feat_dim): \n",
    "        super(HCModel, self).__init__()\n",
    "        self.feat_dim = feat_dim\n",
    "        self.layers = nn.Sequential(\n",
    "            nn.Linear(self.feat_dim, 32),\n",
    "            nn.ReLU(),\n",
    "            nn.Linear(32, 16),\n",
    "            nn.ReLU(),\n",
    "            nn.Linear(16, 2),\n",
    "            nn.Softmax(dim=1)\n",
    "        )\n",
    "    \n",
    "    def forward(self, feat):\n",
    "        pred = self.layers(feat)\n",
    "        return pred"
   ]
  },
  {
   "cell_type": "code",
   "execution_count": 66,
   "id": "d9d3d82b",
   "metadata": {},
   "outputs": [],
   "source": [
    "# Initialize models and otptimizers for teacher ensembles\n",
    "models = [HCModel(feat_dim=data.shape[1]) for i in range(NUM_TEACHERS)]\n",
    "opts = [torch.optim.Adam(model.parameters(), lr=.001,  betas=(0.9, 0.999)) for model in models]"
   ]
  },
  {
   "cell_type": "code",
   "execution_count": null,
   "id": "fbd4aeb6",
   "metadata": {},
   "outputs": [],
   "source": []
  }
 ],
 "metadata": {
  "kernelspec": {
   "display_name": "Python 3 (ipykernel)",
   "language": "python",
   "name": "python3"
  },
  "language_info": {
   "codemirror_mode": {
    "name": "ipython",
    "version": 3
   },
   "file_extension": ".py",
   "mimetype": "text/x-python",
   "name": "python",
   "nbconvert_exporter": "python",
   "pygments_lexer": "ipython3",
   "version": "3.8.0"
  }
 },
 "nbformat": 4,
 "nbformat_minor": 5
}
