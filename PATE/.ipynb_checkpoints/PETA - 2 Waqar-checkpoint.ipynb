{
 "cells": [
  {
   "cell_type": "code",
   "execution_count": 1,
   "id": "0030e641",
   "metadata": {},
   "outputs": [],
   "source": [
    "import numpy as np\n",
    "import pandas as pd\n",
    "import matplotlib as mpl\n",
    "import matplotlib.pyplot as plt\n",
    "import seaborn as sns\n",
    "import math\n",
    "import random\n",
    "import sys\n",
    "import os\n",
    "import logging\n",
    "import datetime\n",
    "\n",
    "import tensorflow as tf\n",
    "from tensorflow import keras\n",
    "\n",
    "import sklearn\n",
    "from sklearn.model_selection import train_test_split\n",
    "from sklearn.preprocessing import StandardScaler\n",
    "from sklearn.metrics import confusion_matrix"
   ]
  },
  {
   "cell_type": "code",
   "execution_count": 2,
   "id": "ede20e2f",
   "metadata": {},
   "outputs": [],
   "source": [
    "mpl.rcParams['figure.figsize'] = (12, 10)\n",
    "colors = plt.rcParams['axes.prop_cycle'].by_key()['color']"
   ]
  },
  {
   "cell_type": "code",
   "execution_count": 3,
   "id": "0a146dc0",
   "metadata": {},
   "outputs": [],
   "source": [
    "data_dir = \"/ssd003/projects/pets/datasets/home_credit\"\n",
    "# home_credit_train_df = pd.read_csv(f\"{data_dir}/home_credit_train.csv\")\n",
    "# credit_bureau_train_df = pd.read_csv(f\"{data_dir}/credit_bureau_train.csv\")\n",
    "data_df = pd.read_csv(f\"{data_dir}/train.csv\")"
   ]
  },
  {
   "cell_type": "code",
   "execution_count": 4,
   "id": "e9940ef7",
   "metadata": {},
   "outputs": [],
   "source": [
    "## data set prep"
   ]
  },
  {
   "cell_type": "code",
   "execution_count": 5,
   "id": "ff7cb510",
   "metadata": {},
   "outputs": [],
   "source": [
    "train_df, test_df = train_test_split(data_df, test_size=0.2, random_state=42)\n",
    "train_df, val_df = train_test_split(train_df, test_size=0.2, random_state=42)"
   ]
  },
  {
   "cell_type": "code",
   "execution_count": 6,
   "id": "67088904",
   "metadata": {},
   "outputs": [],
   "source": [
    "train_labels = np.array(train_df.pop('target'))\n",
    "val_labels = np.array(val_df.pop('target'))\n",
    "test_labels = np.array(test_df.pop('target'))\n",
    "\n",
    "train_features = np.array(train_df)\n",
    "val_features = np.array(val_df)\n",
    "test_features = np.array(test_df)"
   ]
  },
  {
   "cell_type": "code",
   "execution_count": 7,
   "id": "10704829",
   "metadata": {},
   "outputs": [],
   "source": [
    "# normaliza data"
   ]
  },
  {
   "cell_type": "code",
   "execution_count": 12,
   "id": "796eb7ff",
   "metadata": {},
   "outputs": [],
   "source": [
    "scaler = StandardScaler()\n",
    "train_features = scaler.fit_transform(train_features)\n",
    "\n",
    "val_features = scaler.transform(val_features)\n",
    "test_features = scaler.transform(test_features)\n",
    "\n",
    "train_features = np.clip(train_features, -5, 5)\n",
    "val_features = np.clip(val_features, -5, 5)\n",
    "test_features = np.clip(test_features, -5, 5)"
   ]
  },
  {
   "cell_type": "code",
   "execution_count": 13,
   "id": "733f1e00",
   "metadata": {},
   "outputs": [],
   "source": [
    "#oversampling\n",
    "from imblearn.over_sampling import SMOTE\n",
    "oversample = SMOTE()\n",
    "\n",
    "X_train_oversampled, y_oversampled = oversample.fit_resample(train_features, train_labels)"
   ]
  },
  {
   "cell_type": "code",
   "execution_count": 32,
   "id": "5649a0f3",
   "metadata": {},
   "outputs": [],
   "source": [
    "resampled_features = X_train_oversampled\n",
    "resampled_labels = y_oversampled"
   ]
  },
  {
   "cell_type": "markdown",
   "id": "d2d3f297",
   "metadata": {},
   "source": [
    "## data handling\n"
   ]
  },
  {
   "cell_type": "code",
   "execution_count": 42,
   "id": "a469466f",
   "metadata": {},
   "outputs": [],
   "source": [
    "TRAIN_PERC = .9\n",
    "BATCH_SIZE = 1024\n",
    "NUM_TEACHERS = 15\n",
    "TEACHER_EPOCHS = 20\n",
    "STUDENT_EPOCHS = 20\n",
    "EPOCHS = 100\n",
    "\n",
    "early_stopping = tf.keras.callbacks.EarlyStopping(\n",
    "#     monitor='val_prc', \n",
    "    monitor=\"val_auc\",\n",
    "    verbose=1,\n",
    "    patience=10,\n",
    "    mode='max',\n",
    "    restore_best_weights=True)"
   ]
  },
  {
   "cell_type": "code",
   "execution_count": 43,
   "id": "0d7af295",
   "metadata": {},
   "outputs": [],
   "source": [
    "def get_loaders(data, num_teachers, batch_size):\n",
    "    \"\"\" \n",
    "    Function to create data loaders for the Teacher Class.\n",
    "    \n",
    "    :param data: Numpy Array of the data \n",
    "    :param num_teacher: Number of teacher models \n",
    "    :param batch_size: Batch size for the dataloaders\n",
    "\n",
    "    :return: Return teacher loaders and student loader (with actual labels)\n",
    "    \"\"\" \n",
    "    loaders = []\n",
    "    sample_size = len(data) // (num_teachers + 1)\n",
    "\n",
    "    for i in range(num_teachers):\n",
    "        indices = list(range(i*sample_size, (i+1)*sample_size))\n",
    "        #subset_data = Subset(data, indices)\n",
    "        subset_data = data[indices[0]:indices[-1]]\n",
    "        #loader = DataLoader(subset_data, batch_size=batch_size)\n",
    "        loaders.append(subset_data)\n",
    "    \n",
    "    return loaders[1:], loaders[0] #teacher, students"
   ]
  },
  {
   "cell_type": "code",
   "execution_count": null,
   "id": "96ca2eb1",
   "metadata": {},
   "outputs": [],
   "source": []
  },
  {
   "cell_type": "code",
   "execution_count": 44,
   "id": "bb100e17",
   "metadata": {},
   "outputs": [],
   "source": [
    "# Define dataloaders\n",
    "t_loaders, s_loader = get_loaders(train_features, NUM_TEACHERS, BATCH_SIZE) # Teacher loaders, student loader\n",
    "# val_loader = DataLoader(val_data, batch_size=BATCH_SIZE, drop_last=True) # Loader to validate in Train Ensemble and Train Student Model"
   ]
  },
  {
   "cell_type": "code",
   "execution_count": null,
   "id": "ae0f1ca8",
   "metadata": {},
   "outputs": [],
   "source": []
  },
  {
   "cell_type": "code",
   "execution_count": null,
   "id": "41614933",
   "metadata": {},
   "outputs": [],
   "source": []
  },
  {
   "cell_type": "code",
   "execution_count": 45,
   "id": "d3e1f9c3",
   "metadata": {},
   "outputs": [],
   "source": [
    "METRICS = [\n",
    "      keras.metrics.TruePositives(name='tp'),\n",
    "      keras.metrics.FalsePositives(name='fp'),\n",
    "      keras.metrics.TrueNegatives(name='tn'),\n",
    "      keras.metrics.FalseNegatives(name='fn'), \n",
    "      keras.metrics.BinaryAccuracy(name='accuracy'),\n",
    "      keras.metrics.Precision(name='precision'),\n",
    "      keras.metrics.Recall(name='recall'),\n",
    "      keras.metrics.AUC(name='auc'),\n",
    "      keras.metrics.AUC(name='prc', curve='PR'), # precision-recall curve\n",
    "]\n",
    "\n",
    "def make_model(metrics=METRICS, output_bias=None):\n",
    "    if output_bias is not None:\n",
    "        output_bias = tf.keras.initializers.Constant(output_bias)\n",
    "    # underfitting. \n",
    "    model = keras.Sequential([\n",
    "      keras.layers.Dense(\n",
    "          16, activation='relu',input_shape=(train_features.shape[-1],)),\n",
    "      keras.layers.Dropout(0.5),\n",
    "      keras.layers.Dense(1, activation='sigmoid',\n",
    "                         bias_initializer=output_bias),\n",
    "    ])\n",
    "    model.compile(\n",
    "      optimizer=keras.optimizers.Adam(learning_rate=1e-3),\n",
    "      loss=keras.losses.BinaryCrossentropy(),\n",
    "      metrics=metrics)\n",
    "\n",
    "    return model"
   ]
  },
  {
   "cell_type": "code",
   "execution_count": 46,
   "id": "6bf1b6b4",
   "metadata": {},
   "outputs": [],
   "source": [
    "# Initialize models and otptimizers for teacher ensembles\n",
    "models = [make_model() for i in range(NUM_TEACHERS)]\n",
    "# opts = [torch.optim.Adam(model.parameters(), lr=.001,  betas=(0.9, 0.999)) for model in models]\n"
   ]
  },
  {
   "cell_type": "code",
   "execution_count": 47,
   "id": "9a2313f8",
   "metadata": {},
   "outputs": [],
   "source": [
    "def train_model(resampled_model):\n",
    "    resampled_model.compile(\n",
    "        optimizer=keras.optimizers.Adam(learning_rate=1e-3),\n",
    "        loss=keras.losses.BinaryCrossentropy(),\n",
    "        metrics=METRICS)\n",
    "\n",
    "    # Reset the bias to zero, since this dataset is balanced.\n",
    "    output_layer = resampled_model.layers[-1] \n",
    "    output_layer.bias.assign([0])\n",
    "    # resampled_steps_per_epoch = 20\n",
    "\n",
    "    resampled_history = resampled_model.fit(\n",
    "        resampled_features, resampled_labels,\n",
    "        epochs=EPOCHS,\n",
    "    #     steps_per_epoch=resampled_steps_per_epoch,\n",
    "        callbacks=[early_stopping],\n",
    "        validation_data=(val_features, val_labels))"
   ]
  },
  {
   "cell_type": "code",
   "execution_count": null,
   "id": "21d59738",
   "metadata": {},
   "outputs": [],
   "source": [
    "# models[0].compile(\n",
    "#         optimizer=keras.optimizers.Adam(learning_rate=1e-3),\n",
    "#         loss=keras.losses.BinaryCrossentropy(),\n",
    "#         metrics=METRICS)\n",
    "# output_layer = models[0].layers[-1] \n",
    "# output_layer.bias.assign([0])\n",
    "# # resampled_steps_per_epoch = 20\n",
    "\n",
    "# resampled_history = models[0].fit(\n",
    "#     resampled_features, resampled_labels,\n",
    "#     epochs=EPOCHS,\n",
    "# #     steps_per_epoch=resampled_steps_per_epoch,\n",
    "#     callbacks=[early_stopping],\n",
    "#     validation_data=(val_features, val_labels))"
   ]
  },
  {
   "cell_type": "code",
   "execution_count": null,
   "id": "38326ebf",
   "metadata": {},
   "outputs": [],
   "source": []
  },
  {
   "cell_type": "code",
   "execution_count": null,
   "id": "88363b0a",
   "metadata": {},
   "outputs": [],
   "source": []
  },
  {
   "cell_type": "code",
   "execution_count": null,
   "id": "13e9ebb4",
   "metadata": {},
   "outputs": [],
   "source": []
  },
  {
   "cell_type": "code",
   "execution_count": null,
   "id": "28018dca",
   "metadata": {},
   "outputs": [],
   "source": []
  },
  {
   "cell_type": "code",
   "execution_count": null,
   "id": "485faf2b",
   "metadata": {},
   "outputs": [],
   "source": []
  }
 ],
 "metadata": {
  "kernelspec": {
   "display_name": "Python 3 (ipykernel)",
   "language": "python",
   "name": "python3"
  },
  "language_info": {
   "codemirror_mode": {
    "name": "ipython",
    "version": 3
   },
   "file_extension": ".py",
   "mimetype": "text/x-python",
   "name": "python",
   "nbconvert_exporter": "python",
   "pygments_lexer": "ipython3",
   "version": "3.8.0"
  }
 },
 "nbformat": 4,
 "nbformat_minor": 5
}
