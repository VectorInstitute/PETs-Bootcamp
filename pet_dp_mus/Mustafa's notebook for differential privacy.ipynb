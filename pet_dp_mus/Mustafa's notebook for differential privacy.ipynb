{
 "cells": [
  {
   "cell_type": "code",
   "execution_count": 1,
   "id": "rural-heavy",
   "metadata": {},
   "outputs": [],
   "source": [
    "import os\n",
    "from sklearn.model_selection import train_test_split\n",
    "import tensorflow as tf\n",
    "from tensorflow.keras import Sequential, layers\n",
    "import pandas as pd\n",
    "import matplotlib.pyplot as plt\n",
    "from sklearn.preprocessing import StandardScaler\n",
    "import numpy as np\n",
    "from sklearn.metrics import ConfusionMatrixDisplay\n",
    "import sklearn\n",
    "from imblearn.under_sampling import RandomUnderSampler\n",
    "from keras.regularizers import l2\n",
    "from imblearn.over_sampling import SMOTE\n",
    "from tensorflow.keras.utils import to_categorical\n"
   ]
  },
  {
   "cell_type": "code",
   "execution_count": 2,
   "id": "wrong-share",
   "metadata": {},
   "outputs": [],
   "source": [
    "df = pd.read_csv(\"/ssd003/projects/pets/datasets/homecredit_train.csv\")"
   ]
  },
  {
   "cell_type": "code",
   "execution_count": 3,
   "id": "growing-overview",
   "metadata": {},
   "outputs": [
    {
     "data": {
      "text/plain": [
       "<AxesSubplot:>"
      ]
     },
     "execution_count": 3,
     "metadata": {},
     "output_type": "execute_result"
    },
    {
     "data": {
      "image/png": "[encoded data removed]",
      "text/plain": [
       "<Figure size 432x288 with 1 Axes>"
      ]
     },
     "metadata": {
      "needs_background": "light"
     },
     "output_type": "display_data"
    },
    {
     "data": {
      "image/png": "[encoded data removed]",
      "text/plain": [
       "<Figure size 432x288 with 1 Axes>"
      ]
     },
     "metadata": {
      "needs_background": "light"
     },
     "output_type": "display_data"
    }
   ],
   "source": [
    "fig, ax = plt.subplots()\n",
    "df['target'].value_counts().plot(ax=ax, kind='bar')\n",
    "\n",
    "train_df, test_df = train_test_split(df, test_size=0.2, random_state=42)\n",
    "train_df, val_df = train_test_split(train_df, test_size=0.2, random_state=42)\n",
    "\n",
    "# Oversampling target labels\n",
    "max_size = train_df['target'].value_counts().max()\n",
    "\n",
    "# lst = [train_df]\n",
    "# for class_index, group in train_df.groupby('target'):\n",
    "#     lst.append(group.sample(max_size-len(group), replace=True))\n",
    "# X_train = pd.concat(lst)\n",
    "\n",
    "X_train = train_df.drop(['target'], axis=1)\n",
    "y_train = train_df['target']\n",
    "\n",
    "rus = SMOTE(random_state=42)\n",
    "X_train, y_train = rus.fit_resample(X_train, y_train)\n",
    "\n",
    "X_test = test_df.drop(['target'], axis=1)\n",
    "y_test = test_df['target']\n",
    "\n",
    "X_val = val_df.drop(['target'], axis=1)\n",
    "y_val = val_df['target']\n",
    "\n",
    "fig, ax = plt.subplots()\n",
    "y_train.value_counts().plot(ax=ax, kind='bar')\n",
    "\n",
    "# y_train = np.array(y_train, dtype=np.float32) \n",
    "# y_test = np.array(y_test, dtype=np.float32) \n",
    "# y_val = np.array(y_val, dtype=np.float32)\n",
    "\n",
    "# y_train = y_train.flatten()\n",
    "# y_test = y_test.flatten()\n",
    "# y_val = y_val.flatten()\n",
    "\n"
   ]
  },
  {
   "cell_type": "code",
   "execution_count": 4,
   "id": "packed-equivalent",
   "metadata": {},
   "outputs": [],
   "source": [
    "scaler = StandardScaler()\n",
    "X_train_transform = scaler.fit_transform(X_train)\n",
    "X_val_transform = scaler.transform(X_val)\n",
    "X_test_transform = scaler.transform(X_test)\n",
    "\n",
    "X_train_transform = pd.DataFrame(X_train_transform,columns = X_train.columns)\n",
    "X_val_transform = pd.DataFrame(X_val_transform,columns = X_train.columns)\n",
    "X_test_transform = pd.DataFrame(X_test_transform, columns = X_train.columns)\n",
    "\n",
    "X_train_transform = np.clip(X_train_transform, -5, 5)\n",
    "X_val_transform = np.clip(X_val_transform, -5, 5)\n",
    "X_test_transform = np.clip(X_test_transform, -5, 5)"
   ]
  },
  {
   "cell_type": "markdown",
   "id": "entire-magic",
   "metadata": {},
   "source": [
    "# BASELINE MODEL"
   ]
  },
  {
   "cell_type": "code",
   "execution_count": 5,
   "id": "editorial-compound",
   "metadata": {},
   "outputs": [],
   "source": [
    "from tensorflow.keras.models import Sequential\n",
    "from tensorflow.keras.layers import Dense\n",
    "from tensorflow.keras.layers import Dropout, BatchNormalization\n",
    "from tensorflow.keras.layers import PReLU\n",
    "from tensorflow.keras.optimizers import Adam\n",
    "from tensorflow.keras.callbacks import EarlyStopping\n",
    "\n",
    "METRICS = [\n",
    "      tf.keras.metrics.BinaryAccuracy(name='accuracy'),\n",
    "      tf.keras.metrics.Precision(name='precision'),\n",
    "      tf.keras.metrics.Recall(name='recall'),\n",
    "      tf.keras.metrics.AUC(name='auc'),\n",
    "      tf.keras.metrics.AUC(name='prc', curve='PR'), # precision-recall curve\n",
    "]\n",
    "\n",
    "\n",
    "params = {\n",
    "    \"layer1\": 400,\n",
    "    \"layer2\": 160,\n",
    "    \"layer3\": 64,\n",
    "    \"layer4\": 26,\n",
    "    \"layer5\": 12,\n",
    "    \"epochs\": 1000,\n",
    "    \"dropout\": 0.3\n",
    "}\n",
    "\n",
    "#Hao's Model\n",
    "# model = keras.Sequential([\n",
    "#       keras.layers.Dense(\n",
    "#           16, activation=‘relu’,\n",
    "#           input_shape=(train_features.shape[-1],)),\n",
    "#       keras.layers.Dropout(0.5),\n",
    "#       keras.layers.Dense(1, activation=‘sigmoid’,\n",
    "#                          bias_initializer=output_bias),\n",
    "# ])\n",
    "\n",
    "nn = Sequential()\n",
    "nn.add(Dense(units = params['layer1'] , input_dim = X_train.shape[-1]))\n",
    "nn.add(PReLU())\n",
    "nn.add(Dropout(params['dropout']))\n",
    "nn.add(Dense(units = params['layer2'] ))\n",
    "nn.add(PReLU())\n",
    "nn.add(BatchNormalization())\n",
    "nn.add(Dropout(params['dropout']))\n",
    "nn.add(Dense(units = params['layer3']))\n",
    "nn.add(PReLU())\n",
    "nn.add(BatchNormalization())\n",
    "nn.add(Dropout(params['dropout']))\n",
    "nn.add(Dense(units = params['layer4']))\n",
    "nn.add(PReLU())\n",
    "nn.add(BatchNormalization())\n",
    "nn.add(Dropout(params['dropout']))\n",
    "nn.add(Dense(units = params['layer5'], activation=\"relu\"))\n",
    "nn.add(PReLU())\n",
    "nn.add(BatchNormalization())\n",
    "nn.add(Dropout(params['dropout']))\n",
    "nn.add(Dense(1, activation=\"sigmoid\"))\n",
    "nn.compile(loss=tf.keras.losses.BinaryCrossentropy(), optimizer='adam', metrics=METRICS)"
   ]
  },
  {
   "cell_type": "code",
   "execution_count": 6,
   "id": "oriental-bidder",
   "metadata": {},
   "outputs": [
    {
     "name": "stdout",
     "output_type": "stream",
     "text": [
      "Epoch 1/30\n",
      "1414/1414 [==============================] - 14s 8ms/step - loss: 0.6058 - accuracy: 0.6852 - precision: 0.6753 - recall: 0.7134 - auc: 0.7438 - prc: 0.7117 - val_loss: 0.5552 - val_accuracy: 0.6970 - val_precision: 0.1539 - val_recall: 0.5977 - val_auc: 0.7096 - val_prc: 0.1842\n",
      "Epoch 2/30\n",
      "1414/1414 [==============================] - 11s 8ms/step - loss: 0.5370 - accuracy: 0.7361 - precision: 0.7261 - recall: 0.7581 - auc: 0.8064 - prc: 0.7835 - val_loss: 0.5237 - val_accuracy: 0.7290 - val_precision: 0.1591 - val_recall: 0.5366 - val_auc: 0.6981 - val_prc: 0.1705\n",
      "Epoch 3/30\n",
      "1414/1414 [==============================] - 11s 8ms/step - loss: 0.5117 - accuracy: 0.7539 - precision: 0.7464 - recall: 0.7691 - auc: 0.8278 - prc: 0.8094 - val_loss: 0.5078 - val_accuracy: 0.7415 - val_precision: 0.1584 - val_recall: 0.4978 - val_auc: 0.6870 - val_prc: 0.1608\n",
      "Epoch 4/30\n",
      "1414/1414 [==============================] - 11s 7ms/step - loss: 0.4945 - accuracy: 0.7657 - precision: 0.7595 - recall: 0.7776 - auc: 0.8410 - prc: 0.8258 - val_loss: 0.5082 - val_accuracy: 0.7412 - val_precision: 0.1583 - val_recall: 0.4978 - val_auc: 0.6889 - val_prc: 0.1603\n",
      "Epoch 5/30\n",
      "1414/1414 [==============================] - 11s 8ms/step - loss: 0.4789 - accuracy: 0.7741 - precision: 0.7666 - recall: 0.7883 - auc: 0.8520 - prc: 0.8390 - val_loss: 0.4980 - val_accuracy: 0.7508 - val_precision: 0.1628 - val_recall: 0.4908 - val_auc: 0.6936 - val_prc: 0.1696\n",
      "Epoch 6/30\n",
      "1414/1414 [==============================] - 11s 8ms/step - loss: 0.4651 - accuracy: 0.7839 - precision: 0.7758 - recall: 0.7986 - auc: 0.8616 - prc: 0.8498 - val_loss: 0.4848 - val_accuracy: 0.7624 - val_precision: 0.1611 - val_recall: 0.4495 - val_auc: 0.6839 - val_prc: 0.1582\n",
      "Epoch 7/30\n",
      "1414/1414 [==============================] - 11s 8ms/step - loss: 0.4534 - accuracy: 0.7900 - precision: 0.7804 - recall: 0.8069 - auc: 0.8692 - prc: 0.8601 - val_loss: 0.4622 - val_accuracy: 0.7712 - val_precision: 0.1652 - val_recall: 0.4404 - val_auc: 0.6847 - val_prc: 0.1582\n",
      "Epoch 8/30\n",
      "1414/1414 [==============================] - 11s 7ms/step - loss: 0.4413 - accuracy: 0.7966 - precision: 0.7867 - recall: 0.8137 - auc: 0.8769 - prc: 0.8700 - val_loss: 0.4806 - val_accuracy: 0.7593 - val_precision: 0.1625 - val_recall: 0.4644 - val_auc: 0.6906 - val_prc: 0.1630\n",
      "Epoch 9/30\n",
      "1414/1414 [==============================] - 11s 8ms/step - loss: 0.4315 - accuracy: 0.8023 - precision: 0.7925 - recall: 0.8190 - auc: 0.8827 - prc: 0.8769 - val_loss: 0.4501 - val_accuracy: 0.7720 - val_precision: 0.1669 - val_recall: 0.4448 - val_auc: 0.6900 - val_prc: 0.1610\n",
      "Epoch 10/30\n",
      "1414/1414 [==============================] - 11s 8ms/step - loss: 0.4246 - accuracy: 0.8065 - precision: 0.7973 - recall: 0.8220 - auc: 0.8868 - prc: 0.8817 - val_loss: 0.4498 - val_accuracy: 0.7776 - val_precision: 0.1685 - val_recall: 0.4339 - val_auc: 0.6931 - val_prc: 0.1639\n",
      "Epoch 11/30\n",
      "1414/1414 [==============================] - 11s 8ms/step - loss: 0.4165 - accuracy: 0.8106 - precision: 0.8016 - recall: 0.8255 - auc: 0.8913 - prc: 0.8877 - val_loss: 0.4511 - val_accuracy: 0.7803 - val_precision: 0.1663 - val_recall: 0.4174 - val_auc: 0.6874 - val_prc: 0.1581\n",
      "Epoch 12/30\n",
      "1414/1414 [==============================] - 11s 8ms/step - loss: 0.4100 - accuracy: 0.8132 - precision: 0.8051 - recall: 0.8265 - auc: 0.8948 - prc: 0.8920 - val_loss: 0.4393 - val_accuracy: 0.7919 - val_precision: 0.1748 - val_recall: 0.4119 - val_auc: 0.6931 - val_prc: 0.1668\n",
      "Epoch 13/30\n",
      "1414/1414 [==============================] - 11s 8ms/step - loss: 0.4038 - accuracy: 0.8181 - precision: 0.8103 - recall: 0.8305 - auc: 0.8981 - prc: 0.8955 - val_loss: 0.4524 - val_accuracy: 0.7759 - val_precision: 0.1671 - val_recall: 0.4334 - val_auc: 0.6882 - val_prc: 0.1621\n",
      "Epoch 14/30\n",
      "1414/1414 [==============================] - 11s 8ms/step - loss: 0.3999 - accuracy: 0.8187 - precision: 0.8115 - recall: 0.8302 - auc: 0.9002 - prc: 0.8983 - val_loss: 0.4471 - val_accuracy: 0.7795 - val_precision: 0.1649 - val_recall: 0.4144 - val_auc: 0.6903 - val_prc: 0.1622\n",
      "Epoch 15/30\n",
      "1414/1414 [==============================] - 11s 8ms/step - loss: 0.3942 - accuracy: 0.8225 - precision: 0.8152 - recall: 0.8341 - auc: 0.9031 - prc: 0.9015 - val_loss: 0.4418 - val_accuracy: 0.7853 - val_precision: 0.1659 - val_recall: 0.4008 - val_auc: 0.6852 - val_prc: 0.1585\n",
      "Epoch 16/30\n",
      "1414/1414 [==============================] - 11s 8ms/step - loss: 0.3890 - accuracy: 0.8248 - precision: 0.8177 - recall: 0.8360 - auc: 0.9058 - prc: 0.9046 - val_loss: 0.4245 - val_accuracy: 0.8042 - val_precision: 0.1802 - val_recall: 0.3897 - val_auc: 0.6950 - val_prc: 0.1669\n",
      "Epoch 17/30\n",
      "1414/1414 [==============================] - 11s 8ms/step - loss: 0.3859 - accuracy: 0.8272 - precision: 0.8214 - recall: 0.8362 - auc: 0.9074 - prc: 0.9064 - val_loss: 0.4313 - val_accuracy: 0.7949 - val_precision: 0.1724 - val_recall: 0.3936 - val_auc: 0.6898 - val_prc: 0.1629\n",
      "Epoch 18/30\n",
      "1414/1414 [==============================] - 11s 8ms/step - loss: 0.3809 - accuracy: 0.8292 - precision: 0.8238 - recall: 0.8376 - auc: 0.9098 - prc: 0.9089 - val_loss: 0.4486 - val_accuracy: 0.7825 - val_precision: 0.1669 - val_recall: 0.4127 - val_auc: 0.6880 - val_prc: 0.1577\n",
      "Epoch 19/30\n",
      "1414/1414 [==============================] - 11s 8ms/step - loss: 0.3775 - accuracy: 0.8303 - precision: 0.8248 - recall: 0.8388 - auc: 0.9114 - prc: 0.9105 - val_loss: 0.4354 - val_accuracy: 0.7945 - val_precision: 0.1679 - val_recall: 0.3795 - val_auc: 0.6862 - val_prc: 0.1571\n",
      "Epoch 20/30\n",
      "1414/1414 [==============================] - 11s 8ms/step - loss: 0.3748 - accuracy: 0.8327 - precision: 0.8270 - recall: 0.8416 - auc: 0.9128 - prc: 0.9125 - val_loss: 0.4174 - val_accuracy: 0.8075 - val_precision: 0.1723 - val_recall: 0.3533 - val_auc: 0.6850 - val_prc: 0.1556\n",
      "Epoch 21/30\n",
      "1414/1414 [==============================] - 11s 8ms/step - loss: 0.3719 - accuracy: 0.8339 - precision: 0.8287 - recall: 0.8419 - auc: 0.9142 - prc: 0.9142 - val_loss: 0.4075 - val_accuracy: 0.8142 - val_precision: 0.1778 - val_recall: 0.3481 - val_auc: 0.6832 - val_prc: 0.1554\n",
      "Epoch 22/30\n",
      "1414/1414 [==============================] - 11s 8ms/step - loss: 0.3693 - accuracy: 0.8353 - precision: 0.8297 - recall: 0.8438 - auc: 0.9154 - prc: 0.9156 - val_loss: 0.4285 - val_accuracy: 0.7990 - val_precision: 0.1711 - val_recall: 0.3763 - val_auc: 0.6872 - val_prc: 0.1609\n",
      "Epoch 23/30\n",
      "1414/1414 [==============================] - 12s 8ms/step - loss: 0.3652 - accuracy: 0.8378 - precision: 0.8335 - recall: 0.8442 - auc: 0.9174 - prc: 0.9177 - val_loss: 0.4195 - val_accuracy: 0.8003 - val_precision: 0.1675 - val_recall: 0.3607 - val_auc: 0.6842 - val_prc: 0.1555\n",
      "Epoch 24/30\n",
      "1414/1414 [==============================] - 12s 8ms/step - loss: 0.3626 - accuracy: 0.8393 - precision: 0.8336 - recall: 0.8479 - auc: 0.9187 - prc: 0.9187 - val_loss: 0.4309 - val_accuracy: 0.7978 - val_precision: 0.1713 - val_recall: 0.3805 - val_auc: 0.6890 - val_prc: 0.1609\n",
      "Epoch 25/30\n",
      "1414/1414 [==============================] - 12s 8ms/step - loss: 0.3600 - accuracy: 0.8400 - precision: 0.8348 - recall: 0.8478 - auc: 0.9198 - prc: 0.9200 - val_loss: 0.4102 - val_accuracy: 0.8119 - val_precision: 0.1750 - val_recall: 0.3471 - val_auc: 0.6862 - val_prc: 0.1554\n",
      "Epoch 26/30\n",
      "1414/1414 [==============================] - 12s 8ms/step - loss: 0.3591 - accuracy: 0.8410 - precision: 0.8360 - recall: 0.8483 - auc: 0.9202 - prc: 0.9205 - val_loss: 0.4183 - val_accuracy: 0.8096 - val_precision: 0.1755 - val_recall: 0.3563 - val_auc: 0.6860 - val_prc: 0.1600\n",
      "Epoch 27/30\n",
      "1414/1414 [==============================] - 12s 9ms/step - loss: 0.3556 - accuracy: 0.8426 - precision: 0.8381 - recall: 0.8493 - auc: 0.9218 - prc: 0.9220 - val_loss: 0.4187 - val_accuracy: 0.8061 - val_precision: 0.1737 - val_recall: 0.3622 - val_auc: 0.6865 - val_prc: 0.1573\n",
      "Epoch 28/30\n",
      "1414/1414 [==============================] - 12s 9ms/step - loss: 0.3539 - accuracy: 0.8441 - precision: 0.8399 - recall: 0.8502 - auc: 0.9225 - prc: 0.9227 - val_loss: 0.4162 - val_accuracy: 0.8076 - val_precision: 0.1796 - val_recall: 0.3761 - val_auc: 0.6916 - val_prc: 0.1619\n",
      "Epoch 29/30\n",
      "1414/1414 [==============================] - 11s 8ms/step - loss: 0.3523 - accuracy: 0.8443 - precision: 0.8390 - recall: 0.8520 - auc: 0.9232 - prc: 0.9236 - val_loss: 0.4344 - val_accuracy: 0.7955 - val_precision: 0.1702 - val_recall: 0.3845 - val_auc: 0.6881 - val_prc: 0.1582\n",
      "Epoch 30/30\n",
      "1414/1414 [==============================] - 11s 8ms/step - loss: 0.3492 - accuracy: 0.8450 - precision: 0.8402 - recall: 0.8522 - auc: 0.9246 - prc: 0.9250 - val_loss: 0.4056 - val_accuracy: 0.8134 - val_precision: 0.1731 - val_recall: 0.3367 - val_auc: 0.6886 - val_prc: 0.1582\n"
     ]
    }
   ],
   "source": [
    "history = nn.fit(X_train_transform, y_train, epochs=30, batch_size=256, validation_data=(X_val_transform, y_val))"
   ]
  },
  {
   "cell_type": "code",
   "execution_count": 7,
   "id": "verified-hunter",
   "metadata": {},
   "outputs": [
    {
     "name": "stdout",
     "output_type": "stream",
     "text": [
      "1922/1922 [==============================] - 6s 3ms/step - loss: 0.3993 - accuracy: 0.8162 - precision: 0.1796 - recall: 0.3599 - auc: 0.6977 - prc: 0.1641\n",
      "\n",
      "accuracy: 81.62%\n"
     ]
    }
   ],
   "source": [
    "scores = nn.evaluate(X_test_transform, y_test)\n",
    "print(\"\\n%s: %.2f%%\" % (nn.metrics_names[1], scores[1]*100))"
   ]
  },
  {
   "cell_type": "code",
   "execution_count": 8,
   "id": "forbidden-raleigh",
   "metadata": {},
   "outputs": [
    {
     "data": {
      "image/png": "[encoded data removed]",
      "text/plain": [
       "<Figure size 432x288 with 1 Axes>"
      ]
     },
     "metadata": {
      "needs_background": "light"
     },
     "output_type": "display_data"
    },
    {
     "data": {
      "image/png": "[encoded data removed]",
      "text/plain": [
       "<Figure size 432x288 with 1 Axes>"
      ]
     },
     "metadata": {
      "needs_background": "light"
     },
     "output_type": "display_data"
    },
    {
     "data": {
      "text/plain": [
       "<matplotlib.legend.Legend at 0x7effb309b130>"
      ]
     },
     "execution_count": 8,
     "metadata": {},
     "output_type": "execute_result"
    },
    {
     "data": {
      "image/png": "[encoded data removed]",
      "text/plain": [
       "<Figure size 640x480 with 1 Axes>"
      ]
     },
     "metadata": {
      "needs_background": "light"
     },
     "output_type": "display_data"
    }
   ],
   "source": [
    "plt.plot(history.history['auc'])\n",
    "plt.plot(history.history['val_auc'])\n",
    "plt.title('AUC curve')\n",
    "plt.ylabel('AUC')\n",
    "plt.xlabel('epoch')\n",
    "plt.legend(['train', 'val'], loc='upper left')\n",
    "plt.show()\n",
    "\n",
    "plt.plot(history.history['loss'])\n",
    "plt.plot(history.history['val_loss'])\n",
    "plt.title('Loss curve')\n",
    "plt.ylabel('loss')\n",
    "plt.xlabel('epoch')\n",
    "plt.legend(['train', 'val'], loc='upper left')\n",
    "plt.show()\n",
    "\n",
    "def plot_prc(name, labels, predictions, **kwargs):\n",
    "    precision, recall, _ = sklearn.metrics.precision_recall_curve(labels, predictions)\n",
    "\n",
    "    plt.plot(precision, recall, label=name, linewidth=2, **kwargs)\n",
    "    plt.xlabel('Recall')\n",
    "    plt.ylabel('Precision')\n",
    "    plt.grid(True)\n",
    "    ax = plt.gca()\n",
    "    ax.set_aspect('equal')\n",
    "\n",
    "from matplotlib.pyplot import figure\n",
    "figure(figsize=(8, 6), dpi=80)\n",
    "colors = plt.rcParams['axes.prop_cycle'].by_key()['color']\n",
    "train_predictions_resampled = nn.predict(X_train, batch_size=128)\n",
    "test_predictions_resampled =  nn.predict(X_test, batch_size=128)\n",
    "plot_prc(\"Train Resampled\", y_train, train_predictions_resampled, color=colors[2])\n",
    "plot_prc(\"Test Resampled\", y_test, test_predictions_resampled, color=colors[2], linestyle='--')\n",
    "plt.legend(loc='lower right')\n",
    "\n",
    "\n",
    "\n",
    "# results = model.evaluate(X_test, y_test, batch_size=64)"
   ]
  },
  {
   "cell_type": "code",
   "execution_count": 9,
   "id": "organic-feature",
   "metadata": {},
   "outputs": [],
   "source": [
    "y_pred = nn.predict(X_test_transform)\n",
    "confusion_matrix = sklearn.metrics.confusion_matrix(y_test, np.rint(y_pred))"
   ]
  },
  {
   "cell_type": "code",
   "execution_count": 10,
   "id": "becoming-wisdom",
   "metadata": {},
   "outputs": [],
   "source": [
    "disp = ConfusionMatrixDisplay(confusion_matrix=confusion_matrix, display_labels=[\"0\",\"1\"])"
   ]
  },
  {
   "cell_type": "code",
   "execution_count": 11,
   "id": "maritime-principal",
   "metadata": {},
   "outputs": [
    {
     "data": {
      "text/plain": [
       "<sklearn.metrics._plot.confusion_matrix.ConfusionMatrixDisplay at 0x7effb2f5fbe0>"
      ]
     },
     "execution_count": 11,
     "metadata": {},
     "output_type": "execute_result"
    },
    {
     "data": {
      "image/png": "[encoded data removed]",
      "text/plain": [
       "<Figure size 432x288 with 2 Axes>"
      ]
     },
     "metadata": {
      "needs_background": "light"
     },
     "output_type": "display_data"
    }
   ],
   "source": [
    "disp.plot()"
   ]
  },
  {
   "cell_type": "markdown",
   "id": "adequate-software",
   "metadata": {},
   "source": [
    "# Membership Inference Attack"
   ]
  },
  {
   "cell_type": "markdown",
   "id": "later-polish",
   "metadata": {},
   "source": [
    "Membership Inference Attack (MIA) on machine learning models aim to identify whether a data sample was used to train the target machine learning model or not. \n",
    "\n",
    "MIA can raise severe privacy risks to individuals. For example, identifying that a certain patient’s clinical record was used to train a model associated with a disease reveals that the patient has this disease. \n",
    "MIA against ML models mainly focus on deep learning models because they are more prone to suffer from overfitting issues, which can be exploited by membership inference attacks\n",
    " \n",
    "If our model behaves differently on both train and test datasets, it may be the case that the model overfits on the train data therefore is more vulnerable to MIA.\n",
    "\n",
    "There are two types of MIA Attacks:\n",
    "* Neural Network based attacks\n",
    "* Metrics based attacks\n",
    "\n",
    " \n",
    "Types of Membership Inference Attacks:\n",
    "* Black-box inference attacks\n",
    "* White-box inference attacks\n",
    "\n",
    "Steps to mitigate MIA:\n",
    "\n",
    "* Regularization to prevent overfitting.\n",
    "\n",
    "* Using Differential Privacy as privacy enhancing technique\n",
    "\n",
    "* Confidence score masking\n",
    "\n",
    "Generalized steps to explore MIA:\n",
    "\n",
    "* Load dataset & preprocess.\n",
    "* Create the model without activation in the last layer and logits set to True in the loss function and train.\n",
    "* Perform attack on the model and keep note of the relevant success metric (AUC used in this notebook).\n",
    "* Implement differential privacy to see difference in the success metric (AUC used in this notebook)."
   ]
  },
  {
   "cell_type": "code",
   "execution_count": 12,
   "id": "outstanding-bible",
   "metadata": {},
   "outputs": [
    {
     "name": "stderr",
     "output_type": "stream",
     "text": [
      "/ssd003/projects/aieng/public/pets_unified/lib/python3.8/site-packages/tensorflow_privacy/privacy/membership_inference_attack/__init__.py:18: UserWarning: \n",
      "Membership inference attack sources were moved. Please replace\n",
      "import tensorflow_privacy.privacy.membership_inference_attack\n",
      "\n",
      "with\n",
      "import tensorflow_privacy.privacy.privacy_tests.membership_inference_attack\n",
      "  warnings.warn(\n"
     ]
    }
   ],
   "source": [
    "from tensorflow_privacy.privacy.membership_inference_attack import membership_inference_attack as mia\n",
    "from tensorflow_privacy.privacy.membership_inference_attack.data_structures import AttackInputData\n",
    "from tensorflow_privacy.privacy.membership_inference_attack.data_structures import SlicingSpec\n",
    "from tensorflow_privacy.privacy.membership_inference_attack.data_structures import AttackType\n",
    "import tensorflow_privacy.privacy.membership_inference_attack.plotting as plotting\n",
    "\n",
    "import tensorflow_privacy.privacy.privacy_tests.membership_inference_attack\n",
    "from scipy import special"
   ]
  },
  {
   "cell_type": "markdown",
   "id": "assisted-sheep",
   "metadata": {},
   "source": [
    "Imports for the Membership Inference Attack (MIA) , we proceed to import datastructures that will help with MIA.\n",
    "\n",
    "`AttackInputData` is used to specify what information *f*<sub>*attack*</sub> will recieve. *f*<sub>*attack*</sub> is the binary classifier used to predict whether a data point was part of the training data or not. The *f*<sub>*attack*</sub>  is the binary classifier trained to predict, whether this data point was part of the training data or not. The input for the training the *f*<sub>*attack*</sub> are outputs (or other whitebox-like information) of a trained shadow models and the binary target is based on the dact that data has beeb used for training the associated shadow model.\n",
    "\n",
    "We can provide these parameters for the `AttackInputData`:\n",
    "\n",
    "* `train and test logits or train and test probabilities`\n",
    "* `train and test loss`\n",
    "* `train and test labels (as integer arrays)`\n",
    "\n",
    "`SlicingSpec`: Provide us with the possibility of slicing our dataset. Using this datastructure, we can determine the success of the membership inference attack over specific data groups or classes. The following options can be set to True:\n",
    "\n",
    "* `entire_dataset: one of the slices will be the entire dataset`\n",
    "* `by_class: one slice per class is generated`\n",
    "* `by_percentiles: generates 10 slices for percentiles of the loss - 0-10% 10-20%, … 90-100%`\n",
    "* `by_classification_correctness: creates one slice for correctly classified data points, and one for misclassified data points. `\n",
    "\n",
    "`AttackType`: Gives us different options on how our membership inference attack should be conducted. We can specify the model that we would like to use:\n",
    "\n",
    "* `LOGISTIC_REGRESSION = ‘lr’`\n",
    "* `MULTI_LAYERED_PERCEPTRON = ‘mlp’`\n",
    "* `RANDOM_FOREST = ‘rf’`\n",
    "* `K_NEAREST_NEIGHBORS = ‘knn’`\n",
    "* `THRESHOLD_ATTACK = ‘threshold’`\n",
    "* `THRESHOLD_ENTROPY_ATTACK = ‘threshold-entropy’`\n",
    "\n",
    "The four first options require training a shadow model, the two last options don’t."
   ]
  },
  {
   "cell_type": "markdown",
   "id": "complicated-surgery",
   "metadata": {},
   "source": [
    "# Base Line Model with Logits Output"
   ]
  },
  {
   "cell_type": "code",
   "execution_count": 13,
   "id": "recreational-blond",
   "metadata": {},
   "outputs": [],
   "source": [
    "nn2 = Sequential()\n",
    "nn2.add(Dense(units = params['layer1'] , input_dim = X_train.shape[-1]))\n",
    "nn2.add(PReLU())\n",
    "nn2.add(Dropout(params['dropout']))\n",
    "nn2.add(Dense(units = params['layer2'] ))\n",
    "nn2.add(PReLU())\n",
    "nn2.add(BatchNormalization())\n",
    "nn2.add(Dropout(params['dropout']))\n",
    "nn2.add(Dense(units = params['layer3']))\n",
    "nn2.add(PReLU())\n",
    "nn2.add(BatchNormalization())\n",
    "nn2.add(Dropout(params['dropout']))\n",
    "nn2.add(Dense(units = params['layer4']))\n",
    "nn2.add(PReLU())\n",
    "nn2.add(BatchNormalization())\n",
    "nn2.add(Dropout(params['dropout']))\n",
    "nn2.add(Dense(units = params['layer5'], activation=\"relu\"))\n",
    "nn2.add(PReLU())\n",
    "nn2.add(BatchNormalization())\n",
    "nn2.add(Dropout(params['dropout']))\n",
    "nn2.add(Dense(2))\n",
    "nn2.compile(loss=tf.keras.losses.SparseCategoricalCrossentropy(from_logits=True), optimizer='adam', metrics=['accuracy'])"
   ]
  },
  {
   "cell_type": "code",
   "execution_count": 15,
   "id": "computational-algeria",
   "metadata": {},
   "outputs": [
    {
     "name": "stdout",
     "output_type": "stream",
     "text": [
      "Epoch 1/30\n",
      "1414/1414 [==============================] - 9s 6ms/step - loss: 0.5317 - accuracy: 0.7392 - val_loss: 0.4894 - val_accuracy: 0.7540\n",
      "Epoch 2/30\n",
      "1414/1414 [==============================] - 9s 6ms/step - loss: 0.5079 - accuracy: 0.7557 - val_loss: 0.5014 - val_accuracy: 0.7407\n",
      "Epoch 3/30\n",
      "1414/1414 [==============================] - 9s 6ms/step - loss: 0.4912 - accuracy: 0.7676 - val_loss: 0.4821 - val_accuracy: 0.7670\n",
      "Epoch 4/30\n",
      "1414/1414 [==============================] - 9s 6ms/step - loss: 0.4770 - accuracy: 0.7762 - val_loss: 0.4900 - val_accuracy: 0.7535\n",
      "Epoch 5/30\n",
      "1414/1414 [==============================] - 9s 6ms/step - loss: 0.4634 - accuracy: 0.7833 - val_loss: 0.4721 - val_accuracy: 0.7767\n",
      "Epoch 6/30\n",
      "1414/1414 [==============================] - 9s 6ms/step - loss: 0.4528 - accuracy: 0.7905 - val_loss: 0.4697 - val_accuracy: 0.7563\n",
      "Epoch 7/30\n",
      "1414/1414 [==============================] - 9s 6ms/step - loss: 0.4415 - accuracy: 0.7964 - val_loss: 0.4765 - val_accuracy: 0.7575\n",
      "Epoch 8/30\n",
      "1414/1414 [==============================] - 9s 6ms/step - loss: 0.4328 - accuracy: 0.8016 - val_loss: 0.4538 - val_accuracy: 0.7791\n",
      "Epoch 9/30\n",
      "1414/1414 [==============================] - 9s 6ms/step - loss: 0.4247 - accuracy: 0.8057 - val_loss: 0.4609 - val_accuracy: 0.7656\n",
      "Epoch 10/30\n",
      "1414/1414 [==============================] - 9s 6ms/step - loss: 0.4170 - accuracy: 0.8095 - val_loss: 0.4473 - val_accuracy: 0.7882\n",
      "Epoch 11/30\n",
      "1414/1414 [==============================] - 9s 6ms/step - loss: 0.4092 - accuracy: 0.8134 - val_loss: 0.4366 - val_accuracy: 0.7871\n",
      "Epoch 12/30\n",
      "1414/1414 [==============================] - 9s 6ms/step - loss: 0.4052 - accuracy: 0.8154 - val_loss: 0.4367 - val_accuracy: 0.7920\n",
      "Epoch 13/30\n",
      "1414/1414 [==============================] - 9s 6ms/step - loss: 0.3996 - accuracy: 0.8175 - val_loss: 0.4503 - val_accuracy: 0.7817\n",
      "Epoch 14/30\n",
      "1414/1414 [==============================] - 9s 6ms/step - loss: 0.3936 - accuracy: 0.8218 - val_loss: 0.4378 - val_accuracy: 0.7860\n",
      "Epoch 15/30\n",
      "1414/1414 [==============================] - 9s 6ms/step - loss: 0.3896 - accuracy: 0.8236 - val_loss: 0.4378 - val_accuracy: 0.7909\n",
      "Epoch 16/30\n",
      "1414/1414 [==============================] - 9s 6ms/step - loss: 0.3860 - accuracy: 0.8253 - val_loss: 0.4148 - val_accuracy: 0.8070\n",
      "Epoch 17/30\n",
      "1414/1414 [==============================] - 9s 6ms/step - loss: 0.3825 - accuracy: 0.8274 - val_loss: 0.4252 - val_accuracy: 0.8020\n",
      "Epoch 18/30\n",
      "1414/1414 [==============================] - 9s 6ms/step - loss: 0.3789 - accuracy: 0.8296 - val_loss: 0.4261 - val_accuracy: 0.7980\n",
      "Epoch 19/30\n",
      "1414/1414 [==============================] - 9s 6ms/step - loss: 0.3747 - accuracy: 0.8312 - val_loss: 0.4265 - val_accuracy: 0.8027\n",
      "Epoch 20/30\n",
      "1414/1414 [==============================] - 9s 6ms/step - loss: 0.3712 - accuracy: 0.8335 - val_loss: 0.3919 - val_accuracy: 0.8299\n",
      "Epoch 21/30\n",
      "1414/1414 [==============================] - 9s 6ms/step - loss: 0.3684 - accuracy: 0.8347 - val_loss: 0.4085 - val_accuracy: 0.8158\n",
      "Epoch 22/30\n",
      "1414/1414 [==============================] - 9s 6ms/step - loss: 0.3653 - accuracy: 0.8360 - val_loss: 0.4027 - val_accuracy: 0.8195\n",
      "Epoch 23/30\n",
      "1414/1414 [==============================] - 9s 6ms/step - loss: 0.3630 - accuracy: 0.8372 - val_loss: 0.4129 - val_accuracy: 0.8099\n",
      "Epoch 24/30\n",
      "1414/1414 [==============================] - 9s 6ms/step - loss: 0.3598 - accuracy: 0.8392 - val_loss: 0.3991 - val_accuracy: 0.8216\n",
      "Epoch 25/30\n",
      "1414/1414 [==============================] - 9s 6ms/step - loss: 0.3570 - accuracy: 0.8411 - val_loss: 0.4040 - val_accuracy: 0.8197\n",
      "Epoch 26/30\n",
      "1414/1414 [==============================] - 9s 6ms/step - loss: 0.3570 - accuracy: 0.8402 - val_loss: 0.4137 - val_accuracy: 0.8038\n",
      "Epoch 27/30\n",
      "1414/1414 [==============================] - 9s 6ms/step - loss: 0.3533 - accuracy: 0.8428 - val_loss: 0.3930 - val_accuracy: 0.8274\n",
      "Epoch 28/30\n",
      "1414/1414 [==============================] - 9s 6ms/step - loss: 0.3526 - accuracy: 0.8436 - val_loss: 0.4051 - val_accuracy: 0.8178\n",
      "Epoch 29/30\n",
      "1414/1414 [==============================] - 9s 6ms/step - loss: 0.3505 - accuracy: 0.8442 - val_loss: 0.4181 - val_accuracy: 0.8069\n",
      "Epoch 30/30\n",
      "1414/1414 [==============================] - 9s 6ms/step - loss: 0.3483 - accuracy: 0.8448 - val_loss: 0.3945 - val_accuracy: 0.8246\n"
     ]
    }
   ],
   "source": [
    "history = nn2.fit(X_train_transform, y_train, epochs=30, batch_size=256, validation_data=(X_val_transform, y_val))"
   ]
  },
  {
   "cell_type": "markdown",
   "id": "front-monroe",
   "metadata": {},
   "source": [
    "### Before conducting the attack we need to calculate the inputs the attacker needs. Here we calculate the output logits, output probabilities and losses for train-test split"
   ]
  },
  {
   "cell_type": "code",
   "execution_count": 16,
   "id": "cardiac-allen",
   "metadata": {},
   "outputs": [
    {
     "name": "stdout",
     "output_type": "stream",
     "text": [
      "Predict on train...\n",
      "Predict on test...\n",
      "Apply softmax to get probabilities from logits...\n",
      "Compute losses...\n"
     ]
    }
   ],
   "source": [
    "print('Predict on train...')\n",
    "logits_train = nn2.predict(X_train_transform)\n",
    "\n",
    "print('Predict on test...')\n",
    "logits_test = nn2.predict(X_test_transform)\n",
    "\n",
    "print('Apply softmax to get probabilities from logits...')\n",
    "prob_train = special.softmax(logits_train, axis=1)\n",
    "prob_test = special.softmax(logits_test, axis=1)\n",
    "\n",
    "print('Compute losses...')\n",
    "cce = tf.keras.backend.categorical_crossentropy\n",
    "constant = tf.keras.backend.constant\n",
    "\n",
    "y_train_1 = np.array(y_train, dtype=np.float32) \n",
    "y_test_1 = np.array(y_test, dtype=np.float32) \n",
    "\n",
    "y_train_1 = y_train_1.flatten()\n",
    "y_test_1 = y_test_1.flatten()\n",
    "\n",
    "y_train_onehot_1 = to_categorical(y_train_1)\n",
    "y_test_onehot_1 = to_categorical(y_test_1)\n",
    "\n",
    "\n",
    "loss_train = cce(constant(y_train_onehot_1), constant(prob_train), from_logits=False).numpy()\n",
    "loss_test = cce(constant(y_test_onehot_1), constant(prob_test), from_logits=False).numpy()"
   ]
  },
  {
   "cell_type": "markdown",
   "id": "tight-brunswick",
   "metadata": {},
   "source": [
    "### We define what variables our attacker has access too"
   ]
  },
  {
   "cell_type": "code",
   "execution_count": 18,
   "id": "driving-placement",
   "metadata": {},
   "outputs": [],
   "source": [
    "attack_input = AttackInputData(\n",
    "  logits_train = logits_train,\n",
    "  logits_test = logits_test,\n",
    "  loss_train = loss_train,\n",
    "  loss_test = loss_test,\n",
    "  labels_train = y_train_1.astype(np.int8),\n",
    "  labels_test = y_test_1.astype(np.int8)\n",
    ")"
   ]
  },
  {
   "cell_type": "markdown",
   "id": "magnetic-paint",
   "metadata": {},
   "source": [
    "### We specify data partitions that we would like to run attacks on"
   ]
  },
  {
   "cell_type": "code",
   "execution_count": 19,
   "id": "quality-testament",
   "metadata": {},
   "outputs": [],
   "source": [
    "slicing_spec = SlicingSpec(\n",
    "    entire_dataset = True,\n",
    "    by_class = True,\n",
    "    by_percentiles = False,\n",
    "    by_classification_correctness = True)"
   ]
  },
  {
   "cell_type": "markdown",
   "id": "coordinate-dressing",
   "metadata": {},
   "source": [
    "### Finally we define our attack types and run our attack"
   ]
  },
  {
   "cell_type": "code",
   "execution_count": 20,
   "id": "solid-right",
   "metadata": {},
   "outputs": [],
   "source": [
    "attack_types = [\n",
    "    AttackType.THRESHOLD_ATTACK,\n",
    "    AttackType.LOGISTIC_REGRESSION\n",
    "]\n",
    "# run the attack\n",
    "attacks_result = mia.run_attacks(attack_input=attack_input,\n",
    "                                 slicing_spec=slicing_spec,\n",
    "                                 attack_types=attack_types)"
   ]
  },
  {
   "cell_type": "code",
   "execution_count": 21,
   "id": "roman-wings",
   "metadata": {},
   "outputs": [
    {
     "name": "stdout",
     "output_type": "stream",
     "text": [
      "Best-performing attacks over all slices\n",
      "  THRESHOLD_ATTACK (with 180972 training and 4949 test examples) achieved an AUC of 0.89 on slice CLASS=1\n",
      "  THRESHOLD_ATTACK (with 180972 training and 4949 test examples) achieved an advantage of 0.60 on slice CLASS=1\n",
      "\n",
      "Best-performing attacks over slice: \"Entire dataset\"\n",
      "  LOGISTIC_REGRESSION (with 61503 training and 61503 test examples) achieved an AUC of 0.72\n",
      "  LOGISTIC_REGRESSION (with 61503 training and 61503 test examples) achieved an advantage of 0.39\n",
      "\n",
      "Best-performing attacks over slice: \"CLASS=0\"\n",
      "  THRESHOLD_ATTACK (with 180972 training and 56554 test examples) achieved an AUC of 0.51\n",
      "  LOGISTIC_REGRESSION (with 56554 training and 56554 test examples) achieved an advantage of 0.03\n",
      "\n",
      "Best-performing attacks over slice: \"CLASS=1\"\n",
      "  THRESHOLD_ATTACK (with 180972 training and 4949 test examples) achieved an AUC of 0.89\n",
      "  THRESHOLD_ATTACK (with 180972 training and 4949 test examples) achieved an advantage of 0.60\n",
      "\n",
      "Best-performing attacks over slice: \"CORRECTLY_CLASSIFIED=True\"\n",
      "  LOGISTIC_REGRESSION (with 50867 training and 50867 test examples) achieved an AUC of 0.73\n",
      "  LOGISTIC_REGRESSION (with 50867 training and 50867 test examples) achieved an advantage of 0.45\n",
      "\n",
      "Best-performing attacks over slice: \"CORRECTLY_CLASSIFIED=False\"\n",
      "  LOGISTIC_REGRESSION (with 10636 training and 10636 test examples) achieved an AUC of 0.64\n",
      "  LOGISTIC_REGRESSION (with 10636 training and 10636 test examples) achieved an advantage of 0.21\n"
     ]
    }
   ],
   "source": [
    "print(attacks_result.summary(by_slices=True))"
   ]
  },
  {
   "cell_type": "code",
   "execution_count": 22,
   "id": "involved-cycling",
   "metadata": {},
   "outputs": [
    {
     "name": "stdout",
     "output_type": "stream",
     "text": [
      "Figure(432x288)\n"
     ]
    },
    {
     "data": {
      "image/png": "[encoded data removed]",
      "text/plain": [
       "<Figure size 432x288 with 1 Axes>"
      ]
     },
     "metadata": {
      "needs_background": "light"
     },
     "output_type": "display_data"
    }
   ],
   "source": [
    "# We see that the attacker is much better than random accuracy\n",
    "print(plotting.plot_roc_curve(attacks_result.get_result_with_max_auc().roc_curve))"
   ]
  },
  {
   "cell_type": "markdown",
   "id": "industrial-subdivision",
   "metadata": {},
   "source": [
    "### Running Same Experiment with differential privacy"
   ]
  },
  {
   "cell_type": "code",
   "execution_count": 23,
   "id": "european-audio",
   "metadata": {},
   "outputs": [],
   "source": [
    "from tensorflow_privacy.privacy.optimizers.dp_optimizer_keras import DPKerasAdamOptimizer"
   ]
  },
  {
   "cell_type": "markdown",
   "id": "wrong-british",
   "metadata": {},
   "source": [
    "### Baseline Model with Logits output and DP optimizer"
   ]
  },
  {
   "cell_type": "code",
   "execution_count": 24,
   "id": "prompt-ethics",
   "metadata": {},
   "outputs": [],
   "source": [
    "noise_multiplier=.01\n",
    "l2_norm_clip=1\n",
    "num_microbatches=1\n",
    "\n",
    "dp = DPKerasAdamOptimizer(\n",
    "            l2_norm_clip=l2_norm_clip,\n",
    "            noise_multiplier=noise_multiplier,num_microbatches=num_microbatches)\n",
    "\n",
    "nn3 = Sequential()\n",
    "nn3.add(Dense(units = params['layer1'] , input_dim = X_train.shape[-1]))\n",
    "nn3.add(PReLU())\n",
    "nn3.add(Dropout(params['dropout']))\n",
    "nn3.add(Dense(units = params['layer2'] ))\n",
    "nn3.add(PReLU())\n",
    "nn3.add(BatchNormalization())\n",
    "nn3.add(Dropout(params['dropout']))\n",
    "nn3.add(Dense(units = params['layer3']))\n",
    "nn3.add(PReLU())\n",
    "nn3.add(BatchNormalization())\n",
    "nn3.add(Dropout(params['dropout']))\n",
    "nn3.add(Dense(units = params['layer4']))\n",
    "nn3.add(PReLU())\n",
    "nn3.add(BatchNormalization())\n",
    "nn3.add(Dropout(params['dropout']))\n",
    "nn3.add(Dense(units = params['layer5'], activation=\"relu\"))\n",
    "nn3.add(PReLU())\n",
    "nn3.add(BatchNormalization())\n",
    "nn3.add(Dropout(params['dropout']))\n",
    "nn3.add(Dense(2))\n",
    "nn3.compile(loss=tf.keras.losses.SparseCategoricalCrossentropy(from_logits=True), optimizer=dp, metrics=['accuracy'])"
   ]
  },
  {
   "cell_type": "code",
   "execution_count": 25,
   "id": "correct-northern",
   "metadata": {},
   "outputs": [
    {
     "name": "stdout",
     "output_type": "stream",
     "text": [
      "Epoch 1/100\n",
      "1414/1414 [==============================] - 22s 11ms/step - loss: 0.6248 - accuracy: 0.6652 - val_loss: 0.6391 - val_accuracy: 0.6198\n",
      "Epoch 2/100\n",
      "1414/1414 [==============================] - 15s 10ms/step - loss: 0.5760 - accuracy: 0.7052 - val_loss: 0.6150 - val_accuracy: 0.6394\n",
      "Epoch 3/100\n",
      "1414/1414 [==============================] - 15s 10ms/step - loss: 0.5654 - accuracy: 0.7144 - val_loss: 0.6134 - val_accuracy: 0.6492\n",
      "Epoch 4/100\n",
      "1414/1414 [==============================] - 15s 10ms/step - loss: 0.5586 - accuracy: 0.7200 - val_loss: 0.6257 - val_accuracy: 0.6293\n",
      "Epoch 5/100\n",
      "1414/1414 [==============================] - 15s 10ms/step - loss: 0.5538 - accuracy: 0.7247 - val_loss: 0.6168 - val_accuracy: 0.6451\n",
      "Epoch 6/100\n",
      "1414/1414 [==============================] - 15s 10ms/step - loss: 0.5511 - accuracy: 0.7264 - val_loss: 0.6154 - val_accuracy: 0.6525\n",
      "Epoch 7/100\n",
      "1414/1414 [==============================] - 15s 10ms/step - loss: 0.5473 - accuracy: 0.7293 - val_loss: 0.6137 - val_accuracy: 0.6609\n",
      "Epoch 8/100\n",
      "1414/1414 [==============================] - 15s 10ms/step - loss: 0.5452 - accuracy: 0.7304 - val_loss: 0.6080 - val_accuracy: 0.6552\n",
      "Epoch 9/100\n",
      "1414/1414 [==============================] - 15s 10ms/step - loss: 0.5436 - accuracy: 0.7323 - val_loss: 0.6101 - val_accuracy: 0.6617\n",
      "Epoch 10/100\n",
      "1414/1414 [==============================] - 15s 10ms/step - loss: 0.5426 - accuracy: 0.7335 - val_loss: 0.6165 - val_accuracy: 0.6614\n",
      "Epoch 11/100\n",
      "1414/1414 [==============================] - 15s 11ms/step - loss: 0.5404 - accuracy: 0.7338 - val_loss: 0.6039 - val_accuracy: 0.6700\n",
      "Epoch 12/100\n",
      "1414/1414 [==============================] - 15s 11ms/step - loss: 0.5394 - accuracy: 0.7355 - val_loss: 0.6188 - val_accuracy: 0.6634\n",
      "Epoch 13/100\n",
      "1414/1414 [==============================] - 15s 11ms/step - loss: 0.5375 - accuracy: 0.7369 - val_loss: 0.6073 - val_accuracy: 0.6675\n",
      "Epoch 14/100\n",
      "1414/1414 [==============================] - 15s 11ms/step - loss: 0.5373 - accuracy: 0.7363 - val_loss: 0.6154 - val_accuracy: 0.6668\n",
      "Epoch 15/100\n",
      "1414/1414 [==============================] - 15s 10ms/step - loss: 0.5360 - accuracy: 0.7378 - val_loss: 0.5930 - val_accuracy: 0.6791\n",
      "Epoch 16/100\n",
      "1414/1414 [==============================] - 15s 10ms/step - loss: 0.5346 - accuracy: 0.7386 - val_loss: 0.6058 - val_accuracy: 0.6721\n",
      "Epoch 17/100\n",
      "1414/1414 [==============================] - 15s 10ms/step - loss: 0.5346 - accuracy: 0.7389 - val_loss: 0.6095 - val_accuracy: 0.6762\n",
      "Epoch 18/100\n",
      "1414/1414 [==============================] - 15s 10ms/step - loss: 0.5337 - accuracy: 0.7387 - val_loss: 0.6078 - val_accuracy: 0.6678\n",
      "Epoch 19/100\n",
      "1414/1414 [==============================] - 15s 10ms/step - loss: 0.5326 - accuracy: 0.7402 - val_loss: 0.5972 - val_accuracy: 0.6806\n",
      "Epoch 20/100\n",
      "1414/1414 [==============================] - 15s 10ms/step - loss: 0.5322 - accuracy: 0.7406 - val_loss: 0.6039 - val_accuracy: 0.6743\n",
      "Epoch 21/100\n",
      "1414/1414 [==============================] - 15s 10ms/step - loss: 0.5308 - accuracy: 0.7411 - val_loss: 0.6002 - val_accuracy: 0.6796\n",
      "Epoch 22/100\n",
      "1414/1414 [==============================] - 15s 10ms/step - loss: 0.5309 - accuracy: 0.7415 - val_loss: 0.5985 - val_accuracy: 0.6827\n",
      "Epoch 23/100\n",
      "1414/1414 [==============================] - 15s 10ms/step - loss: 0.5306 - accuracy: 0.7419 - val_loss: 0.6059 - val_accuracy: 0.6838\n",
      "Epoch 24/100\n",
      "1414/1414 [==============================] - 17s 12ms/step - loss: 0.5300 - accuracy: 0.7421 - val_loss: 0.6013 - val_accuracy: 0.6837\n",
      "Epoch 25/100\n",
      "1414/1414 [==============================] - 17s 12ms/step - loss: 0.5289 - accuracy: 0.7424 - val_loss: 0.5991 - val_accuracy: 0.6842\n",
      "Epoch 26/100\n",
      "1414/1414 [==============================] - 15s 11ms/step - loss: 0.5282 - accuracy: 0.7433 - val_loss: 0.5972 - val_accuracy: 0.6824\n",
      "Epoch 27/100\n",
      "1414/1414 [==============================] - 15s 10ms/step - loss: 0.5290 - accuracy: 0.7431 - val_loss: 0.5924 - val_accuracy: 0.6821\n",
      "Epoch 28/100\n",
      "1414/1414 [==============================] - 15s 10ms/step - loss: 0.5268 - accuracy: 0.7447 - val_loss: 0.5948 - val_accuracy: 0.6821\n",
      "Epoch 29/100\n",
      "1414/1414 [==============================] - 15s 10ms/step - loss: 0.5273 - accuracy: 0.7443 - val_loss: 0.5936 - val_accuracy: 0.6822\n",
      "Epoch 30/100\n",
      "1414/1414 [==============================] - 15s 10ms/step - loss: 0.5265 - accuracy: 0.7454 - val_loss: 0.5897 - val_accuracy: 0.6887\n",
      "Epoch 31/100\n",
      "1414/1414 [==============================] - 15s 10ms/step - loss: 0.5268 - accuracy: 0.7451 - val_loss: 0.5976 - val_accuracy: 0.6853\n",
      "Epoch 32/100\n",
      "1414/1414 [==============================] - 15s 10ms/step - loss: 0.5264 - accuracy: 0.7445 - val_loss: 0.5976 - val_accuracy: 0.6824\n",
      "Epoch 33/100\n",
      "1414/1414 [==============================] - 15s 10ms/step - loss: 0.5259 - accuracy: 0.7454 - val_loss: 0.5900 - val_accuracy: 0.6886\n",
      "Epoch 34/100\n",
      "1414/1414 [==============================] - 15s 10ms/step - loss: 0.5255 - accuracy: 0.7456 - val_loss: 0.5892 - val_accuracy: 0.6860\n",
      "Epoch 35/100\n",
      "1414/1414 [==============================] - 15s 10ms/step - loss: 0.5242 - accuracy: 0.7466 - val_loss: 0.5925 - val_accuracy: 0.6870\n",
      "Epoch 36/100\n",
      "1414/1414 [==============================] - 15s 10ms/step - loss: 0.5235 - accuracy: 0.7468 - val_loss: 0.5814 - val_accuracy: 0.6883\n",
      "Epoch 37/100\n",
      "1414/1414 [==============================] - 15s 10ms/step - loss: 0.5242 - accuracy: 0.7468 - val_loss: 0.6037 - val_accuracy: 0.6819\n",
      "Epoch 38/100\n",
      "1414/1414 [==============================] - 15s 10ms/step - loss: 0.5240 - accuracy: 0.7468 - val_loss: 0.5930 - val_accuracy: 0.6887\n",
      "Epoch 39/100\n",
      "1414/1414 [==============================] - 15s 10ms/step - loss: 0.5235 - accuracy: 0.7465 - val_loss: 0.5888 - val_accuracy: 0.6931\n",
      "Epoch 40/100\n",
      "1414/1414 [==============================] - 15s 10ms/step - loss: 0.5232 - accuracy: 0.7472 - val_loss: 0.5730 - val_accuracy: 0.6971\n",
      "Epoch 41/100\n",
      "1414/1414 [==============================] - 15s 10ms/step - loss: 0.5240 - accuracy: 0.7455 - val_loss: 0.5935 - val_accuracy: 0.6882\n",
      "Epoch 42/100\n",
      "1414/1414 [==============================] - 15s 10ms/step - loss: 0.5231 - accuracy: 0.7466 - val_loss: 0.5881 - val_accuracy: 0.6936\n",
      "Epoch 43/100\n",
      "1414/1414 [==============================] - 15s 10ms/step - loss: 0.5235 - accuracy: 0.7465 - val_loss: 0.5887 - val_accuracy: 0.6897\n",
      "Epoch 44/100\n",
      "1414/1414 [==============================] - 15s 10ms/step - loss: 0.5217 - accuracy: 0.7477 - val_loss: 0.5830 - val_accuracy: 0.6941\n",
      "Epoch 45/100\n",
      "1414/1414 [==============================] - 15s 10ms/step - loss: 0.5223 - accuracy: 0.7483 - val_loss: 0.5837 - val_accuracy: 0.6919\n",
      "Epoch 46/100\n",
      "1414/1414 [==============================] - 15s 10ms/step - loss: 0.5218 - accuracy: 0.7471 - val_loss: 0.5840 - val_accuracy: 0.6936\n",
      "Epoch 47/100\n",
      "1414/1414 [==============================] - 15s 10ms/step - loss: 0.5213 - accuracy: 0.7483 - val_loss: 0.5976 - val_accuracy: 0.6890\n",
      "Epoch 48/100\n",
      "1414/1414 [==============================] - 15s 10ms/step - loss: 0.5211 - accuracy: 0.7481 - val_loss: 0.5857 - val_accuracy: 0.6915\n",
      "Epoch 49/100\n",
      "1414/1414 [==============================] - 15s 10ms/step - loss: 0.5212 - accuracy: 0.7478 - val_loss: 0.5785 - val_accuracy: 0.6981\n",
      "Epoch 50/100\n",
      "1414/1414 [==============================] - 15s 10ms/step - loss: 0.5215 - accuracy: 0.7483 - val_loss: 0.5926 - val_accuracy: 0.6851\n",
      "Epoch 51/100\n",
      "1414/1414 [==============================] - 15s 10ms/step - loss: 0.5197 - accuracy: 0.7486 - val_loss: 0.5894 - val_accuracy: 0.6896\n",
      "Epoch 52/100\n",
      "1414/1414 [==============================] - 15s 10ms/step - loss: 0.5207 - accuracy: 0.7487 - val_loss: 0.5890 - val_accuracy: 0.6868\n",
      "Epoch 53/100\n",
      "1414/1414 [==============================] - 15s 10ms/step - loss: 0.5211 - accuracy: 0.7489 - val_loss: 0.5943 - val_accuracy: 0.6900\n",
      "Epoch 54/100\n",
      "1414/1414 [==============================] - 15s 10ms/step - loss: 0.5197 - accuracy: 0.7496 - val_loss: 0.5894 - val_accuracy: 0.6930\n",
      "Epoch 55/100\n",
      "1414/1414 [==============================] - 15s 10ms/step - loss: 0.5204 - accuracy: 0.7485 - val_loss: 0.5842 - val_accuracy: 0.6840\n",
      "Epoch 56/100\n",
      "1414/1414 [==============================] - 15s 10ms/step - loss: 0.5200 - accuracy: 0.7492 - val_loss: 0.5939 - val_accuracy: 0.6898\n",
      "Epoch 57/100\n",
      "1414/1414 [==============================] - 15s 10ms/step - loss: 0.5203 - accuracy: 0.7490 - val_loss: 0.5813 - val_accuracy: 0.6895\n",
      "Epoch 58/100\n",
      "1414/1414 [==============================] - 15s 10ms/step - loss: 0.5199 - accuracy: 0.7489 - val_loss: 0.5958 - val_accuracy: 0.6762\n",
      "Epoch 59/100\n",
      "1414/1414 [==============================] - 15s 10ms/step - loss: 0.5199 - accuracy: 0.7484 - val_loss: 0.5874 - val_accuracy: 0.6881\n",
      "Epoch 60/100\n",
      "1414/1414 [==============================] - 15s 10ms/step - loss: 0.5198 - accuracy: 0.7486 - val_loss: 0.5938 - val_accuracy: 0.6818\n",
      "Epoch 61/100\n",
      "1414/1414 [==============================] - 15s 10ms/step - loss: 0.5195 - accuracy: 0.7494 - val_loss: 0.5850 - val_accuracy: 0.6922\n",
      "Epoch 62/100\n",
      "1414/1414 [==============================] - 15s 10ms/step - loss: 0.5189 - accuracy: 0.7494 - val_loss: 0.5872 - val_accuracy: 0.6879\n",
      "Epoch 63/100\n",
      "1414/1414 [==============================] - 15s 10ms/step - loss: 0.5190 - accuracy: 0.7488 - val_loss: 0.5881 - val_accuracy: 0.6893\n",
      "Epoch 64/100\n",
      "1414/1414 [==============================] - 15s 10ms/step - loss: 0.5193 - accuracy: 0.7498 - val_loss: 0.5862 - val_accuracy: 0.6862\n",
      "Epoch 65/100\n",
      "1414/1414 [==============================] - 15s 10ms/step - loss: 0.5185 - accuracy: 0.7498 - val_loss: 0.5856 - val_accuracy: 0.6903\n",
      "Epoch 66/100\n",
      "1414/1414 [==============================] - 15s 10ms/step - loss: 0.5185 - accuracy: 0.7489 - val_loss: 0.5932 - val_accuracy: 0.6860\n",
      "Epoch 67/100\n",
      "1414/1414 [==============================] - 15s 10ms/step - loss: 0.5187 - accuracy: 0.7496 - val_loss: 0.5792 - val_accuracy: 0.6889\n",
      "Epoch 68/100\n",
      "1414/1414 [==============================] - 15s 10ms/step - loss: 0.5171 - accuracy: 0.7513 - val_loss: 0.5953 - val_accuracy: 0.6796\n",
      "Epoch 69/100\n",
      "1414/1414 [==============================] - 15s 10ms/step - loss: 0.5180 - accuracy: 0.7507 - val_loss: 0.5838 - val_accuracy: 0.6885\n",
      "Epoch 70/100\n",
      "1414/1414 [==============================] - 15s 10ms/step - loss: 0.5173 - accuracy: 0.7508 - val_loss: 0.5831 - val_accuracy: 0.6914\n",
      "Epoch 71/100\n",
      "1414/1414 [==============================] - 15s 10ms/step - loss: 0.5182 - accuracy: 0.7506 - val_loss: 0.5766 - val_accuracy: 0.6934\n",
      "Epoch 72/100\n",
      "1414/1414 [==============================] - 15s 10ms/step - loss: 0.5170 - accuracy: 0.7508 - val_loss: 0.5759 - val_accuracy: 0.6949\n",
      "Epoch 73/100\n",
      "1414/1414 [==============================] - 15s 10ms/step - loss: 0.5180 - accuracy: 0.7504 - val_loss: 0.5838 - val_accuracy: 0.6916\n",
      "Epoch 74/100\n",
      "1414/1414 [==============================] - 15s 10ms/step - loss: 0.5177 - accuracy: 0.7506 - val_loss: 0.5856 - val_accuracy: 0.6888\n",
      "Epoch 75/100\n",
      "1414/1414 [==============================] - 15s 10ms/step - loss: 0.5176 - accuracy: 0.7510 - val_loss: 0.5755 - val_accuracy: 0.6976\n",
      "Epoch 76/100\n",
      "1414/1414 [==============================] - 15s 10ms/step - loss: 0.5174 - accuracy: 0.7517 - val_loss: 0.5794 - val_accuracy: 0.6939\n",
      "Epoch 77/100\n",
      "1414/1414 [==============================] - 15s 10ms/step - loss: 0.5172 - accuracy: 0.7510 - val_loss: 0.5783 - val_accuracy: 0.6969\n",
      "Epoch 78/100\n",
      "1414/1414 [==============================] - 15s 10ms/step - loss: 0.5169 - accuracy: 0.7513 - val_loss: 0.5738 - val_accuracy: 0.7021\n",
      "Epoch 79/100\n",
      "1414/1414 [==============================] - 15s 10ms/step - loss: 0.5163 - accuracy: 0.7518 - val_loss: 0.5842 - val_accuracy: 0.6950\n",
      "Epoch 80/100\n",
      "1414/1414 [==============================] - 15s 10ms/step - loss: 0.5175 - accuracy: 0.7507 - val_loss: 0.5885 - val_accuracy: 0.6845\n",
      "Epoch 81/100\n",
      "1414/1414 [==============================] - 15s 10ms/step - loss: 0.5165 - accuracy: 0.7507 - val_loss: 0.5789 - val_accuracy: 0.6942\n",
      "Epoch 82/100\n",
      "1414/1414 [==============================] - 15s 10ms/step - loss: 0.5162 - accuracy: 0.7516 - val_loss: 0.5803 - val_accuracy: 0.6932\n",
      "Epoch 83/100\n",
      "1414/1414 [==============================] - 15s 10ms/step - loss: 0.5165 - accuracy: 0.7507 - val_loss: 0.5852 - val_accuracy: 0.6919\n",
      "Epoch 84/100\n",
      "1414/1414 [==============================] - 15s 10ms/step - loss: 0.5167 - accuracy: 0.7514 - val_loss: 0.5867 - val_accuracy: 0.6883\n",
      "Epoch 85/100\n",
      "1414/1414 [==============================] - 15s 10ms/step - loss: 0.5171 - accuracy: 0.7509 - val_loss: 0.5773 - val_accuracy: 0.6947\n",
      "Epoch 86/100\n",
      "1414/1414 [==============================] - 15s 10ms/step - loss: 0.5160 - accuracy: 0.7514 - val_loss: 0.5813 - val_accuracy: 0.6956\n",
      "Epoch 87/100\n",
      "1414/1414 [==============================] - 15s 10ms/step - loss: 0.5162 - accuracy: 0.7517 - val_loss: 0.5777 - val_accuracy: 0.6916\n",
      "Epoch 88/100\n",
      "1414/1414 [==============================] - 15s 10ms/step - loss: 0.5155 - accuracy: 0.7517 - val_loss: 0.5809 - val_accuracy: 0.6941\n",
      "Epoch 89/100\n",
      "1414/1414 [==============================] - 15s 10ms/step - loss: 0.5155 - accuracy: 0.7521 - val_loss: 0.5804 - val_accuracy: 0.6931\n",
      "Epoch 90/100\n",
      "1414/1414 [==============================] - 15s 10ms/step - loss: 0.5150 - accuracy: 0.7524 - val_loss: 0.5751 - val_accuracy: 0.6936\n",
      "Epoch 91/100\n",
      "1414/1414 [==============================] - 15s 10ms/step - loss: 0.5157 - accuracy: 0.7517 - val_loss: 0.5760 - val_accuracy: 0.7019\n",
      "Epoch 92/100\n",
      "1414/1414 [==============================] - 15s 10ms/step - loss: 0.5160 - accuracy: 0.7516 - val_loss: 0.5864 - val_accuracy: 0.6905\n",
      "Epoch 93/100\n",
      "1414/1414 [==============================] - 15s 10ms/step - loss: 0.5155 - accuracy: 0.7519 - val_loss: 0.5761 - val_accuracy: 0.6923\n",
      "Epoch 94/100\n",
      "1414/1414 [==============================] - 15s 10ms/step - loss: 0.5157 - accuracy: 0.7520 - val_loss: 0.5696 - val_accuracy: 0.7025\n",
      "Epoch 95/100\n",
      "1414/1414 [==============================] - 15s 11ms/step - loss: 0.5154 - accuracy: 0.7519 - val_loss: 0.5710 - val_accuracy: 0.7062\n",
      "Epoch 96/100\n",
      "1414/1414 [==============================] - 15s 10ms/step - loss: 0.5153 - accuracy: 0.7522 - val_loss: 0.5768 - val_accuracy: 0.6951\n",
      "Epoch 97/100\n",
      "1414/1414 [==============================] - 15s 10ms/step - loss: 0.5155 - accuracy: 0.7521 - val_loss: 0.5633 - val_accuracy: 0.7082\n",
      "Epoch 98/100\n",
      "1414/1414 [==============================] - 15s 10ms/step - loss: 0.5150 - accuracy: 0.7521 - val_loss: 0.5738 - val_accuracy: 0.7017\n",
      "Epoch 99/100\n",
      "1414/1414 [==============================] - 15s 10ms/step - loss: 0.5150 - accuracy: 0.7525 - val_loss: 0.5778 - val_accuracy: 0.6962\n",
      "Epoch 100/100\n",
      "1414/1414 [==============================] - 15s 10ms/step - loss: 0.5145 - accuracy: 0.7522 - val_loss: 0.5784 - val_accuracy: 0.6912\n"
     ]
    }
   ],
   "source": [
    "history = nn3.fit(X_train_transform, y_train, epochs=100, batch_size=256, validation_data=(X_val_transform, y_val))"
   ]
  },
  {
   "cell_type": "code",
   "execution_count": 26,
   "id": "seeing-reminder",
   "metadata": {},
   "outputs": [
    {
     "name": "stdout",
     "output_type": "stream",
     "text": [
      "Predict on train...\n",
      "Predict on test...\n",
      "Apply softmax to get probabilities from logits...\n",
      "Compute losses...\n"
     ]
    }
   ],
   "source": [
    "print('Predict on train...')\n",
    "logits_train = nn3.predict(X_train_transform)\n",
    "\n",
    "print('Predict on test...')\n",
    "logits_test = nn3.predict(X_test_transform)\n",
    "\n",
    "print('Apply softmax to get probabilities from logits...')\n",
    "prob_train = special.softmax(logits_train, axis=1)\n",
    "prob_test = special.softmax(logits_test, axis=1)\n",
    "\n",
    "print('Compute losses...')\n",
    "cce = tf.keras.backend.categorical_crossentropy\n",
    "constant = tf.keras.backend.constant\n",
    "\n",
    "y_train_2 = np.array(y_train, dtype=np.float32) \n",
    "y_test_2 = np.array(y_test, dtype=np.float32) \n",
    "\n",
    "y_train_2 = y_train_2.flatten()\n",
    "y_test_2 = y_test_2.flatten()\n",
    "\n",
    "y_train_onehot_2 = to_categorical(y_train_2)\n",
    "y_test_onehot_2 = to_categorical(y_test_2)\n",
    "\n",
    "\n",
    "loss_train = cce(constant(y_train_onehot_2), constant(prob_train), from_logits=False).numpy()\n",
    "loss_test = cce(constant(y_test_onehot_2), constant(prob_test), from_logits=False).numpy()"
   ]
  },
  {
   "cell_type": "code",
   "execution_count": 27,
   "id": "empty-experience",
   "metadata": {},
   "outputs": [],
   "source": [
    "# define what variables our attacker should have access to\n",
    "attack_input = AttackInputData(\n",
    "  logits_train = logits_train,\n",
    "  logits_test = logits_test,\n",
    "  loss_train = loss_train,\n",
    "  loss_test = loss_test,\n",
    "  labels_train = y_train_2.astype(np.int8),\n",
    "  labels_test = y_test_2.astype(np.int8)\n",
    ")"
   ]
  },
  {
   "cell_type": "code",
   "execution_count": 28,
   "id": "metropolitan-microphone",
   "metadata": {},
   "outputs": [],
   "source": [
    "# how should the data be sliced\n",
    "slicing_spec = SlicingSpec(\n",
    "    entire_dataset = True,\n",
    "    by_class = True,\n",
    "    by_percentiles = False,\n",
    "    by_classification_correctness = True)"
   ]
  },
  {
   "cell_type": "code",
   "execution_count": 29,
   "id": "attempted-deadline",
   "metadata": {},
   "outputs": [],
   "source": [
    "# run the attack\n",
    "attacks_result = mia.run_attacks(attack_input=attack_input,\n",
    "                                 slicing_spec=slicing_spec,\n",
    "                                 attack_types=attack_types)"
   ]
  },
  {
   "cell_type": "code",
   "execution_count": 30,
   "id": "serial-trader",
   "metadata": {},
   "outputs": [
    {
     "name": "stdout",
     "output_type": "stream",
     "text": [
      "Best-performing attacks over all slices\n",
      "  LOGISTIC_REGRESSION (with 42518 training and 42518 test examples) achieved an AUC of 0.74 on slice CORRECTLY_CLASSIFIED=True\n",
      "  LOGISTIC_REGRESSION (with 42518 training and 42518 test examples) achieved an advantage of 0.47 on slice CORRECTLY_CLASSIFIED=True\n",
      "\n",
      "Best-performing attacks over slice: \"Entire dataset\"\n",
      "  LOGISTIC_REGRESSION (with 61503 training and 61503 test examples) achieved an AUC of 0.66\n",
      "  LOGISTIC_REGRESSION (with 61503 training and 61503 test examples) achieved an advantage of 0.35\n",
      "\n",
      "Best-performing attacks over slice: \"CLASS=0\"\n",
      "  LOGISTIC_REGRESSION (with 56554 training and 56554 test examples) achieved an AUC of 0.50\n",
      "  LOGISTIC_REGRESSION (with 56554 training and 56554 test examples) achieved an advantage of 0.01\n",
      "\n",
      "Best-performing attacks over slice: \"CLASS=1\"\n",
      "  THRESHOLD_ATTACK (with 180972 training and 4949 test examples) achieved an AUC of 0.70\n",
      "  THRESHOLD_ATTACK (with 180972 training and 4949 test examples) achieved an advantage of 0.28\n",
      "\n",
      "Best-performing attacks over slice: \"CORRECTLY_CLASSIFIED=True\"\n",
      "  LOGISTIC_REGRESSION (with 42518 training and 42518 test examples) achieved an AUC of 0.74\n",
      "  LOGISTIC_REGRESSION (with 42518 training and 42518 test examples) achieved an advantage of 0.47\n",
      "\n",
      "Best-performing attacks over slice: \"CORRECTLY_CLASSIFIED=False\"\n",
      "  LOGISTIC_REGRESSION (with 18985 training and 18985 test examples) achieved an AUC of 0.62\n",
      "  LOGISTIC_REGRESSION (with 18985 training and 18985 test examples) achieved an advantage of 0.22\n"
     ]
    }
   ],
   "source": [
    "print(attacks_result.summary(by_slices=True))"
   ]
  },
  {
   "cell_type": "code",
   "execution_count": 31,
   "id": "mobile-lawsuit",
   "metadata": {},
   "outputs": [
    {
     "name": "stdout",
     "output_type": "stream",
     "text": [
      "Figure(432x288)\n"
     ]
    },
    {
     "data": {
      "image/png": "[encoded data removed]",
      "text/plain": [
       "<Figure size 432x288 with 1 Axes>"
      ]
     },
     "metadata": {
      "needs_background": "light"
     },
     "output_type": "display_data"
    }
   ],
   "source": [
    "print(plotting.plot_roc_curve(attacks_result.get_result_with_max_auc().roc_curve))"
   ]
  },
  {
   "cell_type": "code",
   "execution_count": null,
   "id": "regulation-holmes",
   "metadata": {},
   "outputs": [],
   "source": []
  }
 ],
 "metadata": {
  "kernelspec": {
   "display_name": "Pets_ALL",
   "language": "python",
   "name": "pets_all"
  },
  "language_info": {
   "codemirror_mode": {
    "name": "ipython",
    "version": 3
   },
   "file_extension": ".py",
   "mimetype": "text/x-python",
   "name": "python",
   "nbconvert_exporter": "python",
   "pygments_lexer": "ipython3",
   "version": "3.8.0"
  }
 },
 "nbformat": 4,
 "nbformat_minor": 5
}
